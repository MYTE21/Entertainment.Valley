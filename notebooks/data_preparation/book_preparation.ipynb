{
 "cells": [
  {
   "cell_type": "markdown",
   "source": [
    "# Book Dataset Preparation"
   ],
   "metadata": {
    "collapsed": false
   },
   "id": "5c59e11b130e975c"
  },
  {
   "cell_type": "markdown",
   "source": [
    "# Setting Up Necessary Things"
   ],
   "metadata": {
    "collapsed": false
   },
   "id": "c7388ecfcb3c08be"
  },
  {
   "cell_type": "code",
   "execution_count": 1,
   "id": "initial_id",
   "metadata": {
    "collapsed": true,
    "ExecuteTime": {
     "end_time": "2023-09-09T13:22:19.775635200Z",
     "start_time": "2023-09-09T13:22:19.237879600Z"
    }
   },
   "outputs": [],
   "source": [
    "# Jupyter Notebook Magic Command - Auto Reloading\n",
    "%reload_ext autoreload\n",
    "%autoreload 2\n",
    "\n",
    "# Jupyter Notebook Magic Command - Inline Plotting\n",
    "%matplotlib inline"
   ]
  },
  {
   "cell_type": "code",
   "execution_count": 2,
   "outputs": [],
   "source": [
    "# Ignore All Warnings\n",
    "import warnings\n",
    "warnings.filterwarnings(\"ignore\")"
   ],
   "metadata": {
    "collapsed": false,
    "ExecuteTime": {
     "end_time": "2023-09-09T13:22:22.253427900Z",
     "start_time": "2023-09-09T13:22:22.170030800Z"
    }
   },
   "id": "4d3e3e45231bf347"
  },
  {
   "cell_type": "markdown",
   "source": [
    "# Necessary Imports"
   ],
   "metadata": {
    "collapsed": false
   },
   "id": "4e3e2ed5324d1fb2"
  },
  {
   "cell_type": "code",
   "execution_count": 3,
   "outputs": [],
   "source": [
    "# Data\n",
    "import pandas as pd\n",
    "\n",
    "# Custom \n",
    "import preparation as ppt"
   ],
   "metadata": {
    "collapsed": false,
    "ExecuteTime": {
     "end_time": "2023-09-09T13:22:38.102678200Z",
     "start_time": "2023-09-09T13:22:37.627427900Z"
    }
   },
   "id": "cc8fe4b00e6ea716"
  },
  {
   "cell_type": "markdown",
   "source": [
    "# Data Cleaning"
   ],
   "metadata": {
    "collapsed": false
   },
   "id": "ce96027c1f59e1ce"
  },
  {
   "cell_type": "code",
   "execution_count": 5,
   "outputs": [],
   "source": [
    "# Path\n",
    "file_path = \"../../data/raw/book/book.csv\""
   ],
   "metadata": {
    "collapsed": false,
    "ExecuteTime": {
     "end_time": "2023-09-09T13:23:19.046947500Z",
     "start_time": "2023-09-09T13:23:18.938131600Z"
    }
   },
   "id": "625c5d42e2e00092"
  },
  {
   "cell_type": "code",
   "execution_count": 6,
   "outputs": [
    {
     "data": {
      "text/plain": "                                        book_authors  \\\n0                                    Suzanne Collins   \n1                         J.K. Rowling|Mary GrandPré   \n2                                         Harper Lee   \n3  Jane Austen|Anna Quindlen|Mrs. Oliphant|George...   \n4                                    Stephenie Meyer   \n\n                                           book_desc  \\\n0  Winning will make you famous. Losing means cer...   \n1  There is a door at the end of a silent corrido...   \n2  The unforgettable novel of a childhood in a sl...   \n3  «È cosa ormai risaputa che a uno scapolo in po...   \n4  About three things I was absolutely positive.F...   \n\n                         book_edition book_format    book_isbn book_pages  \\\n0                                 NaN   Hardcover  9.78044E+12  374 pages   \n1                          US Edition   Paperback  9.78044E+12  870 pages   \n2                    50th Anniversary   Paperback  9.78006E+12  324 pages   \n3  Modern Library Classics, USA / CAN   Paperback  9.78068E+12  279 pages   \n4                                 NaN   Paperback  9.78032E+12  498 pages   \n\n   book_rating  book_rating_count  book_review_count  \\\n0         4.33            5519135             160706   \n1         4.48            2041594              33264   \n2         4.27            3745197              79450   \n3         4.25            2453620              54322   \n4         3.58            4281268              97991   \n\n                                  book_title  \\\n0                           The Hunger Games   \n1  Harry Potter and the Order of the Phoenix   \n2                      To Kill a Mockingbird   \n3                        Pride and Prejudice   \n4                                   Twilight   \n\n                                              genres  \\\n0  Young Adult|Fiction|Science Fiction|Dystopia|F...   \n1                        Fantasy|Young Adult|Fiction   \n2  Classics|Fiction|Historical|Historical Fiction...   \n3                           Classics|Fiction|Romance   \n4  Young Adult|Fantasy|Romance|Paranormal|Vampire...   \n\n                                           image_url  \n0  https://images.gr-assets.com/books/1447303603l...  \n1  https://images.gr-assets.com/books/1255614970l...  \n2  https://images.gr-assets.com/books/1361975680l...  \n3  https://images.gr-assets.com/books/1320399351l...  \n4  https://images.gr-assets.com/books/1361039443l...  ",
      "text/html": "<div>\n<style scoped>\n    .dataframe tbody tr th:only-of-type {\n        vertical-align: middle;\n    }\n\n    .dataframe tbody tr th {\n        vertical-align: top;\n    }\n\n    .dataframe thead th {\n        text-align: right;\n    }\n</style>\n<table border=\"1\" class=\"dataframe\">\n  <thead>\n    <tr style=\"text-align: right;\">\n      <th></th>\n      <th>book_authors</th>\n      <th>book_desc</th>\n      <th>book_edition</th>\n      <th>book_format</th>\n      <th>book_isbn</th>\n      <th>book_pages</th>\n      <th>book_rating</th>\n      <th>book_rating_count</th>\n      <th>book_review_count</th>\n      <th>book_title</th>\n      <th>genres</th>\n      <th>image_url</th>\n    </tr>\n  </thead>\n  <tbody>\n    <tr>\n      <th>0</th>\n      <td>Suzanne Collins</td>\n      <td>Winning will make you famous. Losing means cer...</td>\n      <td>NaN</td>\n      <td>Hardcover</td>\n      <td>9.78044E+12</td>\n      <td>374 pages</td>\n      <td>4.33</td>\n      <td>5519135</td>\n      <td>160706</td>\n      <td>The Hunger Games</td>\n      <td>Young Adult|Fiction|Science Fiction|Dystopia|F...</td>\n      <td>https://images.gr-assets.com/books/1447303603l...</td>\n    </tr>\n    <tr>\n      <th>1</th>\n      <td>J.K. Rowling|Mary GrandPré</td>\n      <td>There is a door at the end of a silent corrido...</td>\n      <td>US Edition</td>\n      <td>Paperback</td>\n      <td>9.78044E+12</td>\n      <td>870 pages</td>\n      <td>4.48</td>\n      <td>2041594</td>\n      <td>33264</td>\n      <td>Harry Potter and the Order of the Phoenix</td>\n      <td>Fantasy|Young Adult|Fiction</td>\n      <td>https://images.gr-assets.com/books/1255614970l...</td>\n    </tr>\n    <tr>\n      <th>2</th>\n      <td>Harper Lee</td>\n      <td>The unforgettable novel of a childhood in a sl...</td>\n      <td>50th Anniversary</td>\n      <td>Paperback</td>\n      <td>9.78006E+12</td>\n      <td>324 pages</td>\n      <td>4.27</td>\n      <td>3745197</td>\n      <td>79450</td>\n      <td>To Kill a Mockingbird</td>\n      <td>Classics|Fiction|Historical|Historical Fiction...</td>\n      <td>https://images.gr-assets.com/books/1361975680l...</td>\n    </tr>\n    <tr>\n      <th>3</th>\n      <td>Jane Austen|Anna Quindlen|Mrs. Oliphant|George...</td>\n      <td>«È cosa ormai risaputa che a uno scapolo in po...</td>\n      <td>Modern Library Classics, USA / CAN</td>\n      <td>Paperback</td>\n      <td>9.78068E+12</td>\n      <td>279 pages</td>\n      <td>4.25</td>\n      <td>2453620</td>\n      <td>54322</td>\n      <td>Pride and Prejudice</td>\n      <td>Classics|Fiction|Romance</td>\n      <td>https://images.gr-assets.com/books/1320399351l...</td>\n    </tr>\n    <tr>\n      <th>4</th>\n      <td>Stephenie Meyer</td>\n      <td>About three things I was absolutely positive.F...</td>\n      <td>NaN</td>\n      <td>Paperback</td>\n      <td>9.78032E+12</td>\n      <td>498 pages</td>\n      <td>3.58</td>\n      <td>4281268</td>\n      <td>97991</td>\n      <td>Twilight</td>\n      <td>Young Adult|Fantasy|Romance|Paranormal|Vampire...</td>\n      <td>https://images.gr-assets.com/books/1361039443l...</td>\n    </tr>\n  </tbody>\n</table>\n</div>"
     },
     "execution_count": 6,
     "metadata": {},
     "output_type": "execute_result"
    }
   ],
   "source": [
    "# Show Anime DataFrame\n",
    "df = pd.read_csv(file_path)\n",
    "df.head()"
   ],
   "metadata": {
    "collapsed": false,
    "ExecuteTime": {
     "end_time": "2023-09-09T13:23:21.069642800Z",
     "start_time": "2023-09-09T13:23:19.731712500Z"
    }
   },
   "id": "77c58c300aaa77b8"
  },
  {
   "cell_type": "markdown",
   "source": [
    "## Reform DataFrame"
   ],
   "metadata": {
    "collapsed": false
   },
   "id": "a3a991162b5c3a01"
  },
  {
   "cell_type": "code",
   "execution_count": 13,
   "outputs": [
    {
     "data": {
      "text/plain": "'Young Adult, Fiction, Science Fiction, Dystopia, Fantasy, Science Fiction'"
     },
     "execution_count": 13,
     "metadata": {},
     "output_type": "execute_result"
    }
   ],
   "source": [
    "df[\"genres\"][0].strip().replace(\"|\", \", \")"
   ],
   "metadata": {
    "collapsed": false,
    "ExecuteTime": {
     "end_time": "2023-09-09T13:31:27.255339700Z",
     "start_time": "2023-09-09T13:31:27.154954300Z"
    }
   },
   "id": "8afd3e2824b50303"
  },
  {
   "cell_type": "code",
   "execution_count": 28,
   "outputs": [],
   "source": [
    "# Reform Genres\n",
    "genres_list = []\n",
    "\n",
    "for i in range(df.shape[0]):\n",
    "    try:\n",
    "        genres = df[\"genres\"][i].strip().replace(\"|\", \", \")\n",
    "        genres_list.append(genres)\n",
    "    except:\n",
    "        genres_list.append(\"\")"
   ],
   "metadata": {
    "collapsed": false,
    "ExecuteTime": {
     "end_time": "2023-09-09T13:40:04.635044300Z",
     "start_time": "2023-09-09T13:40:04.204734700Z"
    }
   },
   "id": "693d33a40924c792"
  },
  {
   "cell_type": "code",
   "execution_count": 29,
   "outputs": [
    {
     "data": {
      "text/plain": "['Young Adult, Fiction, Science Fiction, Dystopia, Fantasy, Science Fiction',\n 'Fantasy, Young Adult, Fiction',\n 'Classics, Fiction, Historical, Historical Fiction, Academic, School',\n 'Classics, Fiction, Romance',\n 'Young Adult, Fantasy, Romance, Paranormal, Vampires, Fiction, Fantasy, Paranormal']"
     },
     "execution_count": 29,
     "metadata": {},
     "output_type": "execute_result"
    }
   ],
   "source": [
    "genres_list[:5]"
   ],
   "metadata": {
    "collapsed": false,
    "ExecuteTime": {
     "end_time": "2023-09-09T13:40:05.458991500Z",
     "start_time": "2023-09-09T13:40:05.382899600Z"
    }
   },
   "id": "97f38ce09078c8b9"
  },
  {
   "cell_type": "code",
   "execution_count": 30,
   "outputs": [],
   "source": [
    "df[\"genres\"] = genres_list"
   ],
   "metadata": {
    "collapsed": false,
    "ExecuteTime": {
     "end_time": "2023-09-09T13:41:18.264664500Z",
     "start_time": "2023-09-09T13:41:18.164837500Z"
    }
   },
   "id": "f7e6f3c8e4006259"
  },
  {
   "cell_type": "code",
   "execution_count": 32,
   "outputs": [
    {
     "name": "stdout",
     "output_type": "stream",
     "text": [
      "Dataframe saved successfully:  ../../data/raw/book/book_reform.csv\n"
     ]
    }
   ],
   "source": [
    "book_reform_path = \"../../data/raw/book/book_reform.csv\"\n",
    "\n",
    "ppt.write_dataframe_to_csv(book_reform_path, df)"
   ],
   "metadata": {
    "collapsed": false,
    "ExecuteTime": {
     "end_time": "2023-09-09T13:48:30.055864Z",
     "start_time": "2023-09-09T13:48:26.859131700Z"
    }
   },
   "id": "9803724f2cc610ce"
  },
  {
   "cell_type": "markdown",
   "source": [
    "## Refactoring"
   ],
   "metadata": {
    "collapsed": false
   },
   "id": "546e494c3670889b"
  },
  {
   "cell_type": "code",
   "execution_count": 35,
   "outputs": [],
   "source": [
    "# Path\n",
    "file_path = \"../../data/raw/book/book_reform.csv\""
   ],
   "metadata": {
    "collapsed": false,
    "ExecuteTime": {
     "end_time": "2023-09-09T13:52:26.228795600Z",
     "start_time": "2023-09-09T13:52:26.151190Z"
    }
   },
   "id": "6132044230998c40"
  },
  {
   "cell_type": "code",
   "execution_count": 36,
   "outputs": [],
   "source": [
    "# Column Names\n",
    "cols_name = [\"book_title\", \"book_desc\", \"genres\", \"book_rating\"]"
   ],
   "metadata": {
    "collapsed": false,
    "ExecuteTime": {
     "end_time": "2023-09-09T13:52:27.234119700Z",
     "start_time": "2023-09-09T13:52:27.154081700Z"
    }
   },
   "id": "692545227c314588"
  },
  {
   "cell_type": "code",
   "execution_count": 37,
   "outputs": [],
   "source": [
    "df_book = ppt.get_processed_df(file_path, cols_name, \"book\")"
   ],
   "metadata": {
    "collapsed": false,
    "ExecuteTime": {
     "end_time": "2023-09-09T13:52:38.390125100Z",
     "start_time": "2023-09-09T13:52:36.539971900Z"
    }
   },
   "id": "3062d910689553b0"
  },
  {
   "cell_type": "code",
   "execution_count": 38,
   "outputs": [
    {
     "name": "stdout",
     "output_type": "stream",
     "text": [
      "Shape of the dataframe:  (44129, 6)\n",
      "The DataFrame: \n"
     ]
    },
    {
     "data": {
      "text/plain": "                                       title  \\\n0                           The Hunger Games   \n1  Harry Potter and the Order of the Phoenix   \n2                      To Kill a Mockingbird   \n3                        Pride and Prejudice   \n4                                   Twilight   \n\n                                         description  \\\n0  Winning will make you famous. Losing means cer...   \n1  There is a door at the end of a silent corrido...   \n2  The unforgettable novel of a childhood in a sl...   \n3  «È cosa ormai risaputa che a uno scapolo in po...   \n4  About three things I was absolutely positive.F...   \n\n                                              genres  rating primary_genre  \\\n0  Young Adult, Fiction, Science Fiction, Dystopi...    4.33   Young Adult   \n1                      Fantasy, Young Adult, Fiction    4.48       Fantasy   \n2  Classics, Fiction, Historical, Historical Fict...    4.27      Classics   \n3                         Classics, Fiction, Romance    4.25      Classics   \n4  Young Adult, Fantasy, Romance, Paranormal, Vam...    3.58   Young Adult   \n\n   type  \n0  book  \n1  book  \n2  book  \n3  book  \n4  book  ",
      "text/html": "<div>\n<style scoped>\n    .dataframe tbody tr th:only-of-type {\n        vertical-align: middle;\n    }\n\n    .dataframe tbody tr th {\n        vertical-align: top;\n    }\n\n    .dataframe thead th {\n        text-align: right;\n    }\n</style>\n<table border=\"1\" class=\"dataframe\">\n  <thead>\n    <tr style=\"text-align: right;\">\n      <th></th>\n      <th>title</th>\n      <th>description</th>\n      <th>genres</th>\n      <th>rating</th>\n      <th>primary_genre</th>\n      <th>type</th>\n    </tr>\n  </thead>\n  <tbody>\n    <tr>\n      <th>0</th>\n      <td>The Hunger Games</td>\n      <td>Winning will make you famous. Losing means cer...</td>\n      <td>Young Adult, Fiction, Science Fiction, Dystopi...</td>\n      <td>4.33</td>\n      <td>Young Adult</td>\n      <td>book</td>\n    </tr>\n    <tr>\n      <th>1</th>\n      <td>Harry Potter and the Order of the Phoenix</td>\n      <td>There is a door at the end of a silent corrido...</td>\n      <td>Fantasy, Young Adult, Fiction</td>\n      <td>4.48</td>\n      <td>Fantasy</td>\n      <td>book</td>\n    </tr>\n    <tr>\n      <th>2</th>\n      <td>To Kill a Mockingbird</td>\n      <td>The unforgettable novel of a childhood in a sl...</td>\n      <td>Classics, Fiction, Historical, Historical Fict...</td>\n      <td>4.27</td>\n      <td>Classics</td>\n      <td>book</td>\n    </tr>\n    <tr>\n      <th>3</th>\n      <td>Pride and Prejudice</td>\n      <td>«È cosa ormai risaputa che a uno scapolo in po...</td>\n      <td>Classics, Fiction, Romance</td>\n      <td>4.25</td>\n      <td>Classics</td>\n      <td>book</td>\n    </tr>\n    <tr>\n      <th>4</th>\n      <td>Twilight</td>\n      <td>About three things I was absolutely positive.F...</td>\n      <td>Young Adult, Fantasy, Romance, Paranormal, Vam...</td>\n      <td>3.58</td>\n      <td>Young Adult</td>\n      <td>book</td>\n    </tr>\n  </tbody>\n</table>\n</div>"
     },
     "metadata": {},
     "output_type": "display_data"
    },
    {
     "name": "stdout",
     "output_type": "stream",
     "text": [
      "All Data Types: \n"
     ]
    },
    {
     "data": {
      "text/plain": "title             object\ndescription       object\ngenres            object\nrating           float64\nprimary_genre     object\ntype              object\ndtype: object"
     },
     "metadata": {},
     "output_type": "display_data"
    },
    {
     "name": "stdout",
     "output_type": "stream",
     "text": [
      "Null Values:\n"
     ]
    },
    {
     "data": {
      "text/plain": "title            0\ndescription      0\ngenres           0\nrating           0\nprimary_genre    0\ntype             0\ndtype: int64"
     },
     "metadata": {},
     "output_type": "display_data"
    },
    {
     "name": "stdout",
     "output_type": "stream",
     "text": [
      "Duplicate Movie Name Count:  0\n",
      "Duplicate Description Count:  0\n",
      "DataFrame Details:\n"
     ]
    },
    {
     "data": {
      "text/plain": "                   title                                        description  \\\ncount              44129                                              44129   \nunique             44129                                              44129   \ntop     The Hunger Games  Winning will make you famous. Losing means cer...   \nfreq                   1                                                  1   \nmean                 NaN                                                NaN   \nstd                  NaN                                                NaN   \nmin                  NaN                                                NaN   \n25%                  NaN                                                NaN   \n50%                  NaN                                                NaN   \n75%                  NaN                                                NaN   \nmax                  NaN                                                NaN   \n\n         genres        rating primary_genre   type  \ncount     44129  44129.000000         44129  44129  \nunique    28341           NaN           199      1  \ntop     Fiction           NaN       Fantasy   book  \nfreq        202           NaN          6295  44129  \nmean        NaN      4.000158           NaN    NaN  \nstd         NaN      0.300379           NaN    NaN  \nmin         NaN      0.000000           NaN    NaN  \n25%         NaN      3.820000           NaN    NaN  \n50%         NaN      4.010000           NaN    NaN  \n75%         NaN      4.200000           NaN    NaN  \nmax         NaN      5.000000           NaN    NaN  ",
      "text/html": "<div>\n<style scoped>\n    .dataframe tbody tr th:only-of-type {\n        vertical-align: middle;\n    }\n\n    .dataframe tbody tr th {\n        vertical-align: top;\n    }\n\n    .dataframe thead th {\n        text-align: right;\n    }\n</style>\n<table border=\"1\" class=\"dataframe\">\n  <thead>\n    <tr style=\"text-align: right;\">\n      <th></th>\n      <th>title</th>\n      <th>description</th>\n      <th>genres</th>\n      <th>rating</th>\n      <th>primary_genre</th>\n      <th>type</th>\n    </tr>\n  </thead>\n  <tbody>\n    <tr>\n      <th>count</th>\n      <td>44129</td>\n      <td>44129</td>\n      <td>44129</td>\n      <td>44129.000000</td>\n      <td>44129</td>\n      <td>44129</td>\n    </tr>\n    <tr>\n      <th>unique</th>\n      <td>44129</td>\n      <td>44129</td>\n      <td>28341</td>\n      <td>NaN</td>\n      <td>199</td>\n      <td>1</td>\n    </tr>\n    <tr>\n      <th>top</th>\n      <td>The Hunger Games</td>\n      <td>Winning will make you famous. Losing means cer...</td>\n      <td>Fiction</td>\n      <td>NaN</td>\n      <td>Fantasy</td>\n      <td>book</td>\n    </tr>\n    <tr>\n      <th>freq</th>\n      <td>1</td>\n      <td>1</td>\n      <td>202</td>\n      <td>NaN</td>\n      <td>6295</td>\n      <td>44129</td>\n    </tr>\n    <tr>\n      <th>mean</th>\n      <td>NaN</td>\n      <td>NaN</td>\n      <td>NaN</td>\n      <td>4.000158</td>\n      <td>NaN</td>\n      <td>NaN</td>\n    </tr>\n    <tr>\n      <th>std</th>\n      <td>NaN</td>\n      <td>NaN</td>\n      <td>NaN</td>\n      <td>0.300379</td>\n      <td>NaN</td>\n      <td>NaN</td>\n    </tr>\n    <tr>\n      <th>min</th>\n      <td>NaN</td>\n      <td>NaN</td>\n      <td>NaN</td>\n      <td>0.000000</td>\n      <td>NaN</td>\n      <td>NaN</td>\n    </tr>\n    <tr>\n      <th>25%</th>\n      <td>NaN</td>\n      <td>NaN</td>\n      <td>NaN</td>\n      <td>3.820000</td>\n      <td>NaN</td>\n      <td>NaN</td>\n    </tr>\n    <tr>\n      <th>50%</th>\n      <td>NaN</td>\n      <td>NaN</td>\n      <td>NaN</td>\n      <td>4.010000</td>\n      <td>NaN</td>\n      <td>NaN</td>\n    </tr>\n    <tr>\n      <th>75%</th>\n      <td>NaN</td>\n      <td>NaN</td>\n      <td>NaN</td>\n      <td>4.200000</td>\n      <td>NaN</td>\n      <td>NaN</td>\n    </tr>\n    <tr>\n      <th>max</th>\n      <td>NaN</td>\n      <td>NaN</td>\n      <td>NaN</td>\n      <td>5.000000</td>\n      <td>NaN</td>\n      <td>NaN</td>\n    </tr>\n  </tbody>\n</table>\n</div>"
     },
     "metadata": {},
     "output_type": "display_data"
    }
   ],
   "source": [
    "ppt.get_df_info(df_book)"
   ],
   "metadata": {
    "collapsed": false,
    "ExecuteTime": {
     "end_time": "2023-09-09T13:52:50.770754200Z",
     "start_time": "2023-09-09T13:52:50.442204Z"
    }
   },
   "id": "a845ca92a63263b2"
  },
  {
   "cell_type": "code",
   "execution_count": 39,
   "outputs": [],
   "source": [
    "df_book[\"rating\"] = (df_book[\"rating\"] * 2).round(2)"
   ],
   "metadata": {
    "collapsed": false,
    "ExecuteTime": {
     "end_time": "2023-09-09T13:57:34.662860600Z",
     "start_time": "2023-09-09T13:57:34.566110100Z"
    }
   },
   "id": "b2e39313fef74461"
  },
  {
   "cell_type": "code",
   "execution_count": 40,
   "outputs": [
    {
     "name": "stdout",
     "output_type": "stream",
     "text": [
      "Shape of the dataframe:  (44129, 6)\n",
      "The DataFrame: \n"
     ]
    },
    {
     "data": {
      "text/plain": "                                       title  \\\n0                           The Hunger Games   \n1  Harry Potter and the Order of the Phoenix   \n2                      To Kill a Mockingbird   \n3                        Pride and Prejudice   \n4                                   Twilight   \n\n                                         description  \\\n0  Winning will make you famous. Losing means cer...   \n1  There is a door at the end of a silent corrido...   \n2  The unforgettable novel of a childhood in a sl...   \n3  «È cosa ormai risaputa che a uno scapolo in po...   \n4  About three things I was absolutely positive.F...   \n\n                                              genres  rating primary_genre  \\\n0  Young Adult, Fiction, Science Fiction, Dystopi...    8.66   Young Adult   \n1                      Fantasy, Young Adult, Fiction    8.96       Fantasy   \n2  Classics, Fiction, Historical, Historical Fict...    8.54      Classics   \n3                         Classics, Fiction, Romance    8.50      Classics   \n4  Young Adult, Fantasy, Romance, Paranormal, Vam...    7.16   Young Adult   \n\n   type  \n0  book  \n1  book  \n2  book  \n3  book  \n4  book  ",
      "text/html": "<div>\n<style scoped>\n    .dataframe tbody tr th:only-of-type {\n        vertical-align: middle;\n    }\n\n    .dataframe tbody tr th {\n        vertical-align: top;\n    }\n\n    .dataframe thead th {\n        text-align: right;\n    }\n</style>\n<table border=\"1\" class=\"dataframe\">\n  <thead>\n    <tr style=\"text-align: right;\">\n      <th></th>\n      <th>title</th>\n      <th>description</th>\n      <th>genres</th>\n      <th>rating</th>\n      <th>primary_genre</th>\n      <th>type</th>\n    </tr>\n  </thead>\n  <tbody>\n    <tr>\n      <th>0</th>\n      <td>The Hunger Games</td>\n      <td>Winning will make you famous. Losing means cer...</td>\n      <td>Young Adult, Fiction, Science Fiction, Dystopi...</td>\n      <td>8.66</td>\n      <td>Young Adult</td>\n      <td>book</td>\n    </tr>\n    <tr>\n      <th>1</th>\n      <td>Harry Potter and the Order of the Phoenix</td>\n      <td>There is a door at the end of a silent corrido...</td>\n      <td>Fantasy, Young Adult, Fiction</td>\n      <td>8.96</td>\n      <td>Fantasy</td>\n      <td>book</td>\n    </tr>\n    <tr>\n      <th>2</th>\n      <td>To Kill a Mockingbird</td>\n      <td>The unforgettable novel of a childhood in a sl...</td>\n      <td>Classics, Fiction, Historical, Historical Fict...</td>\n      <td>8.54</td>\n      <td>Classics</td>\n      <td>book</td>\n    </tr>\n    <tr>\n      <th>3</th>\n      <td>Pride and Prejudice</td>\n      <td>«È cosa ormai risaputa che a uno scapolo in po...</td>\n      <td>Classics, Fiction, Romance</td>\n      <td>8.50</td>\n      <td>Classics</td>\n      <td>book</td>\n    </tr>\n    <tr>\n      <th>4</th>\n      <td>Twilight</td>\n      <td>About three things I was absolutely positive.F...</td>\n      <td>Young Adult, Fantasy, Romance, Paranormal, Vam...</td>\n      <td>7.16</td>\n      <td>Young Adult</td>\n      <td>book</td>\n    </tr>\n  </tbody>\n</table>\n</div>"
     },
     "metadata": {},
     "output_type": "display_data"
    },
    {
     "name": "stdout",
     "output_type": "stream",
     "text": [
      "All Data Types: \n"
     ]
    },
    {
     "data": {
      "text/plain": "title             object\ndescription       object\ngenres            object\nrating           float64\nprimary_genre     object\ntype              object\ndtype: object"
     },
     "metadata": {},
     "output_type": "display_data"
    },
    {
     "name": "stdout",
     "output_type": "stream",
     "text": [
      "Null Values:\n"
     ]
    },
    {
     "data": {
      "text/plain": "title            0\ndescription      0\ngenres           0\nrating           0\nprimary_genre    0\ntype             0\ndtype: int64"
     },
     "metadata": {},
     "output_type": "display_data"
    },
    {
     "name": "stdout",
     "output_type": "stream",
     "text": [
      "Duplicate Movie Name Count:  0\n",
      "Duplicate Description Count:  0\n",
      "DataFrame Details:\n"
     ]
    },
    {
     "data": {
      "text/plain": "                   title                                        description  \\\ncount              44129                                              44129   \nunique             44129                                              44129   \ntop     The Hunger Games  Winning will make you famous. Losing means cer...   \nfreq                   1                                                  1   \nmean                 NaN                                                NaN   \nstd                  NaN                                                NaN   \nmin                  NaN                                                NaN   \n25%                  NaN                                                NaN   \n50%                  NaN                                                NaN   \n75%                  NaN                                                NaN   \nmax                  NaN                                                NaN   \n\n         genres        rating primary_genre   type  \ncount     44129  44129.000000         44129  44129  \nunique    28341           NaN           199      1  \ntop     Fiction           NaN       Fantasy   book  \nfreq        202           NaN          6295  44129  \nmean        NaN      8.000316           NaN    NaN  \nstd         NaN      0.600758           NaN    NaN  \nmin         NaN      0.000000           NaN    NaN  \n25%         NaN      7.640000           NaN    NaN  \n50%         NaN      8.020000           NaN    NaN  \n75%         NaN      8.400000           NaN    NaN  \nmax         NaN     10.000000           NaN    NaN  ",
      "text/html": "<div>\n<style scoped>\n    .dataframe tbody tr th:only-of-type {\n        vertical-align: middle;\n    }\n\n    .dataframe tbody tr th {\n        vertical-align: top;\n    }\n\n    .dataframe thead th {\n        text-align: right;\n    }\n</style>\n<table border=\"1\" class=\"dataframe\">\n  <thead>\n    <tr style=\"text-align: right;\">\n      <th></th>\n      <th>title</th>\n      <th>description</th>\n      <th>genres</th>\n      <th>rating</th>\n      <th>primary_genre</th>\n      <th>type</th>\n    </tr>\n  </thead>\n  <tbody>\n    <tr>\n      <th>count</th>\n      <td>44129</td>\n      <td>44129</td>\n      <td>44129</td>\n      <td>44129.000000</td>\n      <td>44129</td>\n      <td>44129</td>\n    </tr>\n    <tr>\n      <th>unique</th>\n      <td>44129</td>\n      <td>44129</td>\n      <td>28341</td>\n      <td>NaN</td>\n      <td>199</td>\n      <td>1</td>\n    </tr>\n    <tr>\n      <th>top</th>\n      <td>The Hunger Games</td>\n      <td>Winning will make you famous. Losing means cer...</td>\n      <td>Fiction</td>\n      <td>NaN</td>\n      <td>Fantasy</td>\n      <td>book</td>\n    </tr>\n    <tr>\n      <th>freq</th>\n      <td>1</td>\n      <td>1</td>\n      <td>202</td>\n      <td>NaN</td>\n      <td>6295</td>\n      <td>44129</td>\n    </tr>\n    <tr>\n      <th>mean</th>\n      <td>NaN</td>\n      <td>NaN</td>\n      <td>NaN</td>\n      <td>8.000316</td>\n      <td>NaN</td>\n      <td>NaN</td>\n    </tr>\n    <tr>\n      <th>std</th>\n      <td>NaN</td>\n      <td>NaN</td>\n      <td>NaN</td>\n      <td>0.600758</td>\n      <td>NaN</td>\n      <td>NaN</td>\n    </tr>\n    <tr>\n      <th>min</th>\n      <td>NaN</td>\n      <td>NaN</td>\n      <td>NaN</td>\n      <td>0.000000</td>\n      <td>NaN</td>\n      <td>NaN</td>\n    </tr>\n    <tr>\n      <th>25%</th>\n      <td>NaN</td>\n      <td>NaN</td>\n      <td>NaN</td>\n      <td>7.640000</td>\n      <td>NaN</td>\n      <td>NaN</td>\n    </tr>\n    <tr>\n      <th>50%</th>\n      <td>NaN</td>\n      <td>NaN</td>\n      <td>NaN</td>\n      <td>8.020000</td>\n      <td>NaN</td>\n      <td>NaN</td>\n    </tr>\n    <tr>\n      <th>75%</th>\n      <td>NaN</td>\n      <td>NaN</td>\n      <td>NaN</td>\n      <td>8.400000</td>\n      <td>NaN</td>\n      <td>NaN</td>\n    </tr>\n    <tr>\n      <th>max</th>\n      <td>NaN</td>\n      <td>NaN</td>\n      <td>NaN</td>\n      <td>10.000000</td>\n      <td>NaN</td>\n      <td>NaN</td>\n    </tr>\n  </tbody>\n</table>\n</div>"
     },
     "metadata": {},
     "output_type": "display_data"
    }
   ],
   "source": [
    "ppt.get_df_info(df_book)"
   ],
   "metadata": {
    "collapsed": false,
    "ExecuteTime": {
     "end_time": "2023-09-09T13:57:43.426416500Z",
     "start_time": "2023-09-09T13:57:43.096000400Z"
    }
   },
   "id": "d06ac51e620bee99"
  },
  {
   "cell_type": "markdown",
   "source": [
    "# DataFrame to CSV"
   ],
   "metadata": {
    "collapsed": false
   },
   "id": "24247f4cfe6624d3"
  },
  {
   "cell_type": "code",
   "execution_count": 41,
   "outputs": [
    {
     "name": "stdout",
     "output_type": "stream",
     "text": [
      "Dataframe saved successfully:  ../../data/processed/book/book_rating.csv\n"
     ]
    }
   ],
   "source": [
    "book_path = \"../../data/processed/book/book_rating.csv\"\n",
    "\n",
    "ppt.write_dataframe_to_csv(book_path, df_book)"
   ],
   "metadata": {
    "collapsed": false,
    "ExecuteTime": {
     "end_time": "2023-09-09T14:01:08.867930Z",
     "start_time": "2023-09-09T14:01:06.211761400Z"
    }
   },
   "id": "1c597ca2d2604132"
  }
 ],
 "metadata": {
  "kernelspec": {
   "display_name": "Python 3",
   "language": "python",
   "name": "python3"
  },
  "language_info": {
   "codemirror_mode": {
    "name": "ipython",
    "version": 2
   },
   "file_extension": ".py",
   "mimetype": "text/x-python",
   "name": "python",
   "nbconvert_exporter": "python",
   "pygments_lexer": "ipython2",
   "version": "2.7.6"
  }
 },
 "nbformat": 4,
 "nbformat_minor": 5
}
