{
 "cells": [
  {
   "cell_type": "markdown",
   "source": [
    "# Music Dataset Preparation"
   ],
   "metadata": {
    "collapsed": false
   },
   "id": "e65f682fcff4a620"
  },
  {
   "cell_type": "markdown",
   "source": [
    "# Setting Up Necessary Things"
   ],
   "metadata": {
    "collapsed": false
   },
   "id": "ba1aa28bf2ee6a4d"
  },
  {
   "cell_type": "code",
   "execution_count": 1,
   "id": "initial_id",
   "metadata": {
    "collapsed": true,
    "ExecuteTime": {
     "end_time": "2023-09-09T15:59:31.300639200Z",
     "start_time": "2023-09-09T15:59:30.225606400Z"
    }
   },
   "outputs": [],
   "source": [
    "# Jupyter Notebook Magic Command - Auto Reloading\n",
    "%reload_ext autoreload\n",
    "%autoreload 2\n",
    "\n",
    "# Jupyter Notebook Magic Command - Inline Plotting\n",
    "%matplotlib inline"
   ]
  },
  {
   "cell_type": "code",
   "execution_count": 2,
   "outputs": [],
   "source": [
    "# Ignore All Warnings\n",
    "import warnings\n",
    "warnings.filterwarnings(\"ignore\")"
   ],
   "metadata": {
    "collapsed": false,
    "ExecuteTime": {
     "end_time": "2023-09-09T15:59:31.369969500Z",
     "start_time": "2023-09-09T15:59:31.297646300Z"
    }
   },
   "id": "82b9bcb3d05aefc2"
  },
  {
   "cell_type": "markdown",
   "source": [
    "# Necessary Imports"
   ],
   "metadata": {
    "collapsed": false
   },
   "id": "638912ee0a755b78"
  },
  {
   "cell_type": "code",
   "execution_count": 19,
   "outputs": [],
   "source": [
    "from tqdm.notebook import tqdm\n",
    "# Data\n",
    "import pandas as pd\n",
    "\n",
    "# String\n",
    "import re\n",
    "\n",
    "# Custom \n",
    "import preparation as ppt"
   ],
   "metadata": {
    "collapsed": false,
    "ExecuteTime": {
     "end_time": "2023-09-09T16:19:42.169652Z",
     "start_time": "2023-09-09T16:19:41.945797600Z"
    }
   },
   "id": "1159f0e0f582d933"
  },
  {
   "cell_type": "markdown",
   "source": [
    "# Data Cleaning"
   ],
   "metadata": {
    "collapsed": false
   },
   "id": "36d0bb187101aefc"
  },
  {
   "cell_type": "code",
   "execution_count": 4,
   "outputs": [],
   "source": [
    "# Path\n",
    "file_path = \"../../data/raw/music/music.csv\""
   ],
   "metadata": {
    "collapsed": false,
    "ExecuteTime": {
     "end_time": "2023-09-09T15:59:32.239013600Z",
     "start_time": "2023-09-09T15:59:32.170308600Z"
    }
   },
   "id": "3363e1e34aa84e3b"
  },
  {
   "cell_type": "code",
   "execution_count": 5,
   "outputs": [
    {
     "data": {
      "text/plain": "               title  tag     artist  year   views  \\\n0          Killa Cam  rap    Cam'ron  2004  173166   \n1         Can I Live  rap      JAY-Z  1996  468624   \n2  Forgive Me Father  rap   Fabolous  2003    4743   \n3       Down and Out  rap    Cam'ron  2004  144404   \n4             Fly In  rap  Lil Wayne  2005   78271   \n\n                                       features  \\\n0                   {\"Cam\\\\'ron\",\"Opera Steve\"}   \n1                                            {}   \n2                                            {}   \n3  {\"Cam\\\\'ron\",\"Kanye West\",\"Syleena Johnson\"}   \n4                                            {}   \n\n                                              lyrics  id language_cld3  \\\n0  [Chorus: Opera Steve & Cam'ron]\\nKilla Cam, Ki...   1            en   \n1  [Produced by Irv Gotti]\\n\\n[Intro]\\nYeah, hah,...   3            en   \n2  Maybe cause I'm eatin\\nAnd these bastards fien...   4            en   \n3  [Produced by Kanye West and Brian Miller]\\n\\n[...   5            en   \n4  [Intro]\\nSo they ask me\\n\"Young boy\\nWhat you ...   6            en   \n\n  language_ft language  \n0          en       en  \n1          en       en  \n2          en       en  \n3          en       en  \n4          en       en  ",
      "text/html": "<div>\n<style scoped>\n    .dataframe tbody tr th:only-of-type {\n        vertical-align: middle;\n    }\n\n    .dataframe tbody tr th {\n        vertical-align: top;\n    }\n\n    .dataframe thead th {\n        text-align: right;\n    }\n</style>\n<table border=\"1\" class=\"dataframe\">\n  <thead>\n    <tr style=\"text-align: right;\">\n      <th></th>\n      <th>title</th>\n      <th>tag</th>\n      <th>artist</th>\n      <th>year</th>\n      <th>views</th>\n      <th>features</th>\n      <th>lyrics</th>\n      <th>id</th>\n      <th>language_cld3</th>\n      <th>language_ft</th>\n      <th>language</th>\n    </tr>\n  </thead>\n  <tbody>\n    <tr>\n      <th>0</th>\n      <td>Killa Cam</td>\n      <td>rap</td>\n      <td>Cam'ron</td>\n      <td>2004</td>\n      <td>173166</td>\n      <td>{\"Cam\\\\'ron\",\"Opera Steve\"}</td>\n      <td>[Chorus: Opera Steve &amp; Cam'ron]\\nKilla Cam, Ki...</td>\n      <td>1</td>\n      <td>en</td>\n      <td>en</td>\n      <td>en</td>\n    </tr>\n    <tr>\n      <th>1</th>\n      <td>Can I Live</td>\n      <td>rap</td>\n      <td>JAY-Z</td>\n      <td>1996</td>\n      <td>468624</td>\n      <td>{}</td>\n      <td>[Produced by Irv Gotti]\\n\\n[Intro]\\nYeah, hah,...</td>\n      <td>3</td>\n      <td>en</td>\n      <td>en</td>\n      <td>en</td>\n    </tr>\n    <tr>\n      <th>2</th>\n      <td>Forgive Me Father</td>\n      <td>rap</td>\n      <td>Fabolous</td>\n      <td>2003</td>\n      <td>4743</td>\n      <td>{}</td>\n      <td>Maybe cause I'm eatin\\nAnd these bastards fien...</td>\n      <td>4</td>\n      <td>en</td>\n      <td>en</td>\n      <td>en</td>\n    </tr>\n    <tr>\n      <th>3</th>\n      <td>Down and Out</td>\n      <td>rap</td>\n      <td>Cam'ron</td>\n      <td>2004</td>\n      <td>144404</td>\n      <td>{\"Cam\\\\'ron\",\"Kanye West\",\"Syleena Johnson\"}</td>\n      <td>[Produced by Kanye West and Brian Miller]\\n\\n[...</td>\n      <td>5</td>\n      <td>en</td>\n      <td>en</td>\n      <td>en</td>\n    </tr>\n    <tr>\n      <th>4</th>\n      <td>Fly In</td>\n      <td>rap</td>\n      <td>Lil Wayne</td>\n      <td>2005</td>\n      <td>78271</td>\n      <td>{}</td>\n      <td>[Intro]\\nSo they ask me\\n\"Young boy\\nWhat you ...</td>\n      <td>6</td>\n      <td>en</td>\n      <td>en</td>\n      <td>en</td>\n    </tr>\n  </tbody>\n</table>\n</div>"
     },
     "execution_count": 5,
     "metadata": {},
     "output_type": "execute_result"
    }
   ],
   "source": [
    "# Show Music DataFrame\n",
    "df = pd.read_csv(file_path)\n",
    "df.head()"
   ],
   "metadata": {
    "collapsed": false,
    "ExecuteTime": {
     "end_time": "2023-09-09T16:01:45.302327200Z",
     "start_time": "2023-09-09T15:59:32.234008300Z"
    }
   },
   "id": "833fe4d46dde426f"
  },
  {
   "cell_type": "code",
   "execution_count": 6,
   "outputs": [
    {
     "name": "stdout",
     "output_type": "stream",
     "text": [
      "Shape of The DataFrame:  (5134856, 11)\n"
     ]
    }
   ],
   "source": [
    "print(\"Shape of The DataFrame: \", df.shape)"
   ],
   "metadata": {
    "collapsed": false,
    "ExecuteTime": {
     "end_time": "2023-09-09T16:01:45.439841300Z",
     "start_time": "2023-09-09T16:01:45.306839300Z"
    }
   },
   "id": "b62952123fc1823b"
  },
  {
   "cell_type": "code",
   "execution_count": 7,
   "outputs": [],
   "source": [
    "# Column Names\n",
    "cols_name = [\"title\", \"lyrics\", \"tag\", \"views\"]"
   ],
   "metadata": {
    "collapsed": false,
    "ExecuteTime": {
     "end_time": "2023-09-09T16:01:45.523211600Z",
     "start_time": "2023-09-09T16:01:45.365742100Z"
    }
   },
   "id": "3e123e0b525d223"
  },
  {
   "cell_type": "code",
   "execution_count": 8,
   "outputs": [],
   "source": [
    "df_music = ppt.get_processed_df(file_path, cols_name, \"music\")"
   ],
   "metadata": {
    "collapsed": false,
    "ExecuteTime": {
     "end_time": "2023-09-09T16:04:43.557386200Z",
     "start_time": "2023-09-09T16:01:45.429326200Z"
    }
   },
   "id": "6f9788ad272abf69"
  },
  {
   "cell_type": "code",
   "execution_count": 9,
   "outputs": [
    {
     "name": "stdout",
     "output_type": "stream",
     "text": [
      "Shape of the dataframe:  (3053306, 6)\n",
      "The DataFrame: \n"
     ]
    },
    {
     "data": {
      "text/plain": "               title                                        description  \\\n0          Killa Cam  [Chorus: Opera Steve & Cam'ron]\\nKilla Cam, Ki...   \n1         Can I Live  [Produced by Irv Gotti]\\n\\n[Intro]\\nYeah, hah,...   \n2  Forgive Me Father  Maybe cause I'm eatin\\nAnd these bastards fien...   \n3       Down and Out  [Produced by Kanye West and Brian Miller]\\n\\n[...   \n4             Fly In  [Intro]\\nSo they ask me\\n\"Young boy\\nWhat you ...   \n\n  genres  rating primary_genre   type  \n0    rap  173166           rap  music  \n1    rap  468624           rap  music  \n2    rap    4743           rap  music  \n3    rap  144404           rap  music  \n4    rap   78271           rap  music  ",
      "text/html": "<div>\n<style scoped>\n    .dataframe tbody tr th:only-of-type {\n        vertical-align: middle;\n    }\n\n    .dataframe tbody tr th {\n        vertical-align: top;\n    }\n\n    .dataframe thead th {\n        text-align: right;\n    }\n</style>\n<table border=\"1\" class=\"dataframe\">\n  <thead>\n    <tr style=\"text-align: right;\">\n      <th></th>\n      <th>title</th>\n      <th>description</th>\n      <th>genres</th>\n      <th>rating</th>\n      <th>primary_genre</th>\n      <th>type</th>\n    </tr>\n  </thead>\n  <tbody>\n    <tr>\n      <th>0</th>\n      <td>Killa Cam</td>\n      <td>[Chorus: Opera Steve &amp; Cam'ron]\\nKilla Cam, Ki...</td>\n      <td>rap</td>\n      <td>173166</td>\n      <td>rap</td>\n      <td>music</td>\n    </tr>\n    <tr>\n      <th>1</th>\n      <td>Can I Live</td>\n      <td>[Produced by Irv Gotti]\\n\\n[Intro]\\nYeah, hah,...</td>\n      <td>rap</td>\n      <td>468624</td>\n      <td>rap</td>\n      <td>music</td>\n    </tr>\n    <tr>\n      <th>2</th>\n      <td>Forgive Me Father</td>\n      <td>Maybe cause I'm eatin\\nAnd these bastards fien...</td>\n      <td>rap</td>\n      <td>4743</td>\n      <td>rap</td>\n      <td>music</td>\n    </tr>\n    <tr>\n      <th>3</th>\n      <td>Down and Out</td>\n      <td>[Produced by Kanye West and Brian Miller]\\n\\n[...</td>\n      <td>rap</td>\n      <td>144404</td>\n      <td>rap</td>\n      <td>music</td>\n    </tr>\n    <tr>\n      <th>4</th>\n      <td>Fly In</td>\n      <td>[Intro]\\nSo they ask me\\n\"Young boy\\nWhat you ...</td>\n      <td>rap</td>\n      <td>78271</td>\n      <td>rap</td>\n      <td>music</td>\n    </tr>\n  </tbody>\n</table>\n</div>"
     },
     "metadata": {},
     "output_type": "display_data"
    },
    {
     "name": "stdout",
     "output_type": "stream",
     "text": [
      "All Data Types: \n"
     ]
    },
    {
     "data": {
      "text/plain": "title            object\ndescription      object\ngenres           object\nrating            int64\nprimary_genre    object\ntype             object\ndtype: object"
     },
     "metadata": {},
     "output_type": "display_data"
    },
    {
     "name": "stdout",
     "output_type": "stream",
     "text": [
      "Null Values:\n"
     ]
    },
    {
     "data": {
      "text/plain": "title            0\ndescription      0\ngenres           0\nrating           0\nprimary_genre    0\ntype             0\ndtype: int64"
     },
     "metadata": {},
     "output_type": "display_data"
    },
    {
     "name": "stdout",
     "output_type": "stream",
     "text": [
      "Duplicate Movie Name Count:  0\n",
      "Duplicate Description Count:  0\n",
      "DataFrame Details:\n"
     ]
    },
    {
     "data": {
      "text/plain": "            title                                        description   genres  \\\ncount     3053306                                            3053306  3053306   \nunique    3053306                                            3053306        6   \ntop     Killa Cam  [Chorus: Opera Steve & Cam'ron]\\nKilla Cam, Ki...      pop   \nfreq            1                                                  1  1257934   \nmean          NaN                                                NaN      NaN   \nstd           NaN                                                NaN      NaN   \nmin           NaN                                                NaN      NaN   \n25%           NaN                                                NaN      NaN   \n50%           NaN                                                NaN      NaN   \n75%           NaN                                                NaN      NaN   \nmax           NaN                                                NaN      NaN   \n\n              rating primary_genre     type  \ncount   3.053306e+06       3053306  3053306  \nunique           NaN             6        1  \ntop              NaN           pop    music  \nfreq             NaN       1257934  3053306  \nmean    3.074466e+03           NaN      NaN  \nstd     4.718086e+04           NaN      NaN  \nmin     0.000000e+00           NaN      NaN  \n25%     2.300000e+01           NaN      NaN  \n50%     8.900000e+01           NaN      NaN  \n75%     4.580000e+02           NaN      NaN  \nmax     2.335142e+07           NaN      NaN  ",
      "text/html": "<div>\n<style scoped>\n    .dataframe tbody tr th:only-of-type {\n        vertical-align: middle;\n    }\n\n    .dataframe tbody tr th {\n        vertical-align: top;\n    }\n\n    .dataframe thead th {\n        text-align: right;\n    }\n</style>\n<table border=\"1\" class=\"dataframe\">\n  <thead>\n    <tr style=\"text-align: right;\">\n      <th></th>\n      <th>title</th>\n      <th>description</th>\n      <th>genres</th>\n      <th>rating</th>\n      <th>primary_genre</th>\n      <th>type</th>\n    </tr>\n  </thead>\n  <tbody>\n    <tr>\n      <th>count</th>\n      <td>3053306</td>\n      <td>3053306</td>\n      <td>3053306</td>\n      <td>3.053306e+06</td>\n      <td>3053306</td>\n      <td>3053306</td>\n    </tr>\n    <tr>\n      <th>unique</th>\n      <td>3053306</td>\n      <td>3053306</td>\n      <td>6</td>\n      <td>NaN</td>\n      <td>6</td>\n      <td>1</td>\n    </tr>\n    <tr>\n      <th>top</th>\n      <td>Killa Cam</td>\n      <td>[Chorus: Opera Steve &amp; Cam'ron]\\nKilla Cam, Ki...</td>\n      <td>pop</td>\n      <td>NaN</td>\n      <td>pop</td>\n      <td>music</td>\n    </tr>\n    <tr>\n      <th>freq</th>\n      <td>1</td>\n      <td>1</td>\n      <td>1257934</td>\n      <td>NaN</td>\n      <td>1257934</td>\n      <td>3053306</td>\n    </tr>\n    <tr>\n      <th>mean</th>\n      <td>NaN</td>\n      <td>NaN</td>\n      <td>NaN</td>\n      <td>3.074466e+03</td>\n      <td>NaN</td>\n      <td>NaN</td>\n    </tr>\n    <tr>\n      <th>std</th>\n      <td>NaN</td>\n      <td>NaN</td>\n      <td>NaN</td>\n      <td>4.718086e+04</td>\n      <td>NaN</td>\n      <td>NaN</td>\n    </tr>\n    <tr>\n      <th>min</th>\n      <td>NaN</td>\n      <td>NaN</td>\n      <td>NaN</td>\n      <td>0.000000e+00</td>\n      <td>NaN</td>\n      <td>NaN</td>\n    </tr>\n    <tr>\n      <th>25%</th>\n      <td>NaN</td>\n      <td>NaN</td>\n      <td>NaN</td>\n      <td>2.300000e+01</td>\n      <td>NaN</td>\n      <td>NaN</td>\n    </tr>\n    <tr>\n      <th>50%</th>\n      <td>NaN</td>\n      <td>NaN</td>\n      <td>NaN</td>\n      <td>8.900000e+01</td>\n      <td>NaN</td>\n      <td>NaN</td>\n    </tr>\n    <tr>\n      <th>75%</th>\n      <td>NaN</td>\n      <td>NaN</td>\n      <td>NaN</td>\n      <td>4.580000e+02</td>\n      <td>NaN</td>\n      <td>NaN</td>\n    </tr>\n    <tr>\n      <th>max</th>\n      <td>NaN</td>\n      <td>NaN</td>\n      <td>NaN</td>\n      <td>2.335142e+07</td>\n      <td>NaN</td>\n      <td>NaN</td>\n    </tr>\n  </tbody>\n</table>\n</div>"
     },
     "metadata": {},
     "output_type": "display_data"
    }
   ],
   "source": [
    "ppt.get_df_info(df_music)"
   ],
   "metadata": {
    "collapsed": false,
    "ExecuteTime": {
     "end_time": "2023-09-09T16:04:53.715898400Z",
     "start_time": "2023-09-09T16:04:43.562915Z"
    }
   },
   "id": "bef4c3b691263318"
  },
  {
   "cell_type": "markdown",
   "source": [
    "## Formatting Description"
   ],
   "metadata": {
    "collapsed": false
   },
   "id": "8624efb3e9734ddc"
  },
  {
   "cell_type": "code",
   "execution_count": 27,
   "outputs": [
    {
     "data": {
      "text/plain": "  0%|          | 0/3053306 [00:00<?, ?it/s]",
      "application/vnd.jupyter.widget-view+json": {
       "version_major": 2,
       "version_minor": 0,
       "model_id": "e811144c5cd6404293c6115764014545"
      }
     },
     "metadata": {},
     "output_type": "display_data"
    }
   ],
   "source": [
    "pattern = r\"\\[.*?\\]\"\n",
    "\n",
    "description_list = []\n",
    "\n",
    "for i in tqdm(range(df_music.shape[0])):\n",
    "    try:\n",
    "        desc = df_music[\"description\"][i]\n",
    "        formatted_desc = re.sub(pattern, \"\", desc)\n",
    "        description_list.append(formatted_desc)\n",
    "    except:\n",
    "        description_list.append(\"\")\n",
    "        continue"
   ],
   "metadata": {
    "collapsed": false,
    "ExecuteTime": {
     "end_time": "2023-09-09T16:24:10.495883Z",
     "start_time": "2023-09-09T16:23:26.435331200Z"
    }
   },
   "id": "ba15ba50e79166f0"
  },
  {
   "cell_type": "code",
   "execution_count": 30,
   "outputs": [
    {
     "data": {
      "text/plain": "['\\nHaha\\nUh-huh\\nNo homo (Young Mula, baby!)\\nI say, he\\'s so sweet, make her wanna lick the wrapper\\nRemix, baby!\\n\\n\\nLollipop, lollipop, breastses just like Dolly Parton\\nShe ride my spaceship \\'til she hit the top\\nThat hit the spot\\n\\'Til she ask, \"How many li-i-li-i-licks do it take\" \\'til she get to shop?\\nDon\\'t worry why my wrists got so freeze\\nTell a girl, \"Like Doritos, that\\'s not \\'cho cheese\"\\nTell her friends, \"Like Fritos, I\\'m tryin\\' to lay\"\\nI can\\'t only have one, and I ain\\'t trying to wait\\nThis a song with Wayne, so you know it\\'s gon\\' melt\\nBut you ain\\'t finna murder me like everybody else\\nI\\'ma rap like I got some type respect for myself\\nI don\\'t do it for my health, man, I do it for the belt\\nMan, I do it to the death, \\'til the roof get melt\\nHundred degrees, drop the roof, so the coupe don\\'t melt\\nMan, the flow so cold, chicken soup won\\'t help\\nWe need four more hoes, we need oh, oh, oh, oh!\\nYou know what it is when we out of town\\nWe balling too serious, and you out of bounds\\nSo come here, baby girl\\nYou\\'re now fucking with the best in the world\\n\\nLollipop\\nThe best in the world\\nSh-Sh-She lick me like a lollipop\\nWorld, world\\nShe— She lick me like a lollipop\\n\\n\\nShawty want a thug, thug, thug\\nBottles in the club, club, club (Bottles in the club)\\nShawty wanna hump (Shawty wanna)\\nYou know I like to touch (Shawty wanna)\\nYour lovely lady lumps, lumps, lumps (Shawty wanna)\\nShawty want a thug (I like that)\\nBottles in the club (Hey, I like that)\\nShawty wanna hump (I like that, haha!)\\nYou know I like to touch your lovely lady lumps, lumps, lumps\\n\\n\\nShawty say she wanna lick the wrapper\\nAnd she gonna lick the rapper\\nAnd I just wanna act like a porno-flicking actor\\nI Anita-bake her; now, she caught up in that \"Rapture\"\\nI got so much chips, I swear, they call me \"Hewlett Packard\"\\nI got so much chips, you can have a bag if you\\'re a snacker\\nGreedy mother-fudge cake; now, tell me how that fudge tastes\\nI do it for Bloods\\' sake—soo-woo!\\nThink it\\'s voodoo how that roof do di-di-dissipate\\nYour girl want to participate\\nShe so, so sophisticate, \\'cause her brain is off the chain\\nAnd then, my diamonds are in the choir because they sing from off my chain\\nAnd my Nina just joined the gang because all she do is bang\\nLike Ricky Martin; Wayne and Kanye: pick your poison\\nIf that woman wanna cut, then tell her I am Mr. Ointment\\nTell her to make an appointment with Mr. I-Can\\'t-Make-An-Appointment\\nTake my lollipop and enjoy it—remix!\\n\\nShawty want a thug, thug, thug (Shawty want a thug, yeah!)\\nBottles in the club, club, club (Bottles in the club, yeah!)\\nShawty wanna hump (Yeah! Shawty wanna)\\nYou know I like to touch (Yeah! Shawty wanna)\\nYour lovely lady lumps, lumps, lumps (Shawty wanna)\\nShawty want a thug (I like that)\\nBottles in the club (Hey, I like that)\\nShawty wanna hump (I like that, haha!)\\nYou know I like to touch your lovely lady lumps, lumps, lumps\\n\\n\\nWhy would she? She probably be the odd cookie\\nIn the plastic bag \\'bout to get crushed by a building\\nI\\'ve flushed out the feeling of me being the shit\\n\\'Cause I was leaving skid marks on everywhere I sit\\nI am everywhere, I\\'m it, like Hide-and-Go\\nAnd I can go anywhere: eeny, mini, miney, mo\\nI\\'m in your neighborhood, area, CD-thing, tapedeck\\n\\u200biPod, your girlfriend, and she say I got great sex\\nSafe sex is great sex, better wear a latex\\n\\'Cause you don\\'t want that late text, that \"I think I\\'m late\" text\\nHaha! So wrap it up!\\nBu-Bu-But he\\'s so sweet, sh-she wanna lick the wrapper\\n\\n\\nShawty want a thug\\nBottles in the club, club, club\\nShawty wanna hump\\nYou know I like to touch\\nYour lovely lady lumps, lumps, lumps (Re-Re-Re-Remix, baby!)\\n\\nLick me like a lollipop (Lollipop)\\nShe— She lick me like a lollipop (L-Lollipop)\\nSh-Sh-Sh-She lick me like a lollipop (Lollipop)\\nShe— She lick me like a lollipop (Lollipop)']"
     },
     "execution_count": 30,
     "metadata": {},
     "output_type": "execute_result"
    }
   ],
   "source": [
    "description_list[5:6]"
   ],
   "metadata": {
    "collapsed": false,
    "ExecuteTime": {
     "end_time": "2023-09-09T16:24:30.687573700Z",
     "start_time": "2023-09-09T16:24:30.591716Z"
    }
   },
   "id": "5eb52062032fbb75"
  },
  {
   "cell_type": "code",
   "execution_count": 31,
   "outputs": [],
   "source": [
    "df_music[\"description\"] = description_list"
   ],
   "metadata": {
    "collapsed": false,
    "ExecuteTime": {
     "end_time": "2023-09-09T16:25:01.067350600Z",
     "start_time": "2023-09-09T16:25:00.484335100Z"
    }
   },
   "id": "ce2b976d3620388a"
  },
  {
   "cell_type": "code",
   "execution_count": 32,
   "outputs": [
    {
     "name": "stdout",
     "output_type": "stream",
     "text": [
      "Shape of the dataframe:  (3053306, 6)\n",
      "The DataFrame: \n"
     ]
    },
    {
     "data": {
      "text/plain": "               title                                        description  \\\n0          Killa Cam  \\nKilla Cam, Killa Cam, Cam\\nKilla Cam, Killa ...   \n1         Can I Live  \\n\\n\\nYeah, hah, yeah, Roc-A-Fella\\nWe invite ...   \n2  Forgive Me Father  Maybe cause I'm eatin\\nAnd these bastards fien...   \n3       Down and Out  \\n\\n\\nUgh, Killa!\\nBaby!\\nKanye, this that 197...   \n4             Fly In  \\nSo they ask me\\n\"Young boy\\nWhat you gon' do...   \n\n  genres  rating primary_genre   type  \n0    rap  173166           rap  music  \n1    rap  468624           rap  music  \n2    rap    4743           rap  music  \n3    rap  144404           rap  music  \n4    rap   78271           rap  music  ",
      "text/html": "<div>\n<style scoped>\n    .dataframe tbody tr th:only-of-type {\n        vertical-align: middle;\n    }\n\n    .dataframe tbody tr th {\n        vertical-align: top;\n    }\n\n    .dataframe thead th {\n        text-align: right;\n    }\n</style>\n<table border=\"1\" class=\"dataframe\">\n  <thead>\n    <tr style=\"text-align: right;\">\n      <th></th>\n      <th>title</th>\n      <th>description</th>\n      <th>genres</th>\n      <th>rating</th>\n      <th>primary_genre</th>\n      <th>type</th>\n    </tr>\n  </thead>\n  <tbody>\n    <tr>\n      <th>0</th>\n      <td>Killa Cam</td>\n      <td>\\nKilla Cam, Killa Cam, Cam\\nKilla Cam, Killa ...</td>\n      <td>rap</td>\n      <td>173166</td>\n      <td>rap</td>\n      <td>music</td>\n    </tr>\n    <tr>\n      <th>1</th>\n      <td>Can I Live</td>\n      <td>\\n\\n\\nYeah, hah, yeah, Roc-A-Fella\\nWe invite ...</td>\n      <td>rap</td>\n      <td>468624</td>\n      <td>rap</td>\n      <td>music</td>\n    </tr>\n    <tr>\n      <th>2</th>\n      <td>Forgive Me Father</td>\n      <td>Maybe cause I'm eatin\\nAnd these bastards fien...</td>\n      <td>rap</td>\n      <td>4743</td>\n      <td>rap</td>\n      <td>music</td>\n    </tr>\n    <tr>\n      <th>3</th>\n      <td>Down and Out</td>\n      <td>\\n\\n\\nUgh, Killa!\\nBaby!\\nKanye, this that 197...</td>\n      <td>rap</td>\n      <td>144404</td>\n      <td>rap</td>\n      <td>music</td>\n    </tr>\n    <tr>\n      <th>4</th>\n      <td>Fly In</td>\n      <td>\\nSo they ask me\\n\"Young boy\\nWhat you gon' do...</td>\n      <td>rap</td>\n      <td>78271</td>\n      <td>rap</td>\n      <td>music</td>\n    </tr>\n  </tbody>\n</table>\n</div>"
     },
     "metadata": {},
     "output_type": "display_data"
    },
    {
     "name": "stdout",
     "output_type": "stream",
     "text": [
      "All Data Types: \n"
     ]
    },
    {
     "data": {
      "text/plain": "title            object\ndescription      object\ngenres           object\nrating            int64\nprimary_genre    object\ntype             object\ndtype: object"
     },
     "metadata": {},
     "output_type": "display_data"
    },
    {
     "name": "stdout",
     "output_type": "stream",
     "text": [
      "Null Values:\n"
     ]
    },
    {
     "data": {
      "text/plain": "title            0\ndescription      0\ngenres           0\nrating           0\nprimary_genre    0\ntype             0\ndtype: int64"
     },
     "metadata": {},
     "output_type": "display_data"
    },
    {
     "name": "stdout",
     "output_type": "stream",
     "text": [
      "Duplicate Movie Name Count:  0\n",
      "Duplicate Description Count:  1157176\n",
      "DataFrame Details:\n"
     ]
    },
    {
     "data": {
      "text/plain": "            title description   genres        rating primary_genre     type\ncount     3053306     3053306  3053306  3.053306e+06       3053306  3053306\nunique    3053306     1896130        6           NaN             6        1\ntop     Killa Cam                  pop           NaN           pop    music\nfreq            1     1156794  1257934           NaN       1257934  3053306\nmean          NaN         NaN      NaN  3.074466e+03           NaN      NaN\nstd           NaN         NaN      NaN  4.718086e+04           NaN      NaN\nmin           NaN         NaN      NaN  0.000000e+00           NaN      NaN\n25%           NaN         NaN      NaN  2.300000e+01           NaN      NaN\n50%           NaN         NaN      NaN  8.900000e+01           NaN      NaN\n75%           NaN         NaN      NaN  4.580000e+02           NaN      NaN\nmax           NaN         NaN      NaN  2.335142e+07           NaN      NaN",
      "text/html": "<div>\n<style scoped>\n    .dataframe tbody tr th:only-of-type {\n        vertical-align: middle;\n    }\n\n    .dataframe tbody tr th {\n        vertical-align: top;\n    }\n\n    .dataframe thead th {\n        text-align: right;\n    }\n</style>\n<table border=\"1\" class=\"dataframe\">\n  <thead>\n    <tr style=\"text-align: right;\">\n      <th></th>\n      <th>title</th>\n      <th>description</th>\n      <th>genres</th>\n      <th>rating</th>\n      <th>primary_genre</th>\n      <th>type</th>\n    </tr>\n  </thead>\n  <tbody>\n    <tr>\n      <th>count</th>\n      <td>3053306</td>\n      <td>3053306</td>\n      <td>3053306</td>\n      <td>3.053306e+06</td>\n      <td>3053306</td>\n      <td>3053306</td>\n    </tr>\n    <tr>\n      <th>unique</th>\n      <td>3053306</td>\n      <td>1896130</td>\n      <td>6</td>\n      <td>NaN</td>\n      <td>6</td>\n      <td>1</td>\n    </tr>\n    <tr>\n      <th>top</th>\n      <td>Killa Cam</td>\n      <td></td>\n      <td>pop</td>\n      <td>NaN</td>\n      <td>pop</td>\n      <td>music</td>\n    </tr>\n    <tr>\n      <th>freq</th>\n      <td>1</td>\n      <td>1156794</td>\n      <td>1257934</td>\n      <td>NaN</td>\n      <td>1257934</td>\n      <td>3053306</td>\n    </tr>\n    <tr>\n      <th>mean</th>\n      <td>NaN</td>\n      <td>NaN</td>\n      <td>NaN</td>\n      <td>3.074466e+03</td>\n      <td>NaN</td>\n      <td>NaN</td>\n    </tr>\n    <tr>\n      <th>std</th>\n      <td>NaN</td>\n      <td>NaN</td>\n      <td>NaN</td>\n      <td>4.718086e+04</td>\n      <td>NaN</td>\n      <td>NaN</td>\n    </tr>\n    <tr>\n      <th>min</th>\n      <td>NaN</td>\n      <td>NaN</td>\n      <td>NaN</td>\n      <td>0.000000e+00</td>\n      <td>NaN</td>\n      <td>NaN</td>\n    </tr>\n    <tr>\n      <th>25%</th>\n      <td>NaN</td>\n      <td>NaN</td>\n      <td>NaN</td>\n      <td>2.300000e+01</td>\n      <td>NaN</td>\n      <td>NaN</td>\n    </tr>\n    <tr>\n      <th>50%</th>\n      <td>NaN</td>\n      <td>NaN</td>\n      <td>NaN</td>\n      <td>8.900000e+01</td>\n      <td>NaN</td>\n      <td>NaN</td>\n    </tr>\n    <tr>\n      <th>75%</th>\n      <td>NaN</td>\n      <td>NaN</td>\n      <td>NaN</td>\n      <td>4.580000e+02</td>\n      <td>NaN</td>\n      <td>NaN</td>\n    </tr>\n    <tr>\n      <th>max</th>\n      <td>NaN</td>\n      <td>NaN</td>\n      <td>NaN</td>\n      <td>2.335142e+07</td>\n      <td>NaN</td>\n      <td>NaN</td>\n    </tr>\n  </tbody>\n</table>\n</div>"
     },
     "metadata": {},
     "output_type": "display_data"
    }
   ],
   "source": [
    "ppt.get_df_info(df_music)"
   ],
   "metadata": {
    "collapsed": false,
    "ExecuteTime": {
     "end_time": "2023-09-09T16:25:22.023581700Z",
     "start_time": "2023-09-09T16:25:12.306561Z"
    }
   },
   "id": "c9cdc4692d50bf03"
  },
  {
   "cell_type": "code",
   "execution_count": 35,
   "outputs": [],
   "source": [
    "df_music = ppt.drop_duplicate(df_music)"
   ],
   "metadata": {
    "collapsed": false,
    "ExecuteTime": {
     "end_time": "2023-09-09T16:28:14.855977900Z",
     "start_time": "2023-09-09T16:28:11.912648500Z"
    }
   },
   "id": "51b74640c0a3239f"
  },
  {
   "cell_type": "code",
   "execution_count": 36,
   "outputs": [
    {
     "name": "stdout",
     "output_type": "stream",
     "text": [
      "Shape of the dataframe:  (1896130, 6)\n",
      "The DataFrame: \n"
     ]
    },
    {
     "data": {
      "text/plain": "               title                                        description  \\\n0          Killa Cam  \\nKilla Cam, Killa Cam, Cam\\nKilla Cam, Killa ...   \n1         Can I Live  \\n\\n\\nYeah, hah, yeah, Roc-A-Fella\\nWe invite ...   \n2  Forgive Me Father  Maybe cause I'm eatin\\nAnd these bastards fien...   \n3       Down and Out  \\n\\n\\nUgh, Killa!\\nBaby!\\nKanye, this that 197...   \n4             Fly In  \\nSo they ask me\\n\"Young boy\\nWhat you gon' do...   \n\n  genres  rating primary_genre   type  \n0    rap  173166           rap  music  \n1    rap  468624           rap  music  \n2    rap    4743           rap  music  \n3    rap  144404           rap  music  \n4    rap   78271           rap  music  ",
      "text/html": "<div>\n<style scoped>\n    .dataframe tbody tr th:only-of-type {\n        vertical-align: middle;\n    }\n\n    .dataframe tbody tr th {\n        vertical-align: top;\n    }\n\n    .dataframe thead th {\n        text-align: right;\n    }\n</style>\n<table border=\"1\" class=\"dataframe\">\n  <thead>\n    <tr style=\"text-align: right;\">\n      <th></th>\n      <th>title</th>\n      <th>description</th>\n      <th>genres</th>\n      <th>rating</th>\n      <th>primary_genre</th>\n      <th>type</th>\n    </tr>\n  </thead>\n  <tbody>\n    <tr>\n      <th>0</th>\n      <td>Killa Cam</td>\n      <td>\\nKilla Cam, Killa Cam, Cam\\nKilla Cam, Killa ...</td>\n      <td>rap</td>\n      <td>173166</td>\n      <td>rap</td>\n      <td>music</td>\n    </tr>\n    <tr>\n      <th>1</th>\n      <td>Can I Live</td>\n      <td>\\n\\n\\nYeah, hah, yeah, Roc-A-Fella\\nWe invite ...</td>\n      <td>rap</td>\n      <td>468624</td>\n      <td>rap</td>\n      <td>music</td>\n    </tr>\n    <tr>\n      <th>2</th>\n      <td>Forgive Me Father</td>\n      <td>Maybe cause I'm eatin\\nAnd these bastards fien...</td>\n      <td>rap</td>\n      <td>4743</td>\n      <td>rap</td>\n      <td>music</td>\n    </tr>\n    <tr>\n      <th>3</th>\n      <td>Down and Out</td>\n      <td>\\n\\n\\nUgh, Killa!\\nBaby!\\nKanye, this that 197...</td>\n      <td>rap</td>\n      <td>144404</td>\n      <td>rap</td>\n      <td>music</td>\n    </tr>\n    <tr>\n      <th>4</th>\n      <td>Fly In</td>\n      <td>\\nSo they ask me\\n\"Young boy\\nWhat you gon' do...</td>\n      <td>rap</td>\n      <td>78271</td>\n      <td>rap</td>\n      <td>music</td>\n    </tr>\n  </tbody>\n</table>\n</div>"
     },
     "metadata": {},
     "output_type": "display_data"
    },
    {
     "name": "stdout",
     "output_type": "stream",
     "text": [
      "All Data Types: \n"
     ]
    },
    {
     "data": {
      "text/plain": "title            object\ndescription      object\ngenres           object\nrating            int64\nprimary_genre    object\ntype             object\ndtype: object"
     },
     "metadata": {},
     "output_type": "display_data"
    },
    {
     "name": "stdout",
     "output_type": "stream",
     "text": [
      "Null Values:\n"
     ]
    },
    {
     "data": {
      "text/plain": "title            0\ndescription      0\ngenres           0\nrating           0\nprimary_genre    0\ntype             0\ndtype: int64"
     },
     "metadata": {},
     "output_type": "display_data"
    },
    {
     "name": "stdout",
     "output_type": "stream",
     "text": [
      "Duplicate Movie Name Count:  0\n",
      "Duplicate Description Count:  0\n",
      "DataFrame Details:\n"
     ]
    },
    {
     "data": {
      "text/plain": "            title                                        description   genres  \\\ncount     1896130                                            1896130  1896130   \nunique    1896130                                            1896130        6   \ntop     Killa Cam  \\nKilla Cam, Killa Cam, Cam\\nKilla Cam, Killa ...      pop   \nfreq            1                                                  1   775392   \nmean          NaN                                                NaN      NaN   \nstd           NaN                                                NaN      NaN   \nmin           NaN                                                NaN      NaN   \n25%           NaN                                                NaN      NaN   \n50%           NaN                                                NaN      NaN   \n75%           NaN                                                NaN      NaN   \nmax           NaN                                                NaN      NaN   \n\n              rating primary_genre     type  \ncount   1.896130e+06       1896130  1896130  \nunique           NaN             6        1  \ntop              NaN           pop    music  \nfreq             NaN        775392  1896130  \nmean    3.346992e+03           NaN      NaN  \nstd     4.641002e+04           NaN      NaN  \nmin     0.000000e+00           NaN      NaN  \n25%     2.400000e+01           NaN      NaN  \n50%     9.500000e+01           NaN      NaN  \n75%     4.920000e+02           NaN      NaN  \nmax     1.118120e+07           NaN      NaN  ",
      "text/html": "<div>\n<style scoped>\n    .dataframe tbody tr th:only-of-type {\n        vertical-align: middle;\n    }\n\n    .dataframe tbody tr th {\n        vertical-align: top;\n    }\n\n    .dataframe thead th {\n        text-align: right;\n    }\n</style>\n<table border=\"1\" class=\"dataframe\">\n  <thead>\n    <tr style=\"text-align: right;\">\n      <th></th>\n      <th>title</th>\n      <th>description</th>\n      <th>genres</th>\n      <th>rating</th>\n      <th>primary_genre</th>\n      <th>type</th>\n    </tr>\n  </thead>\n  <tbody>\n    <tr>\n      <th>count</th>\n      <td>1896130</td>\n      <td>1896130</td>\n      <td>1896130</td>\n      <td>1.896130e+06</td>\n      <td>1896130</td>\n      <td>1896130</td>\n    </tr>\n    <tr>\n      <th>unique</th>\n      <td>1896130</td>\n      <td>1896130</td>\n      <td>6</td>\n      <td>NaN</td>\n      <td>6</td>\n      <td>1</td>\n    </tr>\n    <tr>\n      <th>top</th>\n      <td>Killa Cam</td>\n      <td>\\nKilla Cam, Killa Cam, Cam\\nKilla Cam, Killa ...</td>\n      <td>pop</td>\n      <td>NaN</td>\n      <td>pop</td>\n      <td>music</td>\n    </tr>\n    <tr>\n      <th>freq</th>\n      <td>1</td>\n      <td>1</td>\n      <td>775392</td>\n      <td>NaN</td>\n      <td>775392</td>\n      <td>1896130</td>\n    </tr>\n    <tr>\n      <th>mean</th>\n      <td>NaN</td>\n      <td>NaN</td>\n      <td>NaN</td>\n      <td>3.346992e+03</td>\n      <td>NaN</td>\n      <td>NaN</td>\n    </tr>\n    <tr>\n      <th>std</th>\n      <td>NaN</td>\n      <td>NaN</td>\n      <td>NaN</td>\n      <td>4.641002e+04</td>\n      <td>NaN</td>\n      <td>NaN</td>\n    </tr>\n    <tr>\n      <th>min</th>\n      <td>NaN</td>\n      <td>NaN</td>\n      <td>NaN</td>\n      <td>0.000000e+00</td>\n      <td>NaN</td>\n      <td>NaN</td>\n    </tr>\n    <tr>\n      <th>25%</th>\n      <td>NaN</td>\n      <td>NaN</td>\n      <td>NaN</td>\n      <td>2.400000e+01</td>\n      <td>NaN</td>\n      <td>NaN</td>\n    </tr>\n    <tr>\n      <th>50%</th>\n      <td>NaN</td>\n      <td>NaN</td>\n      <td>NaN</td>\n      <td>9.500000e+01</td>\n      <td>NaN</td>\n      <td>NaN</td>\n    </tr>\n    <tr>\n      <th>75%</th>\n      <td>NaN</td>\n      <td>NaN</td>\n      <td>NaN</td>\n      <td>4.920000e+02</td>\n      <td>NaN</td>\n      <td>NaN</td>\n    </tr>\n    <tr>\n      <th>max</th>\n      <td>NaN</td>\n      <td>NaN</td>\n      <td>NaN</td>\n      <td>1.118120e+07</td>\n      <td>NaN</td>\n      <td>NaN</td>\n    </tr>\n  </tbody>\n</table>\n</div>"
     },
     "metadata": {},
     "output_type": "display_data"
    }
   ],
   "source": [
    "ppt.get_df_info(df_music)"
   ],
   "metadata": {
    "collapsed": false,
    "ExecuteTime": {
     "end_time": "2023-09-09T16:28:21.920931300Z",
     "start_time": "2023-09-09T16:28:14.855977900Z"
    }
   },
   "id": "44dfd0427c259a7b"
  },
  {
   "cell_type": "code",
   "execution_count": 38,
   "outputs": [],
   "source": [
    "df_music.rename(columns={\"rating\": \"views\"}, inplace=True)"
   ],
   "metadata": {
    "collapsed": false,
    "ExecuteTime": {
     "end_time": "2023-09-09T17:31:07.491821Z",
     "start_time": "2023-09-09T17:31:07.404123600Z"
    }
   },
   "id": "26c8545bcc643cf7"
  },
  {
   "cell_type": "code",
   "execution_count": 39,
   "outputs": [
    {
     "name": "stdout",
     "output_type": "stream",
     "text": [
      "Shape of the dataframe:  (1896130, 6)\n",
      "The DataFrame: \n"
     ]
    },
    {
     "data": {
      "text/plain": "               title                                        description  \\\n0          Killa Cam  \\nKilla Cam, Killa Cam, Cam\\nKilla Cam, Killa ...   \n1         Can I Live  \\n\\n\\nYeah, hah, yeah, Roc-A-Fella\\nWe invite ...   \n2  Forgive Me Father  Maybe cause I'm eatin\\nAnd these bastards fien...   \n3       Down and Out  \\n\\n\\nUgh, Killa!\\nBaby!\\nKanye, this that 197...   \n4             Fly In  \\nSo they ask me\\n\"Young boy\\nWhat you gon' do...   \n\n  genres   views primary_genre   type  \n0    rap  173166           rap  music  \n1    rap  468624           rap  music  \n2    rap    4743           rap  music  \n3    rap  144404           rap  music  \n4    rap   78271           rap  music  ",
      "text/html": "<div>\n<style scoped>\n    .dataframe tbody tr th:only-of-type {\n        vertical-align: middle;\n    }\n\n    .dataframe tbody tr th {\n        vertical-align: top;\n    }\n\n    .dataframe thead th {\n        text-align: right;\n    }\n</style>\n<table border=\"1\" class=\"dataframe\">\n  <thead>\n    <tr style=\"text-align: right;\">\n      <th></th>\n      <th>title</th>\n      <th>description</th>\n      <th>genres</th>\n      <th>views</th>\n      <th>primary_genre</th>\n      <th>type</th>\n    </tr>\n  </thead>\n  <tbody>\n    <tr>\n      <th>0</th>\n      <td>Killa Cam</td>\n      <td>\\nKilla Cam, Killa Cam, Cam\\nKilla Cam, Killa ...</td>\n      <td>rap</td>\n      <td>173166</td>\n      <td>rap</td>\n      <td>music</td>\n    </tr>\n    <tr>\n      <th>1</th>\n      <td>Can I Live</td>\n      <td>\\n\\n\\nYeah, hah, yeah, Roc-A-Fella\\nWe invite ...</td>\n      <td>rap</td>\n      <td>468624</td>\n      <td>rap</td>\n      <td>music</td>\n    </tr>\n    <tr>\n      <th>2</th>\n      <td>Forgive Me Father</td>\n      <td>Maybe cause I'm eatin\\nAnd these bastards fien...</td>\n      <td>rap</td>\n      <td>4743</td>\n      <td>rap</td>\n      <td>music</td>\n    </tr>\n    <tr>\n      <th>3</th>\n      <td>Down and Out</td>\n      <td>\\n\\n\\nUgh, Killa!\\nBaby!\\nKanye, this that 197...</td>\n      <td>rap</td>\n      <td>144404</td>\n      <td>rap</td>\n      <td>music</td>\n    </tr>\n    <tr>\n      <th>4</th>\n      <td>Fly In</td>\n      <td>\\nSo they ask me\\n\"Young boy\\nWhat you gon' do...</td>\n      <td>rap</td>\n      <td>78271</td>\n      <td>rap</td>\n      <td>music</td>\n    </tr>\n  </tbody>\n</table>\n</div>"
     },
     "metadata": {},
     "output_type": "display_data"
    },
    {
     "name": "stdout",
     "output_type": "stream",
     "text": [
      "All Data Types: \n"
     ]
    },
    {
     "data": {
      "text/plain": "title            object\ndescription      object\ngenres           object\nviews             int64\nprimary_genre    object\ntype             object\ndtype: object"
     },
     "metadata": {},
     "output_type": "display_data"
    },
    {
     "name": "stdout",
     "output_type": "stream",
     "text": [
      "Null Values:\n"
     ]
    },
    {
     "data": {
      "text/plain": "title            0\ndescription      0\ngenres           0\nviews            0\nprimary_genre    0\ntype             0\ndtype: int64"
     },
     "metadata": {},
     "output_type": "display_data"
    },
    {
     "name": "stdout",
     "output_type": "stream",
     "text": [
      "Duplicate Movie Name Count:  0\n",
      "Duplicate Description Count:  0\n",
      "DataFrame Details:\n"
     ]
    },
    {
     "data": {
      "text/plain": "            title                                        description   genres  \\\ncount     1896130                                            1896130  1896130   \nunique    1896130                                            1896130        6   \ntop     Killa Cam  \\nKilla Cam, Killa Cam, Cam\\nKilla Cam, Killa ...      pop   \nfreq            1                                                  1   775392   \nmean          NaN                                                NaN      NaN   \nstd           NaN                                                NaN      NaN   \nmin           NaN                                                NaN      NaN   \n25%           NaN                                                NaN      NaN   \n50%           NaN                                                NaN      NaN   \n75%           NaN                                                NaN      NaN   \nmax           NaN                                                NaN      NaN   \n\n               views primary_genre     type  \ncount   1.896130e+06       1896130  1896130  \nunique           NaN             6        1  \ntop              NaN           pop    music  \nfreq             NaN        775392  1896130  \nmean    3.346992e+03           NaN      NaN  \nstd     4.641002e+04           NaN      NaN  \nmin     0.000000e+00           NaN      NaN  \n25%     2.400000e+01           NaN      NaN  \n50%     9.500000e+01           NaN      NaN  \n75%     4.920000e+02           NaN      NaN  \nmax     1.118120e+07           NaN      NaN  ",
      "text/html": "<div>\n<style scoped>\n    .dataframe tbody tr th:only-of-type {\n        vertical-align: middle;\n    }\n\n    .dataframe tbody tr th {\n        vertical-align: top;\n    }\n\n    .dataframe thead th {\n        text-align: right;\n    }\n</style>\n<table border=\"1\" class=\"dataframe\">\n  <thead>\n    <tr style=\"text-align: right;\">\n      <th></th>\n      <th>title</th>\n      <th>description</th>\n      <th>genres</th>\n      <th>views</th>\n      <th>primary_genre</th>\n      <th>type</th>\n    </tr>\n  </thead>\n  <tbody>\n    <tr>\n      <th>count</th>\n      <td>1896130</td>\n      <td>1896130</td>\n      <td>1896130</td>\n      <td>1.896130e+06</td>\n      <td>1896130</td>\n      <td>1896130</td>\n    </tr>\n    <tr>\n      <th>unique</th>\n      <td>1896130</td>\n      <td>1896130</td>\n      <td>6</td>\n      <td>NaN</td>\n      <td>6</td>\n      <td>1</td>\n    </tr>\n    <tr>\n      <th>top</th>\n      <td>Killa Cam</td>\n      <td>\\nKilla Cam, Killa Cam, Cam\\nKilla Cam, Killa ...</td>\n      <td>pop</td>\n      <td>NaN</td>\n      <td>pop</td>\n      <td>music</td>\n    </tr>\n    <tr>\n      <th>freq</th>\n      <td>1</td>\n      <td>1</td>\n      <td>775392</td>\n      <td>NaN</td>\n      <td>775392</td>\n      <td>1896130</td>\n    </tr>\n    <tr>\n      <th>mean</th>\n      <td>NaN</td>\n      <td>NaN</td>\n      <td>NaN</td>\n      <td>3.346992e+03</td>\n      <td>NaN</td>\n      <td>NaN</td>\n    </tr>\n    <tr>\n      <th>std</th>\n      <td>NaN</td>\n      <td>NaN</td>\n      <td>NaN</td>\n      <td>4.641002e+04</td>\n      <td>NaN</td>\n      <td>NaN</td>\n    </tr>\n    <tr>\n      <th>min</th>\n      <td>NaN</td>\n      <td>NaN</td>\n      <td>NaN</td>\n      <td>0.000000e+00</td>\n      <td>NaN</td>\n      <td>NaN</td>\n    </tr>\n    <tr>\n      <th>25%</th>\n      <td>NaN</td>\n      <td>NaN</td>\n      <td>NaN</td>\n      <td>2.400000e+01</td>\n      <td>NaN</td>\n      <td>NaN</td>\n    </tr>\n    <tr>\n      <th>50%</th>\n      <td>NaN</td>\n      <td>NaN</td>\n      <td>NaN</td>\n      <td>9.500000e+01</td>\n      <td>NaN</td>\n      <td>NaN</td>\n    </tr>\n    <tr>\n      <th>75%</th>\n      <td>NaN</td>\n      <td>NaN</td>\n      <td>NaN</td>\n      <td>4.920000e+02</td>\n      <td>NaN</td>\n      <td>NaN</td>\n    </tr>\n    <tr>\n      <th>max</th>\n      <td>NaN</td>\n      <td>NaN</td>\n      <td>NaN</td>\n      <td>1.118120e+07</td>\n      <td>NaN</td>\n      <td>NaN</td>\n    </tr>\n  </tbody>\n</table>\n</div>"
     },
     "metadata": {},
     "output_type": "display_data"
    }
   ],
   "source": [
    "ppt.get_df_info(df_music)"
   ],
   "metadata": {
    "collapsed": false,
    "ExecuteTime": {
     "end_time": "2023-09-09T17:31:32.495760700Z",
     "start_time": "2023-09-09T17:31:12.953703800Z"
    }
   },
   "id": "de34e42266df5061"
  },
  {
   "cell_type": "markdown",
   "source": [
    "# DataFrame to CSV"
   ],
   "metadata": {
    "collapsed": false
   },
   "id": "7c46fd1b08f004f7"
  },
  {
   "cell_type": "code",
   "execution_count": 40,
   "outputs": [
    {
     "name": "stdout",
     "output_type": "stream",
     "text": [
      "Dataframe saved successfully:  ../../data/processed/music/music_views.csv\n"
     ]
    }
   ],
   "source": [
    "music_path = \"../../data/processed/music/music_views.csv\"\n",
    "\n",
    "ppt.write_dataframe_to_csv(music_path, df_music)"
   ],
   "metadata": {
    "collapsed": false,
    "ExecuteTime": {
     "end_time": "2023-09-09T17:36:02.985075Z",
     "start_time": "2023-09-09T17:33:09.051040200Z"
    }
   },
   "id": "5430aa492aa73965"
  }
 ],
 "metadata": {
  "kernelspec": {
   "display_name": "Python 3",
   "language": "python",
   "name": "python3"
  },
  "language_info": {
   "codemirror_mode": {
    "name": "ipython",
    "version": 2
   },
   "file_extension": ".py",
   "mimetype": "text/x-python",
   "name": "python",
   "nbconvert_exporter": "python",
   "pygments_lexer": "ipython2",
   "version": "2.7.6"
  }
 },
 "nbformat": 4,
 "nbformat_minor": 5
}
