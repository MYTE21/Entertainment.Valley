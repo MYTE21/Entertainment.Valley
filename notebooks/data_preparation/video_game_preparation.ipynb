{
 "cells": [
  {
   "cell_type": "markdown",
   "source": [
    "# Video Game Dataset Preparation"
   ],
   "metadata": {
    "collapsed": false
   },
   "id": "8f98f12ced990c0"
  },
  {
   "cell_type": "markdown",
   "source": [
    "# Setting Up Necessary Things"
   ],
   "metadata": {
    "collapsed": false
   },
   "id": "89e75e2b4abb9d65"
  },
  {
   "cell_type": "code",
   "execution_count": 1,
   "id": "initial_id",
   "metadata": {
    "collapsed": true,
    "ExecuteTime": {
     "end_time": "2023-09-09T08:34:47.547192300Z",
     "start_time": "2023-09-09T08:34:46.893704100Z"
    }
   },
   "outputs": [],
   "source": [
    "# Jupyter Notebook Magic Command - Auto Reloading\n",
    "%reload_ext autoreload\n",
    "%autoreload 2\n",
    "\n",
    "# Jupyter Notebook Magic Command - Inline Plotting\n",
    "%matplotlib inline"
   ]
  },
  {
   "cell_type": "code",
   "execution_count": 2,
   "outputs": [],
   "source": [
    "# Ignore All Warnings\n",
    "import warnings\n",
    "warnings.filterwarnings(\"ignore\")"
   ],
   "metadata": {
    "collapsed": false,
    "ExecuteTime": {
     "end_time": "2023-09-09T08:34:47.609520100Z",
     "start_time": "2023-09-09T08:34:47.552710100Z"
    }
   },
   "id": "2ca85c8548badacc"
  },
  {
   "cell_type": "markdown",
   "source": [
    "# Necessary Imports"
   ],
   "metadata": {
    "collapsed": false
   },
   "id": "b8fb7429ff0c31cf"
  },
  {
   "cell_type": "code",
   "execution_count": 3,
   "outputs": [],
   "source": [
    "# General\n",
    "import os\n",
    "from IPython.display import display\n",
    "\n",
    "# Data\n",
    "import pandas as pd"
   ],
   "metadata": {
    "collapsed": false,
    "ExecuteTime": {
     "end_time": "2023-09-09T08:34:47.982906100Z",
     "start_time": "2023-09-09T08:34:47.613044400Z"
    }
   },
   "id": "3b158dad066fb37"
  },
  {
   "cell_type": "markdown",
   "source": [
    "# Data Cleaning"
   ],
   "metadata": {
    "collapsed": false
   },
   "id": "949f296e3c1a86f7"
  },
  {
   "cell_type": "code",
   "execution_count": 4,
   "outputs": [
    {
     "data": {
      "text/plain": "     AppID                   Name  Release date Estimated owners  Peak CCU  \\\n0    20200       Galactic Bowling  Oct 21, 2008        0 - 20000         0   \n1   655370           Train Bandit  Oct 12, 2017        0 - 20000         0   \n2  1732930           Jolt Project  Nov 17, 2021        0 - 20000         0   \n3  1355720               Henosis™  Jul 23, 2020        0 - 20000         0   \n4  1139950  Two Weeks in Painland   Feb 3, 2020        0 - 20000         0   \n\n   Required age  Price  DLC count  \\\n0             0  19.99          0   \n1             0   0.99          0   \n2             0   4.99          0   \n3             0   5.99          0   \n4             0   0.00          0   \n\n                                      About the game  \\\n0  Galactic Bowling is an exaggerated and stylize...   \n1  THE LAW!! Looks to be a showdown atop a train....   \n2  Jolt Project: The army now has a new robotics ...   \n3  HENOSIS™ is a mysterious 2D Platform Puzzler w...   \n4  ABOUT THE GAME Play as a hacker who has arrang...   \n\n                                 Supported languages  ...  \\\n0                                        ['English']  ...   \n1  ['English', 'French', 'Italian', 'German', 'Sp...  ...   \n2                 ['English', 'Portuguese - Brazil']  ...   \n3  ['English', 'French', 'Italian', 'German', 'Sp...  ...   \n4                     ['English', 'Spanish - Spain']  ...   \n\n  Average playtime two weeks Median playtime forever  \\\n0                          0                       0   \n1                          0                       0   \n2                          0                       0   \n3                          0                       0   \n4                          0                       0   \n\n  Median playtime two weeks             Developers             Publishers  \\\n0                         0  Perpetual FX Creative  Perpetual FX Creative   \n1                         0           Rusty Moyher           Wild Rooster   \n2                         0          Campião Games          Campião Games   \n3                         0      Odd Critter Games      Odd Critter Games   \n4                         0          Unusual Games          Unusual Games   \n\n                                          Categories  \\\n0  Single-player,Multi-player,Steam Achievements,...   \n1  Single-player,Steam Achievements,Full controll...   \n2                                      Single-player   \n3              Single-player,Full controller support   \n4                   Single-player,Steam Achievements   \n\n                            Genres  \\\n0              Casual,Indie,Sports   \n1                     Action,Indie   \n2  Action,Adventure,Indie,Strategy   \n3           Adventure,Casual,Indie   \n4                  Adventure,Indie   \n\n                                                Tags  \\\n0                        Indie,Casual,Sports,Bowling   \n1  Indie,Action,Pixel Graphics,2D,Retro,Arcade,Sc...   \n2                                                NaN   \n3  2D Platformer,Atmospheric,Surreal,Mystery,Puzz...   \n4  Indie,Adventure,Nudity,Violent,Sexual Content,...   \n\n                                         Screenshots  \\\n0  https://cdn.akamai.steamstatic.com/steam/apps/...   \n1  https://cdn.akamai.steamstatic.com/steam/apps/...   \n2  https://cdn.akamai.steamstatic.com/steam/apps/...   \n3  https://cdn.akamai.steamstatic.com/steam/apps/...   \n4  https://cdn.akamai.steamstatic.com/steam/apps/...   \n\n                                              Movies  \n0  http://cdn.akamai.steamstatic.com/steam/apps/2...  \n1  http://cdn.akamai.steamstatic.com/steam/apps/2...  \n2  http://cdn.akamai.steamstatic.com/steam/apps/2...  \n3  http://cdn.akamai.steamstatic.com/steam/apps/2...  \n4  http://cdn.akamai.steamstatic.com/steam/apps/2...  \n\n[5 rows x 39 columns]",
      "text/html": "<div>\n<style scoped>\n    .dataframe tbody tr th:only-of-type {\n        vertical-align: middle;\n    }\n\n    .dataframe tbody tr th {\n        vertical-align: top;\n    }\n\n    .dataframe thead th {\n        text-align: right;\n    }\n</style>\n<table border=\"1\" class=\"dataframe\">\n  <thead>\n    <tr style=\"text-align: right;\">\n      <th></th>\n      <th>AppID</th>\n      <th>Name</th>\n      <th>Release date</th>\n      <th>Estimated owners</th>\n      <th>Peak CCU</th>\n      <th>Required age</th>\n      <th>Price</th>\n      <th>DLC count</th>\n      <th>About the game</th>\n      <th>Supported languages</th>\n      <th>...</th>\n      <th>Average playtime two weeks</th>\n      <th>Median playtime forever</th>\n      <th>Median playtime two weeks</th>\n      <th>Developers</th>\n      <th>Publishers</th>\n      <th>Categories</th>\n      <th>Genres</th>\n      <th>Tags</th>\n      <th>Screenshots</th>\n      <th>Movies</th>\n    </tr>\n  </thead>\n  <tbody>\n    <tr>\n      <th>0</th>\n      <td>20200</td>\n      <td>Galactic Bowling</td>\n      <td>Oct 21, 2008</td>\n      <td>0 - 20000</td>\n      <td>0</td>\n      <td>0</td>\n      <td>19.99</td>\n      <td>0</td>\n      <td>Galactic Bowling is an exaggerated and stylize...</td>\n      <td>['English']</td>\n      <td>...</td>\n      <td>0</td>\n      <td>0</td>\n      <td>0</td>\n      <td>Perpetual FX Creative</td>\n      <td>Perpetual FX Creative</td>\n      <td>Single-player,Multi-player,Steam Achievements,...</td>\n      <td>Casual,Indie,Sports</td>\n      <td>Indie,Casual,Sports,Bowling</td>\n      <td>https://cdn.akamai.steamstatic.com/steam/apps/...</td>\n      <td>http://cdn.akamai.steamstatic.com/steam/apps/2...</td>\n    </tr>\n    <tr>\n      <th>1</th>\n      <td>655370</td>\n      <td>Train Bandit</td>\n      <td>Oct 12, 2017</td>\n      <td>0 - 20000</td>\n      <td>0</td>\n      <td>0</td>\n      <td>0.99</td>\n      <td>0</td>\n      <td>THE LAW!! Looks to be a showdown atop a train....</td>\n      <td>['English', 'French', 'Italian', 'German', 'Sp...</td>\n      <td>...</td>\n      <td>0</td>\n      <td>0</td>\n      <td>0</td>\n      <td>Rusty Moyher</td>\n      <td>Wild Rooster</td>\n      <td>Single-player,Steam Achievements,Full controll...</td>\n      <td>Action,Indie</td>\n      <td>Indie,Action,Pixel Graphics,2D,Retro,Arcade,Sc...</td>\n      <td>https://cdn.akamai.steamstatic.com/steam/apps/...</td>\n      <td>http://cdn.akamai.steamstatic.com/steam/apps/2...</td>\n    </tr>\n    <tr>\n      <th>2</th>\n      <td>1732930</td>\n      <td>Jolt Project</td>\n      <td>Nov 17, 2021</td>\n      <td>0 - 20000</td>\n      <td>0</td>\n      <td>0</td>\n      <td>4.99</td>\n      <td>0</td>\n      <td>Jolt Project: The army now has a new robotics ...</td>\n      <td>['English', 'Portuguese - Brazil']</td>\n      <td>...</td>\n      <td>0</td>\n      <td>0</td>\n      <td>0</td>\n      <td>Campião Games</td>\n      <td>Campião Games</td>\n      <td>Single-player</td>\n      <td>Action,Adventure,Indie,Strategy</td>\n      <td>NaN</td>\n      <td>https://cdn.akamai.steamstatic.com/steam/apps/...</td>\n      <td>http://cdn.akamai.steamstatic.com/steam/apps/2...</td>\n    </tr>\n    <tr>\n      <th>3</th>\n      <td>1355720</td>\n      <td>Henosis™</td>\n      <td>Jul 23, 2020</td>\n      <td>0 - 20000</td>\n      <td>0</td>\n      <td>0</td>\n      <td>5.99</td>\n      <td>0</td>\n      <td>HENOSIS™ is a mysterious 2D Platform Puzzler w...</td>\n      <td>['English', 'French', 'Italian', 'German', 'Sp...</td>\n      <td>...</td>\n      <td>0</td>\n      <td>0</td>\n      <td>0</td>\n      <td>Odd Critter Games</td>\n      <td>Odd Critter Games</td>\n      <td>Single-player,Full controller support</td>\n      <td>Adventure,Casual,Indie</td>\n      <td>2D Platformer,Atmospheric,Surreal,Mystery,Puzz...</td>\n      <td>https://cdn.akamai.steamstatic.com/steam/apps/...</td>\n      <td>http://cdn.akamai.steamstatic.com/steam/apps/2...</td>\n    </tr>\n    <tr>\n      <th>4</th>\n      <td>1139950</td>\n      <td>Two Weeks in Painland</td>\n      <td>Feb 3, 2020</td>\n      <td>0 - 20000</td>\n      <td>0</td>\n      <td>0</td>\n      <td>0.00</td>\n      <td>0</td>\n      <td>ABOUT THE GAME Play as a hacker who has arrang...</td>\n      <td>['English', 'Spanish - Spain']</td>\n      <td>...</td>\n      <td>0</td>\n      <td>0</td>\n      <td>0</td>\n      <td>Unusual Games</td>\n      <td>Unusual Games</td>\n      <td>Single-player,Steam Achievements</td>\n      <td>Adventure,Indie</td>\n      <td>Indie,Adventure,Nudity,Violent,Sexual Content,...</td>\n      <td>https://cdn.akamai.steamstatic.com/steam/apps/...</td>\n      <td>http://cdn.akamai.steamstatic.com/steam/apps/2...</td>\n    </tr>\n  </tbody>\n</table>\n<p>5 rows × 39 columns</p>\n</div>"
     },
     "execution_count": 4,
     "metadata": {},
     "output_type": "execute_result"
    }
   ],
   "source": [
    "df_demo = pd.read_csv(\"../../data/raw/video_game/games.csv\")\n",
    "df_demo.head()"
   ],
   "metadata": {
    "collapsed": false,
    "ExecuteTime": {
     "end_time": "2023-09-09T08:34:53.034875Z",
     "start_time": "2023-09-09T08:34:47.983905300Z"
    }
   },
   "id": "665befb38fb9452"
  },
  {
   "cell_type": "code",
   "execution_count": 5,
   "outputs": [],
   "source": [
    "# Get and Load Raw Data Into a List\n",
    "def get_dataframe(path):\n",
    "    df = pd.read_csv(path)\n",
    "    df = df.loc[:, [\"Name\", \"About the game\", \"Genres\"]]\n",
    "    df.rename(columns={\"Name\": \"title\", \n",
    "                       \"About the game\": \"description\",\n",
    "                       \"Genres\": \"genres\"}, \n",
    "              inplace=True, \n",
    "              errors='raise')\n",
    "    df = df.dropna(axis=0, how=\"any\")\n",
    "    df = df.drop_duplicates(subset = \"title\", keep='first')\n",
    "    df = df.drop_duplicates(subset = \"description\", keep='first')\n",
    "    return df"
   ],
   "metadata": {
    "collapsed": false,
    "ExecuteTime": {
     "end_time": "2023-09-09T08:34:53.218519Z",
     "start_time": "2023-09-09T08:34:53.034875Z"
    }
   },
   "id": "54bfda943ca10e4"
  },
  {
   "cell_type": "code",
   "execution_count": 6,
   "outputs": [],
   "source": [
    "# Get DataFrame Information\n",
    "def get_dataframe_info(df):\n",
    "    print(\"Shape of the dataframe: \", df.shape)\n",
    "    print(\"Null Values:\")\n",
    "    display(df.isna().sum())\n",
    "    print(\"Duplicate Movie Name Count: \", df[\"title\"].duplicated().sum())\n",
    "    print(\"Duplicate Description Count: \", df[\"description\"].duplicated().sum())\n",
    "    print(\"DataFrame Details:\")\n",
    "    display(df.describe(include=\"object\"))"
   ],
   "metadata": {
    "collapsed": false,
    "ExecuteTime": {
     "end_time": "2023-09-09T08:34:53.222051300Z",
     "start_time": "2023-09-09T08:34:53.095126Z"
    }
   },
   "id": "dde9e92857ee313f"
  },
  {
   "cell_type": "code",
   "execution_count": 7,
   "outputs": [],
   "source": [
    "video_game_df = get_dataframe(\"../../data/raw/video_game/games.csv\")"
   ],
   "metadata": {
    "collapsed": false,
    "ExecuteTime": {
     "end_time": "2023-09-09T08:34:58.026508300Z",
     "start_time": "2023-09-09T08:34:53.218519Z"
    }
   },
   "id": "d750dd8231f5fb6b"
  },
  {
   "cell_type": "code",
   "execution_count": 8,
   "outputs": [
    {
     "name": "stdout",
     "output_type": "stream",
     "text": [
      "Shape of the dataframe:  (73123, 3)\n",
      "Null Values:\n"
     ]
    },
    {
     "data": {
      "text/plain": "title          0\ndescription    0\ngenres         0\ndtype: int64"
     },
     "metadata": {},
     "output_type": "display_data"
    },
    {
     "name": "stdout",
     "output_type": "stream",
     "text": [
      "Duplicate Movie Name Count:  0\n",
      "Duplicate Description Count:  0\n",
      "DataFrame Details:\n"
     ]
    },
    {
     "data": {
      "text/plain": "                   title                                        description  \\\ncount              73123                                              73123   \nunique             73123                                              73123   \ntop     Galactic Bowling  Galactic Bowling is an exaggerated and stylize...   \nfreq                   1                                                  1   \n\n              genres  \ncount          73123  \nunique          2260  \ntop     Casual,Indie  \nfreq            4240  ",
      "text/html": "<div>\n<style scoped>\n    .dataframe tbody tr th:only-of-type {\n        vertical-align: middle;\n    }\n\n    .dataframe tbody tr th {\n        vertical-align: top;\n    }\n\n    .dataframe thead th {\n        text-align: right;\n    }\n</style>\n<table border=\"1\" class=\"dataframe\">\n  <thead>\n    <tr style=\"text-align: right;\">\n      <th></th>\n      <th>title</th>\n      <th>description</th>\n      <th>genres</th>\n    </tr>\n  </thead>\n  <tbody>\n    <tr>\n      <th>count</th>\n      <td>73123</td>\n      <td>73123</td>\n      <td>73123</td>\n    </tr>\n    <tr>\n      <th>unique</th>\n      <td>73123</td>\n      <td>73123</td>\n      <td>2260</td>\n    </tr>\n    <tr>\n      <th>top</th>\n      <td>Galactic Bowling</td>\n      <td>Galactic Bowling is an exaggerated and stylize...</td>\n      <td>Casual,Indie</td>\n    </tr>\n    <tr>\n      <th>freq</th>\n      <td>1</td>\n      <td>1</td>\n      <td>4240</td>\n    </tr>\n  </tbody>\n</table>\n</div>"
     },
     "metadata": {},
     "output_type": "display_data"
    }
   ],
   "source": [
    "get_dataframe_info(video_game_df)"
   ],
   "metadata": {
    "collapsed": false,
    "ExecuteTime": {
     "end_time": "2023-09-09T08:34:58.252678800Z",
     "start_time": "2023-09-09T08:34:58.029510Z"
    }
   },
   "id": "3828197d8940660f"
  },
  {
   "cell_type": "markdown",
   "source": [
    "## Primary Genre and Type"
   ],
   "metadata": {
    "collapsed": false
   },
   "id": "cb936acba7497a6f"
  },
  {
   "cell_type": "code",
   "execution_count": 11,
   "outputs": [
    {
     "data": {
      "text/plain": "(73123, ['Casual', 'Action', 'Action', 'Adventure', 'Adventure'])"
     },
     "execution_count": 11,
     "metadata": {},
     "output_type": "execute_result"
    }
   ],
   "source": [
    "# Create Primary Genre Column From Genres\n",
    "primary_genre = []\n",
    "\n",
    "for i in range(video_game_df.shape[0]):\n",
    "    primary_genre.append(video_game_df[\"genres\"].iloc[i].split(\",\")[0])\n",
    "\n",
    "len(primary_genre), primary_genre[:5]"
   ],
   "metadata": {
    "collapsed": false,
    "ExecuteTime": {
     "end_time": "2023-09-09T08:36:47.983930600Z",
     "start_time": "2023-09-09T08:36:46.849495100Z"
    }
   },
   "id": "f95ea56c0d799cba"
  },
  {
   "cell_type": "code",
   "execution_count": 12,
   "outputs": [],
   "source": [
    "# insert Primary Genre column into the dataframe\n",
    "video_game_df[\"primary_genre\"] = primary_genre"
   ],
   "metadata": {
    "collapsed": false,
    "ExecuteTime": {
     "end_time": "2023-09-09T08:37:27.956751700Z",
     "start_time": "2023-09-09T08:37:27.862201Z"
    }
   },
   "id": "627f78a2e412d555"
  },
  {
   "cell_type": "code",
   "execution_count": 13,
   "outputs": [],
   "source": [
    "# Entertainment Type Video Game Enter\n",
    "video_game_df[\"type\"] = \"video game\""
   ],
   "metadata": {
    "collapsed": false,
    "ExecuteTime": {
     "end_time": "2023-09-09T08:38:06.952867900Z",
     "start_time": "2023-09-09T08:38:06.892364500Z"
    }
   },
   "id": "1dc2d3a22e6ae1bc"
  },
  {
   "cell_type": "code",
   "execution_count": 14,
   "outputs": [
    {
     "data": {
      "text/plain": "                   title                                        description  \\\n0       Galactic Bowling  Galactic Bowling is an exaggerated and stylize...   \n1           Train Bandit  THE LAW!! Looks to be a showdown atop a train....   \n2           Jolt Project  Jolt Project: The army now has a new robotics ...   \n3               Henosis™  HENOSIS™ is a mysterious 2D Platform Puzzler w...   \n4  Two Weeks in Painland  ABOUT THE GAME Play as a hacker who has arrang...   \n\n                            genres primary_genre        type  \n0              Casual,Indie,Sports        Casual  video game  \n1                     Action,Indie        Action  video game  \n2  Action,Adventure,Indie,Strategy        Action  video game  \n3           Adventure,Casual,Indie     Adventure  video game  \n4                  Adventure,Indie     Adventure  video game  ",
      "text/html": "<div>\n<style scoped>\n    .dataframe tbody tr th:only-of-type {\n        vertical-align: middle;\n    }\n\n    .dataframe tbody tr th {\n        vertical-align: top;\n    }\n\n    .dataframe thead th {\n        text-align: right;\n    }\n</style>\n<table border=\"1\" class=\"dataframe\">\n  <thead>\n    <tr style=\"text-align: right;\">\n      <th></th>\n      <th>title</th>\n      <th>description</th>\n      <th>genres</th>\n      <th>primary_genre</th>\n      <th>type</th>\n    </tr>\n  </thead>\n  <tbody>\n    <tr>\n      <th>0</th>\n      <td>Galactic Bowling</td>\n      <td>Galactic Bowling is an exaggerated and stylize...</td>\n      <td>Casual,Indie,Sports</td>\n      <td>Casual</td>\n      <td>video game</td>\n    </tr>\n    <tr>\n      <th>1</th>\n      <td>Train Bandit</td>\n      <td>THE LAW!! Looks to be a showdown atop a train....</td>\n      <td>Action,Indie</td>\n      <td>Action</td>\n      <td>video game</td>\n    </tr>\n    <tr>\n      <th>2</th>\n      <td>Jolt Project</td>\n      <td>Jolt Project: The army now has a new robotics ...</td>\n      <td>Action,Adventure,Indie,Strategy</td>\n      <td>Action</td>\n      <td>video game</td>\n    </tr>\n    <tr>\n      <th>3</th>\n      <td>Henosis™</td>\n      <td>HENOSIS™ is a mysterious 2D Platform Puzzler w...</td>\n      <td>Adventure,Casual,Indie</td>\n      <td>Adventure</td>\n      <td>video game</td>\n    </tr>\n    <tr>\n      <th>4</th>\n      <td>Two Weeks in Painland</td>\n      <td>ABOUT THE GAME Play as a hacker who has arrang...</td>\n      <td>Adventure,Indie</td>\n      <td>Adventure</td>\n      <td>video game</td>\n    </tr>\n  </tbody>\n</table>\n</div>"
     },
     "execution_count": 14,
     "metadata": {},
     "output_type": "execute_result"
    }
   ],
   "source": [
    "video_game_df.head()"
   ],
   "metadata": {
    "collapsed": false,
    "ExecuteTime": {
     "end_time": "2023-09-09T08:38:20.969530500Z",
     "start_time": "2023-09-09T08:38:20.833457500Z"
    }
   },
   "id": "bed1d84b70b56ece"
  },
  {
   "cell_type": "markdown",
   "source": [
    "# Dataframe to CSV"
   ],
   "metadata": {
    "collapsed": false
   },
   "id": "ad614aa4fade184c"
  },
  {
   "cell_type": "code",
   "execution_count": 15,
   "outputs": [],
   "source": [
    "# Method to convert dataframe to CSV and save\n",
    "def write_dataframe_to_csv(path, dataframe):\n",
    "    if os.path.exists(path):\n",
    "        print(f\"The file already exists ...! [Find the file in the location '{path}']\")\n",
    "    else:\n",
    "        dataframe.to_csv(path, index = False)\n",
    "        print(\"Dataframe saved successfully: \", path)"
   ],
   "metadata": {
    "collapsed": false,
    "ExecuteTime": {
     "end_time": "2023-09-09T08:38:51.066711200Z",
     "start_time": "2023-09-09T08:38:50.989497800Z"
    }
   },
   "id": "407ce1686eba6058"
  },
  {
   "cell_type": "code",
   "execution_count": 16,
   "outputs": [
    {
     "name": "stdout",
     "output_type": "stream",
     "text": [
      "Dataframe saved successfully:  ../../data/processed/video_game/video_game.csv\n"
     ]
    }
   ],
   "source": [
    "video_game_path = \"../../data/processed/video_game/video_game.csv\"\n",
    "\n",
    "write_dataframe_to_csv(video_game_path, video_game_df)"
   ],
   "metadata": {
    "collapsed": false,
    "ExecuteTime": {
     "end_time": "2023-09-09T08:40:18.149531800Z",
     "start_time": "2023-09-09T08:40:13.798682900Z"
    }
   },
   "id": "ebe290d84145e153"
  }
 ],
 "metadata": {
  "kernelspec": {
   "display_name": "Python 3",
   "language": "python",
   "name": "python3"
  },
  "language_info": {
   "codemirror_mode": {
    "name": "ipython",
    "version": 2
   },
   "file_extension": ".py",
   "mimetype": "text/x-python",
   "name": "python",
   "nbconvert_exporter": "python",
   "pygments_lexer": "ipython2",
   "version": "2.7.6"
  }
 },
 "nbformat": 4,
 "nbformat_minor": 5
}
