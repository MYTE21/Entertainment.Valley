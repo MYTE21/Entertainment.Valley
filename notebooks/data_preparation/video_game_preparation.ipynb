{
 "cells": [
  {
   "cell_type": "markdown",
   "source": [
    "# Video Game Dataset Preparation"
   ],
   "metadata": {
    "collapsed": false
   },
   "id": "8f98f12ced990c0"
  },
  {
   "cell_type": "markdown",
   "source": [
    "# Setting Up Necessary Things"
   ],
   "metadata": {
    "collapsed": false
   },
   "id": "89e75e2b4abb9d65"
  },
  {
   "cell_type": "code",
   "execution_count": 15,
   "id": "initial_id",
   "metadata": {
    "collapsed": true,
    "ExecuteTime": {
     "end_time": "2023-09-09T11:16:06.949083300Z",
     "start_time": "2023-09-09T11:16:06.746162800Z"
    }
   },
   "outputs": [],
   "source": [
    "# Jupyter Notebook Magic Command - Auto Reloading\n",
    "%reload_ext autoreload\n",
    "%autoreload 2\n",
    "\n",
    "# Jupyter Notebook Magic Command - Inline Plotting\n",
    "%matplotlib inline"
   ]
  },
  {
   "cell_type": "code",
   "execution_count": 16,
   "outputs": [],
   "source": [
    "# Ignore All Warnings\n",
    "import warnings\n",
    "warnings.filterwarnings(\"ignore\")"
   ],
   "metadata": {
    "collapsed": false,
    "ExecuteTime": {
     "end_time": "2023-09-09T11:16:07.097151900Z",
     "start_time": "2023-09-09T11:16:06.926582Z"
    }
   },
   "id": "2ca85c8548badacc"
  },
  {
   "cell_type": "markdown",
   "source": [
    "# Necessary Imports"
   ],
   "metadata": {
    "collapsed": false
   },
   "id": "b8fb7429ff0c31cf"
  },
  {
   "cell_type": "code",
   "execution_count": 17,
   "outputs": [],
   "source": [
    "# General\n",
    "import os\n",
    "from IPython.display import display\n",
    "\n",
    "# Data\n",
    "import pandas as pd\n",
    "\n",
    "# Custom \n",
    "import preparation as ppt"
   ],
   "metadata": {
    "collapsed": false,
    "ExecuteTime": {
     "end_time": "2023-09-09T11:16:07.249780100Z",
     "start_time": "2023-09-09T11:16:07.097151900Z"
    }
   },
   "id": "3b158dad066fb37"
  },
  {
   "cell_type": "markdown",
   "source": [
    "# Without Rating"
   ],
   "metadata": {
    "collapsed": false
   },
   "id": "8b16b5eb09f0b630"
  },
  {
   "cell_type": "markdown",
   "source": [
    "## Data Cleaning"
   ],
   "metadata": {
    "collapsed": false
   },
   "id": "949f296e3c1a86f7"
  },
  {
   "cell_type": "code",
   "execution_count": 18,
   "outputs": [],
   "source": [
    "# Path\n",
    "file_path_wr = \"../../data/raw/video_game/games.csv\""
   ],
   "metadata": {
    "collapsed": false,
    "ExecuteTime": {
     "end_time": "2023-09-09T11:16:07.406598200Z",
     "start_time": "2023-09-09T11:16:07.251778100Z"
    }
   },
   "id": "c5d9909ac78312a1"
  },
  {
   "cell_type": "code",
   "execution_count": 19,
   "outputs": [
    {
     "data": {
      "text/plain": "     AppID                   Name  Release date Estimated owners  Peak CCU  \\\n0    20200       Galactic Bowling  Oct 21, 2008        0 - 20000         0   \n1   655370           Train Bandit  Oct 12, 2017        0 - 20000         0   \n2  1732930           Jolt Project  Nov 17, 2021        0 - 20000         0   \n3  1355720               Henosis™  Jul 23, 2020        0 - 20000         0   \n4  1139950  Two Weeks in Painland   Feb 3, 2020        0 - 20000         0   \n\n   Required age  Price  DLC count  \\\n0             0  19.99          0   \n1             0   0.99          0   \n2             0   4.99          0   \n3             0   5.99          0   \n4             0   0.00          0   \n\n                                      About the game  \\\n0  Galactic Bowling is an exaggerated and stylize...   \n1  THE LAW!! Looks to be a showdown atop a train....   \n2  Jolt Project: The army now has a new robotics ...   \n3  HENOSIS™ is a mysterious 2D Platform Puzzler w...   \n4  ABOUT THE GAME Play as a hacker who has arrang...   \n\n                                 Supported languages  ...  \\\n0                                        ['English']  ...   \n1  ['English', 'French', 'Italian', 'German', 'Sp...  ...   \n2                 ['English', 'Portuguese - Brazil']  ...   \n3  ['English', 'French', 'Italian', 'German', 'Sp...  ...   \n4                     ['English', 'Spanish - Spain']  ...   \n\n  Average playtime two weeks Median playtime forever  \\\n0                          0                       0   \n1                          0                       0   \n2                          0                       0   \n3                          0                       0   \n4                          0                       0   \n\n  Median playtime two weeks             Developers             Publishers  \\\n0                         0  Perpetual FX Creative  Perpetual FX Creative   \n1                         0           Rusty Moyher           Wild Rooster   \n2                         0          Campião Games          Campião Games   \n3                         0      Odd Critter Games      Odd Critter Games   \n4                         0          Unusual Games          Unusual Games   \n\n                                          Categories  \\\n0  Single-player,Multi-player,Steam Achievements,...   \n1  Single-player,Steam Achievements,Full controll...   \n2                                      Single-player   \n3              Single-player,Full controller support   \n4                   Single-player,Steam Achievements   \n\n                            Genres  \\\n0              Casual,Indie,Sports   \n1                     Action,Indie   \n2  Action,Adventure,Indie,Strategy   \n3           Adventure,Casual,Indie   \n4                  Adventure,Indie   \n\n                                                Tags  \\\n0                        Indie,Casual,Sports,Bowling   \n1  Indie,Action,Pixel Graphics,2D,Retro,Arcade,Sc...   \n2                                                NaN   \n3  2D Platformer,Atmospheric,Surreal,Mystery,Puzz...   \n4  Indie,Adventure,Nudity,Violent,Sexual Content,...   \n\n                                         Screenshots  \\\n0  https://cdn.akamai.steamstatic.com/steam/apps/...   \n1  https://cdn.akamai.steamstatic.com/steam/apps/...   \n2  https://cdn.akamai.steamstatic.com/steam/apps/...   \n3  https://cdn.akamai.steamstatic.com/steam/apps/...   \n4  https://cdn.akamai.steamstatic.com/steam/apps/...   \n\n                                              Movies  \n0  http://cdn.akamai.steamstatic.com/steam/apps/2...  \n1  http://cdn.akamai.steamstatic.com/steam/apps/2...  \n2  http://cdn.akamai.steamstatic.com/steam/apps/2...  \n3  http://cdn.akamai.steamstatic.com/steam/apps/2...  \n4  http://cdn.akamai.steamstatic.com/steam/apps/2...  \n\n[5 rows x 39 columns]",
      "text/html": "<div>\n<style scoped>\n    .dataframe tbody tr th:only-of-type {\n        vertical-align: middle;\n    }\n\n    .dataframe tbody tr th {\n        vertical-align: top;\n    }\n\n    .dataframe thead th {\n        text-align: right;\n    }\n</style>\n<table border=\"1\" class=\"dataframe\">\n  <thead>\n    <tr style=\"text-align: right;\">\n      <th></th>\n      <th>AppID</th>\n      <th>Name</th>\n      <th>Release date</th>\n      <th>Estimated owners</th>\n      <th>Peak CCU</th>\n      <th>Required age</th>\n      <th>Price</th>\n      <th>DLC count</th>\n      <th>About the game</th>\n      <th>Supported languages</th>\n      <th>...</th>\n      <th>Average playtime two weeks</th>\n      <th>Median playtime forever</th>\n      <th>Median playtime two weeks</th>\n      <th>Developers</th>\n      <th>Publishers</th>\n      <th>Categories</th>\n      <th>Genres</th>\n      <th>Tags</th>\n      <th>Screenshots</th>\n      <th>Movies</th>\n    </tr>\n  </thead>\n  <tbody>\n    <tr>\n      <th>0</th>\n      <td>20200</td>\n      <td>Galactic Bowling</td>\n      <td>Oct 21, 2008</td>\n      <td>0 - 20000</td>\n      <td>0</td>\n      <td>0</td>\n      <td>19.99</td>\n      <td>0</td>\n      <td>Galactic Bowling is an exaggerated and stylize...</td>\n      <td>['English']</td>\n      <td>...</td>\n      <td>0</td>\n      <td>0</td>\n      <td>0</td>\n      <td>Perpetual FX Creative</td>\n      <td>Perpetual FX Creative</td>\n      <td>Single-player,Multi-player,Steam Achievements,...</td>\n      <td>Casual,Indie,Sports</td>\n      <td>Indie,Casual,Sports,Bowling</td>\n      <td>https://cdn.akamai.steamstatic.com/steam/apps/...</td>\n      <td>http://cdn.akamai.steamstatic.com/steam/apps/2...</td>\n    </tr>\n    <tr>\n      <th>1</th>\n      <td>655370</td>\n      <td>Train Bandit</td>\n      <td>Oct 12, 2017</td>\n      <td>0 - 20000</td>\n      <td>0</td>\n      <td>0</td>\n      <td>0.99</td>\n      <td>0</td>\n      <td>THE LAW!! Looks to be a showdown atop a train....</td>\n      <td>['English', 'French', 'Italian', 'German', 'Sp...</td>\n      <td>...</td>\n      <td>0</td>\n      <td>0</td>\n      <td>0</td>\n      <td>Rusty Moyher</td>\n      <td>Wild Rooster</td>\n      <td>Single-player,Steam Achievements,Full controll...</td>\n      <td>Action,Indie</td>\n      <td>Indie,Action,Pixel Graphics,2D,Retro,Arcade,Sc...</td>\n      <td>https://cdn.akamai.steamstatic.com/steam/apps/...</td>\n      <td>http://cdn.akamai.steamstatic.com/steam/apps/2...</td>\n    </tr>\n    <tr>\n      <th>2</th>\n      <td>1732930</td>\n      <td>Jolt Project</td>\n      <td>Nov 17, 2021</td>\n      <td>0 - 20000</td>\n      <td>0</td>\n      <td>0</td>\n      <td>4.99</td>\n      <td>0</td>\n      <td>Jolt Project: The army now has a new robotics ...</td>\n      <td>['English', 'Portuguese - Brazil']</td>\n      <td>...</td>\n      <td>0</td>\n      <td>0</td>\n      <td>0</td>\n      <td>Campião Games</td>\n      <td>Campião Games</td>\n      <td>Single-player</td>\n      <td>Action,Adventure,Indie,Strategy</td>\n      <td>NaN</td>\n      <td>https://cdn.akamai.steamstatic.com/steam/apps/...</td>\n      <td>http://cdn.akamai.steamstatic.com/steam/apps/2...</td>\n    </tr>\n    <tr>\n      <th>3</th>\n      <td>1355720</td>\n      <td>Henosis™</td>\n      <td>Jul 23, 2020</td>\n      <td>0 - 20000</td>\n      <td>0</td>\n      <td>0</td>\n      <td>5.99</td>\n      <td>0</td>\n      <td>HENOSIS™ is a mysterious 2D Platform Puzzler w...</td>\n      <td>['English', 'French', 'Italian', 'German', 'Sp...</td>\n      <td>...</td>\n      <td>0</td>\n      <td>0</td>\n      <td>0</td>\n      <td>Odd Critter Games</td>\n      <td>Odd Critter Games</td>\n      <td>Single-player,Full controller support</td>\n      <td>Adventure,Casual,Indie</td>\n      <td>2D Platformer,Atmospheric,Surreal,Mystery,Puzz...</td>\n      <td>https://cdn.akamai.steamstatic.com/steam/apps/...</td>\n      <td>http://cdn.akamai.steamstatic.com/steam/apps/2...</td>\n    </tr>\n    <tr>\n      <th>4</th>\n      <td>1139950</td>\n      <td>Two Weeks in Painland</td>\n      <td>Feb 3, 2020</td>\n      <td>0 - 20000</td>\n      <td>0</td>\n      <td>0</td>\n      <td>0.00</td>\n      <td>0</td>\n      <td>ABOUT THE GAME Play as a hacker who has arrang...</td>\n      <td>['English', 'Spanish - Spain']</td>\n      <td>...</td>\n      <td>0</td>\n      <td>0</td>\n      <td>0</td>\n      <td>Unusual Games</td>\n      <td>Unusual Games</td>\n      <td>Single-player,Steam Achievements</td>\n      <td>Adventure,Indie</td>\n      <td>Indie,Adventure,Nudity,Violent,Sexual Content,...</td>\n      <td>https://cdn.akamai.steamstatic.com/steam/apps/...</td>\n      <td>http://cdn.akamai.steamstatic.com/steam/apps/2...</td>\n    </tr>\n  </tbody>\n</table>\n<p>5 rows × 39 columns</p>\n</div>"
     },
     "execution_count": 19,
     "metadata": {},
     "output_type": "execute_result"
    }
   ],
   "source": [
    "# Show Video Game DataFrame\n",
    "df = pd.read_csv(file_path_wr)\n",
    "df.head()"
   ],
   "metadata": {
    "collapsed": false,
    "ExecuteTime": {
     "end_time": "2023-09-09T11:16:11.322829600Z",
     "start_time": "2023-09-09T11:16:07.408598600Z"
    }
   },
   "id": "665befb38fb9452"
  },
  {
   "cell_type": "code",
   "execution_count": 20,
   "outputs": [],
   "source": [
    "# Column Names\n",
    "cols_name = [\"Name\", \"About the game\", \"Genres\"]"
   ],
   "metadata": {
    "collapsed": false,
    "ExecuteTime": {
     "end_time": "2023-09-09T11:16:11.505228Z",
     "start_time": "2023-09-09T11:16:11.317034500Z"
    }
   },
   "id": "c7707d54e4f425db"
  },
  {
   "cell_type": "code",
   "execution_count": 21,
   "outputs": [],
   "source": [
    "df_video_game = ppt.get_processed_df(file_path_wr, cols_name, \"game\")"
   ],
   "metadata": {
    "collapsed": false,
    "ExecuteTime": {
     "end_time": "2023-09-09T11:16:16.456260600Z",
     "start_time": "2023-09-09T11:16:11.502215700Z"
    }
   },
   "id": "de8728786b97b1fd"
  },
  {
   "cell_type": "code",
   "execution_count": 22,
   "outputs": [
    {
     "name": "stdout",
     "output_type": "stream",
     "text": [
      "Shape of the dataframe:  (73123, 5)\n",
      "The DataFrame: \n"
     ]
    },
    {
     "data": {
      "text/plain": "                   title                                        description  \\\n0       Galactic Bowling  Galactic Bowling is an exaggerated and stylize...   \n1           Train Bandit  THE LAW!! Looks to be a showdown atop a train....   \n2           Jolt Project  Jolt Project: The army now has a new robotics ...   \n3               Henosis™  HENOSIS™ is a mysterious 2D Platform Puzzler w...   \n4  Two Weeks in Painland  ABOUT THE GAME Play as a hacker who has arrang...   \n\n                            genres primary_genre  type  \n0              Casual,Indie,Sports        Casual  game  \n1                     Action,Indie        Action  game  \n2  Action,Adventure,Indie,Strategy        Action  game  \n3           Adventure,Casual,Indie     Adventure  game  \n4                  Adventure,Indie     Adventure  game  ",
      "text/html": "<div>\n<style scoped>\n    .dataframe tbody tr th:only-of-type {\n        vertical-align: middle;\n    }\n\n    .dataframe tbody tr th {\n        vertical-align: top;\n    }\n\n    .dataframe thead th {\n        text-align: right;\n    }\n</style>\n<table border=\"1\" class=\"dataframe\">\n  <thead>\n    <tr style=\"text-align: right;\">\n      <th></th>\n      <th>title</th>\n      <th>description</th>\n      <th>genres</th>\n      <th>primary_genre</th>\n      <th>type</th>\n    </tr>\n  </thead>\n  <tbody>\n    <tr>\n      <th>0</th>\n      <td>Galactic Bowling</td>\n      <td>Galactic Bowling is an exaggerated and stylize...</td>\n      <td>Casual,Indie,Sports</td>\n      <td>Casual</td>\n      <td>game</td>\n    </tr>\n    <tr>\n      <th>1</th>\n      <td>Train Bandit</td>\n      <td>THE LAW!! Looks to be a showdown atop a train....</td>\n      <td>Action,Indie</td>\n      <td>Action</td>\n      <td>game</td>\n    </tr>\n    <tr>\n      <th>2</th>\n      <td>Jolt Project</td>\n      <td>Jolt Project: The army now has a new robotics ...</td>\n      <td>Action,Adventure,Indie,Strategy</td>\n      <td>Action</td>\n      <td>game</td>\n    </tr>\n    <tr>\n      <th>3</th>\n      <td>Henosis™</td>\n      <td>HENOSIS™ is a mysterious 2D Platform Puzzler w...</td>\n      <td>Adventure,Casual,Indie</td>\n      <td>Adventure</td>\n      <td>game</td>\n    </tr>\n    <tr>\n      <th>4</th>\n      <td>Two Weeks in Painland</td>\n      <td>ABOUT THE GAME Play as a hacker who has arrang...</td>\n      <td>Adventure,Indie</td>\n      <td>Adventure</td>\n      <td>game</td>\n    </tr>\n  </tbody>\n</table>\n</div>"
     },
     "metadata": {},
     "output_type": "display_data"
    },
    {
     "name": "stdout",
     "output_type": "stream",
     "text": [
      "All Data Types: \n"
     ]
    },
    {
     "data": {
      "text/plain": "title            object\ndescription      object\ngenres           object\nprimary_genre    object\ntype             object\ndtype: object"
     },
     "metadata": {},
     "output_type": "display_data"
    },
    {
     "name": "stdout",
     "output_type": "stream",
     "text": [
      "Null Values:\n"
     ]
    },
    {
     "data": {
      "text/plain": "title            0\ndescription      0\ngenres           0\nprimary_genre    0\ntype             0\ndtype: int64"
     },
     "metadata": {},
     "output_type": "display_data"
    },
    {
     "name": "stdout",
     "output_type": "stream",
     "text": [
      "Duplicate Movie Name Count:  0\n",
      "Duplicate Description Count:  0\n",
      "DataFrame Details:\n"
     ]
    },
    {
     "data": {
      "text/plain": "                   title                                        description  \\\ncount              73123                                              73123   \nunique             73123                                              73123   \ntop     Galactic Bowling  Galactic Bowling is an exaggerated and stylize...   \nfreq                   1                                                  1   \n\n              genres primary_genre   type  \ncount          73123         73123  73123  \nunique          2260            27      1  \ntop     Casual,Indie        Action   game  \nfreq            4240         30024  73123  ",
      "text/html": "<div>\n<style scoped>\n    .dataframe tbody tr th:only-of-type {\n        vertical-align: middle;\n    }\n\n    .dataframe tbody tr th {\n        vertical-align: top;\n    }\n\n    .dataframe thead th {\n        text-align: right;\n    }\n</style>\n<table border=\"1\" class=\"dataframe\">\n  <thead>\n    <tr style=\"text-align: right;\">\n      <th></th>\n      <th>title</th>\n      <th>description</th>\n      <th>genres</th>\n      <th>primary_genre</th>\n      <th>type</th>\n    </tr>\n  </thead>\n  <tbody>\n    <tr>\n      <th>count</th>\n      <td>73123</td>\n      <td>73123</td>\n      <td>73123</td>\n      <td>73123</td>\n      <td>73123</td>\n    </tr>\n    <tr>\n      <th>unique</th>\n      <td>73123</td>\n      <td>73123</td>\n      <td>2260</td>\n      <td>27</td>\n      <td>1</td>\n    </tr>\n    <tr>\n      <th>top</th>\n      <td>Galactic Bowling</td>\n      <td>Galactic Bowling is an exaggerated and stylize...</td>\n      <td>Casual,Indie</td>\n      <td>Action</td>\n      <td>game</td>\n    </tr>\n    <tr>\n      <th>freq</th>\n      <td>1</td>\n      <td>1</td>\n      <td>4240</td>\n      <td>30024</td>\n      <td>73123</td>\n    </tr>\n  </tbody>\n</table>\n</div>"
     },
     "metadata": {},
     "output_type": "display_data"
    }
   ],
   "source": [
    "ppt.get_df_info(df_video_game)"
   ],
   "metadata": {
    "collapsed": false,
    "ExecuteTime": {
     "end_time": "2023-09-09T11:16:16.792244300Z",
     "start_time": "2023-09-09T11:16:16.458356800Z"
    }
   },
   "id": "ea55b2bed291fad9"
  },
  {
   "cell_type": "markdown",
   "source": [
    "## DataFrame to CSV"
   ],
   "metadata": {
    "collapsed": false
   },
   "id": "ad614aa4fade184c"
  },
  {
   "cell_type": "code",
   "execution_count": 23,
   "outputs": [
    {
     "name": "stdout",
     "output_type": "stream",
     "text": [
      "Dataframe saved successfully:  ../../data/processed/video_game/video_game.csv\n"
     ]
    }
   ],
   "source": [
    "video_game_path = \"../../data/processed/video_game/video_game.csv\"\n",
    "\n",
    "ppt.write_dataframe_to_csv(video_game_path, df_video_game)"
   ],
   "metadata": {
    "collapsed": false,
    "ExecuteTime": {
     "end_time": "2023-09-09T11:16:21.013879600Z",
     "start_time": "2023-09-09T11:16:16.786702200Z"
    }
   },
   "id": "ebe290d84145e153"
  },
  {
   "cell_type": "markdown",
   "source": [
    "# With Rating"
   ],
   "metadata": {
    "collapsed": false
   },
   "id": "374b1e290396ef51"
  },
  {
   "cell_type": "markdown",
   "source": [
    "## Data Cleaning"
   ],
   "metadata": {
    "collapsed": false
   },
   "id": "c3231a478d351441"
  },
  {
   "cell_type": "code",
   "execution_count": 24,
   "outputs": [],
   "source": [
    "# Path\n",
    "file_path_wr = \"../../data/raw/video_game/imdb_games.csv\""
   ],
   "metadata": {
    "collapsed": false,
    "ExecuteTime": {
     "end_time": "2023-09-09T11:18:01.636909400Z",
     "start_time": "2023-09-09T11:18:01.457703900Z"
    }
   },
   "id": "5f5a337c12251325"
  },
  {
   "cell_type": "code",
   "execution_count": 25,
   "outputs": [
    {
     "data": {
      "text/plain": "   Unnamed: 0                        name  \\\n0           0                  Spider-Man   \n1           1      Red Dead Redemption II   \n2           2          Grand Theft Auto V   \n3           3                  God of War   \n4           4  Uncharted 4: A Thief's End   \n\n                                                 url    year certificate  \\\n0  https://www.imdb.com/title/tt5807780/?ref_=adv...  2018.0           T   \n1  https://www.imdb.com/title/tt6161168/?ref_=adv...  2018.0           M   \n2  https://www.imdb.com/title/tt2103188/?ref_=adv...  2013.0           M   \n3  https://www.imdb.com/title/tt5838588/?ref_=adv...  2018.0           M   \n4  https://www.imdb.com/title/tt3334704/?ref_=adv...  2016.0           T   \n\n   rating   votes                                               plot  Action  \\\n0     9.2  20,759  When a new villain threatens New York City, Pe...    True   \n1     9.7  35,703  Amidst the decline of the Wild West at the tur...    True   \n2     9.5  59,986  Three very different criminals team up for a s...    True   \n3     9.6  26,118  After wiping out the gods of Mount Olympus, Kr...    True   \n4     9.5  28,722  Thrown back into the dangerous underworld he'd...    True   \n\n   Adventure  Comedy  Crime  Family  Fantasy  Mystery  Sci-Fi  Thriller  \n0       True   False  False   False     True    False   False     False  \n1       True   False   True   False    False    False   False     False  \n2      False   False   True   False    False    False   False     False  \n3       True   False  False   False    False    False   False     False  \n4       True   False  False   False    False    False   False     False  ",
      "text/html": "<div>\n<style scoped>\n    .dataframe tbody tr th:only-of-type {\n        vertical-align: middle;\n    }\n\n    .dataframe tbody tr th {\n        vertical-align: top;\n    }\n\n    .dataframe thead th {\n        text-align: right;\n    }\n</style>\n<table border=\"1\" class=\"dataframe\">\n  <thead>\n    <tr style=\"text-align: right;\">\n      <th></th>\n      <th>Unnamed: 0</th>\n      <th>name</th>\n      <th>url</th>\n      <th>year</th>\n      <th>certificate</th>\n      <th>rating</th>\n      <th>votes</th>\n      <th>plot</th>\n      <th>Action</th>\n      <th>Adventure</th>\n      <th>Comedy</th>\n      <th>Crime</th>\n      <th>Family</th>\n      <th>Fantasy</th>\n      <th>Mystery</th>\n      <th>Sci-Fi</th>\n      <th>Thriller</th>\n    </tr>\n  </thead>\n  <tbody>\n    <tr>\n      <th>0</th>\n      <td>0</td>\n      <td>Spider-Man</td>\n      <td>https://www.imdb.com/title/tt5807780/?ref_=adv...</td>\n      <td>2018.0</td>\n      <td>T</td>\n      <td>9.2</td>\n      <td>20,759</td>\n      <td>When a new villain threatens New York City, Pe...</td>\n      <td>True</td>\n      <td>True</td>\n      <td>False</td>\n      <td>False</td>\n      <td>False</td>\n      <td>True</td>\n      <td>False</td>\n      <td>False</td>\n      <td>False</td>\n    </tr>\n    <tr>\n      <th>1</th>\n      <td>1</td>\n      <td>Red Dead Redemption II</td>\n      <td>https://www.imdb.com/title/tt6161168/?ref_=adv...</td>\n      <td>2018.0</td>\n      <td>M</td>\n      <td>9.7</td>\n      <td>35,703</td>\n      <td>Amidst the decline of the Wild West at the tur...</td>\n      <td>True</td>\n      <td>True</td>\n      <td>False</td>\n      <td>True</td>\n      <td>False</td>\n      <td>False</td>\n      <td>False</td>\n      <td>False</td>\n      <td>False</td>\n    </tr>\n    <tr>\n      <th>2</th>\n      <td>2</td>\n      <td>Grand Theft Auto V</td>\n      <td>https://www.imdb.com/title/tt2103188/?ref_=adv...</td>\n      <td>2013.0</td>\n      <td>M</td>\n      <td>9.5</td>\n      <td>59,986</td>\n      <td>Three very different criminals team up for a s...</td>\n      <td>True</td>\n      <td>False</td>\n      <td>False</td>\n      <td>True</td>\n      <td>False</td>\n      <td>False</td>\n      <td>False</td>\n      <td>False</td>\n      <td>False</td>\n    </tr>\n    <tr>\n      <th>3</th>\n      <td>3</td>\n      <td>God of War</td>\n      <td>https://www.imdb.com/title/tt5838588/?ref_=adv...</td>\n      <td>2018.0</td>\n      <td>M</td>\n      <td>9.6</td>\n      <td>26,118</td>\n      <td>After wiping out the gods of Mount Olympus, Kr...</td>\n      <td>True</td>\n      <td>True</td>\n      <td>False</td>\n      <td>False</td>\n      <td>False</td>\n      <td>False</td>\n      <td>False</td>\n      <td>False</td>\n      <td>False</td>\n    </tr>\n    <tr>\n      <th>4</th>\n      <td>4</td>\n      <td>Uncharted 4: A Thief's End</td>\n      <td>https://www.imdb.com/title/tt3334704/?ref_=adv...</td>\n      <td>2016.0</td>\n      <td>T</td>\n      <td>9.5</td>\n      <td>28,722</td>\n      <td>Thrown back into the dangerous underworld he'd...</td>\n      <td>True</td>\n      <td>True</td>\n      <td>False</td>\n      <td>False</td>\n      <td>False</td>\n      <td>False</td>\n      <td>False</td>\n      <td>False</td>\n      <td>False</td>\n    </tr>\n  </tbody>\n</table>\n</div>"
     },
     "execution_count": 25,
     "metadata": {},
     "output_type": "execute_result"
    }
   ],
   "source": [
    "# Show Video Game DataFrame\n",
    "df = pd.read_csv(file_path_wr)\n",
    "df.head()"
   ],
   "metadata": {
    "collapsed": false,
    "ExecuteTime": {
     "end_time": "2023-09-09T11:18:12.802330400Z",
     "start_time": "2023-09-09T11:18:12.465686600Z"
    }
   },
   "id": "588648e1840f5d69"
  },
  {
   "cell_type": "markdown",
   "source": [
    "### Reform DataFrame"
   ],
   "metadata": {
    "collapsed": false
   },
   "id": "36797215d1fbfd00"
  },
  {
   "cell_type": "code",
   "execution_count": 45,
   "outputs": [],
   "source": [
    "genres_list = []\n",
    "\n",
    "for i in range(df.shape[0]):\n",
    "    genres = \"\"\n",
    "    for idx in range(8, 17):\n",
    "        if df[df.columns[idx]][i]:\n",
    "            genres += (df.columns[idx] + \", \")\n",
    "        \n",
    "    genres_list.append(genres[:-2])"
   ],
   "metadata": {
    "collapsed": false,
    "ExecuteTime": {
     "end_time": "2023-09-09T11:45:12.888535Z",
     "start_time": "2023-09-09T11:45:11.052081500Z"
    }
   },
   "id": "8906702a902743c2"
  },
  {
   "cell_type": "code",
   "execution_count": 46,
   "outputs": [
    {
     "data": {
      "text/plain": "['Action, Adventure, Fantasy',\n 'Action, Adventure, Crime',\n 'Action, Crime',\n 'Action, Adventure',\n 'Action, Adventure']"
     },
     "execution_count": 46,
     "metadata": {},
     "output_type": "execute_result"
    }
   ],
   "source": [
    "genres_list[:5]"
   ],
   "metadata": {
    "collapsed": false,
    "ExecuteTime": {
     "end_time": "2023-09-09T11:45:13.028320500Z",
     "start_time": "2023-09-09T11:45:12.890537300Z"
    }
   },
   "id": "e1e4523a99ecdefc"
  },
  {
   "cell_type": "code",
   "execution_count": 47,
   "outputs": [],
   "source": [
    "df[\"Genres\"] = genres_list"
   ],
   "metadata": {
    "collapsed": false,
    "ExecuteTime": {
     "end_time": "2023-09-09T11:46:21.211984700Z",
     "start_time": "2023-09-09T11:46:21.039129Z"
    }
   },
   "id": "b5e0c7a3cc5363bc"
  },
  {
   "cell_type": "code",
   "execution_count": 50,
   "outputs": [
    {
     "data": {
      "text/plain": "   Unnamed: 0                        name  \\\n0           0                  Spider-Man   \n1           1      Red Dead Redemption II   \n2           2          Grand Theft Auto V   \n3           3                  God of War   \n4           4  Uncharted 4: A Thief's End   \n\n                                                 url    year certificate  \\\n0  https://www.imdb.com/title/tt5807780/?ref_=adv...  2018.0           T   \n1  https://www.imdb.com/title/tt6161168/?ref_=adv...  2018.0           M   \n2  https://www.imdb.com/title/tt2103188/?ref_=adv...  2013.0           M   \n3  https://www.imdb.com/title/tt5838588/?ref_=adv...  2018.0           M   \n4  https://www.imdb.com/title/tt3334704/?ref_=adv...  2016.0           T   \n\n   rating   votes                                               plot  Action  \\\n0     9.2  20,759  When a new villain threatens New York City, Pe...    True   \n1     9.7  35,703  Amidst the decline of the Wild West at the tur...    True   \n2     9.5  59,986  Three very different criminals team up for a s...    True   \n3     9.6  26,118  After wiping out the gods of Mount Olympus, Kr...    True   \n4     9.5  28,722  Thrown back into the dangerous underworld he'd...    True   \n\n   Adventure  Comedy  Crime  Family  Fantasy  Mystery  Sci-Fi  Thriller  \\\n0       True   False  False   False     True    False   False     False   \n1       True   False   True   False    False    False   False     False   \n2      False   False   True   False    False    False   False     False   \n3       True   False  False   False    False    False   False     False   \n4       True   False  False   False    False    False   False     False   \n\n                       Genres  \n0  Action, Adventure, Fantasy  \n1    Action, Adventure, Crime  \n2               Action, Crime  \n3           Action, Adventure  \n4           Action, Adventure  ",
      "text/html": "<div>\n<style scoped>\n    .dataframe tbody tr th:only-of-type {\n        vertical-align: middle;\n    }\n\n    .dataframe tbody tr th {\n        vertical-align: top;\n    }\n\n    .dataframe thead th {\n        text-align: right;\n    }\n</style>\n<table border=\"1\" class=\"dataframe\">\n  <thead>\n    <tr style=\"text-align: right;\">\n      <th></th>\n      <th>Unnamed: 0</th>\n      <th>name</th>\n      <th>url</th>\n      <th>year</th>\n      <th>certificate</th>\n      <th>rating</th>\n      <th>votes</th>\n      <th>plot</th>\n      <th>Action</th>\n      <th>Adventure</th>\n      <th>Comedy</th>\n      <th>Crime</th>\n      <th>Family</th>\n      <th>Fantasy</th>\n      <th>Mystery</th>\n      <th>Sci-Fi</th>\n      <th>Thriller</th>\n      <th>Genres</th>\n    </tr>\n  </thead>\n  <tbody>\n    <tr>\n      <th>0</th>\n      <td>0</td>\n      <td>Spider-Man</td>\n      <td>https://www.imdb.com/title/tt5807780/?ref_=adv...</td>\n      <td>2018.0</td>\n      <td>T</td>\n      <td>9.2</td>\n      <td>20,759</td>\n      <td>When a new villain threatens New York City, Pe...</td>\n      <td>True</td>\n      <td>True</td>\n      <td>False</td>\n      <td>False</td>\n      <td>False</td>\n      <td>True</td>\n      <td>False</td>\n      <td>False</td>\n      <td>False</td>\n      <td>Action, Adventure, Fantasy</td>\n    </tr>\n    <tr>\n      <th>1</th>\n      <td>1</td>\n      <td>Red Dead Redemption II</td>\n      <td>https://www.imdb.com/title/tt6161168/?ref_=adv...</td>\n      <td>2018.0</td>\n      <td>M</td>\n      <td>9.7</td>\n      <td>35,703</td>\n      <td>Amidst the decline of the Wild West at the tur...</td>\n      <td>True</td>\n      <td>True</td>\n      <td>False</td>\n      <td>True</td>\n      <td>False</td>\n      <td>False</td>\n      <td>False</td>\n      <td>False</td>\n      <td>False</td>\n      <td>Action, Adventure, Crime</td>\n    </tr>\n    <tr>\n      <th>2</th>\n      <td>2</td>\n      <td>Grand Theft Auto V</td>\n      <td>https://www.imdb.com/title/tt2103188/?ref_=adv...</td>\n      <td>2013.0</td>\n      <td>M</td>\n      <td>9.5</td>\n      <td>59,986</td>\n      <td>Three very different criminals team up for a s...</td>\n      <td>True</td>\n      <td>False</td>\n      <td>False</td>\n      <td>True</td>\n      <td>False</td>\n      <td>False</td>\n      <td>False</td>\n      <td>False</td>\n      <td>False</td>\n      <td>Action, Crime</td>\n    </tr>\n    <tr>\n      <th>3</th>\n      <td>3</td>\n      <td>God of War</td>\n      <td>https://www.imdb.com/title/tt5838588/?ref_=adv...</td>\n      <td>2018.0</td>\n      <td>M</td>\n      <td>9.6</td>\n      <td>26,118</td>\n      <td>After wiping out the gods of Mount Olympus, Kr...</td>\n      <td>True</td>\n      <td>True</td>\n      <td>False</td>\n      <td>False</td>\n      <td>False</td>\n      <td>False</td>\n      <td>False</td>\n      <td>False</td>\n      <td>False</td>\n      <td>Action, Adventure</td>\n    </tr>\n    <tr>\n      <th>4</th>\n      <td>4</td>\n      <td>Uncharted 4: A Thief's End</td>\n      <td>https://www.imdb.com/title/tt3334704/?ref_=adv...</td>\n      <td>2016.0</td>\n      <td>T</td>\n      <td>9.5</td>\n      <td>28,722</td>\n      <td>Thrown back into the dangerous underworld he'd...</td>\n      <td>True</td>\n      <td>True</td>\n      <td>False</td>\n      <td>False</td>\n      <td>False</td>\n      <td>False</td>\n      <td>False</td>\n      <td>False</td>\n      <td>False</td>\n      <td>Action, Adventure</td>\n    </tr>\n  </tbody>\n</table>\n</div>"
     },
     "execution_count": 50,
     "metadata": {},
     "output_type": "execute_result"
    }
   ],
   "source": [
    "df.head()"
   ],
   "metadata": {
    "collapsed": false,
    "ExecuteTime": {
     "end_time": "2023-09-09T11:48:03.022969400Z",
     "start_time": "2023-09-09T11:48:02.835226400Z"
    }
   },
   "id": "9643595019f45cb"
  },
  {
   "cell_type": "code",
   "execution_count": 52,
   "outputs": [
    {
     "name": "stdout",
     "output_type": "stream",
     "text": [
      "Dataframe saved successfully:  ../../data/raw/video_game/imdb_reform_games.csv\n"
     ]
    }
   ],
   "source": [
    "video_game_reform_path = \"../../data/raw/video_game/imdb_reform_games.csv\"\n",
    "\n",
    "ppt.write_dataframe_to_csv(video_game_reform_path, df)"
   ],
   "metadata": {
    "collapsed": false,
    "ExecuteTime": {
     "end_time": "2023-09-09T11:52:08.956643400Z",
     "start_time": "2023-09-09T11:52:08.238347400Z"
    }
   },
   "id": "136b1e49f64460cc"
  },
  {
   "cell_type": "markdown",
   "source": [
    "### Refactoring"
   ],
   "metadata": {
    "collapsed": false
   },
   "id": "dfd26ab0bc42defe"
  },
  {
   "cell_type": "code",
   "execution_count": 55,
   "outputs": [],
   "source": [
    "# Path\n",
    "file_path_r = \"../../data/raw/video_game/imdb_reform_games.csv\""
   ],
   "metadata": {
    "collapsed": false,
    "ExecuteTime": {
     "end_time": "2023-09-09T11:52:46.283065Z",
     "start_time": "2023-09-09T11:52:46.103079300Z"
    }
   },
   "id": "d3914849e17aa3d5"
  },
  {
   "cell_type": "code",
   "execution_count": 56,
   "outputs": [],
   "source": [
    "# Column Names\n",
    "cols_name = [\"name\", \"plot\", \"Genres\", \"rating\"]"
   ],
   "metadata": {
    "collapsed": false,
    "ExecuteTime": {
     "end_time": "2023-09-09T11:52:46.998593500Z",
     "start_time": "2023-09-09T11:52:46.783071Z"
    }
   },
   "id": "651221b79dd2f0a5"
  },
  {
   "cell_type": "code",
   "execution_count": 57,
   "outputs": [],
   "source": [
    "df_video_game = ppt.get_processed_df(file_path_r, cols_name, \"game\")"
   ],
   "metadata": {
    "collapsed": false,
    "ExecuteTime": {
     "end_time": "2023-09-09T11:52:53.537672Z",
     "start_time": "2023-09-09T11:52:52.948356400Z"
    }
   },
   "id": "5d01a35e4e3a8baf"
  },
  {
   "cell_type": "code",
   "execution_count": 58,
   "outputs": [
    {
     "name": "stdout",
     "output_type": "stream",
     "text": [
      "Shape of the dataframe:  (8014, 6)\n",
      "The DataFrame: \n"
     ]
    },
    {
     "data": {
      "text/plain": "                        title  \\\n0                  Spider-Man   \n1      Red Dead Redemption II   \n2          Grand Theft Auto V   \n3                  God of War   \n4  Uncharted 4: A Thief's End   \n\n                                         description  \\\n0  When a new villain threatens New York City, Pe...   \n1  Amidst the decline of the Wild West at the tur...   \n2  Three very different criminals team up for a s...   \n3  After wiping out the gods of Mount Olympus, Kr...   \n4  Thrown back into the dangerous underworld he'd...   \n\n                       genres  rating primary_genre  type  \n0  Action, Adventure, Fantasy     9.2        Action  game  \n1    Action, Adventure, Crime     9.7        Action  game  \n2               Action, Crime     9.5        Action  game  \n3           Action, Adventure     9.6        Action  game  \n4           Action, Adventure     9.5        Action  game  ",
      "text/html": "<div>\n<style scoped>\n    .dataframe tbody tr th:only-of-type {\n        vertical-align: middle;\n    }\n\n    .dataframe tbody tr th {\n        vertical-align: top;\n    }\n\n    .dataframe thead th {\n        text-align: right;\n    }\n</style>\n<table border=\"1\" class=\"dataframe\">\n  <thead>\n    <tr style=\"text-align: right;\">\n      <th></th>\n      <th>title</th>\n      <th>description</th>\n      <th>genres</th>\n      <th>rating</th>\n      <th>primary_genre</th>\n      <th>type</th>\n    </tr>\n  </thead>\n  <tbody>\n    <tr>\n      <th>0</th>\n      <td>Spider-Man</td>\n      <td>When a new villain threatens New York City, Pe...</td>\n      <td>Action, Adventure, Fantasy</td>\n      <td>9.2</td>\n      <td>Action</td>\n      <td>game</td>\n    </tr>\n    <tr>\n      <th>1</th>\n      <td>Red Dead Redemption II</td>\n      <td>Amidst the decline of the Wild West at the tur...</td>\n      <td>Action, Adventure, Crime</td>\n      <td>9.7</td>\n      <td>Action</td>\n      <td>game</td>\n    </tr>\n    <tr>\n      <th>2</th>\n      <td>Grand Theft Auto V</td>\n      <td>Three very different criminals team up for a s...</td>\n      <td>Action, Crime</td>\n      <td>9.5</td>\n      <td>Action</td>\n      <td>game</td>\n    </tr>\n    <tr>\n      <th>3</th>\n      <td>God of War</td>\n      <td>After wiping out the gods of Mount Olympus, Kr...</td>\n      <td>Action, Adventure</td>\n      <td>9.6</td>\n      <td>Action</td>\n      <td>game</td>\n    </tr>\n    <tr>\n      <th>4</th>\n      <td>Uncharted 4: A Thief's End</td>\n      <td>Thrown back into the dangerous underworld he'd...</td>\n      <td>Action, Adventure</td>\n      <td>9.5</td>\n      <td>Action</td>\n      <td>game</td>\n    </tr>\n  </tbody>\n</table>\n</div>"
     },
     "metadata": {},
     "output_type": "display_data"
    },
    {
     "name": "stdout",
     "output_type": "stream",
     "text": [
      "All Data Types: \n"
     ]
    },
    {
     "data": {
      "text/plain": "title             object\ndescription       object\ngenres            object\nrating           float64\nprimary_genre     object\ntype              object\ndtype: object"
     },
     "metadata": {},
     "output_type": "display_data"
    },
    {
     "name": "stdout",
     "output_type": "stream",
     "text": [
      "Null Values:\n"
     ]
    },
    {
     "data": {
      "text/plain": "title            0\ndescription      0\ngenres           0\nrating           0\nprimary_genre    0\ntype             0\ndtype: int64"
     },
     "metadata": {},
     "output_type": "display_data"
    },
    {
     "name": "stdout",
     "output_type": "stream",
     "text": [
      "Duplicate Movie Name Count:  0\n",
      "Duplicate Description Count:  0\n",
      "DataFrame Details:\n"
     ]
    },
    {
     "data": {
      "text/plain": "             title                                        description  \\\ncount         8014                                               8014   \nunique        8014                                               8014   \ntop     Spider-Man  When a new villain threatens New York City, Pe...   \nfreq             1                                                  1   \nmean           NaN                                                NaN   \nstd            NaN                                                NaN   \nmin            NaN                                                NaN   \n25%            NaN                                                NaN   \n50%            NaN                                                NaN   \n75%            NaN                                                NaN   \nmax            NaN                                                NaN   \n\n                            genres       rating primary_genre  type  \ncount                         8014  8014.000000          8014  8014  \nunique                          94          NaN             9     1  \ntop     Action, Adventure, Fantasy          NaN        Action  game  \nfreq                          1082          NaN          5601  8014  \nmean                           NaN     7.151447           NaN   NaN  \nstd                            NaN     1.168519           NaN   NaN  \nmin                            NaN     1.000000           NaN   NaN  \n25%                            NaN     6.600000           NaN   NaN  \n50%                            NaN     7.300000           NaN   NaN  \n75%                            NaN     7.900000           NaN   NaN  \nmax                            NaN     9.700000           NaN   NaN  ",
      "text/html": "<div>\n<style scoped>\n    .dataframe tbody tr th:only-of-type {\n        vertical-align: middle;\n    }\n\n    .dataframe tbody tr th {\n        vertical-align: top;\n    }\n\n    .dataframe thead th {\n        text-align: right;\n    }\n</style>\n<table border=\"1\" class=\"dataframe\">\n  <thead>\n    <tr style=\"text-align: right;\">\n      <th></th>\n      <th>title</th>\n      <th>description</th>\n      <th>genres</th>\n      <th>rating</th>\n      <th>primary_genre</th>\n      <th>type</th>\n    </tr>\n  </thead>\n  <tbody>\n    <tr>\n      <th>count</th>\n      <td>8014</td>\n      <td>8014</td>\n      <td>8014</td>\n      <td>8014.000000</td>\n      <td>8014</td>\n      <td>8014</td>\n    </tr>\n    <tr>\n      <th>unique</th>\n      <td>8014</td>\n      <td>8014</td>\n      <td>94</td>\n      <td>NaN</td>\n      <td>9</td>\n      <td>1</td>\n    </tr>\n    <tr>\n      <th>top</th>\n      <td>Spider-Man</td>\n      <td>When a new villain threatens New York City, Pe...</td>\n      <td>Action, Adventure, Fantasy</td>\n      <td>NaN</td>\n      <td>Action</td>\n      <td>game</td>\n    </tr>\n    <tr>\n      <th>freq</th>\n      <td>1</td>\n      <td>1</td>\n      <td>1082</td>\n      <td>NaN</td>\n      <td>5601</td>\n      <td>8014</td>\n    </tr>\n    <tr>\n      <th>mean</th>\n      <td>NaN</td>\n      <td>NaN</td>\n      <td>NaN</td>\n      <td>7.151447</td>\n      <td>NaN</td>\n      <td>NaN</td>\n    </tr>\n    <tr>\n      <th>std</th>\n      <td>NaN</td>\n      <td>NaN</td>\n      <td>NaN</td>\n      <td>1.168519</td>\n      <td>NaN</td>\n      <td>NaN</td>\n    </tr>\n    <tr>\n      <th>min</th>\n      <td>NaN</td>\n      <td>NaN</td>\n      <td>NaN</td>\n      <td>1.000000</td>\n      <td>NaN</td>\n      <td>NaN</td>\n    </tr>\n    <tr>\n      <th>25%</th>\n      <td>NaN</td>\n      <td>NaN</td>\n      <td>NaN</td>\n      <td>6.600000</td>\n      <td>NaN</td>\n      <td>NaN</td>\n    </tr>\n    <tr>\n      <th>50%</th>\n      <td>NaN</td>\n      <td>NaN</td>\n      <td>NaN</td>\n      <td>7.300000</td>\n      <td>NaN</td>\n      <td>NaN</td>\n    </tr>\n    <tr>\n      <th>75%</th>\n      <td>NaN</td>\n      <td>NaN</td>\n      <td>NaN</td>\n      <td>7.900000</td>\n      <td>NaN</td>\n      <td>NaN</td>\n    </tr>\n    <tr>\n      <th>max</th>\n      <td>NaN</td>\n      <td>NaN</td>\n      <td>NaN</td>\n      <td>9.700000</td>\n      <td>NaN</td>\n      <td>NaN</td>\n    </tr>\n  </tbody>\n</table>\n</div>"
     },
     "metadata": {},
     "output_type": "display_data"
    }
   ],
   "source": [
    "ppt.get_df_info(df_video_game)"
   ],
   "metadata": {
    "collapsed": false,
    "ExecuteTime": {
     "end_time": "2023-09-09T11:53:12.304408200Z",
     "start_time": "2023-09-09T11:53:11.969826100Z"
    }
   },
   "id": "ade3ca1e1d9e8067"
  },
  {
   "cell_type": "markdown",
   "source": [
    "## DataFrame to CSV"
   ],
   "metadata": {
    "collapsed": false
   },
   "id": "7632083f7ef55ae2"
  },
  {
   "cell_type": "code",
   "execution_count": 59,
   "outputs": [
    {
     "name": "stdout",
     "output_type": "stream",
     "text": [
      "Dataframe saved successfully:  ../../data/processed/video_game/video_game_rating.csv\n"
     ]
    }
   ],
   "source": [
    "video_game_path = \"../../data/processed/video_game/video_game_rating.csv\"\n",
    "\n",
    "ppt.write_dataframe_to_csv(video_game_path, df_video_game)"
   ],
   "metadata": {
    "collapsed": false,
    "ExecuteTime": {
     "end_time": "2023-09-09T11:55:13.996860500Z",
     "start_time": "2023-09-09T11:55:13.736107200Z"
    }
   },
   "id": "3c257b9c2f7982ee"
  }
 ],
 "metadata": {
  "kernelspec": {
   "display_name": "Python 3",
   "language": "python",
   "name": "python3"
  },
  "language_info": {
   "codemirror_mode": {
    "name": "ipython",
    "version": 2
   },
   "file_extension": ".py",
   "mimetype": "text/x-python",
   "name": "python",
   "nbconvert_exporter": "python",
   "pygments_lexer": "ipython2",
   "version": "2.7.6"
  }
 },
 "nbformat": 4,
 "nbformat_minor": 5
}
