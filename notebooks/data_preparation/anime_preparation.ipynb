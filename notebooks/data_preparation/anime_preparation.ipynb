{
 "cells": [
  {
   "cell_type": "markdown",
   "source": [
    "# Anime Dataset Preparation"
   ],
   "metadata": {
    "collapsed": false
   },
   "id": "a651bac4e7841b9f"
  },
  {
   "cell_type": "markdown",
   "source": [
    "# Setting Up Necessary Things"
   ],
   "metadata": {
    "collapsed": false
   },
   "id": "da6215b857d8e8a4"
  },
  {
   "cell_type": "code",
   "execution_count": 1,
   "id": "initial_id",
   "metadata": {
    "collapsed": true,
    "ExecuteTime": {
     "end_time": "2023-09-09T18:44:20.091481600Z",
     "start_time": "2023-09-09T18:44:19.556499400Z"
    }
   },
   "outputs": [],
   "source": [
    "# Jupyter Notebook Magic Command - Auto Reloading\n",
    "%reload_ext autoreload\n",
    "%autoreload 2\n",
    "\n",
    "# Jupyter Notebook Magic Command - Inline Plotting\n",
    "%matplotlib inline"
   ]
  },
  {
   "cell_type": "code",
   "execution_count": 2,
   "outputs": [],
   "source": [
    "# Ignore All Warnings\n",
    "import warnings\n",
    "warnings.filterwarnings(\"ignore\")"
   ],
   "metadata": {
    "collapsed": false,
    "ExecuteTime": {
     "end_time": "2023-09-09T18:44:20.138344600Z",
     "start_time": "2023-09-09T18:44:20.092483100Z"
    }
   },
   "id": "c0733e04d0ea35f6"
  },
  {
   "cell_type": "markdown",
   "source": [
    "# Necessary Imports"
   ],
   "metadata": {
    "collapsed": false
   },
   "id": "3b9879e968ef37cd"
  },
  {
   "cell_type": "code",
   "execution_count": 3,
   "outputs": [],
   "source": [
    "# Data\n",
    "import pandas as pd\n",
    "\n",
    "# Custom \n",
    "import preparation as ppt"
   ],
   "metadata": {
    "collapsed": false,
    "ExecuteTime": {
     "end_time": "2023-09-09T18:44:20.464147800Z",
     "start_time": "2023-09-09T18:44:20.136838900Z"
    }
   },
   "id": "dea01dcec305749"
  },
  {
   "cell_type": "markdown",
   "source": [
    "# Data Cleaning"
   ],
   "metadata": {
    "collapsed": false
   },
   "id": "ff783c8e0bb6b05c"
  },
  {
   "cell_type": "code",
   "execution_count": 4,
   "outputs": [],
   "source": [
    "# Path\n",
    "file_path = \"../../data/raw/anime/anime.csv\""
   ],
   "metadata": {
    "collapsed": false,
    "ExecuteTime": {
     "end_time": "2023-09-09T18:44:20.532399600Z",
     "start_time": "2023-09-09T18:44:20.466117700Z"
    }
   },
   "id": "f57b4de796cc82fa"
  },
  {
   "cell_type": "code",
   "execution_count": 5,
   "outputs": [
    {
     "data": {
      "text/plain": "   anime_id                             Name             English name  \\\n0         1                     Cowboy Bebop             Cowboy Bebop   \n1         5  Cowboy Bebop: Tengoku no Tobira  Cowboy Bebop: The Movie   \n2         6                           Trigun                   Trigun   \n3         7               Witch Hunter Robin       Witch Hunter Robin   \n4         8                   Bouken Ou Beet   Beet the Vandel Buster   \n\n                         Other name Score  \\\n0                         カウボーイビバップ  8.75   \n1                    カウボーイビバップ 天国の扉  8.38   \n2                             トライガン  8.22   \n3  Witch Hunter ROBIN (ウイッチハンターロビン)  7.25   \n4                            冒険王ビィト  6.94   \n\n                                 Genres  \\\n0         Action, Award Winning, Sci-Fi   \n1                        Action, Sci-Fi   \n2             Action, Adventure, Sci-Fi   \n3  Action, Drama, Mystery, Supernatural   \n4      Adventure, Fantasy, Supernatural   \n\n                                            Synopsis   Type Episodes  \\\n0  Crime is timeless. By the year 2071, humanity ...     TV     26.0   \n1  Another day, another bounty—such is the life o...  Movie      1.0   \n2  Vash the Stampede is the man with a $$60,000,0...     TV     26.0   \n3  Robin Sena is a powerful craft user drafted in...     TV     26.0   \n4  It is the dark century and the people are suff...     TV     52.0   \n\n                          Aired  ...         Studios    Source       Duration  \\\n0   Apr 3, 1998 to Apr 24, 1999  ...         Sunrise  Original  24 min per ep   \n1                   Sep 1, 2001  ...           Bones  Original    1 hr 55 min   \n2   Apr 1, 1998 to Sep 30, 1998  ...        Madhouse     Manga  24 min per ep   \n3   Jul 3, 2002 to Dec 25, 2002  ...         Sunrise  Original  25 min per ep   \n4  Sep 30, 2004 to Sep 29, 2005  ...  Toei Animation     Manga  23 min per ep   \n\n                           Rating    Rank Popularity Favorites Scored By  \\\n0  R - 17+ (violence & profanity)    41.0         43     78525  914193.0   \n1  R - 17+ (violence & profanity)   189.0        602      1448  206248.0   \n2       PG-13 - Teens 13 or older   328.0        246     15035  356739.0   \n3       PG-13 - Teens 13 or older  2764.0       1795       613   42829.0   \n4                   PG - Children  4240.0       5126        14    6413.0   \n\n   Members                                          Image URL  \n0  1771505  https://cdn.myanimelist.net/images/anime/4/196...  \n1   360978  https://cdn.myanimelist.net/images/anime/1439/...  \n2   727252  https://cdn.myanimelist.net/images/anime/7/203...  \n3   111931  https://cdn.myanimelist.net/images/anime/10/19...  \n4    15001  https://cdn.myanimelist.net/images/anime/7/215...  \n\n[5 rows x 24 columns]",
      "text/html": "<div>\n<style scoped>\n    .dataframe tbody tr th:only-of-type {\n        vertical-align: middle;\n    }\n\n    .dataframe tbody tr th {\n        vertical-align: top;\n    }\n\n    .dataframe thead th {\n        text-align: right;\n    }\n</style>\n<table border=\"1\" class=\"dataframe\">\n  <thead>\n    <tr style=\"text-align: right;\">\n      <th></th>\n      <th>anime_id</th>\n      <th>Name</th>\n      <th>English name</th>\n      <th>Other name</th>\n      <th>Score</th>\n      <th>Genres</th>\n      <th>Synopsis</th>\n      <th>Type</th>\n      <th>Episodes</th>\n      <th>Aired</th>\n      <th>...</th>\n      <th>Studios</th>\n      <th>Source</th>\n      <th>Duration</th>\n      <th>Rating</th>\n      <th>Rank</th>\n      <th>Popularity</th>\n      <th>Favorites</th>\n      <th>Scored By</th>\n      <th>Members</th>\n      <th>Image URL</th>\n    </tr>\n  </thead>\n  <tbody>\n    <tr>\n      <th>0</th>\n      <td>1</td>\n      <td>Cowboy Bebop</td>\n      <td>Cowboy Bebop</td>\n      <td>カウボーイビバップ</td>\n      <td>8.75</td>\n      <td>Action, Award Winning, Sci-Fi</td>\n      <td>Crime is timeless. By the year 2071, humanity ...</td>\n      <td>TV</td>\n      <td>26.0</td>\n      <td>Apr 3, 1998 to Apr 24, 1999</td>\n      <td>...</td>\n      <td>Sunrise</td>\n      <td>Original</td>\n      <td>24 min per ep</td>\n      <td>R - 17+ (violence &amp; profanity)</td>\n      <td>41.0</td>\n      <td>43</td>\n      <td>78525</td>\n      <td>914193.0</td>\n      <td>1771505</td>\n      <td>https://cdn.myanimelist.net/images/anime/4/196...</td>\n    </tr>\n    <tr>\n      <th>1</th>\n      <td>5</td>\n      <td>Cowboy Bebop: Tengoku no Tobira</td>\n      <td>Cowboy Bebop: The Movie</td>\n      <td>カウボーイビバップ 天国の扉</td>\n      <td>8.38</td>\n      <td>Action, Sci-Fi</td>\n      <td>Another day, another bounty—such is the life o...</td>\n      <td>Movie</td>\n      <td>1.0</td>\n      <td>Sep 1, 2001</td>\n      <td>...</td>\n      <td>Bones</td>\n      <td>Original</td>\n      <td>1 hr 55 min</td>\n      <td>R - 17+ (violence &amp; profanity)</td>\n      <td>189.0</td>\n      <td>602</td>\n      <td>1448</td>\n      <td>206248.0</td>\n      <td>360978</td>\n      <td>https://cdn.myanimelist.net/images/anime/1439/...</td>\n    </tr>\n    <tr>\n      <th>2</th>\n      <td>6</td>\n      <td>Trigun</td>\n      <td>Trigun</td>\n      <td>トライガン</td>\n      <td>8.22</td>\n      <td>Action, Adventure, Sci-Fi</td>\n      <td>Vash the Stampede is the man with a $$60,000,0...</td>\n      <td>TV</td>\n      <td>26.0</td>\n      <td>Apr 1, 1998 to Sep 30, 1998</td>\n      <td>...</td>\n      <td>Madhouse</td>\n      <td>Manga</td>\n      <td>24 min per ep</td>\n      <td>PG-13 - Teens 13 or older</td>\n      <td>328.0</td>\n      <td>246</td>\n      <td>15035</td>\n      <td>356739.0</td>\n      <td>727252</td>\n      <td>https://cdn.myanimelist.net/images/anime/7/203...</td>\n    </tr>\n    <tr>\n      <th>3</th>\n      <td>7</td>\n      <td>Witch Hunter Robin</td>\n      <td>Witch Hunter Robin</td>\n      <td>Witch Hunter ROBIN (ウイッチハンターロビン)</td>\n      <td>7.25</td>\n      <td>Action, Drama, Mystery, Supernatural</td>\n      <td>Robin Sena is a powerful craft user drafted in...</td>\n      <td>TV</td>\n      <td>26.0</td>\n      <td>Jul 3, 2002 to Dec 25, 2002</td>\n      <td>...</td>\n      <td>Sunrise</td>\n      <td>Original</td>\n      <td>25 min per ep</td>\n      <td>PG-13 - Teens 13 or older</td>\n      <td>2764.0</td>\n      <td>1795</td>\n      <td>613</td>\n      <td>42829.0</td>\n      <td>111931</td>\n      <td>https://cdn.myanimelist.net/images/anime/10/19...</td>\n    </tr>\n    <tr>\n      <th>4</th>\n      <td>8</td>\n      <td>Bouken Ou Beet</td>\n      <td>Beet the Vandel Buster</td>\n      <td>冒険王ビィト</td>\n      <td>6.94</td>\n      <td>Adventure, Fantasy, Supernatural</td>\n      <td>It is the dark century and the people are suff...</td>\n      <td>TV</td>\n      <td>52.0</td>\n      <td>Sep 30, 2004 to Sep 29, 2005</td>\n      <td>...</td>\n      <td>Toei Animation</td>\n      <td>Manga</td>\n      <td>23 min per ep</td>\n      <td>PG - Children</td>\n      <td>4240.0</td>\n      <td>5126</td>\n      <td>14</td>\n      <td>6413.0</td>\n      <td>15001</td>\n      <td>https://cdn.myanimelist.net/images/anime/7/215...</td>\n    </tr>\n  </tbody>\n</table>\n<p>5 rows × 24 columns</p>\n</div>"
     },
     "execution_count": 5,
     "metadata": {},
     "output_type": "execute_result"
    }
   ],
   "source": [
    "# Show Anime DataFrame\n",
    "df = pd.read_csv(file_path)\n",
    "df.head()"
   ],
   "metadata": {
    "collapsed": false,
    "ExecuteTime": {
     "end_time": "2023-09-09T18:44:21.066955100Z",
     "start_time": "2023-09-09T18:44:20.530444900Z"
    }
   },
   "id": "6a545a414afd29ca"
  },
  {
   "cell_type": "code",
   "execution_count": 6,
   "outputs": [],
   "source": [
    "# Column Names\n",
    "cols_name = [\"English name\", \"Synopsis\", \"Genres\", \"Score\"]"
   ],
   "metadata": {
    "collapsed": false,
    "ExecuteTime": {
     "end_time": "2023-09-09T18:44:21.216905500Z",
     "start_time": "2023-09-09T18:44:21.065955400Z"
    }
   },
   "id": "4988a795ff1774e2"
  },
  {
   "cell_type": "code",
   "execution_count": 7,
   "outputs": [],
   "source": [
    "df_anime = ppt.get_processed_df(file_path, cols_name, \"anime\")"
   ],
   "metadata": {
    "collapsed": false,
    "ExecuteTime": {
     "end_time": "2023-09-09T18:44:21.740299700Z",
     "start_time": "2023-09-09T18:44:21.126767300Z"
    }
   },
   "id": "c26f2e6d90565ed2"
  },
  {
   "cell_type": "code",
   "execution_count": 8,
   "outputs": [
    {
     "name": "stdout",
     "output_type": "stream",
     "text": [
      "Shape of the dataframe:  (9206, 6)\n",
      "The DataFrame: \n"
     ]
    },
    {
     "data": {
      "text/plain": "                     title                                        description  \\\n0             Cowboy Bebop  Crime is timeless. By the year 2071, humanity ...   \n1  Cowboy Bebop: The Movie  Another day, another bounty—such is the life o...   \n2                   Trigun  Vash the Stampede is the man with a $$60,000,0...   \n3       Witch Hunter Robin  Robin Sena is a powerful craft user drafted in...   \n4   Beet the Vandel Buster  It is the dark century and the people are suff...   \n\n                                 genres rating primary_genre category  \n0         Action, Award Winning, Sci-Fi   8.75        Action    anime  \n1                        Action, Sci-Fi   8.38        Action    anime  \n2             Action, Adventure, Sci-Fi   8.22        Action    anime  \n3  Action, Drama, Mystery, Supernatural   7.25        Action    anime  \n4      Adventure, Fantasy, Supernatural   6.94     Adventure    anime  ",
      "text/html": "<div>\n<style scoped>\n    .dataframe tbody tr th:only-of-type {\n        vertical-align: middle;\n    }\n\n    .dataframe tbody tr th {\n        vertical-align: top;\n    }\n\n    .dataframe thead th {\n        text-align: right;\n    }\n</style>\n<table border=\"1\" class=\"dataframe\">\n  <thead>\n    <tr style=\"text-align: right;\">\n      <th></th>\n      <th>title</th>\n      <th>description</th>\n      <th>genres</th>\n      <th>rating</th>\n      <th>primary_genre</th>\n      <th>category</th>\n    </tr>\n  </thead>\n  <tbody>\n    <tr>\n      <th>0</th>\n      <td>Cowboy Bebop</td>\n      <td>Crime is timeless. By the year 2071, humanity ...</td>\n      <td>Action, Award Winning, Sci-Fi</td>\n      <td>8.75</td>\n      <td>Action</td>\n      <td>anime</td>\n    </tr>\n    <tr>\n      <th>1</th>\n      <td>Cowboy Bebop: The Movie</td>\n      <td>Another day, another bounty—such is the life o...</td>\n      <td>Action, Sci-Fi</td>\n      <td>8.38</td>\n      <td>Action</td>\n      <td>anime</td>\n    </tr>\n    <tr>\n      <th>2</th>\n      <td>Trigun</td>\n      <td>Vash the Stampede is the man with a $$60,000,0...</td>\n      <td>Action, Adventure, Sci-Fi</td>\n      <td>8.22</td>\n      <td>Action</td>\n      <td>anime</td>\n    </tr>\n    <tr>\n      <th>3</th>\n      <td>Witch Hunter Robin</td>\n      <td>Robin Sena is a powerful craft user drafted in...</td>\n      <td>Action, Drama, Mystery, Supernatural</td>\n      <td>7.25</td>\n      <td>Action</td>\n      <td>anime</td>\n    </tr>\n    <tr>\n      <th>4</th>\n      <td>Beet the Vandel Buster</td>\n      <td>It is the dark century and the people are suff...</td>\n      <td>Adventure, Fantasy, Supernatural</td>\n      <td>6.94</td>\n      <td>Adventure</td>\n      <td>anime</td>\n    </tr>\n  </tbody>\n</table>\n</div>"
     },
     "metadata": {},
     "output_type": "display_data"
    },
    {
     "name": "stdout",
     "output_type": "stream",
     "text": [
      "All Data Types: \n"
     ]
    },
    {
     "data": {
      "text/plain": "title            object\ndescription      object\ngenres           object\nrating           object\nprimary_genre    object\ncategory         object\ndtype: object"
     },
     "metadata": {},
     "output_type": "display_data"
    },
    {
     "name": "stdout",
     "output_type": "stream",
     "text": [
      "Null Values:\n"
     ]
    },
    {
     "data": {
      "text/plain": "title            0\ndescription      0\ngenres           0\nrating           0\nprimary_genre    0\ncategory         0\ndtype: int64"
     },
     "metadata": {},
     "output_type": "display_data"
    },
    {
     "name": "stdout",
     "output_type": "stream",
     "text": [
      "Duplicate Movie Name Count:  0\n",
      "Duplicate Description Count:  0\n",
      "DataFrame Details:\n"
     ]
    },
    {
     "data": {
      "text/plain": "               title                                        description  \\\ncount           9206                                               9206   \nunique          9206                                               9206   \ntop     Cowboy Bebop  Crime is timeless. By the year 2071, humanity ...   \nfreq               1                                                  1   \n\n         genres   rating primary_genre category  \ncount      9206     9206          9206     9206  \nunique      820      518            22        1  \ntop     UNKNOWN  UNKNOWN        Action    anime  \nfreq        953     1453          2583     9206  ",
      "text/html": "<div>\n<style scoped>\n    .dataframe tbody tr th:only-of-type {\n        vertical-align: middle;\n    }\n\n    .dataframe tbody tr th {\n        vertical-align: top;\n    }\n\n    .dataframe thead th {\n        text-align: right;\n    }\n</style>\n<table border=\"1\" class=\"dataframe\">\n  <thead>\n    <tr style=\"text-align: right;\">\n      <th></th>\n      <th>title</th>\n      <th>description</th>\n      <th>genres</th>\n      <th>rating</th>\n      <th>primary_genre</th>\n      <th>category</th>\n    </tr>\n  </thead>\n  <tbody>\n    <tr>\n      <th>count</th>\n      <td>9206</td>\n      <td>9206</td>\n      <td>9206</td>\n      <td>9206</td>\n      <td>9206</td>\n      <td>9206</td>\n    </tr>\n    <tr>\n      <th>unique</th>\n      <td>9206</td>\n      <td>9206</td>\n      <td>820</td>\n      <td>518</td>\n      <td>22</td>\n      <td>1</td>\n    </tr>\n    <tr>\n      <th>top</th>\n      <td>Cowboy Bebop</td>\n      <td>Crime is timeless. By the year 2071, humanity ...</td>\n      <td>UNKNOWN</td>\n      <td>UNKNOWN</td>\n      <td>Action</td>\n      <td>anime</td>\n    </tr>\n    <tr>\n      <th>freq</th>\n      <td>1</td>\n      <td>1</td>\n      <td>953</td>\n      <td>1453</td>\n      <td>2583</td>\n      <td>9206</td>\n    </tr>\n  </tbody>\n</table>\n</div>"
     },
     "metadata": {},
     "output_type": "display_data"
    }
   ],
   "source": [
    "ppt.get_df_info(df_anime)"
   ],
   "metadata": {
    "collapsed": false,
    "ExecuteTime": {
     "end_time": "2023-09-09T18:44:22.031243600Z",
     "start_time": "2023-09-09T18:44:21.734126500Z"
    }
   },
   "id": "8014212093dc6d88"
  },
  {
   "cell_type": "code",
   "execution_count": 9,
   "outputs": [],
   "source": [
    "df_anime[\"rating\"] = pd.to_numeric(df_anime[\"rating\"], errors=\"coerce\").fillna(0).astype(float)"
   ],
   "metadata": {
    "collapsed": false,
    "ExecuteTime": {
     "end_time": "2023-09-09T18:44:22.095842600Z",
     "start_time": "2023-09-09T18:44:21.857953800Z"
    }
   },
   "id": "5f19d2bf6f4a86bb"
  },
  {
   "cell_type": "code",
   "execution_count": 10,
   "outputs": [
    {
     "name": "stdout",
     "output_type": "stream",
     "text": [
      "Shape of the dataframe:  (9206, 6)\n",
      "The DataFrame: \n"
     ]
    },
    {
     "data": {
      "text/plain": "                     title                                        description  \\\n0             Cowboy Bebop  Crime is timeless. By the year 2071, humanity ...   \n1  Cowboy Bebop: The Movie  Another day, another bounty—such is the life o...   \n2                   Trigun  Vash the Stampede is the man with a $$60,000,0...   \n3       Witch Hunter Robin  Robin Sena is a powerful craft user drafted in...   \n4   Beet the Vandel Buster  It is the dark century and the people are suff...   \n\n                                 genres  rating primary_genre category  \n0         Action, Award Winning, Sci-Fi    8.75        Action    anime  \n1                        Action, Sci-Fi    8.38        Action    anime  \n2             Action, Adventure, Sci-Fi    8.22        Action    anime  \n3  Action, Drama, Mystery, Supernatural    7.25        Action    anime  \n4      Adventure, Fantasy, Supernatural    6.94     Adventure    anime  ",
      "text/html": "<div>\n<style scoped>\n    .dataframe tbody tr th:only-of-type {\n        vertical-align: middle;\n    }\n\n    .dataframe tbody tr th {\n        vertical-align: top;\n    }\n\n    .dataframe thead th {\n        text-align: right;\n    }\n</style>\n<table border=\"1\" class=\"dataframe\">\n  <thead>\n    <tr style=\"text-align: right;\">\n      <th></th>\n      <th>title</th>\n      <th>description</th>\n      <th>genres</th>\n      <th>rating</th>\n      <th>primary_genre</th>\n      <th>category</th>\n    </tr>\n  </thead>\n  <tbody>\n    <tr>\n      <th>0</th>\n      <td>Cowboy Bebop</td>\n      <td>Crime is timeless. By the year 2071, humanity ...</td>\n      <td>Action, Award Winning, Sci-Fi</td>\n      <td>8.75</td>\n      <td>Action</td>\n      <td>anime</td>\n    </tr>\n    <tr>\n      <th>1</th>\n      <td>Cowboy Bebop: The Movie</td>\n      <td>Another day, another bounty—such is the life o...</td>\n      <td>Action, Sci-Fi</td>\n      <td>8.38</td>\n      <td>Action</td>\n      <td>anime</td>\n    </tr>\n    <tr>\n      <th>2</th>\n      <td>Trigun</td>\n      <td>Vash the Stampede is the man with a $$60,000,0...</td>\n      <td>Action, Adventure, Sci-Fi</td>\n      <td>8.22</td>\n      <td>Action</td>\n      <td>anime</td>\n    </tr>\n    <tr>\n      <th>3</th>\n      <td>Witch Hunter Robin</td>\n      <td>Robin Sena is a powerful craft user drafted in...</td>\n      <td>Action, Drama, Mystery, Supernatural</td>\n      <td>7.25</td>\n      <td>Action</td>\n      <td>anime</td>\n    </tr>\n    <tr>\n      <th>4</th>\n      <td>Beet the Vandel Buster</td>\n      <td>It is the dark century and the people are suff...</td>\n      <td>Adventure, Fantasy, Supernatural</td>\n      <td>6.94</td>\n      <td>Adventure</td>\n      <td>anime</td>\n    </tr>\n  </tbody>\n</table>\n</div>"
     },
     "metadata": {},
     "output_type": "display_data"
    },
    {
     "name": "stdout",
     "output_type": "stream",
     "text": [
      "All Data Types: \n"
     ]
    },
    {
     "data": {
      "text/plain": "title             object\ndescription       object\ngenres            object\nrating           float64\nprimary_genre     object\ncategory          object\ndtype: object"
     },
     "metadata": {},
     "output_type": "display_data"
    },
    {
     "name": "stdout",
     "output_type": "stream",
     "text": [
      "Null Values:\n"
     ]
    },
    {
     "data": {
      "text/plain": "title            0\ndescription      0\ngenres           0\nrating           0\nprimary_genre    0\ncategory         0\ndtype: int64"
     },
     "metadata": {},
     "output_type": "display_data"
    },
    {
     "name": "stdout",
     "output_type": "stream",
     "text": [
      "Duplicate Movie Name Count:  0\n",
      "Duplicate Description Count:  0\n",
      "DataFrame Details:\n"
     ]
    },
    {
     "data": {
      "text/plain": "               title                                        description  \\\ncount           9206                                               9206   \nunique          9206                                               9206   \ntop     Cowboy Bebop  Crime is timeless. By the year 2071, humanity ...   \nfreq               1                                                  1   \nmean             NaN                                                NaN   \nstd              NaN                                                NaN   \nmin              NaN                                                NaN   \n25%              NaN                                                NaN   \n50%              NaN                                                NaN   \n75%              NaN                                                NaN   \nmax              NaN                                                NaN   \n\n         genres       rating primary_genre category  \ncount      9206  9206.000000          9206     9206  \nunique      820          NaN            22        1  \ntop     UNKNOWN          NaN        Action    anime  \nfreq        953          NaN          2583     9206  \nmean        NaN     5.570113           NaN      NaN  \nstd         NaN     2.567904           NaN      NaN  \nmin         NaN     0.000000           NaN      NaN  \n25%         NaN     5.390000           NaN      NaN  \n50%         NaN     6.430000           NaN      NaN  \n75%         NaN     7.200000           NaN      NaN  \nmax         NaN     9.100000           NaN      NaN  ",
      "text/html": "<div>\n<style scoped>\n    .dataframe tbody tr th:only-of-type {\n        vertical-align: middle;\n    }\n\n    .dataframe tbody tr th {\n        vertical-align: top;\n    }\n\n    .dataframe thead th {\n        text-align: right;\n    }\n</style>\n<table border=\"1\" class=\"dataframe\">\n  <thead>\n    <tr style=\"text-align: right;\">\n      <th></th>\n      <th>title</th>\n      <th>description</th>\n      <th>genres</th>\n      <th>rating</th>\n      <th>primary_genre</th>\n      <th>category</th>\n    </tr>\n  </thead>\n  <tbody>\n    <tr>\n      <th>count</th>\n      <td>9206</td>\n      <td>9206</td>\n      <td>9206</td>\n      <td>9206.000000</td>\n      <td>9206</td>\n      <td>9206</td>\n    </tr>\n    <tr>\n      <th>unique</th>\n      <td>9206</td>\n      <td>9206</td>\n      <td>820</td>\n      <td>NaN</td>\n      <td>22</td>\n      <td>1</td>\n    </tr>\n    <tr>\n      <th>top</th>\n      <td>Cowboy Bebop</td>\n      <td>Crime is timeless. By the year 2071, humanity ...</td>\n      <td>UNKNOWN</td>\n      <td>NaN</td>\n      <td>Action</td>\n      <td>anime</td>\n    </tr>\n    <tr>\n      <th>freq</th>\n      <td>1</td>\n      <td>1</td>\n      <td>953</td>\n      <td>NaN</td>\n      <td>2583</td>\n      <td>9206</td>\n    </tr>\n    <tr>\n      <th>mean</th>\n      <td>NaN</td>\n      <td>NaN</td>\n      <td>NaN</td>\n      <td>5.570113</td>\n      <td>NaN</td>\n      <td>NaN</td>\n    </tr>\n    <tr>\n      <th>std</th>\n      <td>NaN</td>\n      <td>NaN</td>\n      <td>NaN</td>\n      <td>2.567904</td>\n      <td>NaN</td>\n      <td>NaN</td>\n    </tr>\n    <tr>\n      <th>min</th>\n      <td>NaN</td>\n      <td>NaN</td>\n      <td>NaN</td>\n      <td>0.000000</td>\n      <td>NaN</td>\n      <td>NaN</td>\n    </tr>\n    <tr>\n      <th>25%</th>\n      <td>NaN</td>\n      <td>NaN</td>\n      <td>NaN</td>\n      <td>5.390000</td>\n      <td>NaN</td>\n      <td>NaN</td>\n    </tr>\n    <tr>\n      <th>50%</th>\n      <td>NaN</td>\n      <td>NaN</td>\n      <td>NaN</td>\n      <td>6.430000</td>\n      <td>NaN</td>\n      <td>NaN</td>\n    </tr>\n    <tr>\n      <th>75%</th>\n      <td>NaN</td>\n      <td>NaN</td>\n      <td>NaN</td>\n      <td>7.200000</td>\n      <td>NaN</td>\n      <td>NaN</td>\n    </tr>\n    <tr>\n      <th>max</th>\n      <td>NaN</td>\n      <td>NaN</td>\n      <td>NaN</td>\n      <td>9.100000</td>\n      <td>NaN</td>\n      <td>NaN</td>\n    </tr>\n  </tbody>\n</table>\n</div>"
     },
     "metadata": {},
     "output_type": "display_data"
    }
   ],
   "source": [
    "ppt.get_df_info(df_anime)"
   ],
   "metadata": {
    "collapsed": false,
    "ExecuteTime": {
     "end_time": "2023-09-09T18:44:22.166397700Z",
     "start_time": "2023-09-09T18:44:21.952018800Z"
    }
   },
   "id": "ea403f5f99cc1e4a"
  },
  {
   "cell_type": "markdown",
   "source": [
    "## DataFrame to CSV"
   ],
   "metadata": {
    "collapsed": false
   },
   "id": "b1e94d1d1d8478fa"
  },
  {
   "cell_type": "code",
   "execution_count": 11,
   "outputs": [
    {
     "name": "stdout",
     "output_type": "stream",
     "text": [
      "Dataframe saved successfully:  ../../data/processed/anime/anime_rating.csv\n"
     ]
    }
   ],
   "source": [
    "anime_path = \"../../data/processed/anime/anime_rating.csv\"\n",
    "\n",
    "ppt.write_dataframe_to_csv(anime_path, df_anime)"
   ],
   "metadata": {
    "collapsed": false,
    "ExecuteTime": {
     "end_time": "2023-09-09T18:44:22.534841Z",
     "start_time": "2023-09-09T18:44:22.058792Z"
    }
   },
   "id": "cf1320005e3acf67"
  }
 ],
 "metadata": {
  "kernelspec": {
   "display_name": "Python 3",
   "language": "python",
   "name": "python3"
  },
  "language_info": {
   "codemirror_mode": {
    "name": "ipython",
    "version": 2
   },
   "file_extension": ".py",
   "mimetype": "text/x-python",
   "name": "python",
   "nbconvert_exporter": "python",
   "pygments_lexer": "ipython2",
   "version": "2.7.6"
  }
 },
 "nbformat": 4,
 "nbformat_minor": 5
}
