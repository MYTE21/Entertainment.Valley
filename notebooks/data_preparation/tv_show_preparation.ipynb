{
 "cells": [
  {
   "cell_type": "markdown",
   "source": [
    "# Music Dataset Preparation"
   ],
   "metadata": {
    "collapsed": false
   },
   "id": "bfe746c2effd4d7f"
  },
  {
   "cell_type": "markdown",
   "source": [
    "# Setting Up Necessary Things"
   ],
   "metadata": {
    "collapsed": false
   },
   "id": "58c934874b5c3f2f"
  },
  {
   "cell_type": "code",
   "execution_count": 15,
   "id": "initial_id",
   "metadata": {
    "collapsed": true,
    "ExecuteTime": {
     "end_time": "2023-09-09T19:09:47.615019800Z",
     "start_time": "2023-09-09T19:09:47.356899300Z"
    }
   },
   "outputs": [],
   "source": [
    "# Jupyter Notebook Magic Command - Auto Reloading\n",
    "%reload_ext autoreload\n",
    "%autoreload 2\n",
    "\n",
    "# Jupyter Notebook Magic Command - Inline Plotting\n",
    "%matplotlib inline"
   ]
  },
  {
   "cell_type": "code",
   "execution_count": 16,
   "outputs": [],
   "source": [
    "# Ignore All Warnings\n",
    "import warnings\n",
    "warnings.filterwarnings(\"ignore\")"
   ],
   "metadata": {
    "collapsed": false,
    "ExecuteTime": {
     "end_time": "2023-09-09T19:09:47.616020Z",
     "start_time": "2023-09-09T19:09:47.489307100Z"
    }
   },
   "id": "69d447e63d3e5b17"
  },
  {
   "cell_type": "markdown",
   "source": [
    "# Necessary Imports"
   ],
   "metadata": {
    "collapsed": false
   },
   "id": "23b607cca936287f"
  },
  {
   "cell_type": "code",
   "execution_count": 17,
   "outputs": [],
   "source": [
    "from tqdm.notebook import tqdm\n",
    "# Data\n",
    "import pandas as pd\n",
    "\n",
    "# String\n",
    "import re\n",
    "\n",
    "# Custom \n",
    "import preparation as ppt"
   ],
   "metadata": {
    "collapsed": false,
    "ExecuteTime": {
     "end_time": "2023-09-09T19:09:47.706112900Z",
     "start_time": "2023-09-09T19:09:47.598986Z"
    }
   },
   "id": "4f5734219d593277"
  },
  {
   "cell_type": "markdown",
   "source": [
    "# Data Cleaning"
   ],
   "metadata": {
    "collapsed": false
   },
   "id": "a81d51b8eaf26ed2"
  },
  {
   "cell_type": "code",
   "execution_count": 18,
   "outputs": [],
   "source": [
    "# Folder Path and Column Names\n",
    "folder_path = \"../../data/raw/tv_show/\"\n",
    "cols_name = [\"title\", \"description\", \"genres\", \"imdb_score\", \"type\"]"
   ],
   "metadata": {
    "collapsed": false,
    "ExecuteTime": {
     "end_time": "2023-09-09T19:09:47.814323100Z",
     "start_time": "2023-09-09T19:09:47.707110600Z"
    }
   },
   "id": "c2840970affc98ab"
  },
  {
   "cell_type": "code",
   "execution_count": 19,
   "outputs": [],
   "source": [
    "# Get All TV Show DataFrame\n",
    "df_all_tv_show = ppt.get_all_df(folder_path, cols_name, \"tv show\")"
   ],
   "metadata": {
    "collapsed": false,
    "ExecuteTime": {
     "end_time": "2023-09-09T19:09:48.291070300Z",
     "start_time": "2023-09-09T19:09:47.817327200Z"
    }
   },
   "id": "66c92cb89db076d7"
  },
  {
   "cell_type": "code",
   "execution_count": 20,
   "outputs": [
    {
     "name": "stdout",
     "output_type": "stream",
     "text": [
      "Shape of the dataframe:  (9579, 7)\n",
      "The DataFrame: \n"
     ]
    },
    {
     "data": {
      "text/plain": "                   title                                        description  \\\n0  It's a Wonderful Life  A holiday favourite for generations...  George...   \n1              Duck Soup  Rufus T. Firefly is named president/dictator o...   \n2        His Girl Friday  Hildy, the journalist former wife of newspaper...   \n3      The Three Stooges  The Three Stooges were an American vaudeville ...   \n4              Red River  Headstrong Thomas Dunson starts a thriving Tex...   \n\n                                              genres  imdb_score   type  \\\n0  ['drama', 'family', 'fantasy', 'romance', 'com...         8.6  MOVIE   \n1                                  ['comedy', 'war']         7.8  MOVIE   \n2                     ['drama', 'romance', 'comedy']         7.8  MOVIE   \n3                               ['comedy', 'family']         8.5   SHOW   \n4          ['western', 'drama', 'romance', 'action']         7.8  MOVIE   \n\n  primary_genre category  \n0      ['drama'  tv show  \n1     ['comedy'  tv show  \n2      ['drama'  tv show  \n3     ['comedy'  tv show  \n4    ['western'  tv show  ",
      "text/html": "<div>\n<style scoped>\n    .dataframe tbody tr th:only-of-type {\n        vertical-align: middle;\n    }\n\n    .dataframe tbody tr th {\n        vertical-align: top;\n    }\n\n    .dataframe thead th {\n        text-align: right;\n    }\n</style>\n<table border=\"1\" class=\"dataframe\">\n  <thead>\n    <tr style=\"text-align: right;\">\n      <th></th>\n      <th>title</th>\n      <th>description</th>\n      <th>genres</th>\n      <th>imdb_score</th>\n      <th>type</th>\n      <th>primary_genre</th>\n      <th>category</th>\n    </tr>\n  </thead>\n  <tbody>\n    <tr>\n      <th>0</th>\n      <td>It's a Wonderful Life</td>\n      <td>A holiday favourite for generations...  George...</td>\n      <td>['drama', 'family', 'fantasy', 'romance', 'com...</td>\n      <td>8.6</td>\n      <td>MOVIE</td>\n      <td>['drama'</td>\n      <td>tv show</td>\n    </tr>\n    <tr>\n      <th>1</th>\n      <td>Duck Soup</td>\n      <td>Rufus T. Firefly is named president/dictator o...</td>\n      <td>['comedy', 'war']</td>\n      <td>7.8</td>\n      <td>MOVIE</td>\n      <td>['comedy'</td>\n      <td>tv show</td>\n    </tr>\n    <tr>\n      <th>2</th>\n      <td>His Girl Friday</td>\n      <td>Hildy, the journalist former wife of newspaper...</td>\n      <td>['drama', 'romance', 'comedy']</td>\n      <td>7.8</td>\n      <td>MOVIE</td>\n      <td>['drama'</td>\n      <td>tv show</td>\n    </tr>\n    <tr>\n      <th>3</th>\n      <td>The Three Stooges</td>\n      <td>The Three Stooges were an American vaudeville ...</td>\n      <td>['comedy', 'family']</td>\n      <td>8.5</td>\n      <td>SHOW</td>\n      <td>['comedy'</td>\n      <td>tv show</td>\n    </tr>\n    <tr>\n      <th>4</th>\n      <td>Red River</td>\n      <td>Headstrong Thomas Dunson starts a thriving Tex...</td>\n      <td>['western', 'drama', 'romance', 'action']</td>\n      <td>7.8</td>\n      <td>MOVIE</td>\n      <td>['western'</td>\n      <td>tv show</td>\n    </tr>\n  </tbody>\n</table>\n</div>"
     },
     "metadata": {},
     "output_type": "display_data"
    },
    {
     "name": "stdout",
     "output_type": "stream",
     "text": [
      "All Data Types: \n"
     ]
    },
    {
     "data": {
      "text/plain": "title             object\ndescription       object\ngenres            object\nimdb_score       float64\ntype              object\nprimary_genre     object\ncategory          object\ndtype: object"
     },
     "metadata": {},
     "output_type": "display_data"
    },
    {
     "name": "stdout",
     "output_type": "stream",
     "text": [
      "Null Values:\n"
     ]
    },
    {
     "data": {
      "text/plain": "title            0\ndescription      0\ngenres           0\nimdb_score       0\ntype             0\nprimary_genre    0\ncategory         0\ndtype: int64"
     },
     "metadata": {},
     "output_type": "display_data"
    },
    {
     "name": "stdout",
     "output_type": "stream",
     "text": [
      "Duplicate Movie Name Count:  0\n",
      "Duplicate Description Count:  0\n",
      "DataFrame Details:\n"
     ]
    },
    {
     "data": {
      "text/plain": "                        title  \\\ncount                    9579   \nunique                   9579   \ntop     It's a Wonderful Life   \nfreq                        1   \nmean                      NaN   \nstd                       NaN   \nmin                       NaN   \n25%                       NaN   \n50%                       NaN   \n75%                       NaN   \nmax                       NaN   \n\n                                              description     genres  \\\ncount                                                9579       9579   \nunique                                               9579       2276   \ntop     A holiday favourite for generations...  George...  ['drama']   \nfreq                                                    1        769   \nmean                                                  NaN        NaN   \nstd                                                   NaN        NaN   \nmin                                                   NaN        NaN   \n25%                                                   NaN        NaN   \n50%                                                   NaN        NaN   \n75%                                                   NaN        NaN   \nmax                                                   NaN        NaN   \n\n         imdb_score   type primary_genre category  \ncount   9579.000000   9579          9579     9579  \nunique          NaN      2            37        1  \ntop             NaN  MOVIE      ['drama'  tv show  \nfreq            NaN   8266          2127     9579  \nmean       5.970613    NaN           NaN      NaN  \nstd        1.360581    NaN           NaN      NaN  \nmin        1.100000    NaN           NaN      NaN  \n25%        5.100000    NaN           NaN      NaN  \n50%        6.100000    NaN           NaN      NaN  \n75%        7.000000    NaN           NaN      NaN  \nmax        9.900000    NaN           NaN      NaN  ",
      "text/html": "<div>\n<style scoped>\n    .dataframe tbody tr th:only-of-type {\n        vertical-align: middle;\n    }\n\n    .dataframe tbody tr th {\n        vertical-align: top;\n    }\n\n    .dataframe thead th {\n        text-align: right;\n    }\n</style>\n<table border=\"1\" class=\"dataframe\">\n  <thead>\n    <tr style=\"text-align: right;\">\n      <th></th>\n      <th>title</th>\n      <th>description</th>\n      <th>genres</th>\n      <th>imdb_score</th>\n      <th>type</th>\n      <th>primary_genre</th>\n      <th>category</th>\n    </tr>\n  </thead>\n  <tbody>\n    <tr>\n      <th>count</th>\n      <td>9579</td>\n      <td>9579</td>\n      <td>9579</td>\n      <td>9579.000000</td>\n      <td>9579</td>\n      <td>9579</td>\n      <td>9579</td>\n    </tr>\n    <tr>\n      <th>unique</th>\n      <td>9579</td>\n      <td>9579</td>\n      <td>2276</td>\n      <td>NaN</td>\n      <td>2</td>\n      <td>37</td>\n      <td>1</td>\n    </tr>\n    <tr>\n      <th>top</th>\n      <td>It's a Wonderful Life</td>\n      <td>A holiday favourite for generations...  George...</td>\n      <td>['drama']</td>\n      <td>NaN</td>\n      <td>MOVIE</td>\n      <td>['drama'</td>\n      <td>tv show</td>\n    </tr>\n    <tr>\n      <th>freq</th>\n      <td>1</td>\n      <td>1</td>\n      <td>769</td>\n      <td>NaN</td>\n      <td>8266</td>\n      <td>2127</td>\n      <td>9579</td>\n    </tr>\n    <tr>\n      <th>mean</th>\n      <td>NaN</td>\n      <td>NaN</td>\n      <td>NaN</td>\n      <td>5.970613</td>\n      <td>NaN</td>\n      <td>NaN</td>\n      <td>NaN</td>\n    </tr>\n    <tr>\n      <th>std</th>\n      <td>NaN</td>\n      <td>NaN</td>\n      <td>NaN</td>\n      <td>1.360581</td>\n      <td>NaN</td>\n      <td>NaN</td>\n      <td>NaN</td>\n    </tr>\n    <tr>\n      <th>min</th>\n      <td>NaN</td>\n      <td>NaN</td>\n      <td>NaN</td>\n      <td>1.100000</td>\n      <td>NaN</td>\n      <td>NaN</td>\n      <td>NaN</td>\n    </tr>\n    <tr>\n      <th>25%</th>\n      <td>NaN</td>\n      <td>NaN</td>\n      <td>NaN</td>\n      <td>5.100000</td>\n      <td>NaN</td>\n      <td>NaN</td>\n      <td>NaN</td>\n    </tr>\n    <tr>\n      <th>50%</th>\n      <td>NaN</td>\n      <td>NaN</td>\n      <td>NaN</td>\n      <td>6.100000</td>\n      <td>NaN</td>\n      <td>NaN</td>\n      <td>NaN</td>\n    </tr>\n    <tr>\n      <th>75%</th>\n      <td>NaN</td>\n      <td>NaN</td>\n      <td>NaN</td>\n      <td>7.000000</td>\n      <td>NaN</td>\n      <td>NaN</td>\n      <td>NaN</td>\n    </tr>\n    <tr>\n      <th>max</th>\n      <td>NaN</td>\n      <td>NaN</td>\n      <td>NaN</td>\n      <td>9.900000</td>\n      <td>NaN</td>\n      <td>NaN</td>\n      <td>NaN</td>\n    </tr>\n  </tbody>\n</table>\n</div>"
     },
     "metadata": {},
     "output_type": "display_data"
    }
   ],
   "source": [
    "# Get Details of Action Movies\n",
    "ppt.get_df_info(df_all_tv_show[\"amazon_tv_show\"])"
   ],
   "metadata": {
    "collapsed": false,
    "ExecuteTime": {
     "end_time": "2023-09-09T19:09:48.553624400Z",
     "start_time": "2023-09-09T19:09:48.288070700Z"
    }
   },
   "id": "c11ee780fd326714"
  },
  {
   "cell_type": "markdown",
   "source": [
    "## Combine All The DataFrames"
   ],
   "metadata": {
    "collapsed": false
   },
   "id": "8976f50166fd5a0f"
  },
  {
   "cell_type": "code",
   "execution_count": 21,
   "outputs": [],
   "source": [
    "df_tv_show_full = ppt.get_combined_df(df_all_tv_show)"
   ],
   "metadata": {
    "collapsed": false,
    "ExecuteTime": {
     "end_time": "2023-09-09T19:09:48.649663500Z",
     "start_time": "2023-09-09T19:09:48.501977500Z"
    }
   },
   "id": "af8fd15a8772fbed"
  },
  {
   "cell_type": "code",
   "execution_count": 22,
   "outputs": [],
   "source": [
    "df_tv_show = ppt.drop_duplicate(df_tv_show_full)"
   ],
   "metadata": {
    "collapsed": false,
    "ExecuteTime": {
     "end_time": "2023-09-09T19:09:48.788395600Z",
     "start_time": "2023-09-09T19:09:48.630091500Z"
    }
   },
   "id": "cda9ddf96d14815"
  },
  {
   "cell_type": "code",
   "execution_count": 23,
   "outputs": [
    {
     "data": {
      "text/plain": "                   title                                        description  \\\n0  It's a Wonderful Life  A holiday favourite for generations...  George...   \n1              Duck Soup  Rufus T. Firefly is named president/dictator o...   \n2        His Girl Friday  Hildy, the journalist former wife of newspaper...   \n3      The Three Stooges  The Three Stooges were an American vaudeville ...   \n4              Red River  Headstrong Thomas Dunson starts a thriving Tex...   \n\n                                              genres  imdb_score   type  \\\n0  ['drama', 'family', 'fantasy', 'romance', 'com...         8.6  MOVIE   \n1                                  ['comedy', 'war']         7.8  MOVIE   \n2                     ['drama', 'romance', 'comedy']         7.8  MOVIE   \n3                               ['comedy', 'family']         8.5   SHOW   \n4          ['western', 'drama', 'romance', 'action']         7.8  MOVIE   \n\n  primary_genre category  \n0      ['drama'  tv show  \n1     ['comedy'  tv show  \n2      ['drama'  tv show  \n3     ['comedy'  tv show  \n4    ['western'  tv show  ",
      "text/html": "<div>\n<style scoped>\n    .dataframe tbody tr th:only-of-type {\n        vertical-align: middle;\n    }\n\n    .dataframe tbody tr th {\n        vertical-align: top;\n    }\n\n    .dataframe thead th {\n        text-align: right;\n    }\n</style>\n<table border=\"1\" class=\"dataframe\">\n  <thead>\n    <tr style=\"text-align: right;\">\n      <th></th>\n      <th>title</th>\n      <th>description</th>\n      <th>genres</th>\n      <th>imdb_score</th>\n      <th>type</th>\n      <th>primary_genre</th>\n      <th>category</th>\n    </tr>\n  </thead>\n  <tbody>\n    <tr>\n      <th>0</th>\n      <td>It's a Wonderful Life</td>\n      <td>A holiday favourite for generations...  George...</td>\n      <td>['drama', 'family', 'fantasy', 'romance', 'com...</td>\n      <td>8.6</td>\n      <td>MOVIE</td>\n      <td>['drama'</td>\n      <td>tv show</td>\n    </tr>\n    <tr>\n      <th>1</th>\n      <td>Duck Soup</td>\n      <td>Rufus T. Firefly is named president/dictator o...</td>\n      <td>['comedy', 'war']</td>\n      <td>7.8</td>\n      <td>MOVIE</td>\n      <td>['comedy'</td>\n      <td>tv show</td>\n    </tr>\n    <tr>\n      <th>2</th>\n      <td>His Girl Friday</td>\n      <td>Hildy, the journalist former wife of newspaper...</td>\n      <td>['drama', 'romance', 'comedy']</td>\n      <td>7.8</td>\n      <td>MOVIE</td>\n      <td>['drama'</td>\n      <td>tv show</td>\n    </tr>\n    <tr>\n      <th>3</th>\n      <td>The Three Stooges</td>\n      <td>The Three Stooges were an American vaudeville ...</td>\n      <td>['comedy', 'family']</td>\n      <td>8.5</td>\n      <td>SHOW</td>\n      <td>['comedy'</td>\n      <td>tv show</td>\n    </tr>\n    <tr>\n      <th>4</th>\n      <td>Red River</td>\n      <td>Headstrong Thomas Dunson starts a thriving Tex...</td>\n      <td>['western', 'drama', 'romance', 'action']</td>\n      <td>7.8</td>\n      <td>MOVIE</td>\n      <td>['western'</td>\n      <td>tv show</td>\n    </tr>\n  </tbody>\n</table>\n</div>"
     },
     "execution_count": 23,
     "metadata": {},
     "output_type": "execute_result"
    }
   ],
   "source": [
    "df_tv_show.head()"
   ],
   "metadata": {
    "collapsed": false,
    "ExecuteTime": {
     "end_time": "2023-09-09T19:09:48.862841400Z",
     "start_time": "2023-09-09T19:09:48.751647800Z"
    }
   },
   "id": "dde0ce6dada1c856"
  },
  {
   "cell_type": "code",
   "execution_count": 24,
   "outputs": [
    {
     "name": "stdout",
     "output_type": "stream",
     "text": [
      "Shape of the dataframe:  (15462, 7)\n",
      "The DataFrame: \n"
     ]
    },
    {
     "data": {
      "text/plain": "                   title                                        description  \\\n0  It's a Wonderful Life  A holiday favourite for generations...  George...   \n1              Duck Soup  Rufus T. Firefly is named president/dictator o...   \n2        His Girl Friday  Hildy, the journalist former wife of newspaper...   \n3      The Three Stooges  The Three Stooges were an American vaudeville ...   \n4              Red River  Headstrong Thomas Dunson starts a thriving Tex...   \n\n                                              genres  imdb_score   type  \\\n0  ['drama', 'family', 'fantasy', 'romance', 'com...         8.6  MOVIE   \n1                                  ['comedy', 'war']         7.8  MOVIE   \n2                     ['drama', 'romance', 'comedy']         7.8  MOVIE   \n3                               ['comedy', 'family']         8.5   SHOW   \n4          ['western', 'drama', 'romance', 'action']         7.8  MOVIE   \n\n  primary_genre category  \n0      ['drama'  tv show  \n1     ['comedy'  tv show  \n2      ['drama'  tv show  \n3     ['comedy'  tv show  \n4    ['western'  tv show  ",
      "text/html": "<div>\n<style scoped>\n    .dataframe tbody tr th:only-of-type {\n        vertical-align: middle;\n    }\n\n    .dataframe tbody tr th {\n        vertical-align: top;\n    }\n\n    .dataframe thead th {\n        text-align: right;\n    }\n</style>\n<table border=\"1\" class=\"dataframe\">\n  <thead>\n    <tr style=\"text-align: right;\">\n      <th></th>\n      <th>title</th>\n      <th>description</th>\n      <th>genres</th>\n      <th>imdb_score</th>\n      <th>type</th>\n      <th>primary_genre</th>\n      <th>category</th>\n    </tr>\n  </thead>\n  <tbody>\n    <tr>\n      <th>0</th>\n      <td>It's a Wonderful Life</td>\n      <td>A holiday favourite for generations...  George...</td>\n      <td>['drama', 'family', 'fantasy', 'romance', 'com...</td>\n      <td>8.6</td>\n      <td>MOVIE</td>\n      <td>['drama'</td>\n      <td>tv show</td>\n    </tr>\n    <tr>\n      <th>1</th>\n      <td>Duck Soup</td>\n      <td>Rufus T. Firefly is named president/dictator o...</td>\n      <td>['comedy', 'war']</td>\n      <td>7.8</td>\n      <td>MOVIE</td>\n      <td>['comedy'</td>\n      <td>tv show</td>\n    </tr>\n    <tr>\n      <th>2</th>\n      <td>His Girl Friday</td>\n      <td>Hildy, the journalist former wife of newspaper...</td>\n      <td>['drama', 'romance', 'comedy']</td>\n      <td>7.8</td>\n      <td>MOVIE</td>\n      <td>['drama'</td>\n      <td>tv show</td>\n    </tr>\n    <tr>\n      <th>3</th>\n      <td>The Three Stooges</td>\n      <td>The Three Stooges were an American vaudeville ...</td>\n      <td>['comedy', 'family']</td>\n      <td>8.5</td>\n      <td>SHOW</td>\n      <td>['comedy'</td>\n      <td>tv show</td>\n    </tr>\n    <tr>\n      <th>4</th>\n      <td>Red River</td>\n      <td>Headstrong Thomas Dunson starts a thriving Tex...</td>\n      <td>['western', 'drama', 'romance', 'action']</td>\n      <td>7.8</td>\n      <td>MOVIE</td>\n      <td>['western'</td>\n      <td>tv show</td>\n    </tr>\n  </tbody>\n</table>\n</div>"
     },
     "metadata": {},
     "output_type": "display_data"
    },
    {
     "name": "stdout",
     "output_type": "stream",
     "text": [
      "All Data Types: \n"
     ]
    },
    {
     "data": {
      "text/plain": "title             object\ndescription       object\ngenres            object\nimdb_score       float64\ntype              object\nprimary_genre     object\ncategory          object\ndtype: object"
     },
     "metadata": {},
     "output_type": "display_data"
    },
    {
     "name": "stdout",
     "output_type": "stream",
     "text": [
      "Null Values:\n"
     ]
    },
    {
     "data": {
      "text/plain": "title            0\ndescription      0\ngenres           0\nimdb_score       0\ntype             0\nprimary_genre    0\ncategory         0\ndtype: int64"
     },
     "metadata": {},
     "output_type": "display_data"
    },
    {
     "name": "stdout",
     "output_type": "stream",
     "text": [
      "Duplicate Movie Name Count:  0\n",
      "Duplicate Description Count:  0\n",
      "DataFrame Details:\n"
     ]
    },
    {
     "data": {
      "text/plain": "                        title  \\\ncount                   15462   \nunique                  15462   \ntop     It's a Wonderful Life   \nfreq                        1   \nmean                      NaN   \nstd                       NaN   \nmin                       NaN   \n25%                       NaN   \n50%                       NaN   \n75%                       NaN   \nmax                       NaN   \n\n                                              description             genres  \\\ncount                                               15462              15462   \nunique                                              15462               3717   \ntop     A holiday favourite for generations...  George...  ['documentation']   \nfreq                                                    1               1041   \nmean                                                  NaN                NaN   \nstd                                                   NaN                NaN   \nmin                                                   NaN                NaN   \n25%                                                   NaN                NaN   \n50%                                                   NaN                NaN   \n75%                                                   NaN                NaN   \nmax                                                   NaN                NaN   \n\n          imdb_score   type primary_genre category  \ncount   15462.000000  15462         15462    15462  \nunique           NaN      2            38        1  \ntop              NaN  MOVIE      ['drama'  tv show  \nfreq             NaN  11980          3189    15462  \nmean        6.286677    NaN           NaN      NaN  \nstd         1.328231    NaN           NaN      NaN  \nmin         1.000000    NaN           NaN      NaN  \n25%         5.500000    NaN           NaN      NaN  \n50%         6.400000    NaN           NaN      NaN  \n75%         7.300000    NaN           NaN      NaN  \nmax         9.900000    NaN           NaN      NaN  ",
      "text/html": "<div>\n<style scoped>\n    .dataframe tbody tr th:only-of-type {\n        vertical-align: middle;\n    }\n\n    .dataframe tbody tr th {\n        vertical-align: top;\n    }\n\n    .dataframe thead th {\n        text-align: right;\n    }\n</style>\n<table border=\"1\" class=\"dataframe\">\n  <thead>\n    <tr style=\"text-align: right;\">\n      <th></th>\n      <th>title</th>\n      <th>description</th>\n      <th>genres</th>\n      <th>imdb_score</th>\n      <th>type</th>\n      <th>primary_genre</th>\n      <th>category</th>\n    </tr>\n  </thead>\n  <tbody>\n    <tr>\n      <th>count</th>\n      <td>15462</td>\n      <td>15462</td>\n      <td>15462</td>\n      <td>15462.000000</td>\n      <td>15462</td>\n      <td>15462</td>\n      <td>15462</td>\n    </tr>\n    <tr>\n      <th>unique</th>\n      <td>15462</td>\n      <td>15462</td>\n      <td>3717</td>\n      <td>NaN</td>\n      <td>2</td>\n      <td>38</td>\n      <td>1</td>\n    </tr>\n    <tr>\n      <th>top</th>\n      <td>It's a Wonderful Life</td>\n      <td>A holiday favourite for generations...  George...</td>\n      <td>['documentation']</td>\n      <td>NaN</td>\n      <td>MOVIE</td>\n      <td>['drama'</td>\n      <td>tv show</td>\n    </tr>\n    <tr>\n      <th>freq</th>\n      <td>1</td>\n      <td>1</td>\n      <td>1041</td>\n      <td>NaN</td>\n      <td>11980</td>\n      <td>3189</td>\n      <td>15462</td>\n    </tr>\n    <tr>\n      <th>mean</th>\n      <td>NaN</td>\n      <td>NaN</td>\n      <td>NaN</td>\n      <td>6.286677</td>\n      <td>NaN</td>\n      <td>NaN</td>\n      <td>NaN</td>\n    </tr>\n    <tr>\n      <th>std</th>\n      <td>NaN</td>\n      <td>NaN</td>\n      <td>NaN</td>\n      <td>1.328231</td>\n      <td>NaN</td>\n      <td>NaN</td>\n      <td>NaN</td>\n    </tr>\n    <tr>\n      <th>min</th>\n      <td>NaN</td>\n      <td>NaN</td>\n      <td>NaN</td>\n      <td>1.000000</td>\n      <td>NaN</td>\n      <td>NaN</td>\n      <td>NaN</td>\n    </tr>\n    <tr>\n      <th>25%</th>\n      <td>NaN</td>\n      <td>NaN</td>\n      <td>NaN</td>\n      <td>5.500000</td>\n      <td>NaN</td>\n      <td>NaN</td>\n      <td>NaN</td>\n    </tr>\n    <tr>\n      <th>50%</th>\n      <td>NaN</td>\n      <td>NaN</td>\n      <td>NaN</td>\n      <td>6.400000</td>\n      <td>NaN</td>\n      <td>NaN</td>\n      <td>NaN</td>\n    </tr>\n    <tr>\n      <th>75%</th>\n      <td>NaN</td>\n      <td>NaN</td>\n      <td>NaN</td>\n      <td>7.300000</td>\n      <td>NaN</td>\n      <td>NaN</td>\n      <td>NaN</td>\n    </tr>\n    <tr>\n      <th>max</th>\n      <td>NaN</td>\n      <td>NaN</td>\n      <td>NaN</td>\n      <td>9.900000</td>\n      <td>NaN</td>\n      <td>NaN</td>\n      <td>NaN</td>\n    </tr>\n  </tbody>\n</table>\n</div>"
     },
     "metadata": {},
     "output_type": "display_data"
    }
   ],
   "source": [
    "ppt.get_df_info(df_tv_show)"
   ],
   "metadata": {
    "collapsed": false,
    "ExecuteTime": {
     "end_time": "2023-09-09T19:09:49.117798Z",
     "start_time": "2023-09-09T19:09:48.860258400Z"
    }
   },
   "id": "3bf055e6267fb6c"
  },
  {
   "cell_type": "code",
   "execution_count": 25,
   "outputs": [
    {
     "data": {
      "text/plain": "                                              title  \\\n0                             It's a Wonderful Life   \n1                                         Duck Soup   \n2                                   His Girl Friday   \n3                                 The Three Stooges   \n4                                         Red River   \n...                                             ...   \n2388                            Roman to the Rescue   \n2389                       Capital One College Bowl   \n2393                    Nine Films About Technology   \n2395               Candified: Home For The Holidays   \n2397  Madagascar: A Little Wild Holiday Goose Chase   \n\n                                            description  \\\n0     A holiday favourite for generations...  George...   \n1     Rufus T. Firefly is named president/dictator o...   \n2     Hildy, the journalist former wife of newspaper...   \n3     The Three Stooges were an American vaudeville ...   \n4     Headstrong Thomas Dunson starts a thriving Tex...   \n...                                                 ...   \n2388  Follows 10-year-old rescuer Roman McConn on hi...   \n2389  Follow college students out of the classroom a...   \n2393  Nine loosely connected and darkly comic storie...   \n2395  The challenge - create a life-size house made ...   \n2397  Melman the Giraffe meets Hank, a goose who has...   \n\n                                                 genres  imdb_score   type  \\\n0     ['drama', 'family', 'fantasy', 'romance', 'com...         8.6  MOVIE   \n1                                     ['comedy', 'war']         7.8  MOVIE   \n2                        ['drama', 'romance', 'comedy']         7.8  MOVIE   \n3                                  ['comedy', 'family']         8.5   SHOW   \n4             ['western', 'drama', 'romance', 'action']         7.8  MOVIE   \n...                                                 ...         ...    ...   \n2388                                         ['family']         7.0   SHOW   \n2389                                          ['sport']         6.9   SHOW   \n2393                                ['comedy', 'drama']         7.3   SHOW   \n2395                                        ['reality']         4.7   SHOW   \n2397                  ['comedy', 'family', 'animation']         4.8  MOVIE   \n\n     primary_genre category  \n0         ['drama'  tv show  \n1        ['comedy'  tv show  \n2         ['drama'  tv show  \n3        ['comedy'  tv show  \n4       ['western'  tv show  \n...            ...      ...  \n2388    ['family']  tv show  \n2389     ['sport']  tv show  \n2393     ['comedy'  tv show  \n2395   ['reality']  tv show  \n2397     ['comedy'  tv show  \n\n[15462 rows x 7 columns]",
      "text/html": "<div>\n<style scoped>\n    .dataframe tbody tr th:only-of-type {\n        vertical-align: middle;\n    }\n\n    .dataframe tbody tr th {\n        vertical-align: top;\n    }\n\n    .dataframe thead th {\n        text-align: right;\n    }\n</style>\n<table border=\"1\" class=\"dataframe\">\n  <thead>\n    <tr style=\"text-align: right;\">\n      <th></th>\n      <th>title</th>\n      <th>description</th>\n      <th>genres</th>\n      <th>imdb_score</th>\n      <th>type</th>\n      <th>primary_genre</th>\n      <th>category</th>\n    </tr>\n  </thead>\n  <tbody>\n    <tr>\n      <th>0</th>\n      <td>It's a Wonderful Life</td>\n      <td>A holiday favourite for generations...  George...</td>\n      <td>['drama', 'family', 'fantasy', 'romance', 'com...</td>\n      <td>8.6</td>\n      <td>MOVIE</td>\n      <td>['drama'</td>\n      <td>tv show</td>\n    </tr>\n    <tr>\n      <th>1</th>\n      <td>Duck Soup</td>\n      <td>Rufus T. Firefly is named president/dictator o...</td>\n      <td>['comedy', 'war']</td>\n      <td>7.8</td>\n      <td>MOVIE</td>\n      <td>['comedy'</td>\n      <td>tv show</td>\n    </tr>\n    <tr>\n      <th>2</th>\n      <td>His Girl Friday</td>\n      <td>Hildy, the journalist former wife of newspaper...</td>\n      <td>['drama', 'romance', 'comedy']</td>\n      <td>7.8</td>\n      <td>MOVIE</td>\n      <td>['drama'</td>\n      <td>tv show</td>\n    </tr>\n    <tr>\n      <th>3</th>\n      <td>The Three Stooges</td>\n      <td>The Three Stooges were an American vaudeville ...</td>\n      <td>['comedy', 'family']</td>\n      <td>8.5</td>\n      <td>SHOW</td>\n      <td>['comedy'</td>\n      <td>tv show</td>\n    </tr>\n    <tr>\n      <th>4</th>\n      <td>Red River</td>\n      <td>Headstrong Thomas Dunson starts a thriving Tex...</td>\n      <td>['western', 'drama', 'romance', 'action']</td>\n      <td>7.8</td>\n      <td>MOVIE</td>\n      <td>['western'</td>\n      <td>tv show</td>\n    </tr>\n    <tr>\n      <th>...</th>\n      <td>...</td>\n      <td>...</td>\n      <td>...</td>\n      <td>...</td>\n      <td>...</td>\n      <td>...</td>\n      <td>...</td>\n    </tr>\n    <tr>\n      <th>2388</th>\n      <td>Roman to the Rescue</td>\n      <td>Follows 10-year-old rescuer Roman McConn on hi...</td>\n      <td>['family']</td>\n      <td>7.0</td>\n      <td>SHOW</td>\n      <td>['family']</td>\n      <td>tv show</td>\n    </tr>\n    <tr>\n      <th>2389</th>\n      <td>Capital One College Bowl</td>\n      <td>Follow college students out of the classroom a...</td>\n      <td>['sport']</td>\n      <td>6.9</td>\n      <td>SHOW</td>\n      <td>['sport']</td>\n      <td>tv show</td>\n    </tr>\n    <tr>\n      <th>2393</th>\n      <td>Nine Films About Technology</td>\n      <td>Nine loosely connected and darkly comic storie...</td>\n      <td>['comedy', 'drama']</td>\n      <td>7.3</td>\n      <td>SHOW</td>\n      <td>['comedy'</td>\n      <td>tv show</td>\n    </tr>\n    <tr>\n      <th>2395</th>\n      <td>Candified: Home For The Holidays</td>\n      <td>The challenge - create a life-size house made ...</td>\n      <td>['reality']</td>\n      <td>4.7</td>\n      <td>SHOW</td>\n      <td>['reality']</td>\n      <td>tv show</td>\n    </tr>\n    <tr>\n      <th>2397</th>\n      <td>Madagascar: A Little Wild Holiday Goose Chase</td>\n      <td>Melman the Giraffe meets Hank, a goose who has...</td>\n      <td>['comedy', 'family', 'animation']</td>\n      <td>4.8</td>\n      <td>MOVIE</td>\n      <td>['comedy'</td>\n      <td>tv show</td>\n    </tr>\n  </tbody>\n</table>\n<p>15462 rows × 7 columns</p>\n</div>"
     },
     "execution_count": 25,
     "metadata": {},
     "output_type": "execute_result"
    }
   ],
   "source": [
    "df_tv_show"
   ],
   "metadata": {
    "collapsed": false,
    "ExecuteTime": {
     "end_time": "2023-09-09T19:11:06.251414200Z",
     "start_time": "2023-09-09T19:11:06.070545200Z"
    }
   },
   "id": "1cb254f33fc3299f"
  },
  {
   "cell_type": "code",
   "execution_count": 26,
   "outputs": [],
   "source": [
    "df_tv_show.rename(columns={\"imdb_score\": \"rating\",}, inplace=True, errors='raise')"
   ],
   "metadata": {
    "collapsed": false,
    "ExecuteTime": {
     "end_time": "2023-09-09T19:12:32.944140900Z",
     "start_time": "2023-09-09T19:12:32.806505100Z"
    }
   },
   "id": "cc40bfb1fc9ce90"
  },
  {
   "cell_type": "code",
   "execution_count": 28,
   "outputs": [
    {
     "name": "stdout",
     "output_type": "stream",
     "text": [
      "Shape of the dataframe:  (15462, 7)\n",
      "The DataFrame: \n"
     ]
    },
    {
     "data": {
      "text/plain": "                   title                                        description  \\\n0  It's a Wonderful Life  A holiday favourite for generations...  George...   \n1              Duck Soup  Rufus T. Firefly is named president/dictator o...   \n2        His Girl Friday  Hildy, the journalist former wife of newspaper...   \n3      The Three Stooges  The Three Stooges were an American vaudeville ...   \n4              Red River  Headstrong Thomas Dunson starts a thriving Tex...   \n\n                                              genres  rating   type  \\\n0  ['drama', 'family', 'fantasy', 'romance', 'com...     8.6  MOVIE   \n1                                  ['comedy', 'war']     7.8  MOVIE   \n2                     ['drama', 'romance', 'comedy']     7.8  MOVIE   \n3                               ['comedy', 'family']     8.5   SHOW   \n4          ['western', 'drama', 'romance', 'action']     7.8  MOVIE   \n\n  primary_genre category  \n0      ['drama'  tv show  \n1     ['comedy'  tv show  \n2      ['drama'  tv show  \n3     ['comedy'  tv show  \n4    ['western'  tv show  ",
      "text/html": "<div>\n<style scoped>\n    .dataframe tbody tr th:only-of-type {\n        vertical-align: middle;\n    }\n\n    .dataframe tbody tr th {\n        vertical-align: top;\n    }\n\n    .dataframe thead th {\n        text-align: right;\n    }\n</style>\n<table border=\"1\" class=\"dataframe\">\n  <thead>\n    <tr style=\"text-align: right;\">\n      <th></th>\n      <th>title</th>\n      <th>description</th>\n      <th>genres</th>\n      <th>rating</th>\n      <th>type</th>\n      <th>primary_genre</th>\n      <th>category</th>\n    </tr>\n  </thead>\n  <tbody>\n    <tr>\n      <th>0</th>\n      <td>It's a Wonderful Life</td>\n      <td>A holiday favourite for generations...  George...</td>\n      <td>['drama', 'family', 'fantasy', 'romance', 'com...</td>\n      <td>8.6</td>\n      <td>MOVIE</td>\n      <td>['drama'</td>\n      <td>tv show</td>\n    </tr>\n    <tr>\n      <th>1</th>\n      <td>Duck Soup</td>\n      <td>Rufus T. Firefly is named president/dictator o...</td>\n      <td>['comedy', 'war']</td>\n      <td>7.8</td>\n      <td>MOVIE</td>\n      <td>['comedy'</td>\n      <td>tv show</td>\n    </tr>\n    <tr>\n      <th>2</th>\n      <td>His Girl Friday</td>\n      <td>Hildy, the journalist former wife of newspaper...</td>\n      <td>['drama', 'romance', 'comedy']</td>\n      <td>7.8</td>\n      <td>MOVIE</td>\n      <td>['drama'</td>\n      <td>tv show</td>\n    </tr>\n    <tr>\n      <th>3</th>\n      <td>The Three Stooges</td>\n      <td>The Three Stooges were an American vaudeville ...</td>\n      <td>['comedy', 'family']</td>\n      <td>8.5</td>\n      <td>SHOW</td>\n      <td>['comedy'</td>\n      <td>tv show</td>\n    </tr>\n    <tr>\n      <th>4</th>\n      <td>Red River</td>\n      <td>Headstrong Thomas Dunson starts a thriving Tex...</td>\n      <td>['western', 'drama', 'romance', 'action']</td>\n      <td>7.8</td>\n      <td>MOVIE</td>\n      <td>['western'</td>\n      <td>tv show</td>\n    </tr>\n  </tbody>\n</table>\n</div>"
     },
     "metadata": {},
     "output_type": "display_data"
    },
    {
     "name": "stdout",
     "output_type": "stream",
     "text": [
      "All Data Types: \n"
     ]
    },
    {
     "data": {
      "text/plain": "title             object\ndescription       object\ngenres            object\nrating           float64\ntype              object\nprimary_genre     object\ncategory          object\ndtype: object"
     },
     "metadata": {},
     "output_type": "display_data"
    },
    {
     "name": "stdout",
     "output_type": "stream",
     "text": [
      "Null Values:\n"
     ]
    },
    {
     "data": {
      "text/plain": "title            0\ndescription      0\ngenres           0\nrating           0\ntype             0\nprimary_genre    0\ncategory         0\ndtype: int64"
     },
     "metadata": {},
     "output_type": "display_data"
    },
    {
     "name": "stdout",
     "output_type": "stream",
     "text": [
      "Duplicate Movie Name Count:  0\n",
      "Duplicate Description Count:  0\n",
      "DataFrame Details:\n"
     ]
    },
    {
     "data": {
      "text/plain": "                        title  \\\ncount                   15462   \nunique                  15462   \ntop     It's a Wonderful Life   \nfreq                        1   \nmean                      NaN   \nstd                       NaN   \nmin                       NaN   \n25%                       NaN   \n50%                       NaN   \n75%                       NaN   \nmax                       NaN   \n\n                                              description             genres  \\\ncount                                               15462              15462   \nunique                                              15462               3717   \ntop     A holiday favourite for generations...  George...  ['documentation']   \nfreq                                                    1               1041   \nmean                                                  NaN                NaN   \nstd                                                   NaN                NaN   \nmin                                                   NaN                NaN   \n25%                                                   NaN                NaN   \n50%                                                   NaN                NaN   \n75%                                                   NaN                NaN   \nmax                                                   NaN                NaN   \n\n              rating   type primary_genre category  \ncount   15462.000000  15462         15462    15462  \nunique           NaN      2            38        1  \ntop              NaN  MOVIE      ['drama'  tv show  \nfreq             NaN  11980          3189    15462  \nmean        6.286677    NaN           NaN      NaN  \nstd         1.328231    NaN           NaN      NaN  \nmin         1.000000    NaN           NaN      NaN  \n25%         5.500000    NaN           NaN      NaN  \n50%         6.400000    NaN           NaN      NaN  \n75%         7.300000    NaN           NaN      NaN  \nmax         9.900000    NaN           NaN      NaN  ",
      "text/html": "<div>\n<style scoped>\n    .dataframe tbody tr th:only-of-type {\n        vertical-align: middle;\n    }\n\n    .dataframe tbody tr th {\n        vertical-align: top;\n    }\n\n    .dataframe thead th {\n        text-align: right;\n    }\n</style>\n<table border=\"1\" class=\"dataframe\">\n  <thead>\n    <tr style=\"text-align: right;\">\n      <th></th>\n      <th>title</th>\n      <th>description</th>\n      <th>genres</th>\n      <th>rating</th>\n      <th>type</th>\n      <th>primary_genre</th>\n      <th>category</th>\n    </tr>\n  </thead>\n  <tbody>\n    <tr>\n      <th>count</th>\n      <td>15462</td>\n      <td>15462</td>\n      <td>15462</td>\n      <td>15462.000000</td>\n      <td>15462</td>\n      <td>15462</td>\n      <td>15462</td>\n    </tr>\n    <tr>\n      <th>unique</th>\n      <td>15462</td>\n      <td>15462</td>\n      <td>3717</td>\n      <td>NaN</td>\n      <td>2</td>\n      <td>38</td>\n      <td>1</td>\n    </tr>\n    <tr>\n      <th>top</th>\n      <td>It's a Wonderful Life</td>\n      <td>A holiday favourite for generations...  George...</td>\n      <td>['documentation']</td>\n      <td>NaN</td>\n      <td>MOVIE</td>\n      <td>['drama'</td>\n      <td>tv show</td>\n    </tr>\n    <tr>\n      <th>freq</th>\n      <td>1</td>\n      <td>1</td>\n      <td>1041</td>\n      <td>NaN</td>\n      <td>11980</td>\n      <td>3189</td>\n      <td>15462</td>\n    </tr>\n    <tr>\n      <th>mean</th>\n      <td>NaN</td>\n      <td>NaN</td>\n      <td>NaN</td>\n      <td>6.286677</td>\n      <td>NaN</td>\n      <td>NaN</td>\n      <td>NaN</td>\n    </tr>\n    <tr>\n      <th>std</th>\n      <td>NaN</td>\n      <td>NaN</td>\n      <td>NaN</td>\n      <td>1.328231</td>\n      <td>NaN</td>\n      <td>NaN</td>\n      <td>NaN</td>\n    </tr>\n    <tr>\n      <th>min</th>\n      <td>NaN</td>\n      <td>NaN</td>\n      <td>NaN</td>\n      <td>1.000000</td>\n      <td>NaN</td>\n      <td>NaN</td>\n      <td>NaN</td>\n    </tr>\n    <tr>\n      <th>25%</th>\n      <td>NaN</td>\n      <td>NaN</td>\n      <td>NaN</td>\n      <td>5.500000</td>\n      <td>NaN</td>\n      <td>NaN</td>\n      <td>NaN</td>\n    </tr>\n    <tr>\n      <th>50%</th>\n      <td>NaN</td>\n      <td>NaN</td>\n      <td>NaN</td>\n      <td>6.400000</td>\n      <td>NaN</td>\n      <td>NaN</td>\n      <td>NaN</td>\n    </tr>\n    <tr>\n      <th>75%</th>\n      <td>NaN</td>\n      <td>NaN</td>\n      <td>NaN</td>\n      <td>7.300000</td>\n      <td>NaN</td>\n      <td>NaN</td>\n      <td>NaN</td>\n    </tr>\n    <tr>\n      <th>max</th>\n      <td>NaN</td>\n      <td>NaN</td>\n      <td>NaN</td>\n      <td>9.900000</td>\n      <td>NaN</td>\n      <td>NaN</td>\n      <td>NaN</td>\n    </tr>\n  </tbody>\n</table>\n</div>"
     },
     "metadata": {},
     "output_type": "display_data"
    }
   ],
   "source": [
    "ppt.get_df_info(df_tv_show)"
   ],
   "metadata": {
    "collapsed": false,
    "ExecuteTime": {
     "end_time": "2023-09-09T19:12:51.012114Z",
     "start_time": "2023-09-09T19:12:50.735210100Z"
    }
   },
   "id": "d80d074d29139bea"
  },
  {
   "cell_type": "code",
   "execution_count": 57,
   "outputs": [],
   "source": [
    "df_only_tv_show = df_tv_show[df_tv_show[\"type\"] == \"SHOW\"].reset_index(drop=True)"
   ],
   "metadata": {
    "collapsed": false,
    "ExecuteTime": {
     "end_time": "2023-09-09T19:32:57.074571Z",
     "start_time": "2023-09-09T19:32:56.919832800Z"
    }
   },
   "id": "f9cc9f8dbe2f7779"
  },
  {
   "cell_type": "code",
   "execution_count": 58,
   "outputs": [
    {
     "data": {
      "text/plain": "                         title  \\\n0            The Three Stooges   \n1       The Jack Benny Program   \n2              What's My Line?   \n3                 The Avengers   \n4  Mister Rogers' Neighborhood   \n\n                                         description  \\\n0  The Three Stooges were an American vaudeville ...   \n1  Laugh along with funnyman Jack Benny as he bri...   \n2  Four panelists must determine guests' occupati...   \n3  The Avengers is a British television series cr...   \n4  Mister Rogers' Neighborhood is an American chi...   \n\n                                              genres  rating  type  \\\n0                               ['comedy', 'family']     8.5  SHOW   \n1                                         ['comedy']     8.6  SHOW   \n2                              ['reality', 'family']     8.5  SHOW   \n3  ['scifi', 'action', 'crime', 'romance', 'thril...     8.3  SHOW   \n4                     ['family', 'fantasy', 'music']     8.7  SHOW   \n\n  primary_genre category  \n0     ['comedy'  tv show  \n1    ['comedy']  tv show  \n2    ['reality'  tv show  \n3      ['scifi'  tv show  \n4     ['family'  tv show  ",
      "text/html": "<div>\n<style scoped>\n    .dataframe tbody tr th:only-of-type {\n        vertical-align: middle;\n    }\n\n    .dataframe tbody tr th {\n        vertical-align: top;\n    }\n\n    .dataframe thead th {\n        text-align: right;\n    }\n</style>\n<table border=\"1\" class=\"dataframe\">\n  <thead>\n    <tr style=\"text-align: right;\">\n      <th></th>\n      <th>title</th>\n      <th>description</th>\n      <th>genres</th>\n      <th>rating</th>\n      <th>type</th>\n      <th>primary_genre</th>\n      <th>category</th>\n    </tr>\n  </thead>\n  <tbody>\n    <tr>\n      <th>0</th>\n      <td>The Three Stooges</td>\n      <td>The Three Stooges were an American vaudeville ...</td>\n      <td>['comedy', 'family']</td>\n      <td>8.5</td>\n      <td>SHOW</td>\n      <td>['comedy'</td>\n      <td>tv show</td>\n    </tr>\n    <tr>\n      <th>1</th>\n      <td>The Jack Benny Program</td>\n      <td>Laugh along with funnyman Jack Benny as he bri...</td>\n      <td>['comedy']</td>\n      <td>8.6</td>\n      <td>SHOW</td>\n      <td>['comedy']</td>\n      <td>tv show</td>\n    </tr>\n    <tr>\n      <th>2</th>\n      <td>What's My Line?</td>\n      <td>Four panelists must determine guests' occupati...</td>\n      <td>['reality', 'family']</td>\n      <td>8.5</td>\n      <td>SHOW</td>\n      <td>['reality'</td>\n      <td>tv show</td>\n    </tr>\n    <tr>\n      <th>3</th>\n      <td>The Avengers</td>\n      <td>The Avengers is a British television series cr...</td>\n      <td>['scifi', 'action', 'crime', 'romance', 'thril...</td>\n      <td>8.3</td>\n      <td>SHOW</td>\n      <td>['scifi'</td>\n      <td>tv show</td>\n    </tr>\n    <tr>\n      <th>4</th>\n      <td>Mister Rogers' Neighborhood</td>\n      <td>Mister Rogers' Neighborhood is an American chi...</td>\n      <td>['family', 'fantasy', 'music']</td>\n      <td>8.7</td>\n      <td>SHOW</td>\n      <td>['family'</td>\n      <td>tv show</td>\n    </tr>\n  </tbody>\n</table>\n</div>"
     },
     "execution_count": 58,
     "metadata": {},
     "output_type": "execute_result"
    }
   ],
   "source": [
    "df_only_tv_show.head()"
   ],
   "metadata": {
    "collapsed": false,
    "ExecuteTime": {
     "end_time": "2023-09-09T19:32:57.604060700Z",
     "start_time": "2023-09-09T19:32:57.476117800Z"
    }
   },
   "id": "938dfc19ea8d4c20"
  },
  {
   "cell_type": "code",
   "execution_count": 59,
   "outputs": [
    {
     "name": "stdout",
     "output_type": "stream",
     "text": [
      "Shape of the dataframe:  (3482, 7)\n",
      "The DataFrame: \n"
     ]
    },
    {
     "data": {
      "text/plain": "                         title  \\\n0            The Three Stooges   \n1       The Jack Benny Program   \n2              What's My Line?   \n3                 The Avengers   \n4  Mister Rogers' Neighborhood   \n\n                                         description  \\\n0  The Three Stooges were an American vaudeville ...   \n1  Laugh along with funnyman Jack Benny as he bri...   \n2  Four panelists must determine guests' occupati...   \n3  The Avengers is a British television series cr...   \n4  Mister Rogers' Neighborhood is an American chi...   \n\n                                              genres  rating  type  \\\n0                               ['comedy', 'family']     8.5  SHOW   \n1                                         ['comedy']     8.6  SHOW   \n2                              ['reality', 'family']     8.5  SHOW   \n3  ['scifi', 'action', 'crime', 'romance', 'thril...     8.3  SHOW   \n4                     ['family', 'fantasy', 'music']     8.7  SHOW   \n\n  primary_genre category  \n0     ['comedy'  tv show  \n1    ['comedy']  tv show  \n2    ['reality'  tv show  \n3      ['scifi'  tv show  \n4     ['family'  tv show  ",
      "text/html": "<div>\n<style scoped>\n    .dataframe tbody tr th:only-of-type {\n        vertical-align: middle;\n    }\n\n    .dataframe tbody tr th {\n        vertical-align: top;\n    }\n\n    .dataframe thead th {\n        text-align: right;\n    }\n</style>\n<table border=\"1\" class=\"dataframe\">\n  <thead>\n    <tr style=\"text-align: right;\">\n      <th></th>\n      <th>title</th>\n      <th>description</th>\n      <th>genres</th>\n      <th>rating</th>\n      <th>type</th>\n      <th>primary_genre</th>\n      <th>category</th>\n    </tr>\n  </thead>\n  <tbody>\n    <tr>\n      <th>0</th>\n      <td>The Three Stooges</td>\n      <td>The Three Stooges were an American vaudeville ...</td>\n      <td>['comedy', 'family']</td>\n      <td>8.5</td>\n      <td>SHOW</td>\n      <td>['comedy'</td>\n      <td>tv show</td>\n    </tr>\n    <tr>\n      <th>1</th>\n      <td>The Jack Benny Program</td>\n      <td>Laugh along with funnyman Jack Benny as he bri...</td>\n      <td>['comedy']</td>\n      <td>8.6</td>\n      <td>SHOW</td>\n      <td>['comedy']</td>\n      <td>tv show</td>\n    </tr>\n    <tr>\n      <th>2</th>\n      <td>What's My Line?</td>\n      <td>Four panelists must determine guests' occupati...</td>\n      <td>['reality', 'family']</td>\n      <td>8.5</td>\n      <td>SHOW</td>\n      <td>['reality'</td>\n      <td>tv show</td>\n    </tr>\n    <tr>\n      <th>3</th>\n      <td>The Avengers</td>\n      <td>The Avengers is a British television series cr...</td>\n      <td>['scifi', 'action', 'crime', 'romance', 'thril...</td>\n      <td>8.3</td>\n      <td>SHOW</td>\n      <td>['scifi'</td>\n      <td>tv show</td>\n    </tr>\n    <tr>\n      <th>4</th>\n      <td>Mister Rogers' Neighborhood</td>\n      <td>Mister Rogers' Neighborhood is an American chi...</td>\n      <td>['family', 'fantasy', 'music']</td>\n      <td>8.7</td>\n      <td>SHOW</td>\n      <td>['family'</td>\n      <td>tv show</td>\n    </tr>\n  </tbody>\n</table>\n</div>"
     },
     "metadata": {},
     "output_type": "display_data"
    },
    {
     "name": "stdout",
     "output_type": "stream",
     "text": [
      "All Data Types: \n"
     ]
    },
    {
     "data": {
      "text/plain": "title             object\ndescription       object\ngenres            object\nrating           float64\ntype              object\nprimary_genre     object\ncategory          object\ndtype: object"
     },
     "metadata": {},
     "output_type": "display_data"
    },
    {
     "name": "stdout",
     "output_type": "stream",
     "text": [
      "Null Values:\n"
     ]
    },
    {
     "data": {
      "text/plain": "title            0\ndescription      0\ngenres           0\nrating           0\ntype             0\nprimary_genre    0\ncategory         0\ndtype: int64"
     },
     "metadata": {},
     "output_type": "display_data"
    },
    {
     "name": "stdout",
     "output_type": "stream",
     "text": [
      "Duplicate Movie Name Count:  0\n",
      "Duplicate Description Count:  0\n",
      "DataFrame Details:\n"
     ]
    },
    {
     "data": {
      "text/plain": "                    title                                        description  \\\ncount                3482                                               3482   \nunique               3482                                               3482   \ntop     The Three Stooges  The Three Stooges were an American vaudeville ...   \nfreq                    1                                                  1   \nmean                  NaN                                                NaN   \nstd                   NaN                                                NaN   \nmin                   NaN                                                NaN   \n25%                   NaN                                                NaN   \n50%                   NaN                                                NaN   \n75%                   NaN                                                NaN   \nmax                   NaN                                                NaN   \n\n                   genres       rating  type primary_genre category  \ncount                3482  3482.000000  3482          3482     3482  \nunique               1347          NaN     1            36        1  \ntop     ['documentation']          NaN  SHOW      ['drama'  tv show  \nfreq                  221          NaN  3482           577     3482  \nmean                  NaN     7.152412   NaN           NaN      NaN  \nstd                   NaN     1.118121   NaN           NaN      NaN  \nmin                   NaN     1.000000   NaN           NaN      NaN  \n25%                   NaN     6.600000   NaN           NaN      NaN  \n50%                   NaN     7.300000   NaN           NaN      NaN  \n75%                   NaN     7.900000   NaN           NaN      NaN  \nmax                   NaN     9.700000   NaN           NaN      NaN  ",
      "text/html": "<div>\n<style scoped>\n    .dataframe tbody tr th:only-of-type {\n        vertical-align: middle;\n    }\n\n    .dataframe tbody tr th {\n        vertical-align: top;\n    }\n\n    .dataframe thead th {\n        text-align: right;\n    }\n</style>\n<table border=\"1\" class=\"dataframe\">\n  <thead>\n    <tr style=\"text-align: right;\">\n      <th></th>\n      <th>title</th>\n      <th>description</th>\n      <th>genres</th>\n      <th>rating</th>\n      <th>type</th>\n      <th>primary_genre</th>\n      <th>category</th>\n    </tr>\n  </thead>\n  <tbody>\n    <tr>\n      <th>count</th>\n      <td>3482</td>\n      <td>3482</td>\n      <td>3482</td>\n      <td>3482.000000</td>\n      <td>3482</td>\n      <td>3482</td>\n      <td>3482</td>\n    </tr>\n    <tr>\n      <th>unique</th>\n      <td>3482</td>\n      <td>3482</td>\n      <td>1347</td>\n      <td>NaN</td>\n      <td>1</td>\n      <td>36</td>\n      <td>1</td>\n    </tr>\n    <tr>\n      <th>top</th>\n      <td>The Three Stooges</td>\n      <td>The Three Stooges were an American vaudeville ...</td>\n      <td>['documentation']</td>\n      <td>NaN</td>\n      <td>SHOW</td>\n      <td>['drama'</td>\n      <td>tv show</td>\n    </tr>\n    <tr>\n      <th>freq</th>\n      <td>1</td>\n      <td>1</td>\n      <td>221</td>\n      <td>NaN</td>\n      <td>3482</td>\n      <td>577</td>\n      <td>3482</td>\n    </tr>\n    <tr>\n      <th>mean</th>\n      <td>NaN</td>\n      <td>NaN</td>\n      <td>NaN</td>\n      <td>7.152412</td>\n      <td>NaN</td>\n      <td>NaN</td>\n      <td>NaN</td>\n    </tr>\n    <tr>\n      <th>std</th>\n      <td>NaN</td>\n      <td>NaN</td>\n      <td>NaN</td>\n      <td>1.118121</td>\n      <td>NaN</td>\n      <td>NaN</td>\n      <td>NaN</td>\n    </tr>\n    <tr>\n      <th>min</th>\n      <td>NaN</td>\n      <td>NaN</td>\n      <td>NaN</td>\n      <td>1.000000</td>\n      <td>NaN</td>\n      <td>NaN</td>\n      <td>NaN</td>\n    </tr>\n    <tr>\n      <th>25%</th>\n      <td>NaN</td>\n      <td>NaN</td>\n      <td>NaN</td>\n      <td>6.600000</td>\n      <td>NaN</td>\n      <td>NaN</td>\n      <td>NaN</td>\n    </tr>\n    <tr>\n      <th>50%</th>\n      <td>NaN</td>\n      <td>NaN</td>\n      <td>NaN</td>\n      <td>7.300000</td>\n      <td>NaN</td>\n      <td>NaN</td>\n      <td>NaN</td>\n    </tr>\n    <tr>\n      <th>75%</th>\n      <td>NaN</td>\n      <td>NaN</td>\n      <td>NaN</td>\n      <td>7.900000</td>\n      <td>NaN</td>\n      <td>NaN</td>\n      <td>NaN</td>\n    </tr>\n    <tr>\n      <th>max</th>\n      <td>NaN</td>\n      <td>NaN</td>\n      <td>NaN</td>\n      <td>9.700000</td>\n      <td>NaN</td>\n      <td>NaN</td>\n      <td>NaN</td>\n    </tr>\n  </tbody>\n</table>\n</div>"
     },
     "metadata": {},
     "output_type": "display_data"
    }
   ],
   "source": [
    "ppt.get_df_info(df_only_tv_show)"
   ],
   "metadata": {
    "collapsed": false,
    "ExecuteTime": {
     "end_time": "2023-09-09T19:32:59.125959300Z",
     "start_time": "2023-09-09T19:32:58.882250200Z"
    }
   },
   "id": "a3f912dfcb49263d"
  },
  {
   "cell_type": "markdown",
   "source": [
    "## Fixed Genres and Primary Genres"
   ],
   "metadata": {
    "collapsed": false
   },
   "id": "cb144f4e26690f21"
  },
  {
   "cell_type": "code",
   "execution_count": 63,
   "outputs": [
    {
     "data": {
      "text/plain": "  0%|          | 0/3482 [00:00<?, ?it/s]",
      "application/vnd.jupyter.widget-view+json": {
       "version_major": 2,
       "version_minor": 0,
       "model_id": "5c51fa2d69e84d8895696ee37ea8cf2b"
      }
     },
     "metadata": {},
     "output_type": "display_data"
    }
   ],
   "source": [
    "genres_list = []\n",
    "\n",
    "for i in tqdm(range(df_only_tv_show.shape[0])):\n",
    "    try:\n",
    "        genres_string = \", \".join(eval(df_only_tv_show[\"genres\"][i]))\n",
    "        genres_list.append(genres_string)\n",
    "    except:\n",
    "        genres_list.append(\"\")\n",
    "        continue"
   ],
   "metadata": {
    "collapsed": false,
    "ExecuteTime": {
     "end_time": "2023-09-09T19:33:05.501934300Z",
     "start_time": "2023-09-09T19:33:05.241782400Z"
    }
   },
   "id": "3644938c915a709a"
  },
  {
   "cell_type": "code",
   "execution_count": 67,
   "outputs": [
    {
     "data": {
      "text/plain": "['comedy, family',\n 'comedy',\n 'reality, family',\n 'scifi, action, crime, romance, thriller, comedy',\n 'family, fantasy, music']"
     },
     "execution_count": 67,
     "metadata": {},
     "output_type": "execute_result"
    }
   ],
   "source": [
    "genres_list[:5]"
   ],
   "metadata": {
    "collapsed": false,
    "ExecuteTime": {
     "end_time": "2023-09-09T19:33:27.618274500Z",
     "start_time": "2023-09-09T19:33:27.446695300Z"
    }
   },
   "id": "2ed9d229774516bf"
  },
  {
   "cell_type": "code",
   "execution_count": 68,
   "outputs": [],
   "source": [
    "df_only_tv_show[\"genres\"] = genres_list"
   ],
   "metadata": {
    "collapsed": false,
    "ExecuteTime": {
     "end_time": "2023-09-09T19:34:05.579101600Z",
     "start_time": "2023-09-09T19:34:05.320861Z"
    }
   },
   "id": "a3d698b2851e8bf6"
  },
  {
   "cell_type": "code",
   "execution_count": 71,
   "outputs": [
    {
     "data": {
      "text/plain": "                         title  \\\n0            The Three Stooges   \n1       The Jack Benny Program   \n2              What's My Line?   \n3                 The Avengers   \n4  Mister Rogers' Neighborhood   \n\n                                         description  \\\n0  The Three Stooges were an American vaudeville ...   \n1  Laugh along with funnyman Jack Benny as he bri...   \n2  Four panelists must determine guests' occupati...   \n3  The Avengers is a British television series cr...   \n4  Mister Rogers' Neighborhood is an American chi...   \n\n                                            genres  rating  type  \\\n0                                   comedy, family     8.5  SHOW   \n1                                           comedy     8.6  SHOW   \n2                                  reality, family     8.5  SHOW   \n3  scifi, action, crime, romance, thriller, comedy     8.3  SHOW   \n4                           family, fantasy, music     8.7  SHOW   \n\n  primary_genre category  \n0     ['comedy'  tv show  \n1    ['comedy']  tv show  \n2    ['reality'  tv show  \n3      ['scifi'  tv show  \n4     ['family'  tv show  ",
      "text/html": "<div>\n<style scoped>\n    .dataframe tbody tr th:only-of-type {\n        vertical-align: middle;\n    }\n\n    .dataframe tbody tr th {\n        vertical-align: top;\n    }\n\n    .dataframe thead th {\n        text-align: right;\n    }\n</style>\n<table border=\"1\" class=\"dataframe\">\n  <thead>\n    <tr style=\"text-align: right;\">\n      <th></th>\n      <th>title</th>\n      <th>description</th>\n      <th>genres</th>\n      <th>rating</th>\n      <th>type</th>\n      <th>primary_genre</th>\n      <th>category</th>\n    </tr>\n  </thead>\n  <tbody>\n    <tr>\n      <th>0</th>\n      <td>The Three Stooges</td>\n      <td>The Three Stooges were an American vaudeville ...</td>\n      <td>comedy, family</td>\n      <td>8.5</td>\n      <td>SHOW</td>\n      <td>['comedy'</td>\n      <td>tv show</td>\n    </tr>\n    <tr>\n      <th>1</th>\n      <td>The Jack Benny Program</td>\n      <td>Laugh along with funnyman Jack Benny as he bri...</td>\n      <td>comedy</td>\n      <td>8.6</td>\n      <td>SHOW</td>\n      <td>['comedy']</td>\n      <td>tv show</td>\n    </tr>\n    <tr>\n      <th>2</th>\n      <td>What's My Line?</td>\n      <td>Four panelists must determine guests' occupati...</td>\n      <td>reality, family</td>\n      <td>8.5</td>\n      <td>SHOW</td>\n      <td>['reality'</td>\n      <td>tv show</td>\n    </tr>\n    <tr>\n      <th>3</th>\n      <td>The Avengers</td>\n      <td>The Avengers is a British television series cr...</td>\n      <td>scifi, action, crime, romance, thriller, comedy</td>\n      <td>8.3</td>\n      <td>SHOW</td>\n      <td>['scifi'</td>\n      <td>tv show</td>\n    </tr>\n    <tr>\n      <th>4</th>\n      <td>Mister Rogers' Neighborhood</td>\n      <td>Mister Rogers' Neighborhood is an American chi...</td>\n      <td>family, fantasy, music</td>\n      <td>8.7</td>\n      <td>SHOW</td>\n      <td>['family'</td>\n      <td>tv show</td>\n    </tr>\n  </tbody>\n</table>\n</div>"
     },
     "execution_count": 71,
     "metadata": {},
     "output_type": "execute_result"
    }
   ],
   "source": [
    "df_only_tv_show.head()"
   ],
   "metadata": {
    "collapsed": false,
    "ExecuteTime": {
     "end_time": "2023-09-09T19:39:02.783796400Z",
     "start_time": "2023-09-09T19:39:02.641809400Z"
    }
   },
   "id": "d5aeb379c5320084"
  },
  {
   "cell_type": "code",
   "execution_count": 81,
   "outputs": [],
   "source": [
    "df_only_tv_show[\"primary_genre\"] = df_only_tv_show[\"primary_genre\"].str.replace(r'\\[|\\]|\\'', '', regex=True)"
   ],
   "metadata": {
    "collapsed": false,
    "ExecuteTime": {
     "end_time": "2023-09-09T19:42:43.797064700Z",
     "start_time": "2023-09-09T19:42:43.643982900Z"
    }
   },
   "id": "9c95579ebdc3136"
  },
  {
   "cell_type": "code",
   "execution_count": 82,
   "outputs": [
    {
     "data": {
      "text/plain": "                         title  \\\n0            The Three Stooges   \n1       The Jack Benny Program   \n2              What's My Line?   \n3                 The Avengers   \n4  Mister Rogers' Neighborhood   \n\n                                         description  \\\n0  The Three Stooges were an American vaudeville ...   \n1  Laugh along with funnyman Jack Benny as he bri...   \n2  Four panelists must determine guests' occupati...   \n3  The Avengers is a British television series cr...   \n4  Mister Rogers' Neighborhood is an American chi...   \n\n                                            genres  rating  type  \\\n0                                   comedy, family     8.5  SHOW   \n1                                           comedy     8.6  SHOW   \n2                                  reality, family     8.5  SHOW   \n3  scifi, action, crime, romance, thriller, comedy     8.3  SHOW   \n4                           family, fantasy, music     8.7  SHOW   \n\n  primary_genre category  \n0        comedy  tv show  \n1        comedy  tv show  \n2       reality  tv show  \n3         scifi  tv show  \n4        family  tv show  ",
      "text/html": "<div>\n<style scoped>\n    .dataframe tbody tr th:only-of-type {\n        vertical-align: middle;\n    }\n\n    .dataframe tbody tr th {\n        vertical-align: top;\n    }\n\n    .dataframe thead th {\n        text-align: right;\n    }\n</style>\n<table border=\"1\" class=\"dataframe\">\n  <thead>\n    <tr style=\"text-align: right;\">\n      <th></th>\n      <th>title</th>\n      <th>description</th>\n      <th>genres</th>\n      <th>rating</th>\n      <th>type</th>\n      <th>primary_genre</th>\n      <th>category</th>\n    </tr>\n  </thead>\n  <tbody>\n    <tr>\n      <th>0</th>\n      <td>The Three Stooges</td>\n      <td>The Three Stooges were an American vaudeville ...</td>\n      <td>comedy, family</td>\n      <td>8.5</td>\n      <td>SHOW</td>\n      <td>comedy</td>\n      <td>tv show</td>\n    </tr>\n    <tr>\n      <th>1</th>\n      <td>The Jack Benny Program</td>\n      <td>Laugh along with funnyman Jack Benny as he bri...</td>\n      <td>comedy</td>\n      <td>8.6</td>\n      <td>SHOW</td>\n      <td>comedy</td>\n      <td>tv show</td>\n    </tr>\n    <tr>\n      <th>2</th>\n      <td>What's My Line?</td>\n      <td>Four panelists must determine guests' occupati...</td>\n      <td>reality, family</td>\n      <td>8.5</td>\n      <td>SHOW</td>\n      <td>reality</td>\n      <td>tv show</td>\n    </tr>\n    <tr>\n      <th>3</th>\n      <td>The Avengers</td>\n      <td>The Avengers is a British television series cr...</td>\n      <td>scifi, action, crime, romance, thriller, comedy</td>\n      <td>8.3</td>\n      <td>SHOW</td>\n      <td>scifi</td>\n      <td>tv show</td>\n    </tr>\n    <tr>\n      <th>4</th>\n      <td>Mister Rogers' Neighborhood</td>\n      <td>Mister Rogers' Neighborhood is an American chi...</td>\n      <td>family, fantasy, music</td>\n      <td>8.7</td>\n      <td>SHOW</td>\n      <td>family</td>\n      <td>tv show</td>\n    </tr>\n  </tbody>\n</table>\n</div>"
     },
     "execution_count": 82,
     "metadata": {},
     "output_type": "execute_result"
    }
   ],
   "source": [
    "df_only_tv_show.head()"
   ],
   "metadata": {
    "collapsed": false,
    "ExecuteTime": {
     "end_time": "2023-09-09T19:42:50.137030100Z",
     "start_time": "2023-09-09T19:42:49.977366800Z"
    }
   },
   "id": "2ab9fd0475fd9909"
  },
  {
   "cell_type": "code",
   "execution_count": 84,
   "outputs": [],
   "source": [
    "df_only_tv_show = df_only_tv_show.drop(\"type\", axis=1)"
   ],
   "metadata": {
    "collapsed": false,
    "ExecuteTime": {
     "end_time": "2023-09-09T19:46:01.957216500Z",
     "start_time": "2023-09-09T19:46:01.791299500Z"
    }
   },
   "id": "86439e15c8256824"
  },
  {
   "cell_type": "code",
   "execution_count": 85,
   "outputs": [
    {
     "name": "stdout",
     "output_type": "stream",
     "text": [
      "Shape of the dataframe:  (3482, 6)\n",
      "The DataFrame: \n"
     ]
    },
    {
     "data": {
      "text/plain": "                         title  \\\n0            The Three Stooges   \n1       The Jack Benny Program   \n2              What's My Line?   \n3                 The Avengers   \n4  Mister Rogers' Neighborhood   \n\n                                         description  \\\n0  The Three Stooges were an American vaudeville ...   \n1  Laugh along with funnyman Jack Benny as he bri...   \n2  Four panelists must determine guests' occupati...   \n3  The Avengers is a British television series cr...   \n4  Mister Rogers' Neighborhood is an American chi...   \n\n                                            genres  rating primary_genre  \\\n0                                   comedy, family     8.5        comedy   \n1                                           comedy     8.6        comedy   \n2                                  reality, family     8.5       reality   \n3  scifi, action, crime, romance, thriller, comedy     8.3         scifi   \n4                           family, fantasy, music     8.7        family   \n\n  category  \n0  tv show  \n1  tv show  \n2  tv show  \n3  tv show  \n4  tv show  ",
      "text/html": "<div>\n<style scoped>\n    .dataframe tbody tr th:only-of-type {\n        vertical-align: middle;\n    }\n\n    .dataframe tbody tr th {\n        vertical-align: top;\n    }\n\n    .dataframe thead th {\n        text-align: right;\n    }\n</style>\n<table border=\"1\" class=\"dataframe\">\n  <thead>\n    <tr style=\"text-align: right;\">\n      <th></th>\n      <th>title</th>\n      <th>description</th>\n      <th>genres</th>\n      <th>rating</th>\n      <th>primary_genre</th>\n      <th>category</th>\n    </tr>\n  </thead>\n  <tbody>\n    <tr>\n      <th>0</th>\n      <td>The Three Stooges</td>\n      <td>The Three Stooges were an American vaudeville ...</td>\n      <td>comedy, family</td>\n      <td>8.5</td>\n      <td>comedy</td>\n      <td>tv show</td>\n    </tr>\n    <tr>\n      <th>1</th>\n      <td>The Jack Benny Program</td>\n      <td>Laugh along with funnyman Jack Benny as he bri...</td>\n      <td>comedy</td>\n      <td>8.6</td>\n      <td>comedy</td>\n      <td>tv show</td>\n    </tr>\n    <tr>\n      <th>2</th>\n      <td>What's My Line?</td>\n      <td>Four panelists must determine guests' occupati...</td>\n      <td>reality, family</td>\n      <td>8.5</td>\n      <td>reality</td>\n      <td>tv show</td>\n    </tr>\n    <tr>\n      <th>3</th>\n      <td>The Avengers</td>\n      <td>The Avengers is a British television series cr...</td>\n      <td>scifi, action, crime, romance, thriller, comedy</td>\n      <td>8.3</td>\n      <td>scifi</td>\n      <td>tv show</td>\n    </tr>\n    <tr>\n      <th>4</th>\n      <td>Mister Rogers' Neighborhood</td>\n      <td>Mister Rogers' Neighborhood is an American chi...</td>\n      <td>family, fantasy, music</td>\n      <td>8.7</td>\n      <td>family</td>\n      <td>tv show</td>\n    </tr>\n  </tbody>\n</table>\n</div>"
     },
     "metadata": {},
     "output_type": "display_data"
    },
    {
     "name": "stdout",
     "output_type": "stream",
     "text": [
      "All Data Types: \n"
     ]
    },
    {
     "data": {
      "text/plain": "title             object\ndescription       object\ngenres            object\nrating           float64\nprimary_genre     object\ncategory          object\ndtype: object"
     },
     "metadata": {},
     "output_type": "display_data"
    },
    {
     "name": "stdout",
     "output_type": "stream",
     "text": [
      "Null Values:\n"
     ]
    },
    {
     "data": {
      "text/plain": "title            0\ndescription      0\ngenres           0\nrating           0\nprimary_genre    0\ncategory         0\ndtype: int64"
     },
     "metadata": {},
     "output_type": "display_data"
    },
    {
     "name": "stdout",
     "output_type": "stream",
     "text": [
      "Duplicate Movie Name Count:  0\n",
      "Duplicate Description Count:  0\n",
      "DataFrame Details:\n"
     ]
    },
    {
     "data": {
      "text/plain": "                    title                                        description  \\\ncount                3482                                               3482   \nunique               3482                                               3482   \ntop     The Three Stooges  The Three Stooges were an American vaudeville ...   \nfreq                    1                                                  1   \nmean                  NaN                                                NaN   \nstd                   NaN                                                NaN   \nmin                   NaN                                                NaN   \n25%                   NaN                                                NaN   \n50%                   NaN                                                NaN   \n75%                   NaN                                                NaN   \nmax                   NaN                                                NaN   \n\n               genres       rating primary_genre category  \ncount            3482  3482.000000          3482     3482  \nunique           1347          NaN            19        1  \ntop     documentation          NaN         drama  tv show  \nfreq              221          NaN           690     3482  \nmean              NaN     7.152412           NaN      NaN  \nstd               NaN     1.118121           NaN      NaN  \nmin               NaN     1.000000           NaN      NaN  \n25%               NaN     6.600000           NaN      NaN  \n50%               NaN     7.300000           NaN      NaN  \n75%               NaN     7.900000           NaN      NaN  \nmax               NaN     9.700000           NaN      NaN  ",
      "text/html": "<div>\n<style scoped>\n    .dataframe tbody tr th:only-of-type {\n        vertical-align: middle;\n    }\n\n    .dataframe tbody tr th {\n        vertical-align: top;\n    }\n\n    .dataframe thead th {\n        text-align: right;\n    }\n</style>\n<table border=\"1\" class=\"dataframe\">\n  <thead>\n    <tr style=\"text-align: right;\">\n      <th></th>\n      <th>title</th>\n      <th>description</th>\n      <th>genres</th>\n      <th>rating</th>\n      <th>primary_genre</th>\n      <th>category</th>\n    </tr>\n  </thead>\n  <tbody>\n    <tr>\n      <th>count</th>\n      <td>3482</td>\n      <td>3482</td>\n      <td>3482</td>\n      <td>3482.000000</td>\n      <td>3482</td>\n      <td>3482</td>\n    </tr>\n    <tr>\n      <th>unique</th>\n      <td>3482</td>\n      <td>3482</td>\n      <td>1347</td>\n      <td>NaN</td>\n      <td>19</td>\n      <td>1</td>\n    </tr>\n    <tr>\n      <th>top</th>\n      <td>The Three Stooges</td>\n      <td>The Three Stooges were an American vaudeville ...</td>\n      <td>documentation</td>\n      <td>NaN</td>\n      <td>drama</td>\n      <td>tv show</td>\n    </tr>\n    <tr>\n      <th>freq</th>\n      <td>1</td>\n      <td>1</td>\n      <td>221</td>\n      <td>NaN</td>\n      <td>690</td>\n      <td>3482</td>\n    </tr>\n    <tr>\n      <th>mean</th>\n      <td>NaN</td>\n      <td>NaN</td>\n      <td>NaN</td>\n      <td>7.152412</td>\n      <td>NaN</td>\n      <td>NaN</td>\n    </tr>\n    <tr>\n      <th>std</th>\n      <td>NaN</td>\n      <td>NaN</td>\n      <td>NaN</td>\n      <td>1.118121</td>\n      <td>NaN</td>\n      <td>NaN</td>\n    </tr>\n    <tr>\n      <th>min</th>\n      <td>NaN</td>\n      <td>NaN</td>\n      <td>NaN</td>\n      <td>1.000000</td>\n      <td>NaN</td>\n      <td>NaN</td>\n    </tr>\n    <tr>\n      <th>25%</th>\n      <td>NaN</td>\n      <td>NaN</td>\n      <td>NaN</td>\n      <td>6.600000</td>\n      <td>NaN</td>\n      <td>NaN</td>\n    </tr>\n    <tr>\n      <th>50%</th>\n      <td>NaN</td>\n      <td>NaN</td>\n      <td>NaN</td>\n      <td>7.300000</td>\n      <td>NaN</td>\n      <td>NaN</td>\n    </tr>\n    <tr>\n      <th>75%</th>\n      <td>NaN</td>\n      <td>NaN</td>\n      <td>NaN</td>\n      <td>7.900000</td>\n      <td>NaN</td>\n      <td>NaN</td>\n    </tr>\n    <tr>\n      <th>max</th>\n      <td>NaN</td>\n      <td>NaN</td>\n      <td>NaN</td>\n      <td>9.700000</td>\n      <td>NaN</td>\n      <td>NaN</td>\n    </tr>\n  </tbody>\n</table>\n</div>"
     },
     "metadata": {},
     "output_type": "display_data"
    }
   ],
   "source": [
    "ppt.get_df_info(df_only_tv_show)"
   ],
   "metadata": {
    "collapsed": false,
    "ExecuteTime": {
     "end_time": "2023-09-09T19:46:02.852414200Z",
     "start_time": "2023-09-09T19:46:02.583049300Z"
    }
   },
   "id": "e0f6e0f45d42af84"
  },
  {
   "cell_type": "markdown",
   "source": [
    "# Dataframe to CSV"
   ],
   "metadata": {
    "collapsed": false
   },
   "id": "22f354a4229f5b4c"
  },
  {
   "cell_type": "code",
   "execution_count": 86,
   "outputs": [
    {
     "name": "stdout",
     "output_type": "stream",
     "text": [
      "Dataframe saved successfully:  ../../data/processed/tv_show/tv_show_rating.csv\n"
     ]
    }
   ],
   "source": [
    "tv_show_path = \"../../data/processed/tv_show/tv_show_rating.csv\"\n",
    "\n",
    "ppt.write_dataframe_to_csv(tv_show_path, df_only_tv_show)"
   ],
   "metadata": {
    "collapsed": false,
    "ExecuteTime": {
     "end_time": "2023-09-09T19:47:52.047934400Z",
     "start_time": "2023-09-09T19:47:51.852806800Z"
    }
   },
   "id": "b1d3473e43982791"
  }
 ],
 "metadata": {
  "kernelspec": {
   "display_name": "Python 3",
   "language": "python",
   "name": "python3"
  },
  "language_info": {
   "codemirror_mode": {
    "name": "ipython",
    "version": 2
   },
   "file_extension": ".py",
   "mimetype": "text/x-python",
   "name": "python",
   "nbconvert_exporter": "python",
   "pygments_lexer": "ipython2",
   "version": "2.7.6"
  }
 },
 "nbformat": 4,
 "nbformat_minor": 5
}
