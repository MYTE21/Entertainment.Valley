{
 "cells": [
  {
   "cell_type": "markdown",
   "source": [
    "# Movie Dataset Preparation"
   ],
   "metadata": {
    "collapsed": false
   },
   "id": "25c2ecba3c8c41c8"
  },
  {
   "cell_type": "markdown",
   "source": [
    "# Setting Up Necessary Things"
   ],
   "metadata": {
    "collapsed": false
   },
   "id": "7e19af8e0e535648"
  },
  {
   "cell_type": "code",
   "execution_count": 1,
   "id": "initial_id",
   "metadata": {
    "collapsed": true,
    "ExecuteTime": {
     "end_time": "2023-09-09T10:33:33.036960400Z",
     "start_time": "2023-09-09T10:33:32.502481100Z"
    }
   },
   "outputs": [],
   "source": [
    "# Jupyter Notebook Magic Command - Auto Reloading\n",
    "%reload_ext autoreload\n",
    "%autoreload 2\n",
    "\n",
    "# Jupyter Notebook Magic Command - Inline Plotting\n",
    "%matplotlib inline"
   ]
  },
  {
   "cell_type": "code",
   "execution_count": 2,
   "outputs": [],
   "source": [
    "# Ignore All Warnings\n",
    "import warnings\n",
    "warnings.filterwarnings(\"ignore\")"
   ],
   "metadata": {
    "collapsed": false,
    "ExecuteTime": {
     "end_time": "2023-09-09T10:33:33.084010700Z",
     "start_time": "2023-09-09T10:33:33.038959100Z"
    }
   },
   "id": "1db25378df3af485"
  },
  {
   "cell_type": "markdown",
   "source": [
    "# Necessary Imports"
   ],
   "metadata": {
    "collapsed": false
   },
   "id": "f9f74e82d44d4e61"
  },
  {
   "cell_type": "code",
   "execution_count": 3,
   "outputs": [],
   "source": [
    "# Custom\n",
    "import preparation as ppt"
   ],
   "metadata": {
    "collapsed": false,
    "ExecuteTime": {
     "end_time": "2023-09-09T10:33:33.379824Z",
     "start_time": "2023-09-09T10:33:33.085524700Z"
    }
   },
   "id": "3a99afe4f5f0ff84"
  },
  {
   "cell_type": "markdown",
   "source": [
    "# Data Cleaning"
   ],
   "metadata": {
    "collapsed": false
   },
   "id": "4dd9d2aa15b9ca2a"
  },
  {
   "cell_type": "code",
   "execution_count": 4,
   "outputs": [],
   "source": [
    "# Folder Path and Column Names\n",
    "folder_path = \"../../data/raw/movie/\"\n",
    "cols_name = [\"movie_name\", \"description\", \"genre\", \"rating\"]"
   ],
   "metadata": {
    "collapsed": false,
    "ExecuteTime": {
     "end_time": "2023-09-09T10:33:33.443796800Z",
     "start_time": "2023-09-09T10:33:33.382364600Z"
    }
   },
   "id": "f1c97aa564307e17"
  },
  {
   "cell_type": "code",
   "execution_count": 5,
   "outputs": [],
   "source": [
    "# Get All Movie DataFrame\n",
    "df_all_movie = ppt.get_all_df(folder_path, cols_name, \"movie\")"
   ],
   "metadata": {
    "collapsed": false,
    "ExecuteTime": {
     "end_time": "2023-09-09T10:33:38.619001300Z",
     "start_time": "2023-09-09T10:33:33.445319200Z"
    }
   },
   "id": "a4d9d7b9657ba471"
  },
  {
   "cell_type": "code",
   "execution_count": 6,
   "outputs": [
    {
     "name": "stdout",
     "output_type": "stream",
     "text": [
      "Shape of the dataframe:  (24933, 6)\n",
      "The DataFrame: \n"
     ]
    },
    {
     "data": {
      "text/plain": "                               title  \\\n0     Black Panther: Wakanda Forever   \n1           Avatar: The Way of Water   \n2                              Plane   \n3  Everything Everywhere All at Once   \n5  Ant-Man and the Wasp: Quantumania   \n\n                                         description  \\\n0  The people of Wakanda fight to protect their h...   \n1  Jake Sully lives with his newfound family form...   \n2  A pilot finds himself caught in a war zone aft...   \n3  A middle-aged Chinese immigrant is swept up in...   \n5  Scott Lang and Hope Van Dyne, along with Hank ...   \n\n                       genres  rating primary_genre   type  \n0    Action, Adventure, Drama     6.9        Action  movie  \n1  Action, Adventure, Fantasy     7.8        Action  movie  \n2            Action, Thriller     6.5        Action  movie  \n3   Action, Adventure, Comedy     8.0        Action  movie  \n5   Action, Adventure, Comedy     6.6        Action  movie  ",
      "text/html": "<div>\n<style scoped>\n    .dataframe tbody tr th:only-of-type {\n        vertical-align: middle;\n    }\n\n    .dataframe tbody tr th {\n        vertical-align: top;\n    }\n\n    .dataframe thead th {\n        text-align: right;\n    }\n</style>\n<table border=\"1\" class=\"dataframe\">\n  <thead>\n    <tr style=\"text-align: right;\">\n      <th></th>\n      <th>title</th>\n      <th>description</th>\n      <th>genres</th>\n      <th>rating</th>\n      <th>primary_genre</th>\n      <th>type</th>\n    </tr>\n  </thead>\n  <tbody>\n    <tr>\n      <th>0</th>\n      <td>Black Panther: Wakanda Forever</td>\n      <td>The people of Wakanda fight to protect their h...</td>\n      <td>Action, Adventure, Drama</td>\n      <td>6.9</td>\n      <td>Action</td>\n      <td>movie</td>\n    </tr>\n    <tr>\n      <th>1</th>\n      <td>Avatar: The Way of Water</td>\n      <td>Jake Sully lives with his newfound family form...</td>\n      <td>Action, Adventure, Fantasy</td>\n      <td>7.8</td>\n      <td>Action</td>\n      <td>movie</td>\n    </tr>\n    <tr>\n      <th>2</th>\n      <td>Plane</td>\n      <td>A pilot finds himself caught in a war zone aft...</td>\n      <td>Action, Thriller</td>\n      <td>6.5</td>\n      <td>Action</td>\n      <td>movie</td>\n    </tr>\n    <tr>\n      <th>3</th>\n      <td>Everything Everywhere All at Once</td>\n      <td>A middle-aged Chinese immigrant is swept up in...</td>\n      <td>Action, Adventure, Comedy</td>\n      <td>8.0</td>\n      <td>Action</td>\n      <td>movie</td>\n    </tr>\n    <tr>\n      <th>5</th>\n      <td>Ant-Man and the Wasp: Quantumania</td>\n      <td>Scott Lang and Hope Van Dyne, along with Hank ...</td>\n      <td>Action, Adventure, Comedy</td>\n      <td>6.6</td>\n      <td>Action</td>\n      <td>movie</td>\n    </tr>\n  </tbody>\n</table>\n</div>"
     },
     "metadata": {},
     "output_type": "display_data"
    },
    {
     "name": "stdout",
     "output_type": "stream",
     "text": [
      "All Data Types: \n"
     ]
    },
    {
     "data": {
      "text/plain": "title             object\ndescription       object\ngenres            object\nrating           float64\nprimary_genre     object\ntype              object\ndtype: object"
     },
     "metadata": {},
     "output_type": "display_data"
    },
    {
     "name": "stdout",
     "output_type": "stream",
     "text": [
      "Null Values:\n"
     ]
    },
    {
     "data": {
      "text/plain": "title            0\ndescription      0\ngenres           0\nrating           0\nprimary_genre    0\ntype             0\ndtype: int64"
     },
     "metadata": {},
     "output_type": "display_data"
    },
    {
     "name": "stdout",
     "output_type": "stream",
     "text": [
      "Duplicate Movie Name Count:  0\n",
      "Duplicate Description Count:  0\n",
      "DataFrame Details:\n"
     ]
    },
    {
     "data": {
      "text/plain": "                                 title  \\\ncount                            24933   \nunique                           24933   \ntop     Black Panther: Wakanda Forever   \nfreq                                 1   \nmean                               NaN   \nstd                                NaN   \nmin                                NaN   \n25%                                NaN   \n50%                                NaN   \n75%                                NaN   \nmax                                NaN   \n\n                                              description  genres  \\\ncount                                               24933   24933   \nunique                                              24933     335   \ntop     The people of Wakanda fight to protect their h...  Action   \nfreq                                                    1    2686   \nmean                                                  NaN     NaN   \nstd                                                   NaN     NaN   \nmin                                                   NaN     NaN   \n25%                                                   NaN     NaN   \n50%                                                   NaN     NaN   \n75%                                                   NaN     NaN   \nmax                                                   NaN     NaN   \n\n              rating primary_genre   type  \ncount   24933.000000         24933  24933  \nunique           NaN            16      1  \ntop              NaN        Action  movie  \nfreq             NaN         23629  24933  \nmean        5.676910           NaN    NaN  \nstd         1.359405           NaN    NaN  \nmin         1.100000           NaN    NaN  \n25%         4.800000           NaN    NaN  \n50%         5.800000           NaN    NaN  \n75%         6.600000           NaN    NaN  \nmax        10.000000           NaN    NaN  ",
      "text/html": "<div>\n<style scoped>\n    .dataframe tbody tr th:only-of-type {\n        vertical-align: middle;\n    }\n\n    .dataframe tbody tr th {\n        vertical-align: top;\n    }\n\n    .dataframe thead th {\n        text-align: right;\n    }\n</style>\n<table border=\"1\" class=\"dataframe\">\n  <thead>\n    <tr style=\"text-align: right;\">\n      <th></th>\n      <th>title</th>\n      <th>description</th>\n      <th>genres</th>\n      <th>rating</th>\n      <th>primary_genre</th>\n      <th>type</th>\n    </tr>\n  </thead>\n  <tbody>\n    <tr>\n      <th>count</th>\n      <td>24933</td>\n      <td>24933</td>\n      <td>24933</td>\n      <td>24933.000000</td>\n      <td>24933</td>\n      <td>24933</td>\n    </tr>\n    <tr>\n      <th>unique</th>\n      <td>24933</td>\n      <td>24933</td>\n      <td>335</td>\n      <td>NaN</td>\n      <td>16</td>\n      <td>1</td>\n    </tr>\n    <tr>\n      <th>top</th>\n      <td>Black Panther: Wakanda Forever</td>\n      <td>The people of Wakanda fight to protect their h...</td>\n      <td>Action</td>\n      <td>NaN</td>\n      <td>Action</td>\n      <td>movie</td>\n    </tr>\n    <tr>\n      <th>freq</th>\n      <td>1</td>\n      <td>1</td>\n      <td>2686</td>\n      <td>NaN</td>\n      <td>23629</td>\n      <td>24933</td>\n    </tr>\n    <tr>\n      <th>mean</th>\n      <td>NaN</td>\n      <td>NaN</td>\n      <td>NaN</td>\n      <td>5.676910</td>\n      <td>NaN</td>\n      <td>NaN</td>\n    </tr>\n    <tr>\n      <th>std</th>\n      <td>NaN</td>\n      <td>NaN</td>\n      <td>NaN</td>\n      <td>1.359405</td>\n      <td>NaN</td>\n      <td>NaN</td>\n    </tr>\n    <tr>\n      <th>min</th>\n      <td>NaN</td>\n      <td>NaN</td>\n      <td>NaN</td>\n      <td>1.100000</td>\n      <td>NaN</td>\n      <td>NaN</td>\n    </tr>\n    <tr>\n      <th>25%</th>\n      <td>NaN</td>\n      <td>NaN</td>\n      <td>NaN</td>\n      <td>4.800000</td>\n      <td>NaN</td>\n      <td>NaN</td>\n    </tr>\n    <tr>\n      <th>50%</th>\n      <td>NaN</td>\n      <td>NaN</td>\n      <td>NaN</td>\n      <td>5.800000</td>\n      <td>NaN</td>\n      <td>NaN</td>\n    </tr>\n    <tr>\n      <th>75%</th>\n      <td>NaN</td>\n      <td>NaN</td>\n      <td>NaN</td>\n      <td>6.600000</td>\n      <td>NaN</td>\n      <td>NaN</td>\n    </tr>\n    <tr>\n      <th>max</th>\n      <td>NaN</td>\n      <td>NaN</td>\n      <td>NaN</td>\n      <td>10.000000</td>\n      <td>NaN</td>\n      <td>NaN</td>\n    </tr>\n  </tbody>\n</table>\n</div>"
     },
     "metadata": {},
     "output_type": "display_data"
    }
   ],
   "source": [
    "# Get Details of Action Movies\n",
    "ppt.get_df_info(df_all_movie[\"action\"])"
   ],
   "metadata": {
    "collapsed": false,
    "ExecuteTime": {
     "end_time": "2023-09-09T10:33:38.814760900Z",
     "start_time": "2023-09-09T10:33:38.619001300Z"
    }
   },
   "id": "f09acfa05e8f3e48"
  },
  {
   "cell_type": "markdown",
   "source": [
    "## Combine All The DataFrames"
   ],
   "metadata": {
    "collapsed": false
   },
   "id": "c7546727e88eb779"
  },
  {
   "cell_type": "code",
   "execution_count": 7,
   "outputs": [],
   "source": [
    "df_movie_full = ppt.get_combined_df(df_all_movie)"
   ],
   "metadata": {
    "collapsed": false,
    "ExecuteTime": {
     "end_time": "2023-09-09T10:33:38.933823300Z",
     "start_time": "2023-09-09T10:33:38.741813300Z"
    }
   },
   "id": "f77cc24818386d86"
  },
  {
   "cell_type": "code",
   "execution_count": 8,
   "outputs": [],
   "source": [
    "df_movie = ppt.drop_duplicate(df_movie_full)"
   ],
   "metadata": {
    "collapsed": false,
    "ExecuteTime": {
     "end_time": "2023-09-09T10:33:39.038755300Z",
     "start_time": "2023-09-09T10:33:38.804661400Z"
    }
   },
   "id": "852000f79a0ff414"
  },
  {
   "cell_type": "code",
   "execution_count": 9,
   "outputs": [
    {
     "data": {
      "text/plain": "                               title  \\\n0     Black Panther: Wakanda Forever   \n1           Avatar: The Way of Water   \n2                              Plane   \n3  Everything Everywhere All at Once   \n5  Ant-Man and the Wasp: Quantumania   \n\n                                         description  \\\n0  The people of Wakanda fight to protect their h...   \n1  Jake Sully lives with his newfound family form...   \n2  A pilot finds himself caught in a war zone aft...   \n3  A middle-aged Chinese immigrant is swept up in...   \n5  Scott Lang and Hope Van Dyne, along with Hank ...   \n\n                       genres  rating primary_genre   type  \n0    Action, Adventure, Drama     6.9        Action  movie  \n1  Action, Adventure, Fantasy     7.8        Action  movie  \n2            Action, Thriller     6.5        Action  movie  \n3   Action, Adventure, Comedy     8.0        Action  movie  \n5   Action, Adventure, Comedy     6.6        Action  movie  ",
      "text/html": "<div>\n<style scoped>\n    .dataframe tbody tr th:only-of-type {\n        vertical-align: middle;\n    }\n\n    .dataframe tbody tr th {\n        vertical-align: top;\n    }\n\n    .dataframe thead th {\n        text-align: right;\n    }\n</style>\n<table border=\"1\" class=\"dataframe\">\n  <thead>\n    <tr style=\"text-align: right;\">\n      <th></th>\n      <th>title</th>\n      <th>description</th>\n      <th>genres</th>\n      <th>rating</th>\n      <th>primary_genre</th>\n      <th>type</th>\n    </tr>\n  </thead>\n  <tbody>\n    <tr>\n      <th>0</th>\n      <td>Black Panther: Wakanda Forever</td>\n      <td>The people of Wakanda fight to protect their h...</td>\n      <td>Action, Adventure, Drama</td>\n      <td>6.9</td>\n      <td>Action</td>\n      <td>movie</td>\n    </tr>\n    <tr>\n      <th>1</th>\n      <td>Avatar: The Way of Water</td>\n      <td>Jake Sully lives with his newfound family form...</td>\n      <td>Action, Adventure, Fantasy</td>\n      <td>7.8</td>\n      <td>Action</td>\n      <td>movie</td>\n    </tr>\n    <tr>\n      <th>2</th>\n      <td>Plane</td>\n      <td>A pilot finds himself caught in a war zone aft...</td>\n      <td>Action, Thriller</td>\n      <td>6.5</td>\n      <td>Action</td>\n      <td>movie</td>\n    </tr>\n    <tr>\n      <th>3</th>\n      <td>Everything Everywhere All at Once</td>\n      <td>A middle-aged Chinese immigrant is swept up in...</td>\n      <td>Action, Adventure, Comedy</td>\n      <td>8.0</td>\n      <td>Action</td>\n      <td>movie</td>\n    </tr>\n    <tr>\n      <th>5</th>\n      <td>Ant-Man and the Wasp: Quantumania</td>\n      <td>Scott Lang and Hope Van Dyne, along with Hank ...</td>\n      <td>Action, Adventure, Comedy</td>\n      <td>6.6</td>\n      <td>Action</td>\n      <td>movie</td>\n    </tr>\n  </tbody>\n</table>\n</div>"
     },
     "execution_count": 9,
     "metadata": {},
     "output_type": "execute_result"
    }
   ],
   "source": [
    "df_movie.head()"
   ],
   "metadata": {
    "collapsed": false,
    "ExecuteTime": {
     "end_time": "2023-09-09T10:33:39.102575500Z",
     "start_time": "2023-09-09T10:33:38.946282500Z"
    }
   },
   "id": "3069eadc232512c8"
  },
  {
   "cell_type": "code",
   "execution_count": 10,
   "outputs": [
    {
     "name": "stdout",
     "output_type": "stream",
     "text": [
      "Shape of the dataframe:  (112119, 6)\n",
      "The DataFrame: \n"
     ]
    },
    {
     "data": {
      "text/plain": "                               title  \\\n0     Black Panther: Wakanda Forever   \n1           Avatar: The Way of Water   \n2                              Plane   \n3  Everything Everywhere All at Once   \n5  Ant-Man and the Wasp: Quantumania   \n\n                                         description  \\\n0  The people of Wakanda fight to protect their h...   \n1  Jake Sully lives with his newfound family form...   \n2  A pilot finds himself caught in a war zone aft...   \n3  A middle-aged Chinese immigrant is swept up in...   \n5  Scott Lang and Hope Van Dyne, along with Hank ...   \n\n                       genres  rating primary_genre   type  \n0    Action, Adventure, Drama     6.9        Action  movie  \n1  Action, Adventure, Fantasy     7.8        Action  movie  \n2            Action, Thriller     6.5        Action  movie  \n3   Action, Adventure, Comedy     8.0        Action  movie  \n5   Action, Adventure, Comedy     6.6        Action  movie  ",
      "text/html": "<div>\n<style scoped>\n    .dataframe tbody tr th:only-of-type {\n        vertical-align: middle;\n    }\n\n    .dataframe tbody tr th {\n        vertical-align: top;\n    }\n\n    .dataframe thead th {\n        text-align: right;\n    }\n</style>\n<table border=\"1\" class=\"dataframe\">\n  <thead>\n    <tr style=\"text-align: right;\">\n      <th></th>\n      <th>title</th>\n      <th>description</th>\n      <th>genres</th>\n      <th>rating</th>\n      <th>primary_genre</th>\n      <th>type</th>\n    </tr>\n  </thead>\n  <tbody>\n    <tr>\n      <th>0</th>\n      <td>Black Panther: Wakanda Forever</td>\n      <td>The people of Wakanda fight to protect their h...</td>\n      <td>Action, Adventure, Drama</td>\n      <td>6.9</td>\n      <td>Action</td>\n      <td>movie</td>\n    </tr>\n    <tr>\n      <th>1</th>\n      <td>Avatar: The Way of Water</td>\n      <td>Jake Sully lives with his newfound family form...</td>\n      <td>Action, Adventure, Fantasy</td>\n      <td>7.8</td>\n      <td>Action</td>\n      <td>movie</td>\n    </tr>\n    <tr>\n      <th>2</th>\n      <td>Plane</td>\n      <td>A pilot finds himself caught in a war zone aft...</td>\n      <td>Action, Thriller</td>\n      <td>6.5</td>\n      <td>Action</td>\n      <td>movie</td>\n    </tr>\n    <tr>\n      <th>3</th>\n      <td>Everything Everywhere All at Once</td>\n      <td>A middle-aged Chinese immigrant is swept up in...</td>\n      <td>Action, Adventure, Comedy</td>\n      <td>8.0</td>\n      <td>Action</td>\n      <td>movie</td>\n    </tr>\n    <tr>\n      <th>5</th>\n      <td>Ant-Man and the Wasp: Quantumania</td>\n      <td>Scott Lang and Hope Van Dyne, along with Hank ...</td>\n      <td>Action, Adventure, Comedy</td>\n      <td>6.6</td>\n      <td>Action</td>\n      <td>movie</td>\n    </tr>\n  </tbody>\n</table>\n</div>"
     },
     "metadata": {},
     "output_type": "display_data"
    },
    {
     "name": "stdout",
     "output_type": "stream",
     "text": [
      "All Data Types: \n"
     ]
    },
    {
     "data": {
      "text/plain": "title             object\ndescription       object\ngenres            object\nrating           float64\nprimary_genre     object\ntype              object\ndtype: object"
     },
     "metadata": {},
     "output_type": "display_data"
    },
    {
     "name": "stdout",
     "output_type": "stream",
     "text": [
      "Null Values:\n"
     ]
    },
    {
     "data": {
      "text/plain": "title            0\ndescription      0\ngenres           0\nrating           0\nprimary_genre    0\ntype             0\ndtype: int64"
     },
     "metadata": {},
     "output_type": "display_data"
    },
    {
     "name": "stdout",
     "output_type": "stream",
     "text": [
      "Duplicate Movie Name Count:  0\n",
      "Duplicate Description Count:  0\n",
      "DataFrame Details:\n"
     ]
    },
    {
     "data": {
      "text/plain": "                                 title  \\\ncount                           112119   \nunique                          112119   \ntop     Black Panther: Wakanda Forever   \nfreq                                 1   \nmean                               NaN   \nstd                                NaN   \nmin                                NaN   \n25%                                NaN   \n50%                                NaN   \n75%                                NaN   \nmax                                NaN   \n\n                                              description          genres  \\\ncount                                              112119          112119   \nunique                                             112119            1433   \ntop     The people of Wakanda fight to protect their h...  Drama, Romance   \nfreq                                                    1            6571   \nmean                                                  NaN             NaN   \nstd                                                   NaN             NaN   \nmin                                                   NaN             NaN   \n25%                                                   NaN             NaN   \n50%                                                   NaN             NaN   \n75%                                                   NaN             NaN   \nmax                                                   NaN             NaN   \n\n               rating primary_genre    type  \ncount   112119.000000        112119  112119  \nunique            NaN            23       1  \ntop               NaN        Action   movie  \nfreq              NaN         23653  112119  \nmean         5.858083           NaN     NaN  \nstd          1.328122           NaN     NaN  \nmin          1.000000           NaN     NaN  \n25%          5.100000           NaN     NaN  \n50%          6.000000           NaN     NaN  \n75%          6.800000           NaN     NaN  \nmax         10.000000           NaN     NaN  ",
      "text/html": "<div>\n<style scoped>\n    .dataframe tbody tr th:only-of-type {\n        vertical-align: middle;\n    }\n\n    .dataframe tbody tr th {\n        vertical-align: top;\n    }\n\n    .dataframe thead th {\n        text-align: right;\n    }\n</style>\n<table border=\"1\" class=\"dataframe\">\n  <thead>\n    <tr style=\"text-align: right;\">\n      <th></th>\n      <th>title</th>\n      <th>description</th>\n      <th>genres</th>\n      <th>rating</th>\n      <th>primary_genre</th>\n      <th>type</th>\n    </tr>\n  </thead>\n  <tbody>\n    <tr>\n      <th>count</th>\n      <td>112119</td>\n      <td>112119</td>\n      <td>112119</td>\n      <td>112119.000000</td>\n      <td>112119</td>\n      <td>112119</td>\n    </tr>\n    <tr>\n      <th>unique</th>\n      <td>112119</td>\n      <td>112119</td>\n      <td>1433</td>\n      <td>NaN</td>\n      <td>23</td>\n      <td>1</td>\n    </tr>\n    <tr>\n      <th>top</th>\n      <td>Black Panther: Wakanda Forever</td>\n      <td>The people of Wakanda fight to protect their h...</td>\n      <td>Drama, Romance</td>\n      <td>NaN</td>\n      <td>Action</td>\n      <td>movie</td>\n    </tr>\n    <tr>\n      <th>freq</th>\n      <td>1</td>\n      <td>1</td>\n      <td>6571</td>\n      <td>NaN</td>\n      <td>23653</td>\n      <td>112119</td>\n    </tr>\n    <tr>\n      <th>mean</th>\n      <td>NaN</td>\n      <td>NaN</td>\n      <td>NaN</td>\n      <td>5.858083</td>\n      <td>NaN</td>\n      <td>NaN</td>\n    </tr>\n    <tr>\n      <th>std</th>\n      <td>NaN</td>\n      <td>NaN</td>\n      <td>NaN</td>\n      <td>1.328122</td>\n      <td>NaN</td>\n      <td>NaN</td>\n    </tr>\n    <tr>\n      <th>min</th>\n      <td>NaN</td>\n      <td>NaN</td>\n      <td>NaN</td>\n      <td>1.000000</td>\n      <td>NaN</td>\n      <td>NaN</td>\n    </tr>\n    <tr>\n      <th>25%</th>\n      <td>NaN</td>\n      <td>NaN</td>\n      <td>NaN</td>\n      <td>5.100000</td>\n      <td>NaN</td>\n      <td>NaN</td>\n    </tr>\n    <tr>\n      <th>50%</th>\n      <td>NaN</td>\n      <td>NaN</td>\n      <td>NaN</td>\n      <td>6.000000</td>\n      <td>NaN</td>\n      <td>NaN</td>\n    </tr>\n    <tr>\n      <th>75%</th>\n      <td>NaN</td>\n      <td>NaN</td>\n      <td>NaN</td>\n      <td>6.800000</td>\n      <td>NaN</td>\n      <td>NaN</td>\n    </tr>\n    <tr>\n      <th>max</th>\n      <td>NaN</td>\n      <td>NaN</td>\n      <td>NaN</td>\n      <td>10.000000</td>\n      <td>NaN</td>\n      <td>NaN</td>\n    </tr>\n  </tbody>\n</table>\n</div>"
     },
     "metadata": {},
     "output_type": "display_data"
    }
   ],
   "source": [
    "ppt.get_df_info(df_movie)"
   ],
   "metadata": {
    "collapsed": false,
    "ExecuteTime": {
     "end_time": "2023-09-09T10:33:39.442504100Z",
     "start_time": "2023-09-09T10:33:39.025238600Z"
    }
   },
   "id": "390607a0cc328165"
  },
  {
   "cell_type": "markdown",
   "source": [
    "# Dataframe to CSV"
   ],
   "metadata": {
    "collapsed": false
   },
   "id": "2483065920b461e4"
  },
  {
   "cell_type": "code",
   "execution_count": 11,
   "outputs": [
    {
     "name": "stdout",
     "output_type": "stream",
     "text": [
      "Dataframe saved successfully:  ../../data/processed/movie/movie_rating.csv\n"
     ]
    }
   ],
   "source": [
    "movie_path = \"../../data/processed/movie/movie_rating.csv\"\n",
    "\n",
    "ppt.write_dataframe_to_csv(movie_path, df_movie)"
   ],
   "metadata": {
    "collapsed": false,
    "ExecuteTime": {
     "end_time": "2023-09-09T10:33:41.227018300Z",
     "start_time": "2023-09-09T10:33:39.405178700Z"
    }
   },
   "id": "14afe7301e524869"
  }
 ],
 "metadata": {
  "kernelspec": {
   "display_name": "Python 3",
   "language": "python",
   "name": "python3"
  },
  "language_info": {
   "codemirror_mode": {
    "name": "ipython",
    "version": 2
   },
   "file_extension": ".py",
   "mimetype": "text/x-python",
   "name": "python",
   "nbconvert_exporter": "python",
   "pygments_lexer": "ipython2",
   "version": "2.7.6"
  }
 },
 "nbformat": 4,
 "nbformat_minor": 5
}
