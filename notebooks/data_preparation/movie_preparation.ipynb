{
 "cells": [
  {
   "cell_type": "markdown",
   "source": [
    "# Movie Dataset Preparation"
   ],
   "metadata": {
    "collapsed": false
   },
   "id": "25c2ecba3c8c41c8"
  },
  {
   "cell_type": "markdown",
   "source": [
    "# Setting Up Necessary Things"
   ],
   "metadata": {
    "collapsed": false
   },
   "id": "7e19af8e0e535648"
  },
  {
   "cell_type": "code",
   "execution_count": 1,
   "id": "initial_id",
   "metadata": {
    "collapsed": true,
    "ExecuteTime": {
     "end_time": "2023-09-09T08:24:06.228173600Z",
     "start_time": "2023-09-09T08:24:05.581502400Z"
    }
   },
   "outputs": [],
   "source": [
    "# Jupyter Notebook Magic Command - Auto Reloading\n",
    "%reload_ext autoreload\n",
    "%autoreload 2\n",
    "\n",
    "# Jupyter Notebook Magic Command - Inline Plotting\n",
    "%matplotlib inline"
   ]
  },
  {
   "cell_type": "code",
   "execution_count": 2,
   "outputs": [],
   "source": [
    "# Ignore All Warnings\n",
    "import warnings\n",
    "warnings.filterwarnings(\"ignore\")"
   ],
   "metadata": {
    "collapsed": false,
    "ExecuteTime": {
     "end_time": "2023-09-09T08:24:06.294818900Z",
     "start_time": "2023-09-09T08:24:06.214663800Z"
    }
   },
   "id": "1db25378df3af485"
  },
  {
   "cell_type": "markdown",
   "source": [
    "# Necessary Imports"
   ],
   "metadata": {
    "collapsed": false
   },
   "id": "f9f74e82d44d4e61"
  },
  {
   "cell_type": "code",
   "execution_count": 3,
   "outputs": [],
   "source": [
    "# General\n",
    "import os\n",
    "from IPython.display import display\n",
    "\n",
    "# Data\n",
    "import pandas as pd"
   ],
   "metadata": {
    "collapsed": false,
    "ExecuteTime": {
     "end_time": "2023-09-09T08:24:06.715283600Z",
     "start_time": "2023-09-09T08:24:06.276762500Z"
    }
   },
   "id": "3a99afe4f5f0ff84"
  },
  {
   "cell_type": "markdown",
   "source": [
    "# Data Cleaning"
   ],
   "metadata": {
    "collapsed": false
   },
   "id": "4dd9d2aa15b9ca2a"
  },
  {
   "cell_type": "code",
   "execution_count": 4,
   "outputs": [],
   "source": [
    "# Get All CSV Files Path\n",
    "def get_csv_files_path(folder):\n",
    "    all_files = os.listdir(folder)\n",
    "    file_names = [file.replace(\".csv\", \"\") for file in all_files if file.endswith(\".csv\")]\n",
    "    file_paths = [folder + file for file in all_files if file.endswith(\".csv\")]\n",
    "    \n",
    "    file_details = {}\n",
    "    for name, path in zip(file_names, file_paths):\n",
    "        file_details[name] = path\n",
    "    \n",
    "    return file_details"
   ],
   "metadata": {
    "collapsed": false,
    "ExecuteTime": {
     "end_time": "2023-09-09T08:24:06.764938700Z",
     "start_time": "2023-09-09T08:24:06.694215600Z"
    }
   },
   "id": "3aecebbd53ea895a"
  },
  {
   "cell_type": "code",
   "execution_count": 5,
   "outputs": [],
   "source": [
    "# Get and Load Raw Data Into a List\n",
    "def get_dataframe(path):\n",
    "    df = pd.read_csv(path)\n",
    "    df.drop([\"movie_id\", \"year\", \"certificate\", \"runtime\", \"director\",\n",
    "             \"director_id\", \"star\", \"star_id\", \"votes\", \"gross(in $)\"], \n",
    "            axis = 1, \n",
    "            inplace = True)\n",
    "    df = df.dropna(axis=0, how=\"any\")\n",
    "    df = df.drop_duplicates(subset = \"movie_name\", keep='first')\n",
    "    df = df.drop_duplicates(subset = \"description\", keep='first')\n",
    "    return df"
   ],
   "metadata": {
    "collapsed": false,
    "ExecuteTime": {
     "end_time": "2023-09-09T08:24:06.820058600Z",
     "start_time": "2023-09-09T08:24:06.759443100Z"
    }
   },
   "id": "ca9eeead2f5f21cf"
  },
  {
   "cell_type": "code",
   "execution_count": 6,
   "outputs": [],
   "source": [
    "# Get DataFrame Information\n",
    "def get_dataframe_info(df):\n",
    "    print(\"Shape of the dataframe: \", df.shape)\n",
    "    print(\"All Data Types: \")\n",
    "    display(df.dtypes)\n",
    "    print(\"Null Values:\")\n",
    "    display(df.isna().sum())\n",
    "    print(\"Duplicate Movie Name Count: \", df[\"movie_name\"].duplicated().sum())\n",
    "    print(\"Duplicate Description Count: \", df[\"description\"].duplicated().sum())\n",
    "    print(\"DataFrame Details:\")\n",
    "    display(df.describe(include=\"object\"))"
   ],
   "metadata": {
    "collapsed": false,
    "ExecuteTime": {
     "end_time": "2023-09-09T08:24:06.876704Z",
     "start_time": "2023-09-09T08:24:06.818061400Z"
    }
   },
   "id": "ce5c2792d1ef38b"
  },
  {
   "cell_type": "code",
   "execution_count": 7,
   "outputs": [],
   "source": [
    "# Get All DataFrames\n",
    "def get_all_dataframes():\n",
    "    csv_file_paths = get_csv_files_path(\"../../data/raw/movie/\")\n",
    "    \n",
    "    df_list = {}\n",
    "    for name, path in csv_file_paths.items():\n",
    "        df_list[name] = get_dataframe(path)\n",
    "    \n",
    "    return df_list\n",
    "\n",
    "all_movie_df = get_all_dataframes()"
   ],
   "metadata": {
    "collapsed": false,
    "ExecuteTime": {
     "end_time": "2023-09-09T08:24:10.240259500Z",
     "start_time": "2023-09-09T08:24:06.879223400Z"
    }
   },
   "id": "bfc32a3b031e863a"
  },
  {
   "cell_type": "code",
   "execution_count": 8,
   "outputs": [
    {
     "name": "stdout",
     "output_type": "stream",
     "text": [
      "Shape of the dataframe:  (24933, 4)\n",
      "All Data Types: \n"
     ]
    },
    {
     "data": {
      "text/plain": "movie_name      object\ngenre           object\nrating         float64\ndescription     object\ndtype: object"
     },
     "metadata": {},
     "output_type": "display_data"
    },
    {
     "name": "stdout",
     "output_type": "stream",
     "text": [
      "Null Values:\n"
     ]
    },
    {
     "data": {
      "text/plain": "movie_name     0\ngenre          0\nrating         0\ndescription    0\ndtype: int64"
     },
     "metadata": {},
     "output_type": "display_data"
    },
    {
     "name": "stdout",
     "output_type": "stream",
     "text": [
      "Duplicate Movie Name Count:  0\n",
      "Duplicate Description Count:  0\n",
      "DataFrame Details:\n"
     ]
    },
    {
     "data": {
      "text/plain": "                            movie_name   genre  \\\ncount                            24933   24933   \nunique                           24933     335   \ntop     Black Panther: Wakanda Forever  Action   \nfreq                                 1    2686   \n\n                                              description  \ncount                                               24933  \nunique                                              24933  \ntop     The people of Wakanda fight to protect their h...  \nfreq                                                    1  ",
      "text/html": "<div>\n<style scoped>\n    .dataframe tbody tr th:only-of-type {\n        vertical-align: middle;\n    }\n\n    .dataframe tbody tr th {\n        vertical-align: top;\n    }\n\n    .dataframe thead th {\n        text-align: right;\n    }\n</style>\n<table border=\"1\" class=\"dataframe\">\n  <thead>\n    <tr style=\"text-align: right;\">\n      <th></th>\n      <th>movie_name</th>\n      <th>genre</th>\n      <th>description</th>\n    </tr>\n  </thead>\n  <tbody>\n    <tr>\n      <th>count</th>\n      <td>24933</td>\n      <td>24933</td>\n      <td>24933</td>\n    </tr>\n    <tr>\n      <th>unique</th>\n      <td>24933</td>\n      <td>335</td>\n      <td>24933</td>\n    </tr>\n    <tr>\n      <th>top</th>\n      <td>Black Panther: Wakanda Forever</td>\n      <td>Action</td>\n      <td>The people of Wakanda fight to protect their h...</td>\n    </tr>\n    <tr>\n      <th>freq</th>\n      <td>1</td>\n      <td>2686</td>\n      <td>1</td>\n    </tr>\n  </tbody>\n</table>\n</div>"
     },
     "metadata": {},
     "output_type": "display_data"
    }
   ],
   "source": [
    "# Get Details of Action Movies\n",
    "get_dataframe_info(all_movie_df[\"action\"])"
   ],
   "metadata": {
    "collapsed": false,
    "ExecuteTime": {
     "end_time": "2023-09-09T08:24:10.384616800Z",
     "start_time": "2023-09-09T08:24:10.233645300Z"
    }
   },
   "id": "f09acfa05e8f3e48"
  },
  {
   "cell_type": "markdown",
   "source": [
    "## Combine All The DataFrames"
   ],
   "metadata": {
    "collapsed": false
   },
   "id": "c7546727e88eb779"
  },
  {
   "cell_type": "code",
   "execution_count": 9,
   "outputs": [],
   "source": [
    "# Get Combined Dataframes\n",
    "def get_combined_dataframes(df_dict):\n",
    "    df_list = list(df_dict.values())\n",
    "    combined_df = pd.concat(df_list, axis=0)\n",
    "    return combined_df\n",
    "\n",
    "movie_full_df = get_combined_dataframes(all_movie_df)"
   ],
   "metadata": {
    "collapsed": false,
    "ExecuteTime": {
     "end_time": "2023-09-09T08:24:10.511615900Z",
     "start_time": "2023-09-09T08:24:10.358528100Z"
    }
   },
   "id": "f77cc24818386d86"
  },
  {
   "cell_type": "code",
   "execution_count": 10,
   "outputs": [],
   "source": [
    "# Clean Dataframe\n",
    "def clean_dataframe(df):\n",
    "    df = df.drop_duplicates(subset = \"movie_name\", keep='first')\n",
    "    df = df.drop_duplicates(subset = \"description\", keep='first')\n",
    "    return df"
   ],
   "metadata": {
    "collapsed": false,
    "ExecuteTime": {
     "end_time": "2023-09-09T08:24:10.538656Z",
     "start_time": "2023-09-09T08:24:10.435211500Z"
    }
   },
   "id": "ff0a77f31a76bee5"
  },
  {
   "cell_type": "code",
   "execution_count": 11,
   "outputs": [],
   "source": [
    "movie_df = clean_dataframe(movie_full_df)"
   ],
   "metadata": {
    "collapsed": false,
    "ExecuteTime": {
     "end_time": "2023-09-09T08:24:10.620800900Z",
     "start_time": "2023-09-09T08:24:10.500421100Z"
    }
   },
   "id": "852000f79a0ff414"
  },
  {
   "cell_type": "code",
   "execution_count": 12,
   "outputs": [
    {
     "data": {
      "text/plain": "                          movie_name                       genre  rating  \\\n0     Black Panther: Wakanda Forever    Action, Adventure, Drama     6.9   \n1           Avatar: The Way of Water  Action, Adventure, Fantasy     7.8   \n2                              Plane            Action, Thriller     6.5   \n3  Everything Everywhere All at Once   Action, Adventure, Comedy     8.0   \n5  Ant-Man and the Wasp: Quantumania   Action, Adventure, Comedy     6.6   \n\n                                         description  \n0  The people of Wakanda fight to protect their h...  \n1  Jake Sully lives with his newfound family form...  \n2  A pilot finds himself caught in a war zone aft...  \n3  A middle-aged Chinese immigrant is swept up in...  \n5  Scott Lang and Hope Van Dyne, along with Hank ...  ",
      "text/html": "<div>\n<style scoped>\n    .dataframe tbody tr th:only-of-type {\n        vertical-align: middle;\n    }\n\n    .dataframe tbody tr th {\n        vertical-align: top;\n    }\n\n    .dataframe thead th {\n        text-align: right;\n    }\n</style>\n<table border=\"1\" class=\"dataframe\">\n  <thead>\n    <tr style=\"text-align: right;\">\n      <th></th>\n      <th>movie_name</th>\n      <th>genre</th>\n      <th>rating</th>\n      <th>description</th>\n    </tr>\n  </thead>\n  <tbody>\n    <tr>\n      <th>0</th>\n      <td>Black Panther: Wakanda Forever</td>\n      <td>Action, Adventure, Drama</td>\n      <td>6.9</td>\n      <td>The people of Wakanda fight to protect their h...</td>\n    </tr>\n    <tr>\n      <th>1</th>\n      <td>Avatar: The Way of Water</td>\n      <td>Action, Adventure, Fantasy</td>\n      <td>7.8</td>\n      <td>Jake Sully lives with his newfound family form...</td>\n    </tr>\n    <tr>\n      <th>2</th>\n      <td>Plane</td>\n      <td>Action, Thriller</td>\n      <td>6.5</td>\n      <td>A pilot finds himself caught in a war zone aft...</td>\n    </tr>\n    <tr>\n      <th>3</th>\n      <td>Everything Everywhere All at Once</td>\n      <td>Action, Adventure, Comedy</td>\n      <td>8.0</td>\n      <td>A middle-aged Chinese immigrant is swept up in...</td>\n    </tr>\n    <tr>\n      <th>5</th>\n      <td>Ant-Man and the Wasp: Quantumania</td>\n      <td>Action, Adventure, Comedy</td>\n      <td>6.6</td>\n      <td>Scott Lang and Hope Van Dyne, along with Hank ...</td>\n    </tr>\n  </tbody>\n</table>\n</div>"
     },
     "execution_count": 12,
     "metadata": {},
     "output_type": "execute_result"
    }
   ],
   "source": [
    "movie_df.head()"
   ],
   "metadata": {
    "collapsed": false,
    "ExecuteTime": {
     "end_time": "2023-09-09T08:24:10.703168Z",
     "start_time": "2023-09-09T08:24:10.622807Z"
    }
   },
   "id": "3069eadc232512c8"
  },
  {
   "cell_type": "code",
   "execution_count": 13,
   "outputs": [
    {
     "name": "stdout",
     "output_type": "stream",
     "text": [
      "Shape of the dataframe:  (112119, 4)\n",
      "All Data Types: \n"
     ]
    },
    {
     "data": {
      "text/plain": "movie_name      object\ngenre           object\nrating         float64\ndescription     object\ndtype: object"
     },
     "metadata": {},
     "output_type": "display_data"
    },
    {
     "name": "stdout",
     "output_type": "stream",
     "text": [
      "Null Values:\n"
     ]
    },
    {
     "data": {
      "text/plain": "movie_name     0\ngenre          0\nrating         0\ndescription    0\ndtype: int64"
     },
     "metadata": {},
     "output_type": "display_data"
    },
    {
     "name": "stdout",
     "output_type": "stream",
     "text": [
      "Duplicate Movie Name Count:  0\n",
      "Duplicate Description Count:  0\n",
      "DataFrame Details:\n"
     ]
    },
    {
     "data": {
      "text/plain": "                            movie_name           genre  \\\ncount                           112119          112119   \nunique                          112119            1433   \ntop     Black Panther: Wakanda Forever  Drama, Romance   \nfreq                                 1            6571   \n\n                                              description  \ncount                                              112119  \nunique                                             112119  \ntop     The people of Wakanda fight to protect their h...  \nfreq                                                    1  ",
      "text/html": "<div>\n<style scoped>\n    .dataframe tbody tr th:only-of-type {\n        vertical-align: middle;\n    }\n\n    .dataframe tbody tr th {\n        vertical-align: top;\n    }\n\n    .dataframe thead th {\n        text-align: right;\n    }\n</style>\n<table border=\"1\" class=\"dataframe\">\n  <thead>\n    <tr style=\"text-align: right;\">\n      <th></th>\n      <th>movie_name</th>\n      <th>genre</th>\n      <th>description</th>\n    </tr>\n  </thead>\n  <tbody>\n    <tr>\n      <th>count</th>\n      <td>112119</td>\n      <td>112119</td>\n      <td>112119</td>\n    </tr>\n    <tr>\n      <th>unique</th>\n      <td>112119</td>\n      <td>1433</td>\n      <td>112119</td>\n    </tr>\n    <tr>\n      <th>top</th>\n      <td>Black Panther: Wakanda Forever</td>\n      <td>Drama, Romance</td>\n      <td>The people of Wakanda fight to protect their h...</td>\n    </tr>\n    <tr>\n      <th>freq</th>\n      <td>1</td>\n      <td>6571</td>\n      <td>1</td>\n    </tr>\n  </tbody>\n</table>\n</div>"
     },
     "metadata": {},
     "output_type": "display_data"
    }
   ],
   "source": [
    "get_dataframe_info(movie_df)"
   ],
   "metadata": {
    "collapsed": false,
    "ExecuteTime": {
     "end_time": "2023-09-09T08:24:11.072318700Z",
     "start_time": "2023-09-09T08:24:10.697656Z"
    }
   },
   "id": "390607a0cc328165"
  },
  {
   "cell_type": "markdown",
   "source": [
    "## Primary Genre and Type"
   ],
   "metadata": {
    "collapsed": false
   },
   "id": "ad0f8b1d63845c6"
  },
  {
   "cell_type": "code",
   "execution_count": 14,
   "outputs": [
    {
     "data": {
      "text/plain": "(112119, ['Action', 'Action', 'Action', 'Action', 'Action'])"
     },
     "execution_count": 14,
     "metadata": {},
     "output_type": "execute_result"
    }
   ],
   "source": [
    "# Create Primary Genre Column From Genre\n",
    "primary_genre = []\n",
    "\n",
    "for i in range(movie_df.shape[0]):\n",
    "    primary_genre.append(movie_df[\"genre\"].iloc[i].split(\",\")[0])\n",
    "\n",
    "len(primary_genre), primary_genre[:5]"
   ],
   "metadata": {
    "collapsed": false,
    "ExecuteTime": {
     "end_time": "2023-09-09T08:24:13.656022100Z",
     "start_time": "2023-09-09T08:24:11.076327100Z"
    }
   },
   "id": "6a3d648c604b4eaa"
  },
  {
   "cell_type": "code",
   "execution_count": 15,
   "outputs": [],
   "source": [
    "# insert Primary Genre column into the dataframe\n",
    "movie_df[\"primary_genre\"] = primary_genre"
   ],
   "metadata": {
    "collapsed": false,
    "ExecuteTime": {
     "end_time": "2023-09-09T08:24:13.657022600Z",
     "start_time": "2023-09-09T08:24:13.609385Z"
    }
   },
   "id": "52edd978bfc6cedf"
  },
  {
   "cell_type": "code",
   "execution_count": 16,
   "outputs": [],
   "source": [
    "# Entertainment Type Movie Enter\n",
    "movie_df[\"type\"] = \"movie\""
   ],
   "metadata": {
    "collapsed": false,
    "ExecuteTime": {
     "end_time": "2023-09-09T08:24:13.657022600Z",
     "start_time": "2023-09-09T08:24:13.609385Z"
    }
   },
   "id": "94a490dfaa3c65ed"
  },
  {
   "cell_type": "code",
   "execution_count": 17,
   "outputs": [],
   "source": [
    "movie_df.rename(columns={\"movie_name\": \"title\",\n",
    "                   \"genre\": \"genres\"},\n",
    "          inplace=True, errors='raise')"
   ],
   "metadata": {
    "collapsed": false,
    "ExecuteTime": {
     "end_time": "2023-09-09T08:24:13.736776700Z",
     "start_time": "2023-09-09T08:24:13.612915600Z"
    }
   },
   "id": "c5459a4d1ab8d891"
  },
  {
   "cell_type": "code",
   "execution_count": 18,
   "outputs": [
    {
     "data": {
      "text/plain": "                               title                      genres  rating  \\\n0     Black Panther: Wakanda Forever    Action, Adventure, Drama     6.9   \n1           Avatar: The Way of Water  Action, Adventure, Fantasy     7.8   \n2                              Plane            Action, Thriller     6.5   \n3  Everything Everywhere All at Once   Action, Adventure, Comedy     8.0   \n5  Ant-Man and the Wasp: Quantumania   Action, Adventure, Comedy     6.6   \n\n                                         description primary_genre   type  \n0  The people of Wakanda fight to protect their h...        Action  movie  \n1  Jake Sully lives with his newfound family form...        Action  movie  \n2  A pilot finds himself caught in a war zone aft...        Action  movie  \n3  A middle-aged Chinese immigrant is swept up in...        Action  movie  \n5  Scott Lang and Hope Van Dyne, along with Hank ...        Action  movie  ",
      "text/html": "<div>\n<style scoped>\n    .dataframe tbody tr th:only-of-type {\n        vertical-align: middle;\n    }\n\n    .dataframe tbody tr th {\n        vertical-align: top;\n    }\n\n    .dataframe thead th {\n        text-align: right;\n    }\n</style>\n<table border=\"1\" class=\"dataframe\">\n  <thead>\n    <tr style=\"text-align: right;\">\n      <th></th>\n      <th>title</th>\n      <th>genres</th>\n      <th>rating</th>\n      <th>description</th>\n      <th>primary_genre</th>\n      <th>type</th>\n    </tr>\n  </thead>\n  <tbody>\n    <tr>\n      <th>0</th>\n      <td>Black Panther: Wakanda Forever</td>\n      <td>Action, Adventure, Drama</td>\n      <td>6.9</td>\n      <td>The people of Wakanda fight to protect their h...</td>\n      <td>Action</td>\n      <td>movie</td>\n    </tr>\n    <tr>\n      <th>1</th>\n      <td>Avatar: The Way of Water</td>\n      <td>Action, Adventure, Fantasy</td>\n      <td>7.8</td>\n      <td>Jake Sully lives with his newfound family form...</td>\n      <td>Action</td>\n      <td>movie</td>\n    </tr>\n    <tr>\n      <th>2</th>\n      <td>Plane</td>\n      <td>Action, Thriller</td>\n      <td>6.5</td>\n      <td>A pilot finds himself caught in a war zone aft...</td>\n      <td>Action</td>\n      <td>movie</td>\n    </tr>\n    <tr>\n      <th>3</th>\n      <td>Everything Everywhere All at Once</td>\n      <td>Action, Adventure, Comedy</td>\n      <td>8.0</td>\n      <td>A middle-aged Chinese immigrant is swept up in...</td>\n      <td>Action</td>\n      <td>movie</td>\n    </tr>\n    <tr>\n      <th>5</th>\n      <td>Ant-Man and the Wasp: Quantumania</td>\n      <td>Action, Adventure, Comedy</td>\n      <td>6.6</td>\n      <td>Scott Lang and Hope Van Dyne, along with Hank ...</td>\n      <td>Action</td>\n      <td>movie</td>\n    </tr>\n  </tbody>\n</table>\n</div>"
     },
     "execution_count": 18,
     "metadata": {},
     "output_type": "execute_result"
    }
   ],
   "source": [
    "movie_df.head()"
   ],
   "metadata": {
    "collapsed": false,
    "ExecuteTime": {
     "end_time": "2023-09-09T08:24:13.804417800Z",
     "start_time": "2023-09-09T08:24:13.703161800Z"
    }
   },
   "id": "dce55ca1edd85ef8"
  },
  {
   "cell_type": "markdown",
   "source": [
    "# Dataframe to CSV"
   ],
   "metadata": {
    "collapsed": false
   },
   "id": "2483065920b461e4"
  },
  {
   "cell_type": "code",
   "execution_count": 19,
   "outputs": [],
   "source": [
    "# Method to convert dataframe to CSV and save\n",
    "def write_dataframe_to_csv(path, dataframe):\n",
    "    if os.path.exists(path):\n",
    "        print(f\"The file already exists ...! [Find the file in the location '{path}']\")\n",
    "    else:\n",
    "        dataframe.to_csv(path, index = False)\n",
    "        print(\"Dataframe saved successfully: \", path)"
   ],
   "metadata": {
    "collapsed": false,
    "ExecuteTime": {
     "end_time": "2023-09-09T08:24:13.953605200Z",
     "start_time": "2023-09-09T08:24:13.798300700Z"
    }
   },
   "id": "30a971ef6f9a2b8d"
  },
  {
   "cell_type": "code",
   "execution_count": 20,
   "outputs": [
    {
     "name": "stdout",
     "output_type": "stream",
     "text": [
      "Dataframe saved successfully:  ../../data/processed/movie/movie_rating.csv\n"
     ]
    }
   ],
   "source": [
    "movie_path = \"../../data/processed/movie/movie_rating.csv\"\n",
    "\n",
    "write_dataframe_to_csv(movie_path, movie_df)"
   ],
   "metadata": {
    "collapsed": false,
    "ExecuteTime": {
     "end_time": "2023-09-09T08:24:15.476757500Z",
     "start_time": "2023-09-09T08:24:13.876341600Z"
    }
   },
   "id": "14afe7301e524869"
  }
 ],
 "metadata": {
  "kernelspec": {
   "display_name": "Python 3",
   "language": "python",
   "name": "python3"
  },
  "language_info": {
   "codemirror_mode": {
    "name": "ipython",
    "version": 2
   },
   "file_extension": ".py",
   "mimetype": "text/x-python",
   "name": "python",
   "nbconvert_exporter": "python",
   "pygments_lexer": "ipython2",
   "version": "2.7.6"
  }
 },
 "nbformat": 4,
 "nbformat_minor": 5
}
