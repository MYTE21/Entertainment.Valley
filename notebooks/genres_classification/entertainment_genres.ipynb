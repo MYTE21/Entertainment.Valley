{
  "nbformat": 4,
  "nbformat_minor": 0,
  "metadata": {
    "colab": {
      "provenance": [],
      "gpuType": "T4"
    },
    "kernelspec": {
      "name": "python3",
      "display_name": "Python 3"
    },
    "language_info": {
      "name": "python"
    },
    "accelerator": "GPU",
    "widgets": {
      "application/vnd.jupyter.widget-state+json": {
        "0348a0dbd1924d0889bd2bc088e89543": {
          "model_module": "@jupyter-widgets/controls",
          "model_name": "HBoxModel",
          "model_module_version": "1.5.0",
          "state": {
            "_dom_classes": [],
            "_model_module": "@jupyter-widgets/controls",
            "_model_module_version": "1.5.0",
            "_model_name": "HBoxModel",
            "_view_count": null,
            "_view_module": "@jupyter-widgets/controls",
            "_view_module_version": "1.5.0",
            "_view_name": "HBoxView",
            "box_style": "",
            "children": [
              "IPY_MODEL_5dd6f508040a46ea9d0dc76e617edeec",
              "IPY_MODEL_1c2ccb4eb85143b0afb986bc7e9fe61a",
              "IPY_MODEL_26c02c09e4b84565a9b2a4b65e5f52e2"
            ],
            "layout": "IPY_MODEL_d3337b7decfb4cc7bf1cb7987baee41f"
          }
        },
        "5dd6f508040a46ea9d0dc76e617edeec": {
          "model_module": "@jupyter-widgets/controls",
          "model_name": "HTMLModel",
          "model_module_version": "1.5.0",
          "state": {
            "_dom_classes": [],
            "_model_module": "@jupyter-widgets/controls",
            "_model_module_version": "1.5.0",
            "_model_name": "HTMLModel",
            "_view_count": null,
            "_view_module": "@jupyter-widgets/controls",
            "_view_module_version": "1.5.0",
            "_view_name": "HTMLView",
            "description": "",
            "description_tooltip": null,
            "layout": "IPY_MODEL_b5951baa7118408d9074f8c6e6c98ae9",
            "placeholder": "​",
            "style": "IPY_MODEL_6f7f41302c674223939145afae83d604",
            "value": "Downloading builder script: "
          }
        },
        "1c2ccb4eb85143b0afb986bc7e9fe61a": {
          "model_module": "@jupyter-widgets/controls",
          "model_name": "FloatProgressModel",
          "model_module_version": "1.5.0",
          "state": {
            "_dom_classes": [],
            "_model_module": "@jupyter-widgets/controls",
            "_model_module_version": "1.5.0",
            "_model_name": "FloatProgressModel",
            "_view_count": null,
            "_view_module": "@jupyter-widgets/controls",
            "_view_module_version": "1.5.0",
            "_view_name": "ProgressView",
            "bar_style": "success",
            "description": "",
            "description_tooltip": null,
            "layout": "IPY_MODEL_8351771f263d4900a5fb707fc8b41243",
            "max": 1715,
            "min": 0,
            "orientation": "horizontal",
            "style": "IPY_MODEL_27419f0936d54c508ede73125b3981e4",
            "value": 1715
          }
        },
        "26c02c09e4b84565a9b2a4b65e5f52e2": {
          "model_module": "@jupyter-widgets/controls",
          "model_name": "HTMLModel",
          "model_module_version": "1.5.0",
          "state": {
            "_dom_classes": [],
            "_model_module": "@jupyter-widgets/controls",
            "_model_module_version": "1.5.0",
            "_model_name": "HTMLModel",
            "_view_count": null,
            "_view_module": "@jupyter-widgets/controls",
            "_view_module_version": "1.5.0",
            "_view_name": "HTMLView",
            "description": "",
            "description_tooltip": null,
            "layout": "IPY_MODEL_9c30546622b044c0b7fb6345c8838f7c",
            "placeholder": "​",
            "style": "IPY_MODEL_4fbdfa3523984123aa80fce2e08c7397",
            "value": " 4.50k/? [00:00&lt;00:00, 179kB/s]"
          }
        },
        "d3337b7decfb4cc7bf1cb7987baee41f": {
          "model_module": "@jupyter-widgets/base",
          "model_name": "LayoutModel",
          "model_module_version": "1.2.0",
          "state": {
            "_model_module": "@jupyter-widgets/base",
            "_model_module_version": "1.2.0",
            "_model_name": "LayoutModel",
            "_view_count": null,
            "_view_module": "@jupyter-widgets/base",
            "_view_module_version": "1.2.0",
            "_view_name": "LayoutView",
            "align_content": null,
            "align_items": null,
            "align_self": null,
            "border": null,
            "bottom": null,
            "display": null,
            "flex": null,
            "flex_flow": null,
            "grid_area": null,
            "grid_auto_columns": null,
            "grid_auto_flow": null,
            "grid_auto_rows": null,
            "grid_column": null,
            "grid_gap": null,
            "grid_row": null,
            "grid_template_areas": null,
            "grid_template_columns": null,
            "grid_template_rows": null,
            "height": null,
            "justify_content": null,
            "justify_items": null,
            "left": null,
            "margin": null,
            "max_height": null,
            "max_width": null,
            "min_height": null,
            "min_width": null,
            "object_fit": null,
            "object_position": null,
            "order": null,
            "overflow": null,
            "overflow_x": null,
            "overflow_y": null,
            "padding": null,
            "right": null,
            "top": null,
            "visibility": null,
            "width": null
          }
        },
        "b5951baa7118408d9074f8c6e6c98ae9": {
          "model_module": "@jupyter-widgets/base",
          "model_name": "LayoutModel",
          "model_module_version": "1.2.0",
          "state": {
            "_model_module": "@jupyter-widgets/base",
            "_model_module_version": "1.2.0",
            "_model_name": "LayoutModel",
            "_view_count": null,
            "_view_module": "@jupyter-widgets/base",
            "_view_module_version": "1.2.0",
            "_view_name": "LayoutView",
            "align_content": null,
            "align_items": null,
            "align_self": null,
            "border": null,
            "bottom": null,
            "display": null,
            "flex": null,
            "flex_flow": null,
            "grid_area": null,
            "grid_auto_columns": null,
            "grid_auto_flow": null,
            "grid_auto_rows": null,
            "grid_column": null,
            "grid_gap": null,
            "grid_row": null,
            "grid_template_areas": null,
            "grid_template_columns": null,
            "grid_template_rows": null,
            "height": null,
            "justify_content": null,
            "justify_items": null,
            "left": null,
            "margin": null,
            "max_height": null,
            "max_width": null,
            "min_height": null,
            "min_width": null,
            "object_fit": null,
            "object_position": null,
            "order": null,
            "overflow": null,
            "overflow_x": null,
            "overflow_y": null,
            "padding": null,
            "right": null,
            "top": null,
            "visibility": null,
            "width": null
          }
        },
        "6f7f41302c674223939145afae83d604": {
          "model_module": "@jupyter-widgets/controls",
          "model_name": "DescriptionStyleModel",
          "model_module_version": "1.5.0",
          "state": {
            "_model_module": "@jupyter-widgets/controls",
            "_model_module_version": "1.5.0",
            "_model_name": "DescriptionStyleModel",
            "_view_count": null,
            "_view_module": "@jupyter-widgets/base",
            "_view_module_version": "1.2.0",
            "_view_name": "StyleView",
            "description_width": ""
          }
        },
        "8351771f263d4900a5fb707fc8b41243": {
          "model_module": "@jupyter-widgets/base",
          "model_name": "LayoutModel",
          "model_module_version": "1.2.0",
          "state": {
            "_model_module": "@jupyter-widgets/base",
            "_model_module_version": "1.2.0",
            "_model_name": "LayoutModel",
            "_view_count": null,
            "_view_module": "@jupyter-widgets/base",
            "_view_module_version": "1.2.0",
            "_view_name": "LayoutView",
            "align_content": null,
            "align_items": null,
            "align_self": null,
            "border": null,
            "bottom": null,
            "display": null,
            "flex": null,
            "flex_flow": null,
            "grid_area": null,
            "grid_auto_columns": null,
            "grid_auto_flow": null,
            "grid_auto_rows": null,
            "grid_column": null,
            "grid_gap": null,
            "grid_row": null,
            "grid_template_areas": null,
            "grid_template_columns": null,
            "grid_template_rows": null,
            "height": null,
            "justify_content": null,
            "justify_items": null,
            "left": null,
            "margin": null,
            "max_height": null,
            "max_width": null,
            "min_height": null,
            "min_width": null,
            "object_fit": null,
            "object_position": null,
            "order": null,
            "overflow": null,
            "overflow_x": null,
            "overflow_y": null,
            "padding": null,
            "right": null,
            "top": null,
            "visibility": null,
            "width": null
          }
        },
        "27419f0936d54c508ede73125b3981e4": {
          "model_module": "@jupyter-widgets/controls",
          "model_name": "ProgressStyleModel",
          "model_module_version": "1.5.0",
          "state": {
            "_model_module": "@jupyter-widgets/controls",
            "_model_module_version": "1.5.0",
            "_model_name": "ProgressStyleModel",
            "_view_count": null,
            "_view_module": "@jupyter-widgets/base",
            "_view_module_version": "1.2.0",
            "_view_name": "StyleView",
            "bar_color": null,
            "description_width": ""
          }
        },
        "9c30546622b044c0b7fb6345c8838f7c": {
          "model_module": "@jupyter-widgets/base",
          "model_name": "LayoutModel",
          "model_module_version": "1.2.0",
          "state": {
            "_model_module": "@jupyter-widgets/base",
            "_model_module_version": "1.2.0",
            "_model_name": "LayoutModel",
            "_view_count": null,
            "_view_module": "@jupyter-widgets/base",
            "_view_module_version": "1.2.0",
            "_view_name": "LayoutView",
            "align_content": null,
            "align_items": null,
            "align_self": null,
            "border": null,
            "bottom": null,
            "display": null,
            "flex": null,
            "flex_flow": null,
            "grid_area": null,
            "grid_auto_columns": null,
            "grid_auto_flow": null,
            "grid_auto_rows": null,
            "grid_column": null,
            "grid_gap": null,
            "grid_row": null,
            "grid_template_areas": null,
            "grid_template_columns": null,
            "grid_template_rows": null,
            "height": null,
            "justify_content": null,
            "justify_items": null,
            "left": null,
            "margin": null,
            "max_height": null,
            "max_width": null,
            "min_height": null,
            "min_width": null,
            "object_fit": null,
            "object_position": null,
            "order": null,
            "overflow": null,
            "overflow_x": null,
            "overflow_y": null,
            "padding": null,
            "right": null,
            "top": null,
            "visibility": null,
            "width": null
          }
        },
        "4fbdfa3523984123aa80fce2e08c7397": {
          "model_module": "@jupyter-widgets/controls",
          "model_name": "DescriptionStyleModel",
          "model_module_version": "1.5.0",
          "state": {
            "_model_module": "@jupyter-widgets/controls",
            "_model_module_version": "1.5.0",
            "_model_name": "DescriptionStyleModel",
            "_view_count": null,
            "_view_module": "@jupyter-widgets/base",
            "_view_module_version": "1.2.0",
            "_view_name": "StyleView",
            "description_width": ""
          }
        },
        "a6edcf32069e4fc49e385e274ca3e647": {
          "model_module": "@jupyter-widgets/controls",
          "model_name": "HBoxModel",
          "model_module_version": "1.5.0",
          "state": {
            "_dom_classes": [],
            "_model_module": "@jupyter-widgets/controls",
            "_model_module_version": "1.5.0",
            "_model_name": "HBoxModel",
            "_view_count": null,
            "_view_module": "@jupyter-widgets/controls",
            "_view_module_version": "1.5.0",
            "_view_name": "HBoxView",
            "box_style": "",
            "children": [
              "IPY_MODEL_d274b65359b148b294298281f97525cb",
              "IPY_MODEL_57ddfe00c0dd4a9681d5f661da559b0c",
              "IPY_MODEL_7d86dd48780e4f9e957f4be5c64fc7eb"
            ],
            "layout": "IPY_MODEL_190cd45e69ee466a9d9b52a7c2b34f0a"
          }
        },
        "d274b65359b148b294298281f97525cb": {
          "model_module": "@jupyter-widgets/controls",
          "model_name": "HTMLModel",
          "model_module_version": "1.5.0",
          "state": {
            "_dom_classes": [],
            "_model_module": "@jupyter-widgets/controls",
            "_model_module_version": "1.5.0",
            "_model_name": "HTMLModel",
            "_view_count": null,
            "_view_module": "@jupyter-widgets/controls",
            "_view_module_version": "1.5.0",
            "_view_name": "HTMLView",
            "description": "",
            "description_tooltip": null,
            "layout": "IPY_MODEL_e7ce565bfe84492aa804e599da75a4a4",
            "placeholder": "​",
            "style": "IPY_MODEL_84992d07f4604c588e0238a6890b6341",
            "value": "Downloading extra modules: "
          }
        },
        "57ddfe00c0dd4a9681d5f661da559b0c": {
          "model_module": "@jupyter-widgets/controls",
          "model_name": "FloatProgressModel",
          "model_module_version": "1.5.0",
          "state": {
            "_dom_classes": [],
            "_model_module": "@jupyter-widgets/controls",
            "_model_module_version": "1.5.0",
            "_model_name": "FloatProgressModel",
            "_view_count": null,
            "_view_module": "@jupyter-widgets/controls",
            "_view_module_version": "1.5.0",
            "_view_name": "ProgressView",
            "bar_style": "success",
            "description": "",
            "description_tooltip": null,
            "layout": "IPY_MODEL_58cb451605374afcaccb8958d94aa469",
            "max": 1109,
            "min": 0,
            "orientation": "horizontal",
            "style": "IPY_MODEL_5d44bff71d634d2ca3930aca8fdc3902",
            "value": 1109
          }
        },
        "7d86dd48780e4f9e957f4be5c64fc7eb": {
          "model_module": "@jupyter-widgets/controls",
          "model_name": "HTMLModel",
          "model_module_version": "1.5.0",
          "state": {
            "_dom_classes": [],
            "_model_module": "@jupyter-widgets/controls",
            "_model_module_version": "1.5.0",
            "_model_name": "HTMLModel",
            "_view_count": null,
            "_view_module": "@jupyter-widgets/controls",
            "_view_module_version": "1.5.0",
            "_view_name": "HTMLView",
            "description": "",
            "description_tooltip": null,
            "layout": "IPY_MODEL_56ecede78a6b4a8598d02f0bcbd39f6d",
            "placeholder": "​",
            "style": "IPY_MODEL_094cb7a7382041568b387c318764c23e",
            "value": " 3.30k/? [00:00&lt;00:00, 38.4kB/s]"
          }
        },
        "190cd45e69ee466a9d9b52a7c2b34f0a": {
          "model_module": "@jupyter-widgets/base",
          "model_name": "LayoutModel",
          "model_module_version": "1.2.0",
          "state": {
            "_model_module": "@jupyter-widgets/base",
            "_model_module_version": "1.2.0",
            "_model_name": "LayoutModel",
            "_view_count": null,
            "_view_module": "@jupyter-widgets/base",
            "_view_module_version": "1.2.0",
            "_view_name": "LayoutView",
            "align_content": null,
            "align_items": null,
            "align_self": null,
            "border": null,
            "bottom": null,
            "display": null,
            "flex": null,
            "flex_flow": null,
            "grid_area": null,
            "grid_auto_columns": null,
            "grid_auto_flow": null,
            "grid_auto_rows": null,
            "grid_column": null,
            "grid_gap": null,
            "grid_row": null,
            "grid_template_areas": null,
            "grid_template_columns": null,
            "grid_template_rows": null,
            "height": null,
            "justify_content": null,
            "justify_items": null,
            "left": null,
            "margin": null,
            "max_height": null,
            "max_width": null,
            "min_height": null,
            "min_width": null,
            "object_fit": null,
            "object_position": null,
            "order": null,
            "overflow": null,
            "overflow_x": null,
            "overflow_y": null,
            "padding": null,
            "right": null,
            "top": null,
            "visibility": null,
            "width": null
          }
        },
        "e7ce565bfe84492aa804e599da75a4a4": {
          "model_module": "@jupyter-widgets/base",
          "model_name": "LayoutModel",
          "model_module_version": "1.2.0",
          "state": {
            "_model_module": "@jupyter-widgets/base",
            "_model_module_version": "1.2.0",
            "_model_name": "LayoutModel",
            "_view_count": null,
            "_view_module": "@jupyter-widgets/base",
            "_view_module_version": "1.2.0",
            "_view_name": "LayoutView",
            "align_content": null,
            "align_items": null,
            "align_self": null,
            "border": null,
            "bottom": null,
            "display": null,
            "flex": null,
            "flex_flow": null,
            "grid_area": null,
            "grid_auto_columns": null,
            "grid_auto_flow": null,
            "grid_auto_rows": null,
            "grid_column": null,
            "grid_gap": null,
            "grid_row": null,
            "grid_template_areas": null,
            "grid_template_columns": null,
            "grid_template_rows": null,
            "height": null,
            "justify_content": null,
            "justify_items": null,
            "left": null,
            "margin": null,
            "max_height": null,
            "max_width": null,
            "min_height": null,
            "min_width": null,
            "object_fit": null,
            "object_position": null,
            "order": null,
            "overflow": null,
            "overflow_x": null,
            "overflow_y": null,
            "padding": null,
            "right": null,
            "top": null,
            "visibility": null,
            "width": null
          }
        },
        "84992d07f4604c588e0238a6890b6341": {
          "model_module": "@jupyter-widgets/controls",
          "model_name": "DescriptionStyleModel",
          "model_module_version": "1.5.0",
          "state": {
            "_model_module": "@jupyter-widgets/controls",
            "_model_module_version": "1.5.0",
            "_model_name": "DescriptionStyleModel",
            "_view_count": null,
            "_view_module": "@jupyter-widgets/base",
            "_view_module_version": "1.2.0",
            "_view_name": "StyleView",
            "description_width": ""
          }
        },
        "58cb451605374afcaccb8958d94aa469": {
          "model_module": "@jupyter-widgets/base",
          "model_name": "LayoutModel",
          "model_module_version": "1.2.0",
          "state": {
            "_model_module": "@jupyter-widgets/base",
            "_model_module_version": "1.2.0",
            "_model_name": "LayoutModel",
            "_view_count": null,
            "_view_module": "@jupyter-widgets/base",
            "_view_module_version": "1.2.0",
            "_view_name": "LayoutView",
            "align_content": null,
            "align_items": null,
            "align_self": null,
            "border": null,
            "bottom": null,
            "display": null,
            "flex": null,
            "flex_flow": null,
            "grid_area": null,
            "grid_auto_columns": null,
            "grid_auto_flow": null,
            "grid_auto_rows": null,
            "grid_column": null,
            "grid_gap": null,
            "grid_row": null,
            "grid_template_areas": null,
            "grid_template_columns": null,
            "grid_template_rows": null,
            "height": null,
            "justify_content": null,
            "justify_items": null,
            "left": null,
            "margin": null,
            "max_height": null,
            "max_width": null,
            "min_height": null,
            "min_width": null,
            "object_fit": null,
            "object_position": null,
            "order": null,
            "overflow": null,
            "overflow_x": null,
            "overflow_y": null,
            "padding": null,
            "right": null,
            "top": null,
            "visibility": null,
            "width": null
          }
        },
        "5d44bff71d634d2ca3930aca8fdc3902": {
          "model_module": "@jupyter-widgets/controls",
          "model_name": "ProgressStyleModel",
          "model_module_version": "1.5.0",
          "state": {
            "_model_module": "@jupyter-widgets/controls",
            "_model_module_version": "1.5.0",
            "_model_name": "ProgressStyleModel",
            "_view_count": null,
            "_view_module": "@jupyter-widgets/base",
            "_view_module_version": "1.2.0",
            "_view_name": "StyleView",
            "bar_color": null,
            "description_width": ""
          }
        },
        "56ecede78a6b4a8598d02f0bcbd39f6d": {
          "model_module": "@jupyter-widgets/base",
          "model_name": "LayoutModel",
          "model_module_version": "1.2.0",
          "state": {
            "_model_module": "@jupyter-widgets/base",
            "_model_module_version": "1.2.0",
            "_model_name": "LayoutModel",
            "_view_count": null,
            "_view_module": "@jupyter-widgets/base",
            "_view_module_version": "1.2.0",
            "_view_name": "LayoutView",
            "align_content": null,
            "align_items": null,
            "align_self": null,
            "border": null,
            "bottom": null,
            "display": null,
            "flex": null,
            "flex_flow": null,
            "grid_area": null,
            "grid_auto_columns": null,
            "grid_auto_flow": null,
            "grid_auto_rows": null,
            "grid_column": null,
            "grid_gap": null,
            "grid_row": null,
            "grid_template_areas": null,
            "grid_template_columns": null,
            "grid_template_rows": null,
            "height": null,
            "justify_content": null,
            "justify_items": null,
            "left": null,
            "margin": null,
            "max_height": null,
            "max_width": null,
            "min_height": null,
            "min_width": null,
            "object_fit": null,
            "object_position": null,
            "order": null,
            "overflow": null,
            "overflow_x": null,
            "overflow_y": null,
            "padding": null,
            "right": null,
            "top": null,
            "visibility": null,
            "width": null
          }
        },
        "094cb7a7382041568b387c318764c23e": {
          "model_module": "@jupyter-widgets/controls",
          "model_name": "DescriptionStyleModel",
          "model_module_version": "1.5.0",
          "state": {
            "_model_module": "@jupyter-widgets/controls",
            "_model_module_version": "1.5.0",
            "_model_name": "DescriptionStyleModel",
            "_view_count": null,
            "_view_module": "@jupyter-widgets/base",
            "_view_module_version": "1.2.0",
            "_view_name": "StyleView",
            "description_width": ""
          }
        }
      }
    }
  },
  "cells": [
    {
      "cell_type": "markdown",
      "source": [
        "# Entertainment Genres"
      ],
      "metadata": {
        "id": "2Gor-jqVs7eH"
      }
    },
    {
      "cell_type": "markdown",
      "source": [
        "# Setting Up Necessary Things"
      ],
      "metadata": {
        "id": "zeNnj4kktAir"
      }
    },
    {
      "cell_type": "code",
      "execution_count": null,
      "metadata": {
        "id": "uZUj-rWJsvV_"
      },
      "outputs": [],
      "source": [
        "# Jupyter Notebook Magic Command - Auto Reloading\n",
        "%reload_ext autoreload\n",
        "%autoreload 2\n",
        "\n",
        "# Jupyter Notebook Magic Command - Inline Plotting\n",
        "%matplotlib inline"
      ]
    },
    {
      "cell_type": "code",
      "source": [
        "# Ignore All Warnings\n",
        "import warnings\n",
        "warnings.filterwarnings(\"ignore\")"
      ],
      "metadata": {
        "id": "eqQkSZqqtKVc"
      },
      "execution_count": null,
      "outputs": []
    },
    {
      "cell_type": "code",
      "source": [
        "# NVIDIA Status\n",
        "! nvidia-smi"
      ],
      "metadata": {
        "colab": {
          "base_uri": "https://localhost:8080/"
        },
        "id": "gjPlkyMbtPp4",
        "outputId": "e3fef2df-637d-4dc7-cc45-a1c97b99c41d"
      },
      "execution_count": null,
      "outputs": [
        {
          "output_type": "stream",
          "name": "stdout",
          "text": [
            "Thu Sep 14 15:37:37 2023       \n",
            "+-----------------------------------------------------------------------------+\n",
            "| NVIDIA-SMI 525.105.17   Driver Version: 525.105.17   CUDA Version: 12.0     |\n",
            "|-------------------------------+----------------------+----------------------+\n",
            "| GPU  Name        Persistence-M| Bus-Id        Disp.A | Volatile Uncorr. ECC |\n",
            "| Fan  Temp  Perf  Pwr:Usage/Cap|         Memory-Usage | GPU-Util  Compute M. |\n",
            "|                               |                      |               MIG M. |\n",
            "|===============================+======================+======================|\n",
            "|   0  Tesla T4            Off  | 00000000:00:04.0 Off |                    0 |\n",
            "| N/A   50C    P8    10W /  70W |      0MiB / 15360MiB |      0%      Default |\n",
            "|                               |                      |                  N/A |\n",
            "+-------------------------------+----------------------+----------------------+\n",
            "                                                                               \n",
            "+-----------------------------------------------------------------------------+\n",
            "| Processes:                                                                  |\n",
            "|  GPU   GI   CI        PID   Type   Process name                  GPU Memory |\n",
            "|        ID   ID                                                   Usage      |\n",
            "|=============================================================================|\n",
            "|  No running processes found                                                 |\n",
            "+-----------------------------------------------------------------------------+\n"
          ]
        }
      ]
    },
    {
      "cell_type": "code",
      "source": [
        "from google.colab import drive\n",
        "drive.mount('/content/drive')"
      ],
      "metadata": {
        "colab": {
          "base_uri": "https://localhost:8080/"
        },
        "id": "iYSTp4WItS22",
        "outputId": "d51f6ded-16ee-4eff-c99b-65ee3e31644c"
      },
      "execution_count": null,
      "outputs": [
        {
          "output_type": "stream",
          "name": "stdout",
          "text": [
            "Mounted at /content/drive\n"
          ]
        }
      ]
    },
    {
      "cell_type": "code",
      "source": [
        "%cd /content/drive/MyDrive/All Entertainment Classification"
      ],
      "metadata": {
        "colab": {
          "base_uri": "https://localhost:8080/"
        },
        "id": "OqQIF6oYtTqZ",
        "outputId": "2fe96775-4c41-4bb9-ec87-1582c43e5731"
      },
      "execution_count": null,
      "outputs": [
        {
          "output_type": "stream",
          "name": "stdout",
          "text": [
            "/content/drive/MyDrive/All Entertainment Classification\n"
          ]
        }
      ]
    },
    {
      "cell_type": "markdown",
      "source": [
        "# Necessary Imports"
      ],
      "metadata": {
        "id": "25UCQRkPtjEa"
      }
    },
    {
      "cell_type": "code",
      "source": [
        "! pip install -q transformers sentencepiece fastbook fastai ohmeow-blurr nbdev"
      ],
      "metadata": {
        "colab": {
          "base_uri": "https://localhost:8080/"
        },
        "id": "VPS3Oyz3tl9S",
        "outputId": "d21a88cb-3ec5-4568-e1fb-1dc9605ea13f"
      },
      "execution_count": null,
      "outputs": [
        {
          "output_type": "stream",
          "name": "stdout",
          "text": [
            "\u001b[2K     \u001b[90m━━━━━━━━━━━━━━━━━━━━━━━━━━━━━━━━━━━━━━━━\u001b[0m \u001b[32m7.6/7.6 MB\u001b[0m \u001b[31m17.6 MB/s\u001b[0m eta \u001b[36m0:00:00\u001b[0m\n",
            "\u001b[2K     \u001b[90m━━━━━━━━━━━━━━━━━━━━━━━━━━━━━━━━━━━━━━━━\u001b[0m \u001b[32m1.3/1.3 MB\u001b[0m \u001b[31m27.7 MB/s\u001b[0m eta \u001b[36m0:00:00\u001b[0m\n",
            "\u001b[2K     \u001b[90m━━━━━━━━━━━━━━━━━━━━━━━━━━━━━━━━━━━━━━\u001b[0m \u001b[32m719.8/719.8 kB\u001b[0m \u001b[31m29.8 MB/s\u001b[0m eta \u001b[36m0:00:00\u001b[0m\n",
            "\u001b[2K     \u001b[90m━━━━━━━━━━━━━━━━━━━━━━━━━━━━━━━━━━━━━━━━\u001b[0m \u001b[32m81.1/81.1 kB\u001b[0m \u001b[31m8.2 MB/s\u001b[0m eta \u001b[36m0:00:00\u001b[0m\n",
            "\u001b[2K     \u001b[90m━━━━━━━━━━━━━━━━━━━━━━━━━━━━━━━━━━━━━━━━\u001b[0m \u001b[32m64.8/64.8 kB\u001b[0m \u001b[31m6.8 MB/s\u001b[0m eta \u001b[36m0:00:00\u001b[0m\n",
            "\u001b[2K     \u001b[90m━━━━━━━━━━━━━━━━━━━━━━━━━━━━━━━━━━━━━━\u001b[0m \u001b[32m294.8/294.8 kB\u001b[0m \u001b[31m27.5 MB/s\u001b[0m eta \u001b[36m0:00:00\u001b[0m\n",
            "\u001b[2K     \u001b[90m━━━━━━━━━━━━━━━━━━━━━━━━━━━━━━━━━━━━━━━━\u001b[0m \u001b[32m7.8/7.8 MB\u001b[0m \u001b[31m32.4 MB/s\u001b[0m eta \u001b[36m0:00:00\u001b[0m\n",
            "\u001b[2K     \u001b[90m━━━━━━━━━━━━━━━━━━━━━━━━━━━━━━━━━━━━━━━━\u001b[0m \u001b[32m1.3/1.3 MB\u001b[0m \u001b[31m34.8 MB/s\u001b[0m eta \u001b[36m0:00:00\u001b[0m\n",
            "\u001b[2K     \u001b[90m━━━━━━━━━━━━━━━━━━━━━━━━━━━━━━━━━━━━━━\u001b[0m \u001b[32m519.6/519.6 kB\u001b[0m \u001b[31m23.8 MB/s\u001b[0m eta \u001b[36m0:00:00\u001b[0m\n",
            "\u001b[2K     \u001b[90m━━━━━━━━━━━━━━━━━━━━━━━━━━━━━━━━━━━━━━━\u001b[0m \u001b[32m887.5/887.5 MB\u001b[0m \u001b[31m1.9 MB/s\u001b[0m eta \u001b[36m0:00:00\u001b[0m\n",
            "\u001b[2K     \u001b[90m━━━━━━━━━━━━━━━━━━━━━━━━━━━━━━━━━━━━━━━━\u001b[0m \u001b[32m43.6/43.6 kB\u001b[0m \u001b[31m5.0 MB/s\u001b[0m eta \u001b[36m0:00:00\u001b[0m\n",
            "\u001b[?25h  Preparing metadata (setup.py) ... \u001b[?25l\u001b[?25hdone\n",
            "  Preparing metadata (setup.py) ... \u001b[?25l\u001b[?25hdone\n",
            "\u001b[2K     \u001b[90m━━━━━━━━━━━━━━━━━━━━━━━━━━━━━━━━━━━━━━━━\u001b[0m \u001b[32m58.7/58.7 kB\u001b[0m \u001b[31m5.8 MB/s\u001b[0m eta \u001b[36m0:00:00\u001b[0m\n",
            "\u001b[2K     \u001b[90m━━━━━━━━━━━━━━━━━━━━━━━━━━━━━━━━━━━━━━━━\u001b[0m \u001b[32m82.1/82.1 kB\u001b[0m \u001b[31m9.4 MB/s\u001b[0m eta \u001b[36m0:00:00\u001b[0m\n",
            "\u001b[2K     \u001b[90m━━━━━━━━━━━━━━━━━━━━━━━━━━━━━━━━━━━━━━\u001b[0m \u001b[32m849.3/849.3 kB\u001b[0m \u001b[31m53.3 MB/s\u001b[0m eta \u001b[36m0:00:00\u001b[0m\n",
            "\u001b[2K     \u001b[90m━━━━━━━━━━━━━━━━━━━━━━━━━━━━━━━━━━━━━━━\u001b[0m \u001b[32m557.1/557.1 MB\u001b[0m \u001b[31m3.1 MB/s\u001b[0m eta \u001b[36m0:00:00\u001b[0m\n",
            "\u001b[?25h\u001b[33m  WARNING: Retrying (Retry(total=4, connect=None, read=None, redirect=None, status=None)) after connection broken by 'ProtocolError('Connection aborted.', RemoteDisconnected('Remote end closed connection without response'))': /packages/ce/41/fdeb62b5437996e841d83d7d2714ca75b886547ee8017ee2fe6ea409d983/nvidia_cublas_cu11-11.10.3.66-py3-none-manylinux1_x86_64.whl\u001b[0m\u001b[33m\n",
            "\u001b[2K     \u001b[90m━━━━━━━━━━━━━━━━━━━━━━━━━━━━━━━━━━━━━━━\u001b[0m \u001b[32m317.1/317.1 MB\u001b[0m \u001b[31m4.5 MB/s\u001b[0m eta \u001b[36m0:00:00\u001b[0m\n",
            "\u001b[2K     \u001b[90m━━━━━━━━━━━━━━━━━━━━━━━━━━━━━━━━━━━━━━━━\u001b[0m \u001b[32m21.0/21.0 MB\u001b[0m \u001b[31m76.3 MB/s\u001b[0m eta \u001b[36m0:00:00\u001b[0m\n",
            "\u001b[2K     \u001b[90m━━━━━━━━━━━━━━━━━━━━━━━━━━━━━━━━━━━━━━━━\u001b[0m \u001b[32m6.0/6.0 MB\u001b[0m \u001b[31m105.3 MB/s\u001b[0m eta \u001b[36m0:00:00\u001b[0m\n",
            "\u001b[2K     \u001b[90m━━━━━━━━━━━━━━━━━━━━━━━━━━━━━━━━━━━━━━━━\u001b[0m \u001b[32m6.0/6.0 MB\u001b[0m \u001b[31m42.7 MB/s\u001b[0m eta \u001b[36m0:00:00\u001b[0m\n",
            "\u001b[2K     \u001b[90m━━━━━━━━━━━━━━━━━━━━━━━━━━━━━━━━━━━━━━━━\u001b[0m \u001b[32m24.2/24.2 MB\u001b[0m \u001b[31m70.6 MB/s\u001b[0m eta \u001b[36m0:00:00\u001b[0m\n",
            "\u001b[2K     \u001b[90m━━━━━━━━━━━━━━━━━━━━━━━━━━━━━━━━━━━━━━\u001b[0m \u001b[32m115.3/115.3 kB\u001b[0m \u001b[31m14.5 MB/s\u001b[0m eta \u001b[36m0:00:00\u001b[0m\n",
            "\u001b[2K     \u001b[90m━━━━━━━━━━━━━━━━━━━━━━━━━━━━━━━━━━━━━━\u001b[0m \u001b[32m194.1/194.1 kB\u001b[0m \u001b[31m22.7 MB/s\u001b[0m eta \u001b[36m0:00:00\u001b[0m\n",
            "\u001b[2K     \u001b[90m━━━━━━━━━━━━━━━━━━━━━━━━━━━━━━━━━━━━━━\u001b[0m \u001b[32m134.8/134.8 kB\u001b[0m \u001b[31m14.9 MB/s\u001b[0m eta \u001b[36m0:00:00\u001b[0m\n",
            "\u001b[2K     \u001b[90m━━━━━━━━━━━━━━━━━━━━━━━━━━━━━━━━━━━━━━━━\u001b[0m \u001b[32m1.6/1.6 MB\u001b[0m \u001b[31m92.0 MB/s\u001b[0m eta \u001b[36m0:00:00\u001b[0m\n",
            "\u001b[?25h  Building wheel for rouge-score (setup.py) ... \u001b[?25l\u001b[?25hdone\n",
            "  Building wheel for seqeval (setup.py) ... \u001b[?25l\u001b[?25hdone\n",
            "\u001b[31mERROR: pip's dependency resolver does not currently take into account all the packages that are installed. This behaviour is the source of the following dependency conflicts.\n",
            "torchaudio 2.0.2+cu118 requires torch==2.0.1, but you have torch 1.13.1 which is incompatible.\n",
            "torchdata 0.6.1 requires torch==2.0.1, but you have torch 1.13.1 which is incompatible.\n",
            "torchtext 0.15.2 requires torch==2.0.1, but you have torch 1.13.1 which is incompatible.\u001b[0m\u001b[31m\n",
            "\u001b[0m"
          ]
        }
      ]
    },
    {
      "cell_type": "code",
      "source": [
        "import torch\n",
        "\n",
        "from transformers import AutoModelForSequenceClassification, AutoConfig\n",
        "\n",
        "from fastai.text.all import *\n",
        "\n",
        "from blurr.text.data.all import *\n",
        "from blurr.text.modeling.all import *"
      ],
      "metadata": {
        "id": "RNJJVH7ytpDw",
        "colab": {
          "base_uri": "https://localhost:8080/",
          "height": 81,
          "referenced_widgets": [
            "0348a0dbd1924d0889bd2bc088e89543",
            "5dd6f508040a46ea9d0dc76e617edeec",
            "1c2ccb4eb85143b0afb986bc7e9fe61a",
            "26c02c09e4b84565a9b2a4b65e5f52e2",
            "d3337b7decfb4cc7bf1cb7987baee41f",
            "b5951baa7118408d9074f8c6e6c98ae9",
            "6f7f41302c674223939145afae83d604",
            "8351771f263d4900a5fb707fc8b41243",
            "27419f0936d54c508ede73125b3981e4",
            "9c30546622b044c0b7fb6345c8838f7c",
            "4fbdfa3523984123aa80fce2e08c7397",
            "a6edcf32069e4fc49e385e274ca3e647",
            "d274b65359b148b294298281f97525cb",
            "57ddfe00c0dd4a9681d5f661da559b0c",
            "7d86dd48780e4f9e957f4be5c64fc7eb",
            "190cd45e69ee466a9d9b52a7c2b34f0a",
            "e7ce565bfe84492aa804e599da75a4a4",
            "84992d07f4604c588e0238a6890b6341",
            "58cb451605374afcaccb8958d94aa469",
            "5d44bff71d634d2ca3930aca8fdc3902",
            "56ecede78a6b4a8598d02f0bcbd39f6d",
            "094cb7a7382041568b387c318764c23e"
          ]
        },
        "outputId": "8ed7bb0c-ecf9-4aa9-e6cc-a38b45e9e5c6"
      },
      "execution_count": null,
      "outputs": [
        {
          "output_type": "display_data",
          "data": {
            "text/plain": [
              "Downloading builder script:   0%|          | 0.00/1.72k [00:00<?, ?B/s]"
            ],
            "application/vnd.jupyter.widget-view+json": {
              "version_major": 2,
              "version_minor": 0,
              "model_id": "0348a0dbd1924d0889bd2bc088e89543"
            }
          },
          "metadata": {}
        },
        {
          "output_type": "display_data",
          "data": {
            "text/plain": [
              "Downloading extra modules:   0%|          | 0.00/1.11k [00:00<?, ?B/s]"
            ],
            "application/vnd.jupyter.widget-view+json": {
              "version_major": 2,
              "version_minor": 0,
              "model_id": "a6edcf32069e4fc49e385e274ca3e647"
            }
          },
          "metadata": {}
        }
      ]
    },
    {
      "cell_type": "markdown",
      "source": [
        "# Data Cleaning"
      ],
      "metadata": {
        "id": "PWxk8LKgt5AA"
      }
    },
    {
      "cell_type": "code",
      "source": [
        "# Load Data Into DataFrame\n",
        "df = pd.read_csv(\"data/processed/genres/genres_classification.csv\")\n",
        "df.head()"
      ],
      "metadata": {
        "id": "DfOTgozLt6-N",
        "colab": {
          "base_uri": "https://localhost:8080/",
          "height": 397
        },
        "outputId": "f7d252e3-9137-463f-f431-d6f0f063f3e4"
      },
      "execution_count": null,
      "outputs": [
        {
          "output_type": "execute_result",
          "data": {
            "text/plain": [
              "                                                                                                                                                                                                                                                                                                                                                                                                                                                                                                                                                                                                               description  \\\n",
              "0  Comedy about one big happy family and their sometimes awkward, often hilarious and ultimately beautiful milestone moments as told by its various members.  Of the three siblings, middle child Matt may have just found his true love, his co-worker, Colleen; his coddled youngest brother, Greg, and his wife, Jen, are overwhelmed by the birth of their first child; and the eldest, Heather, and her husband, Tim, are dreading their impending empty nest so much, they're considering having another baby. Their parents are Joan the family's adoring matriarch who would do anything for her kids - as long...   \n",
              "1                                                                                                                                                                                                                                                                                                                                                                                                                                    A crew of kid pirates - leader Jake and pals Izzy and Cubby - and their Never Land adventures as they work to outwit two infamous characters, the one and only Captain Hook and Smee.   \n",
              "2  In the Shadow of Young Girls in Flower is Proust’s spectacular dissection of male and female adolescence, charged with the narrator’s memories of Paris and the Normandy seaside. At the heart of the story lie his relationships with his grandmother and with the Swann family. As a meditation on different forms of love, In the Shadow of Young Girls in Flower has no equal. Here, Proust introduces some of his greatest comic inventions, from the magnificently dull M. de Norpois to the enchanting Robert de Saint-Loup. It is memorable as well for the first appearance of the two figures who for bett...   \n",
              "3  Outside watching as the day slowly fades away\\nHoping that you'll stay right here beside me\\nWrapped around me\\nThe pink galahs are sitting in the trees\\nIn the summer breeze just like you and me\\nThey found each other\\nAnd wn't find another\\n\\nUnderneath two different skies\\nIs where we fall too many times\\nJust close your eyes and they'll collide\\n\\nFollow me and I'l follow you\\nAnd we'll make it through the night\\nFly wherever we want to\\nOnce we reach the other side\\nYou'll find me waiting in the branches\\nFor yu to remind me\\nYou're my pink Galah\\nThe morning sun shining through the p...   \n",
              "4                                                                                                                                                                                                                                                                                                                                                                                       A young man is accused of his ex-girlfriend's murder. Before he is formally charged by the police, he sets out on a two-day odyssey to find the real killer: tracking down his leads from the...                See full summary »   \n",
              "\n",
              "                                                                                    genres  \n",
              "0                                                                                   comedy  \n",
              "1                                                       action, family, fantasy, animation  \n",
              "2  Fiction, Classics, Cultural, France, European Literature, French Literature, Literature  \n",
              "3                                                                                      pop  \n",
              "4                                                                                 Thriller  "
            ],
            "text/html": [
              "\n",
              "  <div id=\"df-032d82e4-7b5f-4ad2-bf9e-7354fbf8e096\" class=\"colab-df-container\">\n",
              "    <div>\n",
              "<style scoped>\n",
              "    .dataframe tbody tr th:only-of-type {\n",
              "        vertical-align: middle;\n",
              "    }\n",
              "\n",
              "    .dataframe tbody tr th {\n",
              "        vertical-align: top;\n",
              "    }\n",
              "\n",
              "    .dataframe thead th {\n",
              "        text-align: right;\n",
              "    }\n",
              "</style>\n",
              "<table border=\"1\" class=\"dataframe\">\n",
              "  <thead>\n",
              "    <tr style=\"text-align: right;\">\n",
              "      <th></th>\n",
              "      <th>description</th>\n",
              "      <th>genres</th>\n",
              "    </tr>\n",
              "  </thead>\n",
              "  <tbody>\n",
              "    <tr>\n",
              "      <th>0</th>\n",
              "      <td>Comedy about one big happy family and their sometimes awkward, often hilarious and ultimately beautiful milestone moments as told by its various members.  Of the three siblings, middle child Matt may have just found his true love, his co-worker, Colleen; his coddled youngest brother, Greg, and his wife, Jen, are overwhelmed by the birth of their first child; and the eldest, Heather, and her husband, Tim, are dreading their impending empty nest so much, they're considering having another baby. Their parents are Joan the family's adoring matriarch who would do anything for her kids - as long...</td>\n",
              "      <td>comedy</td>\n",
              "    </tr>\n",
              "    <tr>\n",
              "      <th>1</th>\n",
              "      <td>A crew of kid pirates - leader Jake and pals Izzy and Cubby - and their Never Land adventures as they work to outwit two infamous characters, the one and only Captain Hook and Smee.</td>\n",
              "      <td>action, family, fantasy, animation</td>\n",
              "    </tr>\n",
              "    <tr>\n",
              "      <th>2</th>\n",
              "      <td>In the Shadow of Young Girls in Flower is Proust’s spectacular dissection of male and female adolescence, charged with the narrator’s memories of Paris and the Normandy seaside. At the heart of the story lie his relationships with his grandmother and with the Swann family. As a meditation on different forms of love, In the Shadow of Young Girls in Flower has no equal. Here, Proust introduces some of his greatest comic inventions, from the magnificently dull M. de Norpois to the enchanting Robert de Saint-Loup. It is memorable as well for the first appearance of the two figures who for bett...</td>\n",
              "      <td>Fiction, Classics, Cultural, France, European Literature, French Literature, Literature</td>\n",
              "    </tr>\n",
              "    <tr>\n",
              "      <th>3</th>\n",
              "      <td>Outside watching as the day slowly fades away\\nHoping that you'll stay right here beside me\\nWrapped around me\\nThe pink galahs are sitting in the trees\\nIn the summer breeze just like you and me\\nThey found each other\\nAnd wn't find another\\n\\nUnderneath two different skies\\nIs where we fall too many times\\nJust close your eyes and they'll collide\\n\\nFollow me and I'l follow you\\nAnd we'll make it through the night\\nFly wherever we want to\\nOnce we reach the other side\\nYou'll find me waiting in the branches\\nFor yu to remind me\\nYou're my pink Galah\\nThe morning sun shining through the p...</td>\n",
              "      <td>pop</td>\n",
              "    </tr>\n",
              "    <tr>\n",
              "      <th>4</th>\n",
              "      <td>A young man is accused of his ex-girlfriend's murder. Before he is formally charged by the police, he sets out on a two-day odyssey to find the real killer: tracking down his leads from the...                See full summary »</td>\n",
              "      <td>Thriller</td>\n",
              "    </tr>\n",
              "  </tbody>\n",
              "</table>\n",
              "</div>\n",
              "    <div class=\"colab-df-buttons\">\n",
              "\n",
              "  <div class=\"colab-df-container\">\n",
              "    <button class=\"colab-df-convert\" onclick=\"convertToInteractive('df-032d82e4-7b5f-4ad2-bf9e-7354fbf8e096')\"\n",
              "            title=\"Convert this dataframe to an interactive table.\"\n",
              "            style=\"display:none;\">\n",
              "\n",
              "  <svg xmlns=\"http://www.w3.org/2000/svg\" height=\"24px\" viewBox=\"0 -960 960 960\">\n",
              "    <path d=\"M120-120v-720h720v720H120Zm60-500h600v-160H180v160Zm220 220h160v-160H400v160Zm0 220h160v-160H400v160ZM180-400h160v-160H180v160Zm440 0h160v-160H620v160ZM180-180h160v-160H180v160Zm440 0h160v-160H620v160Z\"/>\n",
              "  </svg>\n",
              "    </button>\n",
              "\n",
              "  <style>\n",
              "    .colab-df-container {\n",
              "      display:flex;\n",
              "      gap: 12px;\n",
              "    }\n",
              "\n",
              "    .colab-df-convert {\n",
              "      background-color: #E8F0FE;\n",
              "      border: none;\n",
              "      border-radius: 50%;\n",
              "      cursor: pointer;\n",
              "      display: none;\n",
              "      fill: #1967D2;\n",
              "      height: 32px;\n",
              "      padding: 0 0 0 0;\n",
              "      width: 32px;\n",
              "    }\n",
              "\n",
              "    .colab-df-convert:hover {\n",
              "      background-color: #E2EBFA;\n",
              "      box-shadow: 0px 1px 2px rgba(60, 64, 67, 0.3), 0px 1px 3px 1px rgba(60, 64, 67, 0.15);\n",
              "      fill: #174EA6;\n",
              "    }\n",
              "\n",
              "    .colab-df-buttons div {\n",
              "      margin-bottom: 4px;\n",
              "    }\n",
              "\n",
              "    [theme=dark] .colab-df-convert {\n",
              "      background-color: #3B4455;\n",
              "      fill: #D2E3FC;\n",
              "    }\n",
              "\n",
              "    [theme=dark] .colab-df-convert:hover {\n",
              "      background-color: #434B5C;\n",
              "      box-shadow: 0px 1px 3px 1px rgba(0, 0, 0, 0.15);\n",
              "      filter: drop-shadow(0px 1px 2px rgba(0, 0, 0, 0.3));\n",
              "      fill: #FFFFFF;\n",
              "    }\n",
              "  </style>\n",
              "\n",
              "    <script>\n",
              "      const buttonEl =\n",
              "        document.querySelector('#df-032d82e4-7b5f-4ad2-bf9e-7354fbf8e096 button.colab-df-convert');\n",
              "      buttonEl.style.display =\n",
              "        google.colab.kernel.accessAllowed ? 'block' : 'none';\n",
              "\n",
              "      async function convertToInteractive(key) {\n",
              "        const element = document.querySelector('#df-032d82e4-7b5f-4ad2-bf9e-7354fbf8e096');\n",
              "        const dataTable =\n",
              "          await google.colab.kernel.invokeFunction('convertToInteractive',\n",
              "                                                    [key], {});\n",
              "        if (!dataTable) return;\n",
              "\n",
              "        const docLinkHtml = 'Like what you see? Visit the ' +\n",
              "          '<a target=\"_blank\" href=https://colab.research.google.com/notebooks/data_table.ipynb>data table notebook</a>'\n",
              "          + ' to learn more about interactive tables.';\n",
              "        element.innerHTML = '';\n",
              "        dataTable['output_type'] = 'display_data';\n",
              "        await google.colab.output.renderOutput(dataTable, element);\n",
              "        const docLink = document.createElement('div');\n",
              "        docLink.innerHTML = docLinkHtml;\n",
              "        element.appendChild(docLink);\n",
              "      }\n",
              "    </script>\n",
              "  </div>\n",
              "\n",
              "\n",
              "<div id=\"df-63d64680-e190-4808-b90b-07fe0d59ec8c\">\n",
              "  <button class=\"colab-df-quickchart\" onclick=\"quickchart('df-63d64680-e190-4808-b90b-07fe0d59ec8c')\"\n",
              "            title=\"Suggest charts.\"\n",
              "            style=\"display:none;\">\n",
              "\n",
              "<svg xmlns=\"http://www.w3.org/2000/svg\" height=\"24px\"viewBox=\"0 0 24 24\"\n",
              "     width=\"24px\">\n",
              "    <g>\n",
              "        <path d=\"M19 3H5c-1.1 0-2 .9-2 2v14c0 1.1.9 2 2 2h14c1.1 0 2-.9 2-2V5c0-1.1-.9-2-2-2zM9 17H7v-7h2v7zm4 0h-2V7h2v10zm4 0h-2v-4h2v4z\"/>\n",
              "    </g>\n",
              "</svg>\n",
              "  </button>\n",
              "\n",
              "<style>\n",
              "  .colab-df-quickchart {\n",
              "      --bg-color: #E8F0FE;\n",
              "      --fill-color: #1967D2;\n",
              "      --hover-bg-color: #E2EBFA;\n",
              "      --hover-fill-color: #174EA6;\n",
              "      --disabled-fill-color: #AAA;\n",
              "      --disabled-bg-color: #DDD;\n",
              "  }\n",
              "\n",
              "  [theme=dark] .colab-df-quickchart {\n",
              "      --bg-color: #3B4455;\n",
              "      --fill-color: #D2E3FC;\n",
              "      --hover-bg-color: #434B5C;\n",
              "      --hover-fill-color: #FFFFFF;\n",
              "      --disabled-bg-color: #3B4455;\n",
              "      --disabled-fill-color: #666;\n",
              "  }\n",
              "\n",
              "  .colab-df-quickchart {\n",
              "    background-color: var(--bg-color);\n",
              "    border: none;\n",
              "    border-radius: 50%;\n",
              "    cursor: pointer;\n",
              "    display: none;\n",
              "    fill: var(--fill-color);\n",
              "    height: 32px;\n",
              "    padding: 0;\n",
              "    width: 32px;\n",
              "  }\n",
              "\n",
              "  .colab-df-quickchart:hover {\n",
              "    background-color: var(--hover-bg-color);\n",
              "    box-shadow: 0 1px 2px rgba(60, 64, 67, 0.3), 0 1px 3px 1px rgba(60, 64, 67, 0.15);\n",
              "    fill: var(--button-hover-fill-color);\n",
              "  }\n",
              "\n",
              "  .colab-df-quickchart-complete:disabled,\n",
              "  .colab-df-quickchart-complete:disabled:hover {\n",
              "    background-color: var(--disabled-bg-color);\n",
              "    fill: var(--disabled-fill-color);\n",
              "    box-shadow: none;\n",
              "  }\n",
              "\n",
              "  .colab-df-spinner {\n",
              "    border: 2px solid var(--fill-color);\n",
              "    border-color: transparent;\n",
              "    border-bottom-color: var(--fill-color);\n",
              "    animation:\n",
              "      spin 1s steps(1) infinite;\n",
              "  }\n",
              "\n",
              "  @keyframes spin {\n",
              "    0% {\n",
              "      border-color: transparent;\n",
              "      border-bottom-color: var(--fill-color);\n",
              "      border-left-color: var(--fill-color);\n",
              "    }\n",
              "    20% {\n",
              "      border-color: transparent;\n",
              "      border-left-color: var(--fill-color);\n",
              "      border-top-color: var(--fill-color);\n",
              "    }\n",
              "    30% {\n",
              "      border-color: transparent;\n",
              "      border-left-color: var(--fill-color);\n",
              "      border-top-color: var(--fill-color);\n",
              "      border-right-color: var(--fill-color);\n",
              "    }\n",
              "    40% {\n",
              "      border-color: transparent;\n",
              "      border-right-color: var(--fill-color);\n",
              "      border-top-color: var(--fill-color);\n",
              "    }\n",
              "    60% {\n",
              "      border-color: transparent;\n",
              "      border-right-color: var(--fill-color);\n",
              "    }\n",
              "    80% {\n",
              "      border-color: transparent;\n",
              "      border-right-color: var(--fill-color);\n",
              "      border-bottom-color: var(--fill-color);\n",
              "    }\n",
              "    90% {\n",
              "      border-color: transparent;\n",
              "      border-bottom-color: var(--fill-color);\n",
              "    }\n",
              "  }\n",
              "</style>\n",
              "\n",
              "  <script>\n",
              "    async function quickchart(key) {\n",
              "      const quickchartButtonEl =\n",
              "        document.querySelector('#' + key + ' button');\n",
              "      quickchartButtonEl.disabled = true;  // To prevent multiple clicks.\n",
              "      quickchartButtonEl.classList.add('colab-df-spinner');\n",
              "      try {\n",
              "        const charts = await google.colab.kernel.invokeFunction(\n",
              "            'suggestCharts', [key], {});\n",
              "      } catch (error) {\n",
              "        console.error('Error during call to suggestCharts:', error);\n",
              "      }\n",
              "      quickchartButtonEl.classList.remove('colab-df-spinner');\n",
              "      quickchartButtonEl.classList.add('colab-df-quickchart-complete');\n",
              "    }\n",
              "    (() => {\n",
              "      let quickchartButtonEl =\n",
              "        document.querySelector('#df-63d64680-e190-4808-b90b-07fe0d59ec8c button');\n",
              "      quickchartButtonEl.style.display =\n",
              "        google.colab.kernel.accessAllowed ? 'block' : 'none';\n",
              "    })();\n",
              "  </script>\n",
              "</div>\n",
              "    </div>\n",
              "  </div>\n"
            ]
          },
          "metadata": {},
          "execution_count": 84
        }
      ]
    },
    {
      "cell_type": "code",
      "source": [
        "# Shape of the DataFrame\n",
        "df.shape"
      ],
      "metadata": {
        "colab": {
          "base_uri": "https://localhost:8080/"
        },
        "id": "lCDjDudJuOlx",
        "outputId": "8961e5e7-a0fb-44fd-8876-c9c3e8088724"
      },
      "execution_count": null,
      "outputs": [
        {
          "output_type": "execute_result",
          "data": {
            "text/plain": [
              "(24877, 2)"
            ]
          },
          "metadata": {},
          "execution_count": 85
        }
      ]
    },
    {
      "cell_type": "code",
      "source": [
        "# Genres\n",
        "genres_list = [\n",
        "    str([a.strip() for a in x.split(\",\")])\n",
        "    for x in df[\"genres\"]\n",
        "]\n",
        "\n",
        "genres_list[:5]"
      ],
      "metadata": {
        "id": "VHfo1P_k13-F",
        "colab": {
          "base_uri": "https://localhost:8080/"
        },
        "outputId": "9fe59f73-4e87-4606-a283-5f62aae4b0d0"
      },
      "execution_count": null,
      "outputs": [
        {
          "output_type": "execute_result",
          "data": {
            "text/plain": [
              "[\"['comedy']\",\n",
              " \"['action', 'family', 'fantasy', 'animation']\",\n",
              " \"['Fiction', 'Classics', 'Cultural', 'France', 'European Literature', 'French Literature', 'Literature']\",\n",
              " \"['pop']\",\n",
              " \"['Thriller']\"]"
            ]
          },
          "metadata": {},
          "execution_count": 86
        }
      ]
    },
    {
      "cell_type": "code",
      "source": [
        "df[\"genres\"] = genres_list"
      ],
      "metadata": {
        "id": "m7EbKRQWMGcw"
      },
      "execution_count": null,
      "outputs": []
    },
    {
      "cell_type": "code",
      "source": [
        "df.head()"
      ],
      "metadata": {
        "colab": {
          "base_uri": "https://localhost:8080/",
          "height": 397
        },
        "id": "rbRU9-JPML6j",
        "outputId": "0f124ae9-131a-4c9f-adda-7ed0719d6417"
      },
      "execution_count": null,
      "outputs": [
        {
          "output_type": "execute_result",
          "data": {
            "text/plain": [
              "                                                                                                                                                                                                                                                                                                                                                                                                                                                                                                                                                                                                               description  \\\n",
              "0  Comedy about one big happy family and their sometimes awkward, often hilarious and ultimately beautiful milestone moments as told by its various members.  Of the three siblings, middle child Matt may have just found his true love, his co-worker, Colleen; his coddled youngest brother, Greg, and his wife, Jen, are overwhelmed by the birth of their first child; and the eldest, Heather, and her husband, Tim, are dreading their impending empty nest so much, they're considering having another baby. Their parents are Joan the family's adoring matriarch who would do anything for her kids - as long...   \n",
              "1                                                                                                                                                                                                                                                                                                                                                                                                                                    A crew of kid pirates - leader Jake and pals Izzy and Cubby - and their Never Land adventures as they work to outwit two infamous characters, the one and only Captain Hook and Smee.   \n",
              "2  In the Shadow of Young Girls in Flower is Proust’s spectacular dissection of male and female adolescence, charged with the narrator’s memories of Paris and the Normandy seaside. At the heart of the story lie his relationships with his grandmother and with the Swann family. As a meditation on different forms of love, In the Shadow of Young Girls in Flower has no equal. Here, Proust introduces some of his greatest comic inventions, from the magnificently dull M. de Norpois to the enchanting Robert de Saint-Loup. It is memorable as well for the first appearance of the two figures who for bett...   \n",
              "3  Outside watching as the day slowly fades away\\nHoping that you'll stay right here beside me\\nWrapped around me\\nThe pink galahs are sitting in the trees\\nIn the summer breeze just like you and me\\nThey found each other\\nAnd wn't find another\\n\\nUnderneath two different skies\\nIs where we fall too many times\\nJust close your eyes and they'll collide\\n\\nFollow me and I'l follow you\\nAnd we'll make it through the night\\nFly wherever we want to\\nOnce we reach the other side\\nYou'll find me waiting in the branches\\nFor yu to remind me\\nYou're my pink Galah\\nThe morning sun shining through the p...   \n",
              "4                                                                                                                                                                                                                                                                                                                                                                                       A young man is accused of his ex-girlfriend's murder. Before he is formally charged by the police, he sets out on a two-day odyssey to find the real killer: tracking down his leads from the...                See full summary »   \n",
              "\n",
              "                                                                                                    genres  \n",
              "0                                                                                               ['comedy']  \n",
              "1                                                             ['action', 'family', 'fantasy', 'animation']  \n",
              "2  ['Fiction', 'Classics', 'Cultural', 'France', 'European Literature', 'French Literature', 'Literature']  \n",
              "3                                                                                                  ['pop']  \n",
              "4                                                                                             ['Thriller']  "
            ],
            "text/html": [
              "\n",
              "  <div id=\"df-3a4f5dec-c5af-4221-a874-c8ff90585b8e\" class=\"colab-df-container\">\n",
              "    <div>\n",
              "<style scoped>\n",
              "    .dataframe tbody tr th:only-of-type {\n",
              "        vertical-align: middle;\n",
              "    }\n",
              "\n",
              "    .dataframe tbody tr th {\n",
              "        vertical-align: top;\n",
              "    }\n",
              "\n",
              "    .dataframe thead th {\n",
              "        text-align: right;\n",
              "    }\n",
              "</style>\n",
              "<table border=\"1\" class=\"dataframe\">\n",
              "  <thead>\n",
              "    <tr style=\"text-align: right;\">\n",
              "      <th></th>\n",
              "      <th>description</th>\n",
              "      <th>genres</th>\n",
              "    </tr>\n",
              "  </thead>\n",
              "  <tbody>\n",
              "    <tr>\n",
              "      <th>0</th>\n",
              "      <td>Comedy about one big happy family and their sometimes awkward, often hilarious and ultimately beautiful milestone moments as told by its various members.  Of the three siblings, middle child Matt may have just found his true love, his co-worker, Colleen; his coddled youngest brother, Greg, and his wife, Jen, are overwhelmed by the birth of their first child; and the eldest, Heather, and her husband, Tim, are dreading their impending empty nest so much, they're considering having another baby. Their parents are Joan the family's adoring matriarch who would do anything for her kids - as long...</td>\n",
              "      <td>['comedy']</td>\n",
              "    </tr>\n",
              "    <tr>\n",
              "      <th>1</th>\n",
              "      <td>A crew of kid pirates - leader Jake and pals Izzy and Cubby - and their Never Land adventures as they work to outwit two infamous characters, the one and only Captain Hook and Smee.</td>\n",
              "      <td>['action', 'family', 'fantasy', 'animation']</td>\n",
              "    </tr>\n",
              "    <tr>\n",
              "      <th>2</th>\n",
              "      <td>In the Shadow of Young Girls in Flower is Proust’s spectacular dissection of male and female adolescence, charged with the narrator’s memories of Paris and the Normandy seaside. At the heart of the story lie his relationships with his grandmother and with the Swann family. As a meditation on different forms of love, In the Shadow of Young Girls in Flower has no equal. Here, Proust introduces some of his greatest comic inventions, from the magnificently dull M. de Norpois to the enchanting Robert de Saint-Loup. It is memorable as well for the first appearance of the two figures who for bett...</td>\n",
              "      <td>['Fiction', 'Classics', 'Cultural', 'France', 'European Literature', 'French Literature', 'Literature']</td>\n",
              "    </tr>\n",
              "    <tr>\n",
              "      <th>3</th>\n",
              "      <td>Outside watching as the day slowly fades away\\nHoping that you'll stay right here beside me\\nWrapped around me\\nThe pink galahs are sitting in the trees\\nIn the summer breeze just like you and me\\nThey found each other\\nAnd wn't find another\\n\\nUnderneath two different skies\\nIs where we fall too many times\\nJust close your eyes and they'll collide\\n\\nFollow me and I'l follow you\\nAnd we'll make it through the night\\nFly wherever we want to\\nOnce we reach the other side\\nYou'll find me waiting in the branches\\nFor yu to remind me\\nYou're my pink Galah\\nThe morning sun shining through the p...</td>\n",
              "      <td>['pop']</td>\n",
              "    </tr>\n",
              "    <tr>\n",
              "      <th>4</th>\n",
              "      <td>A young man is accused of his ex-girlfriend's murder. Before he is formally charged by the police, he sets out on a two-day odyssey to find the real killer: tracking down his leads from the...                See full summary »</td>\n",
              "      <td>['Thriller']</td>\n",
              "    </tr>\n",
              "  </tbody>\n",
              "</table>\n",
              "</div>\n",
              "    <div class=\"colab-df-buttons\">\n",
              "\n",
              "  <div class=\"colab-df-container\">\n",
              "    <button class=\"colab-df-convert\" onclick=\"convertToInteractive('df-3a4f5dec-c5af-4221-a874-c8ff90585b8e')\"\n",
              "            title=\"Convert this dataframe to an interactive table.\"\n",
              "            style=\"display:none;\">\n",
              "\n",
              "  <svg xmlns=\"http://www.w3.org/2000/svg\" height=\"24px\" viewBox=\"0 -960 960 960\">\n",
              "    <path d=\"M120-120v-720h720v720H120Zm60-500h600v-160H180v160Zm220 220h160v-160H400v160Zm0 220h160v-160H400v160ZM180-400h160v-160H180v160Zm440 0h160v-160H620v160ZM180-180h160v-160H180v160Zm440 0h160v-160H620v160Z\"/>\n",
              "  </svg>\n",
              "    </button>\n",
              "\n",
              "  <style>\n",
              "    .colab-df-container {\n",
              "      display:flex;\n",
              "      gap: 12px;\n",
              "    }\n",
              "\n",
              "    .colab-df-convert {\n",
              "      background-color: #E8F0FE;\n",
              "      border: none;\n",
              "      border-radius: 50%;\n",
              "      cursor: pointer;\n",
              "      display: none;\n",
              "      fill: #1967D2;\n",
              "      height: 32px;\n",
              "      padding: 0 0 0 0;\n",
              "      width: 32px;\n",
              "    }\n",
              "\n",
              "    .colab-df-convert:hover {\n",
              "      background-color: #E2EBFA;\n",
              "      box-shadow: 0px 1px 2px rgba(60, 64, 67, 0.3), 0px 1px 3px 1px rgba(60, 64, 67, 0.15);\n",
              "      fill: #174EA6;\n",
              "    }\n",
              "\n",
              "    .colab-df-buttons div {\n",
              "      margin-bottom: 4px;\n",
              "    }\n",
              "\n",
              "    [theme=dark] .colab-df-convert {\n",
              "      background-color: #3B4455;\n",
              "      fill: #D2E3FC;\n",
              "    }\n",
              "\n",
              "    [theme=dark] .colab-df-convert:hover {\n",
              "      background-color: #434B5C;\n",
              "      box-shadow: 0px 1px 3px 1px rgba(0, 0, 0, 0.15);\n",
              "      filter: drop-shadow(0px 1px 2px rgba(0, 0, 0, 0.3));\n",
              "      fill: #FFFFFF;\n",
              "    }\n",
              "  </style>\n",
              "\n",
              "    <script>\n",
              "      const buttonEl =\n",
              "        document.querySelector('#df-3a4f5dec-c5af-4221-a874-c8ff90585b8e button.colab-df-convert');\n",
              "      buttonEl.style.display =\n",
              "        google.colab.kernel.accessAllowed ? 'block' : 'none';\n",
              "\n",
              "      async function convertToInteractive(key) {\n",
              "        const element = document.querySelector('#df-3a4f5dec-c5af-4221-a874-c8ff90585b8e');\n",
              "        const dataTable =\n",
              "          await google.colab.kernel.invokeFunction('convertToInteractive',\n",
              "                                                    [key], {});\n",
              "        if (!dataTable) return;\n",
              "\n",
              "        const docLinkHtml = 'Like what you see? Visit the ' +\n",
              "          '<a target=\"_blank\" href=https://colab.research.google.com/notebooks/data_table.ipynb>data table notebook</a>'\n",
              "          + ' to learn more about interactive tables.';\n",
              "        element.innerHTML = '';\n",
              "        dataTable['output_type'] = 'display_data';\n",
              "        await google.colab.output.renderOutput(dataTable, element);\n",
              "        const docLink = document.createElement('div');\n",
              "        docLink.innerHTML = docLinkHtml;\n",
              "        element.appendChild(docLink);\n",
              "      }\n",
              "    </script>\n",
              "  </div>\n",
              "\n",
              "\n",
              "<div id=\"df-7fe1c860-7f75-4f34-b5c6-9c320ad3cf9f\">\n",
              "  <button class=\"colab-df-quickchart\" onclick=\"quickchart('df-7fe1c860-7f75-4f34-b5c6-9c320ad3cf9f')\"\n",
              "            title=\"Suggest charts.\"\n",
              "            style=\"display:none;\">\n",
              "\n",
              "<svg xmlns=\"http://www.w3.org/2000/svg\" height=\"24px\"viewBox=\"0 0 24 24\"\n",
              "     width=\"24px\">\n",
              "    <g>\n",
              "        <path d=\"M19 3H5c-1.1 0-2 .9-2 2v14c0 1.1.9 2 2 2h14c1.1 0 2-.9 2-2V5c0-1.1-.9-2-2-2zM9 17H7v-7h2v7zm4 0h-2V7h2v10zm4 0h-2v-4h2v4z\"/>\n",
              "    </g>\n",
              "</svg>\n",
              "  </button>\n",
              "\n",
              "<style>\n",
              "  .colab-df-quickchart {\n",
              "      --bg-color: #E8F0FE;\n",
              "      --fill-color: #1967D2;\n",
              "      --hover-bg-color: #E2EBFA;\n",
              "      --hover-fill-color: #174EA6;\n",
              "      --disabled-fill-color: #AAA;\n",
              "      --disabled-bg-color: #DDD;\n",
              "  }\n",
              "\n",
              "  [theme=dark] .colab-df-quickchart {\n",
              "      --bg-color: #3B4455;\n",
              "      --fill-color: #D2E3FC;\n",
              "      --hover-bg-color: #434B5C;\n",
              "      --hover-fill-color: #FFFFFF;\n",
              "      --disabled-bg-color: #3B4455;\n",
              "      --disabled-fill-color: #666;\n",
              "  }\n",
              "\n",
              "  .colab-df-quickchart {\n",
              "    background-color: var(--bg-color);\n",
              "    border: none;\n",
              "    border-radius: 50%;\n",
              "    cursor: pointer;\n",
              "    display: none;\n",
              "    fill: var(--fill-color);\n",
              "    height: 32px;\n",
              "    padding: 0;\n",
              "    width: 32px;\n",
              "  }\n",
              "\n",
              "  .colab-df-quickchart:hover {\n",
              "    background-color: var(--hover-bg-color);\n",
              "    box-shadow: 0 1px 2px rgba(60, 64, 67, 0.3), 0 1px 3px 1px rgba(60, 64, 67, 0.15);\n",
              "    fill: var(--button-hover-fill-color);\n",
              "  }\n",
              "\n",
              "  .colab-df-quickchart-complete:disabled,\n",
              "  .colab-df-quickchart-complete:disabled:hover {\n",
              "    background-color: var(--disabled-bg-color);\n",
              "    fill: var(--disabled-fill-color);\n",
              "    box-shadow: none;\n",
              "  }\n",
              "\n",
              "  .colab-df-spinner {\n",
              "    border: 2px solid var(--fill-color);\n",
              "    border-color: transparent;\n",
              "    border-bottom-color: var(--fill-color);\n",
              "    animation:\n",
              "      spin 1s steps(1) infinite;\n",
              "  }\n",
              "\n",
              "  @keyframes spin {\n",
              "    0% {\n",
              "      border-color: transparent;\n",
              "      border-bottom-color: var(--fill-color);\n",
              "      border-left-color: var(--fill-color);\n",
              "    }\n",
              "    20% {\n",
              "      border-color: transparent;\n",
              "      border-left-color: var(--fill-color);\n",
              "      border-top-color: var(--fill-color);\n",
              "    }\n",
              "    30% {\n",
              "      border-color: transparent;\n",
              "      border-left-color: var(--fill-color);\n",
              "      border-top-color: var(--fill-color);\n",
              "      border-right-color: var(--fill-color);\n",
              "    }\n",
              "    40% {\n",
              "      border-color: transparent;\n",
              "      border-right-color: var(--fill-color);\n",
              "      border-top-color: var(--fill-color);\n",
              "    }\n",
              "    60% {\n",
              "      border-color: transparent;\n",
              "      border-right-color: var(--fill-color);\n",
              "    }\n",
              "    80% {\n",
              "      border-color: transparent;\n",
              "      border-right-color: var(--fill-color);\n",
              "      border-bottom-color: var(--fill-color);\n",
              "    }\n",
              "    90% {\n",
              "      border-color: transparent;\n",
              "      border-bottom-color: var(--fill-color);\n",
              "    }\n",
              "  }\n",
              "</style>\n",
              "\n",
              "  <script>\n",
              "    async function quickchart(key) {\n",
              "      const quickchartButtonEl =\n",
              "        document.querySelector('#' + key + ' button');\n",
              "      quickchartButtonEl.disabled = true;  // To prevent multiple clicks.\n",
              "      quickchartButtonEl.classList.add('colab-df-spinner');\n",
              "      try {\n",
              "        const charts = await google.colab.kernel.invokeFunction(\n",
              "            'suggestCharts', [key], {});\n",
              "      } catch (error) {\n",
              "        console.error('Error during call to suggestCharts:', error);\n",
              "      }\n",
              "      quickchartButtonEl.classList.remove('colab-df-spinner');\n",
              "      quickchartButtonEl.classList.add('colab-df-quickchart-complete');\n",
              "    }\n",
              "    (() => {\n",
              "      let quickchartButtonEl =\n",
              "        document.querySelector('#df-7fe1c860-7f75-4f34-b5c6-9c320ad3cf9f button');\n",
              "      quickchartButtonEl.style.display =\n",
              "        google.colab.kernel.accessAllowed ? 'block' : 'none';\n",
              "    })();\n",
              "  </script>\n",
              "</div>\n",
              "    </div>\n",
              "  </div>\n"
            ]
          },
          "metadata": {},
          "execution_count": 88
        }
      ]
    },
    {
      "cell_type": "code",
      "source": [
        "genres_list = df[\"genres\"].to_list()\n",
        "genres_count = {}\n",
        "\n",
        "for genres in genres_list:\n",
        "  try:\n",
        "    genre_list = eval(genres)\n",
        "\n",
        "    for genre in genre_list:\n",
        "      if genre in genres_count.keys():\n",
        "        genres_count[genre] += 1\n",
        "      else:\n",
        "        genres_count[genre] = 1\n",
        "  except:\n",
        "    continue"
      ],
      "metadata": {
        "id": "ACuryChpwnTQ"
      },
      "execution_count": null,
      "outputs": []
    },
    {
      "cell_type": "code",
      "source": [
        "print(\"Total Number of Genres: \", len(genres_count))\n",
        "\n",
        "sorted_genres_count = dict(sorted(genres_count.items(), key=lambda item: item[1], reverse=True))\n",
        "print(\"Individual Genres Count: \\n\", sorted_genres_count)"
      ],
      "metadata": {
        "colab": {
          "base_uri": "https://localhost:8080/"
        },
        "id": "gHoOnOWDxTEZ",
        "outputId": "42d9d9c8-0691-417d-907c-9a3f43379c05"
      },
      "execution_count": null,
      "outputs": [
        {
          "output_type": "stream",
          "name": "stdout",
          "text": [
            "Total Number of Genres:  692\n",
            "Individual Genres Count: \n",
            " {'Fantasy': 4445, 'Action': 4365, 'Adventure': 3978, 'Romance': 3745, 'Indie': 3180, 'Drama': 2957, 'Fiction': 2919, 'Comedy': 2754, 'Casual': 1875, 'Mystery': 1683, 'Historical': 1264, 'Nonfiction': 1223, 'Young Adult': 1215, 'Horror': 1213, 'Sci-Fi': 1156, 'Thriller': 1108, 'Crime': 1036, 'pop': 1004, 'Simulation': 951, 'Strategy': 907, 'comedy': 814, 'Paranormal': 814, 'RPG': 809, 'drama': 767, 'Childrens': 734, 'Contemporary': 716, 'Historical Fiction': 713, 'rap': 695, 'Science Fiction': 694, 'Classics': 594, 'History': 580, 'Supernatural': 552, 'Early Access': 549, 'Cultural': 545, 'Biography': 541, 'rock': 482, 'UNKNOWN': 476, 'Literature': 463, 'Sports': 459, 'Religion': 435, 'animation': 430, 'documentation': 418, 'War': 412, 'Slice of Life': 395, 'Free to Play': 390, 'family': 384, 'Sequential Art': 365, 'Humor': 355, 'action': 348, 'scifi': 347, 'Autobiography': 325, 'reality': 322, 'Family': 313, 'fantasy': 297, 'Hentai': 284, 'Christian': 271, 'Memoir': 268, 'Philosophy': 260, 'romance': 252, 'crime': 249, 'Contemporary Romance': 247, 'Womens Fiction': 242, 'thriller': 240, 'Chick Lit': 238, 'Ecchi': 238, 'misc': 234, 'Short Stories': 232, 'Science': 226, 'Suspense': 225, 'Novels': 206, 'European Literature': 199, 'Middle Grade': 183, 'Self Help': 180, 'Music': 180, 'Avant Garde': 176, 'Paranormal Romance': 173, 'Comics': 173, 'Animation': 170, 'Magic': 167, 'Politics': 165, 'Urban Fantasy': 164, 'Spirituality': 162, 'Erotica': 161, 'Vampires': 161, 'New Adult': 158, 'Animals': 157, 'Graphic Novels': 157, 'Historical Romance': 155, 'Racing': 152, 'Christian Fiction': 150, 'Poetry': 138, 'Adult Fiction': 138, 'Realistic Fiction': 133, 'Psychology': 132, 'Award Winning': 124, 'Dystopia': 116, 'Business': 111, 'Adult': 110, 'history': 109, 'Christianity': 103, 'Mythology': 102, 'Massively Multiplayer': 102, 'Science Fiction Fantasy': 97, 'Writing': 97, 'Lgbt': 94, 'American': 90, 'Picture Books': 87, 'horror': 86, 'european': 85, 'Food and Drink': 83, 'Sociology': 82, 'Travel': 82, 'Health': 79, 'Sports and Games': 79, 'Reference': 79, 'Audiobook': 78, 'country': 77, 'World War II': 77, 'music': 75, 'Epic Fantasy': 75, 'Art': 75, 'sport': 74, 'Military Fiction': 73, 'Shapeshifters': 72, 'British Literature': 71, 'Fairy Tales': 70, 'Musical': 70, 'France': 69, 'Academic': 69, 'Manga': 65, 'rb': 65, 'Mystery Thriller': 64, 'Economics': 61, 'Asian Literature': 60, 'Literary Fiction': 58, 'Theology': 57, 'Sport': 56, 'M M Romance': 56, 'Western': 53, 'Essays': 52, 'Plays': 52, 'Did Not Finish': 51, 'Africa': 51, 'Time Travel': 51, 'Canada': 49, 'African American': 49, 'Boys Love': 48, 'Media Tie In': 48, 'Teen': 48, 'India': 46, 'High Fantasy': 45, 'Biography Memoir': 45, 'war': 45, 'Anthologies': 44, 'Education': 43, 'Feminism': 43, 'Space': 43, 'School': 42, 'Environment': 42, 'Biology': 42, 'Dragons': 41, 'Holiday': 41, 'Graphic Novels Comics': 41, 'Romantic Suspense': 41, 'American History': 40, 'Personal Development': 40, 'Military History': 40, 'Gourmet': 39, 'Westerns': 39, 'Russia': 38, 'North American Hi...': 38, 'Regency': 38, 'Language': 38, 'Film-Noir': 38, 'Glbt': 37, 'Japan': 36, 'Magical Realism': 36, 'Apocalyptic': 36, 'Girls Love': 36, 'Ghosts': 36, 'German Literature': 36, 'Violent': 35, 'Abuse': 35, 'Food': 35, 'True Crime': 35, 'Superheroes': 35, 'Asia': 34, 'Faith': 34, '19th Century': 34, 'Mental Health': 33, 'Abandoned': 33, 'Demons': 33, 'Funny': 33, 'Bdsm': 33, 'Space Opera': 32, 'Christian Living': 32, 'Inspirational': 31, 'Utilities': 30, 'Zombies': 30, 'Japanese Literature': 29, 'Nature': 29, 'Parenting': 29, 'Dark': 28, 'Fairies': 28, 'Werewolves': 28, 'Post Apocalyptic': 28, 'Medieval': 28, 'Christmas': 28, 'Retellings': 27, 'Gothic': 27, 'Steampunk': 27, 'Spy Thriller': 26, 'Cozy Mystery': 26, 'Espionage': 25, 'Anthropology': 25, 'Leadership': 24, 'Angels': 24, 'Comic Book': 24, 'Games': 24, 'Holocaust': 23, 'China': 23, 'Lds': 23, 'Islam': 23, 'Italy': 23, 'Coming Of Age': 22, 'Australia': 22, 'Southern': 22, 'Queer': 22, 'Juvenile': 22, 'Design & Illustration': 21, 'Physics': 21, 'Finance': 21, 'Novella': 21, 'French Literature': 20, 'Detective': 20, 'Military': 20, '20th Century': 20, 'Indian Literature': 19, 'Cooking': 19, 'Erotic Romance': 19, 'Cats': 19, 'Theory': 19, 'Russian Literature': 19, 'Gay': 18, 'Germany': 18, 'Witches': 18, 'western': 18, 'Dc Comics': 18, 'Lesbian': 18, 'Gore': 17, 'Video Production': 17, 'Cookbooks': 17, 'Theatre': 17, 'Christian Romance': 17, 'Ireland': 17, 'Medicine': 16, 'Culture': 16, 'Buddhism': 16, 'Books About Books': 16, 'Humanities': 16, 'Animation & Modeling': 16, 'Noir': 15, 'Horses': 15, 'Victorian': 15, 'College': 15, 'Civil War': 15, 'Jewish': 15, 'Urban': 15, 'Scotland': 15, 'Irish Literature': 15, 'Occult': 15, 'Love': 14, 'Medical': 14, 'Regency Romance': 14, 'Book Club': 14, 'Presidents': 14, 'Relationships': 14, 'Audio Production': 13, 'Womens': 13, 'Evolution': 13, 'Sports Romance': 13, 'Mental Illness': 13, 'Marvel': 13, 'Management': 13, 'Software Training': 12, 'Amish': 12, 'Mathematics': 12, 'Doctor Who': 12, 'Movies': 12, 'Italian Literature': 12, 'Fae': 12, 'Race': 11, 'New York': 11, 'Eastern Africa': 11, 'Menage': 11, 'Northern Africa': 11, 'Neuroscience': 11, 'Design': 11, 'Football': 11, 'Star Wars': 11, 'Catholic': 11, 'Roman': 11, 'Sexuality': 11, 'World War I': 11, 'Political Science': 10, 'Dark Fantasy': 10, 'Film': 10, 'The United States Of America': 10, 'Dogs': 10, 'High School': 10, 'Productivity': 10, 'Historical Mystery': 10, 'European History': 10, 'Aliens': 10, 'Baseball': 10, 'True Story': 10, 'Cyberpunk': 10, 'Category Romance': 10, 'Collections': 10, 'Alternate History': 10, 'Video Games': 10, 'Storytime': 9, 'Survival': 9, 'Mermaids': 9, 'Spanish Literature': 9, 'Lds Fiction': 9, 'Dungeons and Dragons': 9, 'Heroic Fantasy': 9, 'Arthurian': 9, 'Technology': 9, 'Photo Editing': 9, 'Amazon': 9, 'Game Development': 9, 'Astronomy': 8, 'Nudity': 8, 'Esoterica': 8, 'Adoption': 8, 'Chapter Books': 8, 'Pirates': 8, 'Death': 8, 'Christian Non Fiction': 8, 'Currency': 8, 'Money': 8, 'Photography': 8, 'Harlequin': 8, 'Computer Science': 8, 'Criticism': 8, 'Hockey': 8, 'Kids': 7, 'Love Story': 7, 'Web Publishing': 7, 'Egypt': 7, 'Forgotten Realms': 7, 'Natural History': 7, 'Southern Gothic': 7, 'Speculative Fiction': 7, 'Church': 7, 'Greece': 7, 'Prayer': 7, 'Portugal': 7, 'Marriage': 7, 'Tv': 7, 'Gender': 7, 'Scandinavian Literature': 7, 'Ancient History': 6, 'Vegan': 6, 'Nutrition': 6, 'Clean Romance': 6, 'Journalism': 6, 'Read For School': 6, 'Sexual Content': 6, 'Southern Africa': 6, 'Lovecraftian': 6, 'Metaphysics': 6, 'Linguistics': 6, 'Young Adult Fantasy': 6, 'English History': 6, 'Tudor Period': 6, 'Disability': 6, 'American Revolution': 6, 'Amish Fiction': 6, 'Bande Dessinée': 6, 'Aviation': 6, 'Atheism': 6, 'Judaism': 6, 'Polish Literature': 6, 'New Age': 6, 'Swedish Literature': 6, 'Entrepreneurship': 5, 'Canadian Literature': 5, 'Social Issues': 5, 'South Africa': 5, 'Iran': 5, 'Martial Arts': 5, 'Family Law': 5, 'Fostering': 5, 'Art History': 5, 'Psychological Thriller': 5, 'Poland': 5, 'Western Africa': 5, 'Legal Thriller': 5, 'Biblical Fiction': 5, 'Futuristic': 5, 'Literary Criticism': 5, 'Sword and Sorcery': 5, 'Young Adult Contemporary': 5, 'Portuguese Literature': 5, 'Historical Fantasy': 5, 'Light Novel': 5, 'World History': 4, 'Beauty and The Beast': 4, 'Classic Literature': 4, 'Kenya': 4, 'Witchcraft': 4, 'Time Travel Romance': 4, 'Young Adult Historical Fiction': 4, 'Interracial Romance': 4, 'African American Literature': 4, 'Science Fiction Romance': 4, 'Nobel Prize': 4, 'Medieval History': 4, 'Batman': 4, 'Communication': 4, 'Gay Romance': 4, 'Gay For You': 4, 'Wolves': 4, 'Comic Strips': 4, 'Research': 4, 'Romantic': 4, '18th Century': 4, 'Comics Manga': 4, 'Role Playing Games': 4, 'Gaming': 4, 'Teaching': 4, 'African Literature': 4, 'Unfinished': 4, 'Turkish Literature': 4, 'Sudan': 4, 'Lesbian Romance': 4, 'Lesbian Fiction': 4, 'Love Inspired': 4, 'English Literature': 4, 'Shojo': 4, 'Superman': 4, 'Social Science': 4, 'Fitness': 4, 'Western Romance': 4, 'Computers': 3, 'Gay Fiction': 3, 'Activism': 3, 'Diets': 3, 'Paganism': 3, 'Spain': 3, 'Russian History': 3, 'School Stories': 3, 'Boarding School': 3, 'Couture': 3, 'Fashion': 3, 'Road Trip': 3, 'Combat': 3, 'Astrology': 3, 'Polyamorous': 3, '16th Century': 3, 'Soccer': 3, 'Emergency Services': 3, 'Popular Science': 3, 'Finnish Literature': 3, 'Punk': 3, 'Banned Books': 3, 'Warfare': 3, 'Fighters': 3, 'Rwanda': 3, 'Latin American': 3, '21st Century': 3, 'Comix': 3, 'Turkish': 3, 'X Men': 3, 'Fairy Tale Retellings': 3, 'Modern': 3, 'Israel': 3, 'Anime': 3, 'Christian Fantasy': 3, 'Terrorism': 3, 'Pop Culture': 3, 'Pulp': 3, 'Polyamory': 3, 'Law': 3, 'Weird Fiction': 3, 'Komik': 3, 'Transport': 2, 'Hinduism': 2, '10th Century': 2, 'Society': 2, 'Epic': 2, 'Firefighters': 2, 'Paranormal Mystery': 2, 'Engineering': 2, 'Genetics': 2, 'Futurism': 2, 'Modern Classics': 2, 'Transgender': 2, 'Psychoanalysis': 2, 'Plants': 2, 'Gardening': 2, 'Ecology': 2, 'Romanian Literature': 2, 'Young Readers': 2, 'United States': 2, 'Animal Fiction': 2, 'Architecture': 2, 'Murder Mystery': 2, 'Art Design': 2, 'Technical': 2, 'Divination': 2, 'Wicca': 2, 'Magick': 2, 'History Of Science': 2, 'Fan Fiction': 2, 'Greek Mythology': 2, 'American Civil War': 2, 'Travelogue': 2, 'Chinese Literature': 2, 'World Of Warcraft': 2, 'Mixed Martial Arts': 2, 'Zimbabwe': 2, 'Halloween': 2, 'Sweden': 2, 'Czech Literature': 2, 'Drawing': 2, 'Ancient': 2, 'Ethiopia': 2, 'Ghost Stories': 2, 'Zen': 2, 'Counselling': 2, '2nd Grade': 2, 'Number': 2, 'Brain': 2, 'Government': 2, 'International Relations': 2, 'Chemistry': 2, 'Musicals': 2, 'Basketball': 2, 'Pakistan': 2, 'Fantasy Romance': 2, 'American Fiction': 2, '40k': 2, 'Hungary': 2, 'Art and Photography': 2, 'Psychiatry': 2, 'Cities': 2, 'Female Authors': 2, 'Social Movements': 2, 'Social Justice': 2, 'Christian Historical Fiction': 2, 'Yaoi': 2, 'Rabbits': 1, 'Internet': 1, 'Motorcycle': 1, 'Alternative Medicine': 1, 'Reality-TV': 1, 'Dutch Literature': 1, 'Tasmania': 1, 'Agriculture': 1, 'Splatterpunk': 1, 'Hugo Awards': 1, 'Church History': 1, 'American Revolutionary War': 1, 'Short Story Collection': 1, 'Personal Finance': 1, 'World Of Darkness': 1, 'Brazil': 1, 'Romania': 1, 'Ivory Coast': 1, 'Rock N Roll': 1, 'Musicians': 1, 'Star Trek': 1, 'Usability': 1, 'Website Design': 1, 'Americana': 1, 'Marathi': 1, 'Tarot': 1, 'Tea': 1, 'Game Design': 1, 'Dying Earth': 1, 'French Revolution': 1, 'Archaeology': 1, 'Young Adult Romance': 1, 'Weird West': 1, 'Illness': 1, 'Serbian Literature': 1, 'Love Inspired Historical': 1, 'Maritime': 1, 'Chess': 1, 'Colouring Books': 1, 'Indonesian Literature': 1, 'Geology': 1, 'Academia': 1, 'Warcraft': 1, 'Mmorpg': 1, 'Prehistory': 1, 'Vegetarian': 1, 'Cultural Studies': 1, 'Queer Studies': 1, 'How To': 1, 'Liberia': 1, 'Military Science Fiction': 1, 'Dragonlance': 1, 'Thelema': 1, 'Us Presidents': 1, 'Aircraft': 1, 'Social': 1, 'Scandinavian Lite...': 1, 'Nordic Noir': 1, 'Birds': 1, 'Field Guides': 1, 'Theosophy': 1, 'Social Media': 1, 'Love Inspired Suspense': 1, '17th Century': 1, 'Gothic Romance': 1, 'Gamebooks': 1, 'Choose Your Own Adventure': 1, 'Mali': 1, 'Nursery Rhymes': 1, 'Reverse Harem': 1, 'God': 1, 'Loveswept': 1, 'Romanovs': 1, 'Jewellery': 1, 'Foodie': 1, 'Judaica': 1, 'Shonen': 1, 'Gnosticism': 1, 'Diary': 1, 'Poverty': 1, 'Earth': 1, 'The World': 1, 'Muslims': 1, 'Mormonism': 1, 'Semiotics': 1, 'Herbs': 1, 'Gods': 1, 'Canon': 1, 'Namibia': 1, 'Museology': 1, 'Museums': 1, 'Accounting': 1, 'Hungarian Literature': 1, 'Harlequin Heartwarming': 1, 'Counting': 1, 'New Testament': 1, 'Dictionaries': 1, 'Webcomic': 1, 'Geography': 1, 'Scripture': 1, 'Gender Studies': 1, 'Crafts': 1, 'Knitting': 1, 'Urban Planning': 1, 'Urbanism': 1, 'Ghana': 1, 'Seinen': 1, 'Biblical': 1, 'Paranormal Urban Fantasy': 1, 'Medievalism': 1, 'Romanticism': 1, 'M M F': 1, 'Programming': 1, 'Software': 1, 'Eastern Philosophy': 1, 'Textbooks': 1, 'New Weird': 1, 'Harlequin Desire': 1, 'African American Romance': 1, '14th Century': 1, 'Plantagenet': 1, 'Climate Change': 1, 'Wonder Woman': 1, 'Cycling': 1, 'Ethnography': 1, 'Alchemy': 1, 'Trivia': 1, 'Aspergers': 1, 'Senegal': 1, 'Guides': 1, 'Ecclesiology': 1, 'Police': 1, 'Adaptations': 1, 'Skepticism': 1, 'Danish': 1, 'Satanism': 1, 'Polygamy': 1}\n"
          ]
        }
      ]
    },
    {
      "cell_type": "markdown",
      "source": [
        "## Removing Rare Genres"
      ],
      "metadata": {
        "id": "zC8lH-ioNYTu"
      }
    },
    {
      "cell_type": "code",
      "source": [
        "int(len(df) * 0.035)"
      ],
      "metadata": {
        "colab": {
          "base_uri": "https://localhost:8080/"
        },
        "id": "6IWEFt1VNr2s",
        "outputId": "743b3cce-6d83-4371-a902-c22d97f9ee3b"
      },
      "execution_count": null,
      "outputs": [
        {
          "output_type": "execute_result",
          "data": {
            "text/plain": [
              "870"
            ]
          },
          "metadata": {},
          "execution_count": 91
        }
      ]
    },
    {
      "cell_type": "code",
      "source": [
        "threshold = int(len(df) * 0.035)\n",
        "\n",
        "rare_genres = [item for item, count in genres_count.items() if count < threshold]\n",
        "\n",
        "print(\"Total Rare Genres: \", len(rare_genres))\n",
        "print(\"Rare Genres: \", rare_genres)"
      ],
      "metadata": {
        "colab": {
          "base_uri": "https://localhost:8080/"
        },
        "id": "hq2Wgh8EMUdn",
        "outputId": "1531ee83-cba2-419b-88f7-0c706d85e0c0"
      },
      "execution_count": null,
      "outputs": [
        {
          "output_type": "stream",
          "name": "stdout",
          "text": [
            "Total Rare Genres:  672\n",
            "Rare Genres:  ['comedy', 'action', 'family', 'fantasy', 'animation', 'Classics', 'Cultural', 'France', 'European Literature', 'French Literature', 'Literature', 'Contemporary', 'Novels', 'Noir', 'Dark', 'Psychology', 'Free to Play', 'scifi', 'Animation', 'RPG', 'Business', 'Entrepreneurship', 'Family', 'Japan', 'Asian Literature', 'Japanese Literature', 'War', 'Historical Fiction', 'rap', 'drama', 'Womens Fiction', 'Chick Lit', 'Racing', 'Early Access', 'History', 'Asia', 'Russia', 'Politics', 'Suspense', 'Violent', 'Gore', 'Supernatural', 'Childrens', 'Picture Books', 'Animals', 'Love', 'Kids', 'Storytime', 'Rabbits', 'rock', 'country', 'Computers', 'Internet', 'Ecchi', 'sport', 'New Adult', 'Sociology', 'Abuse', 'romance', 'UNKNOWN', 'Slice of Life', 'history', 'Paranormal', 'Paranormal Romance', 'Fairies', 'misc', 'Sports', 'documentation', 'Travel', 'Transport', 'Motorcycle', 'Autobiography', 'Memoir', 'Science Fiction', 'Historical Romance', 'Adult', 'Avant Garde', 'Christian', 'Christian Fiction', 'Coming Of Age', 'crime', 'Education', 'Ancient History', 'World History', 'Lgbt', 'High Fantasy', 'Magic', 'Hentai', 'reality', 'Contemporary Romance', 'Love Story', 'Design & Illustration', 'Utilities', 'Mythology', 'Fairy Tales', 'european', 'Biography Memoir', 'Biography', 'Health', 'Medical', 'Self Help', 'Medicine', 'Alternative Medicine', 'Food and Drink', 'Food', 'Gay', 'Gay Fiction', 'Science Fiction Fantasy', 'Middle Grade', 'Literary Fiction', 'World War II', 'Germany', 'Audio Production', 'Software Training', 'Video Production', 'Web Publishing', 'Philosophy', 'Political Science', 'Dystopia', 'Religion', 'India', 'Poetry', 'Academic', 'School', 'Hinduism', 'Shapeshifters', 'Werewolves', 'Short Stories', 'American', 'Musical', 'thriller', 'Canada', 'Canadian Literature', 'Social Issues', 'Activism', 'Christianity', 'Spirituality', 'Faith', 'music', 'North American Hi...', 'American History', 'Science', 'Reality-TV', 'Sport', 'Vegan', 'Nutrition', 'Diets', 'Amish', 'Feminism', 'Detective', 'Writing', 'Essays', 'Clean Romance', 'Beauty and The Beast', 'Regency', 'Retellings', 'Survival', 'Realistic Fiction', 'Boys Love', 'Erotica', 'war', 'Regency Romance', 'Music', 'Award Winning', 'Sequential Art', 'Manga', 'Holocaust', 'Space', 'Space Opera', 'China', 'Indian Literature', 'Epic Fantasy', 'Mathematics', 'Magical Realism', 'Did Not Finish', 'Spy Thriller', 'Espionage', 'Vampires', 'Massively Multiplayer', 'Cookbooks', 'Cooking', 'Leadership', 'Urban Fantasy', 'Mermaids', 'Astronomy', 'Physics', 'Zombies', 'Mental Health', 'Paganism', 'Race', 'Dark Fantasy', 'Adult Fiction', '10th Century', 'New York', 'Apocalyptic', 'Post Apocalyptic', 'Abandoned', 'Demons', 'Angels', 'Erotic Romance', 'Medieval', '19th Century', 'Classic Literature', 'Dragons', 'Humor', 'British Literature', 'Horses', 'Audiobook', 'Funny', 'Journalism', 'Culture', 'Society', 'Buddhism', 'Western', 'Economics', 'Finance', 'Africa', 'Eastern Africa', 'Kenya', 'horror', 'Spanish Literature', 'Spain', 'Time Travel', 'Gothic', 'Victorian', 'True Crime', 'Environment', 'Nature', 'Gourmet', 'Personal Development', 'Graphic Novels', 'Comics', 'Mystery Thriller', 'Art', 'Media Tie In', 'Doctor Who', 'Witchcraft', 'Teen', 'Russian History', 'Plays', 'Theatre', 'Dutch Literature', 'Theology', 'Books About Books', 'Language', 'Bdsm', 'Menage', 'Novella', 'Holiday', 'Christmas', 'Read For School', 'Sexual Content', 'Nudity', 'Time Travel Romance', 'Southern Africa', 'South Africa', 'Graphic Novels Comics', 'Cozy Mystery', 'Witches', 'Inspirational', 'Girls Love', 'M M Romance', 'College', 'Australia', 'Tasmania', 'Lds', 'Lds Fiction', 'Lovecraftian', 'Film', 'Military Fiction', 'School Stories', 'Boarding School', 'The United States Of America', 'Cats', 'Northern Africa', 'Egypt', 'Metaphysics', 'Biology', 'Neuroscience', 'Iran', 'Islam', 'Dungeons and Dragons', 'Forgotten Realms', 'Romantic Suspense', 'Natural History', 'Couture', 'Fashion', 'Humanities', 'Linguistics', 'Anthropology', 'Agriculture', 'Dogs', 'Road Trip', 'High School', 'Movies', 'Young Adult Historical Fiction', 'rb', 'Military History', 'Civil War', 'Combat', 'Martial Arts', 'Southern Gothic', 'Christian Romance', 'Southern', 'Jewish', 'Esoterica', 'Astrology', 'Sports and Games', 'Book Club', 'Young Adult Fantasy', 'Military', 'Productivity', 'Design', 'Historical Mystery', 'Polyamorous', 'Splatterpunk', 'European History', 'English History', 'Tudor Period', '16th Century', 'Womens', 'Theory', 'Italian Literature', 'Football', 'Soccer', 'Hugo Awards', 'Speculative Fiction', 'Interracial Romance', 'African American Literature', 'Superheroes', 'African American', 'Urban', 'Evolution', 'Church', 'Church History', 'Epic', 'Film-Noir', 'Scotland', 'Science Fiction Romance', 'Aliens', 'Glbt', 'Queer', 'Presidents', 'western', 'Parenting', 'Adoption', 'Family Law', 'Fostering', 'Juvenile', 'Chapter Books', 'Emergency Services', 'Firefighters', 'Greece', 'Ghosts', 'German Literature', 'Nobel Prize', 'Baseball', 'Reference', 'Art History', 'Medieval History', 'Heroic Fantasy', 'Relationships', 'Pirates', 'Dc Comics', 'Batman', 'Comic Book', 'Paranormal Mystery', 'Westerns', 'Arthurian', 'Prayer', 'Technology', 'Irish Literature', 'Communication', 'Popular Science', 'Finnish Literature', 'Gay Romance', 'Gay For You', 'Punk', 'Christian Living', 'Wolves', 'True Story', 'Comic Strips', 'Engineering', 'Disability', 'Sports Romance', 'Italy', 'Research', 'Russian Literature', 'Romantic', 'Cyberpunk', 'American Revolution', 'American Revolutionary War', '18th Century', 'Mental Illness', 'Photo Editing', 'Banned Books', 'Warfare', 'Fighters', 'Psychological Thriller', 'Death', 'Rwanda', 'Amish Fiction', 'Marvel', 'Bande Dessinée', 'Comics Manga', 'Latin American', 'Star Wars', 'Christian Non Fiction', 'Portugal', 'Occult', 'Fae', 'Management', 'Short Story Collection', 'Anthologies', 'Genetics', 'Steampunk', 'Lesbian', 'Catholic', 'Futurism', 'Ireland', 'Personal Finance', 'Currency', 'Money', '20th Century', 'Modern Classics', 'Poland', 'Transgender', 'Animation & Modeling', 'Psychoanalysis', 'Plants', 'Gardening', 'Marriage', 'Photography', 'Games', 'Role Playing Games', 'Gaming', 'World Of Darkness', 'Ecology', '21st Century', 'Brazil', 'Category Romance', 'Harlequin', 'Teaching', 'Romanian Literature', 'Romania', 'Aviation', 'Western Africa', 'Ivory Coast', 'African Literature', 'Amazon', 'Rock N Roll', 'Musicians', 'Unfinished', 'Tv', 'Young Readers', 'Collections', 'Game Development', 'Gender', 'Comix', 'Turkish Literature', 'Turkish', 'Legal Thriller', 'Sudan', 'X Men', 'Biblical Fiction', 'United States', 'Animal Fiction', 'Architecture', 'Fairy Tale Retellings', 'Murder Mystery', 'Roman', 'Star Trek', 'Modern', 'Usability', 'Art Design', 'Website Design', 'Computer Science', 'Technical', 'Americana', 'Lesbian Romance', 'Lesbian Fiction', 'Marathi', 'Atheism', 'Alternate History', 'Israel', 'Sexuality', 'Tarot', 'Divination', 'Futuristic', 'Wicca', 'Magick', 'Tea', 'Game Design', 'Video Games', 'Dying Earth', 'French Revolution', 'Judaism', 'Polish Literature', 'World War I', 'Criticism', 'Literary Criticism', 'Archaeology', 'Young Adult Romance', 'History Of Science', 'New Age', 'Weird West', 'Sword and Sorcery', 'Fan Fiction', 'Anime', 'Illness', 'Young Adult Contemporary', 'Greek Mythology', 'Serbian Literature', 'Love Inspired', 'Love Inspired Historical', 'American Civil War', 'Travelogue', 'Maritime', 'Chinese Literature', 'Chess', 'Colouring Books', 'Portuguese Literature', 'Indonesian Literature', 'Christian Fantasy', 'Geology', 'Academia', 'World Of Warcraft', 'Warcraft', 'Mmorpg', 'Prehistory', 'Terrorism', 'Mixed Martial Arts', 'Vegetarian', 'Zimbabwe', 'English Literature', 'Cultural Studies', 'Queer Studies', 'How To', 'Halloween', 'Liberia', 'Military Science Fiction', 'Dragonlance', 'Thelema', 'Us Presidents', 'Aircraft', 'Scandinavian Literature', 'Sweden', 'Swedish Literature', 'Social', 'Scandinavian Lite...', 'Nordic Noir', 'Czech Literature', 'Pop Culture', 'Birds', 'Field Guides', 'Pulp', 'Shojo', 'Drawing', 'Superman', 'Ancient', 'Hockey', 'Ethiopia', 'Theosophy', 'Social Science', 'Social Media', 'Love Inspired Suspense', 'Ghost Stories', 'Polyamory', 'Zen', 'Counselling', '2nd Grade', '17th Century', 'Gothic Romance', 'Fitness', 'Gamebooks', 'Choose Your Own Adventure', 'Number', 'Mali', 'Brain', 'Nursery Rhymes', 'Government', 'International Relations', 'Chemistry', 'Reverse Harem', 'Musicals', 'God', 'Basketball', 'Loveswept', 'Romanovs', 'Jewellery', 'Law', 'Foodie', 'Historical Fantasy', 'Judaica', 'Pakistan', 'Shonen', 'Gnosticism', 'Diary', 'Poverty', 'Fantasy Romance', 'Earth', 'The World', 'Weird Fiction', 'American Fiction', 'Komik', 'Muslims', '40k', 'Mormonism', 'Semiotics', 'Herbs', 'Gods', 'Western Romance', 'Light Novel', 'Canon', 'Namibia', 'Museology', 'Museums', 'Accounting', 'Hungary', 'Hungarian Literature', 'Harlequin Heartwarming', 'Counting', 'New Testament', 'Dictionaries', 'Webcomic', 'Art and Photography', 'Geography', 'Scripture', 'Gender Studies', 'Psychiatry', 'Crafts', 'Knitting', 'Cities', 'Urban Planning', 'Urbanism', 'Female Authors', 'Ghana', 'Seinen', 'Biblical', 'Paranormal Urban Fantasy', 'Medievalism', 'Romanticism', 'M M F', 'Programming', 'Software', 'Eastern Philosophy', 'Textbooks', 'New Weird', 'Harlequin Desire', 'African American Romance', '14th Century', 'Plantagenet', 'Social Movements', 'Social Justice', 'Climate Change', 'Wonder Woman', 'Cycling', 'Ethnography', 'Alchemy', 'Trivia', 'Aspergers', 'Christian Historical Fiction', 'Senegal', 'Guides', 'Ecclesiology', 'Police', 'Adaptations', 'Yaoi', 'Skepticism', 'Danish', 'Satanism', 'Polygamy']\n"
          ]
        }
      ]
    },
    {
      "cell_type": "code",
      "source": [
        "genres_list = df[\"genres\"].to_list()\n",
        "revised_genre_list = []\n",
        "indices_to_drop = []\n",
        "\n",
        "for idx, genres in enumerate(genres_list):\n",
        "  try:\n",
        "    genre_list = eval(genres)\n",
        "    revised_genres = []\n",
        "\n",
        "    for genre in genre_list:\n",
        "      if genre not in rare_genres:\n",
        "        revised_genres.append(genre)\n",
        "\n",
        "    if len(revised_genres) == 0:\n",
        "      indices_to_drop.append(idx)\n",
        "    else:\n",
        "      revised_genres_set = set(revised_genres)\n",
        "      revised_genre_list.append(list(revised_genres_set))\n",
        "  except:\n",
        "    indices_to_drop.append(idx)"
      ],
      "metadata": {
        "id": "VX22DKOnNdSt"
      },
      "execution_count": null,
      "outputs": []
    },
    {
      "cell_type": "code",
      "source": [
        "df = df.drop(indices_to_drop).reset_index(drop=True)\n",
        "df.shape"
      ],
      "metadata": {
        "colab": {
          "base_uri": "https://localhost:8080/"
        },
        "id": "lCH75MV3OOqB",
        "outputId": "2d8b6fda-9e9d-4b82-bad2-bac11b1bd032"
      },
      "execution_count": null,
      "outputs": [
        {
          "output_type": "execute_result",
          "data": {
            "text/plain": [
              "(19623, 2)"
            ]
          },
          "metadata": {},
          "execution_count": 94
        }
      ]
    },
    {
      "cell_type": "code",
      "source": [
        "df[\"revised_genres\"] = revised_genre_list"
      ],
      "metadata": {
        "id": "vgIziVEyOR9E"
      },
      "execution_count": null,
      "outputs": []
    },
    {
      "cell_type": "code",
      "source": [
        "revised_genres_list = df[\"revised_genres\"].to_list()\n",
        "revised_genre_count = {}\n",
        "\n",
        "for genres in revised_genres_list:\n",
        "  genre_list = genres\n",
        "\n",
        "  for genre in genre_list:\n",
        "    if genre in revised_genre_count.keys():\n",
        "      revised_genre_count[genre] += 1\n",
        "    else:\n",
        "      revised_genre_count[genre] = 1"
      ],
      "metadata": {
        "id": "QC1O4r2aW0Sp"
      },
      "execution_count": null,
      "outputs": []
    },
    {
      "cell_type": "code",
      "source": [
        "print(\"Total Number of Revised Genres: \", len(revised_genre_count))\n",
        "\n",
        "sorted_revised_genre_count = dict(sorted(revised_genre_count.items(), key=lambda item: item[1], reverse=True))\n",
        "print(\"Individual Revised Genres Count: \\n\", sorted_revised_genre_count)"
      ],
      "metadata": {
        "colab": {
          "base_uri": "https://localhost:8080/"
        },
        "id": "nkFJdf7fW2Ew",
        "outputId": "054f430a-6a92-4d94-906a-b136cb7cae25"
      },
      "execution_count": null,
      "outputs": [
        {
          "output_type": "stream",
          "name": "stdout",
          "text": [
            "Total Number of Revised Genres:  20\n",
            "Individual Revised Genres Count: \n",
            " {'Action': 4365, 'Adventure': 3966, 'Fantasy': 3420, 'Indie': 3180, 'Romance': 3080, 'Drama': 2957, 'Fiction': 2919, 'Comedy': 2754, 'Casual': 1875, 'Mystery': 1422, 'Nonfiction': 1223, 'Horror': 1181, 'Sci-Fi': 1156, 'Young Adult': 1132, 'Thriller': 1049, 'Crime': 1012, 'pop': 1004, 'Simulation': 951, 'Strategy': 907, 'Historical': 818}\n"
          ]
        }
      ]
    },
    {
      "cell_type": "code",
      "source": [
        "encode_genre_types = { key: idx for idx, (key, value) in enumerate(revised_genre_count.items())}\n",
        "\n",
        "with open(\"genre_types_encoded.json\", \"w\") as fp:\n",
        "  json.dump(encode_genre_types, fp)"
      ],
      "metadata": {
        "id": "7iaV1ERaW4L9"
      },
      "execution_count": null,
      "outputs": []
    },
    {
      "cell_type": "code",
      "source": [
        "encode_genre_types"
      ],
      "metadata": {
        "colab": {
          "base_uri": "https://localhost:8080/"
        },
        "id": "qSAoos5aXBKD",
        "outputId": "21070fce-ce43-446b-ebd6-19faf4e4aea6"
      },
      "execution_count": null,
      "outputs": [
        {
          "output_type": "execute_result",
          "data": {
            "text/plain": [
              "{'Fiction': 0,\n",
              " 'pop': 1,\n",
              " 'Thriller': 2,\n",
              " 'Mystery': 3,\n",
              " 'Crime': 4,\n",
              " 'Drama': 5,\n",
              " 'Indie': 6,\n",
              " 'Action': 7,\n",
              " 'Adventure': 8,\n",
              " 'Romance': 9,\n",
              " 'Casual': 10,\n",
              " 'Comedy': 11,\n",
              " 'Strategy': 12,\n",
              " 'Simulation': 13,\n",
              " 'Historical': 14,\n",
              " 'Sci-Fi': 15,\n",
              " 'Nonfiction': 16,\n",
              " 'Horror': 17,\n",
              " 'Fantasy': 18,\n",
              " 'Young Adult': 19}"
            ]
          },
          "metadata": {},
          "execution_count": 99
        }
      ]
    },
    {
      "cell_type": "code",
      "source": [
        "# We need this because for multilabel classification all genres have possibility to be present in the predictions\n",
        "categorical_genre_list = []\n",
        "revised_genres_list = df[\"revised_genres\"].to_list()\n",
        "\n",
        "for revised_genres in revised_genres_list:\n",
        "  categorical_list = [0] * len(encode_genre_types)\n",
        "\n",
        "  for genre in revised_genres:\n",
        "    if genre in encode_genre_types:\n",
        "      genre_type_index = encode_genre_types[genre]\n",
        "      categorical_list[genre_type_index] = 1\n",
        "\n",
        "  categorical_genre_list.append(categorical_list)\n",
        "\n",
        "categorical_genre_list[2][:20]"
      ],
      "metadata": {
        "colab": {
          "base_uri": "https://localhost:8080/"
        },
        "id": "7dSr-C5PXC2s",
        "outputId": "bd4682a9-143f-41d3-950d-bac0f571a79e"
      },
      "execution_count": null,
      "outputs": [
        {
          "output_type": "execute_result",
          "data": {
            "text/plain": [
              "[0, 0, 1, 0, 0, 0, 0, 0, 0, 0, 0, 0, 0, 0, 0, 0, 0, 0, 0, 0]"
            ]
          },
          "metadata": {},
          "execution_count": 100
        }
      ]
    },
    {
      "cell_type": "code",
      "source": [
        "df[\"genre_cat_list\"] = categorical_genre_list"
      ],
      "metadata": {
        "id": "4bZ8XhRpXXy-"
      },
      "execution_count": null,
      "outputs": []
    },
    {
      "cell_type": "code",
      "source": [
        "df.head()"
      ],
      "metadata": {
        "colab": {
          "base_uri": "https://localhost:8080/",
          "height": 467
        },
        "id": "B1c6fYFLXt5-",
        "outputId": "cbbbb6ef-a63d-4154-d8cf-caa8e900ce0b"
      },
      "execution_count": null,
      "outputs": [
        {
          "output_type": "execute_result",
          "data": {
            "text/plain": [
              "                                                                                                                                                                                                                                                                                                                                                                                                                                                                                                                                                                                                               description  \\\n",
              "0  In the Shadow of Young Girls in Flower is Proust’s spectacular dissection of male and female adolescence, charged with the narrator’s memories of Paris and the Normandy seaside. At the heart of the story lie his relationships with his grandmother and with the Swann family. As a meditation on different forms of love, In the Shadow of Young Girls in Flower has no equal. Here, Proust introduces some of his greatest comic inventions, from the magnificently dull M. de Norpois to the enchanting Robert de Saint-Loup. It is memorable as well for the first appearance of the two figures who for bett...   \n",
              "1  Outside watching as the day slowly fades away\\nHoping that you'll stay right here beside me\\nWrapped around me\\nThe pink galahs are sitting in the trees\\nIn the summer breeze just like you and me\\nThey found each other\\nAnd wn't find another\\n\\nUnderneath two different skies\\nIs where we fall too many times\\nJust close your eyes and they'll collide\\n\\nFollow me and I'l follow you\\nAnd we'll make it through the night\\nFly wherever we want to\\nOnce we reach the other side\\nYou'll find me waiting in the branches\\nFor yu to remind me\\nYou're my pink Galah\\nThe morning sun shining through the p...   \n",
              "2                                                                                                                                                                                                                                                                                                                                                                                       A young man is accused of his ex-girlfriend's murder. Before he is formally charged by the police, he sets out on a two-day odyssey to find the real killer: tracking down his leads from the...                See full summary »   \n",
              "3                                                                                    John Vincent Dolan is a talented young forger with a proclivity for mathematics and drug addiction. In the face of his impending institutionalization, he continually reinvents himself to escape the legal and mental health authorities and to save himself from a life of incarceration. But running turns out to be costly. Vincent's clients in the L.A. underworld lose patience, the hospital evaluator may not be fooled by his story, and the only person in as much danger as himself is the woman who knows his real name.   \n",
              "4                                                                                                                                                                                                                                                                                                                                                                                                                                                                                            A hit and run victim is operated on by Dr. Fenton (Robert Beatty) who becomes implicated after his patient is later murdered.   \n",
              "\n",
              "                                                                                                                                    genres  \\\n",
              "0                                  ['Fiction', 'Classics', 'Cultural', 'France', 'European Literature', 'French Literature', 'Literature']   \n",
              "1                                                                                                                                  ['pop']   \n",
              "2                                                                                                                             ['Thriller']   \n",
              "3  ['Fiction', 'Thriller', 'Contemporary', 'Novels', 'Mystery', 'Noir', 'Mystery', 'Crime', 'Dark', 'Mystery', 'Literature', 'Psychology']   \n",
              "4                                                                                                                       ['Crime', 'Drama']   \n",
              "\n",
              "                        revised_genres  \\\n",
              "0                            [Fiction]   \n",
              "1                                [pop]   \n",
              "2                           [Thriller]   \n",
              "3  [Fiction, Thriller, Mystery, Crime]   \n",
              "4                       [Drama, Crime]   \n",
              "\n",
              "                                                 genre_cat_list  \n",
              "0  [1, 0, 0, 0, 0, 0, 0, 0, 0, 0, 0, 0, 0, 0, 0, 0, 0, 0, 0, 0]  \n",
              "1  [0, 1, 0, 0, 0, 0, 0, 0, 0, 0, 0, 0, 0, 0, 0, 0, 0, 0, 0, 0]  \n",
              "2  [0, 0, 1, 0, 0, 0, 0, 0, 0, 0, 0, 0, 0, 0, 0, 0, 0, 0, 0, 0]  \n",
              "3  [1, 0, 1, 1, 1, 0, 0, 0, 0, 0, 0, 0, 0, 0, 0, 0, 0, 0, 0, 0]  \n",
              "4  [0, 0, 0, 0, 1, 1, 0, 0, 0, 0, 0, 0, 0, 0, 0, 0, 0, 0, 0, 0]  "
            ],
            "text/html": [
              "\n",
              "  <div id=\"df-90c05620-2e16-44d7-a2e7-df8ec7c45617\" class=\"colab-df-container\">\n",
              "    <div>\n",
              "<style scoped>\n",
              "    .dataframe tbody tr th:only-of-type {\n",
              "        vertical-align: middle;\n",
              "    }\n",
              "\n",
              "    .dataframe tbody tr th {\n",
              "        vertical-align: top;\n",
              "    }\n",
              "\n",
              "    .dataframe thead th {\n",
              "        text-align: right;\n",
              "    }\n",
              "</style>\n",
              "<table border=\"1\" class=\"dataframe\">\n",
              "  <thead>\n",
              "    <tr style=\"text-align: right;\">\n",
              "      <th></th>\n",
              "      <th>description</th>\n",
              "      <th>genres</th>\n",
              "      <th>revised_genres</th>\n",
              "      <th>genre_cat_list</th>\n",
              "    </tr>\n",
              "  </thead>\n",
              "  <tbody>\n",
              "    <tr>\n",
              "      <th>0</th>\n",
              "      <td>In the Shadow of Young Girls in Flower is Proust’s spectacular dissection of male and female adolescence, charged with the narrator’s memories of Paris and the Normandy seaside. At the heart of the story lie his relationships with his grandmother and with the Swann family. As a meditation on different forms of love, In the Shadow of Young Girls in Flower has no equal. Here, Proust introduces some of his greatest comic inventions, from the magnificently dull M. de Norpois to the enchanting Robert de Saint-Loup. It is memorable as well for the first appearance of the two figures who for bett...</td>\n",
              "      <td>['Fiction', 'Classics', 'Cultural', 'France', 'European Literature', 'French Literature', 'Literature']</td>\n",
              "      <td>[Fiction]</td>\n",
              "      <td>[1, 0, 0, 0, 0, 0, 0, 0, 0, 0, 0, 0, 0, 0, 0, 0, 0, 0, 0, 0]</td>\n",
              "    </tr>\n",
              "    <tr>\n",
              "      <th>1</th>\n",
              "      <td>Outside watching as the day slowly fades away\\nHoping that you'll stay right here beside me\\nWrapped around me\\nThe pink galahs are sitting in the trees\\nIn the summer breeze just like you and me\\nThey found each other\\nAnd wn't find another\\n\\nUnderneath two different skies\\nIs where we fall too many times\\nJust close your eyes and they'll collide\\n\\nFollow me and I'l follow you\\nAnd we'll make it through the night\\nFly wherever we want to\\nOnce we reach the other side\\nYou'll find me waiting in the branches\\nFor yu to remind me\\nYou're my pink Galah\\nThe morning sun shining through the p...</td>\n",
              "      <td>['pop']</td>\n",
              "      <td>[pop]</td>\n",
              "      <td>[0, 1, 0, 0, 0, 0, 0, 0, 0, 0, 0, 0, 0, 0, 0, 0, 0, 0, 0, 0]</td>\n",
              "    </tr>\n",
              "    <tr>\n",
              "      <th>2</th>\n",
              "      <td>A young man is accused of his ex-girlfriend's murder. Before he is formally charged by the police, he sets out on a two-day odyssey to find the real killer: tracking down his leads from the...                See full summary »</td>\n",
              "      <td>['Thriller']</td>\n",
              "      <td>[Thriller]</td>\n",
              "      <td>[0, 0, 1, 0, 0, 0, 0, 0, 0, 0, 0, 0, 0, 0, 0, 0, 0, 0, 0, 0]</td>\n",
              "    </tr>\n",
              "    <tr>\n",
              "      <th>3</th>\n",
              "      <td>John Vincent Dolan is a talented young forger with a proclivity for mathematics and drug addiction. In the face of his impending institutionalization, he continually reinvents himself to escape the legal and mental health authorities and to save himself from a life of incarceration. But running turns out to be costly. Vincent's clients in the L.A. underworld lose patience, the hospital evaluator may not be fooled by his story, and the only person in as much danger as himself is the woman who knows his real name.</td>\n",
              "      <td>['Fiction', 'Thriller', 'Contemporary', 'Novels', 'Mystery', 'Noir', 'Mystery', 'Crime', 'Dark', 'Mystery', 'Literature', 'Psychology']</td>\n",
              "      <td>[Fiction, Thriller, Mystery, Crime]</td>\n",
              "      <td>[1, 0, 1, 1, 1, 0, 0, 0, 0, 0, 0, 0, 0, 0, 0, 0, 0, 0, 0, 0]</td>\n",
              "    </tr>\n",
              "    <tr>\n",
              "      <th>4</th>\n",
              "      <td>A hit and run victim is operated on by Dr. Fenton (Robert Beatty) who becomes implicated after his patient is later murdered.</td>\n",
              "      <td>['Crime', 'Drama']</td>\n",
              "      <td>[Drama, Crime]</td>\n",
              "      <td>[0, 0, 0, 0, 1, 1, 0, 0, 0, 0, 0, 0, 0, 0, 0, 0, 0, 0, 0, 0]</td>\n",
              "    </tr>\n",
              "  </tbody>\n",
              "</table>\n",
              "</div>\n",
              "    <div class=\"colab-df-buttons\">\n",
              "\n",
              "  <div class=\"colab-df-container\">\n",
              "    <button class=\"colab-df-convert\" onclick=\"convertToInteractive('df-90c05620-2e16-44d7-a2e7-df8ec7c45617')\"\n",
              "            title=\"Convert this dataframe to an interactive table.\"\n",
              "            style=\"display:none;\">\n",
              "\n",
              "  <svg xmlns=\"http://www.w3.org/2000/svg\" height=\"24px\" viewBox=\"0 -960 960 960\">\n",
              "    <path d=\"M120-120v-720h720v720H120Zm60-500h600v-160H180v160Zm220 220h160v-160H400v160Zm0 220h160v-160H400v160ZM180-400h160v-160H180v160Zm440 0h160v-160H620v160ZM180-180h160v-160H180v160Zm440 0h160v-160H620v160Z\"/>\n",
              "  </svg>\n",
              "    </button>\n",
              "\n",
              "  <style>\n",
              "    .colab-df-container {\n",
              "      display:flex;\n",
              "      gap: 12px;\n",
              "    }\n",
              "\n",
              "    .colab-df-convert {\n",
              "      background-color: #E8F0FE;\n",
              "      border: none;\n",
              "      border-radius: 50%;\n",
              "      cursor: pointer;\n",
              "      display: none;\n",
              "      fill: #1967D2;\n",
              "      height: 32px;\n",
              "      padding: 0 0 0 0;\n",
              "      width: 32px;\n",
              "    }\n",
              "\n",
              "    .colab-df-convert:hover {\n",
              "      background-color: #E2EBFA;\n",
              "      box-shadow: 0px 1px 2px rgba(60, 64, 67, 0.3), 0px 1px 3px 1px rgba(60, 64, 67, 0.15);\n",
              "      fill: #174EA6;\n",
              "    }\n",
              "\n",
              "    .colab-df-buttons div {\n",
              "      margin-bottom: 4px;\n",
              "    }\n",
              "\n",
              "    [theme=dark] .colab-df-convert {\n",
              "      background-color: #3B4455;\n",
              "      fill: #D2E3FC;\n",
              "    }\n",
              "\n",
              "    [theme=dark] .colab-df-convert:hover {\n",
              "      background-color: #434B5C;\n",
              "      box-shadow: 0px 1px 3px 1px rgba(0, 0, 0, 0.15);\n",
              "      filter: drop-shadow(0px 1px 2px rgba(0, 0, 0, 0.3));\n",
              "      fill: #FFFFFF;\n",
              "    }\n",
              "  </style>\n",
              "\n",
              "    <script>\n",
              "      const buttonEl =\n",
              "        document.querySelector('#df-90c05620-2e16-44d7-a2e7-df8ec7c45617 button.colab-df-convert');\n",
              "      buttonEl.style.display =\n",
              "        google.colab.kernel.accessAllowed ? 'block' : 'none';\n",
              "\n",
              "      async function convertToInteractive(key) {\n",
              "        const element = document.querySelector('#df-90c05620-2e16-44d7-a2e7-df8ec7c45617');\n",
              "        const dataTable =\n",
              "          await google.colab.kernel.invokeFunction('convertToInteractive',\n",
              "                                                    [key], {});\n",
              "        if (!dataTable) return;\n",
              "\n",
              "        const docLinkHtml = 'Like what you see? Visit the ' +\n",
              "          '<a target=\"_blank\" href=https://colab.research.google.com/notebooks/data_table.ipynb>data table notebook</a>'\n",
              "          + ' to learn more about interactive tables.';\n",
              "        element.innerHTML = '';\n",
              "        dataTable['output_type'] = 'display_data';\n",
              "        await google.colab.output.renderOutput(dataTable, element);\n",
              "        const docLink = document.createElement('div');\n",
              "        docLink.innerHTML = docLinkHtml;\n",
              "        element.appendChild(docLink);\n",
              "      }\n",
              "    </script>\n",
              "  </div>\n",
              "\n",
              "\n",
              "<div id=\"df-f8f8541f-245b-4118-b54f-4efb7b26ff9c\">\n",
              "  <button class=\"colab-df-quickchart\" onclick=\"quickchart('df-f8f8541f-245b-4118-b54f-4efb7b26ff9c')\"\n",
              "            title=\"Suggest charts.\"\n",
              "            style=\"display:none;\">\n",
              "\n",
              "<svg xmlns=\"http://www.w3.org/2000/svg\" height=\"24px\"viewBox=\"0 0 24 24\"\n",
              "     width=\"24px\">\n",
              "    <g>\n",
              "        <path d=\"M19 3H5c-1.1 0-2 .9-2 2v14c0 1.1.9 2 2 2h14c1.1 0 2-.9 2-2V5c0-1.1-.9-2-2-2zM9 17H7v-7h2v7zm4 0h-2V7h2v10zm4 0h-2v-4h2v4z\"/>\n",
              "    </g>\n",
              "</svg>\n",
              "  </button>\n",
              "\n",
              "<style>\n",
              "  .colab-df-quickchart {\n",
              "      --bg-color: #E8F0FE;\n",
              "      --fill-color: #1967D2;\n",
              "      --hover-bg-color: #E2EBFA;\n",
              "      --hover-fill-color: #174EA6;\n",
              "      --disabled-fill-color: #AAA;\n",
              "      --disabled-bg-color: #DDD;\n",
              "  }\n",
              "\n",
              "  [theme=dark] .colab-df-quickchart {\n",
              "      --bg-color: #3B4455;\n",
              "      --fill-color: #D2E3FC;\n",
              "      --hover-bg-color: #434B5C;\n",
              "      --hover-fill-color: #FFFFFF;\n",
              "      --disabled-bg-color: #3B4455;\n",
              "      --disabled-fill-color: #666;\n",
              "  }\n",
              "\n",
              "  .colab-df-quickchart {\n",
              "    background-color: var(--bg-color);\n",
              "    border: none;\n",
              "    border-radius: 50%;\n",
              "    cursor: pointer;\n",
              "    display: none;\n",
              "    fill: var(--fill-color);\n",
              "    height: 32px;\n",
              "    padding: 0;\n",
              "    width: 32px;\n",
              "  }\n",
              "\n",
              "  .colab-df-quickchart:hover {\n",
              "    background-color: var(--hover-bg-color);\n",
              "    box-shadow: 0 1px 2px rgba(60, 64, 67, 0.3), 0 1px 3px 1px rgba(60, 64, 67, 0.15);\n",
              "    fill: var(--button-hover-fill-color);\n",
              "  }\n",
              "\n",
              "  .colab-df-quickchart-complete:disabled,\n",
              "  .colab-df-quickchart-complete:disabled:hover {\n",
              "    background-color: var(--disabled-bg-color);\n",
              "    fill: var(--disabled-fill-color);\n",
              "    box-shadow: none;\n",
              "  }\n",
              "\n",
              "  .colab-df-spinner {\n",
              "    border: 2px solid var(--fill-color);\n",
              "    border-color: transparent;\n",
              "    border-bottom-color: var(--fill-color);\n",
              "    animation:\n",
              "      spin 1s steps(1) infinite;\n",
              "  }\n",
              "\n",
              "  @keyframes spin {\n",
              "    0% {\n",
              "      border-color: transparent;\n",
              "      border-bottom-color: var(--fill-color);\n",
              "      border-left-color: var(--fill-color);\n",
              "    }\n",
              "    20% {\n",
              "      border-color: transparent;\n",
              "      border-left-color: var(--fill-color);\n",
              "      border-top-color: var(--fill-color);\n",
              "    }\n",
              "    30% {\n",
              "      border-color: transparent;\n",
              "      border-left-color: var(--fill-color);\n",
              "      border-top-color: var(--fill-color);\n",
              "      border-right-color: var(--fill-color);\n",
              "    }\n",
              "    40% {\n",
              "      border-color: transparent;\n",
              "      border-right-color: var(--fill-color);\n",
              "      border-top-color: var(--fill-color);\n",
              "    }\n",
              "    60% {\n",
              "      border-color: transparent;\n",
              "      border-right-color: var(--fill-color);\n",
              "    }\n",
              "    80% {\n",
              "      border-color: transparent;\n",
              "      border-right-color: var(--fill-color);\n",
              "      border-bottom-color: var(--fill-color);\n",
              "    }\n",
              "    90% {\n",
              "      border-color: transparent;\n",
              "      border-bottom-color: var(--fill-color);\n",
              "    }\n",
              "  }\n",
              "</style>\n",
              "\n",
              "  <script>\n",
              "    async function quickchart(key) {\n",
              "      const quickchartButtonEl =\n",
              "        document.querySelector('#' + key + ' button');\n",
              "      quickchartButtonEl.disabled = true;  // To prevent multiple clicks.\n",
              "      quickchartButtonEl.classList.add('colab-df-spinner');\n",
              "      try {\n",
              "        const charts = await google.colab.kernel.invokeFunction(\n",
              "            'suggestCharts', [key], {});\n",
              "      } catch (error) {\n",
              "        console.error('Error during call to suggestCharts:', error);\n",
              "      }\n",
              "      quickchartButtonEl.classList.remove('colab-df-spinner');\n",
              "      quickchartButtonEl.classList.add('colab-df-quickchart-complete');\n",
              "    }\n",
              "    (() => {\n",
              "      let quickchartButtonEl =\n",
              "        document.querySelector('#df-f8f8541f-245b-4118-b54f-4efb7b26ff9c button');\n",
              "      quickchartButtonEl.style.display =\n",
              "        google.colab.kernel.accessAllowed ? 'block' : 'none';\n",
              "    })();\n",
              "  </script>\n",
              "</div>\n",
              "    </div>\n",
              "  </div>\n"
            ]
          },
          "metadata": {},
          "execution_count": 102
        }
      ]
    },
    {
      "cell_type": "code",
      "source": [
        "# Drop Duplicate Summary from the DataFrame\n",
        "df = df.drop_duplicates(subset = \"description\", keep='first')"
      ],
      "metadata": {
        "id": "taauWLthXuxG"
      },
      "execution_count": null,
      "outputs": []
    },
    {
      "cell_type": "code",
      "source": [
        "# Drop Genres Column\n",
        "df.drop([\"genres\"], axis = 1, inplace = True)"
      ],
      "metadata": {
        "id": "0lBGJKwiX8-p"
      },
      "execution_count": null,
      "outputs": []
    },
    {
      "cell_type": "code",
      "source": [
        "df = df.dropna().reset_index(drop=True)"
      ],
      "metadata": {
        "id": "mwpu-mzlYA-H"
      },
      "execution_count": null,
      "outputs": []
    },
    {
      "cell_type": "code",
      "source": [
        "df.isna().sum()"
      ],
      "metadata": {
        "colab": {
          "base_uri": "https://localhost:8080/"
        },
        "id": "gYuvqs76YCbV",
        "outputId": "bc885062-7ddf-4bd0-bba3-319abfcfd4ed"
      },
      "execution_count": null,
      "outputs": [
        {
          "output_type": "execute_result",
          "data": {
            "text/plain": [
              "description       0\n",
              "revised_genres    0\n",
              "genre_cat_list    0\n",
              "dtype: int64"
            ]
          },
          "metadata": {},
          "execution_count": 106
        }
      ]
    },
    {
      "cell_type": "code",
      "source": [
        "# Shuffle DataFrame\n",
        "df = df.sample(frac=1, random_state=42).reset_index(drop=True)"
      ],
      "metadata": {
        "id": "D1MI7-jAYDjd"
      },
      "execution_count": null,
      "outputs": []
    },
    {
      "cell_type": "code",
      "source": [
        "# Description of The DataFrame\n",
        "df.describe(include=\"object\")"
      ],
      "metadata": {
        "colab": {
          "base_uri": "https://localhost:8080/",
          "height": 227
        },
        "id": "tBkOC_F4YGJG",
        "outputId": "27f09e86-3453-4e53-ccbb-f8aeedc2feec"
      },
      "execution_count": null,
      "outputs": [
        {
          "output_type": "execute_result",
          "data": {
            "text/plain": [
              "                                                                                                                                                                                                                                                                                                                                                                                                                                                                                                                                                                                                                    description  \\\n",
              "count                                                                                                                                                                                                                                                                                                                                                                                                                                                                                                                                                                                                                     19623   \n",
              "unique                                                                                                                                                                                                                                                                                                                                                                                                                                                                                                                                                                                                                    19623   \n",
              "top     Greetings potential test subject I'm a friendly astronaut studying the Hum species' and its ability to reverse gravity. Instead of jumping, it switches the direction of gravity to fall from the floor to the ceiling. Interestingly, it can only do this when it is standing on a surface or has just ran off one. To conduct my studies, I've formulated cookies that are both irresistible to a Hum and teleport it to the next experiment. I've also created nanobots to test the subject's intelligence. These are basic obstacles like a patrolling blade, a falling box, or a quad-directional laser blaster...   \n",
              "freq                                                                                                                                                                                                                                                                                                                                                                                                                                                                                                                                                                                                                          1   \n",
              "\n",
              "       revised_genres  \\\n",
              "count           19623   \n",
              "unique            586   \n",
              "top      [Nonfiction]   \n",
              "freq             1092   \n",
              "\n",
              "                                                      genre_cat_list  \n",
              "count                                                          19623  \n",
              "unique                                                           571  \n",
              "top     [0, 0, 0, 0, 0, 0, 0, 0, 0, 0, 0, 0, 0, 0, 0, 0, 1, 0, 0, 0]  \n",
              "freq                                                            1092  "
            ],
            "text/html": [
              "\n",
              "  <div id=\"df-881953da-5f47-4212-8bab-7c9fad679b55\" class=\"colab-df-container\">\n",
              "    <div>\n",
              "<style scoped>\n",
              "    .dataframe tbody tr th:only-of-type {\n",
              "        vertical-align: middle;\n",
              "    }\n",
              "\n",
              "    .dataframe tbody tr th {\n",
              "        vertical-align: top;\n",
              "    }\n",
              "\n",
              "    .dataframe thead th {\n",
              "        text-align: right;\n",
              "    }\n",
              "</style>\n",
              "<table border=\"1\" class=\"dataframe\">\n",
              "  <thead>\n",
              "    <tr style=\"text-align: right;\">\n",
              "      <th></th>\n",
              "      <th>description</th>\n",
              "      <th>revised_genres</th>\n",
              "      <th>genre_cat_list</th>\n",
              "    </tr>\n",
              "  </thead>\n",
              "  <tbody>\n",
              "    <tr>\n",
              "      <th>count</th>\n",
              "      <td>19623</td>\n",
              "      <td>19623</td>\n",
              "      <td>19623</td>\n",
              "    </tr>\n",
              "    <tr>\n",
              "      <th>unique</th>\n",
              "      <td>19623</td>\n",
              "      <td>586</td>\n",
              "      <td>571</td>\n",
              "    </tr>\n",
              "    <tr>\n",
              "      <th>top</th>\n",
              "      <td>Greetings potential test subject I'm a friendly astronaut studying the Hum species' and its ability to reverse gravity. Instead of jumping, it switches the direction of gravity to fall from the floor to the ceiling. Interestingly, it can only do this when it is standing on a surface or has just ran off one. To conduct my studies, I've formulated cookies that are both irresistible to a Hum and teleport it to the next experiment. I've also created nanobots to test the subject's intelligence. These are basic obstacles like a patrolling blade, a falling box, or a quad-directional laser blaster...</td>\n",
              "      <td>[Nonfiction]</td>\n",
              "      <td>[0, 0, 0, 0, 0, 0, 0, 0, 0, 0, 0, 0, 0, 0, 0, 0, 1, 0, 0, 0]</td>\n",
              "    </tr>\n",
              "    <tr>\n",
              "      <th>freq</th>\n",
              "      <td>1</td>\n",
              "      <td>1092</td>\n",
              "      <td>1092</td>\n",
              "    </tr>\n",
              "  </tbody>\n",
              "</table>\n",
              "</div>\n",
              "    <div class=\"colab-df-buttons\">\n",
              "\n",
              "  <div class=\"colab-df-container\">\n",
              "    <button class=\"colab-df-convert\" onclick=\"convertToInteractive('df-881953da-5f47-4212-8bab-7c9fad679b55')\"\n",
              "            title=\"Convert this dataframe to an interactive table.\"\n",
              "            style=\"display:none;\">\n",
              "\n",
              "  <svg xmlns=\"http://www.w3.org/2000/svg\" height=\"24px\" viewBox=\"0 -960 960 960\">\n",
              "    <path d=\"M120-120v-720h720v720H120Zm60-500h600v-160H180v160Zm220 220h160v-160H400v160Zm0 220h160v-160H400v160ZM180-400h160v-160H180v160Zm440 0h160v-160H620v160ZM180-180h160v-160H180v160Zm440 0h160v-160H620v160Z\"/>\n",
              "  </svg>\n",
              "    </button>\n",
              "\n",
              "  <style>\n",
              "    .colab-df-container {\n",
              "      display:flex;\n",
              "      gap: 12px;\n",
              "    }\n",
              "\n",
              "    .colab-df-convert {\n",
              "      background-color: #E8F0FE;\n",
              "      border: none;\n",
              "      border-radius: 50%;\n",
              "      cursor: pointer;\n",
              "      display: none;\n",
              "      fill: #1967D2;\n",
              "      height: 32px;\n",
              "      padding: 0 0 0 0;\n",
              "      width: 32px;\n",
              "    }\n",
              "\n",
              "    .colab-df-convert:hover {\n",
              "      background-color: #E2EBFA;\n",
              "      box-shadow: 0px 1px 2px rgba(60, 64, 67, 0.3), 0px 1px 3px 1px rgba(60, 64, 67, 0.15);\n",
              "      fill: #174EA6;\n",
              "    }\n",
              "\n",
              "    .colab-df-buttons div {\n",
              "      margin-bottom: 4px;\n",
              "    }\n",
              "\n",
              "    [theme=dark] .colab-df-convert {\n",
              "      background-color: #3B4455;\n",
              "      fill: #D2E3FC;\n",
              "    }\n",
              "\n",
              "    [theme=dark] .colab-df-convert:hover {\n",
              "      background-color: #434B5C;\n",
              "      box-shadow: 0px 1px 3px 1px rgba(0, 0, 0, 0.15);\n",
              "      filter: drop-shadow(0px 1px 2px rgba(0, 0, 0, 0.3));\n",
              "      fill: #FFFFFF;\n",
              "    }\n",
              "  </style>\n",
              "\n",
              "    <script>\n",
              "      const buttonEl =\n",
              "        document.querySelector('#df-881953da-5f47-4212-8bab-7c9fad679b55 button.colab-df-convert');\n",
              "      buttonEl.style.display =\n",
              "        google.colab.kernel.accessAllowed ? 'block' : 'none';\n",
              "\n",
              "      async function convertToInteractive(key) {\n",
              "        const element = document.querySelector('#df-881953da-5f47-4212-8bab-7c9fad679b55');\n",
              "        const dataTable =\n",
              "          await google.colab.kernel.invokeFunction('convertToInteractive',\n",
              "                                                    [key], {});\n",
              "        if (!dataTable) return;\n",
              "\n",
              "        const docLinkHtml = 'Like what you see? Visit the ' +\n",
              "          '<a target=\"_blank\" href=https://colab.research.google.com/notebooks/data_table.ipynb>data table notebook</a>'\n",
              "          + ' to learn more about interactive tables.';\n",
              "        element.innerHTML = '';\n",
              "        dataTable['output_type'] = 'display_data';\n",
              "        await google.colab.output.renderOutput(dataTable, element);\n",
              "        const docLink = document.createElement('div');\n",
              "        docLink.innerHTML = docLinkHtml;\n",
              "        element.appendChild(docLink);\n",
              "      }\n",
              "    </script>\n",
              "  </div>\n",
              "\n",
              "\n",
              "<div id=\"df-81b6b1b2-8618-4dda-a498-6e5a14e39ba0\">\n",
              "  <button class=\"colab-df-quickchart\" onclick=\"quickchart('df-81b6b1b2-8618-4dda-a498-6e5a14e39ba0')\"\n",
              "            title=\"Suggest charts.\"\n",
              "            style=\"display:none;\">\n",
              "\n",
              "<svg xmlns=\"http://www.w3.org/2000/svg\" height=\"24px\"viewBox=\"0 0 24 24\"\n",
              "     width=\"24px\">\n",
              "    <g>\n",
              "        <path d=\"M19 3H5c-1.1 0-2 .9-2 2v14c0 1.1.9 2 2 2h14c1.1 0 2-.9 2-2V5c0-1.1-.9-2-2-2zM9 17H7v-7h2v7zm4 0h-2V7h2v10zm4 0h-2v-4h2v4z\"/>\n",
              "    </g>\n",
              "</svg>\n",
              "  </button>\n",
              "\n",
              "<style>\n",
              "  .colab-df-quickchart {\n",
              "      --bg-color: #E8F0FE;\n",
              "      --fill-color: #1967D2;\n",
              "      --hover-bg-color: #E2EBFA;\n",
              "      --hover-fill-color: #174EA6;\n",
              "      --disabled-fill-color: #AAA;\n",
              "      --disabled-bg-color: #DDD;\n",
              "  }\n",
              "\n",
              "  [theme=dark] .colab-df-quickchart {\n",
              "      --bg-color: #3B4455;\n",
              "      --fill-color: #D2E3FC;\n",
              "      --hover-bg-color: #434B5C;\n",
              "      --hover-fill-color: #FFFFFF;\n",
              "      --disabled-bg-color: #3B4455;\n",
              "      --disabled-fill-color: #666;\n",
              "  }\n",
              "\n",
              "  .colab-df-quickchart {\n",
              "    background-color: var(--bg-color);\n",
              "    border: none;\n",
              "    border-radius: 50%;\n",
              "    cursor: pointer;\n",
              "    display: none;\n",
              "    fill: var(--fill-color);\n",
              "    height: 32px;\n",
              "    padding: 0;\n",
              "    width: 32px;\n",
              "  }\n",
              "\n",
              "  .colab-df-quickchart:hover {\n",
              "    background-color: var(--hover-bg-color);\n",
              "    box-shadow: 0 1px 2px rgba(60, 64, 67, 0.3), 0 1px 3px 1px rgba(60, 64, 67, 0.15);\n",
              "    fill: var(--button-hover-fill-color);\n",
              "  }\n",
              "\n",
              "  .colab-df-quickchart-complete:disabled,\n",
              "  .colab-df-quickchart-complete:disabled:hover {\n",
              "    background-color: var(--disabled-bg-color);\n",
              "    fill: var(--disabled-fill-color);\n",
              "    box-shadow: none;\n",
              "  }\n",
              "\n",
              "  .colab-df-spinner {\n",
              "    border: 2px solid var(--fill-color);\n",
              "    border-color: transparent;\n",
              "    border-bottom-color: var(--fill-color);\n",
              "    animation:\n",
              "      spin 1s steps(1) infinite;\n",
              "  }\n",
              "\n",
              "  @keyframes spin {\n",
              "    0% {\n",
              "      border-color: transparent;\n",
              "      border-bottom-color: var(--fill-color);\n",
              "      border-left-color: var(--fill-color);\n",
              "    }\n",
              "    20% {\n",
              "      border-color: transparent;\n",
              "      border-left-color: var(--fill-color);\n",
              "      border-top-color: var(--fill-color);\n",
              "    }\n",
              "    30% {\n",
              "      border-color: transparent;\n",
              "      border-left-color: var(--fill-color);\n",
              "      border-top-color: var(--fill-color);\n",
              "      border-right-color: var(--fill-color);\n",
              "    }\n",
              "    40% {\n",
              "      border-color: transparent;\n",
              "      border-right-color: var(--fill-color);\n",
              "      border-top-color: var(--fill-color);\n",
              "    }\n",
              "    60% {\n",
              "      border-color: transparent;\n",
              "      border-right-color: var(--fill-color);\n",
              "    }\n",
              "    80% {\n",
              "      border-color: transparent;\n",
              "      border-right-color: var(--fill-color);\n",
              "      border-bottom-color: var(--fill-color);\n",
              "    }\n",
              "    90% {\n",
              "      border-color: transparent;\n",
              "      border-bottom-color: var(--fill-color);\n",
              "    }\n",
              "  }\n",
              "</style>\n",
              "\n",
              "  <script>\n",
              "    async function quickchart(key) {\n",
              "      const quickchartButtonEl =\n",
              "        document.querySelector('#' + key + ' button');\n",
              "      quickchartButtonEl.disabled = true;  // To prevent multiple clicks.\n",
              "      quickchartButtonEl.classList.add('colab-df-spinner');\n",
              "      try {\n",
              "        const charts = await google.colab.kernel.invokeFunction(\n",
              "            'suggestCharts', [key], {});\n",
              "      } catch (error) {\n",
              "        console.error('Error during call to suggestCharts:', error);\n",
              "      }\n",
              "      quickchartButtonEl.classList.remove('colab-df-spinner');\n",
              "      quickchartButtonEl.classList.add('colab-df-quickchart-complete');\n",
              "    }\n",
              "    (() => {\n",
              "      let quickchartButtonEl =\n",
              "        document.querySelector('#df-81b6b1b2-8618-4dda-a498-6e5a14e39ba0 button');\n",
              "      quickchartButtonEl.style.display =\n",
              "        google.colab.kernel.accessAllowed ? 'block' : 'none';\n",
              "    })();\n",
              "  </script>\n",
              "</div>\n",
              "    </div>\n",
              "  </div>\n"
            ]
          },
          "metadata": {},
          "execution_count": 108
        }
      ]
    },
    {
      "cell_type": "markdown",
      "source": [
        "# Data-Loaders and Modeling"
      ],
      "metadata": {
        "id": "j1GMALpMYSGp"
      }
    },
    {
      "cell_type": "code",
      "source": [
        "labels = list(encode_genre_types.keys())"
      ],
      "metadata": {
        "id": "J6cvgWESYHf0"
      },
      "execution_count": null,
      "outputs": []
    },
    {
      "cell_type": "code",
      "source": [
        "model_name = \"distilroberta-base\"\n",
        "\n",
        "model_cls = AutoModelForSequenceClassification\n",
        "config = AutoConfig.from_pretrained(model_name)\n",
        "config.num_labels = len(labels)\n",
        "\n",
        "hf_arch, hf_config, hf_tokenizer, hf_model = get_hf_objects(model_name, model_cls=model_cls, config=config)\n",
        "\n",
        "hf_model.config.problem_type = \"multi_label_classification\""
      ],
      "metadata": {
        "id": "hATm6VNsZ5uS"
      },
      "execution_count": null,
      "outputs": []
    },
    {
      "cell_type": "code",
      "source": [
        "blocks = (\n",
        "    TextBlock(hf_arch, hf_config, hf_tokenizer, hf_model),\n",
        "    MultiCategoryBlock(encoded=True,vocab=labels)\n",
        ")\n",
        "\n",
        "dblock = DataBlock(\n",
        "    blocks=blocks,\n",
        "    get_x=ColReader(\"description\"),\n",
        "    get_y=ColReader(\"genre_cat_list\"),\n",
        "    splitter=RandomSplitter(valid_pct=0.1, seed=42)\n",
        ")"
      ],
      "metadata": {
        "id": "YmmUCt8uZ9nY"
      },
      "execution_count": null,
      "outputs": []
    },
    {
      "cell_type": "code",
      "source": [
        "dls = dblock.dataloaders(df, bs=32)\n",
        "\n",
        "torch.save(dls, \"dataloaders/dls-entertainment-genre-classifier.pkl\")"
      ],
      "metadata": {
        "id": "yq8Z824PaDrA"
      },
      "execution_count": null,
      "outputs": []
    },
    {
      "cell_type": "code",
      "source": [
        "dls.vocab"
      ],
      "metadata": {
        "colab": {
          "base_uri": "https://localhost:8080/"
        },
        "id": "WSfzYYkaaP6j",
        "outputId": "1489ae57-91f6-49bc-b8a4-a6cd864b6588"
      },
      "execution_count": null,
      "outputs": [
        {
          "output_type": "execute_result",
          "data": {
            "text/plain": [
              "['Fiction', 'pop', 'Thriller', 'Mystery', 'Crime', 'Drama', 'Indie', 'Action', 'Adventure', 'Romance', 'Casual', 'Comedy', 'Strategy', 'Simulation', 'Historical', 'Sci-Fi', 'Nonfiction', 'Horror', 'Fantasy', 'Young Adult']"
            ]
          },
          "metadata": {},
          "execution_count": 113
        }
      ]
    },
    {
      "cell_type": "code",
      "source": [
        "dls.show_batch(dataloaders=dls, max_n=4, trunc_at=512)"
      ],
      "metadata": {
        "colab": {
          "base_uri": "https://localhost:8080/",
          "height": 314
        },
        "id": "N-GcxZZ0aTnI",
        "outputId": "658e1a9e-fb0d-4968-f8e2-cb1435a2dffa"
      },
      "execution_count": null,
      "outputs": [
        {
          "output_type": "display_data",
          "data": {
            "text/plain": [
              "<IPython.core.display.HTML object>"
            ],
            "text/html": [
              "<table border=\"1\" class=\"dataframe\">\n",
              "  <thead>\n",
              "    <tr style=\"text-align: right;\">\n",
              "      <th></th>\n",
              "      <th>text</th>\n",
              "      <th>target</th>\n",
              "    </tr>\n",
              "  </thead>\n",
              "  <tbody>\n",
              "    <tr>\n",
              "      <th>0</th>\n",
              "      <td>Antigone\\nSophocles\\n442 BC\\n________________________________________\\nTranslator's Note\\nThis translation by Ian Johnston of Malaspina University-College, Nanaimo, BC, has certain copyright restrictions.  The translator would like to acknowledge the extremely valuable help provided by Andrew Brown’s edition of Sophocles’ Antigone (Aris &amp; Philips, 1987), especially by his editorial notes.\\nThis text was last revised in May 2005.\\n________________________________________\\nDramatis Personae\\nANTIGONE: daughter of Oed</td>\n",
              "      <td>[pop]</td>\n",
              "    </tr>\n",
              "    <tr>\n",
              "      <th>1</th>\n",
              "      <td>\\n只剩下鋼琴陪我談了一天\\n睡著的大提琴\\n安靜的舊舊的\\n我想你已表現的非常明白\\n我懂我也知道\\n你沒有捨不得\\n\\n\\n你說你也會難過我不相信\\n牽著你陪著我\\n也只是曾經\\n希望他是真的比我還要愛你\\n我才會逼自己離開\\n\\n\\n你要我說多難堪\\n我根本不想分開\\n為什麼還要我用微笑來帶過\\n我沒有這種天份\\n包容你也接受他\\n不用擔心的太多\\n我會一直好好過\\n你已經遠遠離開\\n我也會慢慢走開\\n為什麼我連分開都遷就著你\\n我真的沒有天份\\n安靜的沒這麼快\\n我會學著放棄你\\n是因為我太愛你\\n\\n\\n只剩下鋼琴陪我談了一天\\n睡著的大提琴\\n安靜的舊舊的\\n我想你已表現</td>\n",
              "      <td>[pop]</td>\n",
              "    </tr>\n",
              "    <tr>\n",
              "      <th>2</th>\n",
              "      <td>Welcome to our special brand of Super Long Nose Shooting Game. Nandeyanen!? – The 1st Sûtra is a horizontal 2D shoot’em up that introduces gameplay mechanics such as bullet counter and blast pods: the first allows the player to survive waves of attacks by returning them to their sender and the second is a tool meant to valorize the player’s learning curve by letting him spread his attacks on the whole screen. In a narrative thought as a homage to Japanese imaginary worlds and creative game design, the play</td>\n",
              "      <td>[Indie, Action]</td>\n",
              "    </tr>\n",
              "    <tr>\n",
              "      <th>3</th>\n",
              "      <td>NATO’s Nightmare The game explores the possibility that the so-called Cold War turns hot around 1985, on one of the most emblematic front, Germany. The starting assumption is that Gorbachov loses power to a group of hardliners who decide it is time for the Soviet Union (and its Pact allies) to strike first, while they still enjoy superiority in numbers and surprise. The fear that the current advantage will vanish over time and they know they can’t win the new technological arms race launched by the West. O</td>\n",
              "      <td>[Strategy, Simulation]</td>\n",
              "    </tr>\n",
              "  </tbody>\n",
              "</table>"
            ]
          },
          "metadata": {}
        }
      ]
    },
    {
      "cell_type": "code",
      "source": [
        "model = BaseModelWrapper(hf_model)\n",
        "\n",
        "acc_02 = partial(accuracy_multi, thresh=0.2)\n",
        "\n",
        "learner = Learner(\n",
        "    dls,\n",
        "    model,\n",
        "    opt_func=partial(OptimWrapper, opt=torch.optim.AdamW),\n",
        "    loss_func=BCEWithLogitsLossFlat(),\n",
        "    metrics=[acc_02],\n",
        "    cbs=[BaseModelCallback],\n",
        "    splitter=blurr_splitter\n",
        ").to_fp16()"
      ],
      "metadata": {
        "id": "wYfKOl0wag7I"
      },
      "execution_count": null,
      "outputs": []
    },
    {
      "cell_type": "markdown",
      "source": [
        "# Model Training"
      ],
      "metadata": {
        "id": "f6eZhJETarus"
      }
    },
    {
      "cell_type": "markdown",
      "source": [
        "## Stage - 0"
      ],
      "metadata": {
        "id": "HDcVFid7at2h"
      }
    },
    {
      "cell_type": "code",
      "source": [
        "learner.freeze()"
      ],
      "metadata": {
        "id": "ZmiLvTYYan6C"
      },
      "execution_count": null,
      "outputs": []
    },
    {
      "cell_type": "code",
      "source": [
        "learner.lr_find(suggest_funcs=[slide, valley])"
      ],
      "metadata": {
        "colab": {
          "base_uri": "https://localhost:8080/",
          "height": 471
        },
        "id": "yJgfa9vrayCe",
        "outputId": "b16a9b3f-233c-4851-c94f-b7f4dd6e56f4"
      },
      "execution_count": null,
      "outputs": [
        {
          "output_type": "display_data",
          "data": {
            "text/plain": [
              "<IPython.core.display.HTML object>"
            ],
            "text/html": [
              "\n",
              "<style>\n",
              "    /* Turns off some styling */\n",
              "    progress {\n",
              "        /* gets rid of default border in Firefox and Opera. */\n",
              "        border: none;\n",
              "        /* Needs to be in here for Safari polyfill so background images work as expected. */\n",
              "        background-size: auto;\n",
              "    }\n",
              "    progress:not([value]), progress:not([value])::-webkit-progress-bar {\n",
              "        background: repeating-linear-gradient(45deg, #7e7e7e, #7e7e7e 10px, #5c5c5c 10px, #5c5c5c 20px);\n",
              "    }\n",
              "    .progress-bar-interrupted, .progress-bar-interrupted::-webkit-progress-bar {\n",
              "        background: #F44336;\n",
              "    }\n",
              "</style>\n"
            ]
          },
          "metadata": {}
        },
        {
          "output_type": "display_data",
          "data": {
            "text/plain": [
              "<IPython.core.display.HTML object>"
            ],
            "text/html": []
          },
          "metadata": {}
        },
        {
          "output_type": "execute_result",
          "data": {
            "text/plain": [
              "SuggestedLRs(slide=0.0010000000474974513, valley=0.0003311311302240938)"
            ]
          },
          "metadata": {},
          "execution_count": 117
        },
        {
          "output_type": "display_data",
          "data": {
            "text/plain": [
              "<Figure size 640x480 with 1 Axes>"
            ],
            "image/png": "[encoded data removed]"
          },
          "metadata": {}
        }
      ]
    },
    {
      "cell_type": "code",
      "source": [
        "learner.fit_one_cycle(1, 6.75e-4)"
      ],
      "metadata": {
        "colab": {
          "base_uri": "https://localhost:8080/",
          "height": 81
        },
        "id": "IRkk-N0eazan",
        "outputId": "d6352cd1-a05a-4df1-e12f-ad392d166418"
      },
      "execution_count": null,
      "outputs": [
        {
          "output_type": "display_data",
          "data": {
            "text/plain": [
              "<IPython.core.display.HTML object>"
            ],
            "text/html": [
              "\n",
              "<style>\n",
              "    /* Turns off some styling */\n",
              "    progress {\n",
              "        /* gets rid of default border in Firefox and Opera. */\n",
              "        border: none;\n",
              "        /* Needs to be in here for Safari polyfill so background images work as expected. */\n",
              "        background-size: auto;\n",
              "    }\n",
              "    progress:not([value]), progress:not([value])::-webkit-progress-bar {\n",
              "        background: repeating-linear-gradient(45deg, #7e7e7e, #7e7e7e 10px, #5c5c5c 10px, #5c5c5c 20px);\n",
              "    }\n",
              "    .progress-bar-interrupted, .progress-bar-interrupted::-webkit-progress-bar {\n",
              "        background: #F44336;\n",
              "    }\n",
              "</style>\n"
            ]
          },
          "metadata": {}
        },
        {
          "output_type": "display_data",
          "data": {
            "text/plain": [
              "<IPython.core.display.HTML object>"
            ],
            "text/html": [
              "<table border=\"1\" class=\"dataframe\">\n",
              "  <thead>\n",
              "    <tr style=\"text-align: left;\">\n",
              "      <th>epoch</th>\n",
              "      <th>train_loss</th>\n",
              "      <th>valid_loss</th>\n",
              "      <th>accuracy_multi</th>\n",
              "      <th>time</th>\n",
              "    </tr>\n",
              "  </thead>\n",
              "  <tbody>\n",
              "    <tr>\n",
              "      <td>0</td>\n",
              "      <td>0.164078</td>\n",
              "      <td>0.164377</td>\n",
              "      <td>0.898038</td>\n",
              "      <td>01:44</td>\n",
              "    </tr>\n",
              "  </tbody>\n",
              "</table>"
            ]
          },
          "metadata": {}
        }
      ]
    },
    {
      "cell_type": "code",
      "source": [
        "learner.save(\"entertainment-ml-genre-stage-0\")"
      ],
      "metadata": {
        "colab": {
          "base_uri": "https://localhost:8080/"
        },
        "id": "UkLc19VCcYUa",
        "outputId": "fffd52dc-4828-4248-cccb-d31db2c7e664"
      },
      "execution_count": null,
      "outputs": [
        {
          "output_type": "execute_result",
          "data": {
            "text/plain": [
              "Path('models/entertainment-ml-genre-stage-0.pth')"
            ]
          },
          "metadata": {},
          "execution_count": 119
        }
      ]
    },
    {
      "cell_type": "code",
      "source": [
        "learner.export(\"models/entertainment-ml-genre-stage-0.pkl\")"
      ],
      "metadata": {
        "id": "vuQWdv8wckZi"
      },
      "execution_count": null,
      "outputs": []
    },
    {
      "cell_type": "markdown",
      "source": [
        "## Stage - 1"
      ],
      "metadata": {
        "id": "3dIXLDs_cqez"
      }
    },
    {
      "cell_type": "code",
      "source": [
        "learner.unfreeze()"
      ],
      "metadata": {
        "id": "Ni72SUhocpEs"
      },
      "execution_count": null,
      "outputs": []
    },
    {
      "cell_type": "code",
      "source": [
        "learner.lr_find(suggest_funcs=[slide, valley])"
      ],
      "metadata": {
        "colab": {
          "base_uri": "https://localhost:8080/",
          "height": 471
        },
        "id": "AHznEsyZctVV",
        "outputId": "cbad482f-08d9-47e9-89b9-300661d02875"
      },
      "execution_count": null,
      "outputs": [
        {
          "output_type": "display_data",
          "data": {
            "text/plain": [
              "<IPython.core.display.HTML object>"
            ],
            "text/html": [
              "\n",
              "<style>\n",
              "    /* Turns off some styling */\n",
              "    progress {\n",
              "        /* gets rid of default border in Firefox and Opera. */\n",
              "        border: none;\n",
              "        /* Needs to be in here for Safari polyfill so background images work as expected. */\n",
              "        background-size: auto;\n",
              "    }\n",
              "    progress:not([value]), progress:not([value])::-webkit-progress-bar {\n",
              "        background: repeating-linear-gradient(45deg, #7e7e7e, #7e7e7e 10px, #5c5c5c 10px, #5c5c5c 20px);\n",
              "    }\n",
              "    .progress-bar-interrupted, .progress-bar-interrupted::-webkit-progress-bar {\n",
              "        background: #F44336;\n",
              "    }\n",
              "</style>\n"
            ]
          },
          "metadata": {}
        },
        {
          "output_type": "display_data",
          "data": {
            "text/plain": [
              "<IPython.core.display.HTML object>"
            ],
            "text/html": []
          },
          "metadata": {}
        },
        {
          "output_type": "execute_result",
          "data": {
            "text/plain": [
              "SuggestedLRs(slide=0.002511886414140463, valley=0.00010964782268274575)"
            ]
          },
          "metadata": {},
          "execution_count": 134
        },
        {
          "output_type": "display_data",
          "data": {
            "text/plain": [
              "<Figure size 640x480 with 1 Axes>"
            ],
            "image/png": "[encoded data removed]"
          },
          "metadata": {}
        }
      ]
    },
    {
      "cell_type": "code",
      "source": [
        "learner.fit_one_cycle(5,slice(2.25e-3, 1.25e-4))"
      ],
      "metadata": {
        "colab": {
          "base_uri": "https://localhost:8080/",
          "height": 206
        },
        "id": "grywHnQ2cuta",
        "outputId": "bc0c8a14-5698-4494-e683-1f9b468f710d"
      },
      "execution_count": null,
      "outputs": [
        {
          "output_type": "display_data",
          "data": {
            "text/plain": [
              "<IPython.core.display.HTML object>"
            ],
            "text/html": [
              "\n",
              "<style>\n",
              "    /* Turns off some styling */\n",
              "    progress {\n",
              "        /* gets rid of default border in Firefox and Opera. */\n",
              "        border: none;\n",
              "        /* Needs to be in here for Safari polyfill so background images work as expected. */\n",
              "        background-size: auto;\n",
              "    }\n",
              "    progress:not([value]), progress:not([value])::-webkit-progress-bar {\n",
              "        background: repeating-linear-gradient(45deg, #7e7e7e, #7e7e7e 10px, #5c5c5c 10px, #5c5c5c 20px);\n",
              "    }\n",
              "    .progress-bar-interrupted, .progress-bar-interrupted::-webkit-progress-bar {\n",
              "        background: #F44336;\n",
              "    }\n",
              "</style>\n"
            ]
          },
          "metadata": {}
        },
        {
          "output_type": "display_data",
          "data": {
            "text/plain": [
              "<IPython.core.display.HTML object>"
            ],
            "text/html": [
              "<table border=\"1\" class=\"dataframe\">\n",
              "  <thead>\n",
              "    <tr style=\"text-align: left;\">\n",
              "      <th>epoch</th>\n",
              "      <th>train_loss</th>\n",
              "      <th>valid_loss</th>\n",
              "      <th>accuracy_multi</th>\n",
              "      <th>time</th>\n",
              "    </tr>\n",
              "  </thead>\n",
              "  <tbody>\n",
              "    <tr>\n",
              "      <td>0</td>\n",
              "      <td>0.218188</td>\n",
              "      <td>0.197549</td>\n",
              "      <td>0.866692</td>\n",
              "      <td>02:08</td>\n",
              "    </tr>\n",
              "    <tr>\n",
              "      <td>1</td>\n",
              "      <td>0.321917</td>\n",
              "      <td>0.317584</td>\n",
              "      <td>0.861264</td>\n",
              "      <td>02:09</td>\n",
              "    </tr>\n",
              "    <tr>\n",
              "      <td>2</td>\n",
              "      <td>0.315798</td>\n",
              "      <td>0.314432</td>\n",
              "      <td>0.868909</td>\n",
              "      <td>02:07</td>\n",
              "    </tr>\n",
              "    <tr>\n",
              "      <td>3</td>\n",
              "      <td>0.315337</td>\n",
              "      <td>0.313607</td>\n",
              "      <td>0.838940</td>\n",
              "      <td>02:06</td>\n",
              "    </tr>\n",
              "    <tr>\n",
              "      <td>4</td>\n",
              "      <td>0.315758</td>\n",
              "      <td>0.312918</td>\n",
              "      <td>0.838940</td>\n",
              "      <td>02:08</td>\n",
              "    </tr>\n",
              "  </tbody>\n",
              "</table>"
            ]
          },
          "metadata": {}
        }
      ]
    },
    {
      "cell_type": "code",
      "source": [
        "learner.save(\"entertainment-ml-genre-stage-1\")"
      ],
      "metadata": {
        "colab": {
          "base_uri": "https://localhost:8080/"
        },
        "id": "1Byo9B5hdNa6",
        "outputId": "dace5a81-ac48-430e-c11d-e95a0bdff298"
      },
      "execution_count": null,
      "outputs": [
        {
          "output_type": "execute_result",
          "data": {
            "text/plain": [
              "Path('models/entertainment-ml-genre-stage-1.pth')"
            ]
          },
          "metadata": {},
          "execution_count": 136
        }
      ]
    },
    {
      "cell_type": "code",
      "source": [
        "learner.export(\"models/entertainment-ml-genre-stage-1.pkl\")"
      ],
      "metadata": {
        "id": "s8tWcg43dXG0"
      },
      "execution_count": null,
      "outputs": []
    },
    {
      "cell_type": "markdown",
      "source": [
        "# Inference"
      ],
      "metadata": {
        "id": "Pl-P9S3TddMa"
      }
    },
    {
      "cell_type": "code",
      "source": [
        "desc = \"When the menace known as the Joker wreaks havoc and chaos on the people of Gotham, Batman must accept one of the greatest psychological and physical tests of his ability to fight injustice.\""
      ],
      "metadata": {
        "id": "wHWNqqKgdswH"
      },
      "execution_count": null,
      "outputs": []
    },
    {
      "cell_type": "code",
      "source": [
        "lbp = learner.blurr_predict(desc)[0]"
      ],
      "metadata": {
        "id": "GctFFJSGgOS3"
      },
      "execution_count": null,
      "outputs": []
    },
    {
      "cell_type": "code",
      "source": [
        "lbp"
      ],
      "metadata": {
        "colab": {
          "base_uri": "https://localhost:8080/"
        },
        "id": "QRhMKvcwtH3c",
        "outputId": "9b8f446a-fee2-48cf-f640-29a506a92cee"
      },
      "execution_count": null,
      "outputs": [
        {
          "output_type": "execute_result",
          "data": {
            "text/plain": [
              "{'labels': [],\n",
              " 'scores': [],\n",
              " 'class_indices': [0, 0, 0, 0, 0, 0, 0, 0, 0, 0, 0, 0, 0, 0, 0, 0, 0, 0, 0, 0],\n",
              " 'class_labels': ['Fiction', 'pop', 'Thriller', 'Mystery', 'Crime', 'Drama', 'Indie', 'Action', 'Adventure', 'Romance', 'Casual', 'Comedy', 'Strategy', 'Simulation', 'Historical', 'Sci-Fi', 'Nonfiction', 'Horror', 'Fantasy', 'Young Adult'],\n",
              " 'probs': [0.14854057133197784,\n",
              "  0.04822634160518646,\n",
              "  0.04958902671933174,\n",
              "  0.06954174488782883,\n",
              "  0.04903962090611458,\n",
              "  0.14817041158676147,\n",
              "  0.15921740233898163,\n",
              "  0.21700547635555267,\n",
              "  0.2018132209777832,\n",
              "  0.1561049073934555,\n",
              "  0.09235979616641998,\n",
              "  0.13846179842948914,\n",
              "  0.04288223758339882,\n",
              "  0.04620574787259102,\n",
              "  0.04107589274644852,\n",
              "  0.055310651659965515,\n",
              "  0.0593191459774971,\n",
              "  0.060197047889232635,\n",
              "  0.1755380779504776,\n",
              "  0.055005285888910294]}"
            ]
          },
          "metadata": {},
          "execution_count": 156
        }
      ]
    },
    {
      "cell_type": "code",
      "source": [
        "learner_probs = lbp[\"probs\"]\n",
        "top_3_indices = sorted(range(len(learner_probs)), key=lambda i: learner_probs[i], reverse=True)[:3]\n",
        "top_3_indices"
      ],
      "metadata": {
        "colab": {
          "base_uri": "https://localhost:8080/"
        },
        "id": "do_FJWg5rdKq",
        "outputId": "9e6975ea-1f16-40cf-eef2-476aa33a2f9e"
      },
      "execution_count": null,
      "outputs": [
        {
          "output_type": "execute_result",
          "data": {
            "text/plain": [
              "[7, 8, 18]"
            ]
          },
          "metadata": {},
          "execution_count": 152
        }
      ]
    },
    {
      "cell_type": "code",
      "source": [
        "top_labels = []\n",
        "\n",
        "for i in top_3_indices:\n",
        "  top_labels.append(lbp[\"class_labels\"][i])\n",
        "\n",
        "top_labels"
      ],
      "metadata": {
        "colab": {
          "base_uri": "https://localhost:8080/"
        },
        "id": "D8uFnQN9sOsI",
        "outputId": "96f98538-9a15-4a34-b983-8d8bbe419a72"
      },
      "execution_count": null,
      "outputs": [
        {
          "output_type": "execute_result",
          "data": {
            "text/plain": [
              "['Action', 'Adventure', 'Fantasy']"
            ]
          },
          "metadata": {},
          "execution_count": 157
        }
      ]
    },
    {
      "cell_type": "code",
      "source": [
        "top_probs = []\n",
        "\n",
        "for i in top_3_indices:\n",
        "  top_probs.append(lbp[\"probs\"][i])\n",
        "\n",
        "top_probs"
      ],
      "metadata": {
        "colab": {
          "base_uri": "https://localhost:8080/"
        },
        "id": "yoQbr0Jwgpc9",
        "outputId": "30ca8762-f6b8-4132-8bb2-93fdf3738154"
      },
      "execution_count": null,
      "outputs": [
        {
          "output_type": "execute_result",
          "data": {
            "text/plain": [
              "[0.21700547635555267, 0.2018132209777832, 0.1755380779504776]"
            ]
          },
          "metadata": {},
          "execution_count": 159
        }
      ]
    },
    {
      "cell_type": "code",
      "source": [
        "result = {top_labels[i]: top_probs[i] for i in range(min(len(top_labels), len(top_probs)))}\n",
        "\n",
        "print(result)\n"
      ],
      "metadata": {
        "colab": {
          "base_uri": "https://localhost:8080/"
        },
        "id": "DoQNPFkKtcw9",
        "outputId": "0119dd8a-4c6c-434d-9190-782dd7657a23"
      },
      "execution_count": null,
      "outputs": [
        {
          "output_type": "stream",
          "name": "stdout",
          "text": [
            "{'Action': 0.21700547635555267, 'Adventure': 0.2018132209777832, 'Fantasy': 0.1755380779504776}\n"
          ]
        }
      ]
    }
  ]
}