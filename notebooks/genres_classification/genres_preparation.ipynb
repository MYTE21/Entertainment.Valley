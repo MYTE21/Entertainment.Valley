{
 "cells": [
  {
   "cell_type": "markdown",
   "source": [
    "# Genres Preparation"
   ],
   "metadata": {
    "collapsed": false
   },
   "id": "94d1cbb88fb5200f"
  },
  {
   "cell_type": "markdown",
   "source": [
    "# Setting Up Necessary Things"
   ],
   "metadata": {
    "collapsed": false
   },
   "id": "6f22fc597f230372"
  },
  {
   "cell_type": "code",
   "execution_count": 1,
   "id": "initial_id",
   "metadata": {
    "collapsed": true,
    "ExecuteTime": {
     "end_time": "2023-09-13T19:32:34.401793900Z",
     "start_time": "2023-09-13T19:32:33.575780200Z"
    }
   },
   "outputs": [],
   "source": [
    "# Jupyter Notebook Magic Command - Auto Reloading\n",
    "%reload_ext autoreload\n",
    "%autoreload 2\n",
    "\n",
    "# Jupyter Notebook Magic Command - Inline Plotting\n",
    "%matplotlib inline"
   ]
  },
  {
   "cell_type": "code",
   "execution_count": 2,
   "outputs": [],
   "source": [
    "# Ignore All Warnings\n",
    "import warnings\n",
    "warnings.filterwarnings(\"ignore\")"
   ],
   "metadata": {
    "collapsed": false,
    "ExecuteTime": {
     "end_time": "2023-09-13T19:32:34.480203800Z",
     "start_time": "2023-09-13T19:32:34.407310600Z"
    }
   },
   "id": "498b26c246c6e00b"
  },
  {
   "cell_type": "markdown",
   "source": [
    "# Necessary Imports"
   ],
   "metadata": {
    "collapsed": false
   },
   "id": "c4948e680fbebd58"
  },
  {
   "cell_type": "code",
   "execution_count": 8,
   "outputs": [],
   "source": [
    "import os\n",
    "from IPython.display import display\n",
    "import re\n",
    "\n",
    "# Data\n",
    "import pandas as pd\n",
    "\n",
    "# Language\n",
    "from langdetect import detect\n",
    "\n",
    "# Custom\n",
    "import notebooks.data_preparation.preparation as ppt"
   ],
   "metadata": {
    "collapsed": false,
    "ExecuteTime": {
     "end_time": "2023-09-13T19:37:56.066355200Z",
     "start_time": "2023-09-13T19:37:55.961825900Z"
    }
   },
   "id": "600858fb5b8a6a67"
  },
  {
   "cell_type": "markdown",
   "source": [
    "# Data Cleaning"
   ],
   "metadata": {
    "collapsed": false
   },
   "id": "10fad5c81cec366b"
  },
  {
   "cell_type": "code",
   "execution_count": 4,
   "outputs": [
    {
     "data": {
      "text/plain": "                                title  \\\n0  Season of Blood: A Rwandan Journey   \n1                        Echo Burning   \n2               Cells at Work Special   \n3                      Make Your Move   \n4                       Guilty Parade   \n\n                                         description  \\\n0  When President Habyarimana’s jet was shot down...   \n1  Hitching rides is an unreliable mode of transp...   \n2  For the regular cells of the human body, life ...   \n3  A pair of star-crossed dancers in New York fin...   \n4  Guilty Parade is an interactive Visual Novel w...   \n\n                                              genres category  \n0  Nonfiction, Cultural, Africa, History, Eastern...     book  \n1         Thriller, Fiction, Mystery, Mystery, Crime     book  \n2                                             Comedy    anime  \n3                            Drama, Musical, Romance    movie  \n4                                          Adventure     game  ",
      "text/html": "<div>\n<style scoped>\n    .dataframe tbody tr th:only-of-type {\n        vertical-align: middle;\n    }\n\n    .dataframe tbody tr th {\n        vertical-align: top;\n    }\n\n    .dataframe thead th {\n        text-align: right;\n    }\n</style>\n<table border=\"1\" class=\"dataframe\">\n  <thead>\n    <tr style=\"text-align: right;\">\n      <th></th>\n      <th>title</th>\n      <th>description</th>\n      <th>genres</th>\n      <th>category</th>\n    </tr>\n  </thead>\n  <tbody>\n    <tr>\n      <th>0</th>\n      <td>Season of Blood: A Rwandan Journey</td>\n      <td>When President Habyarimana’s jet was shot down...</td>\n      <td>Nonfiction, Cultural, Africa, History, Eastern...</td>\n      <td>book</td>\n    </tr>\n    <tr>\n      <th>1</th>\n      <td>Echo Burning</td>\n      <td>Hitching rides is an unreliable mode of transp...</td>\n      <td>Thriller, Fiction, Mystery, Mystery, Crime</td>\n      <td>book</td>\n    </tr>\n    <tr>\n      <th>2</th>\n      <td>Cells at Work Special</td>\n      <td>For the regular cells of the human body, life ...</td>\n      <td>Comedy</td>\n      <td>anime</td>\n    </tr>\n    <tr>\n      <th>3</th>\n      <td>Make Your Move</td>\n      <td>A pair of star-crossed dancers in New York fin...</td>\n      <td>Drama, Musical, Romance</td>\n      <td>movie</td>\n    </tr>\n    <tr>\n      <th>4</th>\n      <td>Guilty Parade</td>\n      <td>Guilty Parade is an interactive Visual Novel w...</td>\n      <td>Adventure</td>\n      <td>game</td>\n    </tr>\n  </tbody>\n</table>\n</div>"
     },
     "execution_count": 4,
     "metadata": {},
     "output_type": "execute_result"
    }
   ],
   "source": [
    "df = pd.read_csv(\"../../data/processed/title/title_generation.csv\")\n",
    "df.head()"
   ],
   "metadata": {
    "collapsed": false,
    "ExecuteTime": {
     "end_time": "2023-09-13T19:32:55.381137700Z",
     "start_time": "2023-09-13T19:32:54.656313100Z"
    }
   },
   "id": "5910910a8e2062d7"
  },
  {
   "cell_type": "code",
   "execution_count": 5,
   "outputs": [
    {
     "data": {
      "text/plain": "                                         description  \\\n0  When President Habyarimana’s jet was shot down...   \n1  Hitching rides is an unreliable mode of transp...   \n2  For the regular cells of the human body, life ...   \n3  A pair of star-crossed dancers in New York fin...   \n4  Guilty Parade is an interactive Visual Novel w...   \n\n                                              genres  \n0  Nonfiction, Cultural, Africa, History, Eastern...  \n1         Thriller, Fiction, Mystery, Mystery, Crime  \n2                                             Comedy  \n3                            Drama, Musical, Romance  \n4                                          Adventure  ",
      "text/html": "<div>\n<style scoped>\n    .dataframe tbody tr th:only-of-type {\n        vertical-align: middle;\n    }\n\n    .dataframe tbody tr th {\n        vertical-align: top;\n    }\n\n    .dataframe thead th {\n        text-align: right;\n    }\n</style>\n<table border=\"1\" class=\"dataframe\">\n  <thead>\n    <tr style=\"text-align: right;\">\n      <th></th>\n      <th>description</th>\n      <th>genres</th>\n    </tr>\n  </thead>\n  <tbody>\n    <tr>\n      <th>0</th>\n      <td>When President Habyarimana’s jet was shot down...</td>\n      <td>Nonfiction, Cultural, Africa, History, Eastern...</td>\n    </tr>\n    <tr>\n      <th>1</th>\n      <td>Hitching rides is an unreliable mode of transp...</td>\n      <td>Thriller, Fiction, Mystery, Mystery, Crime</td>\n    </tr>\n    <tr>\n      <th>2</th>\n      <td>For the regular cells of the human body, life ...</td>\n      <td>Comedy</td>\n    </tr>\n    <tr>\n      <th>3</th>\n      <td>A pair of star-crossed dancers in New York fin...</td>\n      <td>Drama, Musical, Romance</td>\n    </tr>\n    <tr>\n      <th>4</th>\n      <td>Guilty Parade is an interactive Visual Novel w...</td>\n      <td>Adventure</td>\n    </tr>\n  </tbody>\n</table>\n</div>"
     },
     "execution_count": 5,
     "metadata": {},
     "output_type": "execute_result"
    }
   ],
   "source": [
    "# Get only description and genres\n",
    "df = df.loc[:, [\"description\", \"genres\"]]\n",
    "df.head()"
   ],
   "metadata": {
    "collapsed": false,
    "ExecuteTime": {
     "end_time": "2023-09-13T19:35:06.073545200Z",
     "start_time": "2023-09-13T19:35:05.957656900Z"
    }
   },
   "id": "e2c3c5aef6168cd9"
  },
  {
   "cell_type": "code",
   "execution_count": 6,
   "outputs": [
    {
     "name": "stdout",
     "output_type": "stream",
     "text": [
      "Entertainment Shape: (24877, 2)\n"
     ]
    }
   ],
   "source": [
    "print(f\"Entertainment Shape: {df.shape}\")"
   ],
   "metadata": {
    "collapsed": false,
    "ExecuteTime": {
     "end_time": "2023-09-13T19:35:27.199469500Z",
     "start_time": "2023-09-13T19:35:27.083484100Z"
    }
   },
   "id": "30478d8d343fed3b"
  },
  {
   "cell_type": "code",
   "execution_count": 7,
   "outputs": [],
   "source": [
    "# Random Shuffle The DataFrame\n",
    "df = df.sample(frac = 1, random_state=42).reset_index(drop=True)"
   ],
   "metadata": {
    "collapsed": false,
    "ExecuteTime": {
     "end_time": "2023-09-13T19:36:30.866337800Z",
     "start_time": "2023-09-13T19:36:30.768530200Z"
    }
   },
   "id": "c9b5251f4f776e92"
  },
  {
   "cell_type": "code",
   "execution_count": 12,
   "outputs": [
    {
     "name": "stdout",
     "output_type": "stream",
     "text": [
      "Shape of the dataframe:  (24877, 2)\n",
      "The DataFrame: \n"
     ]
    },
    {
     "data": {
      "text/plain": "                                         description  \\\n0  Comedy about one big happy family and their so...   \n1  A crew of kid pirates - leader Jake and pals I...   \n2  In the Shadow of Young Girls in Flower is Prou...   \n3  Outside watching as the day slowly fades away\\...   \n4  A young man is accused of his ex-girlfriend's ...   \n\n                                              genres  \n0                                             comedy  \n1                 action, family, fantasy, animation  \n2  Fiction, Classics, Cultural, France, European ...  \n3                                                pop  \n4                                           Thriller  ",
      "text/html": "<div>\n<style scoped>\n    .dataframe tbody tr th:only-of-type {\n        vertical-align: middle;\n    }\n\n    .dataframe tbody tr th {\n        vertical-align: top;\n    }\n\n    .dataframe thead th {\n        text-align: right;\n    }\n</style>\n<table border=\"1\" class=\"dataframe\">\n  <thead>\n    <tr style=\"text-align: right;\">\n      <th></th>\n      <th>description</th>\n      <th>genres</th>\n    </tr>\n  </thead>\n  <tbody>\n    <tr>\n      <th>0</th>\n      <td>Comedy about one big happy family and their so...</td>\n      <td>comedy</td>\n    </tr>\n    <tr>\n      <th>1</th>\n      <td>A crew of kid pirates - leader Jake and pals I...</td>\n      <td>action, family, fantasy, animation</td>\n    </tr>\n    <tr>\n      <th>2</th>\n      <td>In the Shadow of Young Girls in Flower is Prou...</td>\n      <td>Fiction, Classics, Cultural, France, European ...</td>\n    </tr>\n    <tr>\n      <th>3</th>\n      <td>Outside watching as the day slowly fades away\\...</td>\n      <td>pop</td>\n    </tr>\n    <tr>\n      <th>4</th>\n      <td>A young man is accused of his ex-girlfriend's ...</td>\n      <td>Thriller</td>\n    </tr>\n  </tbody>\n</table>\n</div>"
     },
     "metadata": {},
     "output_type": "display_data"
    },
    {
     "name": "stdout",
     "output_type": "stream",
     "text": [
      "All Data Types: \n"
     ]
    },
    {
     "data": {
      "text/plain": "description    object\ngenres         object\ndtype: object"
     },
     "metadata": {},
     "output_type": "display_data"
    },
    {
     "name": "stdout",
     "output_type": "stream",
     "text": [
      "Null Values:\n"
     ]
    },
    {
     "data": {
      "text/plain": "description    0\ngenres         0\ndtype: int64"
     },
     "metadata": {},
     "output_type": "display_data"
    },
    {
     "name": "stdout",
     "output_type": "stream",
     "text": [
      "Duplicate Description Count:  0\n",
      "DataFrame Details:\n"
     ]
    },
    {
     "data": {
      "text/plain": "                                              description genres\ncount                                               24877  24877\nunique                                              24877   7328\ntop     Comedy about one big happy family and their so...    pop\nfreq                                                    1   1004",
      "text/html": "<div>\n<style scoped>\n    .dataframe tbody tr th:only-of-type {\n        vertical-align: middle;\n    }\n\n    .dataframe tbody tr th {\n        vertical-align: top;\n    }\n\n    .dataframe thead th {\n        text-align: right;\n    }\n</style>\n<table border=\"1\" class=\"dataframe\">\n  <thead>\n    <tr style=\"text-align: right;\">\n      <th></th>\n      <th>description</th>\n      <th>genres</th>\n    </tr>\n  </thead>\n  <tbody>\n    <tr>\n      <th>count</th>\n      <td>24877</td>\n      <td>24877</td>\n    </tr>\n    <tr>\n      <th>unique</th>\n      <td>24877</td>\n      <td>7328</td>\n    </tr>\n    <tr>\n      <th>top</th>\n      <td>Comedy about one big happy family and their so...</td>\n      <td>pop</td>\n    </tr>\n    <tr>\n      <th>freq</th>\n      <td>1</td>\n      <td>1004</td>\n    </tr>\n  </tbody>\n</table>\n</div>"
     },
     "metadata": {},
     "output_type": "display_data"
    }
   ],
   "source": [
    "ppt.get_df_info(df)"
   ],
   "metadata": {
    "collapsed": false,
    "ExecuteTime": {
     "end_time": "2023-09-13T19:40:55.987915300Z",
     "start_time": "2023-09-13T19:40:55.724897200Z"
    }
   },
   "id": "cb528d3d5d31fdfd"
  },
  {
   "cell_type": "markdown",
   "source": [
    "# DataFrame To CSV"
   ],
   "metadata": {
    "collapsed": false
   },
   "id": "e351779d2d2e5dc6"
  },
  {
   "cell_type": "code",
   "execution_count": 13,
   "outputs": [
    {
     "name": "stdout",
     "output_type": "stream",
     "text": [
      "Dataframe saved successfully:  ../../data/processed/genres/genres_classification.csv\n"
     ]
    }
   ],
   "source": [
    "ppt.write_dataframe_to_csv(\"../../data/processed/genres/genres_classification.csv\", df)"
   ],
   "metadata": {
    "collapsed": false,
    "ExecuteTime": {
     "end_time": "2023-09-13T19:42:48.040105400Z",
     "start_time": "2023-09-13T19:42:46.950223Z"
    }
   },
   "id": "17aeb4dc32f5023d"
  }
 ],
 "metadata": {
  "kernelspec": {
   "display_name": "Python 3",
   "language": "python",
   "name": "python3"
  },
  "language_info": {
   "codemirror_mode": {
    "name": "ipython",
    "version": 2
   },
   "file_extension": ".py",
   "mimetype": "text/x-python",
   "name": "python",
   "nbconvert_exporter": "python",
   "pygments_lexer": "ipython2",
   "version": "2.7.6"
  }
 },
 "nbformat": 4,
 "nbformat_minor": 5
}
