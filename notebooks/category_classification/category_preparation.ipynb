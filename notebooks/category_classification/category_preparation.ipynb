{
 "cells": [
  {
   "cell_type": "markdown",
   "source": [
    "# Category Preparation"
   ],
   "metadata": {
    "collapsed": false
   },
   "id": "13d5018cb4f03c5a"
  },
  {
   "cell_type": "markdown",
   "source": [
    "# Setting Up Necessary Things"
   ],
   "metadata": {
    "collapsed": false
   },
   "id": "1fc9f05ba31681dc"
  },
  {
   "cell_type": "code",
   "execution_count": 1,
   "id": "initial_id",
   "metadata": {
    "collapsed": true,
    "ExecuteTime": {
     "end_time": "2023-09-11T22:12:47.643696400Z",
     "start_time": "2023-09-11T22:12:46.223478900Z"
    }
   },
   "outputs": [],
   "source": [
    "# Jupyter Notebook Magic Command - Auto Reloading\n",
    "%reload_ext autoreload\n",
    "%autoreload 2\n",
    "\n",
    "# Jupyter Notebook Magic Command - Inline Plotting\n",
    "%matplotlib inline"
   ]
  },
  {
   "cell_type": "code",
   "execution_count": 2,
   "outputs": [],
   "source": [
    "# Ignore All Warnings\n",
    "import warnings\n",
    "warnings.filterwarnings(\"ignore\")"
   ],
   "metadata": {
    "collapsed": false,
    "ExecuteTime": {
     "end_time": "2023-09-11T22:12:47.643696400Z",
     "start_time": "2023-09-11T22:12:46.887615700Z"
    }
   },
   "id": "93b69f024f5ce4cb"
  },
  {
   "cell_type": "markdown",
   "source": [
    "# Necessary Imports"
   ],
   "metadata": {
    "collapsed": false
   },
   "id": "e2694f5406855823"
  },
  {
   "cell_type": "code",
   "execution_count": 3,
   "outputs": [],
   "source": [
    "import os\n",
    "from IPython.display import display\n",
    "import re\n",
    "\n",
    "# Data\n",
    "import pandas as pd\n",
    "\n",
    "# Language\n",
    "from langdetect import detect"
   ],
   "metadata": {
    "collapsed": false,
    "ExecuteTime": {
     "end_time": "2023-09-11T22:12:47.696186200Z",
     "start_time": "2023-09-11T22:12:46.933201700Z"
    }
   },
   "id": "31c9cd8915c97545"
  },
  {
   "cell_type": "markdown",
   "source": [
    "# Data Cleaning"
   ],
   "metadata": {
    "collapsed": false
   },
   "id": "d89ed312fac91852"
  },
  {
   "cell_type": "code",
   "execution_count": 4,
   "outputs": [],
   "source": [
    "# Load All DataFrames\n",
    "folder = \"../../data/processed/\"\n",
    "\n",
    "anime_df = pd.read_csv(folder + \"anime/anime_rating.csv\")\n",
    "book_df = pd.read_csv(folder + \"book/book_rating.csv\")\n",
    "movie_df = pd.read_csv(folder + \"movie/movie_rating.csv\")\n",
    "music_df = pd.read_csv(folder + \"music/music_views.csv\")\n",
    "tv_show_df = pd.read_csv(folder + \"tv_show/tv_show_rating.csv\")\n",
    "video_game_df = pd.read_csv(folder + \"video_game/video_game.csv\")"
   ],
   "metadata": {
    "collapsed": false,
    "ExecuteTime": {
     "end_time": "2023-09-11T22:13:45.701331200Z",
     "start_time": "2023-09-11T22:12:47.570726700Z"
    }
   },
   "id": "634102b304b3d654"
  },
  {
   "cell_type": "code",
   "execution_count": 5,
   "outputs": [
    {
     "name": "stdout",
     "output_type": "stream",
     "text": [
      "Anime Shape: (9206, 6)\n",
      "Book Shape: (44129, 6)\n",
      "Movie Shape: (112119, 6)\n",
      "Music Shape: (1896130, 6)\n",
      "TV Show Shape: (3482, 6)\n",
      "Video Game Shape: (73123, 5)\n"
     ]
    }
   ],
   "source": [
    "# Show All DataFrame's Shape\n",
    "print(f\"Anime Shape: {anime_df.shape}\")\n",
    "print(f\"Book Shape: {book_df.shape}\")\n",
    "print(f\"Movie Shape: {movie_df.shape}\")\n",
    "print(f\"Music Shape: {music_df.shape}\")\n",
    "print(f\"TV Show Shape: {tv_show_df.shape}\")\n",
    "print(f\"Video Game Shape: {video_game_df.shape}\")"
   ],
   "metadata": {
    "collapsed": false,
    "ExecuteTime": {
     "end_time": "2023-09-11T22:13:45.783262300Z",
     "start_time": "2023-09-11T22:13:45.704300800Z"
    }
   },
   "id": "fbd8cc72b5953fe1"
  },
  {
   "cell_type": "code",
   "execution_count": 6,
   "outputs": [
    {
     "data": {
      "text/plain": "8705"
     },
     "execution_count": 6,
     "metadata": {},
     "output_type": "execute_result"
    }
   ],
   "source": [
    "slicing = int(tv_show_df.shape[0] * 2.5)\n",
    "slicing"
   ],
   "metadata": {
    "collapsed": false,
    "ExecuteTime": {
     "end_time": "2023-09-11T22:13:45.873163600Z",
     "start_time": "2023-09-11T22:13:45.781742800Z"
    }
   },
   "id": "bc8006d2cf993ce"
  },
  {
   "cell_type": "markdown",
   "source": [
    "## Anime DataFrame"
   ],
   "metadata": {
    "collapsed": false
   },
   "id": "961357255a3d1c0a"
  },
  {
   "cell_type": "code",
   "execution_count": 7,
   "outputs": [
    {
     "data": {
      "text/plain": "                     title                                        description  \\\n0             Cowboy Bebop  Crime is timeless. By the year 2071, humanity ...   \n1  Cowboy Bebop: The Movie  Another day, another bounty—such is the life o...   \n2                   Trigun  Vash the Stampede is the man with a $$60,000,0...   \n3       Witch Hunter Robin  Robin Sena is a powerful craft user drafted in...   \n4   Beet the Vandel Buster  It is the dark century and the people are suff...   \n\n                                 genres  rating primary_genre category  \n0         Action, Award Winning, Sci-Fi    8.75        Action    anime  \n1                        Action, Sci-Fi    8.38        Action    anime  \n2             Action, Adventure, Sci-Fi    8.22        Action    anime  \n3  Action, Drama, Mystery, Supernatural    7.25        Action    anime  \n4      Adventure, Fantasy, Supernatural    6.94     Adventure    anime  ",
      "text/html": "<div>\n<style scoped>\n    .dataframe tbody tr th:only-of-type {\n        vertical-align: middle;\n    }\n\n    .dataframe tbody tr th {\n        vertical-align: top;\n    }\n\n    .dataframe thead th {\n        text-align: right;\n    }\n</style>\n<table border=\"1\" class=\"dataframe\">\n  <thead>\n    <tr style=\"text-align: right;\">\n      <th></th>\n      <th>title</th>\n      <th>description</th>\n      <th>genres</th>\n      <th>rating</th>\n      <th>primary_genre</th>\n      <th>category</th>\n    </tr>\n  </thead>\n  <tbody>\n    <tr>\n      <th>0</th>\n      <td>Cowboy Bebop</td>\n      <td>Crime is timeless. By the year 2071, humanity ...</td>\n      <td>Action, Award Winning, Sci-Fi</td>\n      <td>8.75</td>\n      <td>Action</td>\n      <td>anime</td>\n    </tr>\n    <tr>\n      <th>1</th>\n      <td>Cowboy Bebop: The Movie</td>\n      <td>Another day, another bounty—such is the life o...</td>\n      <td>Action, Sci-Fi</td>\n      <td>8.38</td>\n      <td>Action</td>\n      <td>anime</td>\n    </tr>\n    <tr>\n      <th>2</th>\n      <td>Trigun</td>\n      <td>Vash the Stampede is the man with a $$60,000,0...</td>\n      <td>Action, Adventure, Sci-Fi</td>\n      <td>8.22</td>\n      <td>Action</td>\n      <td>anime</td>\n    </tr>\n    <tr>\n      <th>3</th>\n      <td>Witch Hunter Robin</td>\n      <td>Robin Sena is a powerful craft user drafted in...</td>\n      <td>Action, Drama, Mystery, Supernatural</td>\n      <td>7.25</td>\n      <td>Action</td>\n      <td>anime</td>\n    </tr>\n    <tr>\n      <th>4</th>\n      <td>Beet the Vandel Buster</td>\n      <td>It is the dark century and the people are suff...</td>\n      <td>Adventure, Fantasy, Supernatural</td>\n      <td>6.94</td>\n      <td>Adventure</td>\n      <td>anime</td>\n    </tr>\n  </tbody>\n</table>\n</div>"
     },
     "execution_count": 7,
     "metadata": {},
     "output_type": "execute_result"
    }
   ],
   "source": [
    "# Anime DataFrame\n",
    "anime_df.head()"
   ],
   "metadata": {
    "collapsed": false,
    "ExecuteTime": {
     "end_time": "2023-09-11T22:13:45.948408700Z",
     "start_time": "2023-09-11T22:13:45.841610Z"
    }
   },
   "id": "5d5a4db93992dd3a"
  },
  {
   "cell_type": "code",
   "execution_count": 8,
   "outputs": [
    {
     "name": "stdout",
     "output_type": "stream",
     "text": [
      "Anime Shape: (9206, 6)\n"
     ]
    }
   ],
   "source": [
    "print(f\"Anime Shape: {anime_df.shape}\")"
   ],
   "metadata": {
    "collapsed": false,
    "ExecuteTime": {
     "end_time": "2023-09-11T22:13:46.076528100Z",
     "start_time": "2023-09-11T22:13:45.916862100Z"
    }
   },
   "id": "5e6ef57f718a64da"
  },
  {
   "cell_type": "code",
   "execution_count": 9,
   "outputs": [],
   "source": [
    "# Get Random Slicing Data From Anime DataFrame\n",
    "anime_df = anime_df.sample(n = slicing, random_state=42).reset_index(drop=True)"
   ],
   "metadata": {
    "collapsed": false,
    "ExecuteTime": {
     "end_time": "2023-09-11T22:13:46.240743700Z",
     "start_time": "2023-09-11T22:13:45.981968500Z"
    }
   },
   "id": "cc8d03000cf365ea"
  },
  {
   "cell_type": "code",
   "execution_count": 10,
   "outputs": [],
   "source": [
    "# Get only description and category\n",
    "anime_df = anime_df.loc[:, [\"description\", \"category\"]]"
   ],
   "metadata": {
    "collapsed": false,
    "ExecuteTime": {
     "end_time": "2023-09-11T22:13:46.269284600Z",
     "start_time": "2023-09-11T22:13:46.057880100Z"
    }
   },
   "id": "d255324d5ab64f25"
  },
  {
   "cell_type": "code",
   "execution_count": 11,
   "outputs": [
    {
     "data": {
      "text/plain": "(8705, 2)"
     },
     "execution_count": 11,
     "metadata": {},
     "output_type": "execute_result"
    }
   ],
   "source": [
    "anime_df.shape"
   ],
   "metadata": {
    "collapsed": false,
    "ExecuteTime": {
     "end_time": "2023-09-11T22:13:46.271286700Z",
     "start_time": "2023-09-11T22:13:46.139056800Z"
    }
   },
   "id": "e420cc6f58b34bae"
  },
  {
   "cell_type": "code",
   "execution_count": 12,
   "outputs": [
    {
     "data": {
      "text/plain": "                                         description category\n0  Freelance photographer Kouhei Morioka is trave...    anime\n1        Based on original story by Kinoshita Renzo.    anime\n2  Fireball takes place during the war between hu...    anime\n3  Although her name means \"snow white,\" Shirayuk...    anime\n4  Music video for the song Hayan Geojismal by SU...    anime",
      "text/html": "<div>\n<style scoped>\n    .dataframe tbody tr th:only-of-type {\n        vertical-align: middle;\n    }\n\n    .dataframe tbody tr th {\n        vertical-align: top;\n    }\n\n    .dataframe thead th {\n        text-align: right;\n    }\n</style>\n<table border=\"1\" class=\"dataframe\">\n  <thead>\n    <tr style=\"text-align: right;\">\n      <th></th>\n      <th>description</th>\n      <th>category</th>\n    </tr>\n  </thead>\n  <tbody>\n    <tr>\n      <th>0</th>\n      <td>Freelance photographer Kouhei Morioka is trave...</td>\n      <td>anime</td>\n    </tr>\n    <tr>\n      <th>1</th>\n      <td>Based on original story by Kinoshita Renzo.</td>\n      <td>anime</td>\n    </tr>\n    <tr>\n      <th>2</th>\n      <td>Fireball takes place during the war between hu...</td>\n      <td>anime</td>\n    </tr>\n    <tr>\n      <th>3</th>\n      <td>Although her name means \"snow white,\" Shirayuk...</td>\n      <td>anime</td>\n    </tr>\n    <tr>\n      <th>4</th>\n      <td>Music video for the song Hayan Geojismal by SU...</td>\n      <td>anime</td>\n    </tr>\n  </tbody>\n</table>\n</div>"
     },
     "execution_count": 12,
     "metadata": {},
     "output_type": "execute_result"
    }
   ],
   "source": [
    "anime_df.head()"
   ],
   "metadata": {
    "collapsed": false,
    "ExecuteTime": {
     "end_time": "2023-09-11T22:13:46.369410900Z",
     "start_time": "2023-09-11T22:13:46.227220300Z"
    }
   },
   "id": "b2df74f207e98d8a"
  },
  {
   "cell_type": "markdown",
   "source": [
    "## Book DataFrame"
   ],
   "metadata": {
    "collapsed": false
   },
   "id": "fe85625dbbd2406e"
  },
  {
   "cell_type": "code",
   "execution_count": 13,
   "outputs": [
    {
     "data": {
      "text/plain": "                                       title  \\\n0                           The Hunger Games   \n1  Harry Potter and the Order of the Phoenix   \n2                      To Kill a Mockingbird   \n3                        Pride and Prejudice   \n4                                   Twilight   \n\n                                         description  \\\n0  Winning will make you famous. Losing means cer...   \n1  There is a door at the end of a silent corrido...   \n2  The unforgettable novel of a childhood in a sl...   \n3  «È cosa ormai risaputa che a uno scapolo in po...   \n4  About three things I was absolutely positive.F...   \n\n                                              genres  rating primary_genre  \\\n0  Young Adult, Fiction, Science Fiction, Dystopi...    8.66   Young Adult   \n1                      Fantasy, Young Adult, Fiction    8.96       Fantasy   \n2  Classics, Fiction, Historical, Historical Fict...    8.54      Classics   \n3                         Classics, Fiction, Romance    8.50      Classics   \n4  Young Adult, Fantasy, Romance, Paranormal, Vam...    7.16   Young Adult   \n\n  category  \n0     book  \n1     book  \n2     book  \n3     book  \n4     book  ",
      "text/html": "<div>\n<style scoped>\n    .dataframe tbody tr th:only-of-type {\n        vertical-align: middle;\n    }\n\n    .dataframe tbody tr th {\n        vertical-align: top;\n    }\n\n    .dataframe thead th {\n        text-align: right;\n    }\n</style>\n<table border=\"1\" class=\"dataframe\">\n  <thead>\n    <tr style=\"text-align: right;\">\n      <th></th>\n      <th>title</th>\n      <th>description</th>\n      <th>genres</th>\n      <th>rating</th>\n      <th>primary_genre</th>\n      <th>category</th>\n    </tr>\n  </thead>\n  <tbody>\n    <tr>\n      <th>0</th>\n      <td>The Hunger Games</td>\n      <td>Winning will make you famous. Losing means cer...</td>\n      <td>Young Adult, Fiction, Science Fiction, Dystopi...</td>\n      <td>8.66</td>\n      <td>Young Adult</td>\n      <td>book</td>\n    </tr>\n    <tr>\n      <th>1</th>\n      <td>Harry Potter and the Order of the Phoenix</td>\n      <td>There is a door at the end of a silent corrido...</td>\n      <td>Fantasy, Young Adult, Fiction</td>\n      <td>8.96</td>\n      <td>Fantasy</td>\n      <td>book</td>\n    </tr>\n    <tr>\n      <th>2</th>\n      <td>To Kill a Mockingbird</td>\n      <td>The unforgettable novel of a childhood in a sl...</td>\n      <td>Classics, Fiction, Historical, Historical Fict...</td>\n      <td>8.54</td>\n      <td>Classics</td>\n      <td>book</td>\n    </tr>\n    <tr>\n      <th>3</th>\n      <td>Pride and Prejudice</td>\n      <td>«È cosa ormai risaputa che a uno scapolo in po...</td>\n      <td>Classics, Fiction, Romance</td>\n      <td>8.50</td>\n      <td>Classics</td>\n      <td>book</td>\n    </tr>\n    <tr>\n      <th>4</th>\n      <td>Twilight</td>\n      <td>About three things I was absolutely positive.F...</td>\n      <td>Young Adult, Fantasy, Romance, Paranormal, Vam...</td>\n      <td>7.16</td>\n      <td>Young Adult</td>\n      <td>book</td>\n    </tr>\n  </tbody>\n</table>\n</div>"
     },
     "execution_count": 13,
     "metadata": {},
     "output_type": "execute_result"
    }
   ],
   "source": [
    "# Book DataFrame\n",
    "book_df.head()"
   ],
   "metadata": {
    "collapsed": false,
    "ExecuteTime": {
     "end_time": "2023-09-11T22:13:46.369410900Z",
     "start_time": "2023-09-11T22:13:46.305262900Z"
    }
   },
   "id": "92f606e991da7830"
  },
  {
   "cell_type": "code",
   "execution_count": 14,
   "outputs": [
    {
     "name": "stdout",
     "output_type": "stream",
     "text": [
      "Book Shape: (44129, 6)\n"
     ]
    }
   ],
   "source": [
    "print(f\"Book Shape: {book_df.shape}\")"
   ],
   "metadata": {
    "collapsed": false,
    "ExecuteTime": {
     "end_time": "2023-09-11T22:13:46.566301Z",
     "start_time": "2023-09-11T22:13:46.370411100Z"
    }
   },
   "id": "e51509fd5b22447f"
  },
  {
   "cell_type": "code",
   "execution_count": 15,
   "outputs": [],
   "source": [
    "# Get Random Slicing Data From Book DataFrame\n",
    "book_df = book_df.sample(n = slicing, random_state=42).reset_index(drop=True)"
   ],
   "metadata": {
    "collapsed": false,
    "ExecuteTime": {
     "end_time": "2023-09-11T22:13:46.715720700Z",
     "start_time": "2023-09-11T22:13:46.443246900Z"
    }
   },
   "id": "8b1a02541c28e81e"
  },
  {
   "cell_type": "code",
   "execution_count": 16,
   "outputs": [],
   "source": [
    "# Get only description and category\n",
    "book_df = book_df.loc[:, [\"description\", \"category\"]]"
   ],
   "metadata": {
    "collapsed": false,
    "ExecuteTime": {
     "end_time": "2023-09-11T22:13:46.780053900Z",
     "start_time": "2023-09-11T22:13:46.538173400Z"
    }
   },
   "id": "41d3bfebccc93f0e"
  },
  {
   "cell_type": "code",
   "execution_count": 17,
   "outputs": [
    {
     "data": {
      "text/plain": "(8705, 2)"
     },
     "execution_count": 17,
     "metadata": {},
     "output_type": "execute_result"
    }
   ],
   "source": [
    "book_df.shape"
   ],
   "metadata": {
    "collapsed": false,
    "ExecuteTime": {
     "end_time": "2023-09-11T22:13:46.809796200Z",
     "start_time": "2023-09-11T22:13:46.615104600Z"
    }
   },
   "id": "299e6e66af3c6777"
  },
  {
   "cell_type": "code",
   "execution_count": 18,
   "outputs": [
    {
     "data": {
      "text/plain": "                                         description category\n0  \"More than any other public figure of the eigh...     book\n1  Gene Baur, the cofounder and president of Farm...     book\n2  A panda walks into a café. He orders a sandwic...     book\n3  A rogue, Damien’s kicked about the country for...     book\n4  Bored and restless in London's Restoration Cou...     book",
      "text/html": "<div>\n<style scoped>\n    .dataframe tbody tr th:only-of-type {\n        vertical-align: middle;\n    }\n\n    .dataframe tbody tr th {\n        vertical-align: top;\n    }\n\n    .dataframe thead th {\n        text-align: right;\n    }\n</style>\n<table border=\"1\" class=\"dataframe\">\n  <thead>\n    <tr style=\"text-align: right;\">\n      <th></th>\n      <th>description</th>\n      <th>category</th>\n    </tr>\n  </thead>\n  <tbody>\n    <tr>\n      <th>0</th>\n      <td>\"More than any other public figure of the eigh...</td>\n      <td>book</td>\n    </tr>\n    <tr>\n      <th>1</th>\n      <td>Gene Baur, the cofounder and president of Farm...</td>\n      <td>book</td>\n    </tr>\n    <tr>\n      <th>2</th>\n      <td>A panda walks into a café. He orders a sandwic...</td>\n      <td>book</td>\n    </tr>\n    <tr>\n      <th>3</th>\n      <td>A rogue, Damien’s kicked about the country for...</td>\n      <td>book</td>\n    </tr>\n    <tr>\n      <th>4</th>\n      <td>Bored and restless in London's Restoration Cou...</td>\n      <td>book</td>\n    </tr>\n  </tbody>\n</table>\n</div>"
     },
     "execution_count": 18,
     "metadata": {},
     "output_type": "execute_result"
    }
   ],
   "source": [
    "book_df.head()"
   ],
   "metadata": {
    "collapsed": false,
    "ExecuteTime": {
     "end_time": "2023-09-11T22:13:46.873899600Z",
     "start_time": "2023-09-11T22:13:46.707212200Z"
    }
   },
   "id": "ac7061d7574585a"
  },
  {
   "cell_type": "markdown",
   "source": [
    "## Movie DataFrame"
   ],
   "metadata": {
    "collapsed": false
   },
   "id": "9a9d540006d8c596"
  },
  {
   "cell_type": "code",
   "execution_count": 19,
   "outputs": [
    {
     "data": {
      "text/plain": "                               title  \\\n0     Black Panther: Wakanda Forever   \n1           Avatar: The Way of Water   \n2                              Plane   \n3  Everything Everywhere All at Once   \n4  Ant-Man and the Wasp: Quantumania   \n\n                                         description  \\\n0  The people of Wakanda fight to protect their h...   \n1  Jake Sully lives with his newfound family form...   \n2  A pilot finds himself caught in a war zone aft...   \n3  A middle-aged Chinese immigrant is swept up in...   \n4  Scott Lang and Hope Van Dyne, along with Hank ...   \n\n                       genres  rating primary_genre category  \n0    Action, Adventure, Drama     6.9        Action    movie  \n1  Action, Adventure, Fantasy     7.8        Action    movie  \n2            Action, Thriller     6.5        Action    movie  \n3   Action, Adventure, Comedy     8.0        Action    movie  \n4   Action, Adventure, Comedy     6.6        Action    movie  ",
      "text/html": "<div>\n<style scoped>\n    .dataframe tbody tr th:only-of-type {\n        vertical-align: middle;\n    }\n\n    .dataframe tbody tr th {\n        vertical-align: top;\n    }\n\n    .dataframe thead th {\n        text-align: right;\n    }\n</style>\n<table border=\"1\" class=\"dataframe\">\n  <thead>\n    <tr style=\"text-align: right;\">\n      <th></th>\n      <th>title</th>\n      <th>description</th>\n      <th>genres</th>\n      <th>rating</th>\n      <th>primary_genre</th>\n      <th>category</th>\n    </tr>\n  </thead>\n  <tbody>\n    <tr>\n      <th>0</th>\n      <td>Black Panther: Wakanda Forever</td>\n      <td>The people of Wakanda fight to protect their h...</td>\n      <td>Action, Adventure, Drama</td>\n      <td>6.9</td>\n      <td>Action</td>\n      <td>movie</td>\n    </tr>\n    <tr>\n      <th>1</th>\n      <td>Avatar: The Way of Water</td>\n      <td>Jake Sully lives with his newfound family form...</td>\n      <td>Action, Adventure, Fantasy</td>\n      <td>7.8</td>\n      <td>Action</td>\n      <td>movie</td>\n    </tr>\n    <tr>\n      <th>2</th>\n      <td>Plane</td>\n      <td>A pilot finds himself caught in a war zone aft...</td>\n      <td>Action, Thriller</td>\n      <td>6.5</td>\n      <td>Action</td>\n      <td>movie</td>\n    </tr>\n    <tr>\n      <th>3</th>\n      <td>Everything Everywhere All at Once</td>\n      <td>A middle-aged Chinese immigrant is swept up in...</td>\n      <td>Action, Adventure, Comedy</td>\n      <td>8.0</td>\n      <td>Action</td>\n      <td>movie</td>\n    </tr>\n    <tr>\n      <th>4</th>\n      <td>Ant-Man and the Wasp: Quantumania</td>\n      <td>Scott Lang and Hope Van Dyne, along with Hank ...</td>\n      <td>Action, Adventure, Comedy</td>\n      <td>6.6</td>\n      <td>Action</td>\n      <td>movie</td>\n    </tr>\n  </tbody>\n</table>\n</div>"
     },
     "execution_count": 19,
     "metadata": {},
     "output_type": "execute_result"
    }
   ],
   "source": [
    "# Movie DataFrame\n",
    "movie_df.head()"
   ],
   "metadata": {
    "collapsed": false,
    "ExecuteTime": {
     "end_time": "2023-09-11T22:13:46.942805700Z",
     "start_time": "2023-09-11T22:13:46.768524700Z"
    }
   },
   "id": "d663284032c94b25"
  },
  {
   "cell_type": "code",
   "execution_count": 20,
   "outputs": [
    {
     "name": "stdout",
     "output_type": "stream",
     "text": [
      "Movie Shape: (112119, 6)\n"
     ]
    }
   ],
   "source": [
    "print(f\"Movie Shape: {movie_df.shape}\")"
   ],
   "metadata": {
    "collapsed": false,
    "ExecuteTime": {
     "end_time": "2023-09-11T22:13:47.059384200Z",
     "start_time": "2023-09-11T22:13:46.846745200Z"
    }
   },
   "id": "d26cdb67e1a95880"
  },
  {
   "cell_type": "code",
   "execution_count": 21,
   "outputs": [],
   "source": [
    "# Get Random Slicing Data From Movie DataFrame\n",
    "movie_df = movie_df.sample(n = slicing, random_state=42).reset_index(drop=True)"
   ],
   "metadata": {
    "collapsed": false,
    "ExecuteTime": {
     "end_time": "2023-09-11T22:13:47.175336700Z",
     "start_time": "2023-09-11T22:13:46.910254600Z"
    }
   },
   "id": "429cdf8686c98fba"
  },
  {
   "cell_type": "code",
   "execution_count": 22,
   "outputs": [],
   "source": [
    "# Get only description and category\n",
    "movie_df = movie_df.loc[:, [\"description\", \"category\"]]"
   ],
   "metadata": {
    "collapsed": false,
    "ExecuteTime": {
     "end_time": "2023-09-11T22:13:47.203528100Z",
     "start_time": "2023-09-11T22:13:47.003521600Z"
    }
   },
   "id": "b8f6852c7a4d9aea"
  },
  {
   "cell_type": "code",
   "execution_count": 23,
   "outputs": [
    {
     "data": {
      "text/plain": "(8705, 2)"
     },
     "execution_count": 23,
     "metadata": {},
     "output_type": "execute_result"
    }
   ],
   "source": [
    "movie_df.shape"
   ],
   "metadata": {
    "collapsed": false,
    "ExecuteTime": {
     "end_time": "2023-09-11T22:13:47.332888200Z",
     "start_time": "2023-09-11T22:13:47.081423400Z"
    }
   },
   "id": "ffe156e575fbfbda"
  },
  {
   "cell_type": "code",
   "execution_count": 24,
   "outputs": [
    {
     "data": {
      "text/plain": "                                         description category\n0  Miles of Love is a story of how an engaged and...    movie\n1  Michael returns home to Chicago from Operation...    movie\n2  The feature length indie cyber thriller \"black...    movie\n3  A reclusive, introverted singer-songwriter fal...    movie\n4  This film dramatizes one of the most famous le...    movie",
      "text/html": "<div>\n<style scoped>\n    .dataframe tbody tr th:only-of-type {\n        vertical-align: middle;\n    }\n\n    .dataframe tbody tr th {\n        vertical-align: top;\n    }\n\n    .dataframe thead th {\n        text-align: right;\n    }\n</style>\n<table border=\"1\" class=\"dataframe\">\n  <thead>\n    <tr style=\"text-align: right;\">\n      <th></th>\n      <th>description</th>\n      <th>category</th>\n    </tr>\n  </thead>\n  <tbody>\n    <tr>\n      <th>0</th>\n      <td>Miles of Love is a story of how an engaged and...</td>\n      <td>movie</td>\n    </tr>\n    <tr>\n      <th>1</th>\n      <td>Michael returns home to Chicago from Operation...</td>\n      <td>movie</td>\n    </tr>\n    <tr>\n      <th>2</th>\n      <td>The feature length indie cyber thriller \"black...</td>\n      <td>movie</td>\n    </tr>\n    <tr>\n      <th>3</th>\n      <td>A reclusive, introverted singer-songwriter fal...</td>\n      <td>movie</td>\n    </tr>\n    <tr>\n      <th>4</th>\n      <td>This film dramatizes one of the most famous le...</td>\n      <td>movie</td>\n    </tr>\n  </tbody>\n</table>\n</div>"
     },
     "execution_count": 24,
     "metadata": {},
     "output_type": "execute_result"
    }
   ],
   "source": [
    "movie_df.head()"
   ],
   "metadata": {
    "collapsed": false,
    "ExecuteTime": {
     "end_time": "2023-09-11T22:13:47.366973800Z",
     "start_time": "2023-09-11T22:13:47.160318700Z"
    }
   },
   "id": "3204fe4825aaa5fd"
  },
  {
   "cell_type": "markdown",
   "source": [
    "## Music DataFrame"
   ],
   "metadata": {
    "collapsed": false
   },
   "id": "f57f05c549414e47"
  },
  {
   "cell_type": "code",
   "execution_count": 25,
   "outputs": [
    {
     "data": {
      "text/plain": "               title                                        description  \\\n0          Killa Cam  \\nKilla Cam, Killa Cam, Cam\\nKilla Cam, Killa ...   \n1         Can I Live  \\n\\n\\nYeah, hah, yeah, Roc-A-Fella\\nWe invite ...   \n2  Forgive Me Father  Maybe cause I'm eatin\\nAnd these bastards fien...   \n3       Down and Out  \\n\\n\\nUgh, Killa!\\nBaby!\\nKanye, this that 197...   \n4             Fly In  \\nSo they ask me\\n\"Young boy\\nWhat you gon' do...   \n\n  genres   views primary_genre category  \n0    rap  173166           rap    music  \n1    rap  468624           rap    music  \n2    rap    4743           rap    music  \n3    rap  144404           rap    music  \n4    rap   78271           rap    music  ",
      "text/html": "<div>\n<style scoped>\n    .dataframe tbody tr th:only-of-type {\n        vertical-align: middle;\n    }\n\n    .dataframe tbody tr th {\n        vertical-align: top;\n    }\n\n    .dataframe thead th {\n        text-align: right;\n    }\n</style>\n<table border=\"1\" class=\"dataframe\">\n  <thead>\n    <tr style=\"text-align: right;\">\n      <th></th>\n      <th>title</th>\n      <th>description</th>\n      <th>genres</th>\n      <th>views</th>\n      <th>primary_genre</th>\n      <th>category</th>\n    </tr>\n  </thead>\n  <tbody>\n    <tr>\n      <th>0</th>\n      <td>Killa Cam</td>\n      <td>\\nKilla Cam, Killa Cam, Cam\\nKilla Cam, Killa ...</td>\n      <td>rap</td>\n      <td>173166</td>\n      <td>rap</td>\n      <td>music</td>\n    </tr>\n    <tr>\n      <th>1</th>\n      <td>Can I Live</td>\n      <td>\\n\\n\\nYeah, hah, yeah, Roc-A-Fella\\nWe invite ...</td>\n      <td>rap</td>\n      <td>468624</td>\n      <td>rap</td>\n      <td>music</td>\n    </tr>\n    <tr>\n      <th>2</th>\n      <td>Forgive Me Father</td>\n      <td>Maybe cause I'm eatin\\nAnd these bastards fien...</td>\n      <td>rap</td>\n      <td>4743</td>\n      <td>rap</td>\n      <td>music</td>\n    </tr>\n    <tr>\n      <th>3</th>\n      <td>Down and Out</td>\n      <td>\\n\\n\\nUgh, Killa!\\nBaby!\\nKanye, this that 197...</td>\n      <td>rap</td>\n      <td>144404</td>\n      <td>rap</td>\n      <td>music</td>\n    </tr>\n    <tr>\n      <th>4</th>\n      <td>Fly In</td>\n      <td>\\nSo they ask me\\n\"Young boy\\nWhat you gon' do...</td>\n      <td>rap</td>\n      <td>78271</td>\n      <td>rap</td>\n      <td>music</td>\n    </tr>\n  </tbody>\n</table>\n</div>"
     },
     "execution_count": 25,
     "metadata": {},
     "output_type": "execute_result"
    }
   ],
   "source": [
    "# Music DataFrame\n",
    "music_df.head()"
   ],
   "metadata": {
    "collapsed": false,
    "ExecuteTime": {
     "end_time": "2023-09-11T22:13:47.367982Z",
     "start_time": "2023-09-11T22:13:47.237169200Z"
    }
   },
   "id": "772b8df75e93a83b"
  },
  {
   "cell_type": "code",
   "execution_count": 26,
   "outputs": [
    {
     "name": "stdout",
     "output_type": "stream",
     "text": [
      "Music Shape: (1896130, 6)\n"
     ]
    }
   ],
   "source": [
    "print(f\"Music Shape: {music_df.shape}\")"
   ],
   "metadata": {
    "collapsed": false,
    "ExecuteTime": {
     "end_time": "2023-09-11T22:13:47.550262800Z",
     "start_time": "2023-09-11T22:13:47.314066400Z"
    }
   },
   "id": "a7900e584e5bb027"
  },
  {
   "cell_type": "code",
   "execution_count": 27,
   "outputs": [],
   "source": [
    "# Get Random Slicing Data From Music DataFrame\n",
    "music_df = music_df.sample(n = slicing, random_state=42).reset_index(drop=True)"
   ],
   "metadata": {
    "collapsed": false,
    "ExecuteTime": {
     "end_time": "2023-09-11T22:13:47.750536800Z",
     "start_time": "2023-09-11T22:13:47.378312200Z"
    }
   },
   "id": "59b28e47fc4aef6"
  },
  {
   "cell_type": "code",
   "execution_count": 28,
   "outputs": [],
   "source": [
    "# Get only description and category\n",
    "music_df = music_df.loc[:, [\"description\", \"category\"]]"
   ],
   "metadata": {
    "collapsed": false,
    "ExecuteTime": {
     "end_time": "2023-09-11T22:13:47.795189Z",
     "start_time": "2023-09-11T22:13:47.578819500Z"
    }
   },
   "id": "8002fe85eb420a51"
  },
  {
   "cell_type": "code",
   "execution_count": 29,
   "outputs": [
    {
     "data": {
      "text/plain": "(8705, 2)"
     },
     "execution_count": 29,
     "metadata": {},
     "output_type": "execute_result"
    }
   ],
   "source": [
    "music_df.shape"
   ],
   "metadata": {
    "collapsed": false,
    "ExecuteTime": {
     "end_time": "2023-09-11T22:13:47.798200400Z",
     "start_time": "2023-09-11T22:13:47.642932200Z"
    }
   },
   "id": "196c73f559c42cc4"
  },
  {
   "cell_type": "code",
   "execution_count": 30,
   "outputs": [
    {
     "data": {
      "text/plain": "                                         description category\n0  Einen gekrönten reien\\nSang ich der frouwen mi...    music\n1  \\nYo, I'm the Anti-Circle!\\nOn the mad train l...    music\n2  From a distant horizon she wanders my way\\nWit...    music\n3  כל הנשים המדוכאות\\nשפוטות על הסירים\\nשומעות מי...    music\n4  Was hat die Zeit aus dir gemacht\\nZu viele Trä...    music",
      "text/html": "<div>\n<style scoped>\n    .dataframe tbody tr th:only-of-type {\n        vertical-align: middle;\n    }\n\n    .dataframe tbody tr th {\n        vertical-align: top;\n    }\n\n    .dataframe thead th {\n        text-align: right;\n    }\n</style>\n<table border=\"1\" class=\"dataframe\">\n  <thead>\n    <tr style=\"text-align: right;\">\n      <th></th>\n      <th>description</th>\n      <th>category</th>\n    </tr>\n  </thead>\n  <tbody>\n    <tr>\n      <th>0</th>\n      <td>Einen gekrönten reien\\nSang ich der frouwen mi...</td>\n      <td>music</td>\n    </tr>\n    <tr>\n      <th>1</th>\n      <td>\\nYo, I'm the Anti-Circle!\\nOn the mad train l...</td>\n      <td>music</td>\n    </tr>\n    <tr>\n      <th>2</th>\n      <td>From a distant horizon she wanders my way\\nWit...</td>\n      <td>music</td>\n    </tr>\n    <tr>\n      <th>3</th>\n      <td>כל הנשים המדוכאות\\nשפוטות על הסירים\\nשומעות מי...</td>\n      <td>music</td>\n    </tr>\n    <tr>\n      <th>4</th>\n      <td>Was hat die Zeit aus dir gemacht\\nZu viele Trä...</td>\n      <td>music</td>\n    </tr>\n  </tbody>\n</table>\n</div>"
     },
     "execution_count": 30,
     "metadata": {},
     "output_type": "execute_result"
    }
   ],
   "source": [
    "music_df.head()"
   ],
   "metadata": {
    "collapsed": false,
    "ExecuteTime": {
     "end_time": "2023-09-11T22:13:47.905143300Z",
     "start_time": "2023-09-11T22:13:47.721287Z"
    }
   },
   "id": "f4d91df769e62f14"
  },
  {
   "cell_type": "markdown",
   "source": [
    "## TV Show DataFrame"
   ],
   "metadata": {
    "collapsed": false
   },
   "id": "540a28c7f01e4b93"
  },
  {
   "cell_type": "code",
   "execution_count": 31,
   "outputs": [
    {
     "data": {
      "text/plain": "                         title  \\\n0            The Three Stooges   \n1       The Jack Benny Program   \n2              What's My Line?   \n3                 The Avengers   \n4  Mister Rogers' Neighborhood   \n\n                                         description  \\\n0  The Three Stooges were an American vaudeville ...   \n1  Laugh along with funnyman Jack Benny as he bri...   \n2  Four panelists must determine guests' occupati...   \n3  The Avengers is a British television series cr...   \n4  Mister Rogers' Neighborhood is an American chi...   \n\n                                            genres  rating primary_genre  \\\n0                                   comedy, family     8.5        comedy   \n1                                           comedy     8.6        comedy   \n2                                  reality, family     8.5       reality   \n3  scifi, action, crime, romance, thriller, comedy     8.3         scifi   \n4                           family, fantasy, music     8.7        family   \n\n  category  \n0  tv show  \n1  tv show  \n2  tv show  \n3  tv show  \n4  tv show  ",
      "text/html": "<div>\n<style scoped>\n    .dataframe tbody tr th:only-of-type {\n        vertical-align: middle;\n    }\n\n    .dataframe tbody tr th {\n        vertical-align: top;\n    }\n\n    .dataframe thead th {\n        text-align: right;\n    }\n</style>\n<table border=\"1\" class=\"dataframe\">\n  <thead>\n    <tr style=\"text-align: right;\">\n      <th></th>\n      <th>title</th>\n      <th>description</th>\n      <th>genres</th>\n      <th>rating</th>\n      <th>primary_genre</th>\n      <th>category</th>\n    </tr>\n  </thead>\n  <tbody>\n    <tr>\n      <th>0</th>\n      <td>The Three Stooges</td>\n      <td>The Three Stooges were an American vaudeville ...</td>\n      <td>comedy, family</td>\n      <td>8.5</td>\n      <td>comedy</td>\n      <td>tv show</td>\n    </tr>\n    <tr>\n      <th>1</th>\n      <td>The Jack Benny Program</td>\n      <td>Laugh along with funnyman Jack Benny as he bri...</td>\n      <td>comedy</td>\n      <td>8.6</td>\n      <td>comedy</td>\n      <td>tv show</td>\n    </tr>\n    <tr>\n      <th>2</th>\n      <td>What's My Line?</td>\n      <td>Four panelists must determine guests' occupati...</td>\n      <td>reality, family</td>\n      <td>8.5</td>\n      <td>reality</td>\n      <td>tv show</td>\n    </tr>\n    <tr>\n      <th>3</th>\n      <td>The Avengers</td>\n      <td>The Avengers is a British television series cr...</td>\n      <td>scifi, action, crime, romance, thriller, comedy</td>\n      <td>8.3</td>\n      <td>scifi</td>\n      <td>tv show</td>\n    </tr>\n    <tr>\n      <th>4</th>\n      <td>Mister Rogers' Neighborhood</td>\n      <td>Mister Rogers' Neighborhood is an American chi...</td>\n      <td>family, fantasy, music</td>\n      <td>8.7</td>\n      <td>family</td>\n      <td>tv show</td>\n    </tr>\n  </tbody>\n</table>\n</div>"
     },
     "execution_count": 31,
     "metadata": {},
     "output_type": "execute_result"
    }
   ],
   "source": [
    "# TV Show DataFrame\n",
    "tv_show_df.head()"
   ],
   "metadata": {
    "collapsed": false,
    "ExecuteTime": {
     "end_time": "2023-09-11T22:13:47.931197400Z",
     "start_time": "2023-09-11T22:13:47.798200400Z"
    }
   },
   "id": "b440536d7a9c1716"
  },
  {
   "cell_type": "code",
   "execution_count": 32,
   "outputs": [
    {
     "name": "stdout",
     "output_type": "stream",
     "text": [
      "TV Show Shape: (3482, 6)\n"
     ]
    }
   ],
   "source": [
    "print(f\"TV Show Shape: {tv_show_df.shape}\")"
   ],
   "metadata": {
    "collapsed": false,
    "ExecuteTime": {
     "end_time": "2023-09-11T22:13:48.063497Z",
     "start_time": "2023-09-11T22:13:47.878136200Z"
    }
   },
   "id": "a044a44627bc308f"
  },
  {
   "cell_type": "code",
   "execution_count": 33,
   "outputs": [],
   "source": [
    "# Random Shuffle TV Show DataFrame\n",
    "tv_show_df = tv_show_df.sample(frac = 1, random_state=42).reset_index(drop=True)"
   ],
   "metadata": {
    "collapsed": false,
    "ExecuteTime": {
     "end_time": "2023-09-11T22:13:48.148266700Z",
     "start_time": "2023-09-11T22:13:47.939255600Z"
    }
   },
   "id": "c29fe3091ec283a3"
  },
  {
   "cell_type": "code",
   "execution_count": 34,
   "outputs": [],
   "source": [
    "# Get only description and category\n",
    "tv_show_df = tv_show_df.loc[:, [\"description\", \"category\"]]"
   ],
   "metadata": {
    "collapsed": false,
    "ExecuteTime": {
     "end_time": "2023-09-11T22:13:48.289475200Z",
     "start_time": "2023-09-11T22:13:48.001723700Z"
    }
   },
   "id": "75ffcfda1ec9684c"
  },
  {
   "cell_type": "code",
   "execution_count": 35,
   "outputs": [
    {
     "data": {
      "text/plain": "(3482, 2)"
     },
     "execution_count": 35,
     "metadata": {},
     "output_type": "execute_result"
    }
   ],
   "source": [
    "tv_show_df.shape"
   ],
   "metadata": {
    "collapsed": false,
    "ExecuteTime": {
     "end_time": "2023-09-11T22:13:48.385317900Z",
     "start_time": "2023-09-11T22:13:48.079083Z"
    }
   },
   "id": "ccf150df1dfcc825"
  },
  {
   "cell_type": "code",
   "execution_count": 36,
   "outputs": [
    {
     "data": {
      "text/plain": "                                         description category\n0  Philip J. Fry, a pizza delivery boy, is accide...  tv show\n1  In this series, Tripadvisor challenges travele...  tv show\n2  Follows the revenge story of a group of people...  tv show\n3  The Incredible Hulk is an American animated te...  tv show\n4  The series revolves around Gabo, a soccer-lovi...  tv show",
      "text/html": "<div>\n<style scoped>\n    .dataframe tbody tr th:only-of-type {\n        vertical-align: middle;\n    }\n\n    .dataframe tbody tr th {\n        vertical-align: top;\n    }\n\n    .dataframe thead th {\n        text-align: right;\n    }\n</style>\n<table border=\"1\" class=\"dataframe\">\n  <thead>\n    <tr style=\"text-align: right;\">\n      <th></th>\n      <th>description</th>\n      <th>category</th>\n    </tr>\n  </thead>\n  <tbody>\n    <tr>\n      <th>0</th>\n      <td>Philip J. Fry, a pizza delivery boy, is accide...</td>\n      <td>tv show</td>\n    </tr>\n    <tr>\n      <th>1</th>\n      <td>In this series, Tripadvisor challenges travele...</td>\n      <td>tv show</td>\n    </tr>\n    <tr>\n      <th>2</th>\n      <td>Follows the revenge story of a group of people...</td>\n      <td>tv show</td>\n    </tr>\n    <tr>\n      <th>3</th>\n      <td>The Incredible Hulk is an American animated te...</td>\n      <td>tv show</td>\n    </tr>\n    <tr>\n      <th>4</th>\n      <td>The series revolves around Gabo, a soccer-lovi...</td>\n      <td>tv show</td>\n    </tr>\n  </tbody>\n</table>\n</div>"
     },
     "execution_count": 36,
     "metadata": {},
     "output_type": "execute_result"
    }
   ],
   "source": [
    "tv_show_df.head()"
   ],
   "metadata": {
    "collapsed": false,
    "ExecuteTime": {
     "end_time": "2023-09-11T22:13:48.385826800Z",
     "start_time": "2023-09-11T22:13:48.156788700Z"
    }
   },
   "id": "a30ee2487f36b48a"
  },
  {
   "cell_type": "markdown",
   "source": [
    "## Video Game DataFrame"
   ],
   "metadata": {
    "collapsed": false
   },
   "id": "82f23c1adf0fbef8"
  },
  {
   "cell_type": "code",
   "execution_count": 37,
   "outputs": [
    {
     "data": {
      "text/plain": "                   title                                        description  \\\n0       Galactic Bowling  Galactic Bowling is an exaggerated and stylize...   \n1           Train Bandit  THE LAW!! Looks to be a showdown atop a train....   \n2           Jolt Project  Jolt Project: The army now has a new robotics ...   \n3               Henosis™  HENOSIS™ is a mysterious 2D Platform Puzzler w...   \n4  Two Weeks in Painland  ABOUT THE GAME Play as a hacker who has arrang...   \n\n                            genres primary_genre category  \n0              Casual,Indie,Sports        Casual     game  \n1                     Action,Indie        Action     game  \n2  Action,Adventure,Indie,Strategy        Action     game  \n3           Adventure,Casual,Indie     Adventure     game  \n4                  Adventure,Indie     Adventure     game  ",
      "text/html": "<div>\n<style scoped>\n    .dataframe tbody tr th:only-of-type {\n        vertical-align: middle;\n    }\n\n    .dataframe tbody tr th {\n        vertical-align: top;\n    }\n\n    .dataframe thead th {\n        text-align: right;\n    }\n</style>\n<table border=\"1\" class=\"dataframe\">\n  <thead>\n    <tr style=\"text-align: right;\">\n      <th></th>\n      <th>title</th>\n      <th>description</th>\n      <th>genres</th>\n      <th>primary_genre</th>\n      <th>category</th>\n    </tr>\n  </thead>\n  <tbody>\n    <tr>\n      <th>0</th>\n      <td>Galactic Bowling</td>\n      <td>Galactic Bowling is an exaggerated and stylize...</td>\n      <td>Casual,Indie,Sports</td>\n      <td>Casual</td>\n      <td>game</td>\n    </tr>\n    <tr>\n      <th>1</th>\n      <td>Train Bandit</td>\n      <td>THE LAW!! Looks to be a showdown atop a train....</td>\n      <td>Action,Indie</td>\n      <td>Action</td>\n      <td>game</td>\n    </tr>\n    <tr>\n      <th>2</th>\n      <td>Jolt Project</td>\n      <td>Jolt Project: The army now has a new robotics ...</td>\n      <td>Action,Adventure,Indie,Strategy</td>\n      <td>Action</td>\n      <td>game</td>\n    </tr>\n    <tr>\n      <th>3</th>\n      <td>Henosis™</td>\n      <td>HENOSIS™ is a mysterious 2D Platform Puzzler w...</td>\n      <td>Adventure,Casual,Indie</td>\n      <td>Adventure</td>\n      <td>game</td>\n    </tr>\n    <tr>\n      <th>4</th>\n      <td>Two Weeks in Painland</td>\n      <td>ABOUT THE GAME Play as a hacker who has arrang...</td>\n      <td>Adventure,Indie</td>\n      <td>Adventure</td>\n      <td>game</td>\n    </tr>\n  </tbody>\n</table>\n</div>"
     },
     "execution_count": 37,
     "metadata": {},
     "output_type": "execute_result"
    }
   ],
   "source": [
    "# Video Game DataFrame\n",
    "video_game_df.head()"
   ],
   "metadata": {
    "collapsed": false,
    "ExecuteTime": {
     "end_time": "2023-09-11T22:13:48.396354900Z",
     "start_time": "2023-09-11T22:13:48.222321300Z"
    }
   },
   "id": "bef8fde7f4b91860"
  },
  {
   "cell_type": "code",
   "execution_count": 38,
   "outputs": [
    {
     "name": "stdout",
     "output_type": "stream",
     "text": [
      "Video Game Shape: (73123, 5)\n"
     ]
    }
   ],
   "source": [
    "print(f\"Video Game Shape: {video_game_df.shape}\")"
   ],
   "metadata": {
    "collapsed": false,
    "ExecuteTime": {
     "end_time": "2023-09-11T22:13:48.547655700Z",
     "start_time": "2023-09-11T22:13:48.301001600Z"
    }
   },
   "id": "43bdb9e4efac5be0"
  },
  {
   "cell_type": "code",
   "execution_count": 39,
   "outputs": [],
   "source": [
    "# Get Random Slicing Data From Video Game DataFrame\n",
    "video_game_df = video_game_df.sample(n = slicing, random_state=42).reset_index(drop=True)"
   ],
   "metadata": {
    "collapsed": false,
    "ExecuteTime": {
     "end_time": "2023-09-11T22:13:48.596587500Z",
     "start_time": "2023-09-11T22:13:48.390837Z"
    }
   },
   "id": "8456a4662ef61334"
  },
  {
   "cell_type": "code",
   "execution_count": 40,
   "outputs": [],
   "source": [
    "# Get only description and category\n",
    "video_game_df = video_game_df.loc[:, [\"description\", \"category\"]]"
   ],
   "metadata": {
    "collapsed": false,
    "ExecuteTime": {
     "end_time": "2023-09-11T22:13:48.672208400Z",
     "start_time": "2023-09-11T22:13:48.456476Z"
    }
   },
   "id": "b2e80bae7c88f2a7"
  },
  {
   "cell_type": "code",
   "execution_count": 41,
   "outputs": [
    {
     "data": {
      "text/plain": "(8705, 2)"
     },
     "execution_count": 41,
     "metadata": {},
     "output_type": "execute_result"
    }
   ],
   "source": [
    "video_game_df.shape"
   ],
   "metadata": {
    "collapsed": false,
    "ExecuteTime": {
     "end_time": "2023-09-11T22:13:48.781449100Z",
     "start_time": "2023-09-11T22:13:48.521103300Z"
    }
   },
   "id": "7e54234cb4a26672"
  },
  {
   "cell_type": "code",
   "execution_count": 42,
   "outputs": [
    {
     "data": {
      "text/plain": "                                         description category\n0  “Treasure Girl” is our new game with 2 beautif...     game\n1  Race for big money while running away from the...     game\n2  'This Bum-bo game! it about time Bum-bo got co...     game\n3  Portal&trade; is a new single player game from...     game\n4  Collect allies and weapons in parallel worlds ...     game",
      "text/html": "<div>\n<style scoped>\n    .dataframe tbody tr th:only-of-type {\n        vertical-align: middle;\n    }\n\n    .dataframe tbody tr th {\n        vertical-align: top;\n    }\n\n    .dataframe thead th {\n        text-align: right;\n    }\n</style>\n<table border=\"1\" class=\"dataframe\">\n  <thead>\n    <tr style=\"text-align: right;\">\n      <th></th>\n      <th>description</th>\n      <th>category</th>\n    </tr>\n  </thead>\n  <tbody>\n    <tr>\n      <th>0</th>\n      <td>“Treasure Girl” is our new game with 2 beautif...</td>\n      <td>game</td>\n    </tr>\n    <tr>\n      <th>1</th>\n      <td>Race for big money while running away from the...</td>\n      <td>game</td>\n    </tr>\n    <tr>\n      <th>2</th>\n      <td>'This Bum-bo game! it about time Bum-bo got co...</td>\n      <td>game</td>\n    </tr>\n    <tr>\n      <th>3</th>\n      <td>Portal&amp;trade; is a new single player game from...</td>\n      <td>game</td>\n    </tr>\n    <tr>\n      <th>4</th>\n      <td>Collect allies and weapons in parallel worlds ...</td>\n      <td>game</td>\n    </tr>\n  </tbody>\n</table>\n</div>"
     },
     "execution_count": 42,
     "metadata": {},
     "output_type": "execute_result"
    }
   ],
   "source": [
    "video_game_df.head()"
   ],
   "metadata": {
    "collapsed": false,
    "ExecuteTime": {
     "end_time": "2023-09-11T22:13:48.846794Z",
     "start_time": "2023-09-11T22:13:48.577021500Z"
    }
   },
   "id": "6f025ba501b16133"
  },
  {
   "cell_type": "markdown",
   "source": [
    "# Combine All The Dataframes"
   ],
   "metadata": {
    "collapsed": false
   },
   "id": "c72c1999b42bbbee"
  },
  {
   "cell_type": "code",
   "execution_count": 43,
   "outputs": [],
   "source": [
    "def get_combined_df(df_list):\n",
    "    combined_df = pd.concat(df_list, axis=0)\n",
    "    combined_df = combined_df.sample(frac=1, random_state=42).reset_index(drop=True)\n",
    "    return combined_df"
   ],
   "metadata": {
    "collapsed": false,
    "ExecuteTime": {
     "end_time": "2023-09-11T22:13:48.936464100Z",
     "start_time": "2023-09-11T22:13:48.639668300Z"
    }
   },
   "id": "a51e41423a86ecf"
  },
  {
   "cell_type": "code",
   "execution_count": 44,
   "outputs": [],
   "source": [
    "entertainment_df_list = [anime_df, book_df, movie_df, music_df, tv_show_df, video_game_df]"
   ],
   "metadata": {
    "collapsed": false,
    "ExecuteTime": {
     "end_time": "2023-09-11T22:13:48.970039500Z",
     "start_time": "2023-09-11T22:13:48.720376600Z"
    }
   },
   "id": "8111e7ca2551d506"
  },
  {
   "cell_type": "code",
   "execution_count": 45,
   "outputs": [],
   "source": [
    "entertainment_df = get_combined_df(entertainment_df_list)"
   ],
   "metadata": {
    "collapsed": false,
    "ExecuteTime": {
     "end_time": "2023-09-11T22:13:49.020344500Z",
     "start_time": "2023-09-11T22:13:48.827755900Z"
    }
   },
   "id": "15f423957ffe767d"
  },
  {
   "cell_type": "code",
   "execution_count": 46,
   "outputs": [],
   "source": [
    "# Drop Duplicates\n",
    "entertainment_df = entertainment_df.drop_duplicates(subset=\"description\", keep=\"first\")"
   ],
   "metadata": {
    "collapsed": false,
    "ExecuteTime": {
     "end_time": "2023-09-11T22:13:49.173525200Z",
     "start_time": "2023-09-11T22:13:48.908512400Z"
    }
   },
   "id": "f387e0f23424596e"
  },
  {
   "cell_type": "code",
   "execution_count": 47,
   "outputs": [],
   "source": [
    "def get_df_info(df):\n",
    "    print(\"Shape of the dataframe: \", df.shape)\n",
    "    print(\"The DataFrame: \")\n",
    "    display(df.head())\n",
    "    print(\"All Data Types: \")\n",
    "    display(df.dtypes)\n",
    "    print(\"Null Values:\")\n",
    "    display(df.isna().sum())\n",
    "    print(\"Duplicate Description Count: \", df[\"description\"].duplicated().sum())\n",
    "    print(\"DataFrame Details:\")\n",
    "    display(df.describe(include=\"all\"))"
   ],
   "metadata": {
    "collapsed": false,
    "ExecuteTime": {
     "end_time": "2023-09-11T22:13:49.179035100Z",
     "start_time": "2023-09-11T22:13:49.064236300Z"
    }
   },
   "id": "f307770c6cac2fab"
  },
  {
   "cell_type": "code",
   "execution_count": 48,
   "outputs": [
    {
     "name": "stdout",
     "output_type": "stream",
     "text": [
      "Shape of the dataframe:  (46997, 2)\n",
      "The DataFrame: \n"
     ]
    },
    {
     "data": {
      "text/plain": "                                         description category\n0  What could be worse than letting billions die?...     book\n1  Ahora sé\\nPerdemos tiempo\\nEn peleas sin razón...    music\n2  Jorge Luis Borges declared The Invention of Mo...     book\n3  الكتاب متوفر للتحميل على الموقع.وساوس النَّفْس...     book\n4  Thee devil shall roam the earth\\nAnd plague an...    music",
      "text/html": "<div>\n<style scoped>\n    .dataframe tbody tr th:only-of-type {\n        vertical-align: middle;\n    }\n\n    .dataframe tbody tr th {\n        vertical-align: top;\n    }\n\n    .dataframe thead th {\n        text-align: right;\n    }\n</style>\n<table border=\"1\" class=\"dataframe\">\n  <thead>\n    <tr style=\"text-align: right;\">\n      <th></th>\n      <th>description</th>\n      <th>category</th>\n    </tr>\n  </thead>\n  <tbody>\n    <tr>\n      <th>0</th>\n      <td>What could be worse than letting billions die?...</td>\n      <td>book</td>\n    </tr>\n    <tr>\n      <th>1</th>\n      <td>Ahora sé\\nPerdemos tiempo\\nEn peleas sin razón...</td>\n      <td>music</td>\n    </tr>\n    <tr>\n      <th>2</th>\n      <td>Jorge Luis Borges declared The Invention of Mo...</td>\n      <td>book</td>\n    </tr>\n    <tr>\n      <th>3</th>\n      <td>الكتاب متوفر للتحميل على الموقع.وساوس النَّفْس...</td>\n      <td>book</td>\n    </tr>\n    <tr>\n      <th>4</th>\n      <td>Thee devil shall roam the earth\\nAnd plague an...</td>\n      <td>music</td>\n    </tr>\n  </tbody>\n</table>\n</div>"
     },
     "metadata": {},
     "output_type": "display_data"
    },
    {
     "name": "stdout",
     "output_type": "stream",
     "text": [
      "All Data Types: \n"
     ]
    },
    {
     "data": {
      "text/plain": "description    object\ncategory       object\ndtype: object"
     },
     "metadata": {},
     "output_type": "display_data"
    },
    {
     "name": "stdout",
     "output_type": "stream",
     "text": [
      "Null Values:\n"
     ]
    },
    {
     "data": {
      "text/plain": "description    0\ncategory       0\ndtype: int64"
     },
     "metadata": {},
     "output_type": "display_data"
    },
    {
     "name": "stdout",
     "output_type": "stream",
     "text": [
      "Duplicate Description Count:  0\n",
      "DataFrame Details:\n"
     ]
    },
    {
     "data": {
      "text/plain": "                                              description category\ncount                                               46997    46997\nunique                                              46997        6\ntop     What could be worse than letting billions die?...     book\nfreq                                                    1     8705",
      "text/html": "<div>\n<style scoped>\n    .dataframe tbody tr th:only-of-type {\n        vertical-align: middle;\n    }\n\n    .dataframe tbody tr th {\n        vertical-align: top;\n    }\n\n    .dataframe thead th {\n        text-align: right;\n    }\n</style>\n<table border=\"1\" class=\"dataframe\">\n  <thead>\n    <tr style=\"text-align: right;\">\n      <th></th>\n      <th>description</th>\n      <th>category</th>\n    </tr>\n  </thead>\n  <tbody>\n    <tr>\n      <th>count</th>\n      <td>46997</td>\n      <td>46997</td>\n    </tr>\n    <tr>\n      <th>unique</th>\n      <td>46997</td>\n      <td>6</td>\n    </tr>\n    <tr>\n      <th>top</th>\n      <td>What could be worse than letting billions die?...</td>\n      <td>book</td>\n    </tr>\n    <tr>\n      <th>freq</th>\n      <td>1</td>\n      <td>8705</td>\n    </tr>\n  </tbody>\n</table>\n</div>"
     },
     "metadata": {},
     "output_type": "display_data"
    }
   ],
   "source": [
    "get_df_info(entertainment_df)"
   ],
   "metadata": {
    "collapsed": false,
    "ExecuteTime": {
     "end_time": "2023-09-11T22:13:49.496245Z",
     "start_time": "2023-09-11T22:13:49.138978200Z"
    }
   },
   "id": "d7866d3200aa6f47"
  },
  {
   "cell_type": "markdown",
   "source": [
    "# Remove Language Except English"
   ],
   "metadata": {
    "collapsed": false
   },
   "id": "f5261f5be57d291b"
  },
  {
   "cell_type": "code",
   "execution_count": 49,
   "outputs": [],
   "source": [
    "# Language Detect Method\n",
    "def detect_language(text):\n",
    "    try:\n",
    "        lang = detect(text)\n",
    "        return lang == \"en\"\n",
    "    except:\n",
    "        return False"
   ],
   "metadata": {
    "collapsed": false,
    "ExecuteTime": {
     "end_time": "2023-09-11T22:13:49.552520700Z",
     "start_time": "2023-09-11T22:13:49.325713100Z"
    }
   },
   "id": "bf61c63a5e8ae725"
  },
  {
   "cell_type": "code",
   "execution_count": 50,
   "outputs": [],
   "source": [
    "entertainment_english_df = entertainment_df[entertainment_df[\"description\"].apply(detect_language)]"
   ],
   "metadata": {
    "collapsed": false,
    "ExecuteTime": {
     "end_time": "2023-09-11T22:18:07.868327900Z",
     "start_time": "2023-09-11T22:13:49.403004700Z"
    }
   },
   "id": "d7f2a1e91f88dbce"
  },
  {
   "cell_type": "code",
   "execution_count": 51,
   "outputs": [],
   "source": [
    "entertainment_english_df = entertainment_english_df.reset_index(drop=True)"
   ],
   "metadata": {
    "collapsed": false,
    "ExecuteTime": {
     "end_time": "2023-09-11T22:18:07.930430700Z",
     "start_time": "2023-09-11T22:18:07.870287400Z"
    }
   },
   "id": "ede0841736d48635"
  },
  {
   "cell_type": "code",
   "execution_count": 52,
   "outputs": [
    {
     "name": "stdout",
     "output_type": "stream",
     "text": [
      "Shape of the dataframe:  (42540, 2)\n",
      "The DataFrame: \n"
     ]
    },
    {
     "data": {
      "text/plain": "                                         description category\n0  What could be worse than letting billions die?...     book\n1  Jorge Luis Borges declared The Invention of Mo...     book\n2  Thee devil shall roam the earth\\nAnd plague an...    music\n3  (Hook)\\nThem niggas over there, never play fai...    music\n4  Jigsaw Puzzle: Beach Season – the journey to t...     game",
      "text/html": "<div>\n<style scoped>\n    .dataframe tbody tr th:only-of-type {\n        vertical-align: middle;\n    }\n\n    .dataframe tbody tr th {\n        vertical-align: top;\n    }\n\n    .dataframe thead th {\n        text-align: right;\n    }\n</style>\n<table border=\"1\" class=\"dataframe\">\n  <thead>\n    <tr style=\"text-align: right;\">\n      <th></th>\n      <th>description</th>\n      <th>category</th>\n    </tr>\n  </thead>\n  <tbody>\n    <tr>\n      <th>0</th>\n      <td>What could be worse than letting billions die?...</td>\n      <td>book</td>\n    </tr>\n    <tr>\n      <th>1</th>\n      <td>Jorge Luis Borges declared The Invention of Mo...</td>\n      <td>book</td>\n    </tr>\n    <tr>\n      <th>2</th>\n      <td>Thee devil shall roam the earth\\nAnd plague an...</td>\n      <td>music</td>\n    </tr>\n    <tr>\n      <th>3</th>\n      <td>(Hook)\\nThem niggas over there, never play fai...</td>\n      <td>music</td>\n    </tr>\n    <tr>\n      <th>4</th>\n      <td>Jigsaw Puzzle: Beach Season – the journey to t...</td>\n      <td>game</td>\n    </tr>\n  </tbody>\n</table>\n</div>"
     },
     "metadata": {},
     "output_type": "display_data"
    },
    {
     "name": "stdout",
     "output_type": "stream",
     "text": [
      "All Data Types: \n"
     ]
    },
    {
     "data": {
      "text/plain": "description    object\ncategory       object\ndtype: object"
     },
     "metadata": {},
     "output_type": "display_data"
    },
    {
     "name": "stdout",
     "output_type": "stream",
     "text": [
      "Null Values:\n"
     ]
    },
    {
     "data": {
      "text/plain": "description    0\ncategory       0\ndtype: int64"
     },
     "metadata": {},
     "output_type": "display_data"
    },
    {
     "name": "stdout",
     "output_type": "stream",
     "text": [
      "Duplicate Description Count:  0\n",
      "DataFrame Details:\n"
     ]
    },
    {
     "data": {
      "text/plain": "                                              description category\ncount                                               42540    42540\nunique                                              42540        6\ntop     What could be worse than letting billions die?...    movie\nfreq                                                    1     8676",
      "text/html": "<div>\n<style scoped>\n    .dataframe tbody tr th:only-of-type {\n        vertical-align: middle;\n    }\n\n    .dataframe tbody tr th {\n        vertical-align: top;\n    }\n\n    .dataframe thead th {\n        text-align: right;\n    }\n</style>\n<table border=\"1\" class=\"dataframe\">\n  <thead>\n    <tr style=\"text-align: right;\">\n      <th></th>\n      <th>description</th>\n      <th>category</th>\n    </tr>\n  </thead>\n  <tbody>\n    <tr>\n      <th>count</th>\n      <td>42540</td>\n      <td>42540</td>\n    </tr>\n    <tr>\n      <th>unique</th>\n      <td>42540</td>\n      <td>6</td>\n    </tr>\n    <tr>\n      <th>top</th>\n      <td>What could be worse than letting billions die?...</td>\n      <td>movie</td>\n    </tr>\n    <tr>\n      <th>freq</th>\n      <td>1</td>\n      <td>8676</td>\n    </tr>\n  </tbody>\n</table>\n</div>"
     },
     "metadata": {},
     "output_type": "display_data"
    }
   ],
   "source": [
    "get_df_info(entertainment_english_df)"
   ],
   "metadata": {
    "collapsed": false,
    "ExecuteTime": {
     "end_time": "2023-09-11T22:18:08.162819500Z",
     "start_time": "2023-09-11T22:18:07.931395100Z"
    }
   },
   "id": "eee31807809b80f3"
  },
  {
   "cell_type": "code",
   "execution_count": 53,
   "outputs": [
    {
     "data": {
      "text/plain": "                                         description category\n0  What could be worse than letting billions die?...     book\n1  Jorge Luis Borges declared The Invention of Mo...     book\n2  Thee devil shall roam the earth\\nAnd plague an...    music\n3  (Hook)\\nThem niggas over there, never play fai...    music\n4  Jigsaw Puzzle: Beach Season – the journey to t...     game",
      "text/html": "<div>\n<style scoped>\n    .dataframe tbody tr th:only-of-type {\n        vertical-align: middle;\n    }\n\n    .dataframe tbody tr th {\n        vertical-align: top;\n    }\n\n    .dataframe thead th {\n        text-align: right;\n    }\n</style>\n<table border=\"1\" class=\"dataframe\">\n  <thead>\n    <tr style=\"text-align: right;\">\n      <th></th>\n      <th>description</th>\n      <th>category</th>\n    </tr>\n  </thead>\n  <tbody>\n    <tr>\n      <th>0</th>\n      <td>What could be worse than letting billions die?...</td>\n      <td>book</td>\n    </tr>\n    <tr>\n      <th>1</th>\n      <td>Jorge Luis Borges declared The Invention of Mo...</td>\n      <td>book</td>\n    </tr>\n    <tr>\n      <th>2</th>\n      <td>Thee devil shall roam the earth\\nAnd plague an...</td>\n      <td>music</td>\n    </tr>\n    <tr>\n      <th>3</th>\n      <td>(Hook)\\nThem niggas over there, never play fai...</td>\n      <td>music</td>\n    </tr>\n    <tr>\n      <th>4</th>\n      <td>Jigsaw Puzzle: Beach Season – the journey to t...</td>\n      <td>game</td>\n    </tr>\n  </tbody>\n</table>\n</div>"
     },
     "execution_count": 53,
     "metadata": {},
     "output_type": "execute_result"
    }
   ],
   "source": [
    "entertainment_english_df.head()"
   ],
   "metadata": {
    "collapsed": false,
    "ExecuteTime": {
     "end_time": "2023-09-11T22:18:08.310369300Z",
     "start_time": "2023-09-11T22:18:08.074321300Z"
    }
   },
   "id": "78544beec0756c06"
  },
  {
   "cell_type": "markdown",
   "source": [
    "# Remove Unnecessary Characters"
   ],
   "metadata": {
    "collapsed": false
   },
   "id": "c7a70efbd52a4d6"
  },
  {
   "cell_type": "code",
   "execution_count": 54,
   "outputs": [],
   "source": [
    "# Getting Clean Text Method\n",
    "def get_clean_text(text):\n",
    "    clean_text =  (text.replace(\"\\n\", \" \")\n",
    "                   .replace(\"🕺🏾\", \" \")\n",
    "                   .replace(\"\\r\", \" \")\n",
    "                   .replace(\" \", \" \")\n",
    "                   .replace(\"↑\", \" \")\n",
    "                   .replace(\"↓\", \" \")\n",
    "                   .replace(\"←\", \" \")\n",
    "                   .replace(\"→\", \" \"))\n",
    "    clean_text = re.sub(r\"\\s+\", \" \", clean_text)\n",
    "    return clean_text"
   ],
   "metadata": {
    "collapsed": false,
    "ExecuteTime": {
     "end_time": "2023-09-11T22:18:08.321884Z",
     "start_time": "2023-09-11T22:18:08.134248200Z"
    }
   },
   "id": "43cd629c5b34d3fd"
  },
  {
   "cell_type": "code",
   "execution_count": 55,
   "outputs": [
    {
     "data": {
      "text/plain": "\"What could be worse than letting billions die?\\r\\r\\n\\r\\r\\nIn the near future, to escape the crush and clutter of a packed and polluted Earth, the world's elite flock to Atopia, an enormous corporate-owned artificial island in the Pacific Ocean. It is there that Dr. Patricia Killiam rushes to perfect the ultimate in virtual reality: a program to save the ravaged Earth from mankind's insatiable appetite for natural resources.\\xa0\\r\\r\\nThe Atopia Chronicles (Book 1 of the Atopia series) is the tale of mankind's dark slide across the apocalypse as humans and machines merge in a world teetering on the brink of ecological ruin.\\r\\r\\n\""
     },
     "execution_count": 55,
     "metadata": {},
     "output_type": "execute_result"
    }
   ],
   "source": [
    "entertainment_english_df[\"description\"][0]"
   ],
   "metadata": {
    "collapsed": false,
    "ExecuteTime": {
     "end_time": "2023-09-11T22:18:08.369618400Z",
     "start_time": "2023-09-11T22:18:08.198927200Z"
    }
   },
   "id": "7323c4cccbdea41f"
  },
  {
   "cell_type": "code",
   "execution_count": 56,
   "outputs": [
    {
     "data": {
      "text/plain": "\"What could be worse than letting billions die? In the near future, to escape the crush and clutter of a packed and polluted Earth, the world's elite flock to Atopia, an enormous corporate-owned artificial island in the Pacific Ocean. It is there that Dr. Patricia Killiam rushes to perfect the ultimate in virtual reality: a program to save the ravaged Earth from mankind's insatiable appetite for natural resources. The Atopia Chronicles (Book 1 of the Atopia series) is the tale of mankind's dark slide across the apocalypse as humans and machines merge in a world teetering on the brink of ecological ruin. \""
     },
     "execution_count": 56,
     "metadata": {},
     "output_type": "execute_result"
    }
   ],
   "source": [
    "get_clean_text(entertainment_english_df[\"description\"][0])"
   ],
   "metadata": {
    "collapsed": false,
    "ExecuteTime": {
     "end_time": "2023-09-11T22:18:08.395746800Z",
     "start_time": "2023-09-11T22:18:08.261089300Z"
    }
   },
   "id": "8550663cce08d5f3"
  },
  {
   "cell_type": "code",
   "execution_count": 57,
   "outputs": [],
   "source": [
    "for i in range(entertainment_english_df.shape[0]):\n",
    "    ct = get_clean_text(entertainment_english_df[\"description\"][i])\n",
    "    entertainment_english_df.loc[i, \"description\"] = ct"
   ],
   "metadata": {
    "collapsed": false,
    "ExecuteTime": {
     "end_time": "2023-09-11T22:18:16.784246400Z",
     "start_time": "2023-09-11T22:18:08.322884Z"
    }
   },
   "id": "b5f58012659ab979"
  },
  {
   "cell_type": "code",
   "execution_count": 61,
   "outputs": [
    {
     "data": {
      "text/plain": "                                         description category\n0  What could be worse than letting billions die?...     book\n1  Jorge Luis Borges declared The Invention of Mo...     book\n2  Thee devil shall roam the earth And plague and...    music\n3  (Hook) Them niggas over there, never play fair...    music\n4  Jigsaw Puzzle: Beach Season – the journey to t...     game",
      "text/html": "<div>\n<style scoped>\n    .dataframe tbody tr th:only-of-type {\n        vertical-align: middle;\n    }\n\n    .dataframe tbody tr th {\n        vertical-align: top;\n    }\n\n    .dataframe thead th {\n        text-align: right;\n    }\n</style>\n<table border=\"1\" class=\"dataframe\">\n  <thead>\n    <tr style=\"text-align: right;\">\n      <th></th>\n      <th>description</th>\n      <th>category</th>\n    </tr>\n  </thead>\n  <tbody>\n    <tr>\n      <th>0</th>\n      <td>What could be worse than letting billions die?...</td>\n      <td>book</td>\n    </tr>\n    <tr>\n      <th>1</th>\n      <td>Jorge Luis Borges declared The Invention of Mo...</td>\n      <td>book</td>\n    </tr>\n    <tr>\n      <th>2</th>\n      <td>Thee devil shall roam the earth And plague and...</td>\n      <td>music</td>\n    </tr>\n    <tr>\n      <th>3</th>\n      <td>(Hook) Them niggas over there, never play fair...</td>\n      <td>music</td>\n    </tr>\n    <tr>\n      <th>4</th>\n      <td>Jigsaw Puzzle: Beach Season – the journey to t...</td>\n      <td>game</td>\n    </tr>\n  </tbody>\n</table>\n</div>"
     },
     "execution_count": 61,
     "metadata": {},
     "output_type": "execute_result"
    }
   ],
   "source": [
    "entertainment_english_df.head()"
   ],
   "metadata": {
    "collapsed": false,
    "ExecuteTime": {
     "end_time": "2023-09-11T22:19:14.310184400Z",
     "start_time": "2023-09-11T22:19:14.192435500Z"
    }
   },
   "id": "fb8c48ea6dd13abd"
  },
  {
   "cell_type": "code",
   "execution_count": 63,
   "outputs": [],
   "source": [
    "# Drop Duplicates\n",
    "entertainment_english_df = entertainment_english_df.drop_duplicates(subset=\"description\", keep=\"first\")"
   ],
   "metadata": {
    "collapsed": false,
    "ExecuteTime": {
     "end_time": "2023-09-11T22:20:33.842963900Z",
     "start_time": "2023-09-11T22:20:33.748973800Z"
    }
   },
   "id": "8b79bd5ddf2972a"
  },
  {
   "cell_type": "code",
   "execution_count": 64,
   "outputs": [
    {
     "name": "stdout",
     "output_type": "stream",
     "text": [
      "Shape of the dataframe:  (42535, 2)\n",
      "The DataFrame: \n"
     ]
    },
    {
     "data": {
      "text/plain": "                                         description category\n0  What could be worse than letting billions die?...     book\n1  Jorge Luis Borges declared The Invention of Mo...     book\n2  Thee devil shall roam the earth And plague and...    music\n3  (Hook) Them niggas over there, never play fair...    music\n4  Jigsaw Puzzle: Beach Season – the journey to t...     game",
      "text/html": "<div>\n<style scoped>\n    .dataframe tbody tr th:only-of-type {\n        vertical-align: middle;\n    }\n\n    .dataframe tbody tr th {\n        vertical-align: top;\n    }\n\n    .dataframe thead th {\n        text-align: right;\n    }\n</style>\n<table border=\"1\" class=\"dataframe\">\n  <thead>\n    <tr style=\"text-align: right;\">\n      <th></th>\n      <th>description</th>\n      <th>category</th>\n    </tr>\n  </thead>\n  <tbody>\n    <tr>\n      <th>0</th>\n      <td>What could be worse than letting billions die?...</td>\n      <td>book</td>\n    </tr>\n    <tr>\n      <th>1</th>\n      <td>Jorge Luis Borges declared The Invention of Mo...</td>\n      <td>book</td>\n    </tr>\n    <tr>\n      <th>2</th>\n      <td>Thee devil shall roam the earth And plague and...</td>\n      <td>music</td>\n    </tr>\n    <tr>\n      <th>3</th>\n      <td>(Hook) Them niggas over there, never play fair...</td>\n      <td>music</td>\n    </tr>\n    <tr>\n      <th>4</th>\n      <td>Jigsaw Puzzle: Beach Season – the journey to t...</td>\n      <td>game</td>\n    </tr>\n  </tbody>\n</table>\n</div>"
     },
     "metadata": {},
     "output_type": "display_data"
    },
    {
     "name": "stdout",
     "output_type": "stream",
     "text": [
      "All Data Types: \n"
     ]
    },
    {
     "data": {
      "text/plain": "description    object\ncategory       object\ndtype: object"
     },
     "metadata": {},
     "output_type": "display_data"
    },
    {
     "name": "stdout",
     "output_type": "stream",
     "text": [
      "Null Values:\n"
     ]
    },
    {
     "data": {
      "text/plain": "description    0\ncategory       0\ndtype: int64"
     },
     "metadata": {},
     "output_type": "display_data"
    },
    {
     "name": "stdout",
     "output_type": "stream",
     "text": [
      "Duplicate Description Count:  0\n",
      "DataFrame Details:\n"
     ]
    },
    {
     "data": {
      "text/plain": "                                              description category\ncount                                               42535    42535\nunique                                              42535        6\ntop     What could be worse than letting billions die?...    movie\nfreq                                                    1     8676",
      "text/html": "<div>\n<style scoped>\n    .dataframe tbody tr th:only-of-type {\n        vertical-align: middle;\n    }\n\n    .dataframe tbody tr th {\n        vertical-align: top;\n    }\n\n    .dataframe thead th {\n        text-align: right;\n    }\n</style>\n<table border=\"1\" class=\"dataframe\">\n  <thead>\n    <tr style=\"text-align: right;\">\n      <th></th>\n      <th>description</th>\n      <th>category</th>\n    </tr>\n  </thead>\n  <tbody>\n    <tr>\n      <th>count</th>\n      <td>42535</td>\n      <td>42535</td>\n    </tr>\n    <tr>\n      <th>unique</th>\n      <td>42535</td>\n      <td>6</td>\n    </tr>\n    <tr>\n      <th>top</th>\n      <td>What could be worse than letting billions die?...</td>\n      <td>movie</td>\n    </tr>\n    <tr>\n      <th>freq</th>\n      <td>1</td>\n      <td>8676</td>\n    </tr>\n  </tbody>\n</table>\n</div>"
     },
     "metadata": {},
     "output_type": "display_data"
    }
   ],
   "source": [
    "get_df_info(entertainment_english_df)"
   ],
   "metadata": {
    "collapsed": false,
    "ExecuteTime": {
     "end_time": "2023-09-11T22:20:34.897449500Z",
     "start_time": "2023-09-11T22:20:34.612881300Z"
    }
   },
   "id": "c499ee40ded1ac76"
  },
  {
   "cell_type": "markdown",
   "source": [
    "# DataFrame To CSV"
   ],
   "metadata": {
    "collapsed": false
   },
   "id": "ee9bb356d9851e00"
  },
  {
   "cell_type": "code",
   "execution_count": 65,
   "outputs": [],
   "source": [
    "def write_dataframe_to_csv(path, dataframe):\n",
    "    if os.path.exists(path):\n",
    "        print(f\"The file already exists ...! [Find the file in the location '{path}']\")\n",
    "    else:\n",
    "        dataframe.to_csv(path, index=False)\n",
    "        print(\"Dataframe saved successfully: \", path)"
   ],
   "metadata": {
    "collapsed": false,
    "ExecuteTime": {
     "end_time": "2023-09-11T22:20:48.504573700Z",
     "start_time": "2023-09-11T22:20:48.437658200Z"
    }
   },
   "id": "a497bfe63e28042f"
  },
  {
   "cell_type": "code",
   "execution_count": 68,
   "outputs": [
    {
     "name": "stdout",
     "output_type": "stream",
     "text": [
      "Dataframe saved successfully:  ../../data/processed/category/entertainment_category.csv\n"
     ]
    }
   ],
   "source": [
    "file_path = \"../../data/processed/category/entertainment_category.csv\"\n",
    "\n",
    "write_dataframe_to_csv(file_path, entertainment_english_df)"
   ],
   "metadata": {
    "collapsed": false,
    "ExecuteTime": {
     "end_time": "2023-09-11T22:37:57.709329600Z",
     "start_time": "2023-09-11T22:37:55.082973900Z"
    }
   },
   "id": "61950bdc880758e2"
  },
  {
   "cell_type": "code",
   "execution_count": 69,
   "outputs": [
    {
     "name": "stdout",
     "output_type": "stream",
     "text": [
      "Shape of the dataframe:  (42535, 2)\n",
      "The DataFrame: \n"
     ]
    },
    {
     "data": {
      "text/plain": "                                         description category\n0  What could be worse than letting billions die?...     book\n1  Jorge Luis Borges declared The Invention of Mo...     book\n2  Thee devil shall roam the earth And plague and...    music\n3  (Hook) Them niggas over there, never play fair...    music\n4  Jigsaw Puzzle: Beach Season – the journey to t...     game",
      "text/html": "<div>\n<style scoped>\n    .dataframe tbody tr th:only-of-type {\n        vertical-align: middle;\n    }\n\n    .dataframe tbody tr th {\n        vertical-align: top;\n    }\n\n    .dataframe thead th {\n        text-align: right;\n    }\n</style>\n<table border=\"1\" class=\"dataframe\">\n  <thead>\n    <tr style=\"text-align: right;\">\n      <th></th>\n      <th>description</th>\n      <th>category</th>\n    </tr>\n  </thead>\n  <tbody>\n    <tr>\n      <th>0</th>\n      <td>What could be worse than letting billions die?...</td>\n      <td>book</td>\n    </tr>\n    <tr>\n      <th>1</th>\n      <td>Jorge Luis Borges declared The Invention of Mo...</td>\n      <td>book</td>\n    </tr>\n    <tr>\n      <th>2</th>\n      <td>Thee devil shall roam the earth And plague and...</td>\n      <td>music</td>\n    </tr>\n    <tr>\n      <th>3</th>\n      <td>(Hook) Them niggas over there, never play fair...</td>\n      <td>music</td>\n    </tr>\n    <tr>\n      <th>4</th>\n      <td>Jigsaw Puzzle: Beach Season – the journey to t...</td>\n      <td>game</td>\n    </tr>\n  </tbody>\n</table>\n</div>"
     },
     "metadata": {},
     "output_type": "display_data"
    },
    {
     "name": "stdout",
     "output_type": "stream",
     "text": [
      "All Data Types: \n"
     ]
    },
    {
     "data": {
      "text/plain": "description    object\ncategory       object\ndtype: object"
     },
     "metadata": {},
     "output_type": "display_data"
    },
    {
     "name": "stdout",
     "output_type": "stream",
     "text": [
      "Null Values:\n"
     ]
    },
    {
     "data": {
      "text/plain": "description    0\ncategory       0\ndtype: int64"
     },
     "metadata": {},
     "output_type": "display_data"
    },
    {
     "name": "stdout",
     "output_type": "stream",
     "text": [
      "Duplicate Description Count:  0\n",
      "DataFrame Details:\n"
     ]
    },
    {
     "data": {
      "text/plain": "                                              description category\ncount                                               42535    42535\nunique                                              42535        6\ntop     What could be worse than letting billions die?...    movie\nfreq                                                    1     8676",
      "text/html": "<div>\n<style scoped>\n    .dataframe tbody tr th:only-of-type {\n        vertical-align: middle;\n    }\n\n    .dataframe tbody tr th {\n        vertical-align: top;\n    }\n\n    .dataframe thead th {\n        text-align: right;\n    }\n</style>\n<table border=\"1\" class=\"dataframe\">\n  <thead>\n    <tr style=\"text-align: right;\">\n      <th></th>\n      <th>description</th>\n      <th>category</th>\n    </tr>\n  </thead>\n  <tbody>\n    <tr>\n      <th>count</th>\n      <td>42535</td>\n      <td>42535</td>\n    </tr>\n    <tr>\n      <th>unique</th>\n      <td>42535</td>\n      <td>6</td>\n    </tr>\n    <tr>\n      <th>top</th>\n      <td>What could be worse than letting billions die?...</td>\n      <td>movie</td>\n    </tr>\n    <tr>\n      <th>freq</th>\n      <td>1</td>\n      <td>8676</td>\n    </tr>\n  </tbody>\n</table>\n</div>"
     },
     "metadata": {},
     "output_type": "display_data"
    }
   ],
   "source": [
    "ddf = pd.read_csv(\"../../data/processed/category/entertainment_category.csv\")\n",
    "get_df_info(ddf)"
   ],
   "metadata": {
    "collapsed": false,
    "ExecuteTime": {
     "end_time": "2023-09-11T22:38:01.783956100Z",
     "start_time": "2023-09-11T22:38:00.237705100Z"
    }
   },
   "id": "4b88a7125778e605"
  },
  {
   "cell_type": "code",
   "execution_count": null,
   "outputs": [],
   "source": [],
   "metadata": {
    "collapsed": false
   },
   "id": "8e72d8aa4f18da9"
  }
 ],
 "metadata": {
  "kernelspec": {
   "display_name": "Python 3",
   "language": "python",
   "name": "python3"
  },
  "language_info": {
   "codemirror_mode": {
    "name": "ipython",
    "version": 2
   },
   "file_extension": ".py",
   "mimetype": "text/x-python",
   "name": "python",
   "nbconvert_exporter": "python",
   "pygments_lexer": "ipython2",
   "version": "2.7.6"
  }
 },
 "nbformat": 4,
 "nbformat_minor": 5
}
