{
  "nbformat": 4,
  "nbformat_minor": 0,
  "metadata": {
    "colab": {
      "provenance": []
    },
    "kernelspec": {
      "name": "python3",
      "display_name": "Python 3"
    },
    "language_info": {
      "name": "python"
    }
  },
  "cells": [
    {
      "cell_type": "markdown",
      "source": [
        "# EC Inference"
      ],
      "metadata": {
        "id": "z-NnySKdpK_D"
      }
    },
    {
      "cell_type": "markdown",
      "source": [
        "# Setting Up Necessary Things"
      ],
      "metadata": {
        "id": "3Pq1LC1QpSxM"
      }
    },
    {
      "cell_type": "code",
      "execution_count": 1,
      "metadata": {
        "id": "DAI4KrkioRVh"
      },
      "outputs": [],
      "source": [
        "# Jupyter Notebook Magic Command - Auto Reloading\n",
        "%reload_ext autoreload\n",
        "%autoreload 2\n",
        "\n",
        "# Jupyter Notebook Magic Command - Inline Plotting\n",
        "%matplotlib inline"
      ]
    },
    {
      "cell_type": "code",
      "source": [
        "# Ignore All Warnings\n",
        "import warnings\n",
        "warnings.filterwarnings(\"ignore\")"
      ],
      "metadata": {
        "id": "jdmIop4HpWr1"
      },
      "execution_count": 2,
      "outputs": []
    },
    {
      "cell_type": "code",
      "source": [
        "from google.colab import drive\n",
        "drive.mount('/content/drive')"
      ],
      "metadata": {
        "colab": {
          "base_uri": "https://localhost:8080/"
        },
        "id": "RR3IUlnFpYWH",
        "outputId": "63c5b524-e473-4c48-daae-db061b18bad4"
      },
      "execution_count": 3,
      "outputs": [
        {
          "output_type": "stream",
          "name": "stdout",
          "text": [
            "Mounted at /content/drive\n"
          ]
        }
      ]
    },
    {
      "cell_type": "code",
      "source": [
        "%cd /content/drive/MyDrive/All Entertainment Classification"
      ],
      "metadata": {
        "colab": {
          "base_uri": "https://localhost:8080/"
        },
        "id": "sOp5cUpppZ8v",
        "outputId": "eb6d4470-21a4-47f8-f0b6-73f5ae7f0c6d"
      },
      "execution_count": 4,
      "outputs": [
        {
          "output_type": "stream",
          "name": "stdout",
          "text": [
            "/content/drive/MyDrive/All Entertainment Classification\n"
          ]
        }
      ]
    },
    {
      "cell_type": "markdown",
      "source": [
        "# Necessary Imports"
      ],
      "metadata": {
        "id": "_eNjLmzJpgIz"
      }
    },
    {
      "cell_type": "code",
      "source": [
        "! pip install -q transformers[sentencepiece] fastai onnxruntime"
      ],
      "metadata": {
        "id": "hwy2PES9peYn"
      },
      "execution_count": null,
      "outputs": []
    },
    {
      "cell_type": "code",
      "source": [
        "import numpy as np\n",
        "\n",
        "import torch\n",
        "\n",
        "from transformers import AutoTokenizer\n",
        "\n",
        "import onnxruntime as rt"
      ],
      "metadata": {
        "id": "VGqMtmAyrgEo"
      },
      "execution_count": 76,
      "outputs": []
    },
    {
      "cell_type": "markdown",
      "source": [
        "# Load Saved Model"
      ],
      "metadata": {
        "id": "7xikMZRvpzH0"
      }
    },
    {
      "cell_type": "code",
      "source": [
        "model_path = \"models/entertainment-category-quantized.onnx\""
      ],
      "metadata": {
        "id": "MRqbMn95p1Am"
      },
      "execution_count": 6,
      "outputs": []
    },
    {
      "cell_type": "code",
      "source": [
        "categories = ['anime', 'book', 'game', 'movie', 'music', 'tv show']"
      ],
      "metadata": {
        "id": "tZIhHcq7p_1G"
      },
      "execution_count": 7,
      "outputs": []
    },
    {
      "cell_type": "code",
      "source": [
        "inf_session = rt.InferenceSession('models/entertainment-category-quantized.onnx')\n",
        "input_name = inf_session.get_inputs()[0].name\n",
        "output_name = inf_session.get_outputs()[0].name"
      ],
      "metadata": {
        "id": "xPkK7os6rYHN"
      },
      "execution_count": 9,
      "outputs": []
    },
    {
      "cell_type": "code",
      "source": [
        "tokenizer = AutoTokenizer.from_pretrained(\"distilroberta-base\")"
      ],
      "metadata": {
        "id": "QnxfyL-BsUJH"
      },
      "execution_count": null,
      "outputs": []
    },
    {
      "cell_type": "code",
      "source": [
        "def entertainment_category(description):\n",
        "  input_ids = tokenizer(description)['input_ids'][:512]\n",
        "\n",
        "  probs = inf_session.run([output_name], {input_name: [input_ids]})[0]\n",
        "\n",
        "  mask = np.where(probs[0] == probs.max())[0][0]\n",
        "\n",
        "  return categories[mask], torch.sigmoid(torch.FloatTensor(probs))[0], torch.sigmoid(torch.FloatTensor(probs))[0].max()"
      ],
      "metadata": {
        "id": "sSEdeSHYrpV9"
      },
      "execution_count": 61,
      "outputs": []
    },
    {
      "cell_type": "markdown",
      "source": [
        "# Inference Varification"
      ],
      "metadata": {
        "id": "vDEd-gwGpows"
      }
    },
    {
      "cell_type": "markdown",
      "source": [
        "## Inference - 1: Movie"
      ],
      "metadata": {
        "id": "wepMscPnpuIu"
      }
    },
    {
      "cell_type": "code",
      "source": [
        "# Movie: The Godfather\n",
        "desc = \"Don Vito Corleone, head of a mafia family, decides to hand over his empire to his youngest son Michael. However, his decision unintentionally puts the lives of his loved ones in grave danger.\""
      ],
      "metadata": {
        "id": "FYgoWS_4ptLl"
      },
      "execution_count": 72,
      "outputs": []
    },
    {
      "cell_type": "code",
      "source": [
        "entertainment_category(desc)"
      ],
      "metadata": {
        "colab": {
          "base_uri": "https://localhost:8080/"
        },
        "id": "yq-uOgq2s_tK",
        "outputId": "039bcb0e-cf87-4c22-c653-32af3d6abdcb"
      },
      "execution_count": 73,
      "outputs": [
        {
          "output_type": "execute_result",
          "data": {
            "text/plain": [
              "('movie',\n",
              " tensor([0.1648, 0.1812, 0.0822, 0.9946, 0.0566, 0.9528]),\n",
              " tensor(0.9946))"
            ]
          },
          "metadata": {},
          "execution_count": 73
        }
      ]
    },
    {
      "cell_type": "markdown",
      "source": [
        "## Inference - 2: Music"
      ],
      "metadata": {
        "id": "IkOR45rTv_U_"
      }
    },
    {
      "cell_type": "code",
      "source": [
        "# Music: Live Fast Die Young\n",
        "desc = \"When I wake up, I look into the mirror, I can see a clearer, vision, I should start living today, Cause today is gonna be the day, is gonna be the day, Cause today is gonna be the day, is gonna be the day\""
      ],
      "metadata": {
        "id": "vBAIsqWVtCrq"
      },
      "execution_count": 74,
      "outputs": []
    },
    {
      "cell_type": "code",
      "source": [
        "entertainment_category(desc)"
      ],
      "metadata": {
        "colab": {
          "base_uri": "https://localhost:8080/"
        },
        "id": "_e9WgBdHwmAA",
        "outputId": "ea85a2d7-a61d-454d-e4dc-17f8da515f2c"
      },
      "execution_count": 75,
      "outputs": [
        {
          "output_type": "execute_result",
          "data": {
            "text/plain": [
              "('music',\n",
              " tensor([0.2354, 0.2064, 0.1537, 0.5060, 0.9985, 0.1632]),\n",
              " tensor(0.9985))"
            ]
          },
          "metadata": {},
          "execution_count": 75
        }
      ]
    },
    {
      "cell_type": "markdown",
      "source": [
        "## Inference - 3: Anime"
      ],
      "metadata": {
        "id": "lKorqvXLxFip"
      }
    },
    {
      "cell_type": "code",
      "source": [
        "# Anime: One Piece\n",
        "desc = \"Gol D. Roger was known as the 'Pirate King', the strongest and most infamous being to have sailed the Grand Line. The capture and execution of Roger by the World Government brought a change throughout the world. His last words before his death revealed the existence of the greatest treasure in the world, One Piece. It was this revelation that brought about the Grand Age of Pirates, men who dreamed of finding One Piece—which promises an unlimited amount of riches and fame—and quite possibly the pinnacle of glory and the title of the Pirate King.\""
      ],
      "metadata": {
        "id": "EhDLfDxRwsgU"
      },
      "execution_count": 79,
      "outputs": []
    },
    {
      "cell_type": "code",
      "source": [
        "entertainment_category(desc)"
      ],
      "metadata": {
        "colab": {
          "base_uri": "https://localhost:8080/"
        },
        "id": "lv9GTqVKxKjP",
        "outputId": "9bd3d6cc-dbce-4152-d344-eb1ac87fe25b"
      },
      "execution_count": 80,
      "outputs": [
        {
          "output_type": "execute_result",
          "data": {
            "text/plain": [
              "('anime',\n",
              " tensor([0.9906, 0.6193, 0.1797, 0.0424, 0.0669, 0.8937]),\n",
              " tensor(0.9906))"
            ]
          },
          "metadata": {},
          "execution_count": 80
        }
      ]
    },
    {
      "cell_type": "markdown",
      "source": [
        "## Inference - 4: Game"
      ],
      "metadata": {
        "id": "AiEKSbklx2Mx"
      }
    },
    {
      "cell_type": "code",
      "source": [
        "# Game: March Of Soldiers\n",
        "desc = \"March Of Soldiers is a real time strategy single player , It is a military game based on the player's skill and the strength of his financial economy\""
      ],
      "metadata": {
        "id": "zaZXfN6hxX1P"
      },
      "execution_count": 81,
      "outputs": []
    },
    {
      "cell_type": "code",
      "source": [
        "entertainment_category(desc)"
      ],
      "metadata": {
        "colab": {
          "base_uri": "https://localhost:8080/"
        },
        "id": "PradTjUEyBr8",
        "outputId": "b530c5ab-3c35-4c0f-9e0d-d1060277553a"
      },
      "execution_count": 82,
      "outputs": [
        {
          "output_type": "execute_result",
          "data": {
            "text/plain": [
              "('game',\n",
              " tensor([0.2049, 0.0707, 0.9988, 0.3088, 0.1598, 0.2501]),\n",
              " tensor(0.9988))"
            ]
          },
          "metadata": {},
          "execution_count": 82
        }
      ]
    }
  ]
}