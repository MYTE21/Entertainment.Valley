{
 "metadata": {
  "kernelspec": {
   "language": "python",
   "display_name": "Python 3",
   "name": "python3"
  },
  "language_info": {
   "name": "python",
   "version": "3.10.12",
   "mimetype": "text/x-python",
   "codemirror_mode": {
    "name": "ipython",
    "version": 3
   },
   "pygments_lexer": "ipython3",
   "nbconvert_exporter": "python",
   "file_extension": ".py"
  }
 },
 "nbformat_minor": 4,
 "nbformat": 4,
 "cells": [
  {
   "cell_type": "markdown",
   "source": [
    "# Entertainment Category: HuggingFace"
   ],
   "metadata": {}
  },
  {
   "cell_type": "markdown",
   "source": [
    "# Setting Up Necessary Things"
   ],
   "metadata": {}
  },
  {
   "cell_type": "code",
   "source": [
    "# Jupyter Notebook Magic Command - Auto Reloading\n",
    "%reload_ext autoreload\n",
    "%autoreload 2\n",
    "\n",
    "# Jupyter Notebook Magic Command - Inline Plotting\n",
    "%matplotlib inline"
   ],
   "metadata": {
    "execution": {
     "iopub.status.busy": "2023-09-12T15:08:54.237676Z",
     "iopub.execute_input": "2023-09-12T15:08:54.238136Z",
     "iopub.status.idle": "2023-09-12T15:08:54.499161Z",
     "shell.execute_reply.started": "2023-09-12T15:08:54.238101Z",
     "shell.execute_reply": "2023-09-12T15:08:54.498157Z"
    },
    "trusted": true
   },
   "execution_count": 108,
   "outputs": []
  },
  {
   "cell_type": "code",
   "source": [
    "# Ignore All Warnings\n",
    "import warnings\n",
    "warnings.filterwarnings(\"ignore\")"
   ],
   "metadata": {
    "execution": {
     "iopub.status.busy": "2023-09-12T15:08:57.635270Z",
     "iopub.execute_input": "2023-09-12T15:08:57.635997Z",
     "iopub.status.idle": "2023-09-12T15:08:57.801561Z",
     "shell.execute_reply.started": "2023-09-12T15:08:57.635957Z",
     "shell.execute_reply": "2023-09-12T15:08:57.800506Z"
    },
    "trusted": true
   },
   "execution_count": 109,
   "outputs": []
  },
  {
   "cell_type": "code",
   "source": [
    "# Check GPU Status\n",
    "!nvidia-smi"
   ],
   "metadata": {
    "execution": {
     "iopub.status.busy": "2023-09-12T15:08:57.803886Z",
     "iopub.execute_input": "2023-09-12T15:08:57.804277Z",
     "iopub.status.idle": "2023-09-12T15:08:59.436567Z",
     "shell.execute_reply.started": "2023-09-12T15:08:57.804243Z",
     "shell.execute_reply": "2023-09-12T15:08:59.435386Z"
    },
    "trusted": true
   },
   "execution_count": 110,
   "outputs": [
    {
     "name": "stdout",
     "text": "huggingface/tokenizers: The current process just got forked, after parallelism has already been used. Disabling parallelism to avoid deadlocks...\nTo disable this warning, you can either:\n\t- Avoid using `tokenizers` before the fork if possible\n\t- Explicitly set the environment variable TOKENIZERS_PARALLELISM=(true | false)\nTue Sep 12 15:08:59 2023       \n+-----------------------------------------------------------------------------+\n| NVIDIA-SMI 470.161.03   Driver Version: 470.161.03   CUDA Version: 11.4     |\n|-------------------------------+----------------------+----------------------+\n| GPU  Name        Persistence-M| Bus-Id        Disp.A | Volatile Uncorr. ECC |\n| Fan  Temp  Perf  Pwr:Usage/Cap|         Memory-Usage | GPU-Util  Compute M. |\n|                               |                      |               MIG M. |\n|===============================+======================+======================|\n|   0  Tesla T4            Off  | 00000000:00:04.0 Off |                    0 |\n| N/A   69C    P0    31W /  70W |  10564MiB / 15109MiB |      0%      Default |\n|                               |                      |                  N/A |\n+-------------------------------+----------------------+----------------------+\n|   1  Tesla T4            Off  | 00000000:00:05.0 Off |                    0 |\n| N/A   38C    P8     9W /  70W |      3MiB / 15109MiB |      0%      Default |\n|                               |                      |                  N/A |\n+-------------------------------+----------------------+----------------------+\n                                                                               \n+-----------------------------------------------------------------------------+\n| Processes:                                                                  |\n|  GPU   GI   CI        PID   Type   Process name                  GPU Memory |\n|        ID   ID                                                   Usage      |\n|=============================================================================|\n+-----------------------------------------------------------------------------+\n",
     "output_type": "stream"
    }
   ]
  },
  {
   "cell_type": "markdown",
   "source": [
    "# Necessary Imports"
   ],
   "metadata": {}
  },
  {
   "cell_type": "code",
   "source": [
    "! pip install -q transformers[sentencepiece] fastai ohmeow-blurr"
   ],
   "metadata": {
    "execution": {
     "iopub.status.busy": "2023-09-12T15:09:05.459589Z",
     "iopub.execute_input": "2023-09-12T15:09:05.460768Z",
     "iopub.status.idle": "2023-09-12T15:09:21.432209Z",
     "shell.execute_reply.started": "2023-09-12T15:09:05.460716Z",
     "shell.execute_reply": "2023-09-12T15:09:21.430961Z"
    },
    "trusted": true
   },
   "execution_count": 111,
   "outputs": [
    {
     "name": "stdout",
     "text": "huggingface/tokenizers: The current process just got forked, after parallelism has already been used. Disabling parallelism to avoid deadlocks...\nTo disable this warning, you can either:\n\t- Avoid using `tokenizers` before the fork if possible\n\t- Explicitly set the environment variable TOKENIZERS_PARALLELISM=(true | false)\n",
     "output_type": "stream"
    }
   ]
  },
  {
   "cell_type": "code",
   "source": [
    "import torch\n",
    "\n",
    "from transformers import AutoModelForSequenceClassification, AutoConfig\n",
    "\n",
    "from fastai.text.all import *\n",
    "\n",
    "from blurr.text.data.all import *\n",
    "from blurr.text.modeling.all import *"
   ],
   "metadata": {
    "execution": {
     "iopub.status.busy": "2023-09-12T15:09:21.436006Z",
     "iopub.execute_input": "2023-09-12T15:09:21.436401Z",
     "iopub.status.idle": "2023-09-12T15:09:21.622618Z",
     "shell.execute_reply.started": "2023-09-12T15:09:21.436369Z",
     "shell.execute_reply": "2023-09-12T15:09:21.621593Z"
    },
    "trusted": true
   },
   "execution_count": 112,
   "outputs": []
  },
  {
   "cell_type": "code",
   "source": [
    "# Check Cuda\n",
    "device = torch.device(\"cuda\" if torch.cuda.is_available() else \"cpu\")\n",
    "device"
   ],
   "metadata": {
    "execution": {
     "iopub.status.busy": "2023-09-12T15:09:21.624373Z",
     "iopub.execute_input": "2023-09-12T15:09:21.624749Z",
     "iopub.status.idle": "2023-09-12T15:09:21.796358Z",
     "shell.execute_reply.started": "2023-09-12T15:09:21.624715Z",
     "shell.execute_reply": "2023-09-12T15:09:21.795265Z"
    },
    "trusted": true
   },
   "execution_count": 113,
   "outputs": [
    {
     "execution_count": 113,
     "output_type": "execute_result",
     "data": {
      "text/plain": "device(type='cuda')"
     },
     "metadata": {}
    }
   ]
  },
  {
   "cell_type": "markdown",
   "source": [
    "# Data Cleaning"
   ],
   "metadata": {}
  },
  {
   "cell_type": "code",
   "source": [
    "# Path\n",
    "file_path = \"/kaggle/input/ec-dataset/entertainment_category.csv\""
   ],
   "metadata": {
    "execution": {
     "iopub.status.busy": "2023-09-12T15:09:21.799930Z",
     "iopub.execute_input": "2023-09-12T15:09:21.800370Z",
     "iopub.status.idle": "2023-09-12T15:09:21.965900Z",
     "shell.execute_reply.started": "2023-09-12T15:09:21.800343Z",
     "shell.execute_reply": "2023-09-12T15:09:21.964665Z"
    },
    "trusted": true
   },
   "execution_count": 114,
   "outputs": []
  },
  {
   "cell_type": "code",
   "source": [
    "# Show Anime DataFrame\n",
    "df = pd.read_csv(file_path)\n",
    "df.head()"
   ],
   "metadata": {
    "execution": {
     "iopub.status.busy": "2023-09-12T15:09:21.967579Z",
     "iopub.execute_input": "2023-09-12T15:09:21.967979Z",
     "iopub.status.idle": "2023-09-12T15:09:22.631498Z",
     "shell.execute_reply.started": "2023-09-12T15:09:21.967942Z",
     "shell.execute_reply": "2023-09-12T15:09:22.630398Z"
    },
    "trusted": true
   },
   "execution_count": 115,
   "outputs": [
    {
     "execution_count": 115,
     "output_type": "execute_result",
     "data": {
      "text/plain": "                                                                                                                                                                                                                                                                                                                                                                                                                                                                                                                                                                                                               description  \\\n0  What could be worse than letting billions die? In the near future, to escape the crush and clutter of a packed and polluted Earth, the world's elite flock to Atopia, an enormous corporate-owned artificial island in the Pacific Ocean. It is there that Dr. Patricia Killiam rushes to perfect the ultimate in virtual reality: a program to save the ravaged Earth from mankind's insatiable appetite for natural resources. The Atopia Chronicles (Book 1 of the Atopia series) is the tale of mankind's dark slide across the apocalypse as humans and machines merge in a world teetering on the brink of eco...   \n1  Jorge Luis Borges declared The Invention of Morel a masterpiece of plotting, comparable to The Turn of the Screw and Journey to the Center of the Earth. Set on a mysterious island, Bioy's novella is a story of suspense and exploration, as well as a wonderfully unlikely romance, in which every detail is at once crystal clear and deeply mysterious. Inspired by Bioy Casares's fascination with the movie star Louise Brooks, The Invention of Morel has gone on to live a secret life of its own. Greatly admired by Julio Cortázar, Gabriel García Márquez, and Octavio Paz, the novella helped to usher ...   \n2  Thee devil shall roam the earth And plague and terror shall reign Upon the world of man Heaven shattered Destruction of angels shall commence From his mighty seat the great one shall be cast down Impaled and defiled, his throne upon the pyre Inflamed with the seeds of misery The immortal blood will be spilt And the dark underworld will be unleashed A feeble prayer to failing deities To the ancient evil nothing is sacred A once powerful ruler, now a helpless whelp Bowing down before the eternal demon Roots rising From the dank earth piercing through the Savior's skin upwards from the pit of...   \n3  (Hook) Them niggas over there, never play fair You cud get hit wit that stick They do not care You a fruity nigga, you a care bear We running wit static We splitting yo cabbage We dug u a hole We lessen your baggage You luggage in the attic I put that on a Patek Am i bout this shit nigga Oui Oui Oui Oui Oui Ey! (Verse 1) Them niggas that hate They asking dem questions They looking so clueless And then they debate But those who the realest They movin immune They fresh like Colgate We smoke us a pack We plan an/and attack We never back down We tossing to/the die And thats for a fact Money wa...   \n4  Jigsaw Puzzle: Beach Season – the journey to the seaside starts right now! 500 high-quality photos means 500 ideas for a summer vacation! Take a virtual tour of the resorts of your dreams: Hawaii, Bali, the Maldives, Seychelles, the Caribbean… Enjoy exotic photos of these little corners of paradise on our planet. Romantic views, golden beaches, unique nature and incredible local cuisine. Jigsaw Puzzle: Beach Season will tell you where to find the best places on our planet for a calm and relaxing vacation and where adventure-seekers can go for some active rest. See local flora and fauna, ex...   \n\n  category  \n0     book  \n1     book  \n2    music  \n3    music  \n4     game  ",
      "text/html": "<div>\n<style scoped>\n    .dataframe tbody tr th:only-of-type {\n        vertical-align: middle;\n    }\n\n    .dataframe tbody tr th {\n        vertical-align: top;\n    }\n\n    .dataframe thead th {\n        text-align: right;\n    }\n</style>\n<table border=\"1\" class=\"dataframe\">\n  <thead>\n    <tr style=\"text-align: right;\">\n      <th></th>\n      <th>description</th>\n      <th>category</th>\n    </tr>\n  </thead>\n  <tbody>\n    <tr>\n      <th>0</th>\n      <td>What could be worse than letting billions die? In the near future, to escape the crush and clutter of a packed and polluted Earth, the world's elite flock to Atopia, an enormous corporate-owned artificial island in the Pacific Ocean. It is there that Dr. Patricia Killiam rushes to perfect the ultimate in virtual reality: a program to save the ravaged Earth from mankind's insatiable appetite for natural resources. The Atopia Chronicles (Book 1 of the Atopia series) is the tale of mankind's dark slide across the apocalypse as humans and machines merge in a world teetering on the brink of eco...</td>\n      <td>book</td>\n    </tr>\n    <tr>\n      <th>1</th>\n      <td>Jorge Luis Borges declared The Invention of Morel a masterpiece of plotting, comparable to The Turn of the Screw and Journey to the Center of the Earth. Set on a mysterious island, Bioy's novella is a story of suspense and exploration, as well as a wonderfully unlikely romance, in which every detail is at once crystal clear and deeply mysterious. Inspired by Bioy Casares's fascination with the movie star Louise Brooks, The Invention of Morel has gone on to live a secret life of its own. Greatly admired by Julio Cortázar, Gabriel García Márquez, and Octavio Paz, the novella helped to usher ...</td>\n      <td>book</td>\n    </tr>\n    <tr>\n      <th>2</th>\n      <td>Thee devil shall roam the earth And plague and terror shall reign Upon the world of man Heaven shattered Destruction of angels shall commence From his mighty seat the great one shall be cast down Impaled and defiled, his throne upon the pyre Inflamed with the seeds of misery The immortal blood will be spilt And the dark underworld will be unleashed A feeble prayer to failing deities To the ancient evil nothing is sacred A once powerful ruler, now a helpless whelp Bowing down before the eternal demon Roots rising From the dank earth piercing through the Savior's skin upwards from the pit of...</td>\n      <td>music</td>\n    </tr>\n    <tr>\n      <th>3</th>\n      <td>(Hook) Them niggas over there, never play fair You cud get hit wit that stick They do not care You a fruity nigga, you a care bear We running wit static We splitting yo cabbage We dug u a hole We lessen your baggage You luggage in the attic I put that on a Patek Am i bout this shit nigga Oui Oui Oui Oui Oui Ey! (Verse 1) Them niggas that hate They asking dem questions They looking so clueless And then they debate But those who the realest They movin immune They fresh like Colgate We smoke us a pack We plan an/and attack We never back down We tossing to/the die And thats for a fact Money wa...</td>\n      <td>music</td>\n    </tr>\n    <tr>\n      <th>4</th>\n      <td>Jigsaw Puzzle: Beach Season – the journey to the seaside starts right now! 500 high-quality photos means 500 ideas for a summer vacation! Take a virtual tour of the resorts of your dreams: Hawaii, Bali, the Maldives, Seychelles, the Caribbean… Enjoy exotic photos of these little corners of paradise on our planet. Romantic views, golden beaches, unique nature and incredible local cuisine. Jigsaw Puzzle: Beach Season will tell you where to find the best places on our planet for a calm and relaxing vacation and where adventure-seekers can go for some active rest. See local flora and fauna, ex...</td>\n      <td>game</td>\n    </tr>\n  </tbody>\n</table>\n</div>"
     },
     "metadata": {}
    }
   ]
  },
  {
   "cell_type": "code",
   "source": [
    "df.shape"
   ],
   "metadata": {
    "execution": {
     "iopub.status.busy": "2023-09-12T15:09:22.632947Z",
     "iopub.execute_input": "2023-09-12T15:09:22.633347Z",
     "iopub.status.idle": "2023-09-12T15:09:22.810741Z",
     "shell.execute_reply.started": "2023-09-12T15:09:22.633310Z",
     "shell.execute_reply": "2023-09-12T15:09:22.809495Z"
    },
    "trusted": true
   },
   "execution_count": 116,
   "outputs": [
    {
     "execution_count": 116,
     "output_type": "execute_result",
     "data": {
      "text/plain": "(42535, 2)"
     },
     "metadata": {}
    }
   ]
  },
  {
   "cell_type": "code",
   "source": [
    "df.isna().sum()"
   ],
   "metadata": {
    "execution": {
     "iopub.status.busy": "2023-09-12T15:09:22.812382Z",
     "iopub.execute_input": "2023-09-12T15:09:22.813289Z",
     "iopub.status.idle": "2023-09-12T15:09:22.993139Z",
     "shell.execute_reply.started": "2023-09-12T15:09:22.813253Z",
     "shell.execute_reply": "2023-09-12T15:09:22.992140Z"
    },
    "trusted": true
   },
   "execution_count": 117,
   "outputs": [
    {
     "execution_count": 117,
     "output_type": "execute_result",
     "data": {
      "text/plain": "description    0\ncategory       0\ndtype: int64"
     },
     "metadata": {}
    }
   ]
  },
  {
   "cell_type": "code",
   "source": [
    "df.dtypes"
   ],
   "metadata": {
    "execution": {
     "iopub.status.busy": "2023-09-12T14:43:00.964327Z",
     "iopub.execute_input": "2023-09-12T14:43:00.965095Z",
     "iopub.status.idle": "2023-09-12T14:43:01.058940Z",
     "shell.execute_reply.started": "2023-09-12T14:43:00.965057Z",
     "shell.execute_reply": "2023-09-12T14:43:01.057635Z"
    },
    "trusted": true
   },
   "execution_count": 70,
   "outputs": [
    {
     "execution_count": 70,
     "output_type": "execute_result",
     "data": {
      "text/plain": "description    object\ncategory       object\ndtype: object"
     },
     "metadata": {}
    }
   ]
  },
  {
   "cell_type": "code",
   "source": [
    "labels = list(set(df[\"category\"].to_list()))\n",
    "labels_count = len(labels)\n",
    "labels_count, labels"
   ],
   "metadata": {
    "execution": {
     "iopub.status.busy": "2023-09-12T15:09:22.994884Z",
     "iopub.execute_input": "2023-09-12T15:09:22.995299Z",
     "iopub.status.idle": "2023-09-12T15:09:23.168487Z",
     "shell.execute_reply.started": "2023-09-12T15:09:22.995264Z",
     "shell.execute_reply": "2023-09-12T15:09:23.167470Z"
    },
    "trusted": true
   },
   "execution_count": 118,
   "outputs": [
    {
     "execution_count": 118,
     "output_type": "execute_result",
     "data": {
      "text/plain": "(6, ['movie', 'anime', 'music', 'game', 'tv show', 'book'])"
     },
     "metadata": {}
    }
   ]
  },
  {
   "cell_type": "markdown",
   "source": [
    "## Data-Loaders and Model Setup"
   ],
   "metadata": {}
  },
  {
   "cell_type": "markdown",
   "source": [
    "### Model Setup"
   ],
   "metadata": {}
  },
  {
   "cell_type": "code",
   "source": [
    "labels = list(encode_category_types.keys())"
   ],
   "metadata": {
    "execution": {
     "iopub.status.busy": "2023-09-12T15:09:23.170270Z",
     "iopub.execute_input": "2023-09-12T15:09:23.170672Z",
     "iopub.status.idle": "2023-09-12T15:09:23.339579Z",
     "shell.execute_reply.started": "2023-09-12T15:09:23.170637Z",
     "shell.execute_reply": "2023-09-12T15:09:23.338392Z"
    },
    "trusted": true
   },
   "execution_count": 119,
   "outputs": []
  },
  {
   "cell_type": "code",
   "source": [
    "model_name = \"distilroberta-base\"\n",
    "model_cls = AutoModelForSequenceClassification"
   ],
   "metadata": {
    "execution": {
     "iopub.status.busy": "2023-09-12T15:09:23.342917Z",
     "iopub.execute_input": "2023-09-12T15:09:23.343573Z",
     "iopub.status.idle": "2023-09-12T15:09:23.509527Z",
     "shell.execute_reply.started": "2023-09-12T15:09:23.343533Z",
     "shell.execute_reply": "2023-09-12T15:09:23.508141Z"
    },
    "trusted": true
   },
   "execution_count": 120,
   "outputs": []
  },
  {
   "cell_type": "code",
   "source": [
    "config = AutoConfig.from_pretrained(model_name)\n",
    "config.num_labels = len(labels)"
   ],
   "metadata": {
    "execution": {
     "iopub.status.busy": "2023-09-12T15:09:23.872266Z",
     "iopub.execute_input": "2023-09-12T15:09:23.872671Z",
     "iopub.status.idle": "2023-09-12T15:09:24.161051Z",
     "shell.execute_reply.started": "2023-09-12T15:09:23.872641Z",
     "shell.execute_reply": "2023-09-12T15:09:24.159961Z"
    },
    "trusted": true
   },
   "execution_count": 121,
   "outputs": []
  },
  {
   "cell_type": "code",
   "source": [
    "hf_arch, hf_config, hf_tokenizer, hf_model = get_hf_objects(model_name, model_cls=model_cls, config=config)"
   ],
   "metadata": {
    "execution": {
     "iopub.status.busy": "2023-09-12T15:09:25.070161Z",
     "iopub.execute_input": "2023-09-12T15:09:25.070575Z",
     "iopub.status.idle": "2023-09-12T15:09:26.393160Z",
     "shell.execute_reply.started": "2023-09-12T15:09:25.070540Z",
     "shell.execute_reply": "2023-09-12T15:09:26.392106Z"
    },
    "trusted": true
   },
   "execution_count": 122,
   "outputs": []
  },
  {
   "cell_type": "markdown",
   "source": [
    "### Data-Loaders"
   ],
   "metadata": {}
  },
  {
   "cell_type": "code",
   "source": [
    "blocks = (TextBlock(hf_arch, hf_config, hf_tokenizer, hf_model), CategoryBlock(vocab=labels))\n",
    "dblock = DataBlock(blocks=blocks, get_x=ColReader(\"description\"), get_y=ColReader(\"category\"), splitter=RandomSplitter(valid_pct=0.1, seed=42))"
   ],
   "metadata": {
    "execution": {
     "iopub.status.busy": "2023-09-12T15:04:55.540283Z",
     "iopub.execute_input": "2023-09-12T15:04:55.540753Z",
     "iopub.status.idle": "2023-09-12T15:04:55.631964Z",
     "shell.execute_reply.started": "2023-09-12T15:04:55.540717Z",
     "shell.execute_reply": "2023-09-12T15:04:55.630776Z"
    },
    "trusted": true
   },
   "execution_count": 106,
   "outputs": []
  },
  {
   "cell_type": "code",
   "source": [
    "dls = dblock.dataloaders(df, bs=32)\n",
    "torch.save(dls, \"/kaggle/working/dls-entertainment-category.pkl\")"
   ],
   "metadata": {
    "execution": {
     "iopub.status.busy": "2023-09-12T15:09:28.585286Z",
     "iopub.execute_input": "2023-09-12T15:09:28.585678Z",
     "iopub.status.idle": "2023-09-12T15:10:21.581709Z",
     "shell.execute_reply.started": "2023-09-12T15:09:28.585646Z",
     "shell.execute_reply": "2023-09-12T15:10:21.580231Z"
    },
    "trusted": true
   },
   "execution_count": 123,
   "outputs": []
  },
  {
   "cell_type": "code",
   "source": [
    "dls.show_batch(dataloaders=dls, max_n=3, trunc_at=500)"
   ],
   "metadata": {
    "execution": {
     "iopub.status.busy": "2023-09-12T15:10:21.588783Z",
     "iopub.execute_input": "2023-09-12T15:10:21.591785Z",
     "iopub.status.idle": "2023-09-12T15:10:21.992906Z",
     "shell.execute_reply.started": "2023-09-12T15:10:21.591744Z",
     "shell.execute_reply": "2023-09-12T15:10:21.991914Z"
    },
    "trusted": true
   },
   "execution_count": 124,
   "outputs": [
    {
     "output_type": "display_data",
     "data": {
      "text/plain": "<IPython.core.display.HTML object>",
      "text/html": "<table border=\"1\" class=\"dataframe\">\n  <thead>\n    <tr style=\"text-align: right;\">\n      <th></th>\n      <th>text</th>\n      <th>target</th>\n    </tr>\n  </thead>\n  <tbody>\n    <tr>\n      <th>0</th>\n      <td>567 U.S. 701 (2007)Chief Justice ROBERTS announced the judgment of the Court,and delivered the opinion of the Court with respect to Parts I, II, III-A, and III-C, and an opinion with respect to Parts III-B and IV, in which Justices SCALIA, THOMAS, and ALITO join. The school districts in these cases voluntarily adopted student assignment plans that rely upon race to determine which public schools certain children may attend. The Seattle school district classifies children as white or nonwhite; t</td>\n      <td>music</td>\n    </tr>\n    <tr>\n      <th>1</th>\n      <td>The Naked Face Can you read people’s thoughts just by looking at them? 1. Some years ago, John Yarbrough was working patrol for the Los Angeles County Sheriff’s Department. It was about two in the morning. He and his partner were in the Willowbrook section of South Central Los Angeles, and they pulled over a sports car. “Dark, nighttime, average stop,” Yarbrough recalls. “Patrol for me was like going hunting. At that time of night in the area I was working, there was a lot of criminal activity,</td>\n      <td>music</td>\n    </tr>\n    <tr>\n      <th>2</th>\n      <td>In a moment we were in a French village. We walked through a great factory of some sort, where men and women and little children were toiling in heat and dirt and a fog of dust; and they were clothed in rags, and drooped at their work, for they were worn and half starved, and weak and drowsy. Satan said: \"It is some more Moral Sense. The proprietors are rich, and very holy; but the wage they pay to these poor brothers and sisters of theirs is only enough to keep them from dropping dead with hun</td>\n      <td>music</td>\n    </tr>\n  </tbody>\n</table>"
     },
     "metadata": {}
    }
   ]
  },
  {
   "cell_type": "code",
   "source": [
    "dls.vocab"
   ],
   "metadata": {
    "execution": {
     "iopub.status.busy": "2023-09-12T15:10:21.994341Z",
     "iopub.execute_input": "2023-09-12T15:10:21.995221Z",
     "iopub.status.idle": "2023-09-12T15:10:22.163944Z",
     "shell.execute_reply.started": "2023-09-12T15:10:21.995184Z",
     "shell.execute_reply": "2023-09-12T15:10:22.162979Z"
    },
    "trusted": true
   },
   "execution_count": 125,
   "outputs": [
    {
     "execution_count": 125,
     "output_type": "execute_result",
     "data": {
      "text/plain": "['anime', 'book', 'game', 'movie', 'music', 'tv show']"
     },
     "metadata": {}
    }
   ]
  },
  {
   "cell_type": "markdown",
   "source": [
    "### Model"
   ],
   "metadata": {}
  },
  {
   "cell_type": "code",
   "source": [
    "model = BaseModelWrapper(hf_model)\n",
    "\n",
    "learner = Learner(\n",
    "    dls,\n",
    "    model,\n",
    "    opt_func=partial(OptimWrapper, opt=torch.optim.AdamW),\n",
    "    loss_func=PreCalculatedCrossEntropyLoss(),\n",
    "    metrics=[accuracy],\n",
    "    cbs=[BaseModelCallback],\n",
    "    splitter=blurr_splitter\n",
    ").to_fp16()"
   ],
   "metadata": {
    "execution": {
     "iopub.status.busy": "2023-09-12T15:11:03.048498Z",
     "iopub.execute_input": "2023-09-12T15:11:03.049614Z",
     "iopub.status.idle": "2023-09-12T15:11:03.331139Z",
     "shell.execute_reply.started": "2023-09-12T15:11:03.049564Z",
     "shell.execute_reply": "2023-09-12T15:11:03.330096Z"
    },
    "trusted": true
   },
   "execution_count": 126,
   "outputs": []
  },
  {
   "cell_type": "code",
   "source": [
    "learner.model"
   ],
   "metadata": {
    "execution": {
     "iopub.status.busy": "2023-09-12T15:11:03.333151Z",
     "iopub.execute_input": "2023-09-12T15:11:03.333536Z",
     "iopub.status.idle": "2023-09-12T15:11:03.512414Z",
     "shell.execute_reply.started": "2023-09-12T15:11:03.333499Z",
     "shell.execute_reply": "2023-09-12T15:11:03.511333Z"
    },
    "trusted": true
   },
   "execution_count": 127,
   "outputs": [
    {
     "execution_count": 127,
     "output_type": "execute_result",
     "data": {
      "text/plain": "BaseModelWrapper(\n  (hf_model): RobertaForSequenceClassification(\n    (roberta): RobertaModel(\n      (embeddings): RobertaEmbeddings(\n        (word_embeddings): Embedding(50265, 768, padding_idx=1)\n        (position_embeddings): Embedding(514, 768, padding_idx=1)\n        (token_type_embeddings): Embedding(1, 768)\n        (LayerNorm): LayerNorm((768,), eps=1e-05, elementwise_affine=True)\n        (dropout): Dropout(p=0.1, inplace=False)\n      )\n      (encoder): RobertaEncoder(\n        (layer): ModuleList(\n          (0): RobertaLayer(\n            (attention): RobertaAttention(\n              (self): RobertaSelfAttention(\n                (query): Linear(in_features=768, out_features=768, bias=True)\n                (key): Linear(in_features=768, out_features=768, bias=True)\n                (value): Linear(in_features=768, out_features=768, bias=True)\n                (dropout): Dropout(p=0.1, inplace=False)\n              )\n              (output): RobertaSelfOutput(\n                (dense): Linear(in_features=768, out_features=768, bias=True)\n                (LayerNorm): LayerNorm((768,), eps=1e-05, elementwise_affine=True)\n                (dropout): Dropout(p=0.1, inplace=False)\n              )\n            )\n            (intermediate): RobertaIntermediate(\n              (dense): Linear(in_features=768, out_features=3072, bias=True)\n              (intermediate_act_fn): GELUActivation()\n            )\n            (output): RobertaOutput(\n              (dense): Linear(in_features=3072, out_features=768, bias=True)\n              (LayerNorm): LayerNorm((768,), eps=1e-05, elementwise_affine=True)\n              (dropout): Dropout(p=0.1, inplace=False)\n            )\n          )\n          (1): RobertaLayer(\n            (attention): RobertaAttention(\n              (self): RobertaSelfAttention(\n                (query): Linear(in_features=768, out_features=768, bias=True)\n                (key): Linear(in_features=768, out_features=768, bias=True)\n                (value): Linear(in_features=768, out_features=768, bias=True)\n                (dropout): Dropout(p=0.1, inplace=False)\n              )\n              (output): RobertaSelfOutput(\n                (dense): Linear(in_features=768, out_features=768, bias=True)\n                (LayerNorm): LayerNorm((768,), eps=1e-05, elementwise_affine=True)\n                (dropout): Dropout(p=0.1, inplace=False)\n              )\n            )\n            (intermediate): RobertaIntermediate(\n              (dense): Linear(in_features=768, out_features=3072, bias=True)\n              (intermediate_act_fn): GELUActivation()\n            )\n            (output): RobertaOutput(\n              (dense): Linear(in_features=3072, out_features=768, bias=True)\n              (LayerNorm): LayerNorm((768,), eps=1e-05, elementwise_affine=True)\n              (dropout): Dropout(p=0.1, inplace=False)\n            )\n          )\n          (2): RobertaLayer(\n            (attention): RobertaAttention(\n              (self): RobertaSelfAttention(\n                (query): Linear(in_features=768, out_features=768, bias=True)\n                (key): Linear(in_features=768, out_features=768, bias=True)\n                (value): Linear(in_features=768, out_features=768, bias=True)\n                (dropout): Dropout(p=0.1, inplace=False)\n              )\n              (output): RobertaSelfOutput(\n                (dense): Linear(in_features=768, out_features=768, bias=True)\n                (LayerNorm): LayerNorm((768,), eps=1e-05, elementwise_affine=True)\n                (dropout): Dropout(p=0.1, inplace=False)\n              )\n            )\n            (intermediate): RobertaIntermediate(\n              (dense): Linear(in_features=768, out_features=3072, bias=True)\n              (intermediate_act_fn): GELUActivation()\n            )\n            (output): RobertaOutput(\n              (dense): Linear(in_features=3072, out_features=768, bias=True)\n              (LayerNorm): LayerNorm((768,), eps=1e-05, elementwise_affine=True)\n              (dropout): Dropout(p=0.1, inplace=False)\n            )\n          )\n          (3): RobertaLayer(\n            (attention): RobertaAttention(\n              (self): RobertaSelfAttention(\n                (query): Linear(in_features=768, out_features=768, bias=True)\n                (key): Linear(in_features=768, out_features=768, bias=True)\n                (value): Linear(in_features=768, out_features=768, bias=True)\n                (dropout): Dropout(p=0.1, inplace=False)\n              )\n              (output): RobertaSelfOutput(\n                (dense): Linear(in_features=768, out_features=768, bias=True)\n                (LayerNorm): LayerNorm((768,), eps=1e-05, elementwise_affine=True)\n                (dropout): Dropout(p=0.1, inplace=False)\n              )\n            )\n            (intermediate): RobertaIntermediate(\n              (dense): Linear(in_features=768, out_features=3072, bias=True)\n              (intermediate_act_fn): GELUActivation()\n            )\n            (output): RobertaOutput(\n              (dense): Linear(in_features=3072, out_features=768, bias=True)\n              (LayerNorm): LayerNorm((768,), eps=1e-05, elementwise_affine=True)\n              (dropout): Dropout(p=0.1, inplace=False)\n            )\n          )\n          (4): RobertaLayer(\n            (attention): RobertaAttention(\n              (self): RobertaSelfAttention(\n                (query): Linear(in_features=768, out_features=768, bias=True)\n                (key): Linear(in_features=768, out_features=768, bias=True)\n                (value): Linear(in_features=768, out_features=768, bias=True)\n                (dropout): Dropout(p=0.1, inplace=False)\n              )\n              (output): RobertaSelfOutput(\n                (dense): Linear(in_features=768, out_features=768, bias=True)\n                (LayerNorm): LayerNorm((768,), eps=1e-05, elementwise_affine=True)\n                (dropout): Dropout(p=0.1, inplace=False)\n              )\n            )\n            (intermediate): RobertaIntermediate(\n              (dense): Linear(in_features=768, out_features=3072, bias=True)\n              (intermediate_act_fn): GELUActivation()\n            )\n            (output): RobertaOutput(\n              (dense): Linear(in_features=3072, out_features=768, bias=True)\n              (LayerNorm): LayerNorm((768,), eps=1e-05, elementwise_affine=True)\n              (dropout): Dropout(p=0.1, inplace=False)\n            )\n          )\n          (5): RobertaLayer(\n            (attention): RobertaAttention(\n              (self): RobertaSelfAttention(\n                (query): Linear(in_features=768, out_features=768, bias=True)\n                (key): Linear(in_features=768, out_features=768, bias=True)\n                (value): Linear(in_features=768, out_features=768, bias=True)\n                (dropout): Dropout(p=0.1, inplace=False)\n              )\n              (output): RobertaSelfOutput(\n                (dense): Linear(in_features=768, out_features=768, bias=True)\n                (LayerNorm): LayerNorm((768,), eps=1e-05, elementwise_affine=True)\n                (dropout): Dropout(p=0.1, inplace=False)\n              )\n            )\n            (intermediate): RobertaIntermediate(\n              (dense): Linear(in_features=768, out_features=3072, bias=True)\n              (intermediate_act_fn): GELUActivation()\n            )\n            (output): RobertaOutput(\n              (dense): Linear(in_features=3072, out_features=768, bias=True)\n              (LayerNorm): LayerNorm((768,), eps=1e-05, elementwise_affine=True)\n              (dropout): Dropout(p=0.1, inplace=False)\n            )\n          )\n        )\n      )\n    )\n    (classifier): RobertaClassificationHead(\n      (dense): Linear(in_features=768, out_features=768, bias=True)\n      (dropout): Dropout(p=0.1, inplace=False)\n      (out_proj): Linear(in_features=768, out_features=6, bias=True)\n    )\n  )\n)"
     },
     "metadata": {}
    }
   ]
  },
  {
   "cell_type": "markdown",
   "source": [
    "# Model Training"
   ],
   "metadata": {}
  },
  {
   "cell_type": "markdown",
   "source": [
    "## Stage - 0"
   ],
   "metadata": {}
  },
  {
   "cell_type": "code",
   "source": [
    "learner.lr_find(suggest_funcs=[minimum, steep])"
   ],
   "metadata": {
    "execution": {
     "iopub.status.busy": "2023-09-12T13:27:37.523075Z",
     "iopub.execute_input": "2023-09-12T13:27:37.523557Z",
     "iopub.status.idle": "2023-09-12T13:28:05.893541Z",
     "shell.execute_reply.started": "2023-09-12T13:27:37.523514Z",
     "shell.execute_reply": "2023-09-12T13:28:05.892514Z"
    },
    "trusted": true
   },
   "execution_count": 24,
   "outputs": [
    {
     "output_type": "display_data",
     "data": {
      "text/plain": "<IPython.core.display.HTML object>",
      "text/html": "\n<style>\n    /* Turns off some styling */\n    progress {\n        /* gets rid of default border in Firefox and Opera. */\n        border: none;\n        /* Needs to be in here for Safari polyfill so background images work as expected. */\n        background-size: auto;\n    }\n    progress:not([value]), progress:not([value])::-webkit-progress-bar {\n        background: repeating-linear-gradient(45deg, #7e7e7e, #7e7e7e 10px, #5c5c5c 10px, #5c5c5c 20px);\n    }\n    .progress-bar-interrupted, .progress-bar-interrupted::-webkit-progress-bar {\n        background: #F44336;\n    }\n</style>\n"
     },
     "metadata": {}
    },
    {
     "output_type": "display_data",
     "data": {
      "text/plain": "<IPython.core.display.HTML object>",
      "text/html": ""
     },
     "metadata": {}
    },
    {
     "name": "stdout",
     "text": "huggingface/tokenizers: The current process just got forked, after parallelism has already been used. Disabling parallelism to avoid deadlocks...\nTo disable this warning, you can either:\n\t- Avoid using `tokenizers` before the fork if possible\n\t- Explicitly set the environment variable TOKENIZERS_PARALLELISM=(true | false)\nhuggingface/tokenizers: The current process just got forked, after parallelism has already been used. Disabling parallelism to avoid deadlocks...\nTo disable this warning, you can either:\n\t- Avoid using `tokenizers` before the fork if possible\n\t- Explicitly set the environment variable TOKENIZERS_PARALLELISM=(true | false)\n",
     "output_type": "stream"
    },
    {
     "execution_count": 24,
     "output_type": "execute_result",
     "data": {
      "text/plain": "SuggestedLRs(minimum=8.317637839354575e-05, steep=0.0006918309954926372)"
     },
     "metadata": {}
    },
    {
     "output_type": "display_data",
     "data": {
      "text/plain": "<Figure size 640x480 with 1 Axes>",
      "image/png": "[encoded data removed]"
     },
     "metadata": {}
    }
   ]
  },
  {
   "cell_type": "code",
   "source": [
    "learner.fit_one_cycle(1, 3.5e-5)"
   ],
   "metadata": {
    "execution": {
     "iopub.status.busy": "2023-09-12T13:30:32.493186Z",
     "iopub.execute_input": "2023-09-12T13:30:32.493727Z",
     "iopub.status.idle": "2023-09-12T13:35:23.709541Z",
     "shell.execute_reply.started": "2023-09-12T13:30:32.493682Z",
     "shell.execute_reply": "2023-09-12T13:35:23.708328Z"
    },
    "trusted": true
   },
   "execution_count": 25,
   "outputs": [
    {
     "output_type": "display_data",
     "data": {
      "text/plain": "<IPython.core.display.HTML object>",
      "text/html": "\n<style>\n    /* Turns off some styling */\n    progress {\n        /* gets rid of default border in Firefox and Opera. */\n        border: none;\n        /* Needs to be in here for Safari polyfill so background images work as expected. */\n        background-size: auto;\n    }\n    progress:not([value]), progress:not([value])::-webkit-progress-bar {\n        background: repeating-linear-gradient(45deg, #7e7e7e, #7e7e7e 10px, #5c5c5c 10px, #5c5c5c 20px);\n    }\n    .progress-bar-interrupted, .progress-bar-interrupted::-webkit-progress-bar {\n        background: #F44336;\n    }\n</style>\n"
     },
     "metadata": {}
    },
    {
     "output_type": "display_data",
     "data": {
      "text/plain": "<IPython.core.display.HTML object>",
      "text/html": "<table border=\"1\" class=\"dataframe\">\n  <thead>\n    <tr style=\"text-align: left;\">\n      <th>epoch</th>\n      <th>train_loss</th>\n      <th>valid_loss</th>\n      <th>accuracy</th>\n      <th>time</th>\n    </tr>\n  </thead>\n  <tbody>\n    <tr>\n      <td>0</td>\n      <td>0.178598</td>\n      <td>0.165569</td>\n      <td>0.944040</td>\n      <td>04:51</td>\n    </tr>\n  </tbody>\n</table>"
     },
     "metadata": {}
    },
    {
     "name": "stdout",
     "text": "huggingface/tokenizers: The current process just got forked, after parallelism has already been used. Disabling parallelism to avoid deadlocks...\nTo disable this warning, you can either:\n\t- Avoid using `tokenizers` before the fork if possible\n\t- Explicitly set the environment variable TOKENIZERS_PARALLELISM=(true | false)\nhuggingface/tokenizers: The current process just got forked, after parallelism has already been used. Disabling parallelism to avoid deadlocks...\nTo disable this warning, you can either:\n\t- Avoid using `tokenizers` before the fork if possible\n\t- Explicitly set the environment variable TOKENIZERS_PARALLELISM=(true | false)\nhuggingface/tokenizers: The current process just got forked, after parallelism has already been used. Disabling parallelism to avoid deadlocks...\nTo disable this warning, you can either:\n\t- Avoid using `tokenizers` before the fork if possible\n\t- Explicitly set the environment variable TOKENIZERS_PARALLELISM=(true | false)\nhuggingface/tokenizers: The current process just got forked, after parallelism has already been used. Disabling parallelism to avoid deadlocks...\nTo disable this warning, you can either:\n\t- Avoid using `tokenizers` before the fork if possible\n\t- Explicitly set the environment variable TOKENIZERS_PARALLELISM=(true | false)\nhuggingface/tokenizers: The current process just got forked, after parallelism has already been used. Disabling parallelism to avoid deadlocks...\nTo disable this warning, you can either:\n\t- Avoid using `tokenizers` before the fork if possible\n\t- Explicitly set the environment variable TOKENIZERS_PARALLELISM=(true | false)\n",
     "output_type": "stream"
    }
   ]
  },
  {
   "cell_type": "code",
   "source": [
    "learner.save(\"entertainment-category-stage-0\")"
   ],
   "metadata": {
    "execution": {
     "iopub.status.busy": "2023-09-12T13:35:37.120062Z",
     "iopub.execute_input": "2023-09-12T13:35:37.120594Z",
     "iopub.status.idle": "2023-09-12T13:35:40.440666Z",
     "shell.execute_reply.started": "2023-09-12T13:35:37.120553Z",
     "shell.execute_reply": "2023-09-12T13:35:40.439649Z"
    },
    "trusted": true
   },
   "execution_count": 26,
   "outputs": [
    {
     "execution_count": 26,
     "output_type": "execute_result",
     "data": {
      "text/plain": "Path('models/entertainment-category-stage-0.pth')"
     },
     "metadata": {}
    }
   ]
  },
  {
   "cell_type": "markdown",
   "source": [
    "## Stage - 1"
   ],
   "metadata": {}
  },
  {
   "cell_type": "code",
   "source": [
    "learner.unfreeze()"
   ],
   "metadata": {
    "execution": {
     "iopub.status.busy": "2023-09-12T13:36:51.401638Z",
     "iopub.execute_input": "2023-09-12T13:36:51.402134Z",
     "iopub.status.idle": "2023-09-12T13:36:51.523398Z",
     "shell.execute_reply.started": "2023-09-12T13:36:51.402096Z",
     "shell.execute_reply": "2023-09-12T13:36:51.522288Z"
    },
    "trusted": true
   },
   "execution_count": 27,
   "outputs": []
  },
  {
   "cell_type": "code",
   "source": [
    "learner.lr_find(suggest_funcs=[slide, valley])"
   ],
   "metadata": {
    "execution": {
     "iopub.status.busy": "2023-09-12T13:36:54.071199Z",
     "iopub.execute_input": "2023-09-12T13:36:54.071695Z",
     "iopub.status.idle": "2023-09-12T13:37:07.410066Z",
     "shell.execute_reply.started": "2023-09-12T13:36:54.071656Z",
     "shell.execute_reply": "2023-09-12T13:37:07.408891Z"
    },
    "trusted": true
   },
   "execution_count": 28,
   "outputs": [
    {
     "output_type": "display_data",
     "data": {
      "text/plain": "<IPython.core.display.HTML object>",
      "text/html": "\n<style>\n    /* Turns off some styling */\n    progress {\n        /* gets rid of default border in Firefox and Opera. */\n        border: none;\n        /* Needs to be in here for Safari polyfill so background images work as expected. */\n        background-size: auto;\n    }\n    progress:not([value]), progress:not([value])::-webkit-progress-bar {\n        background: repeating-linear-gradient(45deg, #7e7e7e, #7e7e7e 10px, #5c5c5c 10px, #5c5c5c 20px);\n    }\n    .progress-bar-interrupted, .progress-bar-interrupted::-webkit-progress-bar {\n        background: #F44336;\n    }\n</style>\n"
     },
     "metadata": {}
    },
    {
     "output_type": "display_data",
     "data": {
      "text/plain": "<IPython.core.display.HTML object>",
      "text/html": ""
     },
     "metadata": {}
    },
    {
     "name": "stdout",
     "text": "huggingface/tokenizers: The current process just got forked, after parallelism has already been used. Disabling parallelism to avoid deadlocks...\nTo disable this warning, you can either:\n\t- Avoid using `tokenizers` before the fork if possible\n\t- Explicitly set the environment variable TOKENIZERS_PARALLELISM=(true | false)\nhuggingface/tokenizers: The current process just got forked, after parallelism has already been used. Disabling parallelism to avoid deadlocks...\nTo disable this warning, you can either:\n\t- Avoid using `tokenizers` before the fork if possible\n\t- Explicitly set the environment variable TOKENIZERS_PARALLELISM=(true | false)\n",
     "output_type": "stream"
    },
    {
     "execution_count": 28,
     "output_type": "execute_result",
     "data": {
      "text/plain": "SuggestedLRs(slide=6.918309736647643e-06, valley=1.9054607491852948e-06)"
     },
     "metadata": {}
    },
    {
     "output_type": "display_data",
     "data": {
      "text/plain": "<Figure size 640x480 with 1 Axes>",
      "image/png": "[encoded data removed]"
     },
     "metadata": {}
    }
   ]
  },
  {
   "cell_type": "code",
   "source": [
    "learner.fit_one_cycle(5, slice(6.25e-6, 2.25e-6))"
   ],
   "metadata": {
    "execution": {
     "iopub.status.busy": "2023-09-12T13:39:36.307517Z",
     "iopub.execute_input": "2023-09-12T13:39:36.308112Z",
     "iopub.status.idle": "2023-09-12T14:03:37.529813Z",
     "shell.execute_reply.started": "2023-09-12T13:39:36.308068Z",
     "shell.execute_reply": "2023-09-12T14:03:37.528639Z"
    },
    "trusted": true
   },
   "execution_count": 29,
   "outputs": [
    {
     "output_type": "display_data",
     "data": {
      "text/plain": "<IPython.core.display.HTML object>",
      "text/html": "\n<style>\n    /* Turns off some styling */\n    progress {\n        /* gets rid of default border in Firefox and Opera. */\n        border: none;\n        /* Needs to be in here for Safari polyfill so background images work as expected. */\n        background-size: auto;\n    }\n    progress:not([value]), progress:not([value])::-webkit-progress-bar {\n        background: repeating-linear-gradient(45deg, #7e7e7e, #7e7e7e 10px, #5c5c5c 10px, #5c5c5c 20px);\n    }\n    .progress-bar-interrupted, .progress-bar-interrupted::-webkit-progress-bar {\n        background: #F44336;\n    }\n</style>\n"
     },
     "metadata": {}
    },
    {
     "output_type": "display_data",
     "data": {
      "text/plain": "<IPython.core.display.HTML object>",
      "text/html": "<table border=\"1\" class=\"dataframe\">\n  <thead>\n    <tr style=\"text-align: left;\">\n      <th>epoch</th>\n      <th>train_loss</th>\n      <th>valid_loss</th>\n      <th>accuracy</th>\n      <th>time</th>\n    </tr>\n  </thead>\n  <tbody>\n    <tr>\n      <td>0</td>\n      <td>0.124126</td>\n      <td>0.168331</td>\n      <td>0.943099</td>\n      <td>04:48</td>\n    </tr>\n    <tr>\n      <td>1</td>\n      <td>0.129308</td>\n      <td>0.163238</td>\n      <td>0.946626</td>\n      <td>04:47</td>\n    </tr>\n    <tr>\n      <td>2</td>\n      <td>0.108359</td>\n      <td>0.160490</td>\n      <td>0.948272</td>\n      <td>04:48</td>\n    </tr>\n    <tr>\n      <td>3</td>\n      <td>0.090377</td>\n      <td>0.163396</td>\n      <td>0.948272</td>\n      <td>04:49</td>\n    </tr>\n    <tr>\n      <td>4</td>\n      <td>0.082169</td>\n      <td>0.165117</td>\n      <td>0.946626</td>\n      <td>04:46</td>\n    </tr>\n  </tbody>\n</table>"
     },
     "metadata": {}
    },
    {
     "name": "stdout",
     "text": "huggingface/tokenizers: The current process just got forked, after parallelism has already been used. Disabling parallelism to avoid deadlocks...\nTo disable this warning, you can either:\n\t- Avoid using `tokenizers` before the fork if possible\n\t- Explicitly set the environment variable TOKENIZERS_PARALLELISM=(true | false)\nhuggingface/tokenizers: The current process just got forked, after parallelism has already been used. Disabling parallelism to avoid deadlocks...\nTo disable this warning, you can either:\n\t- Avoid using `tokenizers` before the fork if possible\n\t- Explicitly set the environment variable TOKENIZERS_PARALLELISM=(true | false)\nhuggingface/tokenizers: The current process just got forked, after parallelism has already been used. Disabling parallelism to avoid deadlocks...\nTo disable this warning, you can either:\n\t- Avoid using `tokenizers` before the fork if possible\n\t- Explicitly set the environment variable TOKENIZERS_PARALLELISM=(true | false)\nhuggingface/tokenizers: The current process just got forked, after parallelism has already been used. Disabling parallelism to avoid deadlocks...\nTo disable this warning, you can either:\n\t- Avoid using `tokenizers` before the fork if possible\n\t- Explicitly set the environment variable TOKENIZERS_PARALLELISM=(true | false)\nhuggingface/tokenizers: The current process just got forked, after parallelism has already been used. Disabling parallelism to avoid deadlocks...\nTo disable this warning, you can either:\n\t- Avoid using `tokenizers` before the fork if possible\n\t- Explicitly set the environment variable TOKENIZERS_PARALLELISM=(true | false)\nhuggingface/tokenizers: The current process just got forked, after parallelism has already been used. Disabling parallelism to avoid deadlocks...\nTo disable this warning, you can either:\n\t- Avoid using `tokenizers` before the fork if possible\n\t- Explicitly set the environment variable TOKENIZERS_PARALLELISM=(true | false)\nhuggingface/tokenizers: The current process just got forked, after parallelism has already been used. Disabling parallelism to avoid deadlocks...\nTo disable this warning, you can either:\n\t- Avoid using `tokenizers` before the fork if possible\n\t- Explicitly set the environment variable TOKENIZERS_PARALLELISM=(true | false)\nhuggingface/tokenizers: The current process just got forked, after parallelism has already been used. Disabling parallelism to avoid deadlocks...\nTo disable this warning, you can either:\n\t- Avoid using `tokenizers` before the fork if possible\n\t- Explicitly set the environment variable TOKENIZERS_PARALLELISM=(true | false)\nhuggingface/tokenizers: The current process just got forked, after parallelism has already been used. Disabling parallelism to avoid deadlocks...\nTo disable this warning, you can either:\n\t- Avoid using `tokenizers` before the fork if possible\n\t- Explicitly set the environment variable TOKENIZERS_PARALLELISM=(true | false)\nhuggingface/tokenizers: The current process just got forked, after parallelism has already been used. Disabling parallelism to avoid deadlocks...\nTo disable this warning, you can either:\n\t- Avoid using `tokenizers` before the fork if possible\n\t- Explicitly set the environment variable TOKENIZERS_PARALLELISM=(true | false)\nhuggingface/tokenizers: The current process just got forked, after parallelism has already been used. Disabling parallelism to avoid deadlocks...\nTo disable this warning, you can either:\n\t- Avoid using `tokenizers` before the fork if possible\n\t- Explicitly set the environment variable TOKENIZERS_PARALLELISM=(true | false)\nhuggingface/tokenizers: The current process just got forked, after parallelism has already been used. Disabling parallelism to avoid deadlocks...\nTo disable this warning, you can either:\n\t- Avoid using `tokenizers` before the fork if possible\n\t- Explicitly set the environment variable TOKENIZERS_PARALLELISM=(true | false)\nhuggingface/tokenizers: The current process just got forked, after parallelism has already been used. Disabling parallelism to avoid deadlocks...\nTo disable this warning, you can either:\n\t- Avoid using `tokenizers` before the fork if possible\n\t- Explicitly set the environment variable TOKENIZERS_PARALLELISM=(true | false)\nhuggingface/tokenizers: The current process just got forked, after parallelism has already been used. Disabling parallelism to avoid deadlocks...\nTo disable this warning, you can either:\n\t- Avoid using `tokenizers` before the fork if possible\n\t- Explicitly set the environment variable TOKENIZERS_PARALLELISM=(true | false)\nhuggingface/tokenizers: The current process just got forked, after parallelism has already been used. Disabling parallelism to avoid deadlocks...\nTo disable this warning, you can either:\n\t- Avoid using `tokenizers` before the fork if possible\n\t- Explicitly set the environment variable TOKENIZERS_PARALLELISM=(true | false)\nhuggingface/tokenizers: The current process just got forked, after parallelism has already been used. Disabling parallelism to avoid deadlocks...\nTo disable this warning, you can either:\n\t- Avoid using `tokenizers` before the fork if possible\n\t- Explicitly set the environment variable TOKENIZERS_PARALLELISM=(true | false)\nhuggingface/tokenizers: The current process just got forked, after parallelism has already been used. Disabling parallelism to avoid deadlocks...\nTo disable this warning, you can either:\n\t- Avoid using `tokenizers` before the fork if possible\n\t- Explicitly set the environment variable TOKENIZERS_PARALLELISM=(true | false)\nhuggingface/tokenizers: The current process just got forked, after parallelism has already been used. Disabling parallelism to avoid deadlocks...\nTo disable this warning, you can either:\n\t- Avoid using `tokenizers` before the fork if possible\n\t- Explicitly set the environment variable TOKENIZERS_PARALLELISM=(true | false)\nhuggingface/tokenizers: The current process just got forked, after parallelism has already been used. Disabling parallelism to avoid deadlocks...\nTo disable this warning, you can either:\n\t- Avoid using `tokenizers` before the fork if possible\n\t- Explicitly set the environment variable TOKENIZERS_PARALLELISM=(true | false)\nhuggingface/tokenizers: The current process just got forked, after parallelism has already been used. Disabling parallelism to avoid deadlocks...\nTo disable this warning, you can either:\n\t- Avoid using `tokenizers` before the fork if possible\n\t- Explicitly set the environment variable TOKENIZERS_PARALLELISM=(true | false)\n",
     "output_type": "stream"
    }
   ]
  },
  {
   "cell_type": "code",
   "source": [
    "learner.save(\"entertainment-category-stage-1\")"
   ],
   "metadata": {
    "execution": {
     "iopub.status.busy": "2023-09-12T14:03:51.026621Z",
     "iopub.execute_input": "2023-09-12T14:03:51.027240Z",
     "iopub.status.idle": "2023-09-12T14:03:54.148654Z",
     "shell.execute_reply.started": "2023-09-12T14:03:51.027194Z",
     "shell.execute_reply": "2023-09-12T14:03:54.147635Z"
    },
    "trusted": true
   },
   "execution_count": 30,
   "outputs": [
    {
     "execution_count": 30,
     "output_type": "execute_result",
     "data": {
      "text/plain": "Path('models/entertainment-category-stage-1.pth')"
     },
     "metadata": {}
    }
   ]
  },
  {
   "cell_type": "code",
   "source": [
    "learner.export(\"models/entertainment-category-stage-1.pkl\")"
   ],
   "metadata": {
    "execution": {
     "iopub.status.busy": "2023-09-12T14:03:56.066417Z",
     "iopub.execute_input": "2023-09-12T14:03:56.066916Z",
     "iopub.status.idle": "2023-09-12T14:03:57.992457Z",
     "shell.execute_reply.started": "2023-09-12T14:03:56.066875Z",
     "shell.execute_reply": "2023-09-12T14:03:57.991320Z"
    },
    "trusted": true
   },
   "execution_count": 31,
   "outputs": []
  },
  {
   "cell_type": "code",
   "source": [
    "from IPython.display import FileLink\n",
    "\n",
    "FileLink(f\"dls-entertainment-category.pkl\")"
   ],
   "metadata": {
    "execution": {
     "iopub.status.busy": "2023-09-12T14:13:59.406311Z",
     "iopub.execute_input": "2023-09-12T14:13:59.406805Z",
     "iopub.status.idle": "2023-09-12T14:13:59.526310Z",
     "shell.execute_reply.started": "2023-09-12T14:13:59.406767Z",
     "shell.execute_reply": "2023-09-12T14:13:59.525168Z"
    },
    "trusted": true
   },
   "execution_count": 37,
   "outputs": [
    {
     "execution_count": 37,
     "output_type": "execute_result",
     "data": {
      "text/plain": "/kaggle/working/dls-entertainment-category.pkl",
      "text/html": "<a href='dls-entertainment-category.pkl' target='_blank'>dls-entertainment-category.pkl</a><br>"
     },
     "metadata": {}
    }
   ]
  },
  {
   "cell_type": "code",
   "source": [
    "learner_inf = load_learner(\"models/entertainment-category-stage-1.pkl\")"
   ],
   "metadata": {
    "execution": {
     "iopub.status.busy": "2023-09-12T14:25:27.992904Z",
     "iopub.execute_input": "2023-09-12T14:25:27.993373Z",
     "iopub.status.idle": "2023-09-12T14:25:30.105504Z",
     "shell.execute_reply.started": "2023-09-12T14:25:27.993331Z",
     "shell.execute_reply": "2023-09-12T14:25:30.104472Z"
    },
    "trusted": true
   },
   "execution_count": 39,
   "outputs": []
  },
  {
   "cell_type": "code",
   "source": [
    "learner_inf.blurr_predict(\"random placeholder\")"
   ],
   "metadata": {
    "execution": {
     "iopub.status.busy": "2023-09-12T14:27:51.415113Z",
     "iopub.execute_input": "2023-09-12T14:27:51.415638Z",
     "iopub.status.idle": "2023-09-12T14:27:51.612829Z",
     "shell.execute_reply.started": "2023-09-12T14:27:51.415594Z",
     "shell.execute_reply": "2023-09-12T14:27:51.611860Z"
    },
    "trusted": true
   },
   "execution_count": 46,
   "outputs": [
    {
     "execution_count": 46,
     "output_type": "execute_result",
     "data": {
      "text/plain": "[{'label': 'a',\n  'score': 0.8001508116722107,\n  'class_index': 0,\n  'class_labels': ['anime', 'book', 'game', 'movie', 'music', 'tv show'],\n  'probs': [0.8001508116722107,\n   0.009580004028975964,\n   0.16299669444561005,\n   0.018679799512028694,\n   0.007327580824494362,\n   0.0012650785502046347]}]"
     },
     "metadata": {}
    }
   ]
  },
  {
   "cell_type": "code",
   "source": [
    "learner_inf.blurr_predict(\"random placeholder\")[0][\"label\"]"
   ],
   "metadata": {
    "execution": {
     "iopub.status.busy": "2023-09-12T14:26:54.325284Z",
     "iopub.execute_input": "2023-09-12T14:26:54.325800Z",
     "iopub.status.idle": "2023-09-12T14:26:54.517219Z",
     "shell.execute_reply.started": "2023-09-12T14:26:54.325760Z",
     "shell.execute_reply": "2023-09-12T14:26:54.516137Z"
    },
    "trusted": true
   },
   "execution_count": 45,
   "outputs": [
    {
     "execution_count": 45,
     "output_type": "execute_result",
     "data": {
      "text/plain": "'a'"
     },
     "metadata": {}
    }
   ]
  },
  {
   "cell_type": "code",
   "source": [
    "# Get the class index from the prediction result\n",
    "class_index = learner_inf.blurr_predict(\"random placeholder\")[0]['class_index']\n",
    "\n",
    "# Map the class index to the corresponding class label\n",
    "class_label = learner_inf.blurr_predict(\"random placeholder\")[0][\"class_labels\"][class_index]\n",
    "\n",
    "# Now, class_label will contain 'anime'\n",
    "print(class_label)\n"
   ],
   "metadata": {
    "execution": {
     "iopub.status.busy": "2023-09-12T14:31:23.957160Z",
     "iopub.execute_input": "2023-09-12T14:31:23.957566Z",
     "iopub.status.idle": "2023-09-12T14:31:24.147657Z",
     "shell.execute_reply.started": "2023-09-12T14:31:23.957533Z",
     "shell.execute_reply": "2023-09-12T14:31:24.146503Z"
    },
    "trusted": true
   },
   "execution_count": 52,
   "outputs": [
    {
     "name": "stdout",
     "text": "anime\n",
     "output_type": "stream"
    }
   ]
  }
 ]
}
