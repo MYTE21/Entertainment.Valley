{
 "metadata": {
  "kernelspec": {
   "language": "python",
   "display_name": "Python 3",
   "name": "python3"
  },
  "language_info": {
   "name": "python",
   "version": "3.10.12",
   "mimetype": "text/x-python",
   "codemirror_mode": {
    "name": "ipython",
    "version": 3
   },
   "pygments_lexer": "ipython3",
   "nbconvert_exporter": "python",
   "file_extension": ".py"
  }
 },
 "nbformat_minor": 4,
 "nbformat": 4,
 "cells": [
  {
   "cell_type": "markdown",
   "source": [
    "# Entertainment Category: HuggingFace"
   ],
   "metadata": {}
  },
  {
   "cell_type": "markdown",
   "source": [
    "# Setting Up Necessary Things"
   ],
   "metadata": {}
  },
  {
   "cell_type": "code",
   "source": [
    "# Jupyter Notebook Magic Command - Auto Reloading\n",
    "%reload_ext autoreload\n",
    "%autoreload 2\n",
    "\n",
    "# Jupyter Notebook Magic Command - Inline Plotting\n",
    "%matplotlib inline"
   ],
   "metadata": {
    "execution": {
     "iopub.status.busy": "2023-09-11T22:30:19.979997Z",
     "iopub.execute_input": "2023-09-11T22:30:19.980388Z",
     "iopub.status.idle": "2023-09-11T22:30:20.022125Z",
     "shell.execute_reply.started": "2023-09-11T22:30:19.980356Z",
     "shell.execute_reply": "2023-09-11T22:30:20.021116Z"
    },
    "trusted": true
   },
   "execution_count": 1,
   "outputs": []
  },
  {
   "cell_type": "code",
   "source": [
    "# Ignore All Warnings\n",
    "import warnings\n",
    "warnings.filterwarnings(\"ignore\")"
   ],
   "metadata": {
    "execution": {
     "iopub.status.busy": "2023-09-11T22:30:20.024379Z",
     "iopub.execute_input": "2023-09-11T22:30:20.024789Z",
     "iopub.status.idle": "2023-09-11T22:30:20.044182Z",
     "shell.execute_reply.started": "2023-09-11T22:30:20.024753Z",
     "shell.execute_reply": "2023-09-11T22:30:20.043097Z"
    },
    "trusted": true
   },
   "execution_count": 2,
   "outputs": []
  },
  {
   "cell_type": "code",
   "source": [
    "# Check GPU Status\n",
    "!nvidia-smi"
   ],
   "metadata": {
    "execution": {
     "iopub.status.busy": "2023-09-11T22:30:20.045931Z",
     "iopub.execute_input": "2023-09-11T22:30:20.046420Z",
     "iopub.status.idle": "2023-09-11T22:30:21.277841Z",
     "shell.execute_reply.started": "2023-09-11T22:30:20.046381Z",
     "shell.execute_reply": "2023-09-11T22:30:21.276587Z"
    },
    "trusted": true
   },
   "execution_count": 3,
   "outputs": [
    {
     "name": "stdout",
     "text": "Mon Sep 11 22:30:21 2023       \n+-----------------------------------------------------------------------------+\n| NVIDIA-SMI 470.161.03   Driver Version: 470.161.03   CUDA Version: 11.4     |\n|-------------------------------+----------------------+----------------------+\n| GPU  Name        Persistence-M| Bus-Id        Disp.A | Volatile Uncorr. ECC |\n| Fan  Temp  Perf  Pwr:Usage/Cap|         Memory-Usage | GPU-Util  Compute M. |\n|                               |                      |               MIG M. |\n|===============================+======================+======================|\n|   0  Tesla T4            Off  | 00000000:00:04.0 Off |                    0 |\n| N/A   36C    P8     9W /  70W |      0MiB / 15109MiB |      0%      Default |\n|                               |                      |                  N/A |\n+-------------------------------+----------------------+----------------------+\n|   1  Tesla T4            Off  | 00000000:00:05.0 Off |                    0 |\n| N/A   39C    P8     9W /  70W |      0MiB / 15109MiB |      0%      Default |\n|                               |                      |                  N/A |\n+-------------------------------+----------------------+----------------------+\n                                                                               \n+-----------------------------------------------------------------------------+\n| Processes:                                                                  |\n|  GPU   GI   CI        PID   Type   Process name                  GPU Memory |\n|        ID   ID                                                   Usage      |\n|=============================================================================|\n|  No running processes found                                                 |\n+-----------------------------------------------------------------------------+\n",
     "output_type": "stream"
    }
   ]
  },
  {
   "cell_type": "markdown",
   "source": [
    "# Necessary Imports"
   ],
   "metadata": {}
  },
  {
   "cell_type": "code",
   "source": [
    "! pip install -q transformers[sentencepiece] fastai ohmeow-blurr"
   ],
   "metadata": {
    "trusted": true
   },
   "execution_count": null,
   "outputs": []
  },
  {
   "cell_type": "code",
   "source": [
    "import torch\n",
    "\n",
    "from transformers import AutoModelForSequenceClassification, AutoConfig\n",
    "\n",
    "from fastai.text.all import *\n",
    "\n",
    "from blurr.text.data.all import *\n",
    "from blurr.text.modeling.all import *"
   ],
   "metadata": {
    "execution": {
     "iopub.status.busy": "2023-09-11T22:32:39.087026Z",
     "iopub.execute_input": "2023-09-11T22:32:39.091026Z",
     "iopub.status.idle": "2023-09-11T22:33:06.111075Z",
     "shell.execute_reply.started": "2023-09-11T22:32:39.090978Z",
     "shell.execute_reply": "2023-09-11T22:33:06.109975Z"
    },
    "trusted": true
   },
   "execution_count": 5,
   "outputs": [
    {
     "output_type": "display_data",
     "data": {
      "text/plain": "Downloading builder script:   0%|          | 0.00/1.72k [00:00<?, ?B/s]",
      "application/vnd.jupyter.widget-view+json": {
       "version_major": 2,
       "version_minor": 0,
       "model_id": "8a30e634a72548b5973ec1b87dc29132"
      }
     },
     "metadata": {}
    },
    {
     "output_type": "display_data",
     "data": {
      "text/plain": "Downloading extra modules:   0%|          | 0.00/1.12k [00:00<?, ?B/s]",
      "application/vnd.jupyter.widget-view+json": {
       "version_major": 2,
       "version_minor": 0,
       "model_id": "04929d7228874d5c980124f6aba05d67"
      }
     },
     "metadata": {}
    }
   ]
  },
  {
   "cell_type": "code",
   "source": [
    "# Check Cuda\n",
    "device = torch.device(\"cuda\" if torch.cuda.is_available() else \"cpu\")\n",
    "device"
   ],
   "metadata": {
    "execution": {
     "iopub.status.busy": "2023-09-11T22:33:15.546174Z",
     "iopub.execute_input": "2023-09-11T22:33:15.547158Z",
     "iopub.status.idle": "2023-09-11T22:33:15.685156Z",
     "shell.execute_reply.started": "2023-09-11T22:33:15.547115Z",
     "shell.execute_reply": "2023-09-11T22:33:15.683970Z"
    },
    "trusted": true
   },
   "execution_count": 6,
   "outputs": [
    {
     "execution_count": 6,
     "output_type": "execute_result",
     "data": {
      "text/plain": "device(type='cuda')"
     },
     "metadata": {}
    }
   ]
  },
  {
   "cell_type": "markdown",
   "source": [
    "# Data Cleaning"
   ],
   "metadata": {}
  },
  {
   "cell_type": "code",
   "source": [
    "# Path\n",
    "file_path = \"/kaggle/input/ec-dataset/entertainment_category.csv\""
   ],
   "metadata": {
    "execution": {
     "iopub.status.busy": "2023-09-11T22:40:05.527418Z",
     "iopub.execute_input": "2023-09-11T22:40:05.527970Z",
     "iopub.status.idle": "2023-09-11T22:40:05.658926Z",
     "shell.execute_reply.started": "2023-09-11T22:40:05.527928Z",
     "shell.execute_reply": "2023-09-11T22:40:05.657776Z"
    },
    "trusted": true
   },
   "execution_count": 13,
   "outputs": []
  },
  {
   "cell_type": "code",
   "source": [
    "# Show Anime DataFrame\n",
    "df = pd.read_csv(file_path)\n",
    "df.head()"
   ],
   "metadata": {
    "execution": {
     "iopub.status.busy": "2023-09-11T22:40:08.320191Z",
     "iopub.execute_input": "2023-09-11T22:40:08.320648Z",
     "iopub.status.idle": "2023-09-11T22:40:09.781415Z",
     "shell.execute_reply.started": "2023-09-11T22:40:08.320611Z",
     "shell.execute_reply": "2023-09-11T22:40:09.780248Z"
    },
    "trusted": true
   },
   "execution_count": 14,
   "outputs": [
    {
     "execution_count": 14,
     "output_type": "execute_result",
     "data": {
      "text/plain": "                                                                                                                                                                                                                                                                                                                                                                                                                                                                                                                                                                                                               description  \\\n0  What could be worse than letting billions die? In the near future, to escape the crush and clutter of a packed and polluted Earth, the world's elite flock to Atopia, an enormous corporate-owned artificial island in the Pacific Ocean. It is there that Dr. Patricia Killiam rushes to perfect the ultimate in virtual reality: a program to save the ravaged Earth from mankind's insatiable appetite for natural resources. The Atopia Chronicles (Book 1 of the Atopia series) is the tale of mankind's dark slide across the apocalypse as humans and machines merge in a world teetering on the brink of eco...   \n1  Jorge Luis Borges declared The Invention of Morel a masterpiece of plotting, comparable to The Turn of the Screw and Journey to the Center of the Earth. Set on a mysterious island, Bioy's novella is a story of suspense and exploration, as well as a wonderfully unlikely romance, in which every detail is at once crystal clear and deeply mysterious. Inspired by Bioy Casares's fascination with the movie star Louise Brooks, The Invention of Morel has gone on to live a secret life of its own. Greatly admired by Julio Cortázar, Gabriel García Márquez, and Octavio Paz, the novella helped to usher ...   \n2  Thee devil shall roam the earth And plague and terror shall reign Upon the world of man Heaven shattered Destruction of angels shall commence From his mighty seat the great one shall be cast down Impaled and defiled, his throne upon the pyre Inflamed with the seeds of misery The immortal blood will be spilt And the dark underworld will be unleashed A feeble prayer to failing deities To the ancient evil nothing is sacred A once powerful ruler, now a helpless whelp Bowing down before the eternal demon Roots rising From the dank earth piercing through the Savior's skin upwards from the pit of...   \n3  (Hook) Them niggas over there, never play fair You cud get hit wit that stick They do not care You a fruity nigga, you a care bear We running wit static We splitting yo cabbage We dug u a hole We lessen your baggage You luggage in the attic I put that on a Patek Am i bout this shit nigga Oui Oui Oui Oui Oui Ey! (Verse 1) Them niggas that hate They asking dem questions They looking so clueless And then they debate But those who the realest They movin immune They fresh like Colgate We smoke us a pack We plan an/and attack We never back down We tossing to/the die And thats for a fact Money wa...   \n4  Jigsaw Puzzle: Beach Season – the journey to the seaside starts right now! 500 high-quality photos means 500 ideas for a summer vacation! Take a virtual tour of the resorts of your dreams: Hawaii, Bali, the Maldives, Seychelles, the Caribbean… Enjoy exotic photos of these little corners of paradise on our planet. Romantic views, golden beaches, unique nature and incredible local cuisine. Jigsaw Puzzle: Beach Season will tell you where to find the best places on our planet for a calm and relaxing vacation and where adventure-seekers can go for some active rest. See local flora and fauna, ex...   \n\n  category  \n0     book  \n1     book  \n2    music  \n3    music  \n4     game  ",
      "text/html": "<div>\n<style scoped>\n    .dataframe tbody tr th:only-of-type {\n        vertical-align: middle;\n    }\n\n    .dataframe tbody tr th {\n        vertical-align: top;\n    }\n\n    .dataframe thead th {\n        text-align: right;\n    }\n</style>\n<table border=\"1\" class=\"dataframe\">\n  <thead>\n    <tr style=\"text-align: right;\">\n      <th></th>\n      <th>description</th>\n      <th>category</th>\n    </tr>\n  </thead>\n  <tbody>\n    <tr>\n      <th>0</th>\n      <td>What could be worse than letting billions die? In the near future, to escape the crush and clutter of a packed and polluted Earth, the world's elite flock to Atopia, an enormous corporate-owned artificial island in the Pacific Ocean. It is there that Dr. Patricia Killiam rushes to perfect the ultimate in virtual reality: a program to save the ravaged Earth from mankind's insatiable appetite for natural resources. The Atopia Chronicles (Book 1 of the Atopia series) is the tale of mankind's dark slide across the apocalypse as humans and machines merge in a world teetering on the brink of eco...</td>\n      <td>book</td>\n    </tr>\n    <tr>\n      <th>1</th>\n      <td>Jorge Luis Borges declared The Invention of Morel a masterpiece of plotting, comparable to The Turn of the Screw and Journey to the Center of the Earth. Set on a mysterious island, Bioy's novella is a story of suspense and exploration, as well as a wonderfully unlikely romance, in which every detail is at once crystal clear and deeply mysterious. Inspired by Bioy Casares's fascination with the movie star Louise Brooks, The Invention of Morel has gone on to live a secret life of its own. Greatly admired by Julio Cortázar, Gabriel García Márquez, and Octavio Paz, the novella helped to usher ...</td>\n      <td>book</td>\n    </tr>\n    <tr>\n      <th>2</th>\n      <td>Thee devil shall roam the earth And plague and terror shall reign Upon the world of man Heaven shattered Destruction of angels shall commence From his mighty seat the great one shall be cast down Impaled and defiled, his throne upon the pyre Inflamed with the seeds of misery The immortal blood will be spilt And the dark underworld will be unleashed A feeble prayer to failing deities To the ancient evil nothing is sacred A once powerful ruler, now a helpless whelp Bowing down before the eternal demon Roots rising From the dank earth piercing through the Savior's skin upwards from the pit of...</td>\n      <td>music</td>\n    </tr>\n    <tr>\n      <th>3</th>\n      <td>(Hook) Them niggas over there, never play fair You cud get hit wit that stick They do not care You a fruity nigga, you a care bear We running wit static We splitting yo cabbage We dug u a hole We lessen your baggage You luggage in the attic I put that on a Patek Am i bout this shit nigga Oui Oui Oui Oui Oui Ey! (Verse 1) Them niggas that hate They asking dem questions They looking so clueless And then they debate But those who the realest They movin immune They fresh like Colgate We smoke us a pack We plan an/and attack We never back down We tossing to/the die And thats for a fact Money wa...</td>\n      <td>music</td>\n    </tr>\n    <tr>\n      <th>4</th>\n      <td>Jigsaw Puzzle: Beach Season – the journey to the seaside starts right now! 500 high-quality photos means 500 ideas for a summer vacation! Take a virtual tour of the resorts of your dreams: Hawaii, Bali, the Maldives, Seychelles, the Caribbean… Enjoy exotic photos of these little corners of paradise on our planet. Romantic views, golden beaches, unique nature and incredible local cuisine. Jigsaw Puzzle: Beach Season will tell you where to find the best places on our planet for a calm and relaxing vacation and where adventure-seekers can go for some active rest. See local flora and fauna, ex...</td>\n      <td>game</td>\n    </tr>\n  </tbody>\n</table>\n</div>"
     },
     "metadata": {}
    }
   ]
  },
  {
   "cell_type": "code",
   "source": [
    "df.shape"
   ],
   "metadata": {
    "execution": {
     "iopub.status.busy": "2023-09-11T22:40:16.762195Z",
     "iopub.execute_input": "2023-09-11T22:40:16.762758Z",
     "iopub.status.idle": "2023-09-11T22:40:16.894264Z",
     "shell.execute_reply.started": "2023-09-11T22:40:16.762720Z",
     "shell.execute_reply": "2023-09-11T22:40:16.893092Z"
    },
    "trusted": true
   },
   "execution_count": 15,
   "outputs": [
    {
     "execution_count": 15,
     "output_type": "execute_result",
     "data": {
      "text/plain": "(42535, 2)"
     },
     "metadata": {}
    }
   ]
  },
  {
   "cell_type": "code",
   "source": [
    "df.isna().sum()"
   ],
   "metadata": {
    "execution": {
     "iopub.status.busy": "2023-09-11T22:40:19.024450Z",
     "iopub.execute_input": "2023-09-11T22:40:19.025009Z",
     "iopub.status.idle": "2023-09-11T22:40:19.182158Z",
     "shell.execute_reply.started": "2023-09-11T22:40:19.024970Z",
     "shell.execute_reply": "2023-09-11T22:40:19.181173Z"
    },
    "trusted": true
   },
   "execution_count": 16,
   "outputs": [
    {
     "execution_count": 16,
     "output_type": "execute_result",
     "data": {
      "text/plain": "description    0\ncategory       0\ndtype: int64"
     },
     "metadata": {}
    }
   ]
  },
  {
   "cell_type": "code",
   "source": [
    "df.dtypes"
   ],
   "metadata": {
    "execution": {
     "iopub.status.busy": "2023-09-11T22:40:22.296332Z",
     "iopub.execute_input": "2023-09-11T22:40:22.296809Z",
     "iopub.status.idle": "2023-09-11T22:40:22.583374Z",
     "shell.execute_reply.started": "2023-09-11T22:40:22.296772Z",
     "shell.execute_reply": "2023-09-11T22:40:22.581951Z"
    },
    "trusted": true
   },
   "execution_count": 17,
   "outputs": [
    {
     "execution_count": 17,
     "output_type": "execute_result",
     "data": {
      "text/plain": "description    object\ncategory       object\ndtype: object"
     },
     "metadata": {}
    }
   ]
  },
  {
   "cell_type": "code",
   "source": [
    "df[\"category\"].value_counts()"
   ],
   "metadata": {
    "execution": {
     "iopub.status.busy": "2023-09-11T22:40:25.405648Z",
     "iopub.execute_input": "2023-09-11T22:40:25.406321Z",
     "iopub.status.idle": "2023-09-11T22:40:25.554724Z",
     "shell.execute_reply.started": "2023-09-11T22:40:25.406277Z",
     "shell.execute_reply": "2023-09-11T22:40:25.553731Z"
    },
    "trusted": true
   },
   "execution_count": 18,
   "outputs": [
    {
     "execution_count": 18,
     "output_type": "execute_result",
     "data": {
      "text/plain": "category\nmovie      8676\nanime      8630\ngame       8541\nbook       7574\nmusic      5644\ntv show    3470\nName: count, dtype: int64"
     },
     "metadata": {}
    }
   ]
  },
  {
   "cell_type": "code",
   "source": [
    "labels = list(set(df[\"category\"].to_list()))\n",
    "labels_count = len(labels)\n",
    "labels_count, labels"
   ],
   "metadata": {
    "execution": {
     "iopub.status.busy": "2023-09-11T22:40:33.158654Z",
     "iopub.execute_input": "2023-09-11T22:40:33.159239Z",
     "iopub.status.idle": "2023-09-11T22:40:33.290196Z",
     "shell.execute_reply.started": "2023-09-11T22:40:33.159199Z",
     "shell.execute_reply": "2023-09-11T22:40:33.289096Z"
    },
    "trusted": true
   },
   "execution_count": 19,
   "outputs": [
    {
     "execution_count": 19,
     "output_type": "execute_result",
     "data": {
      "text/plain": "(6, ['movie', 'music', 'tv show', 'game', 'book', 'anime'])"
     },
     "metadata": {}
    }
   ]
  },
  {
   "cell_type": "markdown",
   "source": [
    "## Data-Loaders and Model Setup"
   ],
   "metadata": {}
  },
  {
   "cell_type": "markdown",
   "source": [
    "### Model Setup"
   ],
   "metadata": {}
  },
  {
   "cell_type": "code",
   "source": [
    "model_name = \"distilroberta-base\"\n",
    "model_cls = AutoModelForSequenceClassification"
   ],
   "metadata": {
    "execution": {
     "iopub.status.busy": "2023-09-11T22:40:37.481760Z",
     "iopub.execute_input": "2023-09-11T22:40:37.482402Z",
     "iopub.status.idle": "2023-09-11T22:40:37.684822Z",
     "shell.execute_reply.started": "2023-09-11T22:40:37.482355Z",
     "shell.execute_reply": "2023-09-11T22:40:37.683653Z"
    },
    "trusted": true
   },
   "execution_count": 20,
   "outputs": []
  },
  {
   "cell_type": "code",
   "source": [
    "config = AutoConfig.from_pretrained(model_name)\n",
    "config.num_labels = labels_count"
   ],
   "metadata": {
    "execution": {
     "iopub.status.busy": "2023-09-11T22:40:40.202973Z",
     "iopub.execute_input": "2023-09-11T22:40:40.203603Z",
     "iopub.status.idle": "2023-09-11T22:40:40.587547Z",
     "shell.execute_reply.started": "2023-09-11T22:40:40.203561Z",
     "shell.execute_reply": "2023-09-11T22:40:40.586540Z"
    },
    "trusted": true
   },
   "execution_count": 21,
   "outputs": [
    {
     "output_type": "display_data",
     "data": {
      "text/plain": "Downloading (…)lve/main/config.json:   0%|          | 0.00/480 [00:00<?, ?B/s]",
      "application/vnd.jupyter.widget-view+json": {
       "version_major": 2,
       "version_minor": 0,
       "model_id": "3b6d132aae5f42309ba7092177bbbf63"
      }
     },
     "metadata": {}
    }
   ]
  },
  {
   "cell_type": "code",
   "source": [
    "hf_arch, hf_config, hf_tokenizer, hf_model = get_hf_objects(model_name, model_cls=model_cls, config=config)"
   ],
   "metadata": {
    "execution": {
     "iopub.status.busy": "2023-09-11T22:40:43.308949Z",
     "iopub.execute_input": "2023-09-11T22:40:43.309476Z",
     "iopub.status.idle": "2023-09-11T22:40:48.783861Z",
     "shell.execute_reply.started": "2023-09-11T22:40:43.309435Z",
     "shell.execute_reply": "2023-09-11T22:40:48.782756Z"
    },
    "trusted": true
   },
   "execution_count": 22,
   "outputs": [
    {
     "output_type": "display_data",
     "data": {
      "text/plain": "Downloading (…)olve/main/vocab.json:   0%|          | 0.00/899k [00:00<?, ?B/s]",
      "application/vnd.jupyter.widget-view+json": {
       "version_major": 2,
       "version_minor": 0,
       "model_id": "b61d67b9dcd3461f9fde84e1f772c1c2"
      }
     },
     "metadata": {}
    },
    {
     "output_type": "display_data",
     "data": {
      "text/plain": "Downloading (…)olve/main/merges.txt:   0%|          | 0.00/456k [00:00<?, ?B/s]",
      "application/vnd.jupyter.widget-view+json": {
       "version_major": 2,
       "version_minor": 0,
       "model_id": "8bf166f8fd8a4aa4ad0aa1668516f796"
      }
     },
     "metadata": {}
    },
    {
     "output_type": "display_data",
     "data": {
      "text/plain": "Downloading (…)/main/tokenizer.json:   0%|          | 0.00/1.36M [00:00<?, ?B/s]",
      "application/vnd.jupyter.widget-view+json": {
       "version_major": 2,
       "version_minor": 0,
       "model_id": "104d3f702e3b4f8483934634f5cf7ba2"
      }
     },
     "metadata": {}
    },
    {
     "output_type": "display_data",
     "data": {
      "text/plain": "Downloading model.safetensors:   0%|          | 0.00/331M [00:00<?, ?B/s]",
      "application/vnd.jupyter.widget-view+json": {
       "version_major": 2,
       "version_minor": 0,
       "model_id": "6e1578bd7969412b9fa1ba4fa827fa05"
      }
     },
     "metadata": {}
    }
   ]
  },
  {
   "cell_type": "markdown",
   "source": [
    "### Data-Loaders"
   ],
   "metadata": {}
  },
  {
   "cell_type": "code",
   "source": [
    "blocks = (TextBlock(hf_arch, hf_config, hf_tokenizer, hf_model), CategoryBlock)\n",
    "dblock = DataBlock(blocks=blocks, get_x=ColReader(\"description\"), get_y=ColReader(\"category\"), splitter=RandomSplitter(valid_pct=0.1, seed=42))"
   ],
   "metadata": {
    "execution": {
     "iopub.status.busy": "2023-09-11T22:40:59.662338Z",
     "iopub.execute_input": "2023-09-11T22:40:59.662805Z",
     "iopub.status.idle": "2023-09-11T22:40:59.804243Z",
     "shell.execute_reply.started": "2023-09-11T22:40:59.662765Z",
     "shell.execute_reply": "2023-09-11T22:40:59.803091Z"
    },
    "trusted": true
   },
   "execution_count": 23,
   "outputs": []
  },
  {
   "cell_type": "code",
   "source": [
    "dls = dblock.dataloaders(df, bs=32)\n",
    "torch.save(dls, \"/kaggle/working/dls-entertainment-category.pkl\")"
   ],
   "metadata": {
    "execution": {
     "iopub.status.busy": "2023-09-11T22:41:11.565179Z",
     "iopub.execute_input": "2023-09-11T22:41:11.565654Z",
     "iopub.status.idle": "2023-09-11T22:42:44.108354Z",
     "shell.execute_reply.started": "2023-09-11T22:41:11.565616Z",
     "shell.execute_reply": "2023-09-11T22:42:44.107087Z"
    },
    "trusted": true
   },
   "execution_count": 24,
   "outputs": []
  },
  {
   "cell_type": "code",
   "source": [
    "dls.show_batch(dataloaders=dls, max_n=3, trunc_at=500)"
   ],
   "metadata": {
    "execution": {
     "iopub.status.busy": "2023-09-11T22:44:42.083225Z",
     "iopub.execute_input": "2023-09-11T22:44:42.083721Z",
     "iopub.status.idle": "2023-09-11T22:44:42.616104Z",
     "shell.execute_reply.started": "2023-09-11T22:44:42.083683Z",
     "shell.execute_reply": "2023-09-11T22:44:42.615108Z"
    },
    "trusted": true
   },
   "execution_count": 25,
   "outputs": [
    {
     "output_type": "display_data",
     "data": {
      "text/plain": "<IPython.core.display.HTML object>",
      "text/html": "<table border=\"1\" class=\"dataframe\">\n  <thead>\n    <tr style=\"text-align: right;\">\n      <th></th>\n      <th>text</th>\n      <th>target</th>\n    </tr>\n  </thead>\n  <tbody>\n    <tr>\n      <th>0</th>\n      <td>567 U.S. 701 (2007)Chief Justice ROBERTS announced the judgment of the Court,and delivered the opinion of the Court with respect to Parts I, II, III-A, and III-C, and an opinion with respect to Parts III-B and IV, in which Justices SCALIA, THOMAS, and ALITO join. The school districts in these cases voluntarily adopted student assignment plans that rely upon race to determine which public schools certain children may attend. The Seattle school district classifies children as white or nonwhite; t</td>\n      <td>music</td>\n    </tr>\n    <tr>\n      <th>1</th>\n      <td>A Pleasant Day With An Unpleasant Termination The birds, who, happily for their own peace of mind and personal comfort, were in blissful ignorance of the preparations which had been making to astonish them, on the first of September, hailed it, no doubt, as one of the pleasantest mornings they had seen that season. Many a young partridge who strutted complacently among the stubble, with all the finicking coxcombry of youth, and many an older one who watched his levity out of his little round ey</td>\n      <td>music</td>\n    </tr>\n    <tr>\n      <th>2</th>\n      <td>THE Forest of Brécéliande, in Brittany, the scene of the leading incident in the Chevalier au Lion, has ever been one of the most favoured haunts of Romance, and one whose marvels the Trouvères have most delighted to celebrate. Amongst those whose names have contributed to add to the renown of this remarkable spot, is the mighty Enchanter, Merlin, whose prison it became through the artifices of his Lady love. The manner of his being incarcerated there is very circumstantially detailed in the Ro</td>\n      <td>music</td>\n    </tr>\n  </tbody>\n</table>"
     },
     "metadata": {}
    }
   ]
  },
  {
   "cell_type": "markdown",
   "source": [
    "### Model"
   ],
   "metadata": {}
  },
  {
   "cell_type": "code",
   "source": [
    "model = BaseModelWrapper(hf_model)\n",
    "\n",
    "learner = Learner(\n",
    "    dls,\n",
    "    model,\n",
    "    opt_func=partial(OptimWrapper, opt=torch.optim.AdamW),\n",
    "    loss_func=PreCalculatedCrossEntropyLoss(),\n",
    "    metrics=[accuracy],\n",
    "    cbs=[BaseModelCallback],\n",
    "    splitter=blurr_splitter\n",
    ").to_fp16()"
   ],
   "metadata": {
    "execution": {
     "iopub.status.busy": "2023-09-11T22:44:59.040207Z",
     "iopub.execute_input": "2023-09-11T22:44:59.040700Z",
     "iopub.status.idle": "2023-09-11T22:44:59.291651Z",
     "shell.execute_reply.started": "2023-09-11T22:44:59.040663Z",
     "shell.execute_reply": "2023-09-11T22:44:59.290202Z"
    },
    "trusted": true
   },
   "execution_count": 26,
   "outputs": []
  },
  {
   "cell_type": "code",
   "source": [
    "learner.model"
   ],
   "metadata": {
    "execution": {
     "iopub.status.busy": "2023-09-11T22:45:02.842837Z",
     "iopub.execute_input": "2023-09-11T22:45:02.843945Z",
     "iopub.status.idle": "2023-09-11T22:45:02.982721Z",
     "shell.execute_reply.started": "2023-09-11T22:45:02.843905Z",
     "shell.execute_reply": "2023-09-11T22:45:02.981672Z"
    },
    "trusted": true
   },
   "execution_count": 27,
   "outputs": [
    {
     "execution_count": 27,
     "output_type": "execute_result",
     "data": {
      "text/plain": "BaseModelWrapper(\n  (hf_model): RobertaForSequenceClassification(\n    (roberta): RobertaModel(\n      (embeddings): RobertaEmbeddings(\n        (word_embeddings): Embedding(50265, 768, padding_idx=1)\n        (position_embeddings): Embedding(514, 768, padding_idx=1)\n        (token_type_embeddings): Embedding(1, 768)\n        (LayerNorm): LayerNorm((768,), eps=1e-05, elementwise_affine=True)\n        (dropout): Dropout(p=0.1, inplace=False)\n      )\n      (encoder): RobertaEncoder(\n        (layer): ModuleList(\n          (0): RobertaLayer(\n            (attention): RobertaAttention(\n              (self): RobertaSelfAttention(\n                (query): Linear(in_features=768, out_features=768, bias=True)\n                (key): Linear(in_features=768, out_features=768, bias=True)\n                (value): Linear(in_features=768, out_features=768, bias=True)\n                (dropout): Dropout(p=0.1, inplace=False)\n              )\n              (output): RobertaSelfOutput(\n                (dense): Linear(in_features=768, out_features=768, bias=True)\n                (LayerNorm): LayerNorm((768,), eps=1e-05, elementwise_affine=True)\n                (dropout): Dropout(p=0.1, inplace=False)\n              )\n            )\n            (intermediate): RobertaIntermediate(\n              (dense): Linear(in_features=768, out_features=3072, bias=True)\n              (intermediate_act_fn): GELUActivation()\n            )\n            (output): RobertaOutput(\n              (dense): Linear(in_features=3072, out_features=768, bias=True)\n              (LayerNorm): LayerNorm((768,), eps=1e-05, elementwise_affine=True)\n              (dropout): Dropout(p=0.1, inplace=False)\n            )\n          )\n          (1): RobertaLayer(\n            (attention): RobertaAttention(\n              (self): RobertaSelfAttention(\n                (query): Linear(in_features=768, out_features=768, bias=True)\n                (key): Linear(in_features=768, out_features=768, bias=True)\n                (value): Linear(in_features=768, out_features=768, bias=True)\n                (dropout): Dropout(p=0.1, inplace=False)\n              )\n              (output): RobertaSelfOutput(\n                (dense): Linear(in_features=768, out_features=768, bias=True)\n                (LayerNorm): LayerNorm((768,), eps=1e-05, elementwise_affine=True)\n                (dropout): Dropout(p=0.1, inplace=False)\n              )\n            )\n            (intermediate): RobertaIntermediate(\n              (dense): Linear(in_features=768, out_features=3072, bias=True)\n              (intermediate_act_fn): GELUActivation()\n            )\n            (output): RobertaOutput(\n              (dense): Linear(in_features=3072, out_features=768, bias=True)\n              (LayerNorm): LayerNorm((768,), eps=1e-05, elementwise_affine=True)\n              (dropout): Dropout(p=0.1, inplace=False)\n            )\n          )\n          (2): RobertaLayer(\n            (attention): RobertaAttention(\n              (self): RobertaSelfAttention(\n                (query): Linear(in_features=768, out_features=768, bias=True)\n                (key): Linear(in_features=768, out_features=768, bias=True)\n                (value): Linear(in_features=768, out_features=768, bias=True)\n                (dropout): Dropout(p=0.1, inplace=False)\n              )\n              (output): RobertaSelfOutput(\n                (dense): Linear(in_features=768, out_features=768, bias=True)\n                (LayerNorm): LayerNorm((768,), eps=1e-05, elementwise_affine=True)\n                (dropout): Dropout(p=0.1, inplace=False)\n              )\n            )\n            (intermediate): RobertaIntermediate(\n              (dense): Linear(in_features=768, out_features=3072, bias=True)\n              (intermediate_act_fn): GELUActivation()\n            )\n            (output): RobertaOutput(\n              (dense): Linear(in_features=3072, out_features=768, bias=True)\n              (LayerNorm): LayerNorm((768,), eps=1e-05, elementwise_affine=True)\n              (dropout): Dropout(p=0.1, inplace=False)\n            )\n          )\n          (3): RobertaLayer(\n            (attention): RobertaAttention(\n              (self): RobertaSelfAttention(\n                (query): Linear(in_features=768, out_features=768, bias=True)\n                (key): Linear(in_features=768, out_features=768, bias=True)\n                (value): Linear(in_features=768, out_features=768, bias=True)\n                (dropout): Dropout(p=0.1, inplace=False)\n              )\n              (output): RobertaSelfOutput(\n                (dense): Linear(in_features=768, out_features=768, bias=True)\n                (LayerNorm): LayerNorm((768,), eps=1e-05, elementwise_affine=True)\n                (dropout): Dropout(p=0.1, inplace=False)\n              )\n            )\n            (intermediate): RobertaIntermediate(\n              (dense): Linear(in_features=768, out_features=3072, bias=True)\n              (intermediate_act_fn): GELUActivation()\n            )\n            (output): RobertaOutput(\n              (dense): Linear(in_features=3072, out_features=768, bias=True)\n              (LayerNorm): LayerNorm((768,), eps=1e-05, elementwise_affine=True)\n              (dropout): Dropout(p=0.1, inplace=False)\n            )\n          )\n          (4): RobertaLayer(\n            (attention): RobertaAttention(\n              (self): RobertaSelfAttention(\n                (query): Linear(in_features=768, out_features=768, bias=True)\n                (key): Linear(in_features=768, out_features=768, bias=True)\n                (value): Linear(in_features=768, out_features=768, bias=True)\n                (dropout): Dropout(p=0.1, inplace=False)\n              )\n              (output): RobertaSelfOutput(\n                (dense): Linear(in_features=768, out_features=768, bias=True)\n                (LayerNorm): LayerNorm((768,), eps=1e-05, elementwise_affine=True)\n                (dropout): Dropout(p=0.1, inplace=False)\n              )\n            )\n            (intermediate): RobertaIntermediate(\n              (dense): Linear(in_features=768, out_features=3072, bias=True)\n              (intermediate_act_fn): GELUActivation()\n            )\n            (output): RobertaOutput(\n              (dense): Linear(in_features=3072, out_features=768, bias=True)\n              (LayerNorm): LayerNorm((768,), eps=1e-05, elementwise_affine=True)\n              (dropout): Dropout(p=0.1, inplace=False)\n            )\n          )\n          (5): RobertaLayer(\n            (attention): RobertaAttention(\n              (self): RobertaSelfAttention(\n                (query): Linear(in_features=768, out_features=768, bias=True)\n                (key): Linear(in_features=768, out_features=768, bias=True)\n                (value): Linear(in_features=768, out_features=768, bias=True)\n                (dropout): Dropout(p=0.1, inplace=False)\n              )\n              (output): RobertaSelfOutput(\n                (dense): Linear(in_features=768, out_features=768, bias=True)\n                (LayerNorm): LayerNorm((768,), eps=1e-05, elementwise_affine=True)\n                (dropout): Dropout(p=0.1, inplace=False)\n              )\n            )\n            (intermediate): RobertaIntermediate(\n              (dense): Linear(in_features=768, out_features=3072, bias=True)\n              (intermediate_act_fn): GELUActivation()\n            )\n            (output): RobertaOutput(\n              (dense): Linear(in_features=3072, out_features=768, bias=True)\n              (LayerNorm): LayerNorm((768,), eps=1e-05, elementwise_affine=True)\n              (dropout): Dropout(p=0.1, inplace=False)\n            )\n          )\n        )\n      )\n    )\n    (classifier): RobertaClassificationHead(\n      (dense): Linear(in_features=768, out_features=768, bias=True)\n      (dropout): Dropout(p=0.1, inplace=False)\n      (out_proj): Linear(in_features=768, out_features=6, bias=True)\n    )\n  )\n)"
     },
     "metadata": {}
    }
   ]
  },
  {
   "cell_type": "markdown",
   "source": [
    "# Model Training"
   ],
   "metadata": {}
  },
  {
   "cell_type": "markdown",
   "source": [
    "## Stage - 0"
   ],
   "metadata": {}
  },
  {
   "cell_type": "code",
   "source": [
    "learner.lr_find(suggest_funcs=[minimum, steep])"
   ],
   "metadata": {
    "execution": {
     "iopub.status.busy": "2023-09-11T22:45:09.016229Z",
     "iopub.execute_input": "2023-09-11T22:45:09.016682Z",
     "iopub.status.idle": "2023-09-11T22:45:38.090288Z",
     "shell.execute_reply.started": "2023-09-11T22:45:09.016646Z",
     "shell.execute_reply": "2023-09-11T22:45:38.089097Z"
    },
    "trusted": true
   },
   "execution_count": 28,
   "outputs": [
    {
     "output_type": "display_data",
     "data": {
      "text/plain": "<IPython.core.display.HTML object>",
      "text/html": "\n<style>\n    /* Turns off some styling */\n    progress {\n        /* gets rid of default border in Firefox and Opera. */\n        border: none;\n        /* Needs to be in here for Safari polyfill so background images work as expected. */\n        background-size: auto;\n    }\n    progress:not([value]), progress:not([value])::-webkit-progress-bar {\n        background: repeating-linear-gradient(45deg, #7e7e7e, #7e7e7e 10px, #5c5c5c 10px, #5c5c5c 20px);\n    }\n    .progress-bar-interrupted, .progress-bar-interrupted::-webkit-progress-bar {\n        background: #F44336;\n    }\n</style>\n"
     },
     "metadata": {}
    },
    {
     "output_type": "display_data",
     "data": {
      "text/plain": "<IPython.core.display.HTML object>",
      "text/html": ""
     },
     "metadata": {}
    },
    {
     "name": "stdout",
     "text": "huggingface/tokenizers: The current process just got forked, after parallelism has already been used. Disabling parallelism to avoid deadlocks...\nTo disable this warning, you can either:\n\t- Avoid using `tokenizers` before the fork if possible\n\t- Explicitly set the environment variable TOKENIZERS_PARALLELISM=(true | false)\nhuggingface/tokenizers: The current process just got forked, after parallelism has already been used. Disabling parallelism to avoid deadlocks...\nTo disable this warning, you can either:\n\t- Avoid using `tokenizers` before the fork if possible\n\t- Explicitly set the environment variable TOKENIZERS_PARALLELISM=(true | false)\n",
     "output_type": "stream"
    },
    {
     "execution_count": 28,
     "output_type": "execute_result",
     "data": {
      "text/plain": "SuggestedLRs(minimum=5.754399462603033e-05, steep=0.00010964782268274575)"
     },
     "metadata": {}
    },
    {
     "output_type": "display_data",
     "data": {
      "text/plain": "<Figure size 640x480 with 1 Axes>",
      "image/png": "[encoded data removed]"
     },
     "metadata": {}
    }
   ]
  },
  {
   "cell_type": "code",
   "source": [
    "learner.fit_one_cycle(1, 8.25e-5)"
   ],
   "metadata": {
    "execution": {
     "iopub.status.busy": "2023-09-11T22:53:08.566627Z",
     "iopub.execute_input": "2023-09-11T22:53:08.567192Z",
     "iopub.status.idle": "2023-09-11T22:58:03.213402Z",
     "shell.execute_reply.started": "2023-09-11T22:53:08.567147Z",
     "shell.execute_reply": "2023-09-11T22:58:03.212133Z"
    },
    "trusted": true
   },
   "execution_count": 29,
   "outputs": [
    {
     "output_type": "display_data",
     "data": {
      "text/plain": "<IPython.core.display.HTML object>",
      "text/html": "\n<style>\n    /* Turns off some styling */\n    progress {\n        /* gets rid of default border in Firefox and Opera. */\n        border: none;\n        /* Needs to be in here for Safari polyfill so background images work as expected. */\n        background-size: auto;\n    }\n    progress:not([value]), progress:not([value])::-webkit-progress-bar {\n        background: repeating-linear-gradient(45deg, #7e7e7e, #7e7e7e 10px, #5c5c5c 10px, #5c5c5c 20px);\n    }\n    .progress-bar-interrupted, .progress-bar-interrupted::-webkit-progress-bar {\n        background: #F44336;\n    }\n</style>\n"
     },
     "metadata": {}
    },
    {
     "output_type": "display_data",
     "data": {
      "text/plain": "<IPython.core.display.HTML object>",
      "text/html": "<table border=\"1\" class=\"dataframe\">\n  <thead>\n    <tr style=\"text-align: left;\">\n      <th>epoch</th>\n      <th>train_loss</th>\n      <th>valid_loss</th>\n      <th>accuracy</th>\n      <th>time</th>\n    </tr>\n  </thead>\n  <tbody>\n    <tr>\n      <td>0</td>\n      <td>0.208515</td>\n      <td>0.170552</td>\n      <td>0.940748</td>\n      <td>04:54</td>\n    </tr>\n  </tbody>\n</table>"
     },
     "metadata": {}
    },
    {
     "name": "stdout",
     "text": "huggingface/tokenizers: The current process just got forked, after parallelism has already been used. Disabling parallelism to avoid deadlocks...\nTo disable this warning, you can either:\n\t- Avoid using `tokenizers` before the fork if possible\n\t- Explicitly set the environment variable TOKENIZERS_PARALLELISM=(true | false)\nhuggingface/tokenizers: The current process just got forked, after parallelism has already been used. Disabling parallelism to avoid deadlocks...\nTo disable this warning, you can either:\n\t- Avoid using `tokenizers` before the fork if possible\n\t- Explicitly set the environment variable TOKENIZERS_PARALLELISM=(true | false)\nTo disable this warning, you can either:\n\t- Avoid using `tokenizers` before the fork if possible\n\t- Explicitly set the environment variable TOKENIZERS_PARALLELISM=(true | false)\nhuggingface/tokenizers: The current process just got forked, after parallelism has already been used. Disabling parallelism to avoid deadlocks...\nTo disable this warning, you can either:\n\t- Avoid using `tokenizers` before the fork if possible\n\t- Explicitly set the environment variable TOKENIZERS_PARALLELISM=(true | false)\nhuggingface/tokenizers: The current process just got forked, after parallelism has already been used. Disabling parallelism to avoid deadlocks...\nTo disable this warning, you can either:\n\t- Avoid using `tokenizers` before the fork if possible\n\t- Explicitly set the environment variable TOKENIZERS_PARALLELISM=(true | false)\n",
     "output_type": "stream"
    }
   ]
  },
  {
   "cell_type": "code",
   "source": [
    "learner.save(\"entertainment-category-stage-0\")"
   ],
   "metadata": {
    "execution": {
     "iopub.status.busy": "2023-09-11T22:58:19.238387Z",
     "iopub.execute_input": "2023-09-11T22:58:19.238870Z",
     "iopub.status.idle": "2023-09-11T22:58:22.005787Z",
     "shell.execute_reply.started": "2023-09-11T22:58:19.238829Z",
     "shell.execute_reply": "2023-09-11T22:58:21.995135Z"
    },
    "trusted": true
   },
   "execution_count": 30,
   "outputs": [
    {
     "execution_count": 30,
     "output_type": "execute_result",
     "data": {
      "text/plain": "Path('models/entertainment-category-stage-0.pth')"
     },
     "metadata": {}
    }
   ]
  },
  {
   "cell_type": "markdown",
   "source": [
    "## Stage - 1"
   ],
   "metadata": {}
  },
  {
   "cell_type": "code",
   "source": [
    "learner.unfreeze()"
   ],
   "metadata": {
    "execution": {
     "iopub.status.busy": "2023-09-11T23:02:38.359330Z",
     "iopub.execute_input": "2023-09-11T23:02:38.360196Z",
     "iopub.status.idle": "2023-09-11T23:02:38.494421Z",
     "shell.execute_reply.started": "2023-09-11T23:02:38.360154Z",
     "shell.execute_reply": "2023-09-11T23:02:38.493141Z"
    },
    "trusted": true
   },
   "execution_count": 34,
   "outputs": []
  },
  {
   "cell_type": "code",
   "source": [
    "learner.lr_find(suggest_funcs=[slide, valley])"
   ],
   "metadata": {
    "execution": {
     "iopub.status.busy": "2023-09-11T23:02:40.671983Z",
     "iopub.execute_input": "2023-09-11T23:02:40.672567Z",
     "iopub.status.idle": "2023-09-11T23:02:59.722773Z",
     "shell.execute_reply.started": "2023-09-11T23:02:40.672525Z",
     "shell.execute_reply": "2023-09-11T23:02:59.721538Z"
    },
    "trusted": true
   },
   "execution_count": 35,
   "outputs": [
    {
     "output_type": "display_data",
     "data": {
      "text/plain": "<IPython.core.display.HTML object>",
      "text/html": "\n<style>\n    /* Turns off some styling */\n    progress {\n        /* gets rid of default border in Firefox and Opera. */\n        border: none;\n        /* Needs to be in here for Safari polyfill so background images work as expected. */\n        background-size: auto;\n    }\n    progress:not([value]), progress:not([value])::-webkit-progress-bar {\n        background: repeating-linear-gradient(45deg, #7e7e7e, #7e7e7e 10px, #5c5c5c 10px, #5c5c5c 20px);\n    }\n    .progress-bar-interrupted, .progress-bar-interrupted::-webkit-progress-bar {\n        background: #F44336;\n    }\n</style>\n"
     },
     "metadata": {}
    },
    {
     "output_type": "display_data",
     "data": {
      "text/plain": "<IPython.core.display.HTML object>",
      "text/html": ""
     },
     "metadata": {}
    },
    {
     "name": "stdout",
     "text": "huggingface/tokenizers: The current process just got forked, after parallelism has already been used. Disabling parallelism to avoid deadlocks...\nTo disable this warning, you can either:\n\t- Avoid using `tokenizers` before the fork if possible\n\t- Explicitly set the environment variable TOKENIZERS_PARALLELISM=(true | false)\nhuggingface/tokenizers: The current process just got forked, after parallelism has already been used. Disabling parallelism to avoid deadlocks...\nTo disable this warning, you can either:\n\t- Avoid using `tokenizers` before the fork if possible\n\t- Explicitly set the environment variable TOKENIZERS_PARALLELISM=(true | false)\n",
     "output_type": "stream"
    },
    {
     "execution_count": 35,
     "output_type": "execute_result",
     "data": {
      "text/plain": "SuggestedLRs(slide=0.00015848931798245758, valley=2.511886486900039e-05)"
     },
     "metadata": {}
    },
    {
     "output_type": "display_data",
     "data": {
      "text/plain": "<Figure size 640x480 with 1 Axes>",
      "image/png": "[encoded data removed]"
     },
     "metadata": {}
    }
   ]
  },
  {
   "cell_type": "code",
   "source": [
    "learner.fit_one_cycle(5, slice(1.25e-4, 2.75e-5))"
   ],
   "metadata": {
    "execution": {
     "iopub.status.busy": "2023-09-11T23:03:59.618885Z",
     "iopub.execute_input": "2023-09-11T23:03:59.619497Z",
     "iopub.status.idle": "2023-09-11T23:28:00.494196Z",
     "shell.execute_reply.started": "2023-09-11T23:03:59.619457Z",
     "shell.execute_reply": "2023-09-11T23:28:00.493027Z"
    },
    "trusted": true
   },
   "execution_count": 36,
   "outputs": [
    {
     "output_type": "display_data",
     "data": {
      "text/plain": "<IPython.core.display.HTML object>",
      "text/html": "\n<style>\n    /* Turns off some styling */\n    progress {\n        /* gets rid of default border in Firefox and Opera. */\n        border: none;\n        /* Needs to be in here for Safari polyfill so background images work as expected. */\n        background-size: auto;\n    }\n    progress:not([value]), progress:not([value])::-webkit-progress-bar {\n        background: repeating-linear-gradient(45deg, #7e7e7e, #7e7e7e 10px, #5c5c5c 10px, #5c5c5c 20px);\n    }\n    .progress-bar-interrupted, .progress-bar-interrupted::-webkit-progress-bar {\n        background: #F44336;\n    }\n</style>\n"
     },
     "metadata": {}
    },
    {
     "output_type": "display_data",
     "data": {
      "text/plain": "<IPython.core.display.HTML object>",
      "text/html": "<table border=\"1\" class=\"dataframe\">\n  <thead>\n    <tr style=\"text-align: left;\">\n      <th>epoch</th>\n      <th>train_loss</th>\n      <th>valid_loss</th>\n      <th>accuracy</th>\n      <th>time</th>\n    </tr>\n  </thead>\n  <tbody>\n    <tr>\n      <td>0</td>\n      <td>0.183650</td>\n      <td>0.197449</td>\n      <td>0.933929</td>\n      <td>04:55</td>\n    </tr>\n    <tr>\n      <td>1</td>\n      <td>0.139328</td>\n      <td>0.219831</td>\n      <td>0.936280</td>\n      <td>04:56</td>\n    </tr>\n    <tr>\n      <td>2</td>\n      <td>0.082482</td>\n      <td>0.195504</td>\n      <td>0.942158</td>\n      <td>04:55</td>\n    </tr>\n    <tr>\n      <td>3</td>\n      <td>0.028951</td>\n      <td>0.255362</td>\n      <td>0.940983</td>\n      <td>04:44</td>\n    </tr>\n    <tr>\n      <td>4</td>\n      <td>0.009235</td>\n      <td>0.269965</td>\n      <td>0.940513</td>\n      <td>04:28</td>\n    </tr>\n  </tbody>\n</table>"
     },
     "metadata": {}
    },
    {
     "name": "stdout",
     "text": "huggingface/tokenizers: The current process just got forked, after parallelism has already been used. Disabling parallelism to avoid deadlocks...\nTo disable this warning, you can either:\n\t- Avoid using `tokenizers` before the fork if possible\n\t- Explicitly set the environment variable TOKENIZERS_PARALLELISM=(true | false)\nhuggingface/tokenizers: The current process just got forked, after parallelism has already been used. Disabling parallelism to avoid deadlocks...\nTo disable this warning, you can either:\n\t- Avoid using `tokenizers` before the fork if possible\n\t- Explicitly set the environment variable TOKENIZERS_PARALLELISM=(true | false)\nhuggingface/tokenizers: The current process just got forked, after parallelism has already been used. Disabling parallelism to avoid deadlocks...\nTo disable this warning, you can either:\n\t- Avoid using `tokenizers` before the fork if possible\n\t- Explicitly set the environment variable TOKENIZERS_PARALLELISM=(true | false)\nhuggingface/tokenizers: The current process just got forked, after parallelism has already been used. Disabling parallelism to avoid deadlocks...\nTo disable this warning, you can either:\n\t- Avoid using `tokenizers` before the fork if possible\n\t- Explicitly set the environment variable TOKENIZERS_PARALLELISM=(true | false)\nhuggingface/tokenizers: The current process just got forked, after parallelism has already been used. Disabling parallelism to avoid deadlocks...\nTo disable this warning, you can either:\n\t- Avoid using `tokenizers` before the fork if possible\n\t- Explicitly set the environment variable TOKENIZERS_PARALLELISM=(true | false)\nhuggingface/tokenizers: The current process just got forked, after parallelism has already been used. Disabling parallelism to avoid deadlocks...\nTo disable this warning, you can either:\n\t- Avoid using `tokenizers` before the fork if possible\n\t- Explicitly set the environment variable TOKENIZERS_PARALLELISM=(true | false)\nhuggingface/tokenizers: The current process just got forked, after parallelism has already been used. Disabling parallelism to avoid deadlocks...\nTo disable this warning, you can either:\n\t- Avoid using `tokenizers` before the fork if possible\n\t- Explicitly set the environment variable TOKENIZERS_PARALLELISM=(true | false)\nhuggingface/tokenizers: The current process just got forked, after parallelism has already been used. Disabling parallelism to avoid deadlocks...\nTo disable this warning, you can either:\n\t- Avoid using `tokenizers` before the fork if possible\n\t- Explicitly set the environment variable TOKENIZERS_PARALLELISM=(true | false)\nhuggingface/tokenizers: The current process just got forked, after parallelism has already been used. Disabling parallelism to avoid deadlocks...\nTo disable this warning, you can either:\n\t- Avoid using `tokenizers` before the fork if possible\n\t- Explicitly set the environment variable TOKENIZERS_PARALLELISM=(true | false)\nhuggingface/tokenizers: The current process just got forked, after parallelism has already been used. Disabling parallelism to avoid deadlocks...\nTo disable this warning, you can either:\n\t- Avoid using `tokenizers` before the fork if possible\n\t- Explicitly set the environment variable TOKENIZERS_PARALLELISM=(true | false)\nhuggingface/tokenizers: The current process just got forked, after parallelism has already been used. Disabling parallelism to avoid deadlocks...\nTo disable this warning, you can either:\n\t- Avoid using `tokenizers` before the fork if possible\n\t- Explicitly set the environment variable TOKENIZERS_PARALLELISM=(true | false)\nhuggingface/tokenizers: The current process just got forked, after parallelism has already been used. Disabling parallelism to avoid deadlocks...\nTo disable this warning, you can either:\n\t- Avoid using `tokenizers` before the fork if possible\n\t- Explicitly set the environment variable TOKENIZERS_PARALLELISM=(true | false)\nhuggingface/tokenizers: The current process just got forked, after parallelism has already been used. Disabling parallelism to avoid deadlocks...\nTo disable this warning, you can either:\n\t- Avoid using `tokenizers` before the fork if possible\n\t- Explicitly set the environment variable TOKENIZERS_PARALLELISM=(true | false)\nhuggingface/tokenizers: The current process just got forked, after parallelism has already been used. Disabling parallelism to avoid deadlocks...\nTo disable this warning, you can either:\n\t- Avoid using `tokenizers` before the fork if possible\n\t- Explicitly set the environment variable TOKENIZERS_PARALLELISM=(true | false)\nhuggingface/tokenizers: The current process just got forked, after parallelism has already been used. Disabling parallelism to avoid deadlocks...\nTo disable this warning, you can either:\n\t- Avoid using `tokenizers` before the fork if possible\n\t- Explicitly set the environment variable TOKENIZERS_PARALLELISM=(true | false)\nhuggingface/tokenizers: The current process just got forked, after parallelism has already been used. Disabling parallelism to avoid deadlocks...\nTo disable this warning, you can either:\n\t- Avoid using `tokenizers` before the fork if possible\n\t- Explicitly set the environment variable TOKENIZERS_PARALLELISM=(true | false)\nhuggingface/tokenizers: The current process just got forked, after parallelism has already been used. Disabling parallelism to avoid deadlocks...\nTo disable this warning, you can either:\n\t- Avoid using `tokenizers` before the fork if possible\n\t- Explicitly set the environment variable TOKENIZERS_PARALLELISM=(true | false)\nhuggingface/tokenizers: The current process just got forked, after parallelism has already been used. Disabling parallelism to avoid deadlocks...\nTo disable this warning, you can either:\n\t- Avoid using `tokenizers` before the fork if possible\n\t- Explicitly set the environment variable TOKENIZERS_PARALLELISM=(true | false)\nhuggingface/tokenizers: The current process just got forked, after parallelism has already been used. Disabling parallelism to avoid deadlocks...\nTo disable this warning, you can either:\n\t- Avoid using `tokenizers` before the fork if possible\n\t- Explicitly set the environment variable TOKENIZERS_PARALLELISM=(true | false)\nhuggingface/tokenizers: The current process just got forked, after parallelism has already been used. Disabling parallelism to avoid deadlocks...\nTo disable this warning, you can either:\n\t- Avoid using `tokenizers` before the fork if possible\n\t- Explicitly set the environment variable TOKENIZERS_PARALLELISM=(true | false)\nTo disable this warning, you can either:\n\t- Avoid using `tokenizers` before the fork if possible\n\t- Explicitly set the environment variable TOKENIZERS_PARALLELISM=(true | false)\nhuggingface/tokenizers: The current process just got forked, after parallelism has already been used. Disabling parallelism to avoid deadlocks...\nTo disable this warning, you can either:\n\t- Avoid using `tokenizers` before the fork if possible\n\t- Explicitly set the environment variable TOKENIZERS_PARALLELISM=(true | false)\nhuggingface/tokenizers: The current process just got forked, after parallelism has already been used. Disabling parallelism to avoid deadlocks...\nTo disable this warning, you can either:\n\t- Avoid using `tokenizers` before the fork if possible\n\t- Explicitly set the environment variable TOKENIZERS_PARALLELISM=(true | false)\n",
     "output_type": "stream"
    }
   ]
  },
  {
   "cell_type": "code",
   "source": [
    "learner.save(\"entertainment-category-stage-1\")"
   ],
   "metadata": {
    "execution": {
     "iopub.status.busy": "2023-09-11T23:29:05.634255Z",
     "iopub.execute_input": "2023-09-11T23:29:05.634812Z",
     "iopub.status.idle": "2023-09-11T23:29:09.051457Z",
     "shell.execute_reply.started": "2023-09-11T23:29:05.634765Z",
     "shell.execute_reply": "2023-09-11T23:29:09.049461Z"
    },
    "trusted": true
   },
   "execution_count": 37,
   "outputs": [
    {
     "execution_count": 37,
     "output_type": "execute_result",
     "data": {
      "text/plain": "Path('models/entertainment-category-stage-1.pth')"
     },
     "metadata": {}
    }
   ]
  },
  {
   "cell_type": "code",
   "source": [
    "learner.export(\"models/entertainment-category-stage-1.pkl\")"
   ],
   "metadata": {
    "execution": {
     "iopub.status.busy": "2023-09-11T23:29:09.106875Z",
     "iopub.execute_input": "2023-09-11T23:29:09.107915Z",
     "iopub.status.idle": "2023-09-11T23:29:11.198994Z",
     "shell.execute_reply.started": "2023-09-11T23:29:09.107865Z",
     "shell.execute_reply": "2023-09-11T23:29:11.197835Z"
    },
    "trusted": true
   },
   "execution_count": 38,
   "outputs": []
  }
 ]
}
