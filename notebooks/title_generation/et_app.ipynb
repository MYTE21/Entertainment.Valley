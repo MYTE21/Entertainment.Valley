{
  "nbformat": 4,
  "nbformat_minor": 0,
  "metadata": {
    "colab": {
      "provenance": []
    },
    "kernelspec": {
      "name": "python3",
      "display_name": "Python 3"
    },
    "language_info": {
      "name": "python"
    }
  },
  "cells": [
    {
      "cell_type": "markdown",
      "source": [
        "# Entertainment Title: App"
      ],
      "metadata": {
        "id": "0eMm6bVsH_vH"
      }
    },
    {
      "cell_type": "markdown",
      "source": [
        "# Setting Up Necessary Things"
      ],
      "metadata": {
        "id": "A44jNf00IG_z"
      }
    },
    {
      "cell_type": "code",
      "execution_count": null,
      "metadata": {
        "id": "UbdoSKcIH-rw"
      },
      "outputs": [],
      "source": [
        "# Jupyter Notebook Magic Command - Auto Reloading\n",
        "%reload_ext autoreload\n",
        "%autoreload 2\n",
        "\n",
        "# Jupyter Notebook Magic Command - Inline Plotting\n",
        "%matplotlib inline"
      ]
    },
    {
      "cell_type": "code",
      "source": [
        "# Ignore All Warnings\n",
        "import warnings\n",
        "warnings.filterwarnings(\"ignore\")"
      ],
      "metadata": {
        "id": "kU4d8cJ1IJ0y"
      },
      "execution_count": null,
      "outputs": []
    },
    {
      "cell_type": "code",
      "source": [
        "from google.colab import drive\n",
        "drive.mount('/content/drive')"
      ],
      "metadata": {
        "colab": {
          "base_uri": "https://localhost:8080/"
        },
        "id": "FNqXkkyXILEe",
        "outputId": "d8bb0388-1406-465e-b77d-802417cb9fb4"
      },
      "execution_count": null,
      "outputs": [
        {
          "output_type": "stream",
          "name": "stdout",
          "text": [
            "Mounted at /content/drive\n"
          ]
        }
      ]
    },
    {
      "cell_type": "code",
      "source": [
        "%cd /content/drive/MyDrive/All Entertainment Classification"
      ],
      "metadata": {
        "colab": {
          "base_uri": "https://localhost:8080/"
        },
        "id": "BYqSmUFFIMOM",
        "outputId": "66886455-b131-4863-aed4-ff9d6d378d8f"
      },
      "execution_count": null,
      "outputs": [
        {
          "output_type": "stream",
          "name": "stdout",
          "text": [
            "/content/drive/MyDrive/All Entertainment Classification\n"
          ]
        }
      ]
    },
    {
      "cell_type": "markdown",
      "source": [
        "# Necessary Imports"
      ],
      "metadata": {
        "id": "6ZuEuvxhIOQI"
      }
    },
    {
      "cell_type": "code",
      "source": [
        "! pip install -q transformers[sentencepiece] fastai ohmeow-blurr gradio"
      ],
      "metadata": {
        "id": "dL833wzvIO8y"
      },
      "execution_count": null,
      "outputs": []
    },
    {
      "cell_type": "code",
      "source": [
        "from fastai.text.all import *\n",
        "\n",
        "from blurr.text.modeling.all import *\n",
        "\n",
        "import gradio as gr"
      ],
      "metadata": {
        "id": "ORifBw1lIXTu"
      },
      "execution_count": null,
      "outputs": []
    },
    {
      "cell_type": "markdown",
      "source": [
        "# Modeling"
      ],
      "metadata": {
        "id": "yW9VSIllIgJe"
      }
    },
    {
      "cell_type": "code",
      "source": [
        "model_path = \"models/entertainment-title-stage-1.pkl\""
      ],
      "metadata": {
        "id": "u7Z2xTFaIhSH"
      },
      "execution_count": null,
      "outputs": []
    },
    {
      "cell_type": "code",
      "source": [
        "model = load_learner(model_path)"
      ],
      "metadata": {
        "id": "IXDsqcGVIkQH"
      },
      "execution_count": null,
      "outputs": []
    },
    {
      "cell_type": "code",
      "source": [
        "def entertainment_title(description):\n",
        "  outputs = model.blurr_summarize(description, early_stopping=True, num_beams=20, num_return_sequences=5)\n",
        "  return {key: 1 for key in list(outputs[0].values())[0]}"
      ],
      "metadata": {
        "id": "Vmd76jMNIpxp"
      },
      "execution_count": null,
      "outputs": []
    },
    {
      "cell_type": "code",
      "source": [
        "desc = \"When the menace known as the Joker wreaks havoc and chaos on the people of Gotham, Batman must accept one of the greatest psychological and physical tests of his ability to fight injustice.\""
      ],
      "metadata": {
        "id": "RDwcsY8KI2Xy"
      },
      "execution_count": null,
      "outputs": []
    },
    {
      "cell_type": "code",
      "source": [
        "entertainment_title(desc)"
      ],
      "metadata": {
        "colab": {
          "base_uri": "https://localhost:8080/"
        },
        "id": "TF8VP1JrI6PW",
        "outputId": "c23f751c-7b8f-4fd0-9ae8-e84bfd284a12"
      },
      "execution_count": null,
      "outputs": [
        {
          "output_type": "execute_result",
          "data": {
            "text/plain": [
              "{'Batman: The Movie': 1,\n",
              " 'Batman: The Joker': 1,\n",
              " 'Batman: Batman and the Joker': 1,\n",
              " 'Batman: Batman': 1,\n",
              " 'Batman: Batman the Movie': 1}"
            ]
          },
          "metadata": {},
          "execution_count": 86
        }
      ]
    },
    {
      "cell_type": "code",
      "source": [
        "the_list = [1, 'a', 2.7]\n",
        "the_tuple = tuple(the_list)\n",
        "the_tuple"
      ],
      "metadata": {
        "colab": {
          "base_uri": "https://localhost:8080/"
        },
        "id": "6m4GrXkEUoj5",
        "outputId": "5b3def9e-0a22-4f44-c98d-51f9e0c3ce5c"
      },
      "execution_count": null,
      "outputs": [
        {
          "output_type": "execute_result",
          "data": {
            "text/plain": [
              "(1, 'a', 2.7)"
            ]
          },
          "metadata": {},
          "execution_count": 87
        }
      ]
    },
    {
      "cell_type": "markdown",
      "source": [
        "# Gradio Application"
      ],
      "metadata": {
        "id": "Kl3Dke3JKiRO"
      }
    },
    {
      "cell_type": "code",
      "source": [
        "example = [\n",
        "    [\"When the menace known as the Joker wreaks havoc and chaos on the people of Gotham, Batman must accept one of the greatest psychological and physical tests of his ability to fight injustice.\"],\n",
        "    [\"The story of American scientist, J. Robert Oppenheimer, and his role in the development of the atomic.\"]\n",
        "]"
      ],
      "metadata": {
        "id": "GMRRcjcyKNd8"
      },
      "execution_count": null,
      "outputs": []
    },
    {
      "cell_type": "code",
      "source": [
        "labels = gr.outputs.Label(num_top_classes=5)\n",
        "iface = gr.Interface(fn=entertainment_title, inputs=\"text\", outputs=labels, examples=example)\n",
        "iface.interpretation = \"default\"\n",
        "iface.launch(inline=False, share=True)"
      ],
      "metadata": {
        "colab": {
          "base_uri": "https://localhost:8080/"
        },
        "id": "RujrmYUeKvl1",
        "outputId": "e8cb52cf-a9c8-413f-a97a-a74608d0a962"
      },
      "execution_count": null,
      "outputs": [
        {
          "output_type": "stream",
          "name": "stdout",
          "text": [
            "Colab notebook detected. To show errors in colab notebook, set debug=True in launch()\n",
            "Running on public URL: https://4cd60d6fcb5135da15.gradio.live\n",
            "\n",
            "This share link expires in 72 hours. For free permanent hosting and GPU upgrades, run `gradio deploy` from Terminal to deploy to Spaces (https://huggingface.co/spaces)\n"
          ]
        },
        {
          "output_type": "execute_result",
          "data": {
            "text/plain": []
          },
          "metadata": {},
          "execution_count": 89
        }
      ]
    },
    {
      "cell_type": "code",
      "source": [],
      "metadata": {
        "id": "qt88Fa1ZL_jm"
      },
      "execution_count": null,
      "outputs": []
    }
  ]
}