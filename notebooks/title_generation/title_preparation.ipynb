{
 "cells": [
  {
   "cell_type": "markdown",
   "source": [
    "# Title Preparation"
   ],
   "metadata": {
    "collapsed": false
   },
   "id": "520a1d0007833fc"
  },
  {
   "cell_type": "markdown",
   "source": [
    "# Setting Up Necessary Things"
   ],
   "metadata": {
    "collapsed": false
   },
   "id": "522a1f4f7b086af9"
  },
  {
   "cell_type": "code",
   "execution_count": 1,
   "id": "initial_id",
   "metadata": {
    "collapsed": true,
    "ExecuteTime": {
     "end_time": "2023-09-13T15:17:45.492043400Z",
     "start_time": "2023-09-13T15:17:44.145561500Z"
    }
   },
   "outputs": [],
   "source": [
    "# Jupyter Notebook Magic Command - Auto Reloading\n",
    "%reload_ext autoreload\n",
    "%autoreload 2\n",
    "\n",
    "# Jupyter Notebook Magic Command - Inline Plotting\n",
    "%matplotlib inline"
   ]
  },
  {
   "cell_type": "code",
   "execution_count": 2,
   "outputs": [],
   "source": [
    "# Ignore All Warnings\n",
    "import warnings\n",
    "warnings.filterwarnings(\"ignore\")"
   ],
   "metadata": {
    "collapsed": false,
    "ExecuteTime": {
     "end_time": "2023-09-13T15:17:45.493053500Z",
     "start_time": "2023-09-13T15:17:45.340726100Z"
    }
   },
   "id": "b40f958df345dbae"
  },
  {
   "cell_type": "markdown",
   "source": [
    "# Necessary Imports"
   ],
   "metadata": {
    "collapsed": false
   },
   "id": "eb318a6508fd1b28"
  },
  {
   "cell_type": "code",
   "execution_count": 3,
   "outputs": [],
   "source": [
    "import os\n",
    "from IPython.display import display\n",
    "import re\n",
    "\n",
    "# Data\n",
    "import pandas as pd\n",
    "\n",
    "# Language\n",
    "from langdetect import detect"
   ],
   "metadata": {
    "collapsed": false,
    "ExecuteTime": {
     "end_time": "2023-09-13T15:17:46.265090100Z",
     "start_time": "2023-09-13T15:17:45.458436200Z"
    }
   },
   "id": "4fcacae6164cdf64"
  },
  {
   "cell_type": "markdown",
   "source": [
    "# Data Cleaning"
   ],
   "metadata": {
    "collapsed": false
   },
   "id": "330f6206c5551d0c"
  },
  {
   "cell_type": "code",
   "execution_count": 4,
   "outputs": [],
   "source": [
    "# Load All DataFrames\n",
    "folder = \"../../data/processed/\"\n",
    "\n",
    "anime_df = pd.read_csv(folder + \"anime/anime_rating.csv\")\n",
    "book_df = pd.read_csv(folder + \"book/book_rating.csv\")\n",
    "movie_df = pd.read_csv(folder + \"movie/movie_rating.csv\")\n",
    "music_df = pd.read_csv(folder + \"music/music_views.csv\")\n",
    "tv_show_df = pd.read_csv(folder + \"tv_show/tv_show_rating.csv\")\n",
    "video_game_df = pd.read_csv(folder + \"video_game/video_game.csv\")"
   ],
   "metadata": {
    "collapsed": false,
    "ExecuteTime": {
     "end_time": "2023-09-13T15:18:43.508088600Z",
     "start_time": "2023-09-13T15:17:46.259023Z"
    }
   },
   "id": "82a60d9ea8d26bce"
  },
  {
   "cell_type": "code",
   "execution_count": 5,
   "outputs": [
    {
     "name": "stdout",
     "output_type": "stream",
     "text": [
      "Anime Shape: (9206, 6)\n",
      "Book Shape: (44129, 6)\n",
      "Movie Shape: (112119, 6)\n",
      "Music Shape: (1896130, 6)\n",
      "TV Show Shape: (3482, 6)\n",
      "Video Game Shape: (73123, 5)\n"
     ]
    }
   ],
   "source": [
    "# Show All DataFrame's Shape\n",
    "print(f\"Anime Shape: {anime_df.shape}\")\n",
    "print(f\"Book Shape: {book_df.shape}\")\n",
    "print(f\"Movie Shape: {movie_df.shape}\")\n",
    "print(f\"Music Shape: {music_df.shape}\")\n",
    "print(f\"TV Show Shape: {tv_show_df.shape}\")\n",
    "print(f\"Video Game Shape: {video_game_df.shape}\")"
   ],
   "metadata": {
    "collapsed": false,
    "ExecuteTime": {
     "end_time": "2023-09-13T15:18:43.578759400Z",
     "start_time": "2023-09-13T15:18:43.510124700Z"
    }
   },
   "id": "af692f314428a97b"
  },
  {
   "cell_type": "code",
   "execution_count": 11,
   "outputs": [
    {
     "data": {
      "text/plain": "9053"
     },
     "execution_count": 11,
     "metadata": {},
     "output_type": "execute_result"
    }
   ],
   "source": [
    "slicing = int(tv_show_df.shape[0] * 2.6)\n",
    "slicing"
   ],
   "metadata": {
    "collapsed": false,
    "ExecuteTime": {
     "end_time": "2023-09-13T15:20:23.793821600Z",
     "start_time": "2023-09-13T15:20:23.725257700Z"
    }
   },
   "id": "60a7fb858ce32f6c"
  },
  {
   "cell_type": "markdown",
   "source": [
    "## Utility Methods"
   ],
   "metadata": {
    "collapsed": false
   },
   "id": "4564e40cecb321b8"
  },
  {
   "cell_type": "code",
   "execution_count": 12,
   "outputs": [],
   "source": [
    "def get_df_info(df):\n",
    "    print(\"Shape of the dataframe: \", df.shape)\n",
    "    print(\"The DataFrame: \")\n",
    "    display(df.head())\n",
    "    print(\"All Data Types: \")\n",
    "    display(df.dtypes)\n",
    "    print(\"Null Values:\")\n",
    "    display(df.isna().sum())\n",
    "    print(\"Duplicate Description Count: \", df[\"title\"].duplicated().sum())\n",
    "    print(\"Duplicate Description Count: \", df[\"description\"].duplicated().sum())\n",
    "    print(\"DataFrame Details:\")\n",
    "    display(df.describe(include=\"all\"))"
   ],
   "metadata": {
    "collapsed": false,
    "ExecuteTime": {
     "end_time": "2023-09-13T15:20:26.459129500Z",
     "start_time": "2023-09-13T15:20:26.386165300Z"
    }
   },
   "id": "6603aeb3fafc98f"
  },
  {
   "cell_type": "markdown",
   "source": [
    "### English Language Filter"
   ],
   "metadata": {
    "collapsed": false
   },
   "id": "9b50df15eee16ce2"
  },
  {
   "cell_type": "code",
   "execution_count": 13,
   "outputs": [],
   "source": [
    "# Language Detect Method\n",
    "def detect_language(text):\n",
    "    try:\n",
    "        lang = detect(text)\n",
    "        return lang == \"en\"\n",
    "    except:\n",
    "        return False"
   ],
   "metadata": {
    "collapsed": false,
    "ExecuteTime": {
     "end_time": "2023-09-13T15:20:27.949912100Z",
     "start_time": "2023-09-13T15:20:27.878989700Z"
    }
   },
   "id": "bf3ad8ae383770cf"
  },
  {
   "cell_type": "code",
   "execution_count": 14,
   "outputs": [],
   "source": [
    "# Get Only English Language\n",
    "def get_only_english_corpus(dataframe):\n",
    "    dataframe = dataframe[dataframe[\"title\"].apply(detect_language)]\n",
    "    dataframe = dataframe.reset_index(drop=True)\n",
    "    dataframe = dataframe[dataframe[\"description\"].apply(detect_language)]\n",
    "    dataframe = dataframe.reset_index(drop=True)\n",
    "    return dataframe"
   ],
   "metadata": {
    "collapsed": false,
    "ExecuteTime": {
     "end_time": "2023-09-13T15:20:28.501585900Z",
     "start_time": "2023-09-13T15:20:28.421958800Z"
    }
   },
   "id": "6654c327c9bcfc23"
  },
  {
   "cell_type": "markdown",
   "source": [
    "### Unnecessary Characters Filter"
   ],
   "metadata": {
    "collapsed": false
   },
   "id": "8f6255980ab89094"
  },
  {
   "cell_type": "code",
   "execution_count": 15,
   "outputs": [],
   "source": [
    "# Getting Clean Text Method\n",
    "def get_clean_text(text):\n",
    "    clean_text =  (text.replace(\"\\n\", \" \")\n",
    "                   .replace(\"🕺🏾\", \" \")\n",
    "                   .replace(\"\\r\", \" \")\n",
    "                   .replace(\" \", \" \")\n",
    "                   .replace(\"↑\", \" \")\n",
    "                   .replace(\"↓\", \" \")\n",
    "                   .replace(\"←\", \" \")\n",
    "                   .replace(\"→\", \" \"))\n",
    "    clean_text = re.sub(r\"\\s+\", \" \", clean_text)\n",
    "    return clean_text"
   ],
   "metadata": {
    "collapsed": false,
    "ExecuteTime": {
     "end_time": "2023-09-13T15:20:29.513721900Z",
     "start_time": "2023-09-13T15:20:29.408786800Z"
    }
   },
   "id": "e268a127ae2534bb"
  },
  {
   "cell_type": "code",
   "execution_count": 16,
   "outputs": [],
   "source": [
    "# Get Clean Corpus\n",
    "def get_clean_df(dataframe):\n",
    "    for i in range(dataframe.shape[0]):\n",
    "        ct_t = get_clean_text(dataframe[\"title\"][i])\n",
    "        ct_d = get_clean_text(dataframe[\"description\"][i])\n",
    "        dataframe.loc[i, \"title\"] = ct_t\n",
    "        dataframe.loc[i, \"description\"] = ct_d\n",
    "    \n",
    "    dataframe = dataframe.reset_index(drop=True)\n",
    "    return dataframe"
   ],
   "metadata": {
    "collapsed": false,
    "ExecuteTime": {
     "end_time": "2023-09-13T15:20:30.224264400Z",
     "start_time": "2023-09-13T15:20:30.058122400Z"
    }
   },
   "id": "bf88f6692568b077"
  },
  {
   "cell_type": "markdown",
   "source": [
    "## Anime DataFrame"
   ],
   "metadata": {
    "collapsed": false
   },
   "id": "930cc6805f691bae"
  },
  {
   "cell_type": "code",
   "execution_count": 17,
   "outputs": [
    {
     "data": {
      "text/plain": "                     title                                        description  \\\n0             Cowboy Bebop  Crime is timeless. By the year 2071, humanity ...   \n1  Cowboy Bebop: The Movie  Another day, another bounty—such is the life o...   \n2                   Trigun  Vash the Stampede is the man with a $$60,000,0...   \n3       Witch Hunter Robin  Robin Sena is a powerful craft user drafted in...   \n4   Beet the Vandel Buster  It is the dark century and the people are suff...   \n\n                                 genres  rating primary_genre category  \n0         Action, Award Winning, Sci-Fi    8.75        Action    anime  \n1                        Action, Sci-Fi    8.38        Action    anime  \n2             Action, Adventure, Sci-Fi    8.22        Action    anime  \n3  Action, Drama, Mystery, Supernatural    7.25        Action    anime  \n4      Adventure, Fantasy, Supernatural    6.94     Adventure    anime  ",
      "text/html": "<div>\n<style scoped>\n    .dataframe tbody tr th:only-of-type {\n        vertical-align: middle;\n    }\n\n    .dataframe tbody tr th {\n        vertical-align: top;\n    }\n\n    .dataframe thead th {\n        text-align: right;\n    }\n</style>\n<table border=\"1\" class=\"dataframe\">\n  <thead>\n    <tr style=\"text-align: right;\">\n      <th></th>\n      <th>title</th>\n      <th>description</th>\n      <th>genres</th>\n      <th>rating</th>\n      <th>primary_genre</th>\n      <th>category</th>\n    </tr>\n  </thead>\n  <tbody>\n    <tr>\n      <th>0</th>\n      <td>Cowboy Bebop</td>\n      <td>Crime is timeless. By the year 2071, humanity ...</td>\n      <td>Action, Award Winning, Sci-Fi</td>\n      <td>8.75</td>\n      <td>Action</td>\n      <td>anime</td>\n    </tr>\n    <tr>\n      <th>1</th>\n      <td>Cowboy Bebop: The Movie</td>\n      <td>Another day, another bounty—such is the life o...</td>\n      <td>Action, Sci-Fi</td>\n      <td>8.38</td>\n      <td>Action</td>\n      <td>anime</td>\n    </tr>\n    <tr>\n      <th>2</th>\n      <td>Trigun</td>\n      <td>Vash the Stampede is the man with a $$60,000,0...</td>\n      <td>Action, Adventure, Sci-Fi</td>\n      <td>8.22</td>\n      <td>Action</td>\n      <td>anime</td>\n    </tr>\n    <tr>\n      <th>3</th>\n      <td>Witch Hunter Robin</td>\n      <td>Robin Sena is a powerful craft user drafted in...</td>\n      <td>Action, Drama, Mystery, Supernatural</td>\n      <td>7.25</td>\n      <td>Action</td>\n      <td>anime</td>\n    </tr>\n    <tr>\n      <th>4</th>\n      <td>Beet the Vandel Buster</td>\n      <td>It is the dark century and the people are suff...</td>\n      <td>Adventure, Fantasy, Supernatural</td>\n      <td>6.94</td>\n      <td>Adventure</td>\n      <td>anime</td>\n    </tr>\n  </tbody>\n</table>\n</div>"
     },
     "execution_count": 17,
     "metadata": {},
     "output_type": "execute_result"
    }
   ],
   "source": [
    "# Anime DataFrame\n",
    "anime_df.head()"
   ],
   "metadata": {
    "collapsed": false,
    "ExecuteTime": {
     "end_time": "2023-09-13T15:20:31.509603500Z",
     "start_time": "2023-09-13T15:20:31.417206100Z"
    }
   },
   "id": "943bd439097a5a70"
  },
  {
   "cell_type": "code",
   "execution_count": 18,
   "outputs": [
    {
     "name": "stdout",
     "output_type": "stream",
     "text": [
      "Anime Shape: (9206, 6)\n"
     ]
    }
   ],
   "source": [
    "print(f\"Anime Shape: {anime_df.shape}\")"
   ],
   "metadata": {
    "collapsed": false,
    "ExecuteTime": {
     "end_time": "2023-09-13T15:20:33.136721600Z",
     "start_time": "2023-09-13T15:20:33.047055700Z"
    }
   },
   "id": "1d0842df8dfdf68b"
  },
  {
   "cell_type": "code",
   "execution_count": 19,
   "outputs": [],
   "source": [
    "# Get only description and category\n",
    "anime_df = anime_df.loc[:, [\"title\", \"description\", \"genres\", \"category\"]]"
   ],
   "metadata": {
    "collapsed": false,
    "ExecuteTime": {
     "end_time": "2023-09-13T15:20:58.284604200Z",
     "start_time": "2023-09-13T15:20:58.155229200Z"
    }
   },
   "id": "452a67e079dd5e35"
  },
  {
   "cell_type": "code",
   "execution_count": 20,
   "outputs": [
    {
     "name": "stdout",
     "output_type": "stream",
     "text": [
      "Anime Shape: (9206, 4)\n"
     ]
    }
   ],
   "source": [
    "print(f\"Anime Shape: {anime_df.shape}\")"
   ],
   "metadata": {
    "collapsed": false,
    "ExecuteTime": {
     "end_time": "2023-09-13T15:20:58.965072600Z",
     "start_time": "2023-09-13T15:20:58.855263100Z"
    }
   },
   "id": "74b47a98c6cc5c4a"
  },
  {
   "cell_type": "code",
   "execution_count": 21,
   "outputs": [],
   "source": [
    "# Get Random Slicing Data From Anime DataFrame\n",
    "anime_df = anime_df.sample(n = slicing, random_state=42).reset_index(drop=True)"
   ],
   "metadata": {
    "collapsed": false,
    "ExecuteTime": {
     "end_time": "2023-09-13T15:21:04.562933700Z",
     "start_time": "2023-09-13T15:21:04.484336900Z"
    }
   },
   "id": "ca19c06b9b31dc88"
  },
  {
   "cell_type": "code",
   "execution_count": 22,
   "outputs": [
    {
     "name": "stdout",
     "output_type": "stream",
     "text": [
      "Shape of the dataframe:  (9053, 4)\n",
      "The DataFrame: \n"
     ]
    },
    {
     "data": {
      "text/plain": "                          title  \\\n0         Tsukuyomi: Moon Phase   \n1          Geba Geba Show Time!   \n2                      Fireball   \n3  Snow White with the Red Hair   \n4                  Tell Me Baby   \n\n                                         description  \\\n0  Freelance photographer Kouhei Morioka is trave...   \n1        Based on original story by Kinoshita Renzo.   \n2  Fireball takes place during the war between hu...   \n3  Although her name means \"snow white,\" Shirayuk...   \n4  Music video for the song Hayan Geojismal by SU...   \n\n                     genres category  \n0  Comedy, Fantasy, Romance    anime  \n1                    Comedy    anime  \n2            Comedy, Sci-Fi    anime  \n3   Drama, Fantasy, Romance    anime  \n4                   UNKNOWN    anime  ",
      "text/html": "<div>\n<style scoped>\n    .dataframe tbody tr th:only-of-type {\n        vertical-align: middle;\n    }\n\n    .dataframe tbody tr th {\n        vertical-align: top;\n    }\n\n    .dataframe thead th {\n        text-align: right;\n    }\n</style>\n<table border=\"1\" class=\"dataframe\">\n  <thead>\n    <tr style=\"text-align: right;\">\n      <th></th>\n      <th>title</th>\n      <th>description</th>\n      <th>genres</th>\n      <th>category</th>\n    </tr>\n  </thead>\n  <tbody>\n    <tr>\n      <th>0</th>\n      <td>Tsukuyomi: Moon Phase</td>\n      <td>Freelance photographer Kouhei Morioka is trave...</td>\n      <td>Comedy, Fantasy, Romance</td>\n      <td>anime</td>\n    </tr>\n    <tr>\n      <th>1</th>\n      <td>Geba Geba Show Time!</td>\n      <td>Based on original story by Kinoshita Renzo.</td>\n      <td>Comedy</td>\n      <td>anime</td>\n    </tr>\n    <tr>\n      <th>2</th>\n      <td>Fireball</td>\n      <td>Fireball takes place during the war between hu...</td>\n      <td>Comedy, Sci-Fi</td>\n      <td>anime</td>\n    </tr>\n    <tr>\n      <th>3</th>\n      <td>Snow White with the Red Hair</td>\n      <td>Although her name means \"snow white,\" Shirayuk...</td>\n      <td>Drama, Fantasy, Romance</td>\n      <td>anime</td>\n    </tr>\n    <tr>\n      <th>4</th>\n      <td>Tell Me Baby</td>\n      <td>Music video for the song Hayan Geojismal by SU...</td>\n      <td>UNKNOWN</td>\n      <td>anime</td>\n    </tr>\n  </tbody>\n</table>\n</div>"
     },
     "metadata": {},
     "output_type": "display_data"
    },
    {
     "name": "stdout",
     "output_type": "stream",
     "text": [
      "All Data Types: \n"
     ]
    },
    {
     "data": {
      "text/plain": "title          object\ndescription    object\ngenres         object\ncategory       object\ndtype: object"
     },
     "metadata": {},
     "output_type": "display_data"
    },
    {
     "name": "stdout",
     "output_type": "stream",
     "text": [
      "Null Values:\n"
     ]
    },
    {
     "data": {
      "text/plain": "title          0\ndescription    0\ngenres         0\ncategory       0\ndtype: int64"
     },
     "metadata": {},
     "output_type": "display_data"
    },
    {
     "name": "stdout",
     "output_type": "stream",
     "text": [
      "Duplicate Description Count:  0\n",
      "Duplicate Description Count:  0\n",
      "DataFrame Details:\n"
     ]
    },
    {
     "data": {
      "text/plain": "                        title  \\\ncount                    9053   \nunique                   9053   \ntop     Tsukuyomi: Moon Phase   \nfreq                        1   \n\n                                              description   genres category  \ncount                                                9053     9053     9053  \nunique                                               9053      816        1  \ntop     Freelance photographer Kouhei Morioka is trave...  UNKNOWN    anime  \nfreq                                                    1      930     9053  ",
      "text/html": "<div>\n<style scoped>\n    .dataframe tbody tr th:only-of-type {\n        vertical-align: middle;\n    }\n\n    .dataframe tbody tr th {\n        vertical-align: top;\n    }\n\n    .dataframe thead th {\n        text-align: right;\n    }\n</style>\n<table border=\"1\" class=\"dataframe\">\n  <thead>\n    <tr style=\"text-align: right;\">\n      <th></th>\n      <th>title</th>\n      <th>description</th>\n      <th>genres</th>\n      <th>category</th>\n    </tr>\n  </thead>\n  <tbody>\n    <tr>\n      <th>count</th>\n      <td>9053</td>\n      <td>9053</td>\n      <td>9053</td>\n      <td>9053</td>\n    </tr>\n    <tr>\n      <th>unique</th>\n      <td>9053</td>\n      <td>9053</td>\n      <td>816</td>\n      <td>1</td>\n    </tr>\n    <tr>\n      <th>top</th>\n      <td>Tsukuyomi: Moon Phase</td>\n      <td>Freelance photographer Kouhei Morioka is trave...</td>\n      <td>UNKNOWN</td>\n      <td>anime</td>\n    </tr>\n    <tr>\n      <th>freq</th>\n      <td>1</td>\n      <td>1</td>\n      <td>930</td>\n      <td>9053</td>\n    </tr>\n  </tbody>\n</table>\n</div>"
     },
     "metadata": {},
     "output_type": "display_data"
    }
   ],
   "source": [
    "get_df_info(anime_df)"
   ],
   "metadata": {
    "collapsed": false,
    "ExecuteTime": {
     "end_time": "2023-09-13T15:21:05.845077300Z",
     "start_time": "2023-09-13T15:21:05.739776100Z"
    }
   },
   "id": "1877aade99529330"
  },
  {
   "cell_type": "markdown",
   "source": [
    "## Book DataFrame"
   ],
   "metadata": {
    "collapsed": false
   },
   "id": "2474c0254574f953"
  },
  {
   "cell_type": "code",
   "execution_count": 23,
   "outputs": [
    {
     "data": {
      "text/plain": "                                       title  \\\n0                           The Hunger Games   \n1  Harry Potter and the Order of the Phoenix   \n2                      To Kill a Mockingbird   \n3                        Pride and Prejudice   \n4                                   Twilight   \n\n                                         description  \\\n0  Winning will make you famous. Losing means cer...   \n1  There is a door at the end of a silent corrido...   \n2  The unforgettable novel of a childhood in a sl...   \n3  «È cosa ormai risaputa che a uno scapolo in po...   \n4  About three things I was absolutely positive.F...   \n\n                                              genres  rating primary_genre  \\\n0  Young Adult, Fiction, Science Fiction, Dystopi...    8.66   Young Adult   \n1                      Fantasy, Young Adult, Fiction    8.96       Fantasy   \n2  Classics, Fiction, Historical, Historical Fict...    8.54      Classics   \n3                         Classics, Fiction, Romance    8.50      Classics   \n4  Young Adult, Fantasy, Romance, Paranormal, Vam...    7.16   Young Adult   \n\n  category  \n0     book  \n1     book  \n2     book  \n3     book  \n4     book  ",
      "text/html": "<div>\n<style scoped>\n    .dataframe tbody tr th:only-of-type {\n        vertical-align: middle;\n    }\n\n    .dataframe tbody tr th {\n        vertical-align: top;\n    }\n\n    .dataframe thead th {\n        text-align: right;\n    }\n</style>\n<table border=\"1\" class=\"dataframe\">\n  <thead>\n    <tr style=\"text-align: right;\">\n      <th></th>\n      <th>title</th>\n      <th>description</th>\n      <th>genres</th>\n      <th>rating</th>\n      <th>primary_genre</th>\n      <th>category</th>\n    </tr>\n  </thead>\n  <tbody>\n    <tr>\n      <th>0</th>\n      <td>The Hunger Games</td>\n      <td>Winning will make you famous. Losing means cer...</td>\n      <td>Young Adult, Fiction, Science Fiction, Dystopi...</td>\n      <td>8.66</td>\n      <td>Young Adult</td>\n      <td>book</td>\n    </tr>\n    <tr>\n      <th>1</th>\n      <td>Harry Potter and the Order of the Phoenix</td>\n      <td>There is a door at the end of a silent corrido...</td>\n      <td>Fantasy, Young Adult, Fiction</td>\n      <td>8.96</td>\n      <td>Fantasy</td>\n      <td>book</td>\n    </tr>\n    <tr>\n      <th>2</th>\n      <td>To Kill a Mockingbird</td>\n      <td>The unforgettable novel of a childhood in a sl...</td>\n      <td>Classics, Fiction, Historical, Historical Fict...</td>\n      <td>8.54</td>\n      <td>Classics</td>\n      <td>book</td>\n    </tr>\n    <tr>\n      <th>3</th>\n      <td>Pride and Prejudice</td>\n      <td>«È cosa ormai risaputa che a uno scapolo in po...</td>\n      <td>Classics, Fiction, Romance</td>\n      <td>8.50</td>\n      <td>Classics</td>\n      <td>book</td>\n    </tr>\n    <tr>\n      <th>4</th>\n      <td>Twilight</td>\n      <td>About three things I was absolutely positive.F...</td>\n      <td>Young Adult, Fantasy, Romance, Paranormal, Vam...</td>\n      <td>7.16</td>\n      <td>Young Adult</td>\n      <td>book</td>\n    </tr>\n  </tbody>\n</table>\n</div>"
     },
     "execution_count": 23,
     "metadata": {},
     "output_type": "execute_result"
    }
   ],
   "source": [
    "# Book DataFrame\n",
    "book_df.head()"
   ],
   "metadata": {
    "collapsed": false,
    "ExecuteTime": {
     "end_time": "2023-09-13T15:21:22.502853600Z",
     "start_time": "2023-09-13T15:21:22.434905500Z"
    }
   },
   "id": "6a32f41511495200"
  },
  {
   "cell_type": "code",
   "execution_count": 24,
   "outputs": [
    {
     "name": "stdout",
     "output_type": "stream",
     "text": [
      "Book Shape: (44129, 6)\n"
     ]
    }
   ],
   "source": [
    "print(f\"Book Shape: {book_df.shape}\")"
   ],
   "metadata": {
    "collapsed": false,
    "ExecuteTime": {
     "end_time": "2023-09-13T15:21:23.891557100Z",
     "start_time": "2023-09-13T15:21:23.803586600Z"
    }
   },
   "id": "607bd74ddb996bad"
  },
  {
   "cell_type": "code",
   "execution_count": 25,
   "outputs": [],
   "source": [
    "# Get only description and category\n",
    "book_df = book_df.loc[:, [\"title\", \"description\", \"genres\", \"category\"]]"
   ],
   "metadata": {
    "collapsed": false,
    "ExecuteTime": {
     "end_time": "2023-09-13T15:21:33.562870500Z",
     "start_time": "2023-09-13T15:21:33.255282400Z"
    }
   },
   "id": "e120fe06cb1545a4"
  },
  {
   "cell_type": "code",
   "execution_count": 26,
   "outputs": [
    {
     "name": "stdout",
     "output_type": "stream",
     "text": [
      "Book Shape: (44129, 4)\n"
     ]
    }
   ],
   "source": [
    "print(f\"Book Shape: {book_df.shape}\")"
   ],
   "metadata": {
    "collapsed": false,
    "ExecuteTime": {
     "end_time": "2023-09-13T15:21:36.502280900Z",
     "start_time": "2023-09-13T15:21:36.426513500Z"
    }
   },
   "id": "bb5e8b0f0393a165"
  },
  {
   "cell_type": "code",
   "execution_count": 27,
   "outputs": [],
   "source": [
    "# Get Random Slicing Data From Book DataFrame\n",
    "book_df = book_df.sample(n = slicing, random_state=42).reset_index(drop=True)"
   ],
   "metadata": {
    "collapsed": false,
    "ExecuteTime": {
     "end_time": "2023-09-13T15:21:41.379833200Z",
     "start_time": "2023-09-13T15:21:41.294023200Z"
    }
   },
   "id": "ce720486532ad103"
  },
  {
   "cell_type": "code",
   "execution_count": 28,
   "outputs": [
    {
     "name": "stdout",
     "output_type": "stream",
     "text": [
      "Shape of the dataframe:  (9053, 4)\n",
      "The DataFrame: \n"
     ]
    },
    {
     "data": {
      "text/plain": "                                               title  \\\n0                        Tom Paine: A Political Life   \n1  Living the Farm Sanctuary Life: How to Eat Hea...   \n2  Eats, Shoots & Leaves: The Zero Tolerance Appr...   \n3        Betrayed: Book Two - The Road to Redemption   \n4                                  Frenchman's Creek   \n\n                                         description  \\\n0  \"More than any other public figure of the eigh...   \n1  Gene Baur, the cofounder and president of Farm...   \n2  A panda walks into a café. He orders a sandwic...   \n3  A rogue, Damien’s kicked about the country for...   \n4  Bored and restless in London's Restoration Cou...   \n\n                                              genres category  \n0  Biography, Politics, History, Nonfiction, Mili...     book  \n1  Nonfiction, Food and Drink, Food, Food and Dri...     book  \n2  Nonfiction, Language, Writing, Humanities, Lan...     book  \n3  Fantasy, Paranormal, Romance, Paranormal Roman...     book  \n4  Classics, Historical, Historical Fiction, Fict...     book  ",
      "text/html": "<div>\n<style scoped>\n    .dataframe tbody tr th:only-of-type {\n        vertical-align: middle;\n    }\n\n    .dataframe tbody tr th {\n        vertical-align: top;\n    }\n\n    .dataframe thead th {\n        text-align: right;\n    }\n</style>\n<table border=\"1\" class=\"dataframe\">\n  <thead>\n    <tr style=\"text-align: right;\">\n      <th></th>\n      <th>title</th>\n      <th>description</th>\n      <th>genres</th>\n      <th>category</th>\n    </tr>\n  </thead>\n  <tbody>\n    <tr>\n      <th>0</th>\n      <td>Tom Paine: A Political Life</td>\n      <td>\"More than any other public figure of the eigh...</td>\n      <td>Biography, Politics, History, Nonfiction, Mili...</td>\n      <td>book</td>\n    </tr>\n    <tr>\n      <th>1</th>\n      <td>Living the Farm Sanctuary Life: How to Eat Hea...</td>\n      <td>Gene Baur, the cofounder and president of Farm...</td>\n      <td>Nonfiction, Food and Drink, Food, Food and Dri...</td>\n      <td>book</td>\n    </tr>\n    <tr>\n      <th>2</th>\n      <td>Eats, Shoots &amp; Leaves: The Zero Tolerance Appr...</td>\n      <td>A panda walks into a café. He orders a sandwic...</td>\n      <td>Nonfiction, Language, Writing, Humanities, Lan...</td>\n      <td>book</td>\n    </tr>\n    <tr>\n      <th>3</th>\n      <td>Betrayed: Book Two - The Road to Redemption</td>\n      <td>A rogue, Damien’s kicked about the country for...</td>\n      <td>Fantasy, Paranormal, Romance, Paranormal Roman...</td>\n      <td>book</td>\n    </tr>\n    <tr>\n      <th>4</th>\n      <td>Frenchman's Creek</td>\n      <td>Bored and restless in London's Restoration Cou...</td>\n      <td>Classics, Historical, Historical Fiction, Fict...</td>\n      <td>book</td>\n    </tr>\n  </tbody>\n</table>\n</div>"
     },
     "metadata": {},
     "output_type": "display_data"
    },
    {
     "name": "stdout",
     "output_type": "stream",
     "text": [
      "All Data Types: \n"
     ]
    },
    {
     "data": {
      "text/plain": "title          object\ndescription    object\ngenres         object\ncategory       object\ndtype: object"
     },
     "metadata": {},
     "output_type": "display_data"
    },
    {
     "name": "stdout",
     "output_type": "stream",
     "text": [
      "Null Values:\n"
     ]
    },
    {
     "data": {
      "text/plain": "title          0\ndescription    0\ngenres         0\ncategory       0\ndtype: int64"
     },
     "metadata": {},
     "output_type": "display_data"
    },
    {
     "name": "stdout",
     "output_type": "stream",
     "text": [
      "Duplicate Description Count:  0\n",
      "Duplicate Description Count:  0\n",
      "DataFrame Details:\n"
     ]
    },
    {
     "data": {
      "text/plain": "                              title  \\\ncount                          9053   \nunique                         9053   \ntop     Tom Paine: A Political Life   \nfreq                              1   \n\n                                              description   genres category  \ncount                                                9053     9053     9053  \nunique                                               9053     7201        1  \ntop     \"More than any other public figure of the eigh...  Fiction     book  \nfreq                                                    1       42     9053  ",
      "text/html": "<div>\n<style scoped>\n    .dataframe tbody tr th:only-of-type {\n        vertical-align: middle;\n    }\n\n    .dataframe tbody tr th {\n        vertical-align: top;\n    }\n\n    .dataframe thead th {\n        text-align: right;\n    }\n</style>\n<table border=\"1\" class=\"dataframe\">\n  <thead>\n    <tr style=\"text-align: right;\">\n      <th></th>\n      <th>title</th>\n      <th>description</th>\n      <th>genres</th>\n      <th>category</th>\n    </tr>\n  </thead>\n  <tbody>\n    <tr>\n      <th>count</th>\n      <td>9053</td>\n      <td>9053</td>\n      <td>9053</td>\n      <td>9053</td>\n    </tr>\n    <tr>\n      <th>unique</th>\n      <td>9053</td>\n      <td>9053</td>\n      <td>7201</td>\n      <td>1</td>\n    </tr>\n    <tr>\n      <th>top</th>\n      <td>Tom Paine: A Political Life</td>\n      <td>\"More than any other public figure of the eigh...</td>\n      <td>Fiction</td>\n      <td>book</td>\n    </tr>\n    <tr>\n      <th>freq</th>\n      <td>1</td>\n      <td>1</td>\n      <td>42</td>\n      <td>9053</td>\n    </tr>\n  </tbody>\n</table>\n</div>"
     },
     "metadata": {},
     "output_type": "display_data"
    }
   ],
   "source": [
    "get_df_info(book_df)"
   ],
   "metadata": {
    "collapsed": false,
    "ExecuteTime": {
     "end_time": "2023-09-13T15:21:43.559273200Z",
     "start_time": "2023-09-13T15:21:43.402063100Z"
    }
   },
   "id": "6aba62e6a8400317"
  },
  {
   "cell_type": "markdown",
   "source": [
    "## Movie DataFrame"
   ],
   "metadata": {
    "collapsed": false
   },
   "id": "9653eec6d64ff69"
  },
  {
   "cell_type": "code",
   "execution_count": 29,
   "outputs": [
    {
     "data": {
      "text/plain": "                               title  \\\n0     Black Panther: Wakanda Forever   \n1           Avatar: The Way of Water   \n2                              Plane   \n3  Everything Everywhere All at Once   \n4  Ant-Man and the Wasp: Quantumania   \n\n                                         description  \\\n0  The people of Wakanda fight to protect their h...   \n1  Jake Sully lives with his newfound family form...   \n2  A pilot finds himself caught in a war zone aft...   \n3  A middle-aged Chinese immigrant is swept up in...   \n4  Scott Lang and Hope Van Dyne, along with Hank ...   \n\n                       genres  rating primary_genre category  \n0    Action, Adventure, Drama     6.9        Action    movie  \n1  Action, Adventure, Fantasy     7.8        Action    movie  \n2            Action, Thriller     6.5        Action    movie  \n3   Action, Adventure, Comedy     8.0        Action    movie  \n4   Action, Adventure, Comedy     6.6        Action    movie  ",
      "text/html": "<div>\n<style scoped>\n    .dataframe tbody tr th:only-of-type {\n        vertical-align: middle;\n    }\n\n    .dataframe tbody tr th {\n        vertical-align: top;\n    }\n\n    .dataframe thead th {\n        text-align: right;\n    }\n</style>\n<table border=\"1\" class=\"dataframe\">\n  <thead>\n    <tr style=\"text-align: right;\">\n      <th></th>\n      <th>title</th>\n      <th>description</th>\n      <th>genres</th>\n      <th>rating</th>\n      <th>primary_genre</th>\n      <th>category</th>\n    </tr>\n  </thead>\n  <tbody>\n    <tr>\n      <th>0</th>\n      <td>Black Panther: Wakanda Forever</td>\n      <td>The people of Wakanda fight to protect their h...</td>\n      <td>Action, Adventure, Drama</td>\n      <td>6.9</td>\n      <td>Action</td>\n      <td>movie</td>\n    </tr>\n    <tr>\n      <th>1</th>\n      <td>Avatar: The Way of Water</td>\n      <td>Jake Sully lives with his newfound family form...</td>\n      <td>Action, Adventure, Fantasy</td>\n      <td>7.8</td>\n      <td>Action</td>\n      <td>movie</td>\n    </tr>\n    <tr>\n      <th>2</th>\n      <td>Plane</td>\n      <td>A pilot finds himself caught in a war zone aft...</td>\n      <td>Action, Thriller</td>\n      <td>6.5</td>\n      <td>Action</td>\n      <td>movie</td>\n    </tr>\n    <tr>\n      <th>3</th>\n      <td>Everything Everywhere All at Once</td>\n      <td>A middle-aged Chinese immigrant is swept up in...</td>\n      <td>Action, Adventure, Comedy</td>\n      <td>8.0</td>\n      <td>Action</td>\n      <td>movie</td>\n    </tr>\n    <tr>\n      <th>4</th>\n      <td>Ant-Man and the Wasp: Quantumania</td>\n      <td>Scott Lang and Hope Van Dyne, along with Hank ...</td>\n      <td>Action, Adventure, Comedy</td>\n      <td>6.6</td>\n      <td>Action</td>\n      <td>movie</td>\n    </tr>\n  </tbody>\n</table>\n</div>"
     },
     "execution_count": 29,
     "metadata": {},
     "output_type": "execute_result"
    }
   ],
   "source": [
    "# Movie DataFrame\n",
    "movie_df.head()"
   ],
   "metadata": {
    "collapsed": false,
    "ExecuteTime": {
     "end_time": "2023-09-13T15:21:50.465968100Z",
     "start_time": "2023-09-13T15:21:50.363532Z"
    }
   },
   "id": "87ca4e9eace12d9"
  },
  {
   "cell_type": "code",
   "execution_count": 30,
   "outputs": [
    {
     "name": "stdout",
     "output_type": "stream",
     "text": [
      "Movie Shape: (112119, 6)\n"
     ]
    }
   ],
   "source": [
    "print(f\"Movie Shape: {movie_df.shape}\")"
   ],
   "metadata": {
    "collapsed": false,
    "ExecuteTime": {
     "end_time": "2023-09-13T15:21:56.484184500Z",
     "start_time": "2023-09-13T15:21:56.370092100Z"
    }
   },
   "id": "16425dba02556c2d"
  },
  {
   "cell_type": "code",
   "execution_count": 31,
   "outputs": [],
   "source": [
    "# Get only description and category\n",
    "movie_df = movie_df.loc[:, [\"title\", \"description\", \"genres\", \"category\"]]"
   ],
   "metadata": {
    "collapsed": false,
    "ExecuteTime": {
     "end_time": "2023-09-13T15:22:11.708021800Z",
     "start_time": "2023-09-13T15:22:11.599298200Z"
    }
   },
   "id": "b44ebd5af66dd326"
  },
  {
   "cell_type": "code",
   "execution_count": 32,
   "outputs": [],
   "source": [
    "# Get Random Slicing Data From Movie DataFrame\n",
    "movie_df = movie_df.sample(n = slicing, random_state=42).reset_index(drop=True)"
   ],
   "metadata": {
    "collapsed": false,
    "ExecuteTime": {
     "end_time": "2023-09-13T15:22:13.382161600Z",
     "start_time": "2023-09-13T15:22:13.300984400Z"
    }
   },
   "id": "29cf9f64032f353d"
  },
  {
   "cell_type": "code",
   "execution_count": 33,
   "outputs": [
    {
     "data": {
      "text/plain": "(9053, 4)"
     },
     "execution_count": 33,
     "metadata": {},
     "output_type": "execute_result"
    }
   ],
   "source": [
    "movie_df.shape"
   ],
   "metadata": {
    "collapsed": false,
    "ExecuteTime": {
     "end_time": "2023-09-13T15:22:14.690469100Z",
     "start_time": "2023-09-13T15:22:14.605501Z"
    }
   },
   "id": "63ff83e03bb927de"
  },
  {
   "cell_type": "code",
   "execution_count": 34,
   "outputs": [
    {
     "name": "stdout",
     "output_type": "stream",
     "text": [
      "Shape of the dataframe:  (9053, 4)\n",
      "The DataFrame: \n"
     ]
    },
    {
     "data": {
      "text/plain": "                 title                                        description  \\\n0        Miles of Love  Miles of Love is a story of how an engaged and...   \n1    Farewell Darkness  Michael returns home to Chicago from Operation...   \n2            Blackhats  The feature length indie cyber thriller \"black...   \n3  Mitthye Premer Gaan  A reclusive, introverted singer-songwriter fal...   \n4         El sombrerón  This film dramatizes one of the most famous le...   \n\n                    genres category  \n0     Comedy, Drama, Music    movie  \n1               Drama, War    movie  \n2  Action, Drama, Thriller    movie  \n3           Music, Romance    movie  \n4                   Horror    movie  ",
      "text/html": "<div>\n<style scoped>\n    .dataframe tbody tr th:only-of-type {\n        vertical-align: middle;\n    }\n\n    .dataframe tbody tr th {\n        vertical-align: top;\n    }\n\n    .dataframe thead th {\n        text-align: right;\n    }\n</style>\n<table border=\"1\" class=\"dataframe\">\n  <thead>\n    <tr style=\"text-align: right;\">\n      <th></th>\n      <th>title</th>\n      <th>description</th>\n      <th>genres</th>\n      <th>category</th>\n    </tr>\n  </thead>\n  <tbody>\n    <tr>\n      <th>0</th>\n      <td>Miles of Love</td>\n      <td>Miles of Love is a story of how an engaged and...</td>\n      <td>Comedy, Drama, Music</td>\n      <td>movie</td>\n    </tr>\n    <tr>\n      <th>1</th>\n      <td>Farewell Darkness</td>\n      <td>Michael returns home to Chicago from Operation...</td>\n      <td>Drama, War</td>\n      <td>movie</td>\n    </tr>\n    <tr>\n      <th>2</th>\n      <td>Blackhats</td>\n      <td>The feature length indie cyber thriller \"black...</td>\n      <td>Action, Drama, Thriller</td>\n      <td>movie</td>\n    </tr>\n    <tr>\n      <th>3</th>\n      <td>Mitthye Premer Gaan</td>\n      <td>A reclusive, introverted singer-songwriter fal...</td>\n      <td>Music, Romance</td>\n      <td>movie</td>\n    </tr>\n    <tr>\n      <th>4</th>\n      <td>El sombrerón</td>\n      <td>This film dramatizes one of the most famous le...</td>\n      <td>Horror</td>\n      <td>movie</td>\n    </tr>\n  </tbody>\n</table>\n</div>"
     },
     "metadata": {},
     "output_type": "display_data"
    },
    {
     "name": "stdout",
     "output_type": "stream",
     "text": [
      "All Data Types: \n"
     ]
    },
    {
     "data": {
      "text/plain": "title          object\ndescription    object\ngenres         object\ncategory       object\ndtype: object"
     },
     "metadata": {},
     "output_type": "display_data"
    },
    {
     "name": "stdout",
     "output_type": "stream",
     "text": [
      "Null Values:\n"
     ]
    },
    {
     "data": {
      "text/plain": "title          0\ndescription    0\ngenres         0\ncategory       0\ndtype: int64"
     },
     "metadata": {},
     "output_type": "display_data"
    },
    {
     "name": "stdout",
     "output_type": "stream",
     "text": [
      "Duplicate Description Count:  0\n",
      "Duplicate Description Count:  0\n",
      "DataFrame Details:\n"
     ]
    },
    {
     "data": {
      "text/plain": "                title                                        description  \\\ncount            9053                                               9053   \nunique           9053                                               9053   \ntop     Miles of Love  Miles of Love is a story of how an engaged and...   \nfreq                1                                                  1   \n\n                genres category  \ncount             9053     9053  \nunique             611        1  \ntop     Drama, Romance    movie  \nfreq               482     9053  ",
      "text/html": "<div>\n<style scoped>\n    .dataframe tbody tr th:only-of-type {\n        vertical-align: middle;\n    }\n\n    .dataframe tbody tr th {\n        vertical-align: top;\n    }\n\n    .dataframe thead th {\n        text-align: right;\n    }\n</style>\n<table border=\"1\" class=\"dataframe\">\n  <thead>\n    <tr style=\"text-align: right;\">\n      <th></th>\n      <th>title</th>\n      <th>description</th>\n      <th>genres</th>\n      <th>category</th>\n    </tr>\n  </thead>\n  <tbody>\n    <tr>\n      <th>count</th>\n      <td>9053</td>\n      <td>9053</td>\n      <td>9053</td>\n      <td>9053</td>\n    </tr>\n    <tr>\n      <th>unique</th>\n      <td>9053</td>\n      <td>9053</td>\n      <td>611</td>\n      <td>1</td>\n    </tr>\n    <tr>\n      <th>top</th>\n      <td>Miles of Love</td>\n      <td>Miles of Love is a story of how an engaged and...</td>\n      <td>Drama, Romance</td>\n      <td>movie</td>\n    </tr>\n    <tr>\n      <th>freq</th>\n      <td>1</td>\n      <td>1</td>\n      <td>482</td>\n      <td>9053</td>\n    </tr>\n  </tbody>\n</table>\n</div>"
     },
     "metadata": {},
     "output_type": "display_data"
    }
   ],
   "source": [
    "get_df_info(movie_df)"
   ],
   "metadata": {
    "collapsed": false,
    "ExecuteTime": {
     "end_time": "2023-09-13T15:22:25.494765900Z",
     "start_time": "2023-09-13T15:22:25.340951300Z"
    }
   },
   "id": "c2cf215ab7ec398d"
  },
  {
   "cell_type": "markdown",
   "source": [
    "## Music DataFrame"
   ],
   "metadata": {
    "collapsed": false
   },
   "id": "e2afe0e34e6c0a92"
  },
  {
   "cell_type": "code",
   "execution_count": 35,
   "outputs": [
    {
     "data": {
      "text/plain": "               title                                        description  \\\n0          Killa Cam  \\nKilla Cam, Killa Cam, Cam\\nKilla Cam, Killa ...   \n1         Can I Live  \\n\\n\\nYeah, hah, yeah, Roc-A-Fella\\nWe invite ...   \n2  Forgive Me Father  Maybe cause I'm eatin\\nAnd these bastards fien...   \n3       Down and Out  \\n\\n\\nUgh, Killa!\\nBaby!\\nKanye, this that 197...   \n4             Fly In  \\nSo they ask me\\n\"Young boy\\nWhat you gon' do...   \n\n  genres   views primary_genre category  \n0    rap  173166           rap    music  \n1    rap  468624           rap    music  \n2    rap    4743           rap    music  \n3    rap  144404           rap    music  \n4    rap   78271           rap    music  ",
      "text/html": "<div>\n<style scoped>\n    .dataframe tbody tr th:only-of-type {\n        vertical-align: middle;\n    }\n\n    .dataframe tbody tr th {\n        vertical-align: top;\n    }\n\n    .dataframe thead th {\n        text-align: right;\n    }\n</style>\n<table border=\"1\" class=\"dataframe\">\n  <thead>\n    <tr style=\"text-align: right;\">\n      <th></th>\n      <th>title</th>\n      <th>description</th>\n      <th>genres</th>\n      <th>views</th>\n      <th>primary_genre</th>\n      <th>category</th>\n    </tr>\n  </thead>\n  <tbody>\n    <tr>\n      <th>0</th>\n      <td>Killa Cam</td>\n      <td>\\nKilla Cam, Killa Cam, Cam\\nKilla Cam, Killa ...</td>\n      <td>rap</td>\n      <td>173166</td>\n      <td>rap</td>\n      <td>music</td>\n    </tr>\n    <tr>\n      <th>1</th>\n      <td>Can I Live</td>\n      <td>\\n\\n\\nYeah, hah, yeah, Roc-A-Fella\\nWe invite ...</td>\n      <td>rap</td>\n      <td>468624</td>\n      <td>rap</td>\n      <td>music</td>\n    </tr>\n    <tr>\n      <th>2</th>\n      <td>Forgive Me Father</td>\n      <td>Maybe cause I'm eatin\\nAnd these bastards fien...</td>\n      <td>rap</td>\n      <td>4743</td>\n      <td>rap</td>\n      <td>music</td>\n    </tr>\n    <tr>\n      <th>3</th>\n      <td>Down and Out</td>\n      <td>\\n\\n\\nUgh, Killa!\\nBaby!\\nKanye, this that 197...</td>\n      <td>rap</td>\n      <td>144404</td>\n      <td>rap</td>\n      <td>music</td>\n    </tr>\n    <tr>\n      <th>4</th>\n      <td>Fly In</td>\n      <td>\\nSo they ask me\\n\"Young boy\\nWhat you gon' do...</td>\n      <td>rap</td>\n      <td>78271</td>\n      <td>rap</td>\n      <td>music</td>\n    </tr>\n  </tbody>\n</table>\n</div>"
     },
     "execution_count": 35,
     "metadata": {},
     "output_type": "execute_result"
    }
   ],
   "source": [
    "# Music DataFrame\n",
    "music_df.head()"
   ],
   "metadata": {
    "collapsed": false,
    "ExecuteTime": {
     "end_time": "2023-09-13T15:22:34.400902Z",
     "start_time": "2023-09-13T15:22:34.304069600Z"
    }
   },
   "id": "fe7b4bac51a196c6"
  },
  {
   "cell_type": "code",
   "execution_count": 36,
   "outputs": [
    {
     "name": "stdout",
     "output_type": "stream",
     "text": [
      "Music Shape: (1896130, 6)\n"
     ]
    }
   ],
   "source": [
    "print(f\"Music Shape: {music_df.shape}\")"
   ],
   "metadata": {
    "collapsed": false,
    "ExecuteTime": {
     "end_time": "2023-09-13T15:22:35.847692400Z",
     "start_time": "2023-09-13T15:22:35.740861100Z"
    }
   },
   "id": "9977ebbbdbf2c4a0"
  },
  {
   "cell_type": "code",
   "execution_count": 37,
   "outputs": [],
   "source": [
    "# Get only description and category\n",
    "music_df = music_df.loc[:, [\"title\", \"description\", \"genres\", \"category\"]]"
   ],
   "metadata": {
    "collapsed": false,
    "ExecuteTime": {
     "end_time": "2023-09-13T15:22:46.151717300Z",
     "start_time": "2023-09-13T15:22:45.790268Z"
    }
   },
   "id": "d0c8e4ee1b2c2ae4"
  },
  {
   "cell_type": "code",
   "execution_count": 38,
   "outputs": [],
   "source": [
    "# Get Random Slicing Data From Music DataFrame\n",
    "music_df = music_df.sample(n = slicing, random_state=42).reset_index(drop=True)"
   ],
   "metadata": {
    "collapsed": false,
    "ExecuteTime": {
     "end_time": "2023-09-13T15:22:47.383123200Z",
     "start_time": "2023-09-13T15:22:47.127782600Z"
    }
   },
   "id": "d6af30c9a1a8f1fd"
  },
  {
   "cell_type": "code",
   "execution_count": 39,
   "outputs": [
    {
     "data": {
      "text/plain": "(9053, 4)"
     },
     "execution_count": 39,
     "metadata": {},
     "output_type": "execute_result"
    }
   ],
   "source": [
    "music_df.shape"
   ],
   "metadata": {
    "collapsed": false,
    "ExecuteTime": {
     "end_time": "2023-09-13T15:22:48.051165500Z",
     "start_time": "2023-09-13T15:22:47.955344800Z"
    }
   },
   "id": "3eff18179bb2f82"
  },
  {
   "cell_type": "code",
   "execution_count": 40,
   "outputs": [
    {
     "name": "stdout",
     "output_type": "stream",
     "text": [
      "Shape of the dataframe:  (9053, 4)\n",
      "The DataFrame: \n"
     ]
    },
    {
     "data": {
      "text/plain": "                          title  \\\n0               Gonna Scare You   \n1                   Belly Dance   \n2               Basic Delusions   \n3                      Fuzzy 95   \n4  The North Stands for Nothing   \n\n                                         description genres category  \n0  Einen gekrönten reien\\nSang ich der frouwen mi...    rap    music  \n1  \\nYo, I'm the Anti-Circle!\\nOn the mad train l...    rap    music  \n2  From a distant horizon she wanders my way\\nWit...   rock    music  \n3  כל הנשים המדוכאות\\nשפוטות על הסירים\\nשומעות מי...   rock    music  \n4  Was hat die Zeit aus dir gemacht\\nZu viele Trä...   rock    music  ",
      "text/html": "<div>\n<style scoped>\n    .dataframe tbody tr th:only-of-type {\n        vertical-align: middle;\n    }\n\n    .dataframe tbody tr th {\n        vertical-align: top;\n    }\n\n    .dataframe thead th {\n        text-align: right;\n    }\n</style>\n<table border=\"1\" class=\"dataframe\">\n  <thead>\n    <tr style=\"text-align: right;\">\n      <th></th>\n      <th>title</th>\n      <th>description</th>\n      <th>genres</th>\n      <th>category</th>\n    </tr>\n  </thead>\n  <tbody>\n    <tr>\n      <th>0</th>\n      <td>Gonna Scare You</td>\n      <td>Einen gekrönten reien\\nSang ich der frouwen mi...</td>\n      <td>rap</td>\n      <td>music</td>\n    </tr>\n    <tr>\n      <th>1</th>\n      <td>Belly Dance</td>\n      <td>\\nYo, I'm the Anti-Circle!\\nOn the mad train l...</td>\n      <td>rap</td>\n      <td>music</td>\n    </tr>\n    <tr>\n      <th>2</th>\n      <td>Basic Delusions</td>\n      <td>From a distant horizon she wanders my way\\nWit...</td>\n      <td>rock</td>\n      <td>music</td>\n    </tr>\n    <tr>\n      <th>3</th>\n      <td>Fuzzy 95</td>\n      <td>כל הנשים המדוכאות\\nשפוטות על הסירים\\nשומעות מי...</td>\n      <td>rock</td>\n      <td>music</td>\n    </tr>\n    <tr>\n      <th>4</th>\n      <td>The North Stands for Nothing</td>\n      <td>Was hat die Zeit aus dir gemacht\\nZu viele Trä...</td>\n      <td>rock</td>\n      <td>music</td>\n    </tr>\n  </tbody>\n</table>\n</div>"
     },
     "metadata": {},
     "output_type": "display_data"
    },
    {
     "name": "stdout",
     "output_type": "stream",
     "text": [
      "All Data Types: \n"
     ]
    },
    {
     "data": {
      "text/plain": "title          object\ndescription    object\ngenres         object\ncategory       object\ndtype: object"
     },
     "metadata": {},
     "output_type": "display_data"
    },
    {
     "name": "stdout",
     "output_type": "stream",
     "text": [
      "Null Values:\n"
     ]
    },
    {
     "data": {
      "text/plain": "title          0\ndescription    0\ngenres         0\ncategory       0\ndtype: int64"
     },
     "metadata": {},
     "output_type": "display_data"
    },
    {
     "name": "stdout",
     "output_type": "stream",
     "text": [
      "Duplicate Description Count:  0\n",
      "Duplicate Description Count:  0\n",
      "DataFrame Details:\n"
     ]
    },
    {
     "data": {
      "text/plain": "                  title                                        description  \\\ncount              9053                                               9053   \nunique             9053                                               9053   \ntop     Gonna Scare You  Einen gekrönten reien\\nSang ich der frouwen mi...   \nfreq                  1                                                  1   \n\n       genres category  \ncount    9053     9053  \nunique      6        1  \ntop       pop    music  \nfreq     3675     9053  ",
      "text/html": "<div>\n<style scoped>\n    .dataframe tbody tr th:only-of-type {\n        vertical-align: middle;\n    }\n\n    .dataframe tbody tr th {\n        vertical-align: top;\n    }\n\n    .dataframe thead th {\n        text-align: right;\n    }\n</style>\n<table border=\"1\" class=\"dataframe\">\n  <thead>\n    <tr style=\"text-align: right;\">\n      <th></th>\n      <th>title</th>\n      <th>description</th>\n      <th>genres</th>\n      <th>category</th>\n    </tr>\n  </thead>\n  <tbody>\n    <tr>\n      <th>count</th>\n      <td>9053</td>\n      <td>9053</td>\n      <td>9053</td>\n      <td>9053</td>\n    </tr>\n    <tr>\n      <th>unique</th>\n      <td>9053</td>\n      <td>9053</td>\n      <td>6</td>\n      <td>1</td>\n    </tr>\n    <tr>\n      <th>top</th>\n      <td>Gonna Scare You</td>\n      <td>Einen gekrönten reien\\nSang ich der frouwen mi...</td>\n      <td>pop</td>\n      <td>music</td>\n    </tr>\n    <tr>\n      <th>freq</th>\n      <td>1</td>\n      <td>1</td>\n      <td>3675</td>\n      <td>9053</td>\n    </tr>\n  </tbody>\n</table>\n</div>"
     },
     "metadata": {},
     "output_type": "display_data"
    }
   ],
   "source": [
    "get_df_info(music_df)"
   ],
   "metadata": {
    "collapsed": false,
    "ExecuteTime": {
     "end_time": "2023-09-13T15:22:55.258048900Z",
     "start_time": "2023-09-13T15:22:55.031628900Z"
    }
   },
   "id": "178ac5e5255aa52f"
  },
  {
   "cell_type": "markdown",
   "source": [
    "## TV Show DataFrame"
   ],
   "metadata": {
    "collapsed": false
   },
   "id": "b0b883efe0944541"
  },
  {
   "cell_type": "code",
   "execution_count": 41,
   "outputs": [
    {
     "data": {
      "text/plain": "                         title  \\\n0            The Three Stooges   \n1       The Jack Benny Program   \n2              What's My Line?   \n3                 The Avengers   \n4  Mister Rogers' Neighborhood   \n\n                                         description  \\\n0  The Three Stooges were an American vaudeville ...   \n1  Laugh along with funnyman Jack Benny as he bri...   \n2  Four panelists must determine guests' occupati...   \n3  The Avengers is a British television series cr...   \n4  Mister Rogers' Neighborhood is an American chi...   \n\n                                            genres  rating primary_genre  \\\n0                                   comedy, family     8.5        comedy   \n1                                           comedy     8.6        comedy   \n2                                  reality, family     8.5       reality   \n3  scifi, action, crime, romance, thriller, comedy     8.3         scifi   \n4                           family, fantasy, music     8.7        family   \n\n  category  \n0  tv show  \n1  tv show  \n2  tv show  \n3  tv show  \n4  tv show  ",
      "text/html": "<div>\n<style scoped>\n    .dataframe tbody tr th:only-of-type {\n        vertical-align: middle;\n    }\n\n    .dataframe tbody tr th {\n        vertical-align: top;\n    }\n\n    .dataframe thead th {\n        text-align: right;\n    }\n</style>\n<table border=\"1\" class=\"dataframe\">\n  <thead>\n    <tr style=\"text-align: right;\">\n      <th></th>\n      <th>title</th>\n      <th>description</th>\n      <th>genres</th>\n      <th>rating</th>\n      <th>primary_genre</th>\n      <th>category</th>\n    </tr>\n  </thead>\n  <tbody>\n    <tr>\n      <th>0</th>\n      <td>The Three Stooges</td>\n      <td>The Three Stooges were an American vaudeville ...</td>\n      <td>comedy, family</td>\n      <td>8.5</td>\n      <td>comedy</td>\n      <td>tv show</td>\n    </tr>\n    <tr>\n      <th>1</th>\n      <td>The Jack Benny Program</td>\n      <td>Laugh along with funnyman Jack Benny as he bri...</td>\n      <td>comedy</td>\n      <td>8.6</td>\n      <td>comedy</td>\n      <td>tv show</td>\n    </tr>\n    <tr>\n      <th>2</th>\n      <td>What's My Line?</td>\n      <td>Four panelists must determine guests' occupati...</td>\n      <td>reality, family</td>\n      <td>8.5</td>\n      <td>reality</td>\n      <td>tv show</td>\n    </tr>\n    <tr>\n      <th>3</th>\n      <td>The Avengers</td>\n      <td>The Avengers is a British television series cr...</td>\n      <td>scifi, action, crime, romance, thriller, comedy</td>\n      <td>8.3</td>\n      <td>scifi</td>\n      <td>tv show</td>\n    </tr>\n    <tr>\n      <th>4</th>\n      <td>Mister Rogers' Neighborhood</td>\n      <td>Mister Rogers' Neighborhood is an American chi...</td>\n      <td>family, fantasy, music</td>\n      <td>8.7</td>\n      <td>family</td>\n      <td>tv show</td>\n    </tr>\n  </tbody>\n</table>\n</div>"
     },
     "execution_count": 41,
     "metadata": {},
     "output_type": "execute_result"
    }
   ],
   "source": [
    "# TV Show DataFrame\n",
    "tv_show_df.head()"
   ],
   "metadata": {
    "collapsed": false,
    "ExecuteTime": {
     "end_time": "2023-09-13T15:23:06.510932100Z",
     "start_time": "2023-09-13T15:23:06.417998500Z"
    }
   },
   "id": "841631574c1dc834"
  },
  {
   "cell_type": "code",
   "execution_count": 42,
   "outputs": [
    {
     "name": "stdout",
     "output_type": "stream",
     "text": [
      "TV Show Shape: (3482, 6)\n"
     ]
    }
   ],
   "source": [
    "print(f\"TV Show Shape: {tv_show_df.shape}\")"
   ],
   "metadata": {
    "collapsed": false,
    "ExecuteTime": {
     "end_time": "2023-09-13T15:23:07.425388400Z",
     "start_time": "2023-09-13T15:23:07.306563100Z"
    }
   },
   "id": "376a0be226f473fa"
  },
  {
   "cell_type": "code",
   "execution_count": 43,
   "outputs": [],
   "source": [
    "# Get only description and category\n",
    "tv_show_df = tv_show_df.loc[:, [\"title\", \"description\", \"genres\", \"category\"]]"
   ],
   "metadata": {
    "collapsed": false,
    "ExecuteTime": {
     "end_time": "2023-09-13T15:23:17.302048200Z",
     "start_time": "2023-09-13T15:23:17.176630Z"
    }
   },
   "id": "f5329e14b3369099"
  },
  {
   "cell_type": "code",
   "execution_count": 44,
   "outputs": [],
   "source": [
    "# Random Shuffle TV Show DataFrame\n",
    "tv_show_df = tv_show_df.sample(frac = 1, random_state=42).reset_index(drop=True)"
   ],
   "metadata": {
    "collapsed": false,
    "ExecuteTime": {
     "end_time": "2023-09-13T15:23:18.265495600Z",
     "start_time": "2023-09-13T15:23:18.148075100Z"
    }
   },
   "id": "4a21d34d07870032"
  },
  {
   "cell_type": "code",
   "execution_count": 45,
   "outputs": [
    {
     "data": {
      "text/plain": "(3482, 4)"
     },
     "execution_count": 45,
     "metadata": {},
     "output_type": "execute_result"
    }
   ],
   "source": [
    "tv_show_df.shape"
   ],
   "metadata": {
    "collapsed": false,
    "ExecuteTime": {
     "end_time": "2023-09-13T15:23:19.312112200Z",
     "start_time": "2023-09-13T15:23:19.219580600Z"
    }
   },
   "id": "6293048b9cfb1950"
  },
  {
   "cell_type": "code",
   "execution_count": 46,
   "outputs": [
    {
     "name": "stdout",
     "output_type": "stream",
     "text": [
      "Shape of the dataframe:  (3482, 4)\n",
      "The DataFrame: \n"
     ]
    },
    {
     "data": {
      "text/plain": "                      title  \\\n0                  Futurama   \n1              The Wanderer   \n2  Payback: Money and Power   \n3       The Incredible Hulk   \n4                      Once   \n\n                                         description  \\\n0  Philip J. Fry, a pizza delivery boy, is accide...   \n1  In this series, Tripadvisor challenges travele...   \n2  Follows the revenge story of a group of people...   \n3  The Incredible Hulk is an American animated te...   \n4  The series revolves around Gabo, a soccer-lovi...   \n\n                                     genres category  \n0          animation, comedy, scifi, action  tv show  \n1                             documentation  tv show  \n2                                     drama  tv show  \n3  action, drama, fantasy, scifi, animation  tv show  \n4                     comedy, sport, family  tv show  ",
      "text/html": "<div>\n<style scoped>\n    .dataframe tbody tr th:only-of-type {\n        vertical-align: middle;\n    }\n\n    .dataframe tbody tr th {\n        vertical-align: top;\n    }\n\n    .dataframe thead th {\n        text-align: right;\n    }\n</style>\n<table border=\"1\" class=\"dataframe\">\n  <thead>\n    <tr style=\"text-align: right;\">\n      <th></th>\n      <th>title</th>\n      <th>description</th>\n      <th>genres</th>\n      <th>category</th>\n    </tr>\n  </thead>\n  <tbody>\n    <tr>\n      <th>0</th>\n      <td>Futurama</td>\n      <td>Philip J. Fry, a pizza delivery boy, is accide...</td>\n      <td>animation, comedy, scifi, action</td>\n      <td>tv show</td>\n    </tr>\n    <tr>\n      <th>1</th>\n      <td>The Wanderer</td>\n      <td>In this series, Tripadvisor challenges travele...</td>\n      <td>documentation</td>\n      <td>tv show</td>\n    </tr>\n    <tr>\n      <th>2</th>\n      <td>Payback: Money and Power</td>\n      <td>Follows the revenge story of a group of people...</td>\n      <td>drama</td>\n      <td>tv show</td>\n    </tr>\n    <tr>\n      <th>3</th>\n      <td>The Incredible Hulk</td>\n      <td>The Incredible Hulk is an American animated te...</td>\n      <td>action, drama, fantasy, scifi, animation</td>\n      <td>tv show</td>\n    </tr>\n    <tr>\n      <th>4</th>\n      <td>Once</td>\n      <td>The series revolves around Gabo, a soccer-lovi...</td>\n      <td>comedy, sport, family</td>\n      <td>tv show</td>\n    </tr>\n  </tbody>\n</table>\n</div>"
     },
     "metadata": {},
     "output_type": "display_data"
    },
    {
     "name": "stdout",
     "output_type": "stream",
     "text": [
      "All Data Types: \n"
     ]
    },
    {
     "data": {
      "text/plain": "title          object\ndescription    object\ngenres         object\ncategory       object\ndtype: object"
     },
     "metadata": {},
     "output_type": "display_data"
    },
    {
     "name": "stdout",
     "output_type": "stream",
     "text": [
      "Null Values:\n"
     ]
    },
    {
     "data": {
      "text/plain": "title           0\ndescription     0\ngenres         34\ncategory        0\ndtype: int64"
     },
     "metadata": {},
     "output_type": "display_data"
    },
    {
     "name": "stdout",
     "output_type": "stream",
     "text": [
      "Duplicate Description Count:  0\n",
      "Duplicate Description Count:  0\n",
      "DataFrame Details:\n"
     ]
    },
    {
     "data": {
      "text/plain": "           title                                        description  \\\ncount       3482                                               3482   \nunique      3482                                               3482   \ntop     Futurama  Philip J. Fry, a pizza delivery boy, is accide...   \nfreq           1                                                  1   \n\n               genres category  \ncount            3448     3482  \nunique           1346        1  \ntop     documentation  tv show  \nfreq              221     3482  ",
      "text/html": "<div>\n<style scoped>\n    .dataframe tbody tr th:only-of-type {\n        vertical-align: middle;\n    }\n\n    .dataframe tbody tr th {\n        vertical-align: top;\n    }\n\n    .dataframe thead th {\n        text-align: right;\n    }\n</style>\n<table border=\"1\" class=\"dataframe\">\n  <thead>\n    <tr style=\"text-align: right;\">\n      <th></th>\n      <th>title</th>\n      <th>description</th>\n      <th>genres</th>\n      <th>category</th>\n    </tr>\n  </thead>\n  <tbody>\n    <tr>\n      <th>count</th>\n      <td>3482</td>\n      <td>3482</td>\n      <td>3448</td>\n      <td>3482</td>\n    </tr>\n    <tr>\n      <th>unique</th>\n      <td>3482</td>\n      <td>3482</td>\n      <td>1346</td>\n      <td>1</td>\n    </tr>\n    <tr>\n      <th>top</th>\n      <td>Futurama</td>\n      <td>Philip J. Fry, a pizza delivery boy, is accide...</td>\n      <td>documentation</td>\n      <td>tv show</td>\n    </tr>\n    <tr>\n      <th>freq</th>\n      <td>1</td>\n      <td>1</td>\n      <td>221</td>\n      <td>3482</td>\n    </tr>\n  </tbody>\n</table>\n</div>"
     },
     "metadata": {},
     "output_type": "display_data"
    }
   ],
   "source": [
    "get_df_info(tv_show_df)"
   ],
   "metadata": {
    "collapsed": false,
    "ExecuteTime": {
     "end_time": "2023-09-13T15:23:27.114702600Z",
     "start_time": "2023-09-13T15:23:26.914643900Z"
    }
   },
   "id": "c2779afdfabc11be"
  },
  {
   "cell_type": "markdown",
   "source": [
    "## Video Game DataFrame"
   ],
   "metadata": {
    "collapsed": false
   },
   "id": "1722ef8a09ce7a54"
  },
  {
   "cell_type": "code",
   "execution_count": 47,
   "outputs": [
    {
     "data": {
      "text/plain": "                   title                                        description  \\\n0       Galactic Bowling  Galactic Bowling is an exaggerated and stylize...   \n1           Train Bandit  THE LAW!! Looks to be a showdown atop a train....   \n2           Jolt Project  Jolt Project: The army now has a new robotics ...   \n3               Henosis™  HENOSIS™ is a mysterious 2D Platform Puzzler w...   \n4  Two Weeks in Painland  ABOUT THE GAME Play as a hacker who has arrang...   \n\n                            genres primary_genre category  \n0              Casual,Indie,Sports        Casual     game  \n1                     Action,Indie        Action     game  \n2  Action,Adventure,Indie,Strategy        Action     game  \n3           Adventure,Casual,Indie     Adventure     game  \n4                  Adventure,Indie     Adventure     game  ",
      "text/html": "<div>\n<style scoped>\n    .dataframe tbody tr th:only-of-type {\n        vertical-align: middle;\n    }\n\n    .dataframe tbody tr th {\n        vertical-align: top;\n    }\n\n    .dataframe thead th {\n        text-align: right;\n    }\n</style>\n<table border=\"1\" class=\"dataframe\">\n  <thead>\n    <tr style=\"text-align: right;\">\n      <th></th>\n      <th>title</th>\n      <th>description</th>\n      <th>genres</th>\n      <th>primary_genre</th>\n      <th>category</th>\n    </tr>\n  </thead>\n  <tbody>\n    <tr>\n      <th>0</th>\n      <td>Galactic Bowling</td>\n      <td>Galactic Bowling is an exaggerated and stylize...</td>\n      <td>Casual,Indie,Sports</td>\n      <td>Casual</td>\n      <td>game</td>\n    </tr>\n    <tr>\n      <th>1</th>\n      <td>Train Bandit</td>\n      <td>THE LAW!! Looks to be a showdown atop a train....</td>\n      <td>Action,Indie</td>\n      <td>Action</td>\n      <td>game</td>\n    </tr>\n    <tr>\n      <th>2</th>\n      <td>Jolt Project</td>\n      <td>Jolt Project: The army now has a new robotics ...</td>\n      <td>Action,Adventure,Indie,Strategy</td>\n      <td>Action</td>\n      <td>game</td>\n    </tr>\n    <tr>\n      <th>3</th>\n      <td>Henosis™</td>\n      <td>HENOSIS™ is a mysterious 2D Platform Puzzler w...</td>\n      <td>Adventure,Casual,Indie</td>\n      <td>Adventure</td>\n      <td>game</td>\n    </tr>\n    <tr>\n      <th>4</th>\n      <td>Two Weeks in Painland</td>\n      <td>ABOUT THE GAME Play as a hacker who has arrang...</td>\n      <td>Adventure,Indie</td>\n      <td>Adventure</td>\n      <td>game</td>\n    </tr>\n  </tbody>\n</table>\n</div>"
     },
     "execution_count": 47,
     "metadata": {},
     "output_type": "execute_result"
    }
   ],
   "source": [
    "# Video Game DataFrame\n",
    "video_game_df.head()"
   ],
   "metadata": {
    "collapsed": false,
    "ExecuteTime": {
     "end_time": "2023-09-13T15:23:32.499967900Z",
     "start_time": "2023-09-13T15:23:32.411468300Z"
    }
   },
   "id": "4191d0f644aaf0f"
  },
  {
   "cell_type": "code",
   "execution_count": 48,
   "outputs": [
    {
     "name": "stdout",
     "output_type": "stream",
     "text": [
      "Video Game Shape: (73123, 5)\n"
     ]
    }
   ],
   "source": [
    "print(f\"Video Game Shape: {video_game_df.shape}\")"
   ],
   "metadata": {
    "collapsed": false,
    "ExecuteTime": {
     "end_time": "2023-09-13T15:23:33.194938800Z",
     "start_time": "2023-09-13T15:23:33.116722Z"
    }
   },
   "id": "6c2804744cc80054"
  },
  {
   "cell_type": "code",
   "execution_count": 49,
   "outputs": [],
   "source": [
    "# Get only description and category\n",
    "video_game_df = video_game_df.loc[:, [\"title\", \"description\", \"genres\", \"category\"]]"
   ],
   "metadata": {
    "collapsed": false,
    "ExecuteTime": {
     "end_time": "2023-09-13T15:23:44.449330600Z",
     "start_time": "2023-09-13T15:23:44.338587800Z"
    }
   },
   "id": "4454d4aa020e21d"
  },
  {
   "cell_type": "code",
   "execution_count": 50,
   "outputs": [],
   "source": [
    "# Get Random Slicing Data From Video Game DataFrame\n",
    "video_game_df = video_game_df.sample(n = slicing, random_state=42).reset_index(drop=True)"
   ],
   "metadata": {
    "collapsed": false,
    "ExecuteTime": {
     "end_time": "2023-09-13T15:23:45.732617500Z",
     "start_time": "2023-09-13T15:23:45.642718300Z"
    }
   },
   "id": "ee43813026d06e48"
  },
  {
   "cell_type": "code",
   "execution_count": 51,
   "outputs": [
    {
     "data": {
      "text/plain": "(9053, 4)"
     },
     "execution_count": 51,
     "metadata": {},
     "output_type": "execute_result"
    }
   ],
   "source": [
    "video_game_df.shape"
   ],
   "metadata": {
    "collapsed": false,
    "ExecuteTime": {
     "end_time": "2023-09-13T15:23:47.222704900Z",
     "start_time": "2023-09-13T15:23:47.129477300Z"
    }
   },
   "id": "869a1bf275961dc6"
  },
  {
   "cell_type": "code",
   "execution_count": 53,
   "outputs": [
    {
     "name": "stdout",
     "output_type": "stream",
     "text": [
      "Shape of the dataframe:  (9053, 4)\n",
      "The DataFrame: \n"
     ]
    },
    {
     "data": {
      "text/plain": "                    title                                        description  \\\n0        Treasure Girl 3D  “Treasure Girl” is our new game with 2 beautif...   \n1    Mini Car Money Chase  Race for big money while running away from the...   \n2    The Legend of Bum-Bo  'This Bum-bo game! it about time Bum-bo got co...   \n3                  Portal  Portal&trade; is a new single player game from...   \n4  Rescue To The PARALLEL  Collect allies and weapons in parallel worlds ...   \n\n                        genres category  \n0  Casual,Indie,RPG,Simulation     game  \n1         Action,Racing,Sports     game  \n2     Adventure,Indie,Strategy     game  \n3                       Action     game  \n4                       Action     game  ",
      "text/html": "<div>\n<style scoped>\n    .dataframe tbody tr th:only-of-type {\n        vertical-align: middle;\n    }\n\n    .dataframe tbody tr th {\n        vertical-align: top;\n    }\n\n    .dataframe thead th {\n        text-align: right;\n    }\n</style>\n<table border=\"1\" class=\"dataframe\">\n  <thead>\n    <tr style=\"text-align: right;\">\n      <th></th>\n      <th>title</th>\n      <th>description</th>\n      <th>genres</th>\n      <th>category</th>\n    </tr>\n  </thead>\n  <tbody>\n    <tr>\n      <th>0</th>\n      <td>Treasure Girl 3D</td>\n      <td>“Treasure Girl” is our new game with 2 beautif...</td>\n      <td>Casual,Indie,RPG,Simulation</td>\n      <td>game</td>\n    </tr>\n    <tr>\n      <th>1</th>\n      <td>Mini Car Money Chase</td>\n      <td>Race for big money while running away from the...</td>\n      <td>Action,Racing,Sports</td>\n      <td>game</td>\n    </tr>\n    <tr>\n      <th>2</th>\n      <td>The Legend of Bum-Bo</td>\n      <td>'This Bum-bo game! it about time Bum-bo got co...</td>\n      <td>Adventure,Indie,Strategy</td>\n      <td>game</td>\n    </tr>\n    <tr>\n      <th>3</th>\n      <td>Portal</td>\n      <td>Portal&amp;trade; is a new single player game from...</td>\n      <td>Action</td>\n      <td>game</td>\n    </tr>\n    <tr>\n      <th>4</th>\n      <td>Rescue To The PARALLEL</td>\n      <td>Collect allies and weapons in parallel worlds ...</td>\n      <td>Action</td>\n      <td>game</td>\n    </tr>\n  </tbody>\n</table>\n</div>"
     },
     "metadata": {},
     "output_type": "display_data"
    },
    {
     "name": "stdout",
     "output_type": "stream",
     "text": [
      "All Data Types: \n"
     ]
    },
    {
     "data": {
      "text/plain": "title          object\ndescription    object\ngenres         object\ncategory       object\ndtype: object"
     },
     "metadata": {},
     "output_type": "display_data"
    },
    {
     "name": "stdout",
     "output_type": "stream",
     "text": [
      "Null Values:\n"
     ]
    },
    {
     "data": {
      "text/plain": "title          0\ndescription    0\ngenres         0\ncategory       0\ndtype: int64"
     },
     "metadata": {},
     "output_type": "display_data"
    },
    {
     "name": "stdout",
     "output_type": "stream",
     "text": [
      "Duplicate Description Count:  0\n",
      "Duplicate Description Count:  0\n",
      "DataFrame Details:\n"
     ]
    },
    {
     "data": {
      "text/plain": "                   title                                        description  \\\ncount               9053                                               9053   \nunique              9053                                               9053   \ntop     Treasure Girl 3D  “Treasure Girl” is our new game with 2 beautif...   \nfreq                   1                                                  1   \n\n              genres category  \ncount           9053     9053  \nunique           846        1  \ntop     Casual,Indie     game  \nfreq             529     9053  ",
      "text/html": "<div>\n<style scoped>\n    .dataframe tbody tr th:only-of-type {\n        vertical-align: middle;\n    }\n\n    .dataframe tbody tr th {\n        vertical-align: top;\n    }\n\n    .dataframe thead th {\n        text-align: right;\n    }\n</style>\n<table border=\"1\" class=\"dataframe\">\n  <thead>\n    <tr style=\"text-align: right;\">\n      <th></th>\n      <th>title</th>\n      <th>description</th>\n      <th>genres</th>\n      <th>category</th>\n    </tr>\n  </thead>\n  <tbody>\n    <tr>\n      <th>count</th>\n      <td>9053</td>\n      <td>9053</td>\n      <td>9053</td>\n      <td>9053</td>\n    </tr>\n    <tr>\n      <th>unique</th>\n      <td>9053</td>\n      <td>9053</td>\n      <td>846</td>\n      <td>1</td>\n    </tr>\n    <tr>\n      <th>top</th>\n      <td>Treasure Girl 3D</td>\n      <td>“Treasure Girl” is our new game with 2 beautif...</td>\n      <td>Casual,Indie</td>\n      <td>game</td>\n    </tr>\n    <tr>\n      <th>freq</th>\n      <td>1</td>\n      <td>1</td>\n      <td>529</td>\n      <td>9053</td>\n    </tr>\n  </tbody>\n</table>\n</div>"
     },
     "metadata": {},
     "output_type": "display_data"
    }
   ],
   "source": [
    "get_df_info(video_game_df)"
   ],
   "metadata": {
    "collapsed": false,
    "ExecuteTime": {
     "end_time": "2023-09-13T15:23:55.465662200Z",
     "start_time": "2023-09-13T15:23:55.288191800Z"
    }
   },
   "id": "194936dd68fe2ddd"
  },
  {
   "cell_type": "markdown",
   "source": [
    "# Combine All The Dataframes"
   ],
   "metadata": {
    "collapsed": false
   },
   "id": "1d2ae23cb03cd34f"
  },
  {
   "cell_type": "code",
   "execution_count": 54,
   "outputs": [],
   "source": [
    "def get_combined_df(df_list):\n",
    "    combined_df = pd.concat(df_list, axis=0)\n",
    "    combined_df = combined_df.sample(frac=1, random_state=42).reset_index(drop=True)\n",
    "    return combined_df"
   ],
   "metadata": {
    "collapsed": false,
    "ExecuteTime": {
     "end_time": "2023-09-13T15:24:14.199654500Z",
     "start_time": "2023-09-13T15:24:14.142532Z"
    }
   },
   "id": "c15dbd98d5b90172"
  },
  {
   "cell_type": "code",
   "execution_count": 55,
   "outputs": [],
   "source": [
    "entertainment_df_list = [anime_df, book_df, movie_df, music_df, tv_show_df, video_game_df]"
   ],
   "metadata": {
    "collapsed": false,
    "ExecuteTime": {
     "end_time": "2023-09-13T15:24:16.324547800Z",
     "start_time": "2023-09-13T15:24:16.248565100Z"
    }
   },
   "id": "6c8441a0e638a443"
  },
  {
   "cell_type": "code",
   "execution_count": 56,
   "outputs": [],
   "source": [
    "entertainment_df = get_combined_df(entertainment_df_list)"
   ],
   "metadata": {
    "collapsed": false,
    "ExecuteTime": {
     "end_time": "2023-09-13T15:24:17.466907700Z",
     "start_time": "2023-09-13T15:24:17.356020Z"
    }
   },
   "id": "285545e0ce48deef"
  },
  {
   "cell_type": "code",
   "execution_count": 57,
   "outputs": [],
   "source": [
    "# Drop Duplicates\n",
    "entertainment_df = entertainment_df.drop_duplicates(subset=\"title\", keep=\"first\")\n",
    "entertainment_df = entertainment_df.drop_duplicates(subset=\"description\", keep=\"first\")"
   ],
   "metadata": {
    "collapsed": false,
    "ExecuteTime": {
     "end_time": "2023-09-13T15:24:19.017562900Z",
     "start_time": "2023-09-13T15:24:18.923745700Z"
    }
   },
   "id": "fa358100d2874e16"
  },
  {
   "cell_type": "code",
   "execution_count": 58,
   "outputs": [
    {
     "name": "stdout",
     "output_type": "stream",
     "text": [
      "Shape of the dataframe:  (48120, 4)\n",
      "The DataFrame: \n"
     ]
    },
    {
     "data": {
      "text/plain": "                                title  \\\n0  Season of Blood: A Rwandan Journey   \n1                        Echo Burning   \n2                     Yu-Gi-Oh! Arc-V   \n3                       Krazanas bude   \n4               Cells at Work Special   \n\n                                         description  \\\n0  When President Habyarimana’s jet was shot down...   \n1  Hitching rides is an unreliable mode of transp...   \n2  Yu-Gi-Oh! Arc-V is the fourth main spin-off of...   \n3  A social drama about the careless exploitation...   \n4  For the regular cells of the human body, life ...   \n\n                                              genres category  \n0  Nonfiction, Cultural, Africa, History, Eastern...     book  \n1         Thriller, Fiction, Mystery, Mystery, Crime     book  \n2          action, scifi, comedy, fantasy, animation  tv show  \n3                                       Drama, Crime    movie  \n4                                             Comedy    anime  ",
      "text/html": "<div>\n<style scoped>\n    .dataframe tbody tr th:only-of-type {\n        vertical-align: middle;\n    }\n\n    .dataframe tbody tr th {\n        vertical-align: top;\n    }\n\n    .dataframe thead th {\n        text-align: right;\n    }\n</style>\n<table border=\"1\" class=\"dataframe\">\n  <thead>\n    <tr style=\"text-align: right;\">\n      <th></th>\n      <th>title</th>\n      <th>description</th>\n      <th>genres</th>\n      <th>category</th>\n    </tr>\n  </thead>\n  <tbody>\n    <tr>\n      <th>0</th>\n      <td>Season of Blood: A Rwandan Journey</td>\n      <td>When President Habyarimana’s jet was shot down...</td>\n      <td>Nonfiction, Cultural, Africa, History, Eastern...</td>\n      <td>book</td>\n    </tr>\n    <tr>\n      <th>1</th>\n      <td>Echo Burning</td>\n      <td>Hitching rides is an unreliable mode of transp...</td>\n      <td>Thriller, Fiction, Mystery, Mystery, Crime</td>\n      <td>book</td>\n    </tr>\n    <tr>\n      <th>2</th>\n      <td>Yu-Gi-Oh! Arc-V</td>\n      <td>Yu-Gi-Oh! Arc-V is the fourth main spin-off of...</td>\n      <td>action, scifi, comedy, fantasy, animation</td>\n      <td>tv show</td>\n    </tr>\n    <tr>\n      <th>3</th>\n      <td>Krazanas bude</td>\n      <td>A social drama about the careless exploitation...</td>\n      <td>Drama, Crime</td>\n      <td>movie</td>\n    </tr>\n    <tr>\n      <th>4</th>\n      <td>Cells at Work Special</td>\n      <td>For the regular cells of the human body, life ...</td>\n      <td>Comedy</td>\n      <td>anime</td>\n    </tr>\n  </tbody>\n</table>\n</div>"
     },
     "metadata": {},
     "output_type": "display_data"
    },
    {
     "name": "stdout",
     "output_type": "stream",
     "text": [
      "All Data Types: \n"
     ]
    },
    {
     "data": {
      "text/plain": "title          object\ndescription    object\ngenres         object\ncategory       object\ndtype: object"
     },
     "metadata": {},
     "output_type": "display_data"
    },
    {
     "name": "stdout",
     "output_type": "stream",
     "text": [
      "Null Values:\n"
     ]
    },
    {
     "data": {
      "text/plain": "title           0\ndescription     0\ngenres         34\ncategory        0\ndtype: int64"
     },
     "metadata": {},
     "output_type": "display_data"
    },
    {
     "name": "stdout",
     "output_type": "stream",
     "text": [
      "Duplicate Description Count:  0\n",
      "Duplicate Description Count:  0\n",
      "DataFrame Details:\n"
     ]
    },
    {
     "data": {
      "text/plain": "                                     title  \\\ncount                                48120   \nunique                               48120   \ntop     Season of Blood: A Rwandan Journey   \nfreq                                     1   \n\n                                              description genres category  \ncount                                               48120  48086    48120  \nunique                                              48120  10508        6  \ntop     When President Habyarimana’s jet was shot down...    pop    music  \nfreq                                                    1   3674     9048  ",
      "text/html": "<div>\n<style scoped>\n    .dataframe tbody tr th:only-of-type {\n        vertical-align: middle;\n    }\n\n    .dataframe tbody tr th {\n        vertical-align: top;\n    }\n\n    .dataframe thead th {\n        text-align: right;\n    }\n</style>\n<table border=\"1\" class=\"dataframe\">\n  <thead>\n    <tr style=\"text-align: right;\">\n      <th></th>\n      <th>title</th>\n      <th>description</th>\n      <th>genres</th>\n      <th>category</th>\n    </tr>\n  </thead>\n  <tbody>\n    <tr>\n      <th>count</th>\n      <td>48120</td>\n      <td>48120</td>\n      <td>48086</td>\n      <td>48120</td>\n    </tr>\n    <tr>\n      <th>unique</th>\n      <td>48120</td>\n      <td>48120</td>\n      <td>10508</td>\n      <td>6</td>\n    </tr>\n    <tr>\n      <th>top</th>\n      <td>Season of Blood: A Rwandan Journey</td>\n      <td>When President Habyarimana’s jet was shot down...</td>\n      <td>pop</td>\n      <td>music</td>\n    </tr>\n    <tr>\n      <th>freq</th>\n      <td>1</td>\n      <td>1</td>\n      <td>3674</td>\n      <td>9048</td>\n    </tr>\n  </tbody>\n</table>\n</div>"
     },
     "metadata": {},
     "output_type": "display_data"
    }
   ],
   "source": [
    "get_df_info(entertainment_df)"
   ],
   "metadata": {
    "collapsed": false,
    "ExecuteTime": {
     "end_time": "2023-09-13T15:24:21.189553400Z",
     "start_time": "2023-09-13T15:24:20.870797Z"
    }
   },
   "id": "d19cee4bbf9a26f1"
  },
  {
   "cell_type": "markdown",
   "source": [
    "# Remove Language Except English"
   ],
   "metadata": {
    "collapsed": false
   },
   "id": "e69630d3973d1635"
  },
  {
   "cell_type": "code",
   "execution_count": 59,
   "outputs": [],
   "source": [
    "entertainment_df = entertainment_df[entertainment_df[\"title\"].apply(detect_language)]"
   ],
   "metadata": {
    "collapsed": false,
    "ExecuteTime": {
     "end_time": "2023-09-13T15:33:00.799897200Z",
     "start_time": "2023-09-13T15:25:06.323926900Z"
    }
   },
   "id": "c662f0a55122183e"
  },
  {
   "cell_type": "code",
   "execution_count": 60,
   "outputs": [],
   "source": [
    "entertainment_df = entertainment_df.reset_index(drop=True)"
   ],
   "metadata": {
    "collapsed": false,
    "ExecuteTime": {
     "end_time": "2023-09-13T15:34:30.153354600Z",
     "start_time": "2023-09-13T15:34:30.064380900Z"
    }
   },
   "id": "e4df1751bba5634c"
  },
  {
   "cell_type": "code",
   "execution_count": 61,
   "outputs": [],
   "source": [
    "entertainment_df = entertainment_df[entertainment_df[\"description\"].apply(detect_language)]"
   ],
   "metadata": {
    "collapsed": false,
    "ExecuteTime": {
     "end_time": "2023-09-13T15:36:46.102332Z",
     "start_time": "2023-09-13T15:34:32.360639500Z"
    }
   },
   "id": "8553e336351f1bda"
  },
  {
   "cell_type": "code",
   "execution_count": 62,
   "outputs": [],
   "source": [
    "entertainment_df = entertainment_df.reset_index(drop=True)"
   ],
   "metadata": {
    "collapsed": false,
    "ExecuteTime": {
     "end_time": "2023-09-13T15:37:05.890545500Z",
     "start_time": "2023-09-13T15:37:05.791339700Z"
    }
   },
   "id": "42089f3ba040f193"
  },
  {
   "cell_type": "code",
   "execution_count": 66,
   "outputs": [],
   "source": [
    "entertainment_df =entertainment_df.dropna(axis=0, how=\"any\")"
   ],
   "metadata": {
    "collapsed": false,
    "ExecuteTime": {
     "end_time": "2023-09-13T15:42:41.709649400Z",
     "start_time": "2023-09-13T15:42:41.610285800Z"
    }
   },
   "id": "678ed70a22cc3de7"
  },
  {
   "cell_type": "code",
   "execution_count": 67,
   "outputs": [
    {
     "name": "stdout",
     "output_type": "stream",
     "text": [
      "Shape of the dataframe:  (24877, 4)\n",
      "The DataFrame: \n"
     ]
    },
    {
     "data": {
      "text/plain": "                                title  \\\n0  Season of Blood: A Rwandan Journey   \n1                        Echo Burning   \n2               Cells at Work Special   \n3                      Make Your Move   \n4                       Guilty Parade   \n\n                                         description  \\\n0  When President Habyarimana’s jet was shot down...   \n1  Hitching rides is an unreliable mode of transp...   \n2  For the regular cells of the human body, life ...   \n3  A pair of star-crossed dancers in New York fin...   \n4  Guilty Parade is an interactive Visual Novel w...   \n\n                                              genres category  \n0  Nonfiction, Cultural, Africa, History, Eastern...     book  \n1         Thriller, Fiction, Mystery, Mystery, Crime     book  \n2                                             Comedy    anime  \n3                            Drama, Musical, Romance    movie  \n4                                          Adventure     game  ",
      "text/html": "<div>\n<style scoped>\n    .dataframe tbody tr th:only-of-type {\n        vertical-align: middle;\n    }\n\n    .dataframe tbody tr th {\n        vertical-align: top;\n    }\n\n    .dataframe thead th {\n        text-align: right;\n    }\n</style>\n<table border=\"1\" class=\"dataframe\">\n  <thead>\n    <tr style=\"text-align: right;\">\n      <th></th>\n      <th>title</th>\n      <th>description</th>\n      <th>genres</th>\n      <th>category</th>\n    </tr>\n  </thead>\n  <tbody>\n    <tr>\n      <th>0</th>\n      <td>Season of Blood: A Rwandan Journey</td>\n      <td>When President Habyarimana’s jet was shot down...</td>\n      <td>Nonfiction, Cultural, Africa, History, Eastern...</td>\n      <td>book</td>\n    </tr>\n    <tr>\n      <th>1</th>\n      <td>Echo Burning</td>\n      <td>Hitching rides is an unreliable mode of transp...</td>\n      <td>Thriller, Fiction, Mystery, Mystery, Crime</td>\n      <td>book</td>\n    </tr>\n    <tr>\n      <th>2</th>\n      <td>Cells at Work Special</td>\n      <td>For the regular cells of the human body, life ...</td>\n      <td>Comedy</td>\n      <td>anime</td>\n    </tr>\n    <tr>\n      <th>3</th>\n      <td>Make Your Move</td>\n      <td>A pair of star-crossed dancers in New York fin...</td>\n      <td>Drama, Musical, Romance</td>\n      <td>movie</td>\n    </tr>\n    <tr>\n      <th>4</th>\n      <td>Guilty Parade</td>\n      <td>Guilty Parade is an interactive Visual Novel w...</td>\n      <td>Adventure</td>\n      <td>game</td>\n    </tr>\n  </tbody>\n</table>\n</div>"
     },
     "metadata": {},
     "output_type": "display_data"
    },
    {
     "name": "stdout",
     "output_type": "stream",
     "text": [
      "All Data Types: \n"
     ]
    },
    {
     "data": {
      "text/plain": "title          object\ndescription    object\ngenres         object\ncategory       object\ndtype: object"
     },
     "metadata": {},
     "output_type": "display_data"
    },
    {
     "name": "stdout",
     "output_type": "stream",
     "text": [
      "Null Values:\n"
     ]
    },
    {
     "data": {
      "text/plain": "title          0\ndescription    0\ngenres         0\ncategory       0\ndtype: int64"
     },
     "metadata": {},
     "output_type": "display_data"
    },
    {
     "name": "stdout",
     "output_type": "stream",
     "text": [
      "Duplicate Description Count:  0\n",
      "Duplicate Description Count:  0\n",
      "DataFrame Details:\n"
     ]
    },
    {
     "data": {
      "text/plain": "                                     title  \\\ncount                                24877   \nunique                               24877   \ntop     Season of Blood: A Rwandan Journey   \nfreq                                     1   \n\n                                              description genres category  \ncount                                               24877  24877    24877  \nunique                                              24877   7328        6  \ntop     When President Habyarimana’s jet was shot down...    pop     book  \nfreq                                                    1   1004     5877  ",
      "text/html": "<div>\n<style scoped>\n    .dataframe tbody tr th:only-of-type {\n        vertical-align: middle;\n    }\n\n    .dataframe tbody tr th {\n        vertical-align: top;\n    }\n\n    .dataframe thead th {\n        text-align: right;\n    }\n</style>\n<table border=\"1\" class=\"dataframe\">\n  <thead>\n    <tr style=\"text-align: right;\">\n      <th></th>\n      <th>title</th>\n      <th>description</th>\n      <th>genres</th>\n      <th>category</th>\n    </tr>\n  </thead>\n  <tbody>\n    <tr>\n      <th>count</th>\n      <td>24877</td>\n      <td>24877</td>\n      <td>24877</td>\n      <td>24877</td>\n    </tr>\n    <tr>\n      <th>unique</th>\n      <td>24877</td>\n      <td>24877</td>\n      <td>7328</td>\n      <td>6</td>\n    </tr>\n    <tr>\n      <th>top</th>\n      <td>Season of Blood: A Rwandan Journey</td>\n      <td>When President Habyarimana’s jet was shot down...</td>\n      <td>pop</td>\n      <td>book</td>\n    </tr>\n    <tr>\n      <th>freq</th>\n      <td>1</td>\n      <td>1</td>\n      <td>1004</td>\n      <td>5877</td>\n    </tr>\n  </tbody>\n</table>\n</div>"
     },
     "metadata": {},
     "output_type": "display_data"
    }
   ],
   "source": [
    "get_df_info(entertainment_df)"
   ],
   "metadata": {
    "collapsed": false,
    "ExecuteTime": {
     "end_time": "2023-09-13T15:42:43.093876Z",
     "start_time": "2023-09-13T15:42:42.994624500Z"
    }
   },
   "id": "24f49820ebd54b5d"
  },
  {
   "cell_type": "code",
   "execution_count": 68,
   "outputs": [
    {
     "data": {
      "text/plain": "category\nbook       5877\nanime      5609\ngame       4628\nmovie      4215\nmusic      2557\ntv show    1991\nName: count, dtype: int64"
     },
     "execution_count": 68,
     "metadata": {},
     "output_type": "execute_result"
    }
   ],
   "source": [
    "entertainment_df[\"category\"].value_counts()"
   ],
   "metadata": {
    "collapsed": false,
    "ExecuteTime": {
     "end_time": "2023-09-13T15:42:47.287736200Z",
     "start_time": "2023-09-13T15:42:47.202772700Z"
    }
   },
   "id": "141adbb2b1e0a8ee"
  },
  {
   "cell_type": "markdown",
   "source": [
    "# DataFrame To CSV"
   ],
   "metadata": {
    "collapsed": false
   },
   "id": "b01b94f63049982b"
  },
  {
   "cell_type": "code",
   "execution_count": 69,
   "outputs": [],
   "source": [
    "def write_dataframe_to_csv(path, dataframe):\n",
    "    if os.path.exists(path):\n",
    "        print(f\"The file already exists ...! [Find the file in the location '{path}']\")\n",
    "    else:\n",
    "        dataframe.to_csv(path, index=False)\n",
    "        print(\"Dataframe saved successfully: \", path)"
   ],
   "metadata": {
    "collapsed": false,
    "ExecuteTime": {
     "end_time": "2023-09-13T15:45:07.148080900Z",
     "start_time": "2023-09-13T15:45:06.977649300Z"
    }
   },
   "id": "90d503a24163d30d"
  },
  {
   "cell_type": "code",
   "execution_count": 70,
   "outputs": [],
   "source": [
    "file_path = \"../../data/processed/title/title_generation.csv\""
   ],
   "metadata": {
    "collapsed": false,
    "ExecuteTime": {
     "end_time": "2023-09-13T15:46:30.720772800Z",
     "start_time": "2023-09-13T15:46:30.597144500Z"
    }
   },
   "id": "b3239f0abff6d3de"
  },
  {
   "cell_type": "code",
   "execution_count": 71,
   "outputs": [
    {
     "name": "stdout",
     "output_type": "stream",
     "text": [
      "Dataframe saved successfully:  ../../data/processed/title/title_generation.csv\n"
     ]
    }
   ],
   "source": [
    "write_dataframe_to_csv(file_path, entertainment_df)"
   ],
   "metadata": {
    "collapsed": false,
    "ExecuteTime": {
     "end_time": "2023-09-13T15:46:47.010830300Z",
     "start_time": "2023-09-13T15:46:45.053745600Z"
    }
   },
   "id": "7c39729569173513"
  }
 ],
 "metadata": {
  "kernelspec": {
   "display_name": "Python 3",
   "language": "python",
   "name": "python3"
  },
  "language_info": {
   "codemirror_mode": {
    "name": "ipython",
    "version": 2
   },
   "file_extension": ".py",
   "mimetype": "text/x-python",
   "name": "python",
   "nbconvert_exporter": "python",
   "pygments_lexer": "ipython2",
   "version": "2.7.6"
  }
 },
 "nbformat": 4,
 "nbformat_minor": 5
}
